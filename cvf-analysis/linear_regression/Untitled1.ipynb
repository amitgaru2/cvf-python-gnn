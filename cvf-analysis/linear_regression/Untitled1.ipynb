{
 "cells": [
  {
   "cell_type": "code",
   "execution_count": 1,
   "id": "a0602994-d1e3-4991-9ae7-769774e5c7b2",
   "metadata": {},
   "outputs": [],
   "source": [
    "import numpy as np"
   ]
  },
  {
   "cell_type": "code",
   "execution_count": 9,
   "id": "6276e1d7-051b-449a-824b-3000ebdd5b7e",
   "metadata": {},
   "outputs": [],
   "source": [
    "slope_step = 0.025\n",
    "slope_step_decimals = 3"
   ]
  },
  {
   "cell_type": "code",
   "execution_count": 10,
   "id": "3cfe2cb2-ef43-47c9-b285-dd2a5a37d3e8",
   "metadata": {},
   "outputs": [],
   "source": [
    "def clean_float_to_step_size_single(slope):\n",
    "    quotient = np.divide(slope, slope_step)\n",
    "    if quotient == int(quotient):\n",
    "        return np.round(slope, slope_step_decimals)\n",
    "    return np.round(np.int64(quotient) * slope_step, slope_step_decimals)\n"
   ]
  },
  {
   "cell_type": "code",
   "execution_count": 14,
   "id": "28e417cf-5d77-4efb-9eb4-9343cd648f5f",
   "metadata": {},
   "outputs": [
    {
     "data": {
      "text/plain": [
       "np.float64(1.85)"
      ]
     },
     "execution_count": 14,
     "metadata": {},
     "output_type": "execute_result"
    }
   ],
   "source": [
    "clean_float_to_step_size_single(1.8733333)"
   ]
  },
  {
   "cell_type": "code",
   "execution_count": null,
   "id": "c584e4be-bcca-4358-b02d-7263854e1de3",
   "metadata": {},
   "outputs": [],
   "source": []
  }
 ],
 "metadata": {
  "kernelspec": {
   "display_name": "Python 3 (ipykernel)",
   "language": "python",
   "name": "python3"
  },
  "language_info": {
   "codemirror_mode": {
    "name": "ipython",
    "version": 3
   },
   "file_extension": ".py",
   "mimetype": "text/x-python",
   "name": "python",
   "nbconvert_exporter": "python",
   "pygments_lexer": "ipython3",
   "version": "3.12.4"
  }
 },
 "nbformat": 4,
 "nbformat_minor": 5
}
