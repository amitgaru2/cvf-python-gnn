{
 "cells": [
  {
   "cell_type": "code",
   "execution_count": 1,
   "id": "52d107db-89ca-476c-8839-50bafaf70b41",
   "metadata": {},
   "outputs": [],
   "source": [
    "import pandas as pd\n",
    "import numpy as np"
   ]
  },
  {
   "cell_type": "code",
   "execution_count": 2,
   "id": "60c10706-8fb0-48ac-969f-fd9b8673ed19",
   "metadata": {},
   "outputs": [],
   "source": [
    "from algorithm_gd import *"
   ]
  },
  {
   "cell_type": "code",
   "execution_count": 3,
   "id": "738d9879-fe99-461f-834c-d0d93072db5f",
   "metadata": {},
   "outputs": [],
   "source": [
    "df = pd.read_csv(\"random-data.csv\")"
   ]
  },
  {
   "cell_type": "code",
   "execution_count": 4,
   "id": "b113ab02-d404-4d3c-a22a-c20173356426",
   "metadata": {},
   "outputs": [],
   "source": [
    "X = df['X'].array\n",
    "y = df['y'].array"
   ]
  },
  {
   "cell_type": "code",
   "execution_count": 5,
   "id": "e650d4f6-d6c4-4bc0-af11-b30aa268367a",
   "metadata": {},
   "outputs": [],
   "source": [
    "def get_adjusted_value(value):\n",
    "    if value > max_slope:\n",
    "        return max_slope\n",
    "\n",
    "    if value < min_slope:\n",
    "        return min_slope\n",
    "\n",
    "    result = value\n",
    "\n",
    "    if result / slope_step != 0:\n",
    "        result = (result // slope_step) * slope_step\n",
    "\n",
    "    if (value - result) > slope_step / 2:\n",
    "        result = result + slope_step\n",
    "\n",
    "    return result"
   ]
  },
  {
   "cell_type": "code",
   "execution_count": 6,
   "id": "14e52280-c2bc-4abb-8e53-0e48aef4bbdf",
   "metadata": {},
   "outputs": [],
   "source": [
    "slope_step_decimals = 1\n",
    "slope_step = 1 / (10 ** slope_step_decimals)\n",
    "min_slope = 0\n",
    "max_slope = 1.0"
   ]
  },
  {
   "cell_type": "code",
   "execution_count": 7,
   "id": "3e7d49c4-c792-4c66-8cdc-c28d907cd1fc",
   "metadata": {},
   "outputs": [],
   "source": [
    "doubly_stochastic_matrix_config = [\n",
    "    [2 / 3, 1 / 6, 1 / 6],\n",
    "    [1 / 6, 1 / 6, 2 / 3],\n",
    "    [1 / 6, 2 / 3, 1 / 6],\n",
    "]"
   ]
  },
  {
   "cell_type": "code",
   "execution_count": 31,
   "id": "bb6efd04-21c4-4804-bc77-c9b1bdcd0024",
   "metadata": {},
   "outputs": [
    {
     "data": {
      "text/plain": [
       "0.9187989999999999"
      ]
     },
     "execution_count": 31,
     "metadata": {},
     "output_type": "execute_result"
    }
   ],
   "source": [
    "start_state = (0.9, 0.9, 0.9)\n",
    "operating_node = 2\n",
    "doubly_st_mt = doubly_stochastic_matrix_config[operating_node]\n",
    "y_pred = forward(X, {\"m\": start_state[operating_node], \"c\": 0})\n",
    "# grad_m = gradient_m(X, y, y_pred)\n",
    "grad_m = -18.799\n",
    "# print(grad_m)\n",
    "sub = 0.001*grad_m\n",
    "add = sum(frac * start_state[i] for i, frac in enumerate(doubly_st_mt))\n",
    "m = add - sub\n",
    "m"
   ]
  },
  {
   "cell_type": "code",
   "execution_count": 9,
   "id": "78a9a5f5-3707-419c-9d7f-615c87908c10",
   "metadata": {},
   "outputs": [
    {
     "data": {
      "text/plain": [
       "np.float64(1.0)"
      ]
     },
     "execution_count": 9,
     "metadata": {},
     "output_type": "execute_result"
    }
   ],
   "source": [
    "ad_m = get_adjusted_value(m)\n",
    "ad_m = np.round(ad_m, slope_step_decimals)\n",
    "ad_m"
   ]
  },
  {
   "cell_type": "code",
   "execution_count": 10,
   "id": "c1b415fe-c80b-49c6-8db5-d376f40f1f7c",
   "metadata": {},
   "outputs": [],
   "source": [
    "def __get_next_near_convergence_value(original_value, calculated_value, adjusted_value):\n",
    "    if calculated_value > original_value:\n",
    "        return original_value + slope_step\n",
    "    elif calculated_value < original_value:\n",
    "        return original_value - slope_step\n",
    "    return adjusted_value"
   ]
  },
  {
   "cell_type": "code",
   "execution_count": 11,
   "id": "6d0c7c99-0fb0-4292-bfd2-14ae94fbdcd0",
   "metadata": {},
   "outputs": [
    {
     "data": {
      "text/plain": [
       "0.9"
      ]
     },
     "execution_count": 11,
     "metadata": {},
     "output_type": "execute_result"
    }
   ],
   "source": [
    "__get_next_near_convergence_value(start_state[operating_node], 0.8914666666666666, ad_m)"
   ]
  },
  {
   "cell_type": "code",
   "execution_count": null,
   "id": "47190f1d-4a83-41f7-bb5e-0b32465da8bf",
   "metadata": {},
   "outputs": [],
   "source": []
  }
 ],
 "metadata": {
  "kernelspec": {
   "display_name": "Python 3 (ipykernel)",
   "language": "python",
   "name": "python3"
  },
  "language_info": {
   "codemirror_mode": {
    "name": "ipython",
    "version": 3
   },
   "file_extension": ".py",
   "mimetype": "text/x-python",
   "name": "python",
   "nbconvert_exporter": "python",
   "pygments_lexer": "ipython3",
   "version": "3.12.4"
  }
 },
 "nbformat": 4,
 "nbformat_minor": 5
}
