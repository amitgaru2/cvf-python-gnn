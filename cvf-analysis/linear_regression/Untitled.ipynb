{
 "cells": [
  {
   "cell_type": "code",
   "execution_count": 1,
   "id": "b74d925b-cb33-4f87-9b5c-f48b6d20dddb",
   "metadata": {},
   "outputs": [],
   "source": [
    "doubly_stochastic_matrix_config = [\n",
    "    [2/3, 1/6, 1/6],\n",
    "    [1/6, 1/6, 2/3],\n",
    "    [1/6, 2/3, 1/6]\n",
    "]"
   ]
  },
  {
   "cell_type": "code",
   "execution_count": 2,
   "id": "26cbb13f-6574-4d17-86e4-c0d8f1766f58",
   "metadata": {},
   "outputs": [],
   "source": [
    "step = 0.1"
   ]
  },
  {
   "cell_type": "code",
   "execution_count": 3,
   "id": "44321dfb-9e00-472f-86e1-755e99f073ec",
   "metadata": {},
   "outputs": [],
   "source": [
    "L = 0.001"
   ]
  },
  {
   "cell_type": "code",
   "execution_count": 5,
   "id": "f05bdb8d-cb90-40d4-9ea0-9db1fb74cd3e",
   "metadata": {},
   "outputs": [],
   "source": [
    "m = [0.8, 0.8, 0.8]"
   ]
  },
  {
   "cell_type": "code",
   "execution_count": 6,
   "id": "ccc79202-fcc5-4692-819b-92bf69eb241e",
   "metadata": {},
   "outputs": [],
   "source": [
    "operating_node = 0"
   ]
  },
  {
   "cell_type": "code",
   "execution_count": 9,
   "id": "871033b3-d368-4214-ad74-4f46e4a955c5",
   "metadata": {},
   "outputs": [
    {
     "data": {
      "text/plain": [
       "(-5.551115123125783e-17, 0.001)"
      ]
     },
     "execution_count": 9,
     "metadata": {},
     "output_type": "execute_result"
    }
   ],
   "source": [
    "frac = doubly_stochastic_matrix_config[operating_node]\n",
    "\n",
    "numerator = (frac[operating_node] - 1) * m[operating_node]\n",
    "denominator = L\n",
    "\n",
    "for i in set(range(len(m))) - {operating_node}:\n",
    "    numerator += frac[i] * m[i]\n",
    "\n",
    "numerator, denominator"
   ]
  },
  {
   "cell_type": "code",
   "execution_count": 15,
   "id": "160c524d-3428-4bf6-94b3-d20a43b49c8c",
   "metadata": {},
   "outputs": [
    {
     "data": {
      "text/plain": [
       "(9.999999999999995, -10.000000000000005)"
      ]
     },
     "execution_count": 15,
     "metadata": {},
     "output_type": "execute_result"
    }
   ],
   "source": [
    "grad_m_node_p_step = (numerator + step)/(10*denominator)\n",
    "grad_m_node_m_step = (numerator - step)/(10*denominator)\n",
    "\n",
    "grad_m_node_p_step, grad_m_node_m_step"
   ]
  },
  {
   "cell_type": "code",
   "execution_count": 16,
   "id": "b559f011-7690-4f0c-86f5-6b53f62eeb39",
   "metadata": {},
   "outputs": [
    {
     "data": {
      "text/plain": [
       "(99.99999999999994, -100.00000000000006)"
      ]
     },
     "execution_count": 16,
     "metadata": {},
     "output_type": "execute_result"
    }
   ],
   "source": [
    "grad_m_node_p_step = (numerator + step)/denominator\n",
    "grad_m_node_m_step = (numerator - step)/denominator\n",
    "\n",
    "grad_m_node_p_step, grad_m_node_m_step"
   ]
  },
  {
   "cell_type": "code",
   "execution_count": null,
   "id": "acc0fb08-ab6d-43f8-b383-521f25ef9d86",
   "metadata": {},
   "outputs": [],
   "source": []
  }
 ],
 "metadata": {
  "kernelspec": {
   "display_name": "Python 3 (ipykernel)",
   "language": "python",
   "name": "python3"
  },
  "language_info": {
   "codemirror_mode": {
    "name": "ipython",
    "version": 3
   },
   "file_extension": ".py",
   "mimetype": "text/x-python",
   "name": "python",
   "nbconvert_exporter": "python",
   "pygments_lexer": "ipython3",
   "version": "3.12.4"
  }
 },
 "nbformat": 4,
 "nbformat_minor": 5
}
