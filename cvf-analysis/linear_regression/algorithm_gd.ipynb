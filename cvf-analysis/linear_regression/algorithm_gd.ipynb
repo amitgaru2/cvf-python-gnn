{
 "cells": [
  {
   "cell_type": "code",
   "execution_count": 1,
   "id": "11f80725-c4ff-4d28-9efd-d77f03891597",
   "metadata": {},
   "outputs": [],
   "source": [
    "import pandas as pd\n",
    "import seaborn as sns"
   ]
  },
  {
   "cell_type": "code",
   "execution_count": 1,
   "id": "56dd4a2a-0b63-466c-9a2e-5a5e63acc23c",
   "metadata": {},
   "outputs": [],
   "source": []
  },
  {
   "cell_type": "code",
   "execution_count": 2,
   "id": "04a8a123-8383-4119-a768-9d64df9e5a37",
   "metadata": {},
   "outputs": [],
   "source": [
    "actual_m = 10\n",
    "actual_c = 20\n",
    "\n",
    "x = [1, 2, 3, 4, 5]\n",
    "y = [actual_m * i + actual_c for i in x]\n",
    "y\n",
    "\n",
    "# x = [1, 2, 3, 4, 5, 6, 7, 8, 9, 10, 11, 12]\n",
    "# y = [2, 1, 2, 1, 7, 6, 7, 6, 12, 11, 12, 11]\n",
    "\n",
    "x = [1, 1, 1, 2, 2, 2, 3, 3, 3,  5, 5, 5, 6,6, 6, 7,7, 7,  9, 9, 9, 10, 10, 10, 11, 11, 11]\n",
    "y = [2, 1.5, 1.1, 2, 1.5, 1, 2, 1.5, 1,  7, 6.5, 6, 7, 6.5, 6, 7, 6.5, 6,  12, 11.5, 11, 12, 11.5, 11, 12, 11.5, 11]"
   ]
  },
  {
   "cell_type": "code",
   "execution_count": 3,
   "id": "c26aff09-603d-488f-a8b3-1f41a322aba1",
   "metadata": {},
   "outputs": [
    {
     "data": {
      "text/plain": [
       "Text(0, 0.5, 'Y')"
      ]
     },
     "execution_count": 3,
     "metadata": {},
     "output_type": "execute_result"
    },
    {
     "data": {
      "image/png": "[encoded data removed]",
      "text/plain": [
       "<Figure size 640x480 with 1 Axes>"
      ]
     },
     "metadata": {},
     "output_type": "display_data"
    }
   ],
   "source": [
    "ax = sns.scatterplot(x=x, y=y)\n",
    "ax.set_xlabel(\"X\")\n",
    "ax.set_ylabel(\"Y\")"
   ]
  },
  {
   "cell_type": "code",
   "execution_count": 4,
   "id": "5b6d8ebe-b276-42b2-b933-c78e41c6d1c8",
   "metadata": {},
   "outputs": [
    {
     "data": {
      "text/plain": [
       "6.503703703703703"
      ]
     },
     "execution_count": 4,
     "metadata": {},
     "output_type": "execute_result"
    }
   ],
   "source": [
    "y_mean = sum(y)/len(y)\n",
    "y_mean"
   ]
  },
  {
   "cell_type": "code",
   "execution_count": 5,
   "id": "76bc1335-c5a8-41ae-baf7-a1691a72a4bf",
   "metadata": {},
   "outputs": [],
   "source": [
    "m = 0 # random guess\n",
    "c = 0 # random guess"
   ]
  },
  {
   "cell_type": "code",
   "execution_count": 6,
   "id": "89cc1921-9798-4cf9-bbb9-91dc1038566f",
   "metadata": {},
   "outputs": [],
   "source": [
    "iterations = 1000"
   ]
  },
  {
   "cell_type": "code",
   "execution_count": 7,
   "id": "70f33896-908b-4eb1-a550-f77641e7fdb8",
   "metadata": {},
   "outputs": [
    {
     "data": {
      "text/plain": [
       "27"
      ]
     },
     "execution_count": 7,
     "metadata": {},
     "output_type": "execute_result"
    }
   ],
   "source": [
    "N = len(x)\n",
    "N"
   ]
  },
  {
   "cell_type": "code",
   "execution_count": 8,
   "id": "1e2b81c8-1052-47b2-8528-f57a9f3f54d9",
   "metadata": {},
   "outputs": [],
   "source": [
    "L = 0.001 # learning rate"
   ]
  },
  {
   "cell_type": "code",
   "execution_count": 9,
   "id": "19a3f738-3108-4b6c-a07b-289c44d0711b",
   "metadata": {},
   "outputs": [],
   "source": [
    "def forward():\n",
    "    return [m * i + c for i in x]"
   ]
  },
  {
   "cell_type": "code",
   "execution_count": 10,
   "id": "d954c1c0-95b6-43ef-b175-b05ea6772320",
   "metadata": {},
   "outputs": [],
   "source": [
    "def loss_fn(y_pred):\n",
    "    return (1 / N) * sum( (y[i] - y_pred[i]) ** 2 for i in range(N) )"
   ]
  },
  {
   "cell_type": "code",
   "execution_count": 11,
   "id": "78b5e3d7-c350-4c03-af6e-992069c5e073",
   "metadata": {},
   "outputs": [],
   "source": [
    "def r2_score(y_pred):\n",
    "    rss = sum( (y[i] - y_pred[i])**2 for i in range(N) )\n",
    "    tss = sum( (y[i] - y_mean)**2 for i in range(N) )\n",
    "    r2 = 1 - rss/tss \n",
    "    return r2"
   ]
  },
  {
   "cell_type": "code",
   "execution_count": 12,
   "id": "b3a30e44-59eb-48cd-9a72-9615bca30739",
   "metadata": {},
   "outputs": [],
   "source": [
    "def gradient_m(y_pred):\n",
    "    return (-2 / N) * sum( ( x[i] * (y[i] - y_pred[i]) ) for i in range(N) )"
   ]
  },
  {
   "cell_type": "code",
   "execution_count": 13,
   "id": "58b37611-1c95-43ed-9cc2-194ec44462c3",
   "metadata": {},
   "outputs": [],
   "source": [
    "def gradient_c(y_pred):\n",
    "    return (-2 / N) * sum( (y[i] - y_pred[i]) for i in range(N) )"
   ]
  },
  {
   "cell_type": "code",
   "execution_count": 14,
   "id": "b15a1251-6395-4761-97ef-80db9877bfc9",
   "metadata": {},
   "outputs": [],
   "source": [
    "steps_data = []\n",
    "accuracy_data = []"
   ]
  },
  {
   "cell_type": "code",
   "execution_count": 15,
   "id": "201a1e83-d7aa-4255-a6cd-0161a7f93391",
   "metadata": {},
   "outputs": [],
   "source": [
    "for i in range(1, iterations+1):\n",
    "    steps_data.append(i)\n",
    "    y_pred = forward()\n",
    "    loss = loss_fn(y_pred)\n",
    "    accuracy = r2_score(y_pred)\n",
    "    accuracy_data.append(accuracy)\n",
    "    # print(\"Loss:\", loss, \"| Accuracy:\", accuracy)\n",
    "\n",
    "    grad_m = gradient_m(y_pred)\n",
    "    grad_c = gradient_c(y_pred)\n",
    "    # print(\"gradient of m:\", grad_m, \"| graident of c:\", grad_c)\n",
    "\n",
    "    m = m - L * grad_m\n",
    "    c = c - L * grad_c\n",
    "    # print(\"m:\", m, \"| c:\", c)\n",
    "    # print()"
   ]
  },
  {
   "cell_type": "code",
   "execution_count": 16,
   "id": "c14206c0-3491-4c02-8af1-f73ab4a53520",
   "metadata": {},
   "outputs": [],
   "source": [
    "df = pd.DataFrame({\"Iteration\": steps_data, \"Accuracy\": accuracy_data})"
   ]
  },
  {
   "cell_type": "code",
   "execution_count": 17,
   "id": "e1d4a2e9-c0f1-4eba-9d69-a41b17c8ae9d",
   "metadata": {},
   "outputs": [
    {
     "data": {
      "text/plain": [
       "<Axes: xlabel='Iteration', ylabel='Accuracy'>"
      ]
     },
     "execution_count": 17,
     "metadata": {},
     "output_type": "execute_result"
    },
    {
     "data": {
      "image/png": "[encoded data removed]",
      "text/plain": [
       "<Figure size 640x480 with 1 Axes>"
      ]
     },
     "metadata": {},
     "output_type": "display_data"
    }
   ],
   "source": [
    "sns.lineplot(df, x= \"Iteration\", y=\"Accuracy\")"
   ]
  },
  {
   "cell_type": "code",
   "execution_count": 19,
   "id": "b00d4bab-aeaf-4fbb-87bc-fac513ab7a41",
   "metadata": {},
   "outputs": [
    {
     "data": {
      "text/plain": [
       "(1.1204590846513611, -0.11847322643445737)"
      ]
     },
     "execution_count": 19,
     "metadata": {},
     "output_type": "execute_result"
    }
   ],
   "source": [
    "m, c"
   ]
  },
  {
   "cell_type": "code",
   "execution_count": null,
   "id": "63923ff3-bf2e-417b-9c82-e09093baf635",
   "metadata": {},
   "outputs": [],
   "source": []
  }
 ],
 "metadata": {
  "kernelspec": {
   "display_name": "Python 3 (ipykernel)",
   "language": "python",
   "name": "python3"
  },
  "language_info": {
   "codemirror_mode": {
    "name": "ipython",
    "version": 3
   },
   "file_extension": ".py",
   "mimetype": "text/x-python",
   "name": "python",
   "nbconvert_exporter": "python",
   "pygments_lexer": "ipython3",
   "version": "3.12.4"
  }
 },
 "nbformat": 4,
 "nbformat_minor": 5
}
