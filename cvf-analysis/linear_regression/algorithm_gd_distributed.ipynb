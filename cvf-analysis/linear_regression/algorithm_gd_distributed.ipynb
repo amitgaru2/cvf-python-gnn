{
 "cells": [
  {
   "cell_type": "code",
   "execution_count": 1,
   "id": "fc0815cf-c02d-4471-9165-38e0e1c1c994",
   "metadata": {},
   "outputs": [],
   "source": [
    "import random"
   ]
  },
  {
   "cell_type": "code",
   "execution_count": 2,
   "id": "67dc53cd-f7d6-46ab-becf-814c6efb247b",
   "metadata": {},
   "outputs": [],
   "source": [
    "import numpy as np\n",
    "import pandas as pd\n",
    "import seaborn as sns"
   ]
  },
  {
   "cell_type": "code",
   "execution_count": 3,
   "id": "16aa339b-f0cb-4485-85c4-1fd243da7beb",
   "metadata": {},
   "outputs": [],
   "source": [
    "from algorithm_gd import forward, loss_fn, r2_score, gradient_m, gradient_c, get_iteration_vs_accuracy_data"
   ]
  },
  {
   "cell_type": "code",
   "execution_count": 4,
   "id": "2465aad1-0492-4776-9cb1-fdf3433e5b36",
   "metadata": {},
   "outputs": [],
   "source": [
    "no_of_nodes = 3"
   ]
  },
  {
   "cell_type": "code",
   "execution_count": 5,
   "id": "04a8a123-8383-4119-a768-9d64df9e5a37",
   "metadata": {},
   "outputs": [],
   "source": [
    "X = [1, 1, 1, 2, 2, 2, 3, 3, 3,  5, 5, 5, 6, 6, 6, 7,7, 7,  9, 9, 9, 10, 10, 10, 11, 11, 11]\n",
    "y = [2, 2.25, 1.75, 2, 2.25, 1.75, 2, 2.25, 1.75, 6, 6.25, 5.75, 6, 6.25, 5.75, 6, 6.25, 5.75,  10, 9.75, 10.25, 10, 9.75, 10.25, 10, 9.75, 10.25]"
   ]
  },
  {
   "cell_type": "code",
   "execution_count": 6,
   "id": "57fe4584-bb2c-4170-be6b-c0556ee69191",
   "metadata": {},
   "outputs": [
    {
     "data": {
      "text/plain": [
       "Text(0, 0.5, 'Y')"
      ]
     },
     "execution_count": 6,
     "metadata": {},
     "output_type": "execute_result"
    },
    {
     "data": {
      "image/png": "[encoded data removed]",
      "text/plain": [
       "<Figure size 640x480 with 1 Axes>"
      ]
     },
     "metadata": {},
     "output_type": "display_data"
    }
   ],
   "source": [
    "ax = sns.scatterplot(x=X, y=y)\n",
    "ax.set_xlabel(\"X\")\n",
    "ax.set_ylabel(\"Y\")"
   ]
  },
  {
   "cell_type": "code",
   "execution_count": 7,
   "id": "53d9378f-a82e-4df1-94cc-abe8f3d7ca7b",
   "metadata": {},
   "outputs": [
    {
     "data": {
      "text/plain": [
       "9"
      ]
     },
     "execution_count": 7,
     "metadata": {},
     "output_type": "execute_result"
    }
   ],
   "source": [
    "N = len(X) // no_of_nodes\n",
    "N"
   ]
  },
  {
   "cell_type": "code",
   "execution_count": 8,
   "id": "5ab8b402-99c0-4073-bb2c-c28c4198edc7",
   "metadata": {},
   "outputs": [],
   "source": [
    "def gen_test_data_partition(partitions, data):\n",
    "    data_cp = data.copy()\n",
    "    random.shuffle(data_cp)\n",
    "    n = len(data_cp) // partitions\n",
    "    result = []\n",
    "    for i in range(partitions):\n",
    "        result.append(data_cp[i*n:(i+1)*n])\n",
    "    return result"
   ]
  },
  {
   "cell_type": "code",
   "execution_count": 9,
   "id": "32096651-b8c2-41d9-9780-b07859bfe4e2",
   "metadata": {},
   "outputs": [],
   "source": [
    "node_data = []\n",
    "node_test_samples = [{\"X\": [], \"y\": []} for i in range(no_of_nodes)]\n",
    "for i in range(no_of_nodes):\n",
    "    X_node = X[i*N:(i+1)*N]\n",
    "    y_node = y[i*N:(i+1)*N]\n",
    "    node_data.append({\"X\": X_node, \"y\": y_node})\n",
    "    node_data[-1][\"y_mean\"] = sum(node_data[-1][\"y\"])/len(node_data[-1][\"y\"])\n",
    "    test_samples = gen_test_data_partition(no_of_nodes, list(zip(X_node, y_node)))\n",
    "    for j, node_test_sample in enumerate(test_samples):\n",
    "        for test_sample in node_test_sample:\n",
    "            node_test_samples[j][\"X\"].append(test_sample[0])\n",
    "            node_test_samples[j][\"y\"].append(test_sample[1])\n",
    "\n",
    "for i in range(no_of_nodes):\n",
    "    node_test_samples[i][\"y_mean\"] = sum(node_test_samples[i][\"y\"])/len(node_test_samples[i][\"y\"])\n",
    "\n",
    "# node_data, node_test_samples"
   ]
  },
  {
   "cell_type": "code",
   "execution_count": 10,
   "id": "76bc1335-c5a8-41ae-baf7-a1691a72a4bf",
   "metadata": {},
   "outputs": [
    {
     "data": {
      "text/plain": [
       "[{'m': 0, 'c': 0, 'norm_m': 0, 'norm_c': 0},\n",
       " {'m': 0, 'c': 0, 'norm_m': 0, 'norm_c': 0},\n",
       " {'m': 0, 'c': 0, 'norm_m': 0, 'norm_c': 0}]"
      ]
     },
     "execution_count": 10,
     "metadata": {},
     "output_type": "execute_result"
    }
   ],
   "source": [
    "node_params = [ {\"m\": 0, \"c\": 0, \"norm_m\": 0, \"norm_c\": 0} for i in range(no_of_nodes)]\n",
    "node_params"
   ]
  },
  {
   "cell_type": "code",
   "execution_count": 11,
   "id": "89cc1921-9798-4cf9-bbb9-91dc1038566f",
   "metadata": {},
   "outputs": [],
   "source": [
    "iterations = 100"
   ]
  },
  {
   "cell_type": "code",
   "execution_count": 12,
   "id": "1e2b81c8-1052-47b2-8528-f57a9f3f54d9",
   "metadata": {},
   "outputs": [],
   "source": [
    "L = 0.005 # learning rate"
   ]
  },
  {
   "cell_type": "code",
   "execution_count": 13,
   "id": "90b1686a-1a43-4526-b27a-647ec8d335be",
   "metadata": {},
   "outputs": [],
   "source": [
    "# doubly_stochastic_matrix_config = [\n",
    "#     [1/2, 1/4, 1/4],\n",
    "#     [1/4, 0, 3/4],\n",
    "#     [1/4, 3/4, 0]\n",
    "# ]\n",
    "\n",
    "doubly_stochastic_matrix_config = [\n",
    "    [2/3, 1/6, 1/6],\n",
    "    [1/6, 1/6, 2/3],\n",
    "    [1/6, 2/3, 1/6]\n",
    "]"
   ]
  },
  {
   "cell_type": "code",
   "execution_count": 14,
   "id": "40118914-9142-464f-916f-60a339c32af9",
   "metadata": {},
   "outputs": [],
   "source": [
    "steps_data = []\n",
    "accuracy_data = [\n",
    "    [] for i in range(no_of_nodes)\n",
    "]\n",
    "slope_data = [ [] for i in range(no_of_nodes) ]"
   ]
  },
  {
   "cell_type": "code",
   "execution_count": 15,
   "id": "201a1e83-d7aa-4255-a6cd-0161a7f93391",
   "metadata": {},
   "outputs": [],
   "source": [
    "for i in range(1, iterations+1):\n",
    "    steps_data.append(i)\n",
    "    prev_node_params = node_params.copy()\n",
    "    for node_id in range(no_of_nodes):\n",
    "        params = node_params[node_id]\n",
    "        \n",
    "        X_node = node_data[node_id][\"X\"]\n",
    "        y_node = node_data[node_id][\"y\"]\n",
    "    \n",
    "        X_node_test = node_test_samples[node_id][\"X\"]\n",
    "        y_node_test = node_test_samples[node_id][\"y\"]\n",
    "        y_node_test_mean = node_test_samples[node_id][\"y_mean\"]\n",
    "\n",
    "        y_node_test_pred = forward(X_node_test, params)\n",
    "        y_node_test_norm_pred = forward(X_node_test, {\"m\": params[\"norm_m\"], \"c\": params[\"norm_c\"]})\n",
    "        \n",
    "        y_node_pred = forward(X_node, params)\n",
    "        y_node_norm_pred = forward(X_node, {\"m\": params[\"norm_m\"], \"c\": params[\"norm_c\"]})\n",
    "        \n",
    "        # loss = loss_fn(y_node_test, y_node_test_pred)\n",
    "        accuracy = r2_score(y_node_test, y_node_test_mean, y_node_test_pred)\n",
    "        accuracy_data[node_id].append(accuracy)\n",
    "        # print(\"Node:\", node_id, \"| Loss:\", round(loss, 6), \"| Accuracy:\", round(accuracy, 6))\n",
    "\n",
    "        accuracy = r2_score(y_node_test, y_node_test_mean, y_node_test_norm_pred)\n",
    "        # accuracy_norm_data[node_id].append(accuracy)\n",
    "    \n",
    "        grad_m = gradient_m(X_node, y_node, y_node_pred)\n",
    "        grad_c = gradient_c(y_node, y_node_pred)\n",
    "\n",
    "        # normalized_grad_m = np.round(gradient_m(X_node, y_node, y_node_norm_pred), decimals=1)\n",
    "        # normalized_grad_c = np.round(gradient_c(y_node, y_node_norm_pred), decimals=1)\n",
    "        normalized_grad_c = grad_c\n",
    "        doubly_st_mt = doubly_stochastic_matrix_config[node_id]\n",
    "\n",
    "        numerator = (doubly_st_mt[node_id] - 1) * prev_node_params[node_id][\"norm_m\"]\n",
    "        denominator = L\n",
    "\n",
    "        for i in set(range(no_of_nodes)) - {node_id}:\n",
    "            numerator += doubly_st_mt[i] * prev_node_params[i][\"norm_m\"]\n",
    "\n",
    "        # grad_m_node_p_step = (numerator + 0.1)\n",
    "        # grad_m_node_m_step = (numerator - 0.1)\n",
    "\n",
    "        # # print(grad_m, grad_c, end='    ')\n",
    "        # # print(grad_m, grad_m_node_p_step, grad_m_node_m_step)\n",
    "        \n",
    "        # if abs(grad_m - grad_m_node_p_step) < abs(grad_m - grad_m_node_m_step):\n",
    "        #     normalized_grad_m = grad_m_node_p_step\n",
    "        # else:\n",
    "        #     normalized_grad_m = grad_m_node_m_step\n",
    "\n",
    "        # print(normalized_grad_m)\n",
    "\n",
    "        params['m'] = sum( frac*prev_node_params[i][\"m\"] for i, frac in enumerate(doubly_st_mt) ) - L * grad_m\n",
    "        params['c'] = sum( frac*prev_node_params[i][\"c\"] for i, frac in enumerate(doubly_st_mt) ) - L * grad_c\n",
    "\n",
    "        slope_data[node_id].append(params['m'])\n",
    "\n",
    "        # params['norm_m'] = sum( frac*prev_node_params[i][\"norm_m\"] for i, frac in enumerate(doubly_st_mt) ) - L * normalized_grad_m\n",
    "        # params['norm_c'] = sum( frac*prev_node_params[i][\"norm_c\"] for i, frac in enumerate(doubly_st_mt) ) - L * normalized_grad_c\n",
    "\n",
    "    # print(node_params)"
   ]
  },
  {
   "cell_type": "code",
   "execution_count": 20,
   "id": "733ba34f-b70f-4d57-904a-40d9d3f78f63",
   "metadata": {},
   "outputs": [],
   "source": [
    "import json\n",
    "\n",
    "json.dump(slope_data, open(\"slope_data.json\", \"w\"))"
   ]
  },
  {
   "cell_type": "code",
   "execution_count": null,
   "id": "1b3a60e8-a25e-4a00-be66-7ab4aa4ac7e9",
   "metadata": {},
   "outputs": [],
   "source": [
    "Xy_test = gen_test_data_partition(no_of_nodes, list(zip(X, y)))[random.randint(0, no_of_nodes-1)]\n",
    "X_test = []\n",
    "y_test = []\n",
    "for Xy in Xy_test:\n",
    "    X_test.append(Xy[0])\n",
    "    y_test.append(Xy[1])\n",
    "\n",
    "gd_iterations, gd_accuracy, gd_grad_m = get_iteration_vs_accuracy_data(X, y, iterations, X_test=X_test, y_test=y_test, L=L)"
   ]
  },
  {
   "cell_type": "code",
   "execution_count": null,
   "id": "b9e7bd8e-7dc4-4c31-9035-e30fe74630aa",
   "metadata": {},
   "outputs": [],
   "source": [
    "data = {f'Node {i}': accuracy_data[i] for i in range(no_of_nodes)}\n",
    "df = pd.DataFrame({\"Iteration\": steps_data, **data})\n",
    "dfl = pd.melt(df, [\"Iteration\"], value_name=\"Accuracy\", var_name=\"Node\")\n",
    "ax = sns.lineplot(data=dfl, x='Iteration', y='Accuracy', hue='Node')\n",
    "ax.set_title(f\"Iteration vs Accuracy ({iterations} iterations)\")\n",
    "sns.lineplot(x=gd_iterations, y=gd_accuracy, linestyle='--', color='r', label='Single Node')"
   ]
  },
  {
   "cell_type": "code",
   "execution_count": null,
   "id": "fcb94131-6fcd-4da3-ae4a-6786a51e1f20",
   "metadata": {},
   "outputs": [],
   "source": [
    "data = {f'Node {i}': accuracy_norm_data[i] for i in range(no_of_nodes)}\n",
    "df = pd.DataFrame({\"Iteration\": steps_data, **data})\n",
    "dfl = pd.melt(df, [\"Iteration\"], value_name=\"Accuracy\", var_name=\"Node\")\n",
    "ax = sns.lineplot(data=dfl, x='Iteration', y='Accuracy', hue='Node')\n",
    "ax.set_title(f\"Iteration vs Accuracy, Roundoff Gradient ({iterations} iterations)\")\n",
    "sns.lineplot(x=gd_iterations, y=gd_accuracy, linestyle='--', color='r', label='Single Node')"
   ]
  },
  {
   "cell_type": "code",
   "execution_count": null,
   "id": "a60af909-0af0-4217-acb8-6224d5892815",
   "metadata": {},
   "outputs": [],
   "source": [
    "iteration_start = 200\n",
    "iterations_sample = 500\n",
    "data = {f'Node {i}': accuracy_data[i][iteration_start:iterations_sample] for i in range(no_of_nodes)}\n",
    "df = pd.DataFrame({\"Iteration\": steps_data[iteration_start:iterations_sample], **data})\n",
    "dfl = pd.melt(df, [\"Iteration\"], value_name=\"Accuracy\", var_name=\"Node\")\n",
    "\n",
    "ax = sns.lineplot(data=dfl, x='Iteration', y='Accuracy', hue='Node')\n",
    "ax.set_title(f\"Iteration vs Accuracy ({iteration_start} - {iterations_sample} iterations)\")\n",
    "\n",
    "sns.lineplot(x=gd_iterations[iteration_start:iterations_sample], y=gd_accuracy[iteration_start:iterations_sample], linestyle='--', color='r', label='Single Node')"
   ]
  },
  {
   "cell_type": "code",
   "execution_count": null,
   "id": "95dd2866-aea2-4832-9851-d89044b7d2ff",
   "metadata": {},
   "outputs": [],
   "source": [
    "ax = sns.lineplot(x=gd_iterations, y=gd_accuracy, linestyle='--', color='r', label='Single Node')\n",
    "ax.set_title(f\"Iteration vs Accuracy ({iterations} iterations) - Gradient descent in single node\")"
   ]
  },
  {
   "cell_type": "code",
   "execution_count": null,
   "id": "32b9e4f0-d938-462d-9d63-4f6320ae4d8f",
   "metadata": {},
   "outputs": [],
   "source": [
    "params"
   ]
  },
  {
   "cell_type": "code",
   "execution_count": null,
   "id": "9d0c11cd-3cd3-49b7-96bb-45edbf2a3e06",
   "metadata": {},
   "outputs": [],
   "source": [
    "gd_grad_m"
   ]
  },
  {
   "cell_type": "code",
   "execution_count": null,
   "id": "f4c77f58-46d8-4246-9fbf-c52f89d14657",
   "metadata": {},
   "outputs": [],
   "source": []
  }
 ],
 "metadata": {
  "kernelspec": {
   "display_name": "Python 3 (ipykernel)",
   "language": "python",
   "name": "python3"
  },
  "language_info": {
   "codemirror_mode": {
    "name": "ipython",
    "version": 3
   },
   "file_extension": ".py",
   "mimetype": "text/x-python",
   "name": "python",
   "nbconvert_exporter": "python",
   "pygments_lexer": "ipython3",
   "version": "3.12.4"
  }
 },
 "nbformat": 4,
 "nbformat_minor": 5
}
