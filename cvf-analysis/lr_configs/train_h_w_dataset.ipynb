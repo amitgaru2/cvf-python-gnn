{
 "cells": [
  {
   "cell_type": "code",
   "execution_count": 1,
   "id": "c690e229",
   "metadata": {},
   "outputs": [],
   "source": [
    "import torch\n",
    "\n",
    "import pandas as pd"
   ]
  },
  {
   "cell_type": "code",
   "execution_count": 2,
   "id": "72dbdc29",
   "metadata": {},
   "outputs": [],
   "source": [
    "df = pd.read_csv(\"datasets/custom_data__m2_35__c0.csv\")\n",
    "# df = pd.read_csv(\"datasets/SOCR-HeightWeight-XY.csv\")"
   ]
  },
  {
   "cell_type": "code",
   "execution_count": 3,
   "id": "471d337c",
   "metadata": {},
   "outputs": [
    {
     "data": {
      "application/vnd.microsoft.datawrangler.viewer.v0+json": {
       "columns": [
        {
         "name": "index",
         "rawType": "int64",
         "type": "integer"
        },
        {
         "name": "Unnamed: 0",
         "rawType": "int64",
         "type": "integer"
        },
        {
         "name": "X",
         "rawType": "float64",
         "type": "float"
        },
        {
         "name": "y",
         "rawType": "float64",
         "type": "float"
        }
       ],
       "ref": "24bcb1ec-888d-414a-9f5e-168024879db0",
       "rows": [
        [
         "0",
         "0",
         "0.26592186",
         "0.6249164"
        ],
        [
         "1",
         "1",
         "0.7644656",
         "1.796494"
        ],
        [
         "2",
         "2",
         "0.023004368",
         "0.05406026"
        ],
        [
         "3",
         "3",
         "-1.0486773",
         "-2.4643917"
        ],
        [
         "4",
         "4",
         "-1.0197854",
         "-2.3964956"
        ],
        [
         "5",
         "5",
         "-1.5862018",
         "-3.727574"
        ],
        [
         "6",
         "6",
         "-0.9969856",
         "-2.342916"
        ],
        [
         "7",
         "7",
         "-0.89981556",
         "-2.1145666"
        ],
        [
         "8",
         "8",
         "1.5122105",
         "3.5536945"
        ],
        [
         "9",
         "9",
         "-1.0437702",
         "-2.4528599"
        ],
        [
         "10",
         "10",
         "0.20676655",
         "0.48590136"
        ],
        [
         "11",
         "11",
         "1.026992",
         "2.413431"
        ],
        [
         "12",
         "12",
         "-0.58828354",
         "-1.3824663"
        ],
        [
         "13",
         "13",
         "-0.96751726",
         "-2.2736654"
        ],
        [
         "14",
         "14",
         "-0.039179392",
         "-0.09207157"
        ],
        [
         "15",
         "15",
         "-0.10909991",
         "-0.2563848"
        ],
        [
         "16",
         "16",
         "0.25977746",
         "0.610477"
        ],
        [
         "17",
         "17",
         "0.08420749",
         "0.1978876"
        ],
        [
         "18",
         "18",
         "0.44540825",
         "1.0467093"
        ],
        [
         "19",
         "19",
         "1.8652976",
         "4.383449"
        ],
        [
         "20",
         "20",
         "0.02698826",
         "0.06342241"
        ],
        [
         "21",
         "21",
         "-0.16700993",
         "-0.39247334"
        ],
        [
         "22",
         "22",
         "0.096208595",
         "0.2260902"
        ],
        [
         "23",
         "23",
         "-1.0098314",
         "-2.3731039"
        ],
        [
         "24",
         "24",
         "0.3121913",
         "0.73364955"
        ],
        [
         "25",
         "25",
         "0.09380743",
         "0.22044745"
        ],
        [
         "26",
         "26",
         "-0.35129935",
         "-0.8255534"
        ],
        [
         "27",
         "27",
         "0.72954696",
         "1.7144353"
        ],
        [
         "28",
         "28",
         "-2.2133603",
         "-5.2013965"
        ],
        [
         "29",
         "29",
         "-1.2636055",
         "-2.9694726"
        ],
        [
         "30",
         "30",
         "0.8519424",
         "2.0020647"
        ],
        [
         "31",
         "31",
         "0.5754603",
         "1.3523316"
        ],
        [
         "32",
         "32",
         "-1.3651042",
         "-3.2079947"
        ],
        [
         "33",
         "33",
         "0.5372127",
         "1.2624499"
        ],
        [
         "34",
         "34",
         "1.8389323",
         "4.321491"
        ],
        [
         "35",
         "35",
         "0.5340998",
         "1.2551345"
        ],
        [
         "36",
         "36",
         "0.6515502",
         "1.5311428"
        ],
        [
         "37",
         "37",
         "2.1596036",
         "5.0750685"
        ],
        [
         "38",
         "38",
         "-0.59607196",
         "-1.400769"
        ],
        [
         "39",
         "39",
         "-0.52162546",
         "-1.2258198"
        ],
        [
         "40",
         "40",
         "0.11720546",
         "0.27543283"
        ],
        [
         "41",
         "41",
         "0.5585599",
         "1.3126158"
        ],
        [
         "42",
         "42",
         "1.0430346",
         "2.451131"
        ],
        [
         "43",
         "43",
         "-0.47127545",
         "-1.1074972"
        ],
        [
         "44",
         "44",
         "-0.94769293",
         "-2.2270782"
        ],
        [
         "45",
         "45",
         "1.3956833",
         "3.2798555"
        ],
        [
         "46",
         "46",
         "-1.2061685",
         "-2.834496"
        ],
        [
         "47",
         "47",
         "1.2412906",
         "2.9170327"
        ],
        [
         "48",
         "48",
         "-1.4270355",
         "-3.3535333"
        ],
        [
         "49",
         "49",
         "-0.4253542",
         "-0.99958235"
        ]
       ],
       "shape": {
        "columns": 3,
        "rows": 1000
       }
      },
      "text/html": [
       "<div>\n",
       "<style scoped>\n",
       "    .dataframe tbody tr th:only-of-type {\n",
       "        vertical-align: middle;\n",
       "    }\n",
       "\n",
       "    .dataframe tbody tr th {\n",
       "        vertical-align: top;\n",
       "    }\n",
       "\n",
       "    .dataframe thead th {\n",
       "        text-align: right;\n",
       "    }\n",
       "</style>\n",
       "<table border=\"1\" class=\"dataframe\">\n",
       "  <thead>\n",
       "    <tr style=\"text-align: right;\">\n",
       "      <th></th>\n",
       "      <th>Unnamed: 0</th>\n",
       "      <th>X</th>\n",
       "      <th>y</th>\n",
       "    </tr>\n",
       "  </thead>\n",
       "  <tbody>\n",
       "    <tr>\n",
       "      <th>0</th>\n",
       "      <td>0</td>\n",
       "      <td>0.265922</td>\n",
       "      <td>0.624916</td>\n",
       "    </tr>\n",
       "    <tr>\n",
       "      <th>1</th>\n",
       "      <td>1</td>\n",
       "      <td>0.764466</td>\n",
       "      <td>1.796494</td>\n",
       "    </tr>\n",
       "    <tr>\n",
       "      <th>2</th>\n",
       "      <td>2</td>\n",
       "      <td>0.023004</td>\n",
       "      <td>0.054060</td>\n",
       "    </tr>\n",
       "    <tr>\n",
       "      <th>3</th>\n",
       "      <td>3</td>\n",
       "      <td>-1.048677</td>\n",
       "      <td>-2.464392</td>\n",
       "    </tr>\n",
       "    <tr>\n",
       "      <th>4</th>\n",
       "      <td>4</td>\n",
       "      <td>-1.019785</td>\n",
       "      <td>-2.396496</td>\n",
       "    </tr>\n",
       "    <tr>\n",
       "      <th>...</th>\n",
       "      <td>...</td>\n",
       "      <td>...</td>\n",
       "      <td>...</td>\n",
       "    </tr>\n",
       "    <tr>\n",
       "      <th>995</th>\n",
       "      <td>995</td>\n",
       "      <td>0.061239</td>\n",
       "      <td>0.143912</td>\n",
       "    </tr>\n",
       "    <tr>\n",
       "      <th>996</th>\n",
       "      <td>996</td>\n",
       "      <td>0.367211</td>\n",
       "      <td>0.862945</td>\n",
       "    </tr>\n",
       "    <tr>\n",
       "      <th>997</th>\n",
       "      <td>997</td>\n",
       "      <td>0.019388</td>\n",
       "      <td>0.045562</td>\n",
       "    </tr>\n",
       "    <tr>\n",
       "      <th>998</th>\n",
       "      <td>998</td>\n",
       "      <td>-2.208009</td>\n",
       "      <td>-5.188821</td>\n",
       "    </tr>\n",
       "    <tr>\n",
       "      <th>999</th>\n",
       "      <td>999</td>\n",
       "      <td>-1.277674</td>\n",
       "      <td>-3.002534</td>\n",
       "    </tr>\n",
       "  </tbody>\n",
       "</table>\n",
       "<p>1000 rows × 3 columns</p>\n",
       "</div>"
      ],
      "text/plain": [
       "     Unnamed: 0         X         y\n",
       "0             0  0.265922  0.624916\n",
       "1             1  0.764466  1.796494\n",
       "2             2  0.023004  0.054060\n",
       "3             3 -1.048677 -2.464392\n",
       "4             4 -1.019785 -2.396496\n",
       "..          ...       ...       ...\n",
       "995         995  0.061239  0.143912\n",
       "996         996  0.367211  0.862945\n",
       "997         997  0.019388  0.045562\n",
       "998         998 -2.208009 -5.188821\n",
       "999         999 -1.277674 -3.002534\n",
       "\n",
       "[1000 rows x 3 columns]"
      ]
     },
     "execution_count": 3,
     "metadata": {},
     "output_type": "execute_result"
    }
   ],
   "source": [
    "df"
   ]
  },
  {
   "cell_type": "code",
   "execution_count": 4,
   "id": "ce7e5fe5",
   "metadata": {},
   "outputs": [],
   "source": [
    "X = torch.tensor(df[\"X\"])\n",
    "y = torch.tensor(df['y'])\n",
    "# X, y"
   ]
  },
  {
   "cell_type": "code",
   "execution_count": 8,
   "id": "b066d89d",
   "metadata": {},
   "outputs": [
    {
     "name": "stdout",
     "output_type": "stream",
     "text": [
      "tensor(2.0069, requires_grad=True) tensor(-0.0002, requires_grad=True)\n",
      "tensor(2.0137, requires_grad=True) tensor(-0.0004, requires_grad=True)\n",
      "tensor(2.0204, requires_grad=True) tensor(-0.0006, requires_grad=True)\n",
      "tensor(2.0269, requires_grad=True) tensor(-0.0008, requires_grad=True)\n",
      "tensor(2.0333, requires_grad=True) tensor(-0.0010, requires_grad=True)\n",
      "tensor(2.0396, requires_grad=True) tensor(-0.0011, requires_grad=True)\n",
      "tensor(2.0457, requires_grad=True) tensor(-0.0013, requires_grad=True)\n",
      "tensor(2.0517, requires_grad=True) tensor(-0.0014, requires_grad=True)\n",
      "tensor(2.0576, requires_grad=True) tensor(-0.0016, requires_grad=True)\n",
      "tensor(2.0634, requires_grad=True) tensor(-0.0017, requires_grad=True)\n",
      "tensor(2.0691, requires_grad=True) tensor(-0.0019, requires_grad=True)\n",
      "tensor(2.0747, requires_grad=True) tensor(-0.0020, requires_grad=True)\n",
      "tensor(2.0801, requires_grad=True) tensor(-0.0021, requires_grad=True)\n",
      "tensor(2.0854, requires_grad=True) tensor(-0.0022, requires_grad=True)\n",
      "tensor(2.0907, requires_grad=True) tensor(-0.0024, requires_grad=True)\n",
      "tensor(2.0958, requires_grad=True) tensor(-0.0025, requires_grad=True)\n",
      "tensor(2.1008, requires_grad=True) tensor(-0.0026, requires_grad=True)\n",
      "tensor(2.1058, requires_grad=True) tensor(-0.0027, requires_grad=True)\n",
      "tensor(2.1106, requires_grad=True) tensor(-0.0027, requires_grad=True)\n",
      "tensor(2.1153, requires_grad=True) tensor(-0.0028, requires_grad=True)\n",
      "tensor(2.1200, requires_grad=True) tensor(-0.0029, requires_grad=True)\n",
      "tensor(2.1245, requires_grad=True) tensor(-0.0030, requires_grad=True)\n",
      "tensor(2.1290, requires_grad=True) tensor(-0.0031, requires_grad=True)\n",
      "tensor(2.1334, requires_grad=True) tensor(-0.0031, requires_grad=True)\n",
      "tensor(2.1377, requires_grad=True) tensor(-0.0032, requires_grad=True)\n",
      "tensor(2.1419, requires_grad=True) tensor(-0.0033, requires_grad=True)\n",
      "tensor(2.1460, requires_grad=True) tensor(-0.0033, requires_grad=True)\n",
      "tensor(2.1500, requires_grad=True) tensor(-0.0034, requires_grad=True)\n",
      "tensor(2.1540, requires_grad=True) tensor(-0.0034, requires_grad=True)\n",
      "tensor(2.1578, requires_grad=True) tensor(-0.0035, requires_grad=True)\n",
      "tensor(2.1616, requires_grad=True) tensor(-0.0035, requires_grad=True)\n",
      "tensor(2.1654, requires_grad=True) tensor(-0.0036, requires_grad=True)\n",
      "tensor(2.1690, requires_grad=True) tensor(-0.0036, requires_grad=True)\n",
      "tensor(2.1726, requires_grad=True) tensor(-0.0036, requires_grad=True)\n",
      "tensor(2.1761, requires_grad=True) tensor(-0.0037, requires_grad=True)\n",
      "tensor(2.1796, requires_grad=True) tensor(-0.0037, requires_grad=True)\n",
      "tensor(2.1829, requires_grad=True) tensor(-0.0037, requires_grad=True)\n",
      "tensor(2.1862, requires_grad=True) tensor(-0.0038, requires_grad=True)\n",
      "tensor(2.1895, requires_grad=True) tensor(-0.0038, requires_grad=True)\n",
      "tensor(2.1926, requires_grad=True) tensor(-0.0038, requires_grad=True)\n",
      "tensor(2.1958, requires_grad=True) tensor(-0.0038, requires_grad=True)\n",
      "tensor(2.1988, requires_grad=True) tensor(-0.0038, requires_grad=True)\n",
      "tensor(2.2018, requires_grad=True) tensor(-0.0038, requires_grad=True)\n",
      "tensor(2.2047, requires_grad=True) tensor(-0.0039, requires_grad=True)\n",
      "tensor(2.2076, requires_grad=True) tensor(-0.0039, requires_grad=True)\n",
      "tensor(2.2104, requires_grad=True) tensor(-0.0039, requires_grad=True)\n",
      "tensor(2.2132, requires_grad=True) tensor(-0.0039, requires_grad=True)\n",
      "tensor(2.2159, requires_grad=True) tensor(-0.0039, requires_grad=True)\n",
      "tensor(2.2185, requires_grad=True) tensor(-0.0039, requires_grad=True)\n",
      "tensor(2.2211, requires_grad=True) tensor(-0.0039, requires_grad=True)\n",
      "tensor(2.2237, requires_grad=True) tensor(-0.0039, requires_grad=True)\n",
      "tensor(2.2262, requires_grad=True) tensor(-0.0039, requires_grad=True)\n",
      "tensor(2.2286, requires_grad=True) tensor(-0.0039, requires_grad=True)\n",
      "tensor(2.2310, requires_grad=True) tensor(-0.0039, requires_grad=True)\n",
      "tensor(2.2334, requires_grad=True) tensor(-0.0039, requires_grad=True)\n",
      "tensor(2.2357, requires_grad=True) tensor(-0.0039, requires_grad=True)\n",
      "tensor(2.2380, requires_grad=True) tensor(-0.0038, requires_grad=True)\n",
      "tensor(2.2402, requires_grad=True) tensor(-0.0038, requires_grad=True)\n",
      "tensor(2.2423, requires_grad=True) tensor(-0.0038, requires_grad=True)\n",
      "tensor(2.2445, requires_grad=True) tensor(-0.0038, requires_grad=True)\n",
      "tensor(2.2466, requires_grad=True) tensor(-0.0038, requires_grad=True)\n",
      "tensor(2.2486, requires_grad=True) tensor(-0.0038, requires_grad=True)\n",
      "tensor(2.2506, requires_grad=True) tensor(-0.0038, requires_grad=True)\n",
      "tensor(2.2526, requires_grad=True) tensor(-0.0037, requires_grad=True)\n",
      "tensor(2.2545, requires_grad=True) tensor(-0.0037, requires_grad=True)\n",
      "tensor(2.2564, requires_grad=True) tensor(-0.0037, requires_grad=True)\n",
      "tensor(2.2582, requires_grad=True) tensor(-0.0037, requires_grad=True)\n",
      "tensor(2.2601, requires_grad=True) tensor(-0.0037, requires_grad=True)\n",
      "tensor(2.2618, requires_grad=True) tensor(-0.0037, requires_grad=True)\n",
      "tensor(2.2636, requires_grad=True) tensor(-0.0036, requires_grad=True)\n",
      "tensor(2.2653, requires_grad=True) tensor(-0.0036, requires_grad=True)\n",
      "tensor(2.2670, requires_grad=True) tensor(-0.0036, requires_grad=True)\n",
      "tensor(2.2686, requires_grad=True) tensor(-0.0036, requires_grad=True)\n",
      "tensor(2.2702, requires_grad=True) tensor(-0.0035, requires_grad=True)\n",
      "tensor(2.2718, requires_grad=True) tensor(-0.0035, requires_grad=True)\n",
      "tensor(2.2733, requires_grad=True) tensor(-0.0035, requires_grad=True)\n",
      "tensor(2.2748, requires_grad=True) tensor(-0.0035, requires_grad=True)\n",
      "tensor(2.2763, requires_grad=True) tensor(-0.0034, requires_grad=True)\n",
      "tensor(2.2778, requires_grad=True) tensor(-0.0034, requires_grad=True)\n",
      "tensor(2.2792, requires_grad=True) tensor(-0.0034, requires_grad=True)\n",
      "tensor(2.2806, requires_grad=True) tensor(-0.0034, requires_grad=True)\n",
      "tensor(2.2820, requires_grad=True) tensor(-0.0033, requires_grad=True)\n",
      "tensor(2.2833, requires_grad=True) tensor(-0.0033, requires_grad=True)\n",
      "tensor(2.2847, requires_grad=True) tensor(-0.0033, requires_grad=True)\n",
      "tensor(2.2859, requires_grad=True) tensor(-0.0033, requires_grad=True)\n",
      "tensor(2.2872, requires_grad=True) tensor(-0.0032, requires_grad=True)\n",
      "tensor(2.2884, requires_grad=True) tensor(-0.0032, requires_grad=True)\n",
      "tensor(2.2897, requires_grad=True) tensor(-0.0032, requires_grad=True)\n",
      "tensor(2.2909, requires_grad=True) tensor(-0.0032, requires_grad=True)\n",
      "tensor(2.2920, requires_grad=True) tensor(-0.0031, requires_grad=True)\n",
      "tensor(2.2932, requires_grad=True) tensor(-0.0031, requires_grad=True)\n",
      "tensor(2.2943, requires_grad=True) tensor(-0.0031, requires_grad=True)\n",
      "tensor(2.2954, requires_grad=True) tensor(-0.0030, requires_grad=True)\n",
      "tensor(2.2965, requires_grad=True) tensor(-0.0030, requires_grad=True)\n",
      "tensor(2.2975, requires_grad=True) tensor(-0.0030, requires_grad=True)\n",
      "tensor(2.2986, requires_grad=True) tensor(-0.0030, requires_grad=True)\n",
      "tensor(2.2996, requires_grad=True) tensor(-0.0029, requires_grad=True)\n",
      "tensor(2.3006, requires_grad=True) tensor(-0.0029, requires_grad=True)\n",
      "tensor(2.3016, requires_grad=True) tensor(-0.0029, requires_grad=True)\n",
      "tensor(2.3025, requires_grad=True) tensor(-0.0028, requires_grad=True)\n"
     ]
    }
   ],
   "source": [
    "lr = 0.01\n",
    "\n",
    "m = torch.tensor(2.0, requires_grad=True)\n",
    "c = torch.tensor(0.0, requires_grad=True)\n",
    "\n",
    "for i in range(100):\n",
    "    y_pred = m * X + c\n",
    "    loss = ((y_pred - y) ** 2).mean()\n",
    "    loss.backward()\n",
    "\n",
    "\n",
    "    # m = m - lr * m.grad\n",
    "    # c = c - lr * c.grad\n",
    "    with torch.no_grad():\n",
    "        m -= lr * m.grad\n",
    "        c -= lr * c.grad\n",
    "        m.grad.zero_()\n",
    "        c.grad.zero_()\n",
    "    \n",
    "    print(m, c)\n",
    "    \n",
    "    # print(m, c)"
   ]
  },
  {
   "cell_type": "code",
   "execution_count": 6,
   "id": "baff9745",
   "metadata": {},
   "outputs": [
    {
     "data": {
      "text/plain": [
       "(tensor(2.3756, requires_grad=True), tensor(1.1929, requires_grad=True))"
      ]
     },
     "execution_count": 6,
     "metadata": {},
     "output_type": "execute_result"
    }
   ],
   "source": [
    "m, c"
   ]
  },
  {
   "cell_type": "code",
   "execution_count": 2,
   "id": "ef3513a8",
   "metadata": {},
   "outputs": [],
   "source": [
    "import torch\n",
    "import pandas as pd\n",
    "\n",
    "m = 105\n",
    "c = 0\n",
    "X = torch.randn(1000)\n",
    "y = m * X + c\n",
    "pd.DataFrame(data={\"X\": X, \"y\": y}).to_csv(\"custom_data__m105__c0.csv\")\n"
   ]
  },
  {
   "cell_type": "code",
   "execution_count": null,
   "id": "a7164552",
   "metadata": {},
   "outputs": [],
   "source": []
  }
 ],
 "metadata": {
  "kernelspec": {
   "display_name": "cvf",
   "language": "python",
   "name": "python3"
  },
  "language_info": {
   "codemirror_mode": {
    "name": "ipython",
    "version": 3
   },
   "file_extension": ".py",
   "mimetype": "text/x-python",
   "name": "python",
   "nbconvert_exporter": "python",
   "pygments_lexer": "ipython3",
   "version": "3.13.5"
  }
 },
 "nbformat": 4,
 "nbformat_minor": 5
}
