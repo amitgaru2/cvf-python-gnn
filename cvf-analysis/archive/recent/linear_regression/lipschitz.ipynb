{
 "cells": [
  {
   "cell_type": "code",
   "execution_count": 1,
   "id": "a457905a-c7c2-49c6-82d3-784b447785d3",
   "metadata": {},
   "outputs": [],
   "source": [
    "import numpy as np"
   ]
  },
  {
   "cell_type": "code",
   "execution_count": 2,
   "id": "857cfb7f-5a36-4e51-9b23-7a5af5e36ad2",
   "metadata": {},
   "outputs": [],
   "source": [
    "def f(x):\n",
    "    return np.sin(x)"
   ]
  },
  {
   "cell_type": "code",
   "execution_count": 13,
   "id": "21b2cc43-3f11-42e4-ba31-b7fa895150e2",
   "metadata": {},
   "outputs": [],
   "source": [
    "def estimate_lipschitz_constant(f, a, b, num_points=10000):\n",
    "    x_values = np.linspace(a, b, num_points)\n",
    "    f_values = f(x_values)\n",
    "    max_diff = 0\n",
    "\n",
    "    for i in range(1, num_points):\n",
    "        diff = np.abs(f_values[i] - f_values[i-1]) / np.abs(x_values[i] - x_values[i-1])\n",
    "        max_diff = max(max_diff, diff)\n",
    "\n",
    "    return max_diff"
   ]
  },
  {
   "cell_type": "code",
   "execution_count": 14,
   "id": "ac1d5f9a-9759-4344-92d3-2770924a7525",
   "metadata": {},
   "outputs": [
    {
     "data": {
      "text/plain": [
       "np.float64(0.999999983547369)"
      ]
     },
     "execution_count": 14,
     "metadata": {},
     "output_type": "execute_result"
    }
   ],
   "source": [
    "# Estimate the Lipschitz constant for sin(x) in the interval [0, 2*pi]\n",
    "lipschitz_constant = estimate_lipschitz_constant(f, 0, 2*np.pi)\n",
    "lipschitz_constant"
   ]
  },
  {
   "cell_type": "code",
   "execution_count": null,
   "id": "29f7f8b3-f956-4f9a-9db7-cec1e5197c4a",
   "metadata": {},
   "outputs": [],
   "source": []
  }
 ],
 "metadata": {
  "kernelspec": {
   "display_name": "Python 3 (ipykernel)",
   "language": "python",
   "name": "python3"
  },
  "language_info": {
   "codemirror_mode": {
    "name": "ipython",
    "version": 3
   },
   "file_extension": ".py",
   "mimetype": "text/x-python",
   "name": "python",
   "nbconvert_exporter": "python",
   "pygments_lexer": "ipython3",
   "version": "3.12.4"
  }
 },
 "nbformat": 4,
 "nbformat_minor": 5
}
