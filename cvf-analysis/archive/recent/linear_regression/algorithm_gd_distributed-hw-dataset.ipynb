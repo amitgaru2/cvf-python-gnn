{
 "cells": [
  {
   "cell_type": "code",
   "execution_count": 1,
   "id": "fc0815cf-c02d-4471-9165-38e0e1c1c994",
   "metadata": {},
   "outputs": [],
   "source": [
    "import random\n",
    "\n",
    "import numpy as np\n",
    "import pandas as pd\n",
    "import seaborn as sns\n",
    "\n",
    "from algorithm_gd import forward, loss_fn, r2_score, gradient_m, gradient_c, get_iteration_vs_accuracy_data"
   ]
  },
  {
   "cell_type": "code",
   "execution_count": 2,
   "id": "17b410fb-1366-48c5-9d8b-3c8cdd265615",
   "metadata": {},
   "outputs": [
    {
     "data": {
      "text/html": [
       "<div>\n",
       "<style scoped>\n",
       "    .dataframe tbody tr th:only-of-type {\n",
       "        vertical-align: middle;\n",
       "    }\n",
       "\n",
       "    .dataframe tbody tr th {\n",
       "        vertical-align: top;\n",
       "    }\n",
       "\n",
       "    .dataframe thead th {\n",
       "        text-align: right;\n",
       "    }\n",
       "</style>\n",
       "<table border=\"1\" class=\"dataframe\">\n",
       "  <thead>\n",
       "    <tr style=\"text-align: right;\">\n",
       "      <th></th>\n",
       "      <th>Index</th>\n",
       "      <th>X</th>\n",
       "      <th>y</th>\n",
       "    </tr>\n",
       "  </thead>\n",
       "  <tbody>\n",
       "    <tr>\n",
       "      <th>0</th>\n",
       "      <td>1</td>\n",
       "      <td>65.78331</td>\n",
       "      <td>112.9925</td>\n",
       "    </tr>\n",
       "    <tr>\n",
       "      <th>1</th>\n",
       "      <td>2</td>\n",
       "      <td>71.51521</td>\n",
       "      <td>136.4873</td>\n",
       "    </tr>\n",
       "    <tr>\n",
       "      <th>2</th>\n",
       "      <td>3</td>\n",
       "      <td>69.39874</td>\n",
       "      <td>153.0269</td>\n",
       "    </tr>\n",
       "    <tr>\n",
       "      <th>3</th>\n",
       "      <td>4</td>\n",
       "      <td>68.21660</td>\n",
       "      <td>142.3354</td>\n",
       "    </tr>\n",
       "    <tr>\n",
       "      <th>4</th>\n",
       "      <td>5</td>\n",
       "      <td>67.78781</td>\n",
       "      <td>144.2971</td>\n",
       "    </tr>\n",
       "    <tr>\n",
       "      <th>...</th>\n",
       "      <td>...</td>\n",
       "      <td>...</td>\n",
       "      <td>...</td>\n",
       "    </tr>\n",
       "    <tr>\n",
       "      <th>24995</th>\n",
       "      <td>24996</td>\n",
       "      <td>69.50215</td>\n",
       "      <td>118.0312</td>\n",
       "    </tr>\n",
       "    <tr>\n",
       "      <th>24996</th>\n",
       "      <td>24997</td>\n",
       "      <td>64.54826</td>\n",
       "      <td>120.1932</td>\n",
       "    </tr>\n",
       "    <tr>\n",
       "      <th>24997</th>\n",
       "      <td>24998</td>\n",
       "      <td>64.69855</td>\n",
       "      <td>118.2655</td>\n",
       "    </tr>\n",
       "    <tr>\n",
       "      <th>24998</th>\n",
       "      <td>24999</td>\n",
       "      <td>67.52918</td>\n",
       "      <td>132.2682</td>\n",
       "    </tr>\n",
       "    <tr>\n",
       "      <th>24999</th>\n",
       "      <td>25000</td>\n",
       "      <td>68.87761</td>\n",
       "      <td>124.8742</td>\n",
       "    </tr>\n",
       "  </tbody>\n",
       "</table>\n",
       "<p>25000 rows × 3 columns</p>\n",
       "</div>"
      ],
      "text/plain": [
       "       Index         X         y\n",
       "0          1  65.78331  112.9925\n",
       "1          2  71.51521  136.4873\n",
       "2          3  69.39874  153.0269\n",
       "3          4  68.21660  142.3354\n",
       "4          5  67.78781  144.2971\n",
       "...      ...       ...       ...\n",
       "24995  24996  69.50215  118.0312\n",
       "24996  24997  64.54826  120.1932\n",
       "24997  24998  64.69855  118.2655\n",
       "24998  24999  67.52918  132.2682\n",
       "24999  25000  68.87761  124.8742\n",
       "\n",
       "[25000 rows x 3 columns]"
      ]
     },
     "execution_count": 2,
     "metadata": {},
     "output_type": "execute_result"
    }
   ],
   "source": [
    "df = pd.read_csv(\"SOCR-HeightWeight.csv\")\n",
    "df.rename(columns={\"Height(Inches)\": \"X\", \"Weight(Pounds)\": \"y\"}, inplace=True)\n",
    "df"
   ]
  },
  {
   "cell_type": "code",
   "execution_count": 3,
   "id": "e8e87582-1b4e-46a3-bf44-799fc6729842",
   "metadata": {},
   "outputs": [
    {
     "data": {
      "text/html": [
       "<div>\n",
       "<style scoped>\n",
       "    .dataframe tbody tr th:only-of-type {\n",
       "        vertical-align: middle;\n",
       "    }\n",
       "\n",
       "    .dataframe tbody tr th {\n",
       "        vertical-align: top;\n",
       "    }\n",
       "\n",
       "    .dataframe thead th {\n",
       "        text-align: right;\n",
       "    }\n",
       "</style>\n",
       "<table border=\"1\" class=\"dataframe\">\n",
       "  <thead>\n",
       "    <tr style=\"text-align: right;\">\n",
       "      <th></th>\n",
       "      <th>Index</th>\n",
       "      <th>X</th>\n",
       "      <th>y</th>\n",
       "    </tr>\n",
       "  </thead>\n",
       "  <tbody>\n",
       "    <tr>\n",
       "      <th>count</th>\n",
       "      <td>25000.000000</td>\n",
       "      <td>25000.000000</td>\n",
       "      <td>25000.000000</td>\n",
       "    </tr>\n",
       "    <tr>\n",
       "      <th>mean</th>\n",
       "      <td>12500.500000</td>\n",
       "      <td>67.993114</td>\n",
       "      <td>127.079421</td>\n",
       "    </tr>\n",
       "    <tr>\n",
       "      <th>std</th>\n",
       "      <td>7217.022701</td>\n",
       "      <td>1.901679</td>\n",
       "      <td>11.660898</td>\n",
       "    </tr>\n",
       "    <tr>\n",
       "      <th>min</th>\n",
       "      <td>1.000000</td>\n",
       "      <td>60.278360</td>\n",
       "      <td>78.014760</td>\n",
       "    </tr>\n",
       "    <tr>\n",
       "      <th>25%</th>\n",
       "      <td>6250.750000</td>\n",
       "      <td>66.704397</td>\n",
       "      <td>119.308675</td>\n",
       "    </tr>\n",
       "    <tr>\n",
       "      <th>50%</th>\n",
       "      <td>12500.500000</td>\n",
       "      <td>67.995700</td>\n",
       "      <td>127.157750</td>\n",
       "    </tr>\n",
       "    <tr>\n",
       "      <th>75%</th>\n",
       "      <td>18750.250000</td>\n",
       "      <td>69.272958</td>\n",
       "      <td>134.892850</td>\n",
       "    </tr>\n",
       "    <tr>\n",
       "      <th>max</th>\n",
       "      <td>25000.000000</td>\n",
       "      <td>75.152800</td>\n",
       "      <td>170.924000</td>\n",
       "    </tr>\n",
       "  </tbody>\n",
       "</table>\n",
       "</div>"
      ],
      "text/plain": [
       "              Index             X             y\n",
       "count  25000.000000  25000.000000  25000.000000\n",
       "mean   12500.500000     67.993114    127.079421\n",
       "std     7217.022701      1.901679     11.660898\n",
       "min        1.000000     60.278360     78.014760\n",
       "25%     6250.750000     66.704397    119.308675\n",
       "50%    12500.500000     67.995700    127.157750\n",
       "75%    18750.250000     69.272958    134.892850\n",
       "max    25000.000000     75.152800    170.924000"
      ]
     },
     "execution_count": 3,
     "metadata": {},
     "output_type": "execute_result"
    }
   ],
   "source": [
    "df.describe()"
   ]
  },
  {
   "cell_type": "code",
   "execution_count": 4,
   "id": "fcb1cb19-a646-49a0-a6e2-647c53a4d1a6",
   "metadata": {},
   "outputs": [
    {
     "data": {
      "text/plain": [
       "<Axes: xlabel='X', ylabel='y'>"
      ]
     },
     "execution_count": 4,
     "metadata": {},
     "output_type": "execute_result"
    },
    {
     "data": {
      "image/png": "[encoded data removed]",
      "text/plain": [
       "<Figure size 640x480 with 1 Axes>"
      ]
     },
     "metadata": {},
     "output_type": "display_data"
    }
   ],
   "source": [
    "sns.scatterplot(df, x='X', y='y', marker='.')"
   ]
  },
  {
   "cell_type": "code",
   "execution_count": 5,
   "id": "2465aad1-0492-4776-9cb1-fdf3433e5b36",
   "metadata": {},
   "outputs": [],
   "source": [
    "no_of_nodes = 4"
   ]
  },
  {
   "cell_type": "code",
   "execution_count": 6,
   "id": "04c9309b-e3ba-46ea-b7a9-d03a4dfa5a58",
   "metadata": {},
   "outputs": [
    {
     "data": {
      "text/plain": [
       "(np.float64(67.9957), np.float64(127.15775))"
      ]
     },
     "execution_count": 6,
     "metadata": {},
     "output_type": "execute_result"
    }
   ],
   "source": [
    "X_median = df['X'].median()\n",
    "y_median = df['y'].median()\n",
    "\n",
    "X_median, y_median"
   ]
  },
  {
   "cell_type": "code",
   "execution_count": 7,
   "id": "d90806bb-f9fe-465e-b4a3-e0a190e68236",
   "metadata": {},
   "outputs": [
    {
     "data": {
      "text/plain": [
       "6250"
      ]
     },
     "execution_count": 7,
     "metadata": {},
     "output_type": "execute_result"
    }
   ],
   "source": [
    "N = df.index.stop // no_of_nodes\n",
    "N"
   ]
  },
  {
   "cell_type": "code",
   "execution_count": 8,
   "id": "2b285c61-5d96-4c6e-b80c-8e674a54a455",
   "metadata": {},
   "outputs": [
    {
     "data": {
      "text/html": [
       "<div>\n",
       "<style scoped>\n",
       "    .dataframe tbody tr th:only-of-type {\n",
       "        vertical-align: middle;\n",
       "    }\n",
       "\n",
       "    .dataframe tbody tr th {\n",
       "        vertical-align: top;\n",
       "    }\n",
       "\n",
       "    .dataframe thead th {\n",
       "        text-align: right;\n",
       "    }\n",
       "</style>\n",
       "<table border=\"1\" class=\"dataframe\">\n",
       "  <thead>\n",
       "    <tr style=\"text-align: right;\">\n",
       "      <th></th>\n",
       "      <th>Index</th>\n",
       "      <th>X</th>\n",
       "      <th>y</th>\n",
       "      <th>node</th>\n",
       "    </tr>\n",
       "  </thead>\n",
       "  <tbody>\n",
       "    <tr>\n",
       "      <th>0</th>\n",
       "      <td>1</td>\n",
       "      <td>65.78331</td>\n",
       "      <td>112.9925</td>\n",
       "      <td>-1</td>\n",
       "    </tr>\n",
       "    <tr>\n",
       "      <th>1</th>\n",
       "      <td>2</td>\n",
       "      <td>71.51521</td>\n",
       "      <td>136.4873</td>\n",
       "      <td>-1</td>\n",
       "    </tr>\n",
       "    <tr>\n",
       "      <th>2</th>\n",
       "      <td>3</td>\n",
       "      <td>69.39874</td>\n",
       "      <td>153.0269</td>\n",
       "      <td>-1</td>\n",
       "    </tr>\n",
       "    <tr>\n",
       "      <th>3</th>\n",
       "      <td>4</td>\n",
       "      <td>68.21660</td>\n",
       "      <td>142.3354</td>\n",
       "      <td>-1</td>\n",
       "    </tr>\n",
       "    <tr>\n",
       "      <th>4</th>\n",
       "      <td>5</td>\n",
       "      <td>67.78781</td>\n",
       "      <td>144.2971</td>\n",
       "      <td>-1</td>\n",
       "    </tr>\n",
       "  </tbody>\n",
       "</table>\n",
       "</div>"
      ],
      "text/plain": [
       "   Index         X         y  node\n",
       "0      1  65.78331  112.9925    -1\n",
       "1      2  71.51521  136.4873    -1\n",
       "2      3  69.39874  153.0269    -1\n",
       "3      4  68.21660  142.3354    -1\n",
       "4      5  67.78781  144.2971    -1"
      ]
     },
     "execution_count": 8,
     "metadata": {},
     "output_type": "execute_result"
    }
   ],
   "source": [
    "df['node'] = -1\n",
    "df.head()"
   ]
  },
  {
   "cell_type": "markdown",
   "id": "25ccb4d9-b289-4f1d-b721-f19a4372d520",
   "metadata": {},
   "source": [
    "# allocate equal data to each nodes"
   ]
  },
  {
   "cell_type": "code",
   "execution_count": 9,
   "id": "a53acd75-c995-4348-b1c1-8911d1bbd8a6",
   "metadata": {},
   "outputs": [
    {
     "name": "stderr",
     "output_type": "stream",
     "text": [
      "/home/agaru/anaconda3/envs/cvf/lib/python3.12/site-packages/numpy/_core/fromnumeric.py:57: FutureWarning: 'DataFrame.swapaxes' is deprecated and will be removed in a future version. Please use 'DataFrame.transpose' instead.\n",
      "  return bound(*args, **kwds)\n"
     ]
    },
    {
     "data": {
      "text/html": [
       "<div>\n",
       "<style scoped>\n",
       "    .dataframe tbody tr th:only-of-type {\n",
       "        vertical-align: middle;\n",
       "    }\n",
       "\n",
       "    .dataframe tbody tr th {\n",
       "        vertical-align: top;\n",
       "    }\n",
       "\n",
       "    .dataframe thead th {\n",
       "        text-align: right;\n",
       "    }\n",
       "</style>\n",
       "<table border=\"1\" class=\"dataframe\">\n",
       "  <thead>\n",
       "    <tr style=\"text-align: right;\">\n",
       "      <th></th>\n",
       "      <th>Index</th>\n",
       "      <th>X</th>\n",
       "      <th>y</th>\n",
       "      <th>node</th>\n",
       "    </tr>\n",
       "  </thead>\n",
       "  <tbody>\n",
       "    <tr>\n",
       "      <th>24995</th>\n",
       "      <td>24996</td>\n",
       "      <td>69.50215</td>\n",
       "      <td>118.0312</td>\n",
       "      <td>3</td>\n",
       "    </tr>\n",
       "    <tr>\n",
       "      <th>24996</th>\n",
       "      <td>24997</td>\n",
       "      <td>64.54826</td>\n",
       "      <td>120.1932</td>\n",
       "      <td>3</td>\n",
       "    </tr>\n",
       "    <tr>\n",
       "      <th>24997</th>\n",
       "      <td>24998</td>\n",
       "      <td>64.69855</td>\n",
       "      <td>118.2655</td>\n",
       "      <td>3</td>\n",
       "    </tr>\n",
       "    <tr>\n",
       "      <th>24998</th>\n",
       "      <td>24999</td>\n",
       "      <td>67.52918</td>\n",
       "      <td>132.2682</td>\n",
       "      <td>3</td>\n",
       "    </tr>\n",
       "    <tr>\n",
       "      <th>24999</th>\n",
       "      <td>25000</td>\n",
       "      <td>68.87761</td>\n",
       "      <td>124.8742</td>\n",
       "      <td>3</td>\n",
       "    </tr>\n",
       "  </tbody>\n",
       "</table>\n",
       "</div>"
      ],
      "text/plain": [
       "       Index         X         y  node\n",
       "24995  24996  69.50215  118.0312     3\n",
       "24996  24997  64.54826  120.1932     3\n",
       "24997  24998  64.69855  118.2655     3\n",
       "24998  24999  67.52918  132.2682     3\n",
       "24999  25000  68.87761  124.8742     3"
      ]
     },
     "execution_count": 9,
     "metadata": {},
     "output_type": "execute_result"
    }
   ],
   "source": [
    "node_data_partitions = np.array_split(df, no_of_nodes)\n",
    "for i, node_data in enumerate(node_data_partitions):\n",
    "    df.loc[node_data.index, 'node'] = i\n",
    "\n",
    "df.tail()"
   ]
  },
  {
   "cell_type": "code",
   "execution_count": 10,
   "id": "f19ea273-57b3-4503-acc2-17b0b9c830bd",
   "metadata": {},
   "outputs": [
    {
     "data": {
      "text/plain": [
       "node\n",
       "0    6250\n",
       "1    6250\n",
       "2    6250\n",
       "3    6250\n",
       "Name: count, dtype: int64"
      ]
     },
     "execution_count": 10,
     "metadata": {},
     "output_type": "execute_result"
    }
   ],
   "source": [
    "df['node'].value_counts()"
   ]
  },
  {
   "cell_type": "code",
   "execution_count": 11,
   "id": "516fff8a-2e75-40d8-80e6-8f034711719c",
   "metadata": {},
   "outputs": [
    {
     "data": {
      "text/html": [
       "<div>\n",
       "<style scoped>\n",
       "    .dataframe tbody tr th:only-of-type {\n",
       "        vertical-align: middle;\n",
       "    }\n",
       "\n",
       "    .dataframe tbody tr th {\n",
       "        vertical-align: top;\n",
       "    }\n",
       "\n",
       "    .dataframe thead th {\n",
       "        text-align: right;\n",
       "    }\n",
       "</style>\n",
       "<table border=\"1\" class=\"dataframe\">\n",
       "  <thead>\n",
       "    <tr style=\"text-align: right;\">\n",
       "      <th></th>\n",
       "      <th>Index</th>\n",
       "      <th>X</th>\n",
       "      <th>y</th>\n",
       "      <th>node</th>\n",
       "      <th>partition</th>\n",
       "    </tr>\n",
       "  </thead>\n",
       "  <tbody>\n",
       "    <tr>\n",
       "      <th>0</th>\n",
       "      <td>1</td>\n",
       "      <td>65.78331</td>\n",
       "      <td>112.9925</td>\n",
       "      <td>0</td>\n",
       "      <td>-1</td>\n",
       "    </tr>\n",
       "    <tr>\n",
       "      <th>1</th>\n",
       "      <td>2</td>\n",
       "      <td>71.51521</td>\n",
       "      <td>136.4873</td>\n",
       "      <td>0</td>\n",
       "      <td>-1</td>\n",
       "    </tr>\n",
       "    <tr>\n",
       "      <th>2</th>\n",
       "      <td>3</td>\n",
       "      <td>69.39874</td>\n",
       "      <td>153.0269</td>\n",
       "      <td>0</td>\n",
       "      <td>-1</td>\n",
       "    </tr>\n",
       "    <tr>\n",
       "      <th>3</th>\n",
       "      <td>4</td>\n",
       "      <td>68.21660</td>\n",
       "      <td>142.3354</td>\n",
       "      <td>0</td>\n",
       "      <td>-1</td>\n",
       "    </tr>\n",
       "    <tr>\n",
       "      <th>4</th>\n",
       "      <td>5</td>\n",
       "      <td>67.78781</td>\n",
       "      <td>144.2971</td>\n",
       "      <td>0</td>\n",
       "      <td>-1</td>\n",
       "    </tr>\n",
       "  </tbody>\n",
       "</table>\n",
       "</div>"
      ],
      "text/plain": [
       "   Index         X         y  node  partition\n",
       "0      1  65.78331  112.9925     0         -1\n",
       "1      2  71.51521  136.4873     0         -1\n",
       "2      3  69.39874  153.0269     0         -1\n",
       "3      4  68.21660  142.3354     0         -1\n",
       "4      5  67.78781  144.2971     0         -1"
      ]
     },
     "execution_count": 11,
     "metadata": {},
     "output_type": "execute_result"
    }
   ],
   "source": [
    "df['partition'] = -1\n",
    "df.head()"
   ]
  },
  {
   "cell_type": "code",
   "execution_count": 12,
   "id": "fbbe905d-1649-45d1-a20f-d3ac85c5f39c",
   "metadata": {},
   "outputs": [],
   "source": [
    "def gen_test_data_partition_frm_df(partitions, df):\n",
    "    shuffled = df.sample(frac=1)\n",
    "    result = np.array_split(shuffled, partitions)\n",
    "    return result"
   ]
  },
  {
   "cell_type": "code",
   "execution_count": 13,
   "id": "1151e5a5-e1c5-4016-a782-6020d60a5d92",
   "metadata": {},
   "outputs": [
    {
     "name": "stderr",
     "output_type": "stream",
     "text": [
      "/home/agaru/anaconda3/envs/cvf/lib/python3.12/site-packages/numpy/_core/fromnumeric.py:57: FutureWarning: 'DataFrame.swapaxes' is deprecated and will be removed in a future version. Please use 'DataFrame.transpose' instead.\n",
      "  return bound(*args, **kwds)\n",
      "/home/agaru/anaconda3/envs/cvf/lib/python3.12/site-packages/numpy/_core/fromnumeric.py:57: FutureWarning: 'DataFrame.swapaxes' is deprecated and will be removed in a future version. Please use 'DataFrame.transpose' instead.\n",
      "  return bound(*args, **kwds)\n",
      "/home/agaru/anaconda3/envs/cvf/lib/python3.12/site-packages/numpy/_core/fromnumeric.py:57: FutureWarning: 'DataFrame.swapaxes' is deprecated and will be removed in a future version. Please use 'DataFrame.transpose' instead.\n",
      "  return bound(*args, **kwds)\n",
      "/home/agaru/anaconda3/envs/cvf/lib/python3.12/site-packages/numpy/_core/fromnumeric.py:57: FutureWarning: 'DataFrame.swapaxes' is deprecated and will be removed in a future version. Please use 'DataFrame.transpose' instead.\n",
      "  return bound(*args, **kwds)\n"
     ]
    }
   ],
   "source": [
    "for i in range(no_of_nodes):\n",
    "    node_filter = (df['node'] == i)\n",
    "    node_df = df[node_filter]\n",
    "    partitions = gen_test_data_partition_frm_df(no_of_nodes, node_df)\n",
    "    for i, p in enumerate(partitions):\n",
    "        df.loc[df.index.isin(p.index.values), 'partition'] = i"
   ]
  },
  {
   "cell_type": "code",
   "execution_count": 14,
   "id": "a555ea58-04a3-4891-a0d5-124e3c895efb",
   "metadata": {},
   "outputs": [
    {
     "data": {
      "text/html": [
       "<div>\n",
       "<style scoped>\n",
       "    .dataframe tbody tr th:only-of-type {\n",
       "        vertical-align: middle;\n",
       "    }\n",
       "\n",
       "    .dataframe tbody tr th {\n",
       "        vertical-align: top;\n",
       "    }\n",
       "\n",
       "    .dataframe thead th {\n",
       "        text-align: right;\n",
       "    }\n",
       "</style>\n",
       "<table border=\"1\" class=\"dataframe\">\n",
       "  <thead>\n",
       "    <tr style=\"text-align: right;\">\n",
       "      <th></th>\n",
       "      <th>Index</th>\n",
       "      <th>X</th>\n",
       "      <th>y</th>\n",
       "      <th>node</th>\n",
       "      <th>partition</th>\n",
       "    </tr>\n",
       "  </thead>\n",
       "  <tbody>\n",
       "    <tr>\n",
       "      <th>0</th>\n",
       "      <td>1</td>\n",
       "      <td>65.78331</td>\n",
       "      <td>112.9925</td>\n",
       "      <td>0</td>\n",
       "      <td>1</td>\n",
       "    </tr>\n",
       "    <tr>\n",
       "      <th>1</th>\n",
       "      <td>2</td>\n",
       "      <td>71.51521</td>\n",
       "      <td>136.4873</td>\n",
       "      <td>0</td>\n",
       "      <td>3</td>\n",
       "    </tr>\n",
       "    <tr>\n",
       "      <th>2</th>\n",
       "      <td>3</td>\n",
       "      <td>69.39874</td>\n",
       "      <td>153.0269</td>\n",
       "      <td>0</td>\n",
       "      <td>0</td>\n",
       "    </tr>\n",
       "    <tr>\n",
       "      <th>3</th>\n",
       "      <td>4</td>\n",
       "      <td>68.21660</td>\n",
       "      <td>142.3354</td>\n",
       "      <td>0</td>\n",
       "      <td>1</td>\n",
       "    </tr>\n",
       "    <tr>\n",
       "      <th>4</th>\n",
       "      <td>5</td>\n",
       "      <td>67.78781</td>\n",
       "      <td>144.2971</td>\n",
       "      <td>0</td>\n",
       "      <td>1</td>\n",
       "    </tr>\n",
       "    <tr>\n",
       "      <th>...</th>\n",
       "      <td>...</td>\n",
       "      <td>...</td>\n",
       "      <td>...</td>\n",
       "      <td>...</td>\n",
       "      <td>...</td>\n",
       "    </tr>\n",
       "    <tr>\n",
       "      <th>24995</th>\n",
       "      <td>24996</td>\n",
       "      <td>69.50215</td>\n",
       "      <td>118.0312</td>\n",
       "      <td>3</td>\n",
       "      <td>2</td>\n",
       "    </tr>\n",
       "    <tr>\n",
       "      <th>24996</th>\n",
       "      <td>24997</td>\n",
       "      <td>64.54826</td>\n",
       "      <td>120.1932</td>\n",
       "      <td>3</td>\n",
       "      <td>0</td>\n",
       "    </tr>\n",
       "    <tr>\n",
       "      <th>24997</th>\n",
       "      <td>24998</td>\n",
       "      <td>64.69855</td>\n",
       "      <td>118.2655</td>\n",
       "      <td>3</td>\n",
       "      <td>3</td>\n",
       "    </tr>\n",
       "    <tr>\n",
       "      <th>24998</th>\n",
       "      <td>24999</td>\n",
       "      <td>67.52918</td>\n",
       "      <td>132.2682</td>\n",
       "      <td>3</td>\n",
       "      <td>3</td>\n",
       "    </tr>\n",
       "    <tr>\n",
       "      <th>24999</th>\n",
       "      <td>25000</td>\n",
       "      <td>68.87761</td>\n",
       "      <td>124.8742</td>\n",
       "      <td>3</td>\n",
       "      <td>3</td>\n",
       "    </tr>\n",
       "  </tbody>\n",
       "</table>\n",
       "<p>25000 rows × 5 columns</p>\n",
       "</div>"
      ],
      "text/plain": [
       "       Index         X         y  node  partition\n",
       "0          1  65.78331  112.9925     0          1\n",
       "1          2  71.51521  136.4873     0          3\n",
       "2          3  69.39874  153.0269     0          0\n",
       "3          4  68.21660  142.3354     0          1\n",
       "4          5  67.78781  144.2971     0          1\n",
       "...      ...       ...       ...   ...        ...\n",
       "24995  24996  69.50215  118.0312     3          2\n",
       "24996  24997  64.54826  120.1932     3          0\n",
       "24997  24998  64.69855  118.2655     3          3\n",
       "24998  24999  67.52918  132.2682     3          3\n",
       "24999  25000  68.87761  124.8742     3          3\n",
       "\n",
       "[25000 rows x 5 columns]"
      ]
     },
     "execution_count": 14,
     "metadata": {},
     "output_type": "execute_result"
    }
   ],
   "source": [
    "df"
   ]
  },
  {
   "cell_type": "code",
   "execution_count": 15,
   "id": "2e042f3d-4070-4cd1-a067-1e73ed70c49a",
   "metadata": {},
   "outputs": [],
   "source": [
    "assert df[df['partition'].isna()].empty"
   ]
  },
  {
   "cell_type": "code",
   "execution_count": 16,
   "id": "76bc1335-c5a8-41ae-baf7-a1691a72a4bf",
   "metadata": {},
   "outputs": [
    {
     "data": {
      "text/plain": [
       "[{'m': 0, 'c': 0}, {'m': 0, 'c': 0}, {'m': 0, 'c': 0}, {'m': 0, 'c': 0}]"
      ]
     },
     "execution_count": 16,
     "metadata": {},
     "output_type": "execute_result"
    }
   ],
   "source": [
    "node_params = [ {\"m\": 0, \"c\": 0} for i in range(no_of_nodes)]\n",
    "node_params"
   ]
  },
  {
   "cell_type": "markdown",
   "id": "1ef51d16-ad00-457f-a7f0-95f85225599e",
   "metadata": {},
   "source": [
    "# Training config"
   ]
  },
  {
   "cell_type": "code",
   "execution_count": 17,
   "id": "89cc1921-9798-4cf9-bbb9-91dc1038566f",
   "metadata": {},
   "outputs": [],
   "source": [
    "iterations = 25\n",
    "L = 0.0001 # learning rate"
   ]
  },
  {
   "cell_type": "code",
   "execution_count": 18,
   "id": "90b1686a-1a43-4526-b27a-647ec8d335be",
   "metadata": {},
   "outputs": [],
   "source": [
    "doubly_stochastic_matrix_config = [\n",
    "            [1 / 2, 1 / 4, 1 / 8, 1 / 8],\n",
    "            [1 / 4, 3 / 4, 0, 0],\n",
    "            [1 / 8, 0, 7 / 8, 0],\n",
    "            [1 / 8, 0, 0, 7 / 8],\n",
    "        ]"
   ]
  },
  {
   "cell_type": "code",
   "execution_count": 19,
   "id": "40118914-9142-464f-916f-60a339c32af9",
   "metadata": {},
   "outputs": [],
   "source": [
    "steps_data = []\n",
    "accuracy_data = [\n",
    "    [] for i in range(no_of_nodes)\n",
    "]\n",
    "grad_data = [\n",
    "    [] for i in range(no_of_nodes)\n",
    "]"
   ]
  },
  {
   "cell_type": "code",
   "execution_count": 20,
   "id": "d69f0293-3e06-4b23-858c-4364c88a1e95",
   "metadata": {},
   "outputs": [],
   "source": [
    "def get_node_data_df(node_id):\n",
    "    return df[df['node'] == node_id]"
   ]
  },
  {
   "cell_type": "code",
   "execution_count": 21,
   "id": "dab817d9-f452-48f9-bd58-95aa1835bedf",
   "metadata": {},
   "outputs": [],
   "source": [
    "def get_node_test_data_df(node_id):\n",
    "    return df[df['partition'] == node_id]"
   ]
  },
  {
   "cell_type": "code",
   "execution_count": 22,
   "id": "a5d4eaf7-624e-4a4a-8e43-60a2f1e45f87",
   "metadata": {},
   "outputs": [],
   "source": [
    "node_df = get_node_data_df(0)\n",
    "X_node = node_df[\"X\"].array"
   ]
  },
  {
   "cell_type": "code",
   "execution_count": 23,
   "id": "bafcdb65-a4e7-46c2-8cf7-b8cc7112d536",
   "metadata": {},
   "outputs": [],
   "source": [
    "node_params = [{\"m\": 1.7, \"c\": 0}, {\"m\": 1.9, \"c\": 0}, {\"m\": 1.1, \"c\": 0}, {\"m\": 1.8, \"c\": 0}]"
   ]
  },
  {
   "cell_type": "code",
   "execution_count": 24,
   "id": "201a1e83-d7aa-4255-a6cd-0161a7f93391",
   "metadata": {},
   "outputs": [
    {
     "name": "stdout",
     "output_type": "stream",
     "text": [
      "[np.float64(1.8), np.float64(1.9), np.float64(1.9), np.float64(1.9)]\n",
      "[np.float64(1.9), np.float64(1.9), np.float64(1.9), np.float64(1.9)]\n",
      "[np.float64(1.9), np.float64(1.9), np.float64(1.9), np.float64(1.9)]\n",
      "[np.float64(1.9), np.float64(1.9), np.float64(1.9), np.float64(1.9)]\n",
      "[np.float64(1.9), np.float64(1.9), np.float64(1.9), np.float64(1.9)]\n",
      "[np.float64(1.9), np.float64(1.9), np.float64(1.9), np.float64(1.9)]\n",
      "[np.float64(1.9), np.float64(1.9), np.float64(1.9), np.float64(1.9)]\n",
      "[np.float64(1.9), np.float64(1.9), np.float64(1.9), np.float64(1.9)]\n",
      "[np.float64(1.9), np.float64(1.9), np.float64(1.9), np.float64(1.9)]\n",
      "[np.float64(1.9), np.float64(1.9), np.float64(1.9), np.float64(1.9)]\n",
      "[np.float64(1.9), np.float64(1.9), np.float64(1.9), np.float64(1.9)]\n",
      "[np.float64(1.9), np.float64(1.9), np.float64(1.9), np.float64(1.9)]\n",
      "[np.float64(1.9), np.float64(1.9), np.float64(1.9), np.float64(1.9)]\n",
      "[np.float64(1.9), np.float64(1.9), np.float64(1.9), np.float64(1.9)]\n",
      "[np.float64(1.9), np.float64(1.9), np.float64(1.9), np.float64(1.9)]\n",
      "[np.float64(1.9), np.float64(1.9), np.float64(1.9), np.float64(1.9)]\n",
      "[np.float64(1.9), np.float64(1.9), np.float64(1.9), np.float64(1.9)]\n",
      "[np.float64(1.9), np.float64(1.9), np.float64(1.9), np.float64(1.9)]\n",
      "[np.float64(1.9), np.float64(1.9), np.float64(1.9), np.float64(1.9)]\n",
      "[np.float64(1.9), np.float64(1.9), np.float64(1.9), np.float64(1.9)]\n",
      "[np.float64(1.9), np.float64(1.9), np.float64(1.9), np.float64(1.9)]\n",
      "[np.float64(1.9), np.float64(1.9), np.float64(1.9), np.float64(1.9)]\n",
      "[np.float64(1.9), np.float64(1.9), np.float64(1.9), np.float64(1.9)]\n",
      "[np.float64(1.9), np.float64(1.9), np.float64(1.9), np.float64(1.9)]\n",
      "[np.float64(1.9), np.float64(1.9), np.float64(1.9), np.float64(1.9)]\n"
     ]
    }
   ],
   "source": [
    "max_m_c = [{\"m\": 0 , \"c\": 0} for i in range(no_of_nodes)]\n",
    "min_m_c = [{\"m\": 0 , \"c\": 0} for i in range(no_of_nodes)]\n",
    "for i in range(1, iterations+1):\n",
    "    if i % 100 == 0:\n",
    "        print(\"Iteration\", i)\n",
    "    steps_data.append(i)\n",
    "    prev_node_params = node_params.copy()\n",
    "    for node_id in range(no_of_nodes):\n",
    "        params = node_params[node_id]\n",
    "\n",
    "        node_df = get_node_data_df(node_id)\n",
    "        X_node = node_df[\"X\"].array\n",
    "        y_node = node_df[\"y\"].array\n",
    "\n",
    "        node_test_df = get_node_test_data_df(node_id)\n",
    "        X_node_test = node_test_df[\"X\"].array\n",
    "        y_node_test = node_test_df[\"y\"].array\n",
    "        y_node_test_mean = node_test_df[\"y\"].mean()\n",
    "\n",
    "        y_node_test_pred = forward(X_node_test, params)\n",
    "        y_node_pred = forward(X_node, params)\n",
    "        \n",
    "        # loss = loss_fn(y_node_test, y_node_test_pred)\n",
    "        accuracy = r2_score(y_node_test, y_node_test_mean, y_node_test_pred)\n",
    "        accuracy_data[node_id].append(accuracy)\n",
    "        # print(\"Node:\", node_id, \"| Loss:\", round(loss, 6), \"| Accuracy:\", round(accuracy, 6))\n",
    "\n",
    "        # accuracy = r2_score(y_node_test, y_node_test_mean, y_node_test_norm_pred)\n",
    "    \n",
    "        grad_m = gradient_m(X_node, y_node, y_node_pred)\n",
    "        grad_c = gradient_c(y_node, y_node_pred)\n",
    "\n",
    "        doubly_st_mt = doubly_stochastic_matrix_config[node_id]\n",
    "        params['m'] = sum( frac*prev_node_params[i][\"m\"] for i, frac in enumerate(doubly_st_mt) ) - L * grad_m\n",
    "        params['c'] = sum( frac*prev_node_params[i][\"c\"] for i, frac in enumerate(doubly_st_mt) ) - L * grad_c\n",
    "\n",
    "        # grad_data[node_id].append(grad_m)\n",
    "\n",
    "    # print([np.round(p['m'], 1) for p in prev_node_params], [np.round(p['m'], 1) for p in node_params])\n",
    "    print([np.round(p['m'], 1) for p in node_params])"
   ]
  },
  {
   "cell_type": "code",
   "execution_count": null,
   "id": "6e80858f-13ac-4abf-afc7-bb68ed03bb69",
   "metadata": {},
   "outputs": [],
   "source": [
    "max_m_c"
   ]
  },
  {
   "cell_type": "code",
   "execution_count": null,
   "id": "61ccc751-5d53-4b24-beec-485042bc73f9",
   "metadata": {},
   "outputs": [],
   "source": [
    "min_m_c"
   ]
  },
  {
   "cell_type": "code",
   "execution_count": null,
   "id": "aa3c6997-c484-49fc-9475-78fad22e9d61",
   "metadata": {},
   "outputs": [],
   "source": [
    "df['single_node_test_sample'] = 0\n",
    "df.head()"
   ]
  },
  {
   "cell_type": "code",
   "execution_count": null,
   "id": "4dc17a8c-6ea4-4280-aa8c-83aeaa4ede57",
   "metadata": {},
   "outputs": [],
   "source": [
    "partition = gen_test_data_partition_frm_df(no_of_nodes, df)[random.randint(0, no_of_nodes-1)]\n",
    "df.loc[df.index.isin(partition.index.values), 'single_node_test_sample'] = 1\n",
    "df[df['single_node_test_sample'] == 1].count()"
   ]
  },
  {
   "cell_type": "code",
   "execution_count": null,
   "id": "1b3a60e8-a25e-4a00-be66-7ab4aa4ac7e9",
   "metadata": {},
   "outputs": [],
   "source": [
    "X = df[\"X\"].array\n",
    "y = df[\"y\"].array\n",
    "\n",
    "X_test = df[df['single_node_test_sample'] == 1][\"X\"].array\n",
    "y_test = df[df['single_node_test_sample'] == 1][\"y\"].array\n",
    "\n",
    "gd_iterations, gd_accuracy, gd_grad_m = get_iteration_vs_accuracy_data(X, y, iterations, X_test=X_test, y_test=y_test, L=L)"
   ]
  },
  {
   "cell_type": "code",
   "execution_count": null,
   "id": "b9e7bd8e-7dc4-4c31-9035-e30fe74630aa",
   "metadata": {},
   "outputs": [],
   "source": [
    "data = {f'Node {i}': accuracy_data[i] for i in range(no_of_nodes)}\n",
    "df = pd.DataFrame({\"Iteration\": steps_data, **data})\n",
    "dfl = pd.melt(df, [\"Iteration\"], value_name=\"Accuracy\", var_name=\"Node\") \n",
    "ax = sns.lineplot(data=dfl, x='Iteration', y='Accuracy', hue='Node')\n",
    "ax.set_title(f\"Iteration vs Accuracy ({iterations} iterations)\")\n",
    "sns.lineplot(x=gd_iterations, y=gd_accuracy, linestyle='--', color='r', label='Single Node')"
   ]
  },
  {
   "cell_type": "code",
   "execution_count": null,
   "id": "de4d8160-f978-48fd-b5a9-fa685d99cd73",
   "metadata": {},
   "outputs": [],
   "source": [
    "# data = {f'Node {i}': accuracy_norm_data[i] for i in range(no_of_nodes)}\n",
    "# df = pd.DataFrame({\"Iteration\": steps_data, **data})\n",
    "# dfl = pd.melt(df, [\"Iteration\"], value_name=\"Accuracy\", var_name=\"Node\") \n",
    "# ax = sns.lineplot(data=dfl, x='Iteration', y='Accuracy', hue='Node')\n",
    "# ax.set_title(f\"Iteration vs Accuracy, Roundoff Gradient ({iterations} iterations)\")\n",
    "# sns.lineplot(x=gd_iterations, y=gd_accuracy, linestyle='--', color='r', label='Single Node')"
   ]
  },
  {
   "cell_type": "code",
   "execution_count": null,
   "id": "a60af909-0af0-4217-acb8-6224d5892815",
   "metadata": {},
   "outputs": [],
   "source": [
    "iteration_start = 0\n",
    "iterations_sample = 20\n",
    "data = {f'Node {i}': accuracy_data[i][iteration_start:iterations_sample] for i in range(no_of_nodes)}\n",
    "df = pd.DataFrame({\"Iteration\": steps_data[iteration_start:iterations_sample], **data})\n",
    "dfl = pd.melt(df, [\"Iteration\"], value_name=\"Accuracy\", var_name=\"Node\")\n",
    "\n",
    "ax = sns.lineplot(data=dfl, x='Iteration', y='Accuracy', hue='Node')\n",
    "ax.set_title(f\"Iteration vs Accuracy ({iteration_start} - {iterations_sample} iterations)\")\n",
    "\n",
    "sns.lineplot(x=gd_iterations[iteration_start:iterations_sample], y=gd_accuracy[iteration_start:iterations_sample], linestyle='--', color='r', label='Single Node')"
   ]
  },
  {
   "cell_type": "code",
   "execution_count": null,
   "id": "95dd2866-aea2-4832-9851-d89044b7d2ff",
   "metadata": {},
   "outputs": [],
   "source": [
    "ax = sns.lineplot(x=gd_iterations, y=gd_accuracy, linestyle='--', color='r', label='Single Node')\n",
    "ax.set_title(f\"Iteration vs Accuracy ({iterations} iterations) - Gradient descent in single node\")"
   ]
  },
  {
   "cell_type": "code",
   "execution_count": null,
   "id": "8fc9fe7d-cf2a-4ba4-a492-2498d167c458",
   "metadata": {},
   "outputs": [],
   "source": [
    "iteration_start = 0\n",
    "iteration_end = 50\n",
    "ax = sns.lineplot(x=gd_iterations[iteration_start:iteration_end], y=gd_grad_m[iteration_start:iteration_end], linestyle='--', marker='o', label='Single Node')\n",
    "ax.set_title(f\"Iteration vs Gradient m ({iteration_start} - {iteration_end} iterations) - Gradient descent in single node\")"
   ]
  },
  {
   "cell_type": "code",
   "execution_count": null,
   "id": "e45baeb2-e89d-471c-be65-259616ae6092",
   "metadata": {},
   "outputs": [],
   "source": [
    "grad_data[2]"
   ]
  },
  {
   "cell_type": "code",
   "execution_count": null,
   "id": "d797e825-8434-4d19-b9a3-7df96e5ae175",
   "metadata": {},
   "outputs": [],
   "source": [
    "accuracy_data"
   ]
  },
  {
   "cell_type": "code",
   "execution_count": null,
   "id": "f5bca8bd-d370-4137-8413-a6487e6d1b08",
   "metadata": {},
   "outputs": [],
   "source": []
  }
 ],
 "metadata": {
  "kernelspec": {
   "display_name": "Python 3 (ipykernel)",
   "language": "python",
   "name": "python3"
  },
  "language_info": {
   "codemirror_mode": {
    "name": "ipython",
    "version": 3
   },
   "file_extension": ".py",
   "mimetype": "text/x-python",
   "name": "python",
   "nbconvert_exporter": "python",
   "pygments_lexer": "ipython3",
   "version": "3.12.4"
  }
 },
 "nbformat": 4,
 "nbformat_minor": 5
}
