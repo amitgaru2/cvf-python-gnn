{
 "cells": [
  {
   "cell_type": "code",
   "execution_count": 1,
   "id": "2dde8d74-d5d3-4a36-8d47-eeff99743411",
   "metadata": {},
   "outputs": [],
   "source": [
    "import ast\n",
    "import json"
   ]
  },
  {
   "cell_type": "code",
   "execution_count": 2,
   "id": "50905b60-9f63-457a-9fe7-e1f0492778c4",
   "metadata": {},
   "outputs": [],
   "source": [
    "def get_list_frm_str(str_list):\n",
    "    return ast.literal_eval(str_list)"
   ]
  },
  {
   "cell_type": "code",
   "execution_count": 3,
   "id": "67b3ab5c-f08d-4299-9c49-618edfbe7828",
   "metadata": {},
   "outputs": [],
   "source": [
    "pts = json.load(open(\"output.json\", \"r\"))"
   ]
  },
  {
   "cell_type": "code",
   "execution_count": 4,
   "id": "5302c8a0-4849-4e1a-adf4-51b40b9aea8e",
   "metadata": {},
   "outputs": [],
   "source": [
    "# pts"
   ]
  },
  {
   "cell_type": "code",
   "execution_count": 5,
   "id": "9901ef74-a4e6-4bbc-be1e-3c0c847c331c",
   "metadata": {},
   "outputs": [],
   "source": [
    "invariant = (1.85, 1.85, 1.85, 1.85)"
   ]
  },
  {
   "cell_type": "code",
   "execution_count": 6,
   "id": "91cec663-6b9f-4c8f-8da2-77d6a2485da1",
   "metadata": {},
   "outputs": [],
   "source": [
    "tree = {}"
   ]
  },
  {
   "cell_type": "code",
   "execution_count": 7,
   "id": "2d0cc000-8c49-49ba-9d13-d353a9547ce0",
   "metadata": {},
   "outputs": [],
   "source": [
    "def get_transitions_to_state(state):\n",
    "    state = list(state)\n",
    "    result = set()\n",
    "    for src, transitions in pts.items():\n",
    "        if state in transitions:\n",
    "            result.add(tuple(get_list_frm_str(src)))\n",
    "    return result"
   ]
  },
  {
   "cell_type": "code",
   "execution_count": 8,
   "id": "8007cfbb-7624-4874-83c6-3c1597384d8c",
   "metadata": {},
   "outputs": [],
   "source": [
    "tree_indexes = {invariant: 0}\n",
    "tree_indexes_reverse = {0: invariant}\n",
    "tree_index_counter = 1\n",
    "\n",
    "tree[tree_indexes[invariant]] = set()"
   ]
  },
  {
   "cell_type": "code",
   "execution_count": 9,
   "id": "88798f9a-6f4f-470e-b3f8-d7138bc809aa",
   "metadata": {},
   "outputs": [],
   "source": [
    "def add_new_state_to_tree(state):\n",
    "    global tree_index_counter\n",
    "    \n",
    "    tree_indexes[state] = tree_index_counter\n",
    "    tree_indexes_reverse[tree_index_counter] = state\n",
    "    tree[tree_index_counter] = set()\n",
    "    tree_index_counter += 1"
   ]
  },
  {
   "cell_type": "code",
   "execution_count": 10,
   "id": "fa71467f-5890-4a81-9a68-4b381a7b23df",
   "metadata": {},
   "outputs": [],
   "source": [
    "traveresed = set()\n",
    "traveresed_child_of = set()"
   ]
  },
  {
   "cell_type": "code",
   "execution_count": 11,
   "id": "23f28554-cdc3-40c6-ae7b-3c5b44e57c97",
   "metadata": {},
   "outputs": [],
   "source": [
    "def add_trans_to_tree(state):\n",
    "    for trans in get_transitions_to_state(state):\n",
    "        if trans not in tree_indexes:\n",
    "            add_new_state_to_tree(trans)\n",
    "        tree[tree_indexes[state]].add(tree_indexes[trans])\n",
    "    traveresed.add(tree_indexes[state])"
   ]
  },
  {
   "cell_type": "code",
   "execution_count": 12,
   "id": "1d0149e6-35bc-4db6-8214-551f2912372c",
   "metadata": {},
   "outputs": [],
   "source": [
    "add_trans_to_tree(invariant)"
   ]
  },
  {
   "cell_type": "code",
   "execution_count": 13,
   "id": "14e0666b-f47c-435f-bec5-4bcb77920829",
   "metadata": {},
   "outputs": [],
   "source": [
    "# tree"
   ]
  },
  {
   "cell_type": "code",
   "execution_count": 14,
   "id": "397147f4-57f4-4e04-b09c-846a77ad8784",
   "metadata": {},
   "outputs": [
    {
     "name": "stdout",
     "output_type": "stream",
     "text": [
      "Traveresed: 641 Remaining: 14000\n",
      "Traveresed: 14641 Remaining: 0\n"
     ]
    }
   ],
   "source": [
    "while len(traveresed) != len(pts):\n",
    "    for k in tree.keys() - traveresed_child_of:\n",
    "        for v in tree[k] - traveresed:\n",
    "            add_trans_to_tree(tree_indexes_reverse[v])\n",
    "        traveresed_child_of.add(k)\n",
    "    print(\"Traveresed:\", len(traveresed), \"Remaining:\", len(pts) - len(traveresed))"
   ]
  },
  {
   "cell_type": "code",
   "execution_count": 15,
   "id": "6d129d50-6976-4cdd-88fb-452f50992a10",
   "metadata": {},
   "outputs": [],
   "source": [
    "def bfs(state):\n",
    "    result = set()\n",
    "    queue = [*tree[state]]\n",
    "    while queue:\n",
    "        s = queue.pop(0)\n",
    "        if s == state:\n",
    "            return False\n",
    "        queue.extend([*tree[s]])\n",
    "        result.add(s)\n",
    "    return True"
   ]
  },
  {
   "cell_type": "code",
   "execution_count": 16,
   "id": "da2e4b25-d2e2-498d-8c93-708e238f9350",
   "metadata": {},
   "outputs": [
    {
     "data": {
      "text/plain": [
       "True"
      ]
     },
     "execution_count": 16,
     "metadata": {},
     "output_type": "execute_result"
    }
   ],
   "source": [
    "indx = 400\n",
    "bfs(indx)"
   ]
  },
  {
   "cell_type": "code",
   "execution_count": 17,
   "id": "ec72c608-d701-483e-aeeb-0e93e25a1e70",
   "metadata": {},
   "outputs": [
    {
     "data": {
      "text/plain": [
       "(1.725, 1.85, 1.875, 1.85)"
      ]
     },
     "execution_count": 17,
     "metadata": {},
     "output_type": "execute_result"
    }
   ],
   "source": [
    "tree_indexes_reverse[indx]"
   ]
  },
  {
   "cell_type": "code",
   "execution_count": 18,
   "id": "f7be728f-d39e-45d1-83f5-c8402ed0a535",
   "metadata": {},
   "outputs": [
    {
     "data": {
      "text/plain": [
       "set()"
      ]
     },
     "execution_count": 18,
     "metadata": {},
     "output_type": "execute_result"
    }
   ],
   "source": [
    "# get_transitions_to_state((1.7, 1.9, 1.1, 1.8))"
   ]
  },
  {
   "cell_type": "code",
   "execution_count": null,
   "id": "4a44a9ba-715a-4531-91e6-99a5f749d3c4",
   "metadata": {},
   "outputs": [],
   "source": []
  }
 ],
 "metadata": {
  "kernelspec": {
   "display_name": "Python 3 (ipykernel)",
   "language": "python",
   "name": "python3"
  },
  "language_info": {
   "codemirror_mode": {
    "name": "ipython",
    "version": 3
   },
   "file_extension": ".py",
   "mimetype": "text/x-python",
   "name": "python",
   "nbconvert_exporter": "python",
   "pygments_lexer": "ipython3",
   "version": "3.12.4"
  }
 },
 "nbformat": 4,
 "nbformat_minor": 5
}
