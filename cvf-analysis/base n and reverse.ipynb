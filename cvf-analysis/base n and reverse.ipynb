{
 "cells": [
  {
   "cell_type": "code",
   "execution_count": 2,
   "id": "a64df8a3-d0cf-4211-939f-1a44e90c3b44",
   "metadata": {},
   "outputs": [],
   "source": [
    "possible_node_values = [\n",
    "    [0, 1],\n",
    "    [0, 1],\n",
    "    [0, 1, 2],\n",
    "    [0, 1, 2, 3]\n",
    "]"
   ]
  },
  {
   "cell_type": "code",
   "execution_count": 3,
   "id": "552d4df3-c558-46c9-a0c7-8502eb23f0ac",
   "metadata": {},
   "outputs": [],
   "source": [
    "strs = [\n",
    "    \"0000\",\n",
    "    \"0001\",\n",
    "    \"0002\",\n",
    "    \"0010\",\n",
    "    \"0003\",\n",
    "    \"0103\",\n",
    "    \"1010\",\n",
    "    \"1021\",\n",
    "    \"1113\",\n",
    "]"
   ]
  },
  {
   "cell_type": "code",
   "execution_count": 12,
   "id": "5145f13f-604b-4808-a417-331189a84160",
   "metadata": {},
   "outputs": [
    {
     "name": "stdout",
     "output_type": "stream",
     "text": [
      "[1, 4, 12, 24]\n"
     ]
    }
   ],
   "source": [
    "# multiplier = [\n",
    "#     1,\n",
    "#     len(possible_node_values[-1]),\n",
    "#     len(possible_node_values[-1]) * len(possible_node_values[-2]),\n",
    "#     len(possible_node_values[-1]) * len(possible_node_values[-2]) * len(possible_node_values[-3])\n",
    "# ]\n",
    "\n",
    "possible_node_values_len_rev = [len(i) for i in possible_node_values[::-1]]\n",
    "\n",
    "multiplier = [1]\n",
    "for x in possible_node_values_len_rev[:-1]:\n",
    "    multiplier.append(multiplier[-1] * x)\n",
    "\n",
    "print(multiplier)"
   ]
  },
  {
   "cell_type": "code",
   "execution_count": 6,
   "id": "61135186-5703-4737-b1f4-cba844fac33a",
   "metadata": {},
   "outputs": [
    {
     "name": "stdout",
     "output_type": "stream",
     "text": [
      "0000\n",
      "0\n",
      "\n",
      "0001\n",
      "1\n",
      "\n",
      "0002\n",
      "2\n",
      "\n",
      "0010\n",
      "4\n",
      "\n",
      "0003\n",
      "3\n",
      "\n",
      "0103\n",
      "15\n",
      "\n",
      "1010\n",
      "28\n",
      "\n",
      "1021\n",
      "33\n",
      "\n",
      "1113\n",
      "43\n",
      "\n"
     ]
    }
   ],
   "source": [
    "for s in strs:\n",
    "    print(s)\n",
    "    value = 0\n",
    "    for i in range(len(s)):\n",
    "        digit = int(s[len(s) - i - 1])\n",
    "        value = value + multiplier[i] * digit\n",
    "    print(value)\n",
    "    print()"
   ]
  },
  {
   "cell_type": "code",
   "execution_count": 7,
   "id": "679d5034-c8f6-4683-b3f6-f9a998ae2c2c",
   "metadata": {},
   "outputs": [],
   "source": [
    "# value to string"
   ]
  },
  {
   "cell_type": "code",
   "execution_count": 8,
   "id": "f6151c66-54b9-49b4-b2aa-ea435fe7ce94",
   "metadata": {},
   "outputs": [],
   "source": [
    "values = [\n",
    "    0,\n",
    "    1,\n",
    "    2,\n",
    "    4,\n",
    "    3,\n",
    "    15,\n",
    "    28,\n",
    "    33,\n",
    "    43\n",
    "]"
   ]
  },
  {
   "cell_type": "code",
   "execution_count": 9,
   "id": "f89b544f-288a-41b1-9c13-9a8daccbab40",
   "metadata": {},
   "outputs": [
    {
     "name": "stdout",
     "output_type": "stream",
     "text": [
      "0\n",
      "0000\n",
      "\n",
      "1\n",
      "0001\n",
      "\n",
      "2\n",
      "0002\n",
      "\n",
      "4\n",
      "0010\n",
      "\n",
      "3\n",
      "0003\n",
      "\n",
      "15\n",
      "0103\n",
      "\n",
      "28\n",
      "1010\n",
      "\n",
      "33\n",
      "1021\n",
      "\n",
      "43\n",
      "1113\n",
      "\n"
     ]
    }
   ],
   "source": [
    "multiplier_cp = multiplier[::-1]\n",
    "for value in values:\n",
    "    print(value)\n",
    "    s = \"\"\n",
    "    for i in multiplier_cp:\n",
    "        if value >= i:\n",
    "            indx_val = value // i\n",
    "            s+=str(indx_val)\n",
    "            value -= indx_val * i\n",
    "        else:\n",
    "            s+=\"0\"\n",
    "    print(s)\n",
    "    print()"
   ]
  },
  {
   "cell_type": "code",
   "execution_count": null,
   "id": "52a3ed11-ec65-4453-961c-6185a58e1970",
   "metadata": {},
   "outputs": [],
   "source": []
  }
 ],
 "metadata": {
  "kernelspec": {
   "display_name": "Python 3 (ipykernel)",
   "language": "python",
   "name": "python3"
  },
  "language_info": {
   "codemirror_mode": {
    "name": "ipython",
    "version": 3
   },
   "file_extension": ".py",
   "mimetype": "text/x-python",
   "name": "python",
   "nbconvert_exporter": "python",
   "pygments_lexer": "ipython3",
   "version": "3.12.2"
  }
 },
 "nbformat": 4,
 "nbformat_minor": 5
}
