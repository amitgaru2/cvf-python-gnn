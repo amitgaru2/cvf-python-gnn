{
 "cells": [
  {
   "cell_type": "code",
   "execution_count": 10,
   "metadata": {},
   "outputs": [],
   "source": [
    "def get_possible_node_values():\n",
    "    return [{0, 1, 2}, {0, 1}, {0, 1}]"
   ]
  },
  {
   "cell_type": "code",
   "execution_count": 11,
   "metadata": {},
   "outputs": [],
   "source": [
    "possible_node_values = get_possible_node_values()\n",
    "\n",
    "possible_node_values_length = [len(i) for i in possible_node_values]"
   ]
  },
  {
   "cell_type": "code",
   "execution_count": 12,
   "metadata": {},
   "outputs": [],
   "source": [
    "possible_node_values_len_rev = possible_node_values_length[::-1]\n",
    "\n",
    "base_n_to_decimal_multiplier = [1]\n",
    "for x in possible_node_values_len_rev[:-1]:\n",
    "    base_n_to_decimal_multiplier.append(\n",
    "        base_n_to_decimal_multiplier[-1] * x\n",
    "    )\n",
    "\n",
    "base_n_to_decimal_multiplier_rev = base_n_to_decimal_multiplier[::-1]\n"
   ]
  },
  {
   "cell_type": "code",
   "execution_count": 13,
   "metadata": {},
   "outputs": [],
   "source": [
    "def indx_to_config(indx: int):\n",
    "    s = []\n",
    "    for multiplier in base_n_to_decimal_multiplier_rev:\n",
    "        if indx >= multiplier:\n",
    "            indx_val = indx // multiplier\n",
    "            s.append(indx_val)\n",
    "            indx -= indx_val * multiplier\n",
    "        else:\n",
    "            s.append(0)\n",
    "    return tuple(s)\n"
   ]
  },
  {
   "cell_type": "code",
   "execution_count": null,
   "metadata": {},
   "outputs": [],
   "source": [
    "def base_n_to_decimal(base_n_str):\n",
    "    print(\"base_n_str\", base_n_str)\n",
    "    value = 0\n",
    "    length = len(base_n_str)\n",
    "    for i in range(length):\n",
    "        digit = int(base_n_str[length - i - 1]) # taking each value from reverse\n",
    "        value += base_n_to_decimal_multiplier[i] * digit\n",
    "    return value  # base 10, not fractional value\n"
   ]
  },
  {
   "cell_type": "code",
   "execution_count": 32,
   "metadata": {},
   "outputs": [],
   "source": [
    "possible_values_indx_str = {0: \"0\", 1: \"1\", 2: \"2\"}"
   ]
  },
  {
   "cell_type": "code",
   "execution_count": 33,
   "metadata": {},
   "outputs": [],
   "source": [
    "def config_to_indx(config):\n",
    "    config_to_indx_str = \"\".join(possible_values_indx_str[i] for i in config)\n",
    "    result = base_n_to_decimal(config_to_indx_str)\n",
    "    return result"
   ]
  },
  {
   "cell_type": "code",
   "execution_count": 34,
   "metadata": {},
   "outputs": [
    {
     "name": "stdout",
     "output_type": "stream",
     "text": [
      "base_n_str 001\n",
      "0 2\n",
      "1 1\n",
      "2 0\n"
     ]
    },
    {
     "data": {
      "text/plain": [
       "1"
      ]
     },
     "execution_count": 34,
     "metadata": {},
     "output_type": "execute_result"
    }
   ],
   "source": [
    "config_to_indx((0, 0, 1))"
   ]
  },
  {
   "cell_type": "code",
   "execution_count": 35,
   "metadata": {},
   "outputs": [
    {
     "data": {
      "text/plain": [
       "[1, 2, 4]"
      ]
     },
     "execution_count": 35,
     "metadata": {},
     "output_type": "execute_result"
    }
   ],
   "source": [
    "base_n_to_decimal_multiplier"
   ]
  },
  {
   "cell_type": "code",
   "execution_count": null,
   "metadata": {},
   "outputs": [],
   "source": []
  }
 ],
 "metadata": {
  "kernelspec": {
   "display_name": "cvf",
   "language": "python",
   "name": "python3"
  },
  "language_info": {
   "codemirror_mode": {
    "name": "ipython",
    "version": 3
   },
   "file_extension": ".py",
   "mimetype": "text/x-python",
   "name": "python",
   "nbconvert_exporter": "python",
   "pygments_lexer": "ipython3",
   "version": "3.12.2"
  }
 },
 "nbformat": 4,
 "nbformat_minor": 2
}
