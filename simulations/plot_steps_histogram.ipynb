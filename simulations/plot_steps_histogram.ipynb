{
 "cells": [
  {
   "cell_type": "code",
   "execution_count": 1,
   "id": "eefce604",
   "metadata": {},
   "outputs": [],
   "source": [
    "import os\n",
    "import numpy as np\n",
    "import pandas as pd\n",
    "import seaborn as sns\n",
    "import matplotlib.lines as mlines\n",
    "\n",
    "from itertools import cycle\n",
    "from matplotlib import pyplot as plt\n",
    "\n",
    "from simulation import SimulationMixin\n"
   ]
  },
  {
   "cell_type": "code",
   "execution_count": 2,
   "id": "d79baab0",
   "metadata": {},
   "outputs": [],
   "source": [
    "fontsize = 20\n",
    "\n",
    "plots_dir = \"plots\""
   ]
  },
  {
   "cell_type": "code",
   "execution_count": 3,
   "id": "3e559f48",
   "metadata": {},
   "outputs": [],
   "source": [
    "colors = [(\"red\", \"red\"), (\"green\", \"green\"), (\"blue\", \"blue\"), (\"orange\", \"orange\")]\n",
    "color_cycle = cycle(colors)"
   ]
  },
  {
   "cell_type": "code",
   "execution_count": 4,
   "id": "be2757ec",
   "metadata": {},
   "outputs": [],
   "source": [
    "# program = \"graph_coloring\"\n",
    "program = \"dijkstra_token_ring\"\n",
    "# program = \"maximal_matching\"\n",
    "# graph_name = \"graph_powerlaw_cluster_graph_n7\"\n",
    "graph_name = \"implicit_graph_n10\"\n",
    "# graph_name = \"graph_10\"\n",
    "sched = 0\n",
    "no_simulations = 100000\n",
    "me = False\n",
    "fault_interval = 2\n",
    "\n",
    "# duong_mode = True\n",
    "simulation_type = \"controlled_at_node_amit_v2\"\n",
    "limits = 100\n",
    "\n",
    "selected_nodes = [9]"
   ]
  },
  {
   "cell_type": "code",
   "execution_count": 5,
   "id": "2787883a",
   "metadata": {},
   "outputs": [],
   "source": [
    "def get_filename(graph_name, sched, simulation_type, args, no_simulations, me, fault_interval):\n",
    "    return f\"{graph_name}__{sched}__{simulation_type}_args_{args}__{no_simulations}__{me}__{fault_interval}__limits_{limits}\""
   ]
  },
  {
   "cell_type": "code",
   "execution_count": 6,
   "id": "7323b6fb",
   "metadata": {},
   "outputs": [],
   "source": [
    "# filenames = [\n",
    "#     get_filename(\n",
    "#         graph_name,\n",
    "#         sched,\n",
    "#         SimulationMixin.RANDOM_FAULT_SIMULATION_TYPE,\n",
    "#         \"\",\n",
    "#         no_simulations,\n",
    "#         me,\n",
    "#         fault_interval,\n",
    "#     )\n",
    "# ]\n",
    "filenames = []\n",
    "\n",
    "filenames.extend(\n",
    "    [\n",
    "        get_filename(\n",
    "            graph_name,\n",
    "            sched,\n",
    "            simulation_type,\n",
    "            arg,\n",
    "            no_simulations,\n",
    "            me,\n",
    "            fault_interval,\n",
    "        )\n",
    "        for arg in selected_nodes\n",
    "    ]\n",
    ")\n"
   ]
  },
  {
   "cell_type": "code",
   "execution_count": 7,
   "id": "aaf5e293",
   "metadata": {},
   "outputs": [],
   "source": [
    "dfs = [pd.read_csv(os.path.join(\"results\", program, f\"{fn}.csv\")) for fn in filenames]"
   ]
  },
  {
   "cell_type": "code",
   "execution_count": 8,
   "id": "1b3e251a",
   "metadata": {},
   "outputs": [
    {
     "data": {
      "text/plain": [
       "np.int64(100)"
      ]
     },
     "execution_count": 8,
     "metadata": {},
     "output_type": "execute_result"
    }
   ],
   "source": [
    "max_steps = max(df['Steps'].max() for df in dfs)\n",
    "max_steps"
   ]
  },
  {
   "cell_type": "code",
   "execution_count": 9,
   "id": "25fce55f",
   "metadata": {},
   "outputs": [],
   "source": [
    "bins = np.linspace(0, max_steps, max_steps+1)\n",
    "# bin_centers = (bins[:-1] + bins[1:]) / 2\n",
    "bin_centers = bins"
   ]
  },
  {
   "cell_type": "code",
   "execution_count": 10,
   "id": "b036df11",
   "metadata": {},
   "outputs": [
    {
     "data": {
      "text/plain": [
       "array([  0.,   1.,   2.,   3.,   4.,   5.,   6.,   7.,   8.,   9.,  10.,\n",
       "        11.,  12.,  13.,  14.,  15.,  16.,  17.,  18.,  19.,  20.,  21.,\n",
       "        22.,  23.,  24.,  25.,  26.,  27.,  28.,  29.,  30.,  31.,  32.,\n",
       "        33.,  34.,  35.,  36.,  37.,  38.,  39.,  40.,  41.,  42.,  43.,\n",
       "        44.,  45.,  46.,  47.,  48.,  49.,  50.,  51.,  52.,  53.,  54.,\n",
       "        55.,  56.,  57.,  58.,  59.,  60.,  61.,  62.,  63.,  64.,  65.,\n",
       "        66.,  67.,  68.,  69.,  70.,  71.,  72.,  73.,  74.,  75.,  76.,\n",
       "        77.,  78.,  79.,  80.,  81.,  82.,  83.,  84.,  85.,  86.,  87.,\n",
       "        88.,  89.,  90.,  91.,  92.,  93.,  94.,  95.,  96.,  97.,  98.,\n",
       "        99., 100.])"
      ]
     },
     "execution_count": 10,
     "metadata": {},
     "output_type": "execute_result"
    }
   ],
   "source": [
    "bins"
   ]
  },
  {
   "cell_type": "code",
   "execution_count": 11,
   "id": "1e7c0e7d",
   "metadata": {},
   "outputs": [
    {
     "data": {
      "text/plain": [
       "array([   0,  616,  255, 1375,  502, 2438,  833, 3335, 1249, 4479, 1406,\n",
       "       4947, 1694, 5306, 1697, 5528, 1634, 5423, 1590, 5086, 1501, 4814,\n",
       "       1430, 4574, 1329, 4072, 1183, 3692, 1053, 3253,  961, 2902,  842,\n",
       "       2445,  751, 2042,  595, 1782,  510, 1475,  459, 1328,  325,  990,\n",
       "        276,  858,  257,  683,  198,  535,  144,  484,  126,  370,   89,\n",
       "        341,   89,  273,   55,  192,   56,  185,   52,  127,   37,  110,\n",
       "         29,   99,   25,   94,   21,   63,   12,   50,    9,   55,   14,\n",
       "         34,   10,   40,    5,   26,    5,   20,    9,   22,    9,    9,\n",
       "          2,   13,    4,    9,    4,   10,    2,    9,    1,    8,    1,\n",
       "         39])"
      ]
     },
     "execution_count": 11,
     "metadata": {},
     "output_type": "execute_result"
    }
   ],
   "source": [
    "hist_data = [np.histogram(df['Steps'], bins=bins) for df in dfs]\n",
    "hist_data[0][0]"
   ]
  },
  {
   "cell_type": "code",
   "execution_count": 12,
   "id": "8b62d07c",
   "metadata": {},
   "outputs": [],
   "source": [
    "hist_data = [np.histogram(df['Steps'], bins=bins) for df in dfs]\n",
    "hist_df = []\n",
    "for hd in hist_data:\n",
    "    hist_df.append(\n",
    "        pd.DataFrame({\n",
    "            'Steps': bin_centers[:-1],\n",
    "            'Count': hd[0]\n",
    "        })\n",
    "    )"
   ]
  },
  {
   "cell_type": "code",
   "execution_count": 13,
   "id": "6e8f39c6",
   "metadata": {},
   "outputs": [
    {
     "data": {
      "application/vnd.microsoft.datawrangler.viewer.v0+json": {
       "columns": [
        {
         "name": "index",
         "rawType": "int64",
         "type": "integer"
        },
        {
         "name": "Steps",
         "rawType": "float64",
         "type": "float"
        },
        {
         "name": "Count",
         "rawType": "int64",
         "type": "integer"
        }
       ],
       "ref": "09def3a0-4376-46b8-b049-a55ac81bc13d",
       "rows": [
        [
         "0",
         "0.0",
         "0"
        ],
        [
         "1",
         "1.0",
         "616"
        ],
        [
         "2",
         "2.0",
         "255"
        ],
        [
         "3",
         "3.0",
         "1375"
        ],
        [
         "4",
         "4.0",
         "502"
        ],
        [
         "5",
         "5.0",
         "2438"
        ],
        [
         "6",
         "6.0",
         "833"
        ],
        [
         "7",
         "7.0",
         "3335"
        ],
        [
         "8",
         "8.0",
         "1249"
        ],
        [
         "9",
         "9.0",
         "4479"
        ],
        [
         "10",
         "10.0",
         "1406"
        ],
        [
         "11",
         "11.0",
         "4947"
        ],
        [
         "12",
         "12.0",
         "1694"
        ],
        [
         "13",
         "13.0",
         "5306"
        ],
        [
         "14",
         "14.0",
         "1697"
        ],
        [
         "15",
         "15.0",
         "5528"
        ],
        [
         "16",
         "16.0",
         "1634"
        ],
        [
         "17",
         "17.0",
         "5423"
        ],
        [
         "18",
         "18.0",
         "1590"
        ],
        [
         "19",
         "19.0",
         "5086"
        ],
        [
         "20",
         "20.0",
         "1501"
        ],
        [
         "21",
         "21.0",
         "4814"
        ],
        [
         "22",
         "22.0",
         "1430"
        ],
        [
         "23",
         "23.0",
         "4574"
        ],
        [
         "24",
         "24.0",
         "1329"
        ],
        [
         "25",
         "25.0",
         "4072"
        ],
        [
         "26",
         "26.0",
         "1183"
        ],
        [
         "27",
         "27.0",
         "3692"
        ],
        [
         "28",
         "28.0",
         "1053"
        ],
        [
         "29",
         "29.0",
         "3253"
        ],
        [
         "30",
         "30.0",
         "961"
        ],
        [
         "31",
         "31.0",
         "2902"
        ],
        [
         "32",
         "32.0",
         "842"
        ],
        [
         "33",
         "33.0",
         "2445"
        ],
        [
         "34",
         "34.0",
         "751"
        ],
        [
         "35",
         "35.0",
         "2042"
        ],
        [
         "36",
         "36.0",
         "595"
        ],
        [
         "37",
         "37.0",
         "1782"
        ],
        [
         "38",
         "38.0",
         "510"
        ],
        [
         "39",
         "39.0",
         "1475"
        ],
        [
         "40",
         "40.0",
         "459"
        ],
        [
         "41",
         "41.0",
         "1328"
        ],
        [
         "42",
         "42.0",
         "325"
        ],
        [
         "43",
         "43.0",
         "990"
        ],
        [
         "44",
         "44.0",
         "276"
        ],
        [
         "45",
         "45.0",
         "858"
        ],
        [
         "46",
         "46.0",
         "257"
        ],
        [
         "47",
         "47.0",
         "683"
        ],
        [
         "48",
         "48.0",
         "198"
        ],
        [
         "49",
         "49.0",
         "535"
        ]
       ],
       "shape": {
        "columns": 2,
        "rows": 100
       }
      },
      "text/html": [
       "<div>\n",
       "<style scoped>\n",
       "    .dataframe tbody tr th:only-of-type {\n",
       "        vertical-align: middle;\n",
       "    }\n",
       "\n",
       "    .dataframe tbody tr th {\n",
       "        vertical-align: top;\n",
       "    }\n",
       "\n",
       "    .dataframe thead th {\n",
       "        text-align: right;\n",
       "    }\n",
       "</style>\n",
       "<table border=\"1\" class=\"dataframe\">\n",
       "  <thead>\n",
       "    <tr style=\"text-align: right;\">\n",
       "      <th></th>\n",
       "      <th>Steps</th>\n",
       "      <th>Count</th>\n",
       "    </tr>\n",
       "  </thead>\n",
       "  <tbody>\n",
       "    <tr>\n",
       "      <th>0</th>\n",
       "      <td>0.0</td>\n",
       "      <td>0</td>\n",
       "    </tr>\n",
       "    <tr>\n",
       "      <th>1</th>\n",
       "      <td>1.0</td>\n",
       "      <td>616</td>\n",
       "    </tr>\n",
       "    <tr>\n",
       "      <th>2</th>\n",
       "      <td>2.0</td>\n",
       "      <td>255</td>\n",
       "    </tr>\n",
       "    <tr>\n",
       "      <th>3</th>\n",
       "      <td>3.0</td>\n",
       "      <td>1375</td>\n",
       "    </tr>\n",
       "    <tr>\n",
       "      <th>4</th>\n",
       "      <td>4.0</td>\n",
       "      <td>502</td>\n",
       "    </tr>\n",
       "    <tr>\n",
       "      <th>...</th>\n",
       "      <td>...</td>\n",
       "      <td>...</td>\n",
       "    </tr>\n",
       "    <tr>\n",
       "      <th>95</th>\n",
       "      <td>95.0</td>\n",
       "      <td>9</td>\n",
       "    </tr>\n",
       "    <tr>\n",
       "      <th>96</th>\n",
       "      <td>96.0</td>\n",
       "      <td>1</td>\n",
       "    </tr>\n",
       "    <tr>\n",
       "      <th>97</th>\n",
       "      <td>97.0</td>\n",
       "      <td>8</td>\n",
       "    </tr>\n",
       "    <tr>\n",
       "      <th>98</th>\n",
       "      <td>98.0</td>\n",
       "      <td>1</td>\n",
       "    </tr>\n",
       "    <tr>\n",
       "      <th>99</th>\n",
       "      <td>99.0</td>\n",
       "      <td>39</td>\n",
       "    </tr>\n",
       "  </tbody>\n",
       "</table>\n",
       "<p>100 rows × 2 columns</p>\n",
       "</div>"
      ],
      "text/plain": [
       "    Steps  Count\n",
       "0     0.0      0\n",
       "1     1.0    616\n",
       "2     2.0    255\n",
       "3     3.0   1375\n",
       "4     4.0    502\n",
       "..    ...    ...\n",
       "95   95.0      9\n",
       "96   96.0      1\n",
       "97   97.0      8\n",
       "98   98.0      1\n",
       "99   99.0     39\n",
       "\n",
       "[100 rows x 2 columns]"
      ]
     },
     "execution_count": 13,
     "metadata": {},
     "output_type": "execute_result"
    }
   ],
   "source": [
    "hist_df[0]"
   ]
  },
  {
   "cell_type": "code",
   "execution_count": 14,
   "id": "b21c6225",
   "metadata": {},
   "outputs": [
    {
     "data": {
      "application/vnd.microsoft.datawrangler.viewer.v0+json": {
       "columns": [
        {
         "name": "index",
         "rawType": "int64",
         "type": "integer"
        },
        {
         "name": "Steps",
         "rawType": "float64",
         "type": "float"
        },
        {
         "name": "Count",
         "rawType": "int64",
         "type": "integer"
        }
       ],
       "ref": "6b21367c-f5ad-4e24-9dd1-2f121e745d2b",
       "rows": [
        [
         "0",
         "0.0",
         "0"
        ],
        [
         "1",
         "1.0",
         "616"
        ],
        [
         "2",
         "2.0",
         "255"
        ],
        [
         "3",
         "3.0",
         "1375"
        ],
        [
         "4",
         "4.0",
         "502"
        ],
        [
         "5",
         "5.0",
         "2438"
        ],
        [
         "6",
         "6.0",
         "833"
        ],
        [
         "7",
         "7.0",
         "3335"
        ],
        [
         "8",
         "8.0",
         "1249"
        ],
        [
         "9",
         "9.0",
         "4479"
        ],
        [
         "10",
         "10.0",
         "1406"
        ],
        [
         "11",
         "11.0",
         "4947"
        ],
        [
         "12",
         "12.0",
         "1694"
        ],
        [
         "13",
         "13.0",
         "5306"
        ],
        [
         "14",
         "14.0",
         "1697"
        ],
        [
         "15",
         "15.0",
         "5528"
        ],
        [
         "16",
         "16.0",
         "1634"
        ],
        [
         "17",
         "17.0",
         "5423"
        ],
        [
         "18",
         "18.0",
         "1590"
        ],
        [
         "19",
         "19.0",
         "5086"
        ],
        [
         "20",
         "20.0",
         "1501"
        ],
        [
         "21",
         "21.0",
         "4814"
        ],
        [
         "22",
         "22.0",
         "1430"
        ],
        [
         "23",
         "23.0",
         "4574"
        ],
        [
         "24",
         "24.0",
         "1329"
        ],
        [
         "25",
         "25.0",
         "4072"
        ],
        [
         "26",
         "26.0",
         "1183"
        ],
        [
         "27",
         "27.0",
         "3692"
        ],
        [
         "28",
         "28.0",
         "1053"
        ],
        [
         "29",
         "29.0",
         "3253"
        ],
        [
         "30",
         "30.0",
         "961"
        ],
        [
         "31",
         "31.0",
         "2902"
        ],
        [
         "32",
         "32.0",
         "842"
        ],
        [
         "33",
         "33.0",
         "2445"
        ],
        [
         "34",
         "34.0",
         "751"
        ],
        [
         "35",
         "35.0",
         "2042"
        ],
        [
         "36",
         "36.0",
         "595"
        ],
        [
         "37",
         "37.0",
         "1782"
        ],
        [
         "38",
         "38.0",
         "510"
        ],
        [
         "39",
         "39.0",
         "1475"
        ],
        [
         "40",
         "40.0",
         "459"
        ],
        [
         "41",
         "41.0",
         "1328"
        ],
        [
         "42",
         "42.0",
         "325"
        ],
        [
         "43",
         "43.0",
         "990"
        ],
        [
         "44",
         "44.0",
         "276"
        ],
        [
         "45",
         "45.0",
         "858"
        ],
        [
         "46",
         "46.0",
         "257"
        ],
        [
         "47",
         "47.0",
         "683"
        ],
        [
         "48",
         "48.0",
         "198"
        ],
        [
         "49",
         "49.0",
         "535"
        ]
       ],
       "shape": {
        "columns": 2,
        "rows": 100
       }
      },
      "text/html": [
       "<div>\n",
       "<style scoped>\n",
       "    .dataframe tbody tr th:only-of-type {\n",
       "        vertical-align: middle;\n",
       "    }\n",
       "\n",
       "    .dataframe tbody tr th {\n",
       "        vertical-align: top;\n",
       "    }\n",
       "\n",
       "    .dataframe thead th {\n",
       "        text-align: right;\n",
       "    }\n",
       "</style>\n",
       "<table border=\"1\" class=\"dataframe\">\n",
       "  <thead>\n",
       "    <tr style=\"text-align: right;\">\n",
       "      <th></th>\n",
       "      <th>Steps</th>\n",
       "      <th>Count</th>\n",
       "    </tr>\n",
       "  </thead>\n",
       "  <tbody>\n",
       "    <tr>\n",
       "      <th>0</th>\n",
       "      <td>0.0</td>\n",
       "      <td>0</td>\n",
       "    </tr>\n",
       "    <tr>\n",
       "      <th>1</th>\n",
       "      <td>1.0</td>\n",
       "      <td>616</td>\n",
       "    </tr>\n",
       "    <tr>\n",
       "      <th>2</th>\n",
       "      <td>2.0</td>\n",
       "      <td>255</td>\n",
       "    </tr>\n",
       "    <tr>\n",
       "      <th>3</th>\n",
       "      <td>3.0</td>\n",
       "      <td>1375</td>\n",
       "    </tr>\n",
       "    <tr>\n",
       "      <th>4</th>\n",
       "      <td>4.0</td>\n",
       "      <td>502</td>\n",
       "    </tr>\n",
       "    <tr>\n",
       "      <th>...</th>\n",
       "      <td>...</td>\n",
       "      <td>...</td>\n",
       "    </tr>\n",
       "    <tr>\n",
       "      <th>95</th>\n",
       "      <td>95.0</td>\n",
       "      <td>9</td>\n",
       "    </tr>\n",
       "    <tr>\n",
       "      <th>96</th>\n",
       "      <td>96.0</td>\n",
       "      <td>1</td>\n",
       "    </tr>\n",
       "    <tr>\n",
       "      <th>97</th>\n",
       "      <td>97.0</td>\n",
       "      <td>8</td>\n",
       "    </tr>\n",
       "    <tr>\n",
       "      <th>98</th>\n",
       "      <td>98.0</td>\n",
       "      <td>1</td>\n",
       "    </tr>\n",
       "    <tr>\n",
       "      <th>99</th>\n",
       "      <td>99.0</td>\n",
       "      <td>39</td>\n",
       "    </tr>\n",
       "  </tbody>\n",
       "</table>\n",
       "<p>100 rows × 2 columns</p>\n",
       "</div>"
      ],
      "text/plain": [
       "    Steps  Count\n",
       "0     0.0      0\n",
       "1     1.0    616\n",
       "2     2.0    255\n",
       "3     3.0   1375\n",
       "4     4.0    502\n",
       "..    ...    ...\n",
       "95   95.0      9\n",
       "96   96.0      1\n",
       "97   97.0      8\n",
       "98   98.0      1\n",
       "99   99.0     39\n",
       "\n",
       "[100 rows x 2 columns]"
      ]
     },
     "execution_count": 14,
     "metadata": {},
     "output_type": "execute_result"
    }
   ],
   "source": [
    "df_merged = hist_df[0]\n",
    "for i in range(1, len(hist_df)):\n",
    "    df_merged = pd.merge(df_merged, hist_df[i], on=[\"Steps\"], suffixes=(i-1, i))\n",
    "df_merged"
   ]
  },
  {
   "cell_type": "code",
   "execution_count": 15,
   "id": "b9882843",
   "metadata": {},
   "outputs": [
    {
     "data": {
      "application/vnd.microsoft.datawrangler.viewer.v0+json": {
       "columns": [
        {
         "name": "Steps",
         "rawType": "float64",
         "type": "float"
        },
        {
         "name": "Count",
         "rawType": "int64",
         "type": "integer"
        }
       ],
       "ref": "e9039b73-bd32-4fc1-a61f-6224ccc6bc36",
       "rows": [
        [
         "0.0",
         "0"
        ],
        [
         "1.0",
         "616"
        ],
        [
         "2.0",
         "255"
        ],
        [
         "3.0",
         "1375"
        ],
        [
         "4.0",
         "502"
        ],
        [
         "5.0",
         "2438"
        ],
        [
         "6.0",
         "833"
        ],
        [
         "7.0",
         "3335"
        ],
        [
         "8.0",
         "1249"
        ],
        [
         "9.0",
         "4479"
        ],
        [
         "10.0",
         "1406"
        ],
        [
         "11.0",
         "4947"
        ],
        [
         "12.0",
         "1694"
        ],
        [
         "13.0",
         "5306"
        ],
        [
         "14.0",
         "1697"
        ],
        [
         "15.0",
         "5528"
        ],
        [
         "16.0",
         "1634"
        ],
        [
         "17.0",
         "5423"
        ],
        [
         "18.0",
         "1590"
        ],
        [
         "19.0",
         "5086"
        ],
        [
         "20.0",
         "1501"
        ],
        [
         "21.0",
         "4814"
        ],
        [
         "22.0",
         "1430"
        ],
        [
         "23.0",
         "4574"
        ],
        [
         "24.0",
         "1329"
        ],
        [
         "25.0",
         "4072"
        ],
        [
         "26.0",
         "1183"
        ],
        [
         "27.0",
         "3692"
        ],
        [
         "28.0",
         "1053"
        ],
        [
         "29.0",
         "3253"
        ],
        [
         "30.0",
         "961"
        ],
        [
         "31.0",
         "2902"
        ],
        [
         "32.0",
         "842"
        ],
        [
         "33.0",
         "2445"
        ],
        [
         "34.0",
         "751"
        ],
        [
         "35.0",
         "2042"
        ],
        [
         "36.0",
         "595"
        ],
        [
         "37.0",
         "1782"
        ],
        [
         "38.0",
         "510"
        ],
        [
         "39.0",
         "1475"
        ],
        [
         "40.0",
         "459"
        ],
        [
         "41.0",
         "1328"
        ],
        [
         "42.0",
         "325"
        ],
        [
         "43.0",
         "990"
        ],
        [
         "44.0",
         "276"
        ],
        [
         "45.0",
         "858"
        ],
        [
         "46.0",
         "257"
        ],
        [
         "47.0",
         "683"
        ],
        [
         "48.0",
         "198"
        ],
        [
         "49.0",
         "535"
        ]
       ],
       "shape": {
        "columns": 1,
        "rows": 100
       }
      },
      "text/html": [
       "<div>\n",
       "<style scoped>\n",
       "    .dataframe tbody tr th:only-of-type {\n",
       "        vertical-align: middle;\n",
       "    }\n",
       "\n",
       "    .dataframe tbody tr th {\n",
       "        vertical-align: top;\n",
       "    }\n",
       "\n",
       "    .dataframe thead th {\n",
       "        text-align: right;\n",
       "    }\n",
       "</style>\n",
       "<table border=\"1\" class=\"dataframe\">\n",
       "  <thead>\n",
       "    <tr style=\"text-align: right;\">\n",
       "      <th></th>\n",
       "      <th>Count</th>\n",
       "    </tr>\n",
       "    <tr>\n",
       "      <th>Steps</th>\n",
       "      <th></th>\n",
       "    </tr>\n",
       "  </thead>\n",
       "  <tbody>\n",
       "    <tr>\n",
       "      <th>0.0</th>\n",
       "      <td>0</td>\n",
       "    </tr>\n",
       "    <tr>\n",
       "      <th>1.0</th>\n",
       "      <td>616</td>\n",
       "    </tr>\n",
       "    <tr>\n",
       "      <th>2.0</th>\n",
       "      <td>255</td>\n",
       "    </tr>\n",
       "    <tr>\n",
       "      <th>3.0</th>\n",
       "      <td>1375</td>\n",
       "    </tr>\n",
       "    <tr>\n",
       "      <th>4.0</th>\n",
       "      <td>502</td>\n",
       "    </tr>\n",
       "    <tr>\n",
       "      <th>...</th>\n",
       "      <td>...</td>\n",
       "    </tr>\n",
       "    <tr>\n",
       "      <th>95.0</th>\n",
       "      <td>9</td>\n",
       "    </tr>\n",
       "    <tr>\n",
       "      <th>96.0</th>\n",
       "      <td>1</td>\n",
       "    </tr>\n",
       "    <tr>\n",
       "      <th>97.0</th>\n",
       "      <td>8</td>\n",
       "    </tr>\n",
       "    <tr>\n",
       "      <th>98.0</th>\n",
       "      <td>1</td>\n",
       "    </tr>\n",
       "    <tr>\n",
       "      <th>99.0</th>\n",
       "      <td>39</td>\n",
       "    </tr>\n",
       "  </tbody>\n",
       "</table>\n",
       "<p>100 rows × 1 columns</p>\n",
       "</div>"
      ],
      "text/plain": [
       "       Count\n",
       "Steps       \n",
       "0.0        0\n",
       "1.0      616\n",
       "2.0      255\n",
       "3.0     1375\n",
       "4.0      502\n",
       "...      ...\n",
       "95.0       9\n",
       "96.0       1\n",
       "97.0       8\n",
       "98.0       1\n",
       "99.0      39\n",
       "\n",
       "[100 rows x 1 columns]"
      ]
     },
     "execution_count": 15,
     "metadata": {},
     "output_type": "execute_result"
    }
   ],
   "source": [
    "df_merged.set_index('Steps', drop=True, inplace=True)\n",
    "df_merged"
   ]
  },
  {
   "cell_type": "code",
   "execution_count": 16,
   "id": "abcc0ac5",
   "metadata": {},
   "outputs": [],
   "source": [
    "def get_title():\n",
    "    return f\"Simulation - {program} | {graph_name} | Sched: {sched} | N: {no_simulations:,} | FI: {fault_interval}\""
   ]
  },
  {
   "cell_type": "code",
   "execution_count": 17,
   "id": "9c3e367c",
   "metadata": {},
   "outputs": [],
   "source": [
    "def get_label(simulation_type, node):\n",
    "    return {\n",
    "        SimulationMixin.RANDOM_FAULT_SIMULATION_TYPE: \"Random Fault\",\n",
    "        SimulationMixin.CONTROLLED_FAULT_AT_NODE_SIMULATION_TYPE: \"Controlled (amit v1) at node %s\",\n",
    "        SimulationMixin.CONTROLLED_FAULT_AT_NODE_SIMULATION_TYPE_AMIT_V2: \"Controlled (amit v2) at node %s\",\n",
    "        SimulationMixin.CONTROLLED_FAULT_AT_NODE_SIMULATION_TYPE_DUONG: \"Controlled (duong) at node %s\",\n",
    "        SimulationMixin.RANDOM_FAULT_START_AT_NODE_SIMULATION_TYPE: \"Random started at node %s\",\n",
    "    }.get(simulation_type, simulation_type) % (node)"
   ]
  },
  {
   "cell_type": "code",
   "execution_count": 18,
   "id": "2e1cf20c",
   "metadata": {},
   "outputs": [],
   "source": [
    "def get_filename():\n",
    "    return f\"{program}__{graph_name}__{sched}__{no_simulations}__{fault_interval}__{''.join([str(i) for i in selected_nodes])}__{simulation_type}\""
   ]
  },
  {
   "cell_type": "code",
   "execution_count": 20,
   "id": "2149990e",
   "metadata": {},
   "outputs": [
    {
     "name": "stderr",
     "output_type": "stream",
     "text": [
      "/home/agaru/anaconda3/envs/cvf/lib/python3.13/site-packages/pandas/core/indexes/base.py:952: RuntimeWarning: overflow encountered in exp\n",
      "  result = getattr(ufunc, method)(*new_inputs, **kwargs)\n"
     ]
    }
   ],
   "source": [
    "from scipy.optimize import curve_fit\n",
    "\n",
    "\n",
    "def exp_func(x, a, b, c):\n",
    "    return a * np.exp(-b * x) + c\n",
    "\n",
    "\n",
    "# Fit the curve\n",
    "popt, _ = curve_fit(exp_func, df_merged.index, df_merged[\"Count\"], p0= [10, 0.1, 0])\n",
    "y_fit = exp_func(df_merged.index, popt[0], popt[1], popt[2])\n",
    "df_merged[f\"exp_fit\"] = y_fit"
   ]
  },
  {
   "cell_type": "code",
   "execution_count": null,
   "id": "d120d104",
   "metadata": {},
   "outputs": [
    {
     "name": "stdout",
     "output_type": "stream",
     "text": [
      "Saved plot(s) for plots/dijkstra_token_ring/dijkstra_token_ring__implicit_graph_n10__0__100000__2__1__controlled_at_node_amit_v2.png\n"
     ]
    }
   ],
   "source": [
    "plt.figure(figsize=(16, 8))\n",
    "ax = sns.lineplot(data=df_merged, linewidth=1)\n",
    "ax.set_title(get_title(), fontdict={\"fontsize\": fontsize})\n",
    "\n",
    "# ax.set_yscale(\"log\")\n",
    "for i, line in enumerate(ax.lines):\n",
    "    if i >= 0:\n",
    "        line_style = \"solid\"\n",
    "        line.set_color(next(color_cycle)[0])\n",
    "    else:\n",
    "        line_style = \"dashed\"\n",
    "        line.set_color(\"goldenrod\")\n",
    "    line.set_linestyle(line_style)\n",
    "\n",
    "ax.tick_params(axis=\"x\", labelsize=fontsize)\n",
    "ax.tick_params(axis=\"y\", labelsize=fontsize)\n",
    "ax.xaxis.label.set_size(fontsize)\n",
    "ax.yaxis.label.set_size(fontsize)\n",
    "\n",
    "ax.set_xlabel(\"Steps\")\n",
    "ax.set_ylabel(\"Count\")\n",
    "\n",
    "# labels = [\"Random Fault\"]\n",
    "labels = []\n",
    "labels.extend([get_label(simulation_type, n) for n in selected_nodes])\n",
    "labels.append(\n",
    "    f\"$y = {popt[0]:.2f}e^{{{-popt[1]:.2f}x}} {'+' if popt[2]>=0 else ''} {popt[2]:.2f}$\"\n",
    ")\n",
    "\n",
    "custom_lines = [\n",
    "    mlines.Line2D(\n",
    "        [],\n",
    "        [],\n",
    "        color=line.get_color(),\n",
    "        # marker=marker,\n",
    "        label=cat,\n",
    "        linestyle=line.get_linestyle(),\n",
    "    )\n",
    "    for line, cat in zip(ax.lines, labels)\n",
    "]\n",
    "plt.rc(\"font\", size=fontsize)\n",
    "plt.legend(handles=custom_lines, fontsize=fontsize * 0.9)\n",
    "file_path = os.path.join(\n",
    "    plots_dir,\n",
    "    program,\n",
    "    f\"{get_filename()}.png\",\n",
    ")\n",
    "\n",
    "\n",
    "plt.savefig(\n",
    "    file_path,\n",
    "    bbox_inches=\"tight\",\n",
    ")\n",
    "plt.close()\n",
    "\n",
    "print(f\"Saved plot(s) for {file_path}\")"
   ]
  },
  {
   "cell_type": "code",
   "execution_count": null,
   "id": "e5177718",
   "metadata": {},
   "outputs": [
    {
     "data": {
      "application/vnd.microsoft.datawrangler.viewer.v0+json": {
       "columns": [
        {
         "name": "Steps",
         "rawType": "float64",
         "type": "float"
        },
        {
         "name": "Count",
         "rawType": "int64",
         "type": "integer"
        },
        {
         "name": "exp_fit",
         "rawType": "float64",
         "type": "float"
        }
       ],
       "ref": "87bef028-39a5-4847-8ea8-aa9a8f17ee54",
       "rows": [
        [
         "0.0",
         "0",
         "2064.4357461453583"
        ],
        [
         "1.0",
         "611",
         "2044.5289895058577"
        ],
        [
         "2.0",
         "397",
         "2024.576066007623"
        ],
        [
         "3.0",
         "982",
         "2004.5768685825406"
        ],
        [
         "4.0",
         "711",
         "1984.53128991419"
        ],
        [
         "5.0",
         "1579",
         "1964.4392224372677"
        ],
        [
         "6.0",
         "1056",
         "1944.300558337014"
        ],
        [
         "7.0",
         "2074",
         "1924.1151895486219"
        ],
        [
         "8.0",
         "1449",
         "1903.8830077566745"
        ],
        [
         "9.0",
         "2527",
         "1883.6039043945439"
        ],
        [
         "10.0",
         "1765",
         "1863.277770643832"
        ],
        [
         "11.0",
         "2735",
         "1842.9044974337612"
        ],
        [
         "12.0",
         "2025",
         "1822.4839754406112"
        ],
        [
         "13.0",
         "2928",
         "1802.0160950871195"
        ],
        [
         "14.0",
         "2093",
         "1781.5007465418948"
        ],
        [
         "15.0",
         "2991",
         "1760.9378197188362"
        ],
        [
         "16.0",
         "2251",
         "1740.3272042765293"
        ],
        [
         "17.0",
         "2959",
         "1719.6687896176627"
        ],
        [
         "18.0",
         "2198",
         "1698.9624648884346"
        ],
        [
         "19.0",
         "2957",
         "1678.2081189779547"
        ],
        [
         "20.0",
         "2254",
         "1657.4056405176507"
        ],
        [
         "21.0",
         "2757",
         "1636.5549178806668"
        ],
        [
         "22.0",
         "2063",
         "1615.6558391812669"
        ],
        [
         "23.0",
         "2569",
         "1594.7082922742375"
        ],
        [
         "24.0",
         "1905",
         "1573.7121647542826"
        ],
        [
         "25.0",
         "2464",
         "1552.667343955418"
        ],
        [
         "26.0",
         "1816",
         "1531.5737169503718"
        ],
        [
         "27.0",
         "2288",
         "1510.4311705499767"
        ],
        [
         "28.0",
         "1739",
         "1489.2395913025593"
        ],
        [
         "29.0",
         "2124",
         "1467.9988654933386"
        ],
        [
         "30.0",
         "1552",
         "1446.7088791438073"
        ],
        [
         "31.0",
         "2001",
         "1425.3695180111245"
        ],
        [
         "32.0",
         "1431",
         "1403.980667587506"
        ],
        [
         "33.0",
         "1823",
         "1382.542213099603"
        ],
        [
         "34.0",
         "1360",
         "1361.0540395078933"
        ],
        [
         "35.0",
         "1594",
         "1339.5160315060511"
        ],
        [
         "36.0",
         "1280",
         "1317.9280735203502"
        ],
        [
         "37.0",
         "1435",
         "1296.2900497090195"
        ],
        [
         "38.0",
         "1170",
         "1274.60184396164"
        ],
        [
         "39.0",
         "1365",
         "1252.863339898513"
        ],
        [
         "40.0",
         "1027",
         "1231.0744208700326"
        ],
        [
         "41.0",
         "1233",
         "1209.2349699560746"
        ],
        [
         "42.0",
         "969",
         "1187.344869965349"
        ],
        [
         "43.0",
         "1152",
         "1165.4040034347818"
        ],
        [
         "44.0",
         "851",
         "1143.4122526288938"
        ],
        [
         "45.0",
         "1055",
         "1121.3694995391452"
        ],
        [
         "46.0",
         "783",
         "1099.275625883327"
        ],
        [
         "47.0",
         "996",
         "1077.1305131049085"
        ],
        [
         "48.0",
         "764",
         "1054.9340423724116"
        ],
        [
         "49.0",
         "863",
         "1032.6860945787703"
        ]
       ],
       "shape": {
        "columns": 2,
        "rows": 100
       }
      },
      "text/html": [
       "<div>\n",
       "<style scoped>\n",
       "    .dataframe tbody tr th:only-of-type {\n",
       "        vertical-align: middle;\n",
       "    }\n",
       "\n",
       "    .dataframe tbody tr th {\n",
       "        vertical-align: top;\n",
       "    }\n",
       "\n",
       "    .dataframe thead th {\n",
       "        text-align: right;\n",
       "    }\n",
       "</style>\n",
       "<table border=\"1\" class=\"dataframe\">\n",
       "  <thead>\n",
       "    <tr style=\"text-align: right;\">\n",
       "      <th></th>\n",
       "      <th>Count</th>\n",
       "      <th>exp_fit</th>\n",
       "    </tr>\n",
       "    <tr>\n",
       "      <th>Steps</th>\n",
       "      <th></th>\n",
       "      <th></th>\n",
       "    </tr>\n",
       "  </thead>\n",
       "  <tbody>\n",
       "    <tr>\n",
       "      <th>0.0</th>\n",
       "      <td>0</td>\n",
       "      <td>2064.435746</td>\n",
       "    </tr>\n",
       "    <tr>\n",
       "      <th>1.0</th>\n",
       "      <td>611</td>\n",
       "      <td>2044.528990</td>\n",
       "    </tr>\n",
       "    <tr>\n",
       "      <th>2.0</th>\n",
       "      <td>397</td>\n",
       "      <td>2024.576066</td>\n",
       "    </tr>\n",
       "    <tr>\n",
       "      <th>3.0</th>\n",
       "      <td>982</td>\n",
       "      <td>2004.576869</td>\n",
       "    </tr>\n",
       "    <tr>\n",
       "      <th>4.0</th>\n",
       "      <td>711</td>\n",
       "      <td>1984.531290</td>\n",
       "    </tr>\n",
       "    <tr>\n",
       "      <th>...</th>\n",
       "      <td>...</td>\n",
       "      <td>...</td>\n",
       "    </tr>\n",
       "    <tr>\n",
       "      <th>95.0</th>\n",
       "      <td>118</td>\n",
       "      <td>-48.486052</td>\n",
       "    </tr>\n",
       "    <tr>\n",
       "      <th>96.0</th>\n",
       "      <td>76</td>\n",
       "      <td>-73.293002</td>\n",
       "    </tr>\n",
       "    <tr>\n",
       "      <th>97.0</th>\n",
       "      <td>98</td>\n",
       "      <td>-98.157483</td>\n",
       "    </tr>\n",
       "    <tr>\n",
       "      <th>98.0</th>\n",
       "      <td>67</td>\n",
       "      <td>-123.079629</td>\n",
       "    </tr>\n",
       "    <tr>\n",
       "      <th>99.0</th>\n",
       "      <td>1830</td>\n",
       "      <td>-148.059574</td>\n",
       "    </tr>\n",
       "  </tbody>\n",
       "</table>\n",
       "<p>100 rows × 2 columns</p>\n",
       "</div>"
      ],
      "text/plain": [
       "       Count      exp_fit\n",
       "Steps                    \n",
       "0.0        0  2064.435746\n",
       "1.0      611  2044.528990\n",
       "2.0      397  2024.576066\n",
       "3.0      982  2004.576869\n",
       "4.0      711  1984.531290\n",
       "...      ...          ...\n",
       "95.0     118   -48.486052\n",
       "96.0      76   -73.293002\n",
       "97.0      98   -98.157483\n",
       "98.0      67  -123.079629\n",
       "99.0    1830  -148.059574\n",
       "\n",
       "[100 rows x 2 columns]"
      ]
     },
     "execution_count": 21,
     "metadata": {},
     "output_type": "execute_result"
    }
   ],
   "source": [
    "df_merged"
   ]
  },
  {
   "cell_type": "code",
   "execution_count": null,
   "id": "27f8596d",
   "metadata": {},
   "outputs": [],
   "source": [
    "# Save to file\n",
    "cols = [\n",
    "    get_label(simulation_type, n) for n in selected_nodes\n",
    "]\n",
    "cols.append(\"exp_curve\")\n",
    "# df_merged.index = df_merged.index.astype(int)\n",
    "df_merged.to_csv(os.path.join(\"results\", program, f\"w_exp_{get_filename()}.csv\"))"
   ]
  },
  {
   "cell_type": "code",
   "execution_count": null,
   "id": "c8288839",
   "metadata": {},
   "outputs": [],
   "source": []
  }
 ],
 "metadata": {
  "kernelspec": {
   "display_name": "cvf",
   "language": "python",
   "name": "python3"
  },
  "language_info": {
   "codemirror_mode": {
    "name": "ipython",
    "version": 3
   },
   "file_extension": ".py",
   "mimetype": "text/x-python",
   "name": "python",
   "nbconvert_exporter": "python",
   "pygments_lexer": "ipython3",
   "version": "3.13.5"
  }
 },
 "nbformat": 4,
 "nbformat_minor": 5
}
