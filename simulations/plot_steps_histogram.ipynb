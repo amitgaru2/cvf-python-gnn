{
 "cells": [
  {
   "cell_type": "code",
   "execution_count": 1,
   "id": "eefce604",
   "metadata": {},
   "outputs": [],
   "source": [
    "import os\n",
    "import numpy as np\n",
    "import pandas as pd\n",
    "import seaborn as sns\n",
    "import matplotlib.lines as mlines\n",
    "\n",
    "from itertools import cycle\n",
    "from matplotlib import pyplot as plt\n",
    "\n",
    "from simulation import SimulationMixin\n"
   ]
  },
  {
   "cell_type": "code",
   "execution_count": 2,
   "id": "d79baab0",
   "metadata": {},
   "outputs": [],
   "source": [
    "fontsize = 20\n",
    "\n",
    "plots_dir = \"plots\""
   ]
  },
  {
   "cell_type": "code",
   "execution_count": 3,
   "id": "3e559f48",
   "metadata": {},
   "outputs": [],
   "source": [
    "colors = [(\"red\", \"red\"), (\"green\", \"green\"), (\"blue\", \"blue\"), (\"orange\", \"orange\")]\n",
    "color_cycle = cycle(colors)"
   ]
  },
  {
   "cell_type": "code",
   "execution_count": 4,
   "id": "be2757ec",
   "metadata": {},
   "outputs": [],
   "source": [
    "# program = \"coloring\"\n",
    "program = \"maximal_matching\"\n",
    "# program = \"dijkstra\"\n",
    "# graph_name = \"graph_powerlaw_cluster_graph_n7\"\n",
    "# graph_name = \"implicit_graph_n8\"\n",
    "graph_name = \"star_graph_0_n7\"\n",
    "sched = 0\n",
    "no_simulations = 10000\n",
    "me = False\n",
    "fault_interval = 2\n",
    "\n",
    "duong_mode = True\n",
    "\n",
    "selected_nodes = [0]"
   ]
  },
  {
   "cell_type": "code",
   "execution_count": 5,
   "id": "2787883a",
   "metadata": {},
   "outputs": [],
   "source": [
    "def get_filename(graph_name, sched, simulation_type, args, no_simulations, me, fault_interval):\n",
    "    return f\"{graph_name}__{sched}__{simulation_type}_args_{args}__{no_simulations}__{me}__{fault_interval}\""
   ]
  },
  {
   "cell_type": "code",
   "execution_count": 6,
   "id": "7323b6fb",
   "metadata": {},
   "outputs": [],
   "source": [
    "# filenames = [\n",
    "#     get_filename(\n",
    "#         graph_name,\n",
    "#         sched,\n",
    "#         SimulationMixin.RANDOM_FAULT_SIMULATION_TYPE,\n",
    "#         \"\",\n",
    "#         no_simulations,\n",
    "#         me,\n",
    "#         fault_interval,\n",
    "#     )\n",
    "# ]\n",
    "filenames = []\n",
    "if duong_mode:\n",
    "    filenames.extend(\n",
    "        [\n",
    "            get_filename(\n",
    "                graph_name,\n",
    "                sched,\n",
    "                SimulationMixin.CONTROLLED_FAULT_AT_NODE_SIMULATION_TYPE_DUONG,\n",
    "                arg,\n",
    "                no_simulations,\n",
    "                me,\n",
    "                fault_interval,\n",
    "            )\n",
    "            for arg in selected_nodes\n",
    "        ]\n",
    "    )\n",
    "else:\n",
    "    filenames.extend(\n",
    "        [\n",
    "            get_filename(\n",
    "                graph_name,\n",
    "                sched,\n",
    "                SimulationMixin.CONTROLLED_FAULT_AT_NODE_SIMULATION_TYPE,\n",
    "                arg,\n",
    "                no_simulations,\n",
    "                me,\n",
    "                fault_interval,\n",
    "            )\n",
    "            for arg in selected_nodes\n",
    "        ]\n",
    "    )\n"
   ]
  },
  {
   "cell_type": "code",
   "execution_count": 7,
   "id": "aaf5e293",
   "metadata": {},
   "outputs": [],
   "source": [
    "dfs = [pd.read_csv(os.path.join(\"results\", program, f\"{fn}.csv\")) for fn in filenames]"
   ]
  },
  {
   "cell_type": "code",
   "execution_count": 8,
   "id": "1b3e251a",
   "metadata": {},
   "outputs": [
    {
     "data": {
      "text/plain": [
       "np.int64(436)"
      ]
     },
     "execution_count": 8,
     "metadata": {},
     "output_type": "execute_result"
    }
   ],
   "source": [
    "max_steps = max(df['Steps'].max() for df in dfs)\n",
    "max_steps"
   ]
  },
  {
   "cell_type": "code",
   "execution_count": 9,
   "id": "25fce55f",
   "metadata": {},
   "outputs": [],
   "source": [
    "bins = np.linspace(0, max_steps, max_steps+1)\n",
    "# bin_centers = (bins[:-1] + bins[1:]) / 2\n",
    "bin_centers = bins"
   ]
  },
  {
   "cell_type": "code",
   "execution_count": 10,
   "id": "b036df11",
   "metadata": {},
   "outputs": [
    {
     "data": {
      "text/plain": [
       "array([  0.,   1.,   2.,   3.,   4.,   5.,   6.,   7.,   8.,   9.,  10.,\n",
       "        11.,  12.,  13.,  14.,  15.,  16.,  17.,  18.,  19.,  20.,  21.,\n",
       "        22.,  23.,  24.,  25.,  26.,  27.,  28.,  29.,  30.,  31.,  32.,\n",
       "        33.,  34.,  35.,  36.,  37.,  38.,  39.,  40.,  41.,  42.,  43.,\n",
       "        44.,  45.,  46.,  47.,  48.,  49.,  50.,  51.,  52.,  53.,  54.,\n",
       "        55.,  56.,  57.,  58.,  59.,  60.,  61.,  62.,  63.,  64.,  65.,\n",
       "        66.,  67.,  68.,  69.,  70.,  71.,  72.,  73.,  74.,  75.,  76.,\n",
       "        77.,  78.,  79.,  80.,  81.,  82.,  83.,  84.,  85.,  86.,  87.,\n",
       "        88.,  89.,  90.,  91.,  92.,  93.,  94.,  95.,  96.,  97.,  98.,\n",
       "        99., 100., 101., 102., 103., 104., 105., 106., 107., 108., 109.,\n",
       "       110., 111., 112., 113., 114., 115., 116., 117., 118., 119., 120.,\n",
       "       121., 122., 123., 124., 125., 126., 127., 128., 129., 130., 131.,\n",
       "       132., 133., 134., 135., 136., 137., 138., 139., 140., 141., 142.,\n",
       "       143., 144., 145., 146., 147., 148., 149., 150., 151., 152., 153.,\n",
       "       154., 155., 156., 157., 158., 159., 160., 161., 162., 163., 164.,\n",
       "       165., 166., 167., 168., 169., 170., 171., 172., 173., 174., 175.,\n",
       "       176., 177., 178., 179., 180., 181., 182., 183., 184., 185., 186.,\n",
       "       187., 188., 189., 190., 191., 192., 193., 194., 195., 196., 197.,\n",
       "       198., 199., 200., 201., 202., 203., 204., 205., 206., 207., 208.,\n",
       "       209., 210., 211., 212., 213., 214., 215., 216., 217., 218., 219.,\n",
       "       220., 221., 222., 223., 224., 225., 226., 227., 228., 229., 230.,\n",
       "       231., 232., 233., 234., 235., 236., 237., 238., 239., 240., 241.,\n",
       "       242., 243., 244., 245., 246., 247., 248., 249., 250., 251., 252.,\n",
       "       253., 254., 255., 256., 257., 258., 259., 260., 261., 262., 263.,\n",
       "       264., 265., 266., 267., 268., 269., 270., 271., 272., 273., 274.,\n",
       "       275., 276., 277., 278., 279., 280., 281., 282., 283., 284., 285.,\n",
       "       286., 287., 288., 289., 290., 291., 292., 293., 294., 295., 296.,\n",
       "       297., 298., 299., 300., 301., 302., 303., 304., 305., 306., 307.,\n",
       "       308., 309., 310., 311., 312., 313., 314., 315., 316., 317., 318.,\n",
       "       319., 320., 321., 322., 323., 324., 325., 326., 327., 328., 329.,\n",
       "       330., 331., 332., 333., 334., 335., 336., 337., 338., 339., 340.,\n",
       "       341., 342., 343., 344., 345., 346., 347., 348., 349., 350., 351.,\n",
       "       352., 353., 354., 355., 356., 357., 358., 359., 360., 361., 362.,\n",
       "       363., 364., 365., 366., 367., 368., 369., 370., 371., 372., 373.,\n",
       "       374., 375., 376., 377., 378., 379., 380., 381., 382., 383., 384.,\n",
       "       385., 386., 387., 388., 389., 390., 391., 392., 393., 394., 395.,\n",
       "       396., 397., 398., 399., 400., 401., 402., 403., 404., 405., 406.,\n",
       "       407., 408., 409., 410., 411., 412., 413., 414., 415., 416., 417.,\n",
       "       418., 419., 420., 421., 422., 423., 424., 425., 426., 427., 428.,\n",
       "       429., 430., 431., 432., 433., 434., 435., 436.])"
      ]
     },
     "execution_count": 10,
     "metadata": {},
     "output_type": "execute_result"
    }
   ],
   "source": [
    "bins"
   ]
  },
  {
   "cell_type": "code",
   "execution_count": 11,
   "id": "1e7c0e7d",
   "metadata": {},
   "outputs": [
    {
     "data": {
      "text/plain": [
       "array([  0,  11,  10,  52,  19, 122,  38, 169,  64, 206,  85, 240, 105,\n",
       "       280, 132, 286, 141, 303, 137, 263, 135, 249, 154, 224, 140, 255,\n",
       "       127, 223, 150, 191, 129, 171, 113, 154, 127, 141, 113, 154, 114,\n",
       "       114, 145, 114, 123, 113, 123,  82, 109,  87, 113,  80,  92,  76,\n",
       "        95,  44,  79,  62,  87,  52,  72,  39,  60,  50,  86,  40,  69,\n",
       "        31,  71,  35,  52,  39,  74,  35,  69,  18,  56,  25,  66,  17,\n",
       "        63,  16,  48,  14,  48,  15,  45,  11,  38,  20,  42,   9,  45,\n",
       "         9,  33,   7,  38,   6,  38,   7,  26,   7,  36,  10,  37,   7,\n",
       "        35,  10,  38,   8,  31,   6,  26,   3,  37,   1,  21,   5,  18,\n",
       "         5,  21,   3,  18,   1,  18,   5,  20,   1,  14,   4,  12,   0,\n",
       "        22,   1,   7,   1,  11,   1,  14,   2,  14,   1,  16,   0,  13,\n",
       "         3,   7,   0,  10,   1,  13,   0,  10,   2,   7,   3,  13,   0,\n",
       "         8,   0,  11,   0,   9,   0,  11,   0,  10,   0,   8,   1,   7,\n",
       "         0,  13,   0,   3,   0,   4,   0,   4,   0,   6,   1,   1,   0,\n",
       "         3,   1,   2,   0,   6,   0,   8,   0,   3,   0,   6,   0,   4,\n",
       "         0,   4,   1,   4,   0,   3,   1,   8,   0,   3,   0,   8,   0,\n",
       "         7,   0,   5,   0,   2,   0,   2,   0,   4,   0,   3,   0,   1,\n",
       "         0,   3,   0,   4,   0,   1,   0,   3,   0,   3,   0,   3,   1,\n",
       "         3,   0,   4,   0,   1,   0,   6,   0,   1,   0,   3,   0,   1,\n",
       "         0,   4,   0,   3,   0,   3,   0,   1,   0,   1,   0,   1,   0,\n",
       "         1,   0,   1,   0,   0,   0,   2,   0,   3,   0,   0,   0,   1,\n",
       "         0,   0,   0,   1,   0,   0,   0,   2,   0,   1,   0,   2,   0,\n",
       "         1,   0,   0,   0,   3,   0,   2,   0,   1,   0,   1,   0,   1,\n",
       "         0,   0,   0,   0,   0,   0,   0,   0,   0,   1,   0,   1,   0,\n",
       "         0,   0,   0,   0,   0,   0,   1,   0,   1,   0,   0,   0,   1,\n",
       "         0,   1,   0,   1,   0,   0,   0,   0,   0,   0,   0,   0,   0,\n",
       "         0,   0,   0,   0,   0,   0,   0,   0,   0,   0,   0,   0,   0,\n",
       "         0,   0,   0,   0,   0,   0,   0,   1,   0,   0,   0,   0,   0,\n",
       "         0,   0,   0,   0,   0,   0,   0,   0,   1,   0,   0,   0,   0,\n",
       "         0,   0,   0,   1,   0,   0,   0,   1,   0,   0,   0,   0,   0,\n",
       "         0,   0,   0,   0,   0,   0,   0,   0,   0,   0,   0,   0,   0,\n",
       "         0,   0,   0,   0,   0,   0,   0,   0,   0,   0,   0,   0,   0,\n",
       "         0,   0,   0,   0,   0,   0,   0,   0,   0,   0,   0,   0,   0,\n",
       "         0,   0,   0,   0,   0,   0,   1])"
      ]
     },
     "execution_count": 11,
     "metadata": {},
     "output_type": "execute_result"
    }
   ],
   "source": [
    "hist_data = [np.histogram(df['Steps'], bins=bins) for df in dfs]\n",
    "hist_data[0][0]"
   ]
  },
  {
   "cell_type": "code",
   "execution_count": 12,
   "id": "8b62d07c",
   "metadata": {},
   "outputs": [],
   "source": [
    "hist_data = [np.histogram(df['Steps'], bins=bins) for df in dfs]\n",
    "hist_df = []\n",
    "for hd in hist_data:\n",
    "    hist_df.append(\n",
    "        pd.DataFrame({\n",
    "            'Steps': bin_centers[:-1],\n",
    "            'Count': hd[0]\n",
    "        })\n",
    "    )"
   ]
  },
  {
   "cell_type": "code",
   "execution_count": 13,
   "id": "6e8f39c6",
   "metadata": {},
   "outputs": [
    {
     "data": {
      "application/vnd.microsoft.datawrangler.viewer.v0+json": {
       "columns": [
        {
         "name": "index",
         "rawType": "int64",
         "type": "integer"
        },
        {
         "name": "Steps",
         "rawType": "float64",
         "type": "float"
        },
        {
         "name": "Count",
         "rawType": "int64",
         "type": "integer"
        }
       ],
       "ref": "e2d61b34-5563-4b39-a299-373205181e71",
       "rows": [
        [
         "0",
         "0.0",
         "0"
        ],
        [
         "1",
         "1.0",
         "11"
        ],
        [
         "2",
         "2.0",
         "10"
        ],
        [
         "3",
         "3.0",
         "52"
        ],
        [
         "4",
         "4.0",
         "19"
        ],
        [
         "5",
         "5.0",
         "122"
        ],
        [
         "6",
         "6.0",
         "38"
        ],
        [
         "7",
         "7.0",
         "169"
        ],
        [
         "8",
         "8.0",
         "64"
        ],
        [
         "9",
         "9.0",
         "206"
        ],
        [
         "10",
         "10.0",
         "85"
        ],
        [
         "11",
         "11.0",
         "240"
        ],
        [
         "12",
         "12.0",
         "105"
        ],
        [
         "13",
         "13.0",
         "280"
        ],
        [
         "14",
         "14.0",
         "132"
        ],
        [
         "15",
         "15.0",
         "286"
        ],
        [
         "16",
         "16.0",
         "141"
        ],
        [
         "17",
         "17.0",
         "303"
        ],
        [
         "18",
         "18.0",
         "137"
        ],
        [
         "19",
         "19.0",
         "263"
        ],
        [
         "20",
         "20.0",
         "135"
        ],
        [
         "21",
         "21.0",
         "249"
        ],
        [
         "22",
         "22.0",
         "154"
        ],
        [
         "23",
         "23.0",
         "224"
        ],
        [
         "24",
         "24.0",
         "140"
        ],
        [
         "25",
         "25.0",
         "255"
        ],
        [
         "26",
         "26.0",
         "127"
        ],
        [
         "27",
         "27.0",
         "223"
        ],
        [
         "28",
         "28.0",
         "150"
        ],
        [
         "29",
         "29.0",
         "191"
        ],
        [
         "30",
         "30.0",
         "129"
        ],
        [
         "31",
         "31.0",
         "171"
        ],
        [
         "32",
         "32.0",
         "113"
        ],
        [
         "33",
         "33.0",
         "154"
        ],
        [
         "34",
         "34.0",
         "127"
        ],
        [
         "35",
         "35.0",
         "141"
        ],
        [
         "36",
         "36.0",
         "113"
        ],
        [
         "37",
         "37.0",
         "154"
        ],
        [
         "38",
         "38.0",
         "114"
        ],
        [
         "39",
         "39.0",
         "114"
        ],
        [
         "40",
         "40.0",
         "145"
        ],
        [
         "41",
         "41.0",
         "114"
        ],
        [
         "42",
         "42.0",
         "123"
        ],
        [
         "43",
         "43.0",
         "113"
        ],
        [
         "44",
         "44.0",
         "123"
        ],
        [
         "45",
         "45.0",
         "82"
        ],
        [
         "46",
         "46.0",
         "109"
        ],
        [
         "47",
         "47.0",
         "87"
        ],
        [
         "48",
         "48.0",
         "113"
        ],
        [
         "49",
         "49.0",
         "80"
        ]
       ],
       "shape": {
        "columns": 2,
        "rows": 436
       }
      },
      "text/html": [
       "<div>\n",
       "<style scoped>\n",
       "    .dataframe tbody tr th:only-of-type {\n",
       "        vertical-align: middle;\n",
       "    }\n",
       "\n",
       "    .dataframe tbody tr th {\n",
       "        vertical-align: top;\n",
       "    }\n",
       "\n",
       "    .dataframe thead th {\n",
       "        text-align: right;\n",
       "    }\n",
       "</style>\n",
       "<table border=\"1\" class=\"dataframe\">\n",
       "  <thead>\n",
       "    <tr style=\"text-align: right;\">\n",
       "      <th></th>\n",
       "      <th>Steps</th>\n",
       "      <th>Count</th>\n",
       "    </tr>\n",
       "  </thead>\n",
       "  <tbody>\n",
       "    <tr>\n",
       "      <th>0</th>\n",
       "      <td>0.0</td>\n",
       "      <td>0</td>\n",
       "    </tr>\n",
       "    <tr>\n",
       "      <th>1</th>\n",
       "      <td>1.0</td>\n",
       "      <td>11</td>\n",
       "    </tr>\n",
       "    <tr>\n",
       "      <th>2</th>\n",
       "      <td>2.0</td>\n",
       "      <td>10</td>\n",
       "    </tr>\n",
       "    <tr>\n",
       "      <th>3</th>\n",
       "      <td>3.0</td>\n",
       "      <td>52</td>\n",
       "    </tr>\n",
       "    <tr>\n",
       "      <th>4</th>\n",
       "      <td>4.0</td>\n",
       "      <td>19</td>\n",
       "    </tr>\n",
       "    <tr>\n",
       "      <th>...</th>\n",
       "      <td>...</td>\n",
       "      <td>...</td>\n",
       "    </tr>\n",
       "    <tr>\n",
       "      <th>431</th>\n",
       "      <td>431.0</td>\n",
       "      <td>0</td>\n",
       "    </tr>\n",
       "    <tr>\n",
       "      <th>432</th>\n",
       "      <td>432.0</td>\n",
       "      <td>0</td>\n",
       "    </tr>\n",
       "    <tr>\n",
       "      <th>433</th>\n",
       "      <td>433.0</td>\n",
       "      <td>0</td>\n",
       "    </tr>\n",
       "    <tr>\n",
       "      <th>434</th>\n",
       "      <td>434.0</td>\n",
       "      <td>0</td>\n",
       "    </tr>\n",
       "    <tr>\n",
       "      <th>435</th>\n",
       "      <td>435.0</td>\n",
       "      <td>1</td>\n",
       "    </tr>\n",
       "  </tbody>\n",
       "</table>\n",
       "<p>436 rows × 2 columns</p>\n",
       "</div>"
      ],
      "text/plain": [
       "     Steps  Count\n",
       "0      0.0      0\n",
       "1      1.0     11\n",
       "2      2.0     10\n",
       "3      3.0     52\n",
       "4      4.0     19\n",
       "..     ...    ...\n",
       "431  431.0      0\n",
       "432  432.0      0\n",
       "433  433.0      0\n",
       "434  434.0      0\n",
       "435  435.0      1\n",
       "\n",
       "[436 rows x 2 columns]"
      ]
     },
     "execution_count": 13,
     "metadata": {},
     "output_type": "execute_result"
    }
   ],
   "source": [
    "hist_df[0]"
   ]
  },
  {
   "cell_type": "code",
   "execution_count": 14,
   "id": "b21c6225",
   "metadata": {},
   "outputs": [
    {
     "data": {
      "application/vnd.microsoft.datawrangler.viewer.v0+json": {
       "columns": [
        {
         "name": "index",
         "rawType": "int64",
         "type": "integer"
        },
        {
         "name": "Steps",
         "rawType": "float64",
         "type": "float"
        },
        {
         "name": "Count",
         "rawType": "int64",
         "type": "integer"
        }
       ],
       "ref": "6fcca7e5-1ec6-4325-b8a7-7bab735eaa9d",
       "rows": [
        [
         "0",
         "0.0",
         "0"
        ],
        [
         "1",
         "1.0",
         "11"
        ],
        [
         "2",
         "2.0",
         "10"
        ],
        [
         "3",
         "3.0",
         "52"
        ],
        [
         "4",
         "4.0",
         "19"
        ],
        [
         "5",
         "5.0",
         "122"
        ],
        [
         "6",
         "6.0",
         "38"
        ],
        [
         "7",
         "7.0",
         "169"
        ],
        [
         "8",
         "8.0",
         "64"
        ],
        [
         "9",
         "9.0",
         "206"
        ],
        [
         "10",
         "10.0",
         "85"
        ],
        [
         "11",
         "11.0",
         "240"
        ],
        [
         "12",
         "12.0",
         "105"
        ],
        [
         "13",
         "13.0",
         "280"
        ],
        [
         "14",
         "14.0",
         "132"
        ],
        [
         "15",
         "15.0",
         "286"
        ],
        [
         "16",
         "16.0",
         "141"
        ],
        [
         "17",
         "17.0",
         "303"
        ],
        [
         "18",
         "18.0",
         "137"
        ],
        [
         "19",
         "19.0",
         "263"
        ],
        [
         "20",
         "20.0",
         "135"
        ],
        [
         "21",
         "21.0",
         "249"
        ],
        [
         "22",
         "22.0",
         "154"
        ],
        [
         "23",
         "23.0",
         "224"
        ],
        [
         "24",
         "24.0",
         "140"
        ],
        [
         "25",
         "25.0",
         "255"
        ],
        [
         "26",
         "26.0",
         "127"
        ],
        [
         "27",
         "27.0",
         "223"
        ],
        [
         "28",
         "28.0",
         "150"
        ],
        [
         "29",
         "29.0",
         "191"
        ],
        [
         "30",
         "30.0",
         "129"
        ],
        [
         "31",
         "31.0",
         "171"
        ],
        [
         "32",
         "32.0",
         "113"
        ],
        [
         "33",
         "33.0",
         "154"
        ],
        [
         "34",
         "34.0",
         "127"
        ],
        [
         "35",
         "35.0",
         "141"
        ],
        [
         "36",
         "36.0",
         "113"
        ],
        [
         "37",
         "37.0",
         "154"
        ],
        [
         "38",
         "38.0",
         "114"
        ],
        [
         "39",
         "39.0",
         "114"
        ],
        [
         "40",
         "40.0",
         "145"
        ],
        [
         "41",
         "41.0",
         "114"
        ],
        [
         "42",
         "42.0",
         "123"
        ],
        [
         "43",
         "43.0",
         "113"
        ],
        [
         "44",
         "44.0",
         "123"
        ],
        [
         "45",
         "45.0",
         "82"
        ],
        [
         "46",
         "46.0",
         "109"
        ],
        [
         "47",
         "47.0",
         "87"
        ],
        [
         "48",
         "48.0",
         "113"
        ],
        [
         "49",
         "49.0",
         "80"
        ]
       ],
       "shape": {
        "columns": 2,
        "rows": 436
       }
      },
      "text/html": [
       "<div>\n",
       "<style scoped>\n",
       "    .dataframe tbody tr th:only-of-type {\n",
       "        vertical-align: middle;\n",
       "    }\n",
       "\n",
       "    .dataframe tbody tr th {\n",
       "        vertical-align: top;\n",
       "    }\n",
       "\n",
       "    .dataframe thead th {\n",
       "        text-align: right;\n",
       "    }\n",
       "</style>\n",
       "<table border=\"1\" class=\"dataframe\">\n",
       "  <thead>\n",
       "    <tr style=\"text-align: right;\">\n",
       "      <th></th>\n",
       "      <th>Steps</th>\n",
       "      <th>Count</th>\n",
       "    </tr>\n",
       "  </thead>\n",
       "  <tbody>\n",
       "    <tr>\n",
       "      <th>0</th>\n",
       "      <td>0.0</td>\n",
       "      <td>0</td>\n",
       "    </tr>\n",
       "    <tr>\n",
       "      <th>1</th>\n",
       "      <td>1.0</td>\n",
       "      <td>11</td>\n",
       "    </tr>\n",
       "    <tr>\n",
       "      <th>2</th>\n",
       "      <td>2.0</td>\n",
       "      <td>10</td>\n",
       "    </tr>\n",
       "    <tr>\n",
       "      <th>3</th>\n",
       "      <td>3.0</td>\n",
       "      <td>52</td>\n",
       "    </tr>\n",
       "    <tr>\n",
       "      <th>4</th>\n",
       "      <td>4.0</td>\n",
       "      <td>19</td>\n",
       "    </tr>\n",
       "    <tr>\n",
       "      <th>...</th>\n",
       "      <td>...</td>\n",
       "      <td>...</td>\n",
       "    </tr>\n",
       "    <tr>\n",
       "      <th>431</th>\n",
       "      <td>431.0</td>\n",
       "      <td>0</td>\n",
       "    </tr>\n",
       "    <tr>\n",
       "      <th>432</th>\n",
       "      <td>432.0</td>\n",
       "      <td>0</td>\n",
       "    </tr>\n",
       "    <tr>\n",
       "      <th>433</th>\n",
       "      <td>433.0</td>\n",
       "      <td>0</td>\n",
       "    </tr>\n",
       "    <tr>\n",
       "      <th>434</th>\n",
       "      <td>434.0</td>\n",
       "      <td>0</td>\n",
       "    </tr>\n",
       "    <tr>\n",
       "      <th>435</th>\n",
       "      <td>435.0</td>\n",
       "      <td>1</td>\n",
       "    </tr>\n",
       "  </tbody>\n",
       "</table>\n",
       "<p>436 rows × 2 columns</p>\n",
       "</div>"
      ],
      "text/plain": [
       "     Steps  Count\n",
       "0      0.0      0\n",
       "1      1.0     11\n",
       "2      2.0     10\n",
       "3      3.0     52\n",
       "4      4.0     19\n",
       "..     ...    ...\n",
       "431  431.0      0\n",
       "432  432.0      0\n",
       "433  433.0      0\n",
       "434  434.0      0\n",
       "435  435.0      1\n",
       "\n",
       "[436 rows x 2 columns]"
      ]
     },
     "execution_count": 14,
     "metadata": {},
     "output_type": "execute_result"
    }
   ],
   "source": [
    "df_merged = hist_df[0]\n",
    "for i in range(1, len(hist_df)):\n",
    "    df_merged = pd.merge(df_merged, hist_df[i], on=[\"Steps\"], suffixes=(i-1, i))\n",
    "df_merged"
   ]
  },
  {
   "cell_type": "code",
   "execution_count": 15,
   "id": "b9882843",
   "metadata": {},
   "outputs": [
    {
     "data": {
      "application/vnd.microsoft.datawrangler.viewer.v0+json": {
       "columns": [
        {
         "name": "Steps",
         "rawType": "float64",
         "type": "float"
        },
        {
         "name": "Count",
         "rawType": "int64",
         "type": "integer"
        }
       ],
       "ref": "f3b31729-4f9e-4e77-99fd-818fd4caa389",
       "rows": [
        [
         "0.0",
         "0"
        ],
        [
         "1.0",
         "11"
        ],
        [
         "2.0",
         "10"
        ],
        [
         "3.0",
         "52"
        ],
        [
         "4.0",
         "19"
        ],
        [
         "5.0",
         "122"
        ],
        [
         "6.0",
         "38"
        ],
        [
         "7.0",
         "169"
        ],
        [
         "8.0",
         "64"
        ],
        [
         "9.0",
         "206"
        ],
        [
         "10.0",
         "85"
        ],
        [
         "11.0",
         "240"
        ],
        [
         "12.0",
         "105"
        ],
        [
         "13.0",
         "280"
        ],
        [
         "14.0",
         "132"
        ],
        [
         "15.0",
         "286"
        ],
        [
         "16.0",
         "141"
        ],
        [
         "17.0",
         "303"
        ],
        [
         "18.0",
         "137"
        ],
        [
         "19.0",
         "263"
        ],
        [
         "20.0",
         "135"
        ],
        [
         "21.0",
         "249"
        ],
        [
         "22.0",
         "154"
        ],
        [
         "23.0",
         "224"
        ],
        [
         "24.0",
         "140"
        ],
        [
         "25.0",
         "255"
        ],
        [
         "26.0",
         "127"
        ],
        [
         "27.0",
         "223"
        ],
        [
         "28.0",
         "150"
        ],
        [
         "29.0",
         "191"
        ],
        [
         "30.0",
         "129"
        ],
        [
         "31.0",
         "171"
        ],
        [
         "32.0",
         "113"
        ],
        [
         "33.0",
         "154"
        ],
        [
         "34.0",
         "127"
        ],
        [
         "35.0",
         "141"
        ],
        [
         "36.0",
         "113"
        ],
        [
         "37.0",
         "154"
        ],
        [
         "38.0",
         "114"
        ],
        [
         "39.0",
         "114"
        ],
        [
         "40.0",
         "145"
        ],
        [
         "41.0",
         "114"
        ],
        [
         "42.0",
         "123"
        ],
        [
         "43.0",
         "113"
        ],
        [
         "44.0",
         "123"
        ],
        [
         "45.0",
         "82"
        ],
        [
         "46.0",
         "109"
        ],
        [
         "47.0",
         "87"
        ],
        [
         "48.0",
         "113"
        ],
        [
         "49.0",
         "80"
        ]
       ],
       "shape": {
        "columns": 1,
        "rows": 436
       }
      },
      "text/html": [
       "<div>\n",
       "<style scoped>\n",
       "    .dataframe tbody tr th:only-of-type {\n",
       "        vertical-align: middle;\n",
       "    }\n",
       "\n",
       "    .dataframe tbody tr th {\n",
       "        vertical-align: top;\n",
       "    }\n",
       "\n",
       "    .dataframe thead th {\n",
       "        text-align: right;\n",
       "    }\n",
       "</style>\n",
       "<table border=\"1\" class=\"dataframe\">\n",
       "  <thead>\n",
       "    <tr style=\"text-align: right;\">\n",
       "      <th></th>\n",
       "      <th>Count</th>\n",
       "    </tr>\n",
       "    <tr>\n",
       "      <th>Steps</th>\n",
       "      <th></th>\n",
       "    </tr>\n",
       "  </thead>\n",
       "  <tbody>\n",
       "    <tr>\n",
       "      <th>0.0</th>\n",
       "      <td>0</td>\n",
       "    </tr>\n",
       "    <tr>\n",
       "      <th>1.0</th>\n",
       "      <td>11</td>\n",
       "    </tr>\n",
       "    <tr>\n",
       "      <th>2.0</th>\n",
       "      <td>10</td>\n",
       "    </tr>\n",
       "    <tr>\n",
       "      <th>3.0</th>\n",
       "      <td>52</td>\n",
       "    </tr>\n",
       "    <tr>\n",
       "      <th>4.0</th>\n",
       "      <td>19</td>\n",
       "    </tr>\n",
       "    <tr>\n",
       "      <th>...</th>\n",
       "      <td>...</td>\n",
       "    </tr>\n",
       "    <tr>\n",
       "      <th>431.0</th>\n",
       "      <td>0</td>\n",
       "    </tr>\n",
       "    <tr>\n",
       "      <th>432.0</th>\n",
       "      <td>0</td>\n",
       "    </tr>\n",
       "    <tr>\n",
       "      <th>433.0</th>\n",
       "      <td>0</td>\n",
       "    </tr>\n",
       "    <tr>\n",
       "      <th>434.0</th>\n",
       "      <td>0</td>\n",
       "    </tr>\n",
       "    <tr>\n",
       "      <th>435.0</th>\n",
       "      <td>1</td>\n",
       "    </tr>\n",
       "  </tbody>\n",
       "</table>\n",
       "<p>436 rows × 1 columns</p>\n",
       "</div>"
      ],
      "text/plain": [
       "       Count\n",
       "Steps       \n",
       "0.0        0\n",
       "1.0       11\n",
       "2.0       10\n",
       "3.0       52\n",
       "4.0       19\n",
       "...      ...\n",
       "431.0      0\n",
       "432.0      0\n",
       "433.0      0\n",
       "434.0      0\n",
       "435.0      1\n",
       "\n",
       "[436 rows x 1 columns]"
      ]
     },
     "execution_count": 15,
     "metadata": {},
     "output_type": "execute_result"
    }
   ],
   "source": [
    "df_merged.set_index('Steps', drop=True, inplace=True)\n",
    "df_merged"
   ]
  },
  {
   "cell_type": "code",
   "execution_count": 16,
   "id": "abcc0ac5",
   "metadata": {},
   "outputs": [],
   "source": [
    "def get_title():\n",
    "    return f\"Simulation - {program} | {graph_name} | Sched: {sched} | N: {no_simulations:,} | FI: {fault_interval}\""
   ]
  },
  {
   "cell_type": "code",
   "execution_count": 17,
   "id": "2e1cf20c",
   "metadata": {},
   "outputs": [],
   "source": [
    "def get_filename():\n",
    "    return f\"{program}__{graph_name}__{sched}__{no_simulations}__{fault_interval}__{''.join([str(i) for i in selected_nodes])}{'__duong' if duong_mode else ''}\""
   ]
  },
  {
   "cell_type": "code",
   "execution_count": 18,
   "id": "2149990e",
   "metadata": {},
   "outputs": [
    {
     "name": "stderr",
     "output_type": "stream",
     "text": [
      "/home/agaru/anaconda3/envs/cvf/lib/python3.13/site-packages/pandas/core/indexes/base.py:952: RuntimeWarning: overflow encountered in exp\n",
      "  result = getattr(ufunc, method)(*new_inputs, **kwargs)\n"
     ]
    }
   ],
   "source": [
    "from scipy.optimize import curve_fit\n",
    "\n",
    "\n",
    "def exp_func(x, a, b, c):\n",
    "    return a * np.exp(-b * x) + c\n",
    "\n",
    "\n",
    "# Fit the curve\n",
    "popt, _ = curve_fit(exp_func, df_merged.index, df_merged[\"Count\"])\n",
    "y_fit = exp_func(df_merged.index, popt[0], popt[1], popt[2])\n",
    "df_merged[f\"exp_fit\"] = y_fit"
   ]
  },
  {
   "cell_type": "code",
   "execution_count": 19,
   "id": "d120d104",
   "metadata": {},
   "outputs": [
    {
     "name": "stdout",
     "output_type": "stream",
     "text": [
      "Saved plot(s) for plots/maximal_matching/maximal_matching__star_graph_0_n7__0__10000__2__0__duong.png\n"
     ]
    }
   ],
   "source": [
    "plt.figure(figsize=(16, 8))\n",
    "ax = sns.lineplot(data=df_merged, linewidth=1)\n",
    "ax.set_title(get_title(), fontdict={\"fontsize\": fontsize})\n",
    "\n",
    "# ax.set_yscale(\"log\")\n",
    "for i, line in enumerate(ax.lines):\n",
    "    if i >= 0:\n",
    "        line_style = \"solid\"\n",
    "        line.set_color(next(color_cycle)[0])\n",
    "    else:\n",
    "        line_style = \"dashed\"\n",
    "        line.set_color(\"goldenrod\")\n",
    "    line.set_linestyle(line_style)\n",
    "\n",
    "ax.tick_params(axis=\"x\", labelsize=fontsize)\n",
    "ax.tick_params(axis=\"y\", labelsize=fontsize)\n",
    "ax.xaxis.label.set_size(fontsize)\n",
    "ax.yaxis.label.set_size(fontsize)\n",
    "\n",
    "ax.set_xlabel(\"Steps\")\n",
    "ax.set_ylabel(\"Count\")\n",
    "\n",
    "# labels = [\"Random Fault\"]\n",
    "labels = []\n",
    "labels.extend(\n",
    "    [\n",
    "        f'Controlled {\"(duong)\" if duong_mode else \"\"} at node {n}'\n",
    "        for n in selected_nodes\n",
    "    ]\n",
    ")\n",
    "labels.append(f\"$y = {popt[0]:.2f}e^{{{popt[1]:.2f}x}} + {popt[1]:.2f}$\")\n",
    "\n",
    "custom_lines = [\n",
    "    mlines.Line2D(\n",
    "        [],\n",
    "        [],\n",
    "        color=line.get_color(),\n",
    "        # marker=marker,\n",
    "        label=cat,\n",
    "        linestyle=line.get_linestyle(),\n",
    "    )\n",
    "    for line, cat in zip(ax.lines, labels)\n",
    "]\n",
    "plt.rc(\"font\", size=fontsize)\n",
    "plt.legend(handles=custom_lines, fontsize=fontsize * 0.9)\n",
    "file_path = os.path.join(\n",
    "    plots_dir,\n",
    "    program,\n",
    "    f\"{get_filename()}.png\",\n",
    ")\n",
    "\n",
    "\n",
    "plt.savefig(\n",
    "    file_path,\n",
    "    bbox_inches=\"tight\",\n",
    ")\n",
    "plt.close()\n",
    "\n",
    "print(f\"Saved plot(s) for {file_path}\")"
   ]
  },
  {
   "cell_type": "code",
   "execution_count": 20,
   "id": "e5177718",
   "metadata": {},
   "outputs": [
    {
     "data": {
      "application/vnd.microsoft.datawrangler.viewer.v0+json": {
       "columns": [
        {
         "name": "Steps",
         "rawType": "float64",
         "type": "float"
        },
        {
         "name": "Count",
         "rawType": "int64",
         "type": "integer"
        },
        {
         "name": "exp_fit",
         "rawType": "float64",
         "type": "float"
        }
       ],
       "ref": "33137bfc-d34e-4d3a-8c77-2f2fc21824dc",
       "rows": [
        [
         "0.0",
         "0",
         "175.296100974091"
        ],
        [
         "1.0",
         "11",
         "172.59762273045166"
        ],
        [
         "2.0",
         "10",
         "169.9396438526405"
        ],
        [
         "3.0",
         "52",
         "167.32155651710497"
        ],
        [
         "4.0",
         "19",
         "164.74276202264457"
        ],
        [
         "5.0",
         "122",
         "162.20267065350043"
        ],
        [
         "6.0",
         "38",
         "159.70070154449994"
        ],
        [
         "7.0",
         "169",
         "157.23628254822503"
        ],
        [
         "8.0",
         "64",
         "154.80885010417427"
        ],
        [
         "9.0",
         "206",
         "152.41784910988838"
        ],
        [
         "10.0",
         "85",
         "150.06273279401017"
        ],
        [
         "11.0",
         "240",
         "147.7429625912494"
        ],
        [
         "12.0",
         "105",
         "145.45800801922437"
        ],
        [
         "13.0",
         "280",
         "143.2073465571517"
        ],
        [
         "14.0",
         "132",
         "140.990463526357"
        ],
        [
         "15.0",
         "286",
         "138.80685197257867"
        ],
        [
         "16.0",
         "141",
         "136.6560125500382"
        ],
        [
         "17.0",
         "303",
         "134.53745340725038"
        ],
        [
         "18.0",
         "137",
         "132.45069007454725"
        ],
        [
         "19.0",
         "263",
         "130.39524535329014"
        ],
        [
         "20.0",
         "135",
         "128.3706492067443"
        ],
        [
         "21.0",
         "249",
         "126.3764386525917"
        ],
        [
         "22.0",
         "154",
         "124.41215765705661"
        ],
        [
         "23.0",
         "224",
         "122.47735703062031"
        ],
        [
         "24.0",
         "140",
         "120.57159432530096"
        ],
        [
         "25.0",
         "255",
         "118.69443373347515"
        ],
        [
         "26.0",
         "127",
         "116.84544598821789"
        ],
        [
         "27.0",
         "223",
         "115.02420826513827"
        ],
        [
         "28.0",
         "150",
         "113.23030408568867"
        ],
        [
         "29.0",
         "191",
         "111.46332322192467"
        ],
        [
         "30.0",
         "129",
         "109.72286160269473"
        ],
        [
         "31.0",
         "171",
         "108.0085212212377"
        ],
        [
         "32.0",
         "113",
         "106.31991004416699"
        ],
        [
         "33.0",
         "154",
         "104.65664192182089"
        ],
        [
         "34.0",
         "127",
         "103.0183364999583"
        ],
        [
         "35.0",
         "141",
         "101.40461913277974"
        ],
        [
         "36.0",
         "113",
         "99.81512079725383"
        ],
        [
         "37.0",
         "154",
         "98.24947800872944"
        ],
        [
         "38.0",
         "114",
         "96.70733273781453"
        ],
        [
         "39.0",
         "114",
         "95.18833232850233"
        ],
        [
         "40.0",
         "145",
         "93.69212941752642"
        ],
        [
         "41.0",
         "114",
         "92.21838185492608"
        ],
        [
         "42.0",
         "123",
         "90.76675262580379"
        ],
        [
         "43.0",
         "113",
         "89.33690977325716"
        ],
        [
         "44.0",
         "123",
         "87.92852632246725"
        ],
        [
         "45.0",
         "82",
         "86.54128020592651"
        ],
        [
         "46.0",
         "109",
         "85.17485418978865"
        ],
        [
         "47.0",
         "87",
         "83.82893580132392"
        ],
        [
         "48.0",
         "113",
         "82.5032172574634"
        ],
        [
         "49.0",
         "80",
         "81.19739539441532"
        ]
       ],
       "shape": {
        "columns": 2,
        "rows": 436
       }
      },
      "text/html": [
       "<div>\n",
       "<style scoped>\n",
       "    .dataframe tbody tr th:only-of-type {\n",
       "        vertical-align: middle;\n",
       "    }\n",
       "\n",
       "    .dataframe tbody tr th {\n",
       "        vertical-align: top;\n",
       "    }\n",
       "\n",
       "    .dataframe thead th {\n",
       "        text-align: right;\n",
       "    }\n",
       "</style>\n",
       "<table border=\"1\" class=\"dataframe\">\n",
       "  <thead>\n",
       "    <tr style=\"text-align: right;\">\n",
       "      <th></th>\n",
       "      <th>Count</th>\n",
       "      <th>exp_fit</th>\n",
       "    </tr>\n",
       "    <tr>\n",
       "      <th>Steps</th>\n",
       "      <th></th>\n",
       "      <th></th>\n",
       "    </tr>\n",
       "  </thead>\n",
       "  <tbody>\n",
       "    <tr>\n",
       "      <th>0.0</th>\n",
       "      <td>0</td>\n",
       "      <td>175.296101</td>\n",
       "    </tr>\n",
       "    <tr>\n",
       "      <th>1.0</th>\n",
       "      <td>11</td>\n",
       "      <td>172.597623</td>\n",
       "    </tr>\n",
       "    <tr>\n",
       "      <th>2.0</th>\n",
       "      <td>10</td>\n",
       "      <td>169.939644</td>\n",
       "    </tr>\n",
       "    <tr>\n",
       "      <th>3.0</th>\n",
       "      <td>52</td>\n",
       "      <td>167.321557</td>\n",
       "    </tr>\n",
       "    <tr>\n",
       "      <th>4.0</th>\n",
       "      <td>19</td>\n",
       "      <td>164.742762</td>\n",
       "    </tr>\n",
       "    <tr>\n",
       "      <th>...</th>\n",
       "      <td>...</td>\n",
       "      <td>...</td>\n",
       "    </tr>\n",
       "    <tr>\n",
       "      <th>431.0</th>\n",
       "      <td>0</td>\n",
       "      <td>-4.238262</td>\n",
       "    </tr>\n",
       "    <tr>\n",
       "      <th>432.0</th>\n",
       "      <td>0</td>\n",
       "      <td>-4.242248</td>\n",
       "    </tr>\n",
       "    <tr>\n",
       "      <th>433.0</th>\n",
       "      <td>0</td>\n",
       "      <td>-4.246175</td>\n",
       "    </tr>\n",
       "    <tr>\n",
       "      <th>434.0</th>\n",
       "      <td>0</td>\n",
       "      <td>-4.250043</td>\n",
       "    </tr>\n",
       "    <tr>\n",
       "      <th>435.0</th>\n",
       "      <td>1</td>\n",
       "      <td>-4.253852</td>\n",
       "    </tr>\n",
       "  </tbody>\n",
       "</table>\n",
       "<p>436 rows × 2 columns</p>\n",
       "</div>"
      ],
      "text/plain": [
       "       Count     exp_fit\n",
       "Steps                   \n",
       "0.0        0  175.296101\n",
       "1.0       11  172.597623\n",
       "2.0       10  169.939644\n",
       "3.0       52  167.321557\n",
       "4.0       19  164.742762\n",
       "...      ...         ...\n",
       "431.0      0   -4.238262\n",
       "432.0      0   -4.242248\n",
       "433.0      0   -4.246175\n",
       "434.0      0   -4.250043\n",
       "435.0      1   -4.253852\n",
       "\n",
       "[436 rows x 2 columns]"
      ]
     },
     "execution_count": 20,
     "metadata": {},
     "output_type": "execute_result"
    }
   ],
   "source": [
    "df_merged"
   ]
  },
  {
   "cell_type": "code",
   "execution_count": null,
   "id": "366c2d37",
   "metadata": {},
   "outputs": [],
   "source": []
  },
  {
   "cell_type": "code",
   "execution_count": 21,
   "id": "27f8596d",
   "metadata": {},
   "outputs": [],
   "source": [
    "# # Save to file\n",
    "# df_merged.columns = [\n",
    "#     \"Random\",\n",
    "#     *[\n",
    "#         f'Controlled {\"(duong)\" if duong_mode else \"\"} at node {n}'\n",
    "#         for n in selected_nodes\n",
    "#     ],\n",
    "# ]\n",
    "# df_merged.index = df_merged.index.astype(int)\n",
    "# df_merged.to_csv(\n",
    "#     os.path.join(\"results\", program, f\"agg_{get_filename()}.csv\")\n",
    "# )"
   ]
  }
 ],
 "metadata": {
  "kernelspec": {
   "display_name": "Python 3",
   "language": "python",
   "name": "python3"
  },
  "language_info": {
   "codemirror_mode": {
    "name": "ipython",
    "version": 3
   },
   "file_extension": ".py",
   "mimetype": "text/x-python",
   "name": "python",
   "nbconvert_exporter": "python",
   "pygments_lexer": "ipython3",
   "version": "3.13.5"
  }
 },
 "nbformat": 4,
 "nbformat_minor": 5
}
