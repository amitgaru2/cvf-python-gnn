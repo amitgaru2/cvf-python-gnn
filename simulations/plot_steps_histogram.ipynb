{
 "cells": [
  {
   "cell_type": "code",
   "execution_count": 1,
   "id": "eefce604",
   "metadata": {},
   "outputs": [],
   "source": [
    "import os\n",
    "import numpy as np\n",
    "import pandas as pd\n",
    "import seaborn as sns\n",
    "import matplotlib.lines as mlines\n",
    "\n",
    "from itertools import cycle\n",
    "from matplotlib import pyplot as plt\n",
    "\n",
    "from simulation import SimulationMixin\n"
   ]
  },
  {
   "cell_type": "code",
   "execution_count": 2,
   "id": "d79baab0",
   "metadata": {},
   "outputs": [],
   "source": [
    "fontsize = 20\n",
    "\n",
    "plots_dir = \"plots\""
   ]
  },
  {
   "cell_type": "code",
   "execution_count": 3,
   "id": "3e559f48",
   "metadata": {},
   "outputs": [],
   "source": [
    "colors = [(\"red\", \"red\"), (\"green\", \"green\"), (\"blue\", \"blue\"), (\"orange\", \"orange\")]\n",
    "color_cycle = cycle(colors)"
   ]
  },
  {
   "cell_type": "code",
   "execution_count": 4,
   "id": "be2757ec",
   "metadata": {},
   "outputs": [],
   "source": [
    "program = \"graph_coloring\"\n",
    "# program = \"dijkstra_token_ring\"\n",
    "# program = \"maximal_matching\"\n",
    "# graph_name = \"graph_powerlaw_cluster_graph_n7\"\n",
    "# graph_name = \"implicit_graph_n10\"\n",
    "graph_name = \"graph_10\"\n",
    "sched = 0\n",
    "no_simulations = 100000\n",
    "me = False\n",
    "fault_interval = 2\n",
    "\n",
    "# duong_mode = True\n",
    "simulation_type = \"controlled_at_node_amit_v2\"\n",
    "limits = 100\n",
    "\n",
    "selected_nodes = [9]"
   ]
  },
  {
   "cell_type": "code",
   "execution_count": 5,
   "id": "2787883a",
   "metadata": {},
   "outputs": [],
   "source": [
    "def get_filename(graph_name, sched, simulation_type, args, no_simulations, me, fault_interval):\n",
    "    return f\"{graph_name}__{sched}__{simulation_type}_args_{args}__{no_simulations}__{me}__{fault_interval}__limits_{limits}\""
   ]
  },
  {
   "cell_type": "code",
   "execution_count": 6,
   "id": "7323b6fb",
   "metadata": {},
   "outputs": [],
   "source": [
    "# filenames = [\n",
    "#     get_filename(\n",
    "#         graph_name,\n",
    "#         sched,\n",
    "#         SimulationMixin.RANDOM_FAULT_SIMULATION_TYPE,\n",
    "#         \"\",\n",
    "#         no_simulations,\n",
    "#         me,\n",
    "#         fault_interval,\n",
    "#     )\n",
    "# ]\n",
    "filenames = []\n",
    "\n",
    "filenames.extend(\n",
    "    [\n",
    "        get_filename(\n",
    "            graph_name,\n",
    "            sched,\n",
    "            simulation_type,\n",
    "            arg,\n",
    "            no_simulations,\n",
    "            me,\n",
    "            fault_interval,\n",
    "        )\n",
    "        for arg in selected_nodes\n",
    "    ]\n",
    ")\n"
   ]
  },
  {
   "cell_type": "code",
   "execution_count": 7,
   "id": "aaf5e293",
   "metadata": {},
   "outputs": [],
   "source": [
    "dfs = [pd.read_csv(os.path.join(\"results\", program, f\"{fn}.csv\")) for fn in filenames]"
   ]
  },
  {
   "cell_type": "code",
   "execution_count": 8,
   "id": "1b3e251a",
   "metadata": {},
   "outputs": [
    {
     "data": {
      "text/plain": [
       "np.int64(22)"
      ]
     },
     "execution_count": 8,
     "metadata": {},
     "output_type": "execute_result"
    }
   ],
   "source": [
    "max_steps = max(df['Steps'].max() for df in dfs)\n",
    "max_steps"
   ]
  },
  {
   "cell_type": "code",
   "execution_count": 9,
   "id": "25fce55f",
   "metadata": {},
   "outputs": [],
   "source": [
    "bins = np.linspace(0, max_steps, max_steps+1)\n",
    "# bin_centers = (bins[:-1] + bins[1:]) / 2\n",
    "bin_centers = bins"
   ]
  },
  {
   "cell_type": "code",
   "execution_count": 10,
   "id": "b036df11",
   "metadata": {},
   "outputs": [
    {
     "data": {
      "text/plain": [
       "array([ 0.,  1.,  2.,  3.,  4.,  5.,  6.,  7.,  8.,  9., 10., 11., 12.,\n",
       "       13., 14., 15., 16., 17., 18., 19., 20., 21., 22.])"
      ]
     },
     "execution_count": 10,
     "metadata": {},
     "output_type": "execute_result"
    }
   ],
   "source": [
    "bins"
   ]
  },
  {
   "cell_type": "code",
   "execution_count": 11,
   "id": "1e7c0e7d",
   "metadata": {},
   "outputs": [
    {
     "data": {
      "text/plain": [
       "array([    0, 41413,  2406, 25493,  3353, 13761,  2055,  5879,  1184,\n",
       "        2336,   539,   828,   225,   293,    84,    77,    32,    22,\n",
       "           8,     3,     7,     2])"
      ]
     },
     "execution_count": 11,
     "metadata": {},
     "output_type": "execute_result"
    }
   ],
   "source": [
    "hist_data = [np.histogram(df['Steps'], bins=bins) for df in dfs]\n",
    "hist_data[0][0]"
   ]
  },
  {
   "cell_type": "code",
   "execution_count": 12,
   "id": "8b62d07c",
   "metadata": {},
   "outputs": [],
   "source": [
    "hist_data = [np.histogram(df['Steps'], bins=bins) for df in dfs]\n",
    "hist_df = []\n",
    "for hd in hist_data:\n",
    "    hist_df.append(\n",
    "        pd.DataFrame({\n",
    "            'Steps': bin_centers[:-1],\n",
    "            'Count': hd[0]\n",
    "        })\n",
    "    )"
   ]
  },
  {
   "cell_type": "code",
   "execution_count": 13,
   "id": "6e8f39c6",
   "metadata": {},
   "outputs": [
    {
     "data": {
      "application/vnd.microsoft.datawrangler.viewer.v0+json": {
       "columns": [
        {
         "name": "index",
         "rawType": "int64",
         "type": "integer"
        },
        {
         "name": "Steps",
         "rawType": "float64",
         "type": "float"
        },
        {
         "name": "Count",
         "rawType": "int64",
         "type": "integer"
        }
       ],
       "ref": "87dab45b-7855-4f23-a314-082fec8f14c1",
       "rows": [
        [
         "0",
         "0.0",
         "0"
        ],
        [
         "1",
         "1.0",
         "41413"
        ],
        [
         "2",
         "2.0",
         "2406"
        ],
        [
         "3",
         "3.0",
         "25493"
        ],
        [
         "4",
         "4.0",
         "3353"
        ],
        [
         "5",
         "5.0",
         "13761"
        ],
        [
         "6",
         "6.0",
         "2055"
        ],
        [
         "7",
         "7.0",
         "5879"
        ],
        [
         "8",
         "8.0",
         "1184"
        ],
        [
         "9",
         "9.0",
         "2336"
        ],
        [
         "10",
         "10.0",
         "539"
        ],
        [
         "11",
         "11.0",
         "828"
        ],
        [
         "12",
         "12.0",
         "225"
        ],
        [
         "13",
         "13.0",
         "293"
        ],
        [
         "14",
         "14.0",
         "84"
        ],
        [
         "15",
         "15.0",
         "77"
        ],
        [
         "16",
         "16.0",
         "32"
        ],
        [
         "17",
         "17.0",
         "22"
        ],
        [
         "18",
         "18.0",
         "8"
        ],
        [
         "19",
         "19.0",
         "3"
        ],
        [
         "20",
         "20.0",
         "7"
        ],
        [
         "21",
         "21.0",
         "2"
        ]
       ],
       "shape": {
        "columns": 2,
        "rows": 22
       }
      },
      "text/html": [
       "<div>\n",
       "<style scoped>\n",
       "    .dataframe tbody tr th:only-of-type {\n",
       "        vertical-align: middle;\n",
       "    }\n",
       "\n",
       "    .dataframe tbody tr th {\n",
       "        vertical-align: top;\n",
       "    }\n",
       "\n",
       "    .dataframe thead th {\n",
       "        text-align: right;\n",
       "    }\n",
       "</style>\n",
       "<table border=\"1\" class=\"dataframe\">\n",
       "  <thead>\n",
       "    <tr style=\"text-align: right;\">\n",
       "      <th></th>\n",
       "      <th>Steps</th>\n",
       "      <th>Count</th>\n",
       "    </tr>\n",
       "  </thead>\n",
       "  <tbody>\n",
       "    <tr>\n",
       "      <th>0</th>\n",
       "      <td>0.0</td>\n",
       "      <td>0</td>\n",
       "    </tr>\n",
       "    <tr>\n",
       "      <th>1</th>\n",
       "      <td>1.0</td>\n",
       "      <td>41413</td>\n",
       "    </tr>\n",
       "    <tr>\n",
       "      <th>2</th>\n",
       "      <td>2.0</td>\n",
       "      <td>2406</td>\n",
       "    </tr>\n",
       "    <tr>\n",
       "      <th>3</th>\n",
       "      <td>3.0</td>\n",
       "      <td>25493</td>\n",
       "    </tr>\n",
       "    <tr>\n",
       "      <th>4</th>\n",
       "      <td>4.0</td>\n",
       "      <td>3353</td>\n",
       "    </tr>\n",
       "    <tr>\n",
       "      <th>5</th>\n",
       "      <td>5.0</td>\n",
       "      <td>13761</td>\n",
       "    </tr>\n",
       "    <tr>\n",
       "      <th>6</th>\n",
       "      <td>6.0</td>\n",
       "      <td>2055</td>\n",
       "    </tr>\n",
       "    <tr>\n",
       "      <th>7</th>\n",
       "      <td>7.0</td>\n",
       "      <td>5879</td>\n",
       "    </tr>\n",
       "    <tr>\n",
       "      <th>8</th>\n",
       "      <td>8.0</td>\n",
       "      <td>1184</td>\n",
       "    </tr>\n",
       "    <tr>\n",
       "      <th>9</th>\n",
       "      <td>9.0</td>\n",
       "      <td>2336</td>\n",
       "    </tr>\n",
       "    <tr>\n",
       "      <th>10</th>\n",
       "      <td>10.0</td>\n",
       "      <td>539</td>\n",
       "    </tr>\n",
       "    <tr>\n",
       "      <th>11</th>\n",
       "      <td>11.0</td>\n",
       "      <td>828</td>\n",
       "    </tr>\n",
       "    <tr>\n",
       "      <th>12</th>\n",
       "      <td>12.0</td>\n",
       "      <td>225</td>\n",
       "    </tr>\n",
       "    <tr>\n",
       "      <th>13</th>\n",
       "      <td>13.0</td>\n",
       "      <td>293</td>\n",
       "    </tr>\n",
       "    <tr>\n",
       "      <th>14</th>\n",
       "      <td>14.0</td>\n",
       "      <td>84</td>\n",
       "    </tr>\n",
       "    <tr>\n",
       "      <th>15</th>\n",
       "      <td>15.0</td>\n",
       "      <td>77</td>\n",
       "    </tr>\n",
       "    <tr>\n",
       "      <th>16</th>\n",
       "      <td>16.0</td>\n",
       "      <td>32</td>\n",
       "    </tr>\n",
       "    <tr>\n",
       "      <th>17</th>\n",
       "      <td>17.0</td>\n",
       "      <td>22</td>\n",
       "    </tr>\n",
       "    <tr>\n",
       "      <th>18</th>\n",
       "      <td>18.0</td>\n",
       "      <td>8</td>\n",
       "    </tr>\n",
       "    <tr>\n",
       "      <th>19</th>\n",
       "      <td>19.0</td>\n",
       "      <td>3</td>\n",
       "    </tr>\n",
       "    <tr>\n",
       "      <th>20</th>\n",
       "      <td>20.0</td>\n",
       "      <td>7</td>\n",
       "    </tr>\n",
       "    <tr>\n",
       "      <th>21</th>\n",
       "      <td>21.0</td>\n",
       "      <td>2</td>\n",
       "    </tr>\n",
       "  </tbody>\n",
       "</table>\n",
       "</div>"
      ],
      "text/plain": [
       "    Steps  Count\n",
       "0     0.0      0\n",
       "1     1.0  41413\n",
       "2     2.0   2406\n",
       "3     3.0  25493\n",
       "4     4.0   3353\n",
       "5     5.0  13761\n",
       "6     6.0   2055\n",
       "7     7.0   5879\n",
       "8     8.0   1184\n",
       "9     9.0   2336\n",
       "10   10.0    539\n",
       "11   11.0    828\n",
       "12   12.0    225\n",
       "13   13.0    293\n",
       "14   14.0     84\n",
       "15   15.0     77\n",
       "16   16.0     32\n",
       "17   17.0     22\n",
       "18   18.0      8\n",
       "19   19.0      3\n",
       "20   20.0      7\n",
       "21   21.0      2"
      ]
     },
     "execution_count": 13,
     "metadata": {},
     "output_type": "execute_result"
    }
   ],
   "source": [
    "hist_df[0]"
   ]
  },
  {
   "cell_type": "code",
   "execution_count": 14,
   "id": "b21c6225",
   "metadata": {},
   "outputs": [
    {
     "data": {
      "application/vnd.microsoft.datawrangler.viewer.v0+json": {
       "columns": [
        {
         "name": "index",
         "rawType": "int64",
         "type": "integer"
        },
        {
         "name": "Steps",
         "rawType": "float64",
         "type": "float"
        },
        {
         "name": "Count",
         "rawType": "int64",
         "type": "integer"
        }
       ],
       "ref": "d94b8efc-7d35-4a78-ba8c-a8f6017f186b",
       "rows": [
        [
         "0",
         "0.0",
         "0"
        ],
        [
         "1",
         "1.0",
         "41413"
        ],
        [
         "2",
         "2.0",
         "2406"
        ],
        [
         "3",
         "3.0",
         "25493"
        ],
        [
         "4",
         "4.0",
         "3353"
        ],
        [
         "5",
         "5.0",
         "13761"
        ],
        [
         "6",
         "6.0",
         "2055"
        ],
        [
         "7",
         "7.0",
         "5879"
        ],
        [
         "8",
         "8.0",
         "1184"
        ],
        [
         "9",
         "9.0",
         "2336"
        ],
        [
         "10",
         "10.0",
         "539"
        ],
        [
         "11",
         "11.0",
         "828"
        ],
        [
         "12",
         "12.0",
         "225"
        ],
        [
         "13",
         "13.0",
         "293"
        ],
        [
         "14",
         "14.0",
         "84"
        ],
        [
         "15",
         "15.0",
         "77"
        ],
        [
         "16",
         "16.0",
         "32"
        ],
        [
         "17",
         "17.0",
         "22"
        ],
        [
         "18",
         "18.0",
         "8"
        ],
        [
         "19",
         "19.0",
         "3"
        ],
        [
         "20",
         "20.0",
         "7"
        ],
        [
         "21",
         "21.0",
         "2"
        ]
       ],
       "shape": {
        "columns": 2,
        "rows": 22
       }
      },
      "text/html": [
       "<div>\n",
       "<style scoped>\n",
       "    .dataframe tbody tr th:only-of-type {\n",
       "        vertical-align: middle;\n",
       "    }\n",
       "\n",
       "    .dataframe tbody tr th {\n",
       "        vertical-align: top;\n",
       "    }\n",
       "\n",
       "    .dataframe thead th {\n",
       "        text-align: right;\n",
       "    }\n",
       "</style>\n",
       "<table border=\"1\" class=\"dataframe\">\n",
       "  <thead>\n",
       "    <tr style=\"text-align: right;\">\n",
       "      <th></th>\n",
       "      <th>Steps</th>\n",
       "      <th>Count</th>\n",
       "    </tr>\n",
       "  </thead>\n",
       "  <tbody>\n",
       "    <tr>\n",
       "      <th>0</th>\n",
       "      <td>0.0</td>\n",
       "      <td>0</td>\n",
       "    </tr>\n",
       "    <tr>\n",
       "      <th>1</th>\n",
       "      <td>1.0</td>\n",
       "      <td>41413</td>\n",
       "    </tr>\n",
       "    <tr>\n",
       "      <th>2</th>\n",
       "      <td>2.0</td>\n",
       "      <td>2406</td>\n",
       "    </tr>\n",
       "    <tr>\n",
       "      <th>3</th>\n",
       "      <td>3.0</td>\n",
       "      <td>25493</td>\n",
       "    </tr>\n",
       "    <tr>\n",
       "      <th>4</th>\n",
       "      <td>4.0</td>\n",
       "      <td>3353</td>\n",
       "    </tr>\n",
       "    <tr>\n",
       "      <th>5</th>\n",
       "      <td>5.0</td>\n",
       "      <td>13761</td>\n",
       "    </tr>\n",
       "    <tr>\n",
       "      <th>6</th>\n",
       "      <td>6.0</td>\n",
       "      <td>2055</td>\n",
       "    </tr>\n",
       "    <tr>\n",
       "      <th>7</th>\n",
       "      <td>7.0</td>\n",
       "      <td>5879</td>\n",
       "    </tr>\n",
       "    <tr>\n",
       "      <th>8</th>\n",
       "      <td>8.0</td>\n",
       "      <td>1184</td>\n",
       "    </tr>\n",
       "    <tr>\n",
       "      <th>9</th>\n",
       "      <td>9.0</td>\n",
       "      <td>2336</td>\n",
       "    </tr>\n",
       "    <tr>\n",
       "      <th>10</th>\n",
       "      <td>10.0</td>\n",
       "      <td>539</td>\n",
       "    </tr>\n",
       "    <tr>\n",
       "      <th>11</th>\n",
       "      <td>11.0</td>\n",
       "      <td>828</td>\n",
       "    </tr>\n",
       "    <tr>\n",
       "      <th>12</th>\n",
       "      <td>12.0</td>\n",
       "      <td>225</td>\n",
       "    </tr>\n",
       "    <tr>\n",
       "      <th>13</th>\n",
       "      <td>13.0</td>\n",
       "      <td>293</td>\n",
       "    </tr>\n",
       "    <tr>\n",
       "      <th>14</th>\n",
       "      <td>14.0</td>\n",
       "      <td>84</td>\n",
       "    </tr>\n",
       "    <tr>\n",
       "      <th>15</th>\n",
       "      <td>15.0</td>\n",
       "      <td>77</td>\n",
       "    </tr>\n",
       "    <tr>\n",
       "      <th>16</th>\n",
       "      <td>16.0</td>\n",
       "      <td>32</td>\n",
       "    </tr>\n",
       "    <tr>\n",
       "      <th>17</th>\n",
       "      <td>17.0</td>\n",
       "      <td>22</td>\n",
       "    </tr>\n",
       "    <tr>\n",
       "      <th>18</th>\n",
       "      <td>18.0</td>\n",
       "      <td>8</td>\n",
       "    </tr>\n",
       "    <tr>\n",
       "      <th>19</th>\n",
       "      <td>19.0</td>\n",
       "      <td>3</td>\n",
       "    </tr>\n",
       "    <tr>\n",
       "      <th>20</th>\n",
       "      <td>20.0</td>\n",
       "      <td>7</td>\n",
       "    </tr>\n",
       "    <tr>\n",
       "      <th>21</th>\n",
       "      <td>21.0</td>\n",
       "      <td>2</td>\n",
       "    </tr>\n",
       "  </tbody>\n",
       "</table>\n",
       "</div>"
      ],
      "text/plain": [
       "    Steps  Count\n",
       "0     0.0      0\n",
       "1     1.0  41413\n",
       "2     2.0   2406\n",
       "3     3.0  25493\n",
       "4     4.0   3353\n",
       "5     5.0  13761\n",
       "6     6.0   2055\n",
       "7     7.0   5879\n",
       "8     8.0   1184\n",
       "9     9.0   2336\n",
       "10   10.0    539\n",
       "11   11.0    828\n",
       "12   12.0    225\n",
       "13   13.0    293\n",
       "14   14.0     84\n",
       "15   15.0     77\n",
       "16   16.0     32\n",
       "17   17.0     22\n",
       "18   18.0      8\n",
       "19   19.0      3\n",
       "20   20.0      7\n",
       "21   21.0      2"
      ]
     },
     "execution_count": 14,
     "metadata": {},
     "output_type": "execute_result"
    }
   ],
   "source": [
    "df_merged = hist_df[0]\n",
    "for i in range(1, len(hist_df)):\n",
    "    df_merged = pd.merge(df_merged, hist_df[i], on=[\"Steps\"], suffixes=(i-1, i))\n",
    "df_merged"
   ]
  },
  {
   "cell_type": "code",
   "execution_count": 15,
   "id": "b9882843",
   "metadata": {},
   "outputs": [
    {
     "data": {
      "application/vnd.microsoft.datawrangler.viewer.v0+json": {
       "columns": [
        {
         "name": "Steps",
         "rawType": "float64",
         "type": "float"
        },
        {
         "name": "Count",
         "rawType": "int64",
         "type": "integer"
        }
       ],
       "ref": "e0d4ec9a-3f8d-4664-b5dc-658541e09ac0",
       "rows": [
        [
         "0.0",
         "0"
        ],
        [
         "1.0",
         "41413"
        ],
        [
         "2.0",
         "2406"
        ],
        [
         "3.0",
         "25493"
        ],
        [
         "4.0",
         "3353"
        ],
        [
         "5.0",
         "13761"
        ],
        [
         "6.0",
         "2055"
        ],
        [
         "7.0",
         "5879"
        ],
        [
         "8.0",
         "1184"
        ],
        [
         "9.0",
         "2336"
        ],
        [
         "10.0",
         "539"
        ],
        [
         "11.0",
         "828"
        ],
        [
         "12.0",
         "225"
        ],
        [
         "13.0",
         "293"
        ],
        [
         "14.0",
         "84"
        ],
        [
         "15.0",
         "77"
        ],
        [
         "16.0",
         "32"
        ],
        [
         "17.0",
         "22"
        ],
        [
         "18.0",
         "8"
        ],
        [
         "19.0",
         "3"
        ],
        [
         "20.0",
         "7"
        ],
        [
         "21.0",
         "2"
        ]
       ],
       "shape": {
        "columns": 1,
        "rows": 22
       }
      },
      "text/html": [
       "<div>\n",
       "<style scoped>\n",
       "    .dataframe tbody tr th:only-of-type {\n",
       "        vertical-align: middle;\n",
       "    }\n",
       "\n",
       "    .dataframe tbody tr th {\n",
       "        vertical-align: top;\n",
       "    }\n",
       "\n",
       "    .dataframe thead th {\n",
       "        text-align: right;\n",
       "    }\n",
       "</style>\n",
       "<table border=\"1\" class=\"dataframe\">\n",
       "  <thead>\n",
       "    <tr style=\"text-align: right;\">\n",
       "      <th></th>\n",
       "      <th>Count</th>\n",
       "    </tr>\n",
       "    <tr>\n",
       "      <th>Steps</th>\n",
       "      <th></th>\n",
       "    </tr>\n",
       "  </thead>\n",
       "  <tbody>\n",
       "    <tr>\n",
       "      <th>0.0</th>\n",
       "      <td>0</td>\n",
       "    </tr>\n",
       "    <tr>\n",
       "      <th>1.0</th>\n",
       "      <td>41413</td>\n",
       "    </tr>\n",
       "    <tr>\n",
       "      <th>2.0</th>\n",
       "      <td>2406</td>\n",
       "    </tr>\n",
       "    <tr>\n",
       "      <th>3.0</th>\n",
       "      <td>25493</td>\n",
       "    </tr>\n",
       "    <tr>\n",
       "      <th>4.0</th>\n",
       "      <td>3353</td>\n",
       "    </tr>\n",
       "    <tr>\n",
       "      <th>5.0</th>\n",
       "      <td>13761</td>\n",
       "    </tr>\n",
       "    <tr>\n",
       "      <th>6.0</th>\n",
       "      <td>2055</td>\n",
       "    </tr>\n",
       "    <tr>\n",
       "      <th>7.0</th>\n",
       "      <td>5879</td>\n",
       "    </tr>\n",
       "    <tr>\n",
       "      <th>8.0</th>\n",
       "      <td>1184</td>\n",
       "    </tr>\n",
       "    <tr>\n",
       "      <th>9.0</th>\n",
       "      <td>2336</td>\n",
       "    </tr>\n",
       "    <tr>\n",
       "      <th>10.0</th>\n",
       "      <td>539</td>\n",
       "    </tr>\n",
       "    <tr>\n",
       "      <th>11.0</th>\n",
       "      <td>828</td>\n",
       "    </tr>\n",
       "    <tr>\n",
       "      <th>12.0</th>\n",
       "      <td>225</td>\n",
       "    </tr>\n",
       "    <tr>\n",
       "      <th>13.0</th>\n",
       "      <td>293</td>\n",
       "    </tr>\n",
       "    <tr>\n",
       "      <th>14.0</th>\n",
       "      <td>84</td>\n",
       "    </tr>\n",
       "    <tr>\n",
       "      <th>15.0</th>\n",
       "      <td>77</td>\n",
       "    </tr>\n",
       "    <tr>\n",
       "      <th>16.0</th>\n",
       "      <td>32</td>\n",
       "    </tr>\n",
       "    <tr>\n",
       "      <th>17.0</th>\n",
       "      <td>22</td>\n",
       "    </tr>\n",
       "    <tr>\n",
       "      <th>18.0</th>\n",
       "      <td>8</td>\n",
       "    </tr>\n",
       "    <tr>\n",
       "      <th>19.0</th>\n",
       "      <td>3</td>\n",
       "    </tr>\n",
       "    <tr>\n",
       "      <th>20.0</th>\n",
       "      <td>7</td>\n",
       "    </tr>\n",
       "    <tr>\n",
       "      <th>21.0</th>\n",
       "      <td>2</td>\n",
       "    </tr>\n",
       "  </tbody>\n",
       "</table>\n",
       "</div>"
      ],
      "text/plain": [
       "       Count\n",
       "Steps       \n",
       "0.0        0\n",
       "1.0    41413\n",
       "2.0     2406\n",
       "3.0    25493\n",
       "4.0     3353\n",
       "5.0    13761\n",
       "6.0     2055\n",
       "7.0     5879\n",
       "8.0     1184\n",
       "9.0     2336\n",
       "10.0     539\n",
       "11.0     828\n",
       "12.0     225\n",
       "13.0     293\n",
       "14.0      84\n",
       "15.0      77\n",
       "16.0      32\n",
       "17.0      22\n",
       "18.0       8\n",
       "19.0       3\n",
       "20.0       7\n",
       "21.0       2"
      ]
     },
     "execution_count": 15,
     "metadata": {},
     "output_type": "execute_result"
    }
   ],
   "source": [
    "df_merged.set_index('Steps', drop=True, inplace=True)\n",
    "df_merged"
   ]
  },
  {
   "cell_type": "code",
   "execution_count": 16,
   "id": "abcc0ac5",
   "metadata": {},
   "outputs": [],
   "source": [
    "def get_title():\n",
    "    return f\"Simulation - {program} | {graph_name} | Sched: {sched} | N: {no_simulations:,} | FI: {fault_interval}\""
   ]
  },
  {
   "cell_type": "code",
   "execution_count": 17,
   "id": "9c3e367c",
   "metadata": {},
   "outputs": [],
   "source": [
    "def get_label(simulation_type, node):\n",
    "    return {\n",
    "        SimulationMixin.RANDOM_FAULT_SIMULATION_TYPE: \"Random Fault\",\n",
    "        SimulationMixin.CONTROLLED_FAULT_AT_NODE_SIMULATION_TYPE: \"Controlled (amit v1) at node %s\",\n",
    "        SimulationMixin.CONTROLLED_FAULT_AT_NODE_SIMULATION_TYPE_AMIT_V2: \"Controlled (amit v2) at node %s\",\n",
    "        SimulationMixin.CONTROLLED_FAULT_AT_NODE_SIMULATION_TYPE_DUONG: \"Controlled (duong) at node %s\",\n",
    "        SimulationMixin.RANDOM_FAULT_START_AT_NODE_SIMULATION_TYPE: \"Random started at node %s\",\n",
    "    }.get(simulation_type, simulation_type) % (node)"
   ]
  },
  {
   "cell_type": "code",
   "execution_count": 18,
   "id": "2e1cf20c",
   "metadata": {},
   "outputs": [],
   "source": [
    "def get_filename():\n",
    "    return f\"{program}__{graph_name}__{sched}__{no_simulations}__{fault_interval}__{''.join([str(i) for i in selected_nodes])}__{simulation_type}__{limits}\""
   ]
  },
  {
   "cell_type": "code",
   "execution_count": 19,
   "id": "2149990e",
   "metadata": {},
   "outputs": [],
   "source": [
    "from scipy.optimize import curve_fit\n",
    "\n",
    "\n",
    "def exp_func(x, a, b, c):\n",
    "    return a * np.exp(-b * x) + c\n",
    "\n",
    "\n",
    "# Fit the curve\n",
    "popt, _ = curve_fit(exp_func, df_merged.index, df_merged[\"Count\"], p0= [10, 0.1, 0])\n",
    "y_fit = exp_func(df_merged.index, popt[0], popt[1], popt[2])\n",
    "df_merged[f\"exp_fit\"] = y_fit"
   ]
  },
  {
   "cell_type": "code",
   "execution_count": 20,
   "id": "d120d104",
   "metadata": {},
   "outputs": [
    {
     "name": "stdout",
     "output_type": "stream",
     "text": [
      "Saved plot(s) for plots/graph_coloring/graph_coloring__graph_10__0__100000__2__9__controlled_at_node_amit_v2__100.png\n"
     ]
    }
   ],
   "source": [
    "plt.figure(figsize=(16, 8))\n",
    "ax = sns.lineplot(data=df_merged, linewidth=1)\n",
    "ax.set_title(get_title(), fontdict={\"fontsize\": fontsize})\n",
    "\n",
    "# ax.set_yscale(\"log\")\n",
    "for i, line in enumerate(ax.lines):\n",
    "    if i >= 0:\n",
    "        line_style = \"solid\"\n",
    "        line.set_color(next(color_cycle)[0])\n",
    "    else:\n",
    "        line_style = \"dashed\"\n",
    "        line.set_color(\"goldenrod\")\n",
    "    line.set_linestyle(line_style)\n",
    "\n",
    "ax.tick_params(axis=\"x\", labelsize=fontsize)\n",
    "ax.tick_params(axis=\"y\", labelsize=fontsize)\n",
    "ax.xaxis.label.set_size(fontsize)\n",
    "ax.yaxis.label.set_size(fontsize)\n",
    "\n",
    "ax.set_xlabel(\"Steps\")\n",
    "ax.set_ylabel(\"Count\")\n",
    "\n",
    "# labels = [\"Random Fault\"]\n",
    "labels = []\n",
    "labels.extend([get_label(simulation_type, n) for n in selected_nodes])\n",
    "labels.append(\n",
    "    f\"$y = {popt[0]:.2f}e^{{{-popt[1]:.2f}x}} {'+' if popt[2]>=0 else ''} {popt[2]:.2f}$\"\n",
    ")\n",
    "\n",
    "custom_lines = [\n",
    "    mlines.Line2D(\n",
    "        [],\n",
    "        [],\n",
    "        color=line.get_color(),\n",
    "        # marker=marker,\n",
    "        label=cat,\n",
    "        linestyle=line.get_linestyle(),\n",
    "    )\n",
    "    for line, cat in zip(ax.lines, labels)\n",
    "]\n",
    "plt.rc(\"font\", size=fontsize)\n",
    "plt.legend(handles=custom_lines, fontsize=fontsize * 0.9)\n",
    "file_path = os.path.join(\n",
    "    plots_dir,\n",
    "    program,\n",
    "    f\"{get_filename()}.png\",\n",
    ")\n",
    "\n",
    "\n",
    "plt.savefig(\n",
    "    file_path,\n",
    "    bbox_inches=\"tight\",\n",
    ")\n",
    "plt.close()\n",
    "\n",
    "print(f\"Saved plot(s) for {file_path}\")"
   ]
  },
  {
   "cell_type": "code",
   "execution_count": 21,
   "id": "e5177718",
   "metadata": {},
   "outputs": [
    {
     "data": {
      "application/vnd.microsoft.datawrangler.viewer.v0+json": {
       "columns": [
        {
         "name": "Steps",
         "rawType": "float64",
         "type": "float"
        },
        {
         "name": "Count",
         "rawType": "int64",
         "type": "integer"
        },
        {
         "name": "exp_fit",
         "rawType": "float64",
         "type": "float"
        }
       ],
       "ref": "f1bcb677-8eb0-419d-a004-4eb1c890a322",
       "rows": [
        [
         "0.0",
         "0",
         "18128.971753412923"
        ],
        [
         "1.0",
         "41413",
         "15600.961321701472"
        ],
        [
         "2.0",
         "2406",
         "13375.613957206215"
        ],
        [
         "3.0",
         "25493",
         "11416.693681187655"
        ],
        [
         "4.0",
         "3353",
         "9692.302824721519"
        ],
        [
         "5.0",
         "13761",
         "8174.3626296730545"
        ],
        [
         "6.0",
         "2055",
         "6838.1560341070435"
        ],
        [
         "7.0",
         "5879",
         "5661.925197175351"
        ],
        [
         "8.0",
         "1184",
         "4626.517209862601"
        ],
        [
         "9.0",
         "2336",
         "3715.072222594932"
        ],
        [
         "10.0",
         "539",
         "2912.748911402983"
        ],
        [
         "11.0",
         "828",
         "2206.482812324678"
        ],
        [
         "12.0",
         "225",
         "1584.7735889366104"
        ],
        [
         "13.0",
         "293",
         "1037.4977690293344"
        ],
        [
         "14.0",
         "84",
         "555.7439011633155"
        ],
        [
         "15.0",
         "77",
         "131.6674469117961"
        ],
        [
         "16.0",
         "32",
         "-241.636954041257"
        ],
        [
         "17.0",
         "22",
         "-570.2479258927292"
        ],
        [
         "18.0",
         "8",
         "-859.5163367271061"
        ],
        [
         "19.0",
         "3",
         "-1114.1524282586652"
        ],
        [
         "20.0",
         "7",
         "-1338.3025140680447"
        ],
        [
         "21.0",
         "2",
         "-1535.6164952329063"
        ]
       ],
       "shape": {
        "columns": 2,
        "rows": 22
       }
      },
      "text/html": [
       "<div>\n",
       "<style scoped>\n",
       "    .dataframe tbody tr th:only-of-type {\n",
       "        vertical-align: middle;\n",
       "    }\n",
       "\n",
       "    .dataframe tbody tr th {\n",
       "        vertical-align: top;\n",
       "    }\n",
       "\n",
       "    .dataframe thead th {\n",
       "        text-align: right;\n",
       "    }\n",
       "</style>\n",
       "<table border=\"1\" class=\"dataframe\">\n",
       "  <thead>\n",
       "    <tr style=\"text-align: right;\">\n",
       "      <th></th>\n",
       "      <th>Count</th>\n",
       "      <th>exp_fit</th>\n",
       "    </tr>\n",
       "    <tr>\n",
       "      <th>Steps</th>\n",
       "      <th></th>\n",
       "      <th></th>\n",
       "    </tr>\n",
       "  </thead>\n",
       "  <tbody>\n",
       "    <tr>\n",
       "      <th>0.0</th>\n",
       "      <td>0</td>\n",
       "      <td>18128.971753</td>\n",
       "    </tr>\n",
       "    <tr>\n",
       "      <th>1.0</th>\n",
       "      <td>41413</td>\n",
       "      <td>15600.961322</td>\n",
       "    </tr>\n",
       "    <tr>\n",
       "      <th>2.0</th>\n",
       "      <td>2406</td>\n",
       "      <td>13375.613957</td>\n",
       "    </tr>\n",
       "    <tr>\n",
       "      <th>3.0</th>\n",
       "      <td>25493</td>\n",
       "      <td>11416.693681</td>\n",
       "    </tr>\n",
       "    <tr>\n",
       "      <th>4.0</th>\n",
       "      <td>3353</td>\n",
       "      <td>9692.302825</td>\n",
       "    </tr>\n",
       "    <tr>\n",
       "      <th>5.0</th>\n",
       "      <td>13761</td>\n",
       "      <td>8174.362630</td>\n",
       "    </tr>\n",
       "    <tr>\n",
       "      <th>6.0</th>\n",
       "      <td>2055</td>\n",
       "      <td>6838.156034</td>\n",
       "    </tr>\n",
       "    <tr>\n",
       "      <th>7.0</th>\n",
       "      <td>5879</td>\n",
       "      <td>5661.925197</td>\n",
       "    </tr>\n",
       "    <tr>\n",
       "      <th>8.0</th>\n",
       "      <td>1184</td>\n",
       "      <td>4626.517210</td>\n",
       "    </tr>\n",
       "    <tr>\n",
       "      <th>9.0</th>\n",
       "      <td>2336</td>\n",
       "      <td>3715.072223</td>\n",
       "    </tr>\n",
       "    <tr>\n",
       "      <th>10.0</th>\n",
       "      <td>539</td>\n",
       "      <td>2912.748911</td>\n",
       "    </tr>\n",
       "    <tr>\n",
       "      <th>11.0</th>\n",
       "      <td>828</td>\n",
       "      <td>2206.482812</td>\n",
       "    </tr>\n",
       "    <tr>\n",
       "      <th>12.0</th>\n",
       "      <td>225</td>\n",
       "      <td>1584.773589</td>\n",
       "    </tr>\n",
       "    <tr>\n",
       "      <th>13.0</th>\n",
       "      <td>293</td>\n",
       "      <td>1037.497769</td>\n",
       "    </tr>\n",
       "    <tr>\n",
       "      <th>14.0</th>\n",
       "      <td>84</td>\n",
       "      <td>555.743901</td>\n",
       "    </tr>\n",
       "    <tr>\n",
       "      <th>15.0</th>\n",
       "      <td>77</td>\n",
       "      <td>131.667447</td>\n",
       "    </tr>\n",
       "    <tr>\n",
       "      <th>16.0</th>\n",
       "      <td>32</td>\n",
       "      <td>-241.636954</td>\n",
       "    </tr>\n",
       "    <tr>\n",
       "      <th>17.0</th>\n",
       "      <td>22</td>\n",
       "      <td>-570.247926</td>\n",
       "    </tr>\n",
       "    <tr>\n",
       "      <th>18.0</th>\n",
       "      <td>8</td>\n",
       "      <td>-859.516337</td>\n",
       "    </tr>\n",
       "    <tr>\n",
       "      <th>19.0</th>\n",
       "      <td>3</td>\n",
       "      <td>-1114.152428</td>\n",
       "    </tr>\n",
       "    <tr>\n",
       "      <th>20.0</th>\n",
       "      <td>7</td>\n",
       "      <td>-1338.302514</td>\n",
       "    </tr>\n",
       "    <tr>\n",
       "      <th>21.0</th>\n",
       "      <td>2</td>\n",
       "      <td>-1535.616495</td>\n",
       "    </tr>\n",
       "  </tbody>\n",
       "</table>\n",
       "</div>"
      ],
      "text/plain": [
       "       Count       exp_fit\n",
       "Steps                     \n",
       "0.0        0  18128.971753\n",
       "1.0    41413  15600.961322\n",
       "2.0     2406  13375.613957\n",
       "3.0    25493  11416.693681\n",
       "4.0     3353   9692.302825\n",
       "5.0    13761   8174.362630\n",
       "6.0     2055   6838.156034\n",
       "7.0     5879   5661.925197\n",
       "8.0     1184   4626.517210\n",
       "9.0     2336   3715.072223\n",
       "10.0     539   2912.748911\n",
       "11.0     828   2206.482812\n",
       "12.0     225   1584.773589\n",
       "13.0     293   1037.497769\n",
       "14.0      84    555.743901\n",
       "15.0      77    131.667447\n",
       "16.0      32   -241.636954\n",
       "17.0      22   -570.247926\n",
       "18.0       8   -859.516337\n",
       "19.0       3  -1114.152428\n",
       "20.0       7  -1338.302514\n",
       "21.0       2  -1535.616495"
      ]
     },
     "execution_count": 21,
     "metadata": {},
     "output_type": "execute_result"
    }
   ],
   "source": [
    "df_merged"
   ]
  },
  {
   "cell_type": "code",
   "execution_count": 22,
   "id": "27f8596d",
   "metadata": {},
   "outputs": [],
   "source": [
    "# Save to file\n",
    "cols = [\n",
    "    get_label(simulation_type, n) for n in selected_nodes\n",
    "]\n",
    "cols.append(\"exp_curve\")\n",
    "# df_merged.index = df_merged.index.astype(int)\n",
    "df_merged.to_csv(os.path.join(\"results\", program, f\"w_exp_{get_filename()}.csv\"))"
   ]
  },
  {
   "cell_type": "code",
   "execution_count": null,
   "id": "c8288839",
   "metadata": {},
   "outputs": [],
   "source": []
  }
 ],
 "metadata": {
  "kernelspec": {
   "display_name": "cvf",
   "language": "python",
   "name": "python3"
  },
  "language_info": {
   "codemirror_mode": {
    "name": "ipython",
    "version": 3
   },
   "file_extension": ".py",
   "mimetype": "text/x-python",
   "name": "python",
   "nbconvert_exporter": "python",
   "pygments_lexer": "ipython3",
   "version": "3.13.5"
  }
 },
 "nbformat": 4,
 "nbformat_minor": 5
}
