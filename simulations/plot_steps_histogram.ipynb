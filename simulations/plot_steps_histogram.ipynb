{
 "cells": [
  {
   "cell_type": "code",
   "execution_count": 1,
   "id": "eefce604",
   "metadata": {},
   "outputs": [],
   "source": [
    "import os\n",
    "import numpy as np\n",
    "import pandas as pd\n",
    "import seaborn as sns\n",
    "import matplotlib.lines as mlines\n",
    "\n",
    "from itertools import cycle\n",
    "from matplotlib import pyplot as plt\n",
    "\n",
    "from simulation import SimulationMixin\n"
   ]
  },
  {
   "cell_type": "code",
   "execution_count": 2,
   "id": "d79baab0",
   "metadata": {},
   "outputs": [],
   "source": [
    "fontsize = 20\n",
    "\n",
    "plots_dir = \"plots\""
   ]
  },
  {
   "cell_type": "code",
   "execution_count": 3,
   "id": "3e559f48",
   "metadata": {},
   "outputs": [],
   "source": [
    "colors = [(\"red\", \"red\"), (\"green\", \"green\"), (\"blue\", \"blue\"), (\"orange\", \"orange\")]\n",
    "color_cycle = cycle(colors)"
   ]
  },
  {
   "cell_type": "code",
   "execution_count": 4,
   "id": "be2757ec",
   "metadata": {},
   "outputs": [],
   "source": [
    "# program = \"coloring\"\n",
    "program = \"maximal_matching\"\n",
    "# program = \"dijkstra\"\n",
    "# graph_name = \"graph_powerlaw_cluster_graph_n7\"\n",
    "# graph_name = \"implicit_graph_n8\"\n",
    "graph_name = \"graph_7\"\n",
    "sched = 0\n",
    "no_simulations = 10000\n",
    "me = False\n",
    "fault_interval = 2\n",
    "\n",
    "duong_mode = True\n",
    "\n",
    "selected_nodes = [0, 4, 9]"
   ]
  },
  {
   "cell_type": "code",
   "execution_count": 5,
   "id": "2787883a",
   "metadata": {},
   "outputs": [],
   "source": [
    "def get_filename(graph_name, sched, simulation_type, args, no_simulations, me, fault_interval):\n",
    "    return f\"{graph_name}__{sched}__{simulation_type}_args_{args}__{no_simulations}__{me}__{fault_interval}\""
   ]
  },
  {
   "cell_type": "code",
   "execution_count": 6,
   "id": "7323b6fb",
   "metadata": {},
   "outputs": [],
   "source": [
    "filenames = [\n",
    "    get_filename(\n",
    "        graph_name,\n",
    "        sched,\n",
    "        SimulationMixin.RANDOM_FAULT_SIMULATION_TYPE,\n",
    "        \"\",\n",
    "        no_simulations,\n",
    "        me,\n",
    "        fault_interval,\n",
    "    )\n",
    "]\n",
    "if duong_mode:\n",
    "    filenames.extend(\n",
    "        [\n",
    "            get_filename(\n",
    "                graph_name,\n",
    "                sched,\n",
    "                SimulationMixin.CONTROLLED_FAULT_AT_NODE_SIMULATION_TYPE_DUONG,\n",
    "                arg,\n",
    "                no_simulations,\n",
    "                me,\n",
    "                fault_interval,\n",
    "            )\n",
    "            for arg in selected_nodes\n",
    "        ]\n",
    "    )\n",
    "else:\n",
    "    filenames.extend(\n",
    "        [\n",
    "            get_filename(\n",
    "                graph_name,\n",
    "                sched,\n",
    "                SimulationMixin.CONTROLLED_FAULT_AT_NODE_SIMULATION_TYPE,\n",
    "                arg,\n",
    "                no_simulations,\n",
    "                me,\n",
    "                fault_interval,\n",
    "            )\n",
    "            for arg in selected_nodes\n",
    "        ]\n",
    "    )\n"
   ]
  },
  {
   "cell_type": "code",
   "execution_count": 7,
   "id": "aaf5e293",
   "metadata": {},
   "outputs": [],
   "source": [
    "dfs = [pd.read_csv(os.path.join(\"results\", program, f\"{fn}.csv\")) for fn in filenames]"
   ]
  },
  {
   "cell_type": "code",
   "execution_count": 8,
   "id": "1b3e251a",
   "metadata": {},
   "outputs": [
    {
     "data": {
      "text/plain": [
       "np.int64(2478)"
      ]
     },
     "execution_count": 8,
     "metadata": {},
     "output_type": "execute_result"
    }
   ],
   "source": [
    "max_steps = max(df['Steps'].max() for df in dfs)\n",
    "max_steps"
   ]
  },
  {
   "cell_type": "code",
   "execution_count": 9,
   "id": "25fce55f",
   "metadata": {},
   "outputs": [],
   "source": [
    "bins = np.linspace(0, max_steps, max_steps+1)\n",
    "# bin_centers = (bins[:-1] + bins[1:]) / 2\n",
    "bin_centers = bins"
   ]
  },
  {
   "cell_type": "code",
   "execution_count": 10,
   "id": "b036df11",
   "metadata": {},
   "outputs": [
    {
     "data": {
      "text/plain": [
       "array([0.000e+00, 1.000e+00, 2.000e+00, ..., 2.476e+03, 2.477e+03,\n",
       "       2.478e+03], shape=(2479,))"
      ]
     },
     "execution_count": 10,
     "metadata": {},
     "output_type": "execute_result"
    }
   ],
   "source": [
    "bins"
   ]
  },
  {
   "cell_type": "code",
   "execution_count": 11,
   "id": "1e7c0e7d",
   "metadata": {},
   "outputs": [
    {
     "data": {
      "text/plain": [
       "array([0, 0, 0, ..., 0, 0, 1], shape=(2478,))"
      ]
     },
     "execution_count": 11,
     "metadata": {},
     "output_type": "execute_result"
    }
   ],
   "source": [
    "hist_data = [np.histogram(df['Steps'], bins=bins) for df in dfs]\n",
    "hist_data[0][0]"
   ]
  },
  {
   "cell_type": "code",
   "execution_count": 12,
   "id": "8b62d07c",
   "metadata": {},
   "outputs": [],
   "source": [
    "hist_data = [np.histogram(df['Steps'], bins=bins) for df in dfs]\n",
    "hist_df = []\n",
    "for hd in hist_data:\n",
    "    hist_df.append(\n",
    "        pd.DataFrame({\n",
    "            'Steps': bin_centers[:-1],\n",
    "            'Count': hd[0]\n",
    "        })\n",
    "    )"
   ]
  },
  {
   "cell_type": "code",
   "execution_count": 13,
   "id": "6e8f39c6",
   "metadata": {},
   "outputs": [
    {
     "data": {
      "application/vnd.microsoft.datawrangler.viewer.v0+json": {
       "columns": [
        {
         "name": "index",
         "rawType": "int64",
         "type": "integer"
        },
        {
         "name": "Steps",
         "rawType": "float64",
         "type": "float"
        },
        {
         "name": "Count",
         "rawType": "int64",
         "type": "integer"
        }
       ],
       "ref": "6f95cf6d-57f7-412a-98f8-ca472562ff2e",
       "rows": [
        [
         "0",
         "0.0",
         "0"
        ],
        [
         "1",
         "1.0",
         "0"
        ],
        [
         "2",
         "2.0",
         "0"
        ],
        [
         "3",
         "3.0",
         "1"
        ],
        [
         "4",
         "4.0",
         "2"
        ],
        [
         "5",
         "5.0",
         "4"
        ],
        [
         "6",
         "6.0",
         "2"
        ],
        [
         "7",
         "7.0",
         "4"
        ],
        [
         "8",
         "8.0",
         "4"
        ],
        [
         "9",
         "9.0",
         "11"
        ],
        [
         "10",
         "10.0",
         "4"
        ],
        [
         "11",
         "11.0",
         "26"
        ],
        [
         "12",
         "12.0",
         "4"
        ],
        [
         "13",
         "13.0",
         "21"
        ],
        [
         "14",
         "14.0",
         "6"
        ],
        [
         "15",
         "15.0",
         "40"
        ],
        [
         "16",
         "16.0",
         "11"
        ],
        [
         "17",
         "17.0",
         "38"
        ],
        [
         "18",
         "18.0",
         "17"
        ],
        [
         "19",
         "19.0",
         "57"
        ],
        [
         "20",
         "20.0",
         "18"
        ],
        [
         "21",
         "21.0",
         "59"
        ],
        [
         "22",
         "22.0",
         "22"
        ],
        [
         "23",
         "23.0",
         "80"
        ],
        [
         "24",
         "24.0",
         "21"
        ],
        [
         "25",
         "25.0",
         "85"
        ],
        [
         "26",
         "26.0",
         "31"
        ],
        [
         "27",
         "27.0",
         "79"
        ],
        [
         "28",
         "28.0",
         "28"
        ],
        [
         "29",
         "29.0",
         "71"
        ],
        [
         "30",
         "30.0",
         "33"
        ],
        [
         "31",
         "31.0",
         "86"
        ],
        [
         "32",
         "32.0",
         "28"
        ],
        [
         "33",
         "33.0",
         "81"
        ],
        [
         "34",
         "34.0",
         "41"
        ],
        [
         "35",
         "35.0",
         "74"
        ],
        [
         "36",
         "36.0",
         "27"
        ],
        [
         "37",
         "37.0",
         "70"
        ],
        [
         "38",
         "38.0",
         "37"
        ],
        [
         "39",
         "39.0",
         "53"
        ],
        [
         "40",
         "40.0",
         "29"
        ],
        [
         "41",
         "41.0",
         "93"
        ],
        [
         "42",
         "42.0",
         "38"
        ],
        [
         "43",
         "43.0",
         "77"
        ],
        [
         "44",
         "44.0",
         "36"
        ],
        [
         "45",
         "45.0",
         "81"
        ],
        [
         "46",
         "46.0",
         "25"
        ],
        [
         "47",
         "47.0",
         "90"
        ],
        [
         "48",
         "48.0",
         "37"
        ],
        [
         "49",
         "49.0",
         "68"
        ]
       ],
       "shape": {
        "columns": 2,
        "rows": 2478
       }
      },
      "text/html": [
       "<div>\n",
       "<style scoped>\n",
       "    .dataframe tbody tr th:only-of-type {\n",
       "        vertical-align: middle;\n",
       "    }\n",
       "\n",
       "    .dataframe tbody tr th {\n",
       "        vertical-align: top;\n",
       "    }\n",
       "\n",
       "    .dataframe thead th {\n",
       "        text-align: right;\n",
       "    }\n",
       "</style>\n",
       "<table border=\"1\" class=\"dataframe\">\n",
       "  <thead>\n",
       "    <tr style=\"text-align: right;\">\n",
       "      <th></th>\n",
       "      <th>Steps</th>\n",
       "      <th>Count</th>\n",
       "    </tr>\n",
       "  </thead>\n",
       "  <tbody>\n",
       "    <tr>\n",
       "      <th>0</th>\n",
       "      <td>0.0</td>\n",
       "      <td>0</td>\n",
       "    </tr>\n",
       "    <tr>\n",
       "      <th>1</th>\n",
       "      <td>1.0</td>\n",
       "      <td>0</td>\n",
       "    </tr>\n",
       "    <tr>\n",
       "      <th>2</th>\n",
       "      <td>2.0</td>\n",
       "      <td>0</td>\n",
       "    </tr>\n",
       "    <tr>\n",
       "      <th>3</th>\n",
       "      <td>3.0</td>\n",
       "      <td>1</td>\n",
       "    </tr>\n",
       "    <tr>\n",
       "      <th>4</th>\n",
       "      <td>4.0</td>\n",
       "      <td>2</td>\n",
       "    </tr>\n",
       "    <tr>\n",
       "      <th>...</th>\n",
       "      <td>...</td>\n",
       "      <td>...</td>\n",
       "    </tr>\n",
       "    <tr>\n",
       "      <th>2473</th>\n",
       "      <td>2473.0</td>\n",
       "      <td>0</td>\n",
       "    </tr>\n",
       "    <tr>\n",
       "      <th>2474</th>\n",
       "      <td>2474.0</td>\n",
       "      <td>0</td>\n",
       "    </tr>\n",
       "    <tr>\n",
       "      <th>2475</th>\n",
       "      <td>2475.0</td>\n",
       "      <td>0</td>\n",
       "    </tr>\n",
       "    <tr>\n",
       "      <th>2476</th>\n",
       "      <td>2476.0</td>\n",
       "      <td>0</td>\n",
       "    </tr>\n",
       "    <tr>\n",
       "      <th>2477</th>\n",
       "      <td>2477.0</td>\n",
       "      <td>1</td>\n",
       "    </tr>\n",
       "  </tbody>\n",
       "</table>\n",
       "<p>2478 rows × 2 columns</p>\n",
       "</div>"
      ],
      "text/plain": [
       "       Steps  Count\n",
       "0        0.0      0\n",
       "1        1.0      0\n",
       "2        2.0      0\n",
       "3        3.0      1\n",
       "4        4.0      2\n",
       "...      ...    ...\n",
       "2473  2473.0      0\n",
       "2474  2474.0      0\n",
       "2475  2475.0      0\n",
       "2476  2476.0      0\n",
       "2477  2477.0      1\n",
       "\n",
       "[2478 rows x 2 columns]"
      ]
     },
     "execution_count": 13,
     "metadata": {},
     "output_type": "execute_result"
    }
   ],
   "source": [
    "hist_df[0]"
   ]
  },
  {
   "cell_type": "code",
   "execution_count": 14,
   "id": "b21c6225",
   "metadata": {},
   "outputs": [
    {
     "data": {
      "application/vnd.microsoft.datawrangler.viewer.v0+json": {
       "columns": [
        {
         "name": "index",
         "rawType": "int64",
         "type": "integer"
        },
        {
         "name": "Steps",
         "rawType": "float64",
         "type": "float"
        },
        {
         "name": "Count0",
         "rawType": "int64",
         "type": "integer"
        },
        {
         "name": "Count1",
         "rawType": "int64",
         "type": "integer"
        },
        {
         "name": "Count2",
         "rawType": "int64",
         "type": "integer"
        },
        {
         "name": "Count3",
         "rawType": "int64",
         "type": "integer"
        }
       ],
       "ref": "960d0f75-db3f-4c10-bb0a-66ce7e71fce6",
       "rows": [
        [
         "0",
         "0.0",
         "0",
         "0",
         "0",
         "0"
        ],
        [
         "1",
         "1.0",
         "0",
         "0",
         "0",
         "1"
        ],
        [
         "2",
         "2.0",
         "0",
         "0",
         "1",
         "0"
        ],
        [
         "3",
         "3.0",
         "1",
         "0",
         "1",
         "0"
        ],
        [
         "4",
         "4.0",
         "2",
         "0",
         "0",
         "1"
        ],
        [
         "5",
         "5.0",
         "4",
         "3",
         "9",
         "4"
        ],
        [
         "6",
         "6.0",
         "2",
         "2",
         "0",
         "0"
        ],
        [
         "7",
         "7.0",
         "4",
         "11",
         "7",
         "7"
        ],
        [
         "8",
         "8.0",
         "4",
         "7",
         "3",
         "4"
        ],
        [
         "9",
         "9.0",
         "11",
         "16",
         "17",
         "16"
        ],
        [
         "10",
         "10.0",
         "4",
         "3",
         "3",
         "7"
        ],
        [
         "11",
         "11.0",
         "26",
         "28",
         "15",
         "21"
        ],
        [
         "12",
         "12.0",
         "4",
         "8",
         "11",
         "7"
        ],
        [
         "13",
         "13.0",
         "21",
         "27",
         "33",
         "29"
        ],
        [
         "14",
         "14.0",
         "6",
         "15",
         "7",
         "11"
        ],
        [
         "15",
         "15.0",
         "40",
         "49",
         "38",
         "38"
        ],
        [
         "16",
         "16.0",
         "11",
         "13",
         "20",
         "11"
        ],
        [
         "17",
         "17.0",
         "38",
         "49",
         "58",
         "60"
        ],
        [
         "18",
         "18.0",
         "17",
         "17",
         "16",
         "17"
        ],
        [
         "19",
         "19.0",
         "57",
         "59",
         "51",
         "50"
        ],
        [
         "20",
         "20.0",
         "18",
         "27",
         "20",
         "20"
        ],
        [
         "21",
         "21.0",
         "59",
         "58",
         "73",
         "62"
        ],
        [
         "22",
         "22.0",
         "22",
         "34",
         "18",
         "20"
        ],
        [
         "23",
         "23.0",
         "80",
         "70",
         "78",
         "64"
        ],
        [
         "24",
         "24.0",
         "21",
         "29",
         "18",
         "34"
        ],
        [
         "25",
         "25.0",
         "85",
         "91",
         "57",
         "71"
        ],
        [
         "26",
         "26.0",
         "31",
         "24",
         "23",
         "30"
        ],
        [
         "27",
         "27.0",
         "79",
         "89",
         "74",
         "90"
        ],
        [
         "28",
         "28.0",
         "28",
         "26",
         "38",
         "19"
        ],
        [
         "29",
         "29.0",
         "71",
         "89",
         "82",
         "96"
        ],
        [
         "30",
         "30.0",
         "33",
         "41",
         "38",
         "37"
        ],
        [
         "31",
         "31.0",
         "86",
         "80",
         "68",
         "90"
        ],
        [
         "32",
         "32.0",
         "28",
         "32",
         "32",
         "30"
        ],
        [
         "33",
         "33.0",
         "81",
         "93",
         "90",
         "83"
        ],
        [
         "34",
         "34.0",
         "41",
         "49",
         "30",
         "32"
        ],
        [
         "35",
         "35.0",
         "74",
         "109",
         "85",
         "83"
        ],
        [
         "36",
         "36.0",
         "27",
         "35",
         "43",
         "42"
        ],
        [
         "37",
         "37.0",
         "70",
         "90",
         "81",
         "83"
        ],
        [
         "38",
         "38.0",
         "37",
         "46",
         "29",
         "35"
        ],
        [
         "39",
         "39.0",
         "53",
         "104",
         "89",
         "82"
        ],
        [
         "40",
         "40.0",
         "29",
         "50",
         "27",
         "39"
        ],
        [
         "41",
         "41.0",
         "93",
         "108",
         "86",
         "88"
        ],
        [
         "42",
         "42.0",
         "38",
         "46",
         "46",
         "44"
        ],
        [
         "43",
         "43.0",
         "77",
         "105",
         "89",
         "85"
        ],
        [
         "44",
         "44.0",
         "36",
         "55",
         "37",
         "37"
        ],
        [
         "45",
         "45.0",
         "81",
         "91",
         "83",
         "98"
        ],
        [
         "46",
         "46.0",
         "25",
         "43",
         "29",
         "30"
        ],
        [
         "47",
         "47.0",
         "90",
         "97",
         "80",
         "85"
        ],
        [
         "48",
         "48.0",
         "37",
         "41",
         "32",
         "38"
        ],
        [
         "49",
         "49.0",
         "68",
         "90",
         "66",
         "69"
        ]
       ],
       "shape": {
        "columns": 5,
        "rows": 2478
       }
      },
      "text/html": [
       "<div>\n",
       "<style scoped>\n",
       "    .dataframe tbody tr th:only-of-type {\n",
       "        vertical-align: middle;\n",
       "    }\n",
       "\n",
       "    .dataframe tbody tr th {\n",
       "        vertical-align: top;\n",
       "    }\n",
       "\n",
       "    .dataframe thead th {\n",
       "        text-align: right;\n",
       "    }\n",
       "</style>\n",
       "<table border=\"1\" class=\"dataframe\">\n",
       "  <thead>\n",
       "    <tr style=\"text-align: right;\">\n",
       "      <th></th>\n",
       "      <th>Steps</th>\n",
       "      <th>Count0</th>\n",
       "      <th>Count1</th>\n",
       "      <th>Count2</th>\n",
       "      <th>Count3</th>\n",
       "    </tr>\n",
       "  </thead>\n",
       "  <tbody>\n",
       "    <tr>\n",
       "      <th>0</th>\n",
       "      <td>0.0</td>\n",
       "      <td>0</td>\n",
       "      <td>0</td>\n",
       "      <td>0</td>\n",
       "      <td>0</td>\n",
       "    </tr>\n",
       "    <tr>\n",
       "      <th>1</th>\n",
       "      <td>1.0</td>\n",
       "      <td>0</td>\n",
       "      <td>0</td>\n",
       "      <td>0</td>\n",
       "      <td>1</td>\n",
       "    </tr>\n",
       "    <tr>\n",
       "      <th>2</th>\n",
       "      <td>2.0</td>\n",
       "      <td>0</td>\n",
       "      <td>0</td>\n",
       "      <td>1</td>\n",
       "      <td>0</td>\n",
       "    </tr>\n",
       "    <tr>\n",
       "      <th>3</th>\n",
       "      <td>3.0</td>\n",
       "      <td>1</td>\n",
       "      <td>0</td>\n",
       "      <td>1</td>\n",
       "      <td>0</td>\n",
       "    </tr>\n",
       "    <tr>\n",
       "      <th>4</th>\n",
       "      <td>4.0</td>\n",
       "      <td>2</td>\n",
       "      <td>0</td>\n",
       "      <td>0</td>\n",
       "      <td>1</td>\n",
       "    </tr>\n",
       "    <tr>\n",
       "      <th>...</th>\n",
       "      <td>...</td>\n",
       "      <td>...</td>\n",
       "      <td>...</td>\n",
       "      <td>...</td>\n",
       "      <td>...</td>\n",
       "    </tr>\n",
       "    <tr>\n",
       "      <th>2473</th>\n",
       "      <td>2473.0</td>\n",
       "      <td>0</td>\n",
       "      <td>0</td>\n",
       "      <td>0</td>\n",
       "      <td>0</td>\n",
       "    </tr>\n",
       "    <tr>\n",
       "      <th>2474</th>\n",
       "      <td>2474.0</td>\n",
       "      <td>0</td>\n",
       "      <td>0</td>\n",
       "      <td>0</td>\n",
       "      <td>0</td>\n",
       "    </tr>\n",
       "    <tr>\n",
       "      <th>2475</th>\n",
       "      <td>2475.0</td>\n",
       "      <td>0</td>\n",
       "      <td>0</td>\n",
       "      <td>0</td>\n",
       "      <td>0</td>\n",
       "    </tr>\n",
       "    <tr>\n",
       "      <th>2476</th>\n",
       "      <td>2476.0</td>\n",
       "      <td>0</td>\n",
       "      <td>0</td>\n",
       "      <td>0</td>\n",
       "      <td>0</td>\n",
       "    </tr>\n",
       "    <tr>\n",
       "      <th>2477</th>\n",
       "      <td>2477.0</td>\n",
       "      <td>1</td>\n",
       "      <td>0</td>\n",
       "      <td>0</td>\n",
       "      <td>0</td>\n",
       "    </tr>\n",
       "  </tbody>\n",
       "</table>\n",
       "<p>2478 rows × 5 columns</p>\n",
       "</div>"
      ],
      "text/plain": [
       "       Steps  Count0  Count1  Count2  Count3\n",
       "0        0.0       0       0       0       0\n",
       "1        1.0       0       0       0       1\n",
       "2        2.0       0       0       1       0\n",
       "3        3.0       1       0       1       0\n",
       "4        4.0       2       0       0       1\n",
       "...      ...     ...     ...     ...     ...\n",
       "2473  2473.0       0       0       0       0\n",
       "2474  2474.0       0       0       0       0\n",
       "2475  2475.0       0       0       0       0\n",
       "2476  2476.0       0       0       0       0\n",
       "2477  2477.0       1       0       0       0\n",
       "\n",
       "[2478 rows x 5 columns]"
      ]
     },
     "execution_count": 14,
     "metadata": {},
     "output_type": "execute_result"
    }
   ],
   "source": [
    "df_merged = hist_df[0]\n",
    "for i in range(1, len(hist_df)):\n",
    "    df_merged = pd.merge(df_merged, hist_df[i], on=[\"Steps\"], suffixes=(i-1, i))\n",
    "df_merged"
   ]
  },
  {
   "cell_type": "code",
   "execution_count": 15,
   "id": "b9882843",
   "metadata": {},
   "outputs": [
    {
     "data": {
      "application/vnd.microsoft.datawrangler.viewer.v0+json": {
       "columns": [
        {
         "name": "Steps",
         "rawType": "float64",
         "type": "float"
        },
        {
         "name": "Count0",
         "rawType": "int64",
         "type": "integer"
        },
        {
         "name": "Count1",
         "rawType": "int64",
         "type": "integer"
        },
        {
         "name": "Count2",
         "rawType": "int64",
         "type": "integer"
        },
        {
         "name": "Count3",
         "rawType": "int64",
         "type": "integer"
        }
       ],
       "ref": "cdd519e4-f62d-4031-b272-1f0a0c491fc6",
       "rows": [
        [
         "0.0",
         "0",
         "0",
         "0",
         "0"
        ],
        [
         "1.0",
         "0",
         "0",
         "0",
         "1"
        ],
        [
         "2.0",
         "0",
         "0",
         "1",
         "0"
        ],
        [
         "3.0",
         "1",
         "0",
         "1",
         "0"
        ],
        [
         "4.0",
         "2",
         "0",
         "0",
         "1"
        ],
        [
         "5.0",
         "4",
         "3",
         "9",
         "4"
        ],
        [
         "6.0",
         "2",
         "2",
         "0",
         "0"
        ],
        [
         "7.0",
         "4",
         "11",
         "7",
         "7"
        ],
        [
         "8.0",
         "4",
         "7",
         "3",
         "4"
        ],
        [
         "9.0",
         "11",
         "16",
         "17",
         "16"
        ],
        [
         "10.0",
         "4",
         "3",
         "3",
         "7"
        ],
        [
         "11.0",
         "26",
         "28",
         "15",
         "21"
        ],
        [
         "12.0",
         "4",
         "8",
         "11",
         "7"
        ],
        [
         "13.0",
         "21",
         "27",
         "33",
         "29"
        ],
        [
         "14.0",
         "6",
         "15",
         "7",
         "11"
        ],
        [
         "15.0",
         "40",
         "49",
         "38",
         "38"
        ],
        [
         "16.0",
         "11",
         "13",
         "20",
         "11"
        ],
        [
         "17.0",
         "38",
         "49",
         "58",
         "60"
        ],
        [
         "18.0",
         "17",
         "17",
         "16",
         "17"
        ],
        [
         "19.0",
         "57",
         "59",
         "51",
         "50"
        ],
        [
         "20.0",
         "18",
         "27",
         "20",
         "20"
        ],
        [
         "21.0",
         "59",
         "58",
         "73",
         "62"
        ],
        [
         "22.0",
         "22",
         "34",
         "18",
         "20"
        ],
        [
         "23.0",
         "80",
         "70",
         "78",
         "64"
        ],
        [
         "24.0",
         "21",
         "29",
         "18",
         "34"
        ],
        [
         "25.0",
         "85",
         "91",
         "57",
         "71"
        ],
        [
         "26.0",
         "31",
         "24",
         "23",
         "30"
        ],
        [
         "27.0",
         "79",
         "89",
         "74",
         "90"
        ],
        [
         "28.0",
         "28",
         "26",
         "38",
         "19"
        ],
        [
         "29.0",
         "71",
         "89",
         "82",
         "96"
        ],
        [
         "30.0",
         "33",
         "41",
         "38",
         "37"
        ],
        [
         "31.0",
         "86",
         "80",
         "68",
         "90"
        ],
        [
         "32.0",
         "28",
         "32",
         "32",
         "30"
        ],
        [
         "33.0",
         "81",
         "93",
         "90",
         "83"
        ],
        [
         "34.0",
         "41",
         "49",
         "30",
         "32"
        ],
        [
         "35.0",
         "74",
         "109",
         "85",
         "83"
        ],
        [
         "36.0",
         "27",
         "35",
         "43",
         "42"
        ],
        [
         "37.0",
         "70",
         "90",
         "81",
         "83"
        ],
        [
         "38.0",
         "37",
         "46",
         "29",
         "35"
        ],
        [
         "39.0",
         "53",
         "104",
         "89",
         "82"
        ],
        [
         "40.0",
         "29",
         "50",
         "27",
         "39"
        ],
        [
         "41.0",
         "93",
         "108",
         "86",
         "88"
        ],
        [
         "42.0",
         "38",
         "46",
         "46",
         "44"
        ],
        [
         "43.0",
         "77",
         "105",
         "89",
         "85"
        ],
        [
         "44.0",
         "36",
         "55",
         "37",
         "37"
        ],
        [
         "45.0",
         "81",
         "91",
         "83",
         "98"
        ],
        [
         "46.0",
         "25",
         "43",
         "29",
         "30"
        ],
        [
         "47.0",
         "90",
         "97",
         "80",
         "85"
        ],
        [
         "48.0",
         "37",
         "41",
         "32",
         "38"
        ],
        [
         "49.0",
         "68",
         "90",
         "66",
         "69"
        ]
       ],
       "shape": {
        "columns": 4,
        "rows": 2478
       }
      },
      "text/html": [
       "<div>\n",
       "<style scoped>\n",
       "    .dataframe tbody tr th:only-of-type {\n",
       "        vertical-align: middle;\n",
       "    }\n",
       "\n",
       "    .dataframe tbody tr th {\n",
       "        vertical-align: top;\n",
       "    }\n",
       "\n",
       "    .dataframe thead th {\n",
       "        text-align: right;\n",
       "    }\n",
       "</style>\n",
       "<table border=\"1\" class=\"dataframe\">\n",
       "  <thead>\n",
       "    <tr style=\"text-align: right;\">\n",
       "      <th></th>\n",
       "      <th>Count0</th>\n",
       "      <th>Count1</th>\n",
       "      <th>Count2</th>\n",
       "      <th>Count3</th>\n",
       "    </tr>\n",
       "    <tr>\n",
       "      <th>Steps</th>\n",
       "      <th></th>\n",
       "      <th></th>\n",
       "      <th></th>\n",
       "      <th></th>\n",
       "    </tr>\n",
       "  </thead>\n",
       "  <tbody>\n",
       "    <tr>\n",
       "      <th>0.0</th>\n",
       "      <td>0</td>\n",
       "      <td>0</td>\n",
       "      <td>0</td>\n",
       "      <td>0</td>\n",
       "    </tr>\n",
       "    <tr>\n",
       "      <th>1.0</th>\n",
       "      <td>0</td>\n",
       "      <td>0</td>\n",
       "      <td>0</td>\n",
       "      <td>1</td>\n",
       "    </tr>\n",
       "    <tr>\n",
       "      <th>2.0</th>\n",
       "      <td>0</td>\n",
       "      <td>0</td>\n",
       "      <td>1</td>\n",
       "      <td>0</td>\n",
       "    </tr>\n",
       "    <tr>\n",
       "      <th>3.0</th>\n",
       "      <td>1</td>\n",
       "      <td>0</td>\n",
       "      <td>1</td>\n",
       "      <td>0</td>\n",
       "    </tr>\n",
       "    <tr>\n",
       "      <th>4.0</th>\n",
       "      <td>2</td>\n",
       "      <td>0</td>\n",
       "      <td>0</td>\n",
       "      <td>1</td>\n",
       "    </tr>\n",
       "    <tr>\n",
       "      <th>...</th>\n",
       "      <td>...</td>\n",
       "      <td>...</td>\n",
       "      <td>...</td>\n",
       "      <td>...</td>\n",
       "    </tr>\n",
       "    <tr>\n",
       "      <th>2473.0</th>\n",
       "      <td>0</td>\n",
       "      <td>0</td>\n",
       "      <td>0</td>\n",
       "      <td>0</td>\n",
       "    </tr>\n",
       "    <tr>\n",
       "      <th>2474.0</th>\n",
       "      <td>0</td>\n",
       "      <td>0</td>\n",
       "      <td>0</td>\n",
       "      <td>0</td>\n",
       "    </tr>\n",
       "    <tr>\n",
       "      <th>2475.0</th>\n",
       "      <td>0</td>\n",
       "      <td>0</td>\n",
       "      <td>0</td>\n",
       "      <td>0</td>\n",
       "    </tr>\n",
       "    <tr>\n",
       "      <th>2476.0</th>\n",
       "      <td>0</td>\n",
       "      <td>0</td>\n",
       "      <td>0</td>\n",
       "      <td>0</td>\n",
       "    </tr>\n",
       "    <tr>\n",
       "      <th>2477.0</th>\n",
       "      <td>1</td>\n",
       "      <td>0</td>\n",
       "      <td>0</td>\n",
       "      <td>0</td>\n",
       "    </tr>\n",
       "  </tbody>\n",
       "</table>\n",
       "<p>2478 rows × 4 columns</p>\n",
       "</div>"
      ],
      "text/plain": [
       "        Count0  Count1  Count2  Count3\n",
       "Steps                                 \n",
       "0.0          0       0       0       0\n",
       "1.0          0       0       0       1\n",
       "2.0          0       0       1       0\n",
       "3.0          1       0       1       0\n",
       "4.0          2       0       0       1\n",
       "...        ...     ...     ...     ...\n",
       "2473.0       0       0       0       0\n",
       "2474.0       0       0       0       0\n",
       "2475.0       0       0       0       0\n",
       "2476.0       0       0       0       0\n",
       "2477.0       1       0       0       0\n",
       "\n",
       "[2478 rows x 4 columns]"
      ]
     },
     "execution_count": 15,
     "metadata": {},
     "output_type": "execute_result"
    }
   ],
   "source": [
    "df_merged.set_index('Steps', drop=True, inplace=True)\n",
    "df_merged"
   ]
  },
  {
   "cell_type": "code",
   "execution_count": 16,
   "id": "abcc0ac5",
   "metadata": {},
   "outputs": [],
   "source": [
    "def get_title():\n",
    "    return f\"Simulation - {program} | {graph_name} | Sched: {sched} | N: {no_simulations:,} | FI: {fault_interval}\""
   ]
  },
  {
   "cell_type": "code",
   "execution_count": 17,
   "id": "2e1cf20c",
   "metadata": {},
   "outputs": [],
   "source": [
    "def get_filename():\n",
    "    return f\"{program}__{graph_name}__{sched}__{no_simulations}__{fault_interval}__{''.join([str(i) for i in selected_nodes])}{'__duong' if duong_mode else ''}\""
   ]
  },
  {
   "cell_type": "code",
   "execution_count": 18,
   "id": "d120d104",
   "metadata": {},
   "outputs": [
    {
     "name": "stdout",
     "output_type": "stream",
     "text": [
      "Saved plot(s) for plots/maximal_matching/maximal_matching__graph_7__0__10000__2__049__duong.png\n"
     ]
    }
   ],
   "source": [
    "plt.figure(figsize=(16, 8))\n",
    "ax = sns.lineplot(data=df_merged, linewidth=3)\n",
    "ax.set_title(get_title(), fontdict={\"fontsize\": fontsize})\n",
    "\n",
    "# ax.set_yscale(\"log\")\n",
    "for i, line in enumerate(ax.lines):\n",
    "    if i >= 1:\n",
    "        line_style = \"solid\"\n",
    "        line.set_color(next(color_cycle)[0])\n",
    "    else:\n",
    "        line_style = \"dashed\"\n",
    "        line.set_color(\"goldenrod\")\n",
    "    line.set_linestyle(line_style)\n",
    "\n",
    "ax.tick_params(axis=\"x\", labelsize=fontsize)\n",
    "ax.tick_params(axis=\"y\", labelsize=fontsize)\n",
    "ax.xaxis.label.set_size(fontsize)\n",
    "ax.yaxis.label.set_size(fontsize)\n",
    "\n",
    "ax.set_xlabel(\"Steps\")\n",
    "ax.set_ylabel(\"Count\")\n",
    "\n",
    "labels = [\"Random Fault\"]\n",
    "labels.extend(\n",
    "    [\n",
    "        f'Controlled {\"(duong)\" if duong_mode else \"\"} at node {n}'\n",
    "        for n in selected_nodes\n",
    "    ]\n",
    ")\n",
    "custom_lines = [\n",
    "    mlines.Line2D(\n",
    "        [],\n",
    "        [],\n",
    "        color=line.get_color(),\n",
    "        # marker=marker,\n",
    "        label=cat,\n",
    "        linewidth=1,\n",
    "        linestyle=line.get_linestyle(),\n",
    "    )\n",
    "    for line, cat in zip(ax.lines, labels)\n",
    "]\n",
    "plt.rc(\"font\", size=fontsize)\n",
    "plt.legend(handles=custom_lines, fontsize=fontsize * 0.9)\n",
    "file_path = os.path.join(\n",
    "    plots_dir,\n",
    "    program,\n",
    "    f\"{get_filename()}.png\",\n",
    ")\n",
    "plt.savefig(\n",
    "    file_path,\n",
    "    bbox_inches=\"tight\",\n",
    ")\n",
    "plt.close()\n",
    "\n",
    "print(f\"Saved plot(s) for {file_path}\")"
   ]
  },
  {
   "cell_type": "code",
   "execution_count": 19,
   "id": "b322b8a6",
   "metadata": {},
   "outputs": [
    {
     "data": {
      "application/vnd.microsoft.datawrangler.viewer.v0+json": {
       "columns": [
        {
         "name": "Steps",
         "rawType": "float64",
         "type": "float"
        },
        {
         "name": "Count0",
         "rawType": "int64",
         "type": "integer"
        },
        {
         "name": "Count1",
         "rawType": "int64",
         "type": "integer"
        },
        {
         "name": "Count2",
         "rawType": "int64",
         "type": "integer"
        },
        {
         "name": "Count3",
         "rawType": "int64",
         "type": "integer"
        }
       ],
       "ref": "1c6a4a2c-2d23-414f-9245-826e26b2ab3c",
       "rows": [
        [
         "0.0",
         "0",
         "0",
         "0",
         "0"
        ],
        [
         "1.0",
         "0",
         "0",
         "0",
         "1"
        ],
        [
         "2.0",
         "0",
         "0",
         "1",
         "0"
        ],
        [
         "3.0",
         "1",
         "0",
         "1",
         "0"
        ],
        [
         "4.0",
         "2",
         "0",
         "0",
         "1"
        ],
        [
         "5.0",
         "4",
         "3",
         "9",
         "4"
        ],
        [
         "6.0",
         "2",
         "2",
         "0",
         "0"
        ],
        [
         "7.0",
         "4",
         "11",
         "7",
         "7"
        ],
        [
         "8.0",
         "4",
         "7",
         "3",
         "4"
        ],
        [
         "9.0",
         "11",
         "16",
         "17",
         "16"
        ],
        [
         "10.0",
         "4",
         "3",
         "3",
         "7"
        ],
        [
         "11.0",
         "26",
         "28",
         "15",
         "21"
        ],
        [
         "12.0",
         "4",
         "8",
         "11",
         "7"
        ],
        [
         "13.0",
         "21",
         "27",
         "33",
         "29"
        ],
        [
         "14.0",
         "6",
         "15",
         "7",
         "11"
        ],
        [
         "15.0",
         "40",
         "49",
         "38",
         "38"
        ],
        [
         "16.0",
         "11",
         "13",
         "20",
         "11"
        ],
        [
         "17.0",
         "38",
         "49",
         "58",
         "60"
        ],
        [
         "18.0",
         "17",
         "17",
         "16",
         "17"
        ],
        [
         "19.0",
         "57",
         "59",
         "51",
         "50"
        ],
        [
         "20.0",
         "18",
         "27",
         "20",
         "20"
        ],
        [
         "21.0",
         "59",
         "58",
         "73",
         "62"
        ],
        [
         "22.0",
         "22",
         "34",
         "18",
         "20"
        ],
        [
         "23.0",
         "80",
         "70",
         "78",
         "64"
        ],
        [
         "24.0",
         "21",
         "29",
         "18",
         "34"
        ],
        [
         "25.0",
         "85",
         "91",
         "57",
         "71"
        ],
        [
         "26.0",
         "31",
         "24",
         "23",
         "30"
        ],
        [
         "27.0",
         "79",
         "89",
         "74",
         "90"
        ],
        [
         "28.0",
         "28",
         "26",
         "38",
         "19"
        ],
        [
         "29.0",
         "71",
         "89",
         "82",
         "96"
        ],
        [
         "30.0",
         "33",
         "41",
         "38",
         "37"
        ],
        [
         "31.0",
         "86",
         "80",
         "68",
         "90"
        ],
        [
         "32.0",
         "28",
         "32",
         "32",
         "30"
        ],
        [
         "33.0",
         "81",
         "93",
         "90",
         "83"
        ],
        [
         "34.0",
         "41",
         "49",
         "30",
         "32"
        ],
        [
         "35.0",
         "74",
         "109",
         "85",
         "83"
        ],
        [
         "36.0",
         "27",
         "35",
         "43",
         "42"
        ],
        [
         "37.0",
         "70",
         "90",
         "81",
         "83"
        ],
        [
         "38.0",
         "37",
         "46",
         "29",
         "35"
        ],
        [
         "39.0",
         "53",
         "104",
         "89",
         "82"
        ],
        [
         "40.0",
         "29",
         "50",
         "27",
         "39"
        ],
        [
         "41.0",
         "93",
         "108",
         "86",
         "88"
        ],
        [
         "42.0",
         "38",
         "46",
         "46",
         "44"
        ],
        [
         "43.0",
         "77",
         "105",
         "89",
         "85"
        ],
        [
         "44.0",
         "36",
         "55",
         "37",
         "37"
        ],
        [
         "45.0",
         "81",
         "91",
         "83",
         "98"
        ],
        [
         "46.0",
         "25",
         "43",
         "29",
         "30"
        ],
        [
         "47.0",
         "90",
         "97",
         "80",
         "85"
        ],
        [
         "48.0",
         "37",
         "41",
         "32",
         "38"
        ],
        [
         "49.0",
         "68",
         "90",
         "66",
         "69"
        ]
       ],
       "shape": {
        "columns": 4,
        "rows": 2478
       }
      },
      "text/html": [
       "<div>\n",
       "<style scoped>\n",
       "    .dataframe tbody tr th:only-of-type {\n",
       "        vertical-align: middle;\n",
       "    }\n",
       "\n",
       "    .dataframe tbody tr th {\n",
       "        vertical-align: top;\n",
       "    }\n",
       "\n",
       "    .dataframe thead th {\n",
       "        text-align: right;\n",
       "    }\n",
       "</style>\n",
       "<table border=\"1\" class=\"dataframe\">\n",
       "  <thead>\n",
       "    <tr style=\"text-align: right;\">\n",
       "      <th></th>\n",
       "      <th>Count0</th>\n",
       "      <th>Count1</th>\n",
       "      <th>Count2</th>\n",
       "      <th>Count3</th>\n",
       "    </tr>\n",
       "    <tr>\n",
       "      <th>Steps</th>\n",
       "      <th></th>\n",
       "      <th></th>\n",
       "      <th></th>\n",
       "      <th></th>\n",
       "    </tr>\n",
       "  </thead>\n",
       "  <tbody>\n",
       "    <tr>\n",
       "      <th>0.0</th>\n",
       "      <td>0</td>\n",
       "      <td>0</td>\n",
       "      <td>0</td>\n",
       "      <td>0</td>\n",
       "    </tr>\n",
       "    <tr>\n",
       "      <th>1.0</th>\n",
       "      <td>0</td>\n",
       "      <td>0</td>\n",
       "      <td>0</td>\n",
       "      <td>1</td>\n",
       "    </tr>\n",
       "    <tr>\n",
       "      <th>2.0</th>\n",
       "      <td>0</td>\n",
       "      <td>0</td>\n",
       "      <td>1</td>\n",
       "      <td>0</td>\n",
       "    </tr>\n",
       "    <tr>\n",
       "      <th>3.0</th>\n",
       "      <td>1</td>\n",
       "      <td>0</td>\n",
       "      <td>1</td>\n",
       "      <td>0</td>\n",
       "    </tr>\n",
       "    <tr>\n",
       "      <th>4.0</th>\n",
       "      <td>2</td>\n",
       "      <td>0</td>\n",
       "      <td>0</td>\n",
       "      <td>1</td>\n",
       "    </tr>\n",
       "    <tr>\n",
       "      <th>...</th>\n",
       "      <td>...</td>\n",
       "      <td>...</td>\n",
       "      <td>...</td>\n",
       "      <td>...</td>\n",
       "    </tr>\n",
       "    <tr>\n",
       "      <th>2473.0</th>\n",
       "      <td>0</td>\n",
       "      <td>0</td>\n",
       "      <td>0</td>\n",
       "      <td>0</td>\n",
       "    </tr>\n",
       "    <tr>\n",
       "      <th>2474.0</th>\n",
       "      <td>0</td>\n",
       "      <td>0</td>\n",
       "      <td>0</td>\n",
       "      <td>0</td>\n",
       "    </tr>\n",
       "    <tr>\n",
       "      <th>2475.0</th>\n",
       "      <td>0</td>\n",
       "      <td>0</td>\n",
       "      <td>0</td>\n",
       "      <td>0</td>\n",
       "    </tr>\n",
       "    <tr>\n",
       "      <th>2476.0</th>\n",
       "      <td>0</td>\n",
       "      <td>0</td>\n",
       "      <td>0</td>\n",
       "      <td>0</td>\n",
       "    </tr>\n",
       "    <tr>\n",
       "      <th>2477.0</th>\n",
       "      <td>1</td>\n",
       "      <td>0</td>\n",
       "      <td>0</td>\n",
       "      <td>0</td>\n",
       "    </tr>\n",
       "  </tbody>\n",
       "</table>\n",
       "<p>2478 rows × 4 columns</p>\n",
       "</div>"
      ],
      "text/plain": [
       "        Count0  Count1  Count2  Count3\n",
       "Steps                                 \n",
       "0.0          0       0       0       0\n",
       "1.0          0       0       0       1\n",
       "2.0          0       0       1       0\n",
       "3.0          1       0       1       0\n",
       "4.0          2       0       0       1\n",
       "...        ...     ...     ...     ...\n",
       "2473.0       0       0       0       0\n",
       "2474.0       0       0       0       0\n",
       "2475.0       0       0       0       0\n",
       "2476.0       0       0       0       0\n",
       "2477.0       1       0       0       0\n",
       "\n",
       "[2478 rows x 4 columns]"
      ]
     },
     "execution_count": 19,
     "metadata": {},
     "output_type": "execute_result"
    }
   ],
   "source": [
    "df_merged"
   ]
  },
  {
   "cell_type": "code",
   "execution_count": 20,
   "id": "27f8596d",
   "metadata": {},
   "outputs": [],
   "source": [
    "# Save to file\n",
    "df_merged.columns = [\n",
    "    \"Random\",\n",
    "    *[\n",
    "        f'Controlled {\"(duong)\" if duong_mode else \"\"} at node {n}'\n",
    "        for n in selected_nodes\n",
    "    ],\n",
    "]\n",
    "df_merged.index = df_merged.index.astype(int)\n",
    "df_merged.to_csv(\n",
    "    os.path.join(\"results\", program, f\"agg_{get_filename()}.csv\")\n",
    ")"
   ]
  }
 ],
 "metadata": {
  "kernelspec": {
   "display_name": "cvf",
   "language": "python",
   "name": "python3"
  },
  "language_info": {
   "codemirror_mode": {
    "name": "ipython",
    "version": 3
   },
   "file_extension": ".py",
   "mimetype": "text/x-python",
   "name": "python",
   "nbconvert_exporter": "python",
   "pygments_lexer": "ipython3",
   "version": "3.13.5"
  }
 },
 "nbformat": 4,
 "nbformat_minor": 5
}
