{
 "cells": [
  {
   "cell_type": "code",
   "execution_count": 1,
   "id": "eefce604",
   "metadata": {},
   "outputs": [],
   "source": [
    "import os\n",
    "import numpy as np\n",
    "import pandas as pd\n",
    "import seaborn as sns\n",
    "import matplotlib.lines as mlines\n",
    "\n",
    "from itertools import cycle\n",
    "from matplotlib import pyplot as plt\n",
    "\n",
    "from simulation import SimulationMixin\n"
   ]
  },
  {
   "cell_type": "code",
   "execution_count": 2,
   "id": "d79baab0",
   "metadata": {},
   "outputs": [],
   "source": [
    "fontsize = 20\n",
    "\n",
    "plots_dir = \"plots\""
   ]
  },
  {
   "cell_type": "code",
   "execution_count": 3,
   "id": "3e559f48",
   "metadata": {},
   "outputs": [],
   "source": [
    "colors = [(\"red\", \"red\"), (\"green\", \"green\"), (\"blue\", \"blue\"), (\"orange\", \"orange\")]\n",
    "color_cycle = cycle(colors)"
   ]
  },
  {
   "cell_type": "code",
   "execution_count": 4,
   "id": "be2757ec",
   "metadata": {},
   "outputs": [],
   "source": [
    "# program = \"graph_coloring\"\n",
    "program = \"dijkstra_token_ring\"\n",
    "# program = \"maximal_matching\"\n",
    "# graph_name = \"graph_powerlaw_cluster_graph_n7\"\n",
    "graph_name = \"implicit_graph_n10\"\n",
    "# graph_name = \"graph_10\"\n",
    "sched = 0\n",
    "no_simulations = 100000\n",
    "me = False\n",
    "fault_interval = 3\n",
    "\n",
    "# duong_mode = True\n",
    "simulation_type = \"controlled_at_node_amit_v2\"\n",
    "limits = 100\n",
    "\n",
    "selected_nodes = [0]"
   ]
  },
  {
   "cell_type": "code",
   "execution_count": 5,
   "id": "2787883a",
   "metadata": {},
   "outputs": [],
   "source": [
    "def get_filename(graph_name, sched, simulation_type, args, no_simulations, me, fault_interval):\n",
    "    return f\"{graph_name}__{sched}__{simulation_type}_args_{args}__{no_simulations}__{me}__{fault_interval}__limits_{limits}\""
   ]
  },
  {
   "cell_type": "code",
   "execution_count": 6,
   "id": "7323b6fb",
   "metadata": {},
   "outputs": [],
   "source": [
    "# filenames = [\n",
    "#     get_filename(\n",
    "#         graph_name,\n",
    "#         sched,\n",
    "#         SimulationMixin.RANDOM_FAULT_SIMULATION_TYPE,\n",
    "#         \"\",\n",
    "#         no_simulations,\n",
    "#         me,\n",
    "#         fault_interval,\n",
    "#     )\n",
    "# ]\n",
    "filenames = []\n",
    "\n",
    "filenames.extend(\n",
    "    [\n",
    "        get_filename(\n",
    "            graph_name,\n",
    "            sched,\n",
    "            simulation_type,\n",
    "            arg,\n",
    "            no_simulations,\n",
    "            me,\n",
    "            fault_interval,\n",
    "        )\n",
    "        for arg in selected_nodes\n",
    "    ]\n",
    ")\n"
   ]
  },
  {
   "cell_type": "code",
   "execution_count": 7,
   "id": "aaf5e293",
   "metadata": {},
   "outputs": [],
   "source": [
    "dfs = [pd.read_csv(os.path.join(\"results\", program, f\"{fn}.csv\")) for fn in filenames]"
   ]
  },
  {
   "cell_type": "code",
   "execution_count": 8,
   "id": "1b3e251a",
   "metadata": {},
   "outputs": [
    {
     "data": {
      "text/plain": [
       "np.int64(100)"
      ]
     },
     "execution_count": 8,
     "metadata": {},
     "output_type": "execute_result"
    }
   ],
   "source": [
    "max_steps = max(df['Steps'].max() for df in dfs)\n",
    "max_steps"
   ]
  },
  {
   "cell_type": "code",
   "execution_count": 9,
   "id": "25fce55f",
   "metadata": {},
   "outputs": [],
   "source": [
    "bins = np.linspace(0, max_steps, max_steps+1)\n",
    "# bin_centers = (bins[:-1] + bins[1:]) / 2\n",
    "bin_centers = bins"
   ]
  },
  {
   "cell_type": "code",
   "execution_count": 10,
   "id": "b036df11",
   "metadata": {},
   "outputs": [
    {
     "data": {
      "text/plain": [
       "array([  0.,   1.,   2.,   3.,   4.,   5.,   6.,   7.,   8.,   9.,  10.,\n",
       "        11.,  12.,  13.,  14.,  15.,  16.,  17.,  18.,  19.,  20.,  21.,\n",
       "        22.,  23.,  24.,  25.,  26.,  27.,  28.,  29.,  30.,  31.,  32.,\n",
       "        33.,  34.,  35.,  36.,  37.,  38.,  39.,  40.,  41.,  42.,  43.,\n",
       "        44.,  45.,  46.,  47.,  48.,  49.,  50.,  51.,  52.,  53.,  54.,\n",
       "        55.,  56.,  57.,  58.,  59.,  60.,  61.,  62.,  63.,  64.,  65.,\n",
       "        66.,  67.,  68.,  69.,  70.,  71.,  72.,  73.,  74.,  75.,  76.,\n",
       "        77.,  78.,  79.,  80.,  81.,  82.,  83.,  84.,  85.,  86.,  87.,\n",
       "        88.,  89.,  90.,  91.,  92.,  93.,  94.,  95.,  96.,  97.,  98.,\n",
       "        99., 100.])"
      ]
     },
     "execution_count": 10,
     "metadata": {},
     "output_type": "execute_result"
    }
   ],
   "source": [
    "bins"
   ]
  },
  {
   "cell_type": "code",
   "execution_count": 11,
   "id": "1e7c0e7d",
   "metadata": {},
   "outputs": [
    {
     "data": {
      "text/plain": [
       "array([   0,  621, 1544,  824, 1822, 3127, 2172, 3115, 4458, 3095, 3692,\n",
       "       4663, 3386, 3560, 4458, 3416, 3079, 3759, 2941, 2581, 3075, 2454,\n",
       "       2158, 2598, 1986, 1686, 2095, 1589, 1456, 1651, 1377, 1205, 1341,\n",
       "       1186, 1010, 1095,  908,  802,  914,  774,  674,  778,  668,  547,\n",
       "        661,  530,  450,  561,  413,  395,  463,  375,  338,  366,  306,\n",
       "        267,  268,  249,  197,  248,  222,  174,  225,  177,  145,  188,\n",
       "        162,  114,  185,  105,   94,  118,   87,   81,   89,   77,   66,\n",
       "         98,   74,   66,   61,   52,   60,   63,   42,   46,   46,   32,\n",
       "         39,   42,   32,   30,   32,   22,   35,   13,   25,   12,   27,\n",
       "        315])"
      ]
     },
     "execution_count": 11,
     "metadata": {},
     "output_type": "execute_result"
    }
   ],
   "source": [
    "hist_data = [np.histogram(df['Steps'], bins=bins) for df in dfs]\n",
    "hist_data[0][0]"
   ]
  },
  {
   "cell_type": "code",
   "execution_count": 12,
   "id": "8b62d07c",
   "metadata": {},
   "outputs": [],
   "source": [
    "hist_data = [np.histogram(df['Steps'], bins=bins) for df in dfs]\n",
    "hist_df = []\n",
    "for hd in hist_data:\n",
    "    hist_df.append(\n",
    "        pd.DataFrame({\n",
    "            'Steps': bin_centers[:-1],\n",
    "            'Count': hd[0]\n",
    "        })\n",
    "    )"
   ]
  },
  {
   "cell_type": "code",
   "execution_count": 13,
   "id": "6e8f39c6",
   "metadata": {},
   "outputs": [
    {
     "data": {
      "application/vnd.microsoft.datawrangler.viewer.v0+json": {
       "columns": [
        {
         "name": "index",
         "rawType": "int64",
         "type": "integer"
        },
        {
         "name": "Steps",
         "rawType": "float64",
         "type": "float"
        },
        {
         "name": "Count",
         "rawType": "int64",
         "type": "integer"
        }
       ],
       "ref": "6b8824f0-b955-472e-8ac8-a65434382989",
       "rows": [
        [
         "0",
         "0.0",
         "0"
        ],
        [
         "1",
         "1.0",
         "621"
        ],
        [
         "2",
         "2.0",
         "1544"
        ],
        [
         "3",
         "3.0",
         "824"
        ],
        [
         "4",
         "4.0",
         "1822"
        ],
        [
         "5",
         "5.0",
         "3127"
        ],
        [
         "6",
         "6.0",
         "2172"
        ],
        [
         "7",
         "7.0",
         "3115"
        ],
        [
         "8",
         "8.0",
         "4458"
        ],
        [
         "9",
         "9.0",
         "3095"
        ],
        [
         "10",
         "10.0",
         "3692"
        ],
        [
         "11",
         "11.0",
         "4663"
        ],
        [
         "12",
         "12.0",
         "3386"
        ],
        [
         "13",
         "13.0",
         "3560"
        ],
        [
         "14",
         "14.0",
         "4458"
        ],
        [
         "15",
         "15.0",
         "3416"
        ],
        [
         "16",
         "16.0",
         "3079"
        ],
        [
         "17",
         "17.0",
         "3759"
        ],
        [
         "18",
         "18.0",
         "2941"
        ],
        [
         "19",
         "19.0",
         "2581"
        ],
        [
         "20",
         "20.0",
         "3075"
        ],
        [
         "21",
         "21.0",
         "2454"
        ],
        [
         "22",
         "22.0",
         "2158"
        ],
        [
         "23",
         "23.0",
         "2598"
        ],
        [
         "24",
         "24.0",
         "1986"
        ],
        [
         "25",
         "25.0",
         "1686"
        ],
        [
         "26",
         "26.0",
         "2095"
        ],
        [
         "27",
         "27.0",
         "1589"
        ],
        [
         "28",
         "28.0",
         "1456"
        ],
        [
         "29",
         "29.0",
         "1651"
        ],
        [
         "30",
         "30.0",
         "1377"
        ],
        [
         "31",
         "31.0",
         "1205"
        ],
        [
         "32",
         "32.0",
         "1341"
        ],
        [
         "33",
         "33.0",
         "1186"
        ],
        [
         "34",
         "34.0",
         "1010"
        ],
        [
         "35",
         "35.0",
         "1095"
        ],
        [
         "36",
         "36.0",
         "908"
        ],
        [
         "37",
         "37.0",
         "802"
        ],
        [
         "38",
         "38.0",
         "914"
        ],
        [
         "39",
         "39.0",
         "774"
        ],
        [
         "40",
         "40.0",
         "674"
        ],
        [
         "41",
         "41.0",
         "778"
        ],
        [
         "42",
         "42.0",
         "668"
        ],
        [
         "43",
         "43.0",
         "547"
        ],
        [
         "44",
         "44.0",
         "661"
        ],
        [
         "45",
         "45.0",
         "530"
        ],
        [
         "46",
         "46.0",
         "450"
        ],
        [
         "47",
         "47.0",
         "561"
        ],
        [
         "48",
         "48.0",
         "413"
        ],
        [
         "49",
         "49.0",
         "395"
        ]
       ],
       "shape": {
        "columns": 2,
        "rows": 100
       }
      },
      "text/html": [
       "<div>\n",
       "<style scoped>\n",
       "    .dataframe tbody tr th:only-of-type {\n",
       "        vertical-align: middle;\n",
       "    }\n",
       "\n",
       "    .dataframe tbody tr th {\n",
       "        vertical-align: top;\n",
       "    }\n",
       "\n",
       "    .dataframe thead th {\n",
       "        text-align: right;\n",
       "    }\n",
       "</style>\n",
       "<table border=\"1\" class=\"dataframe\">\n",
       "  <thead>\n",
       "    <tr style=\"text-align: right;\">\n",
       "      <th></th>\n",
       "      <th>Steps</th>\n",
       "      <th>Count</th>\n",
       "    </tr>\n",
       "  </thead>\n",
       "  <tbody>\n",
       "    <tr>\n",
       "      <th>0</th>\n",
       "      <td>0.0</td>\n",
       "      <td>0</td>\n",
       "    </tr>\n",
       "    <tr>\n",
       "      <th>1</th>\n",
       "      <td>1.0</td>\n",
       "      <td>621</td>\n",
       "    </tr>\n",
       "    <tr>\n",
       "      <th>2</th>\n",
       "      <td>2.0</td>\n",
       "      <td>1544</td>\n",
       "    </tr>\n",
       "    <tr>\n",
       "      <th>3</th>\n",
       "      <td>3.0</td>\n",
       "      <td>824</td>\n",
       "    </tr>\n",
       "    <tr>\n",
       "      <th>4</th>\n",
       "      <td>4.0</td>\n",
       "      <td>1822</td>\n",
       "    </tr>\n",
       "    <tr>\n",
       "      <th>...</th>\n",
       "      <td>...</td>\n",
       "      <td>...</td>\n",
       "    </tr>\n",
       "    <tr>\n",
       "      <th>95</th>\n",
       "      <td>95.0</td>\n",
       "      <td>13</td>\n",
       "    </tr>\n",
       "    <tr>\n",
       "      <th>96</th>\n",
       "      <td>96.0</td>\n",
       "      <td>25</td>\n",
       "    </tr>\n",
       "    <tr>\n",
       "      <th>97</th>\n",
       "      <td>97.0</td>\n",
       "      <td>12</td>\n",
       "    </tr>\n",
       "    <tr>\n",
       "      <th>98</th>\n",
       "      <td>98.0</td>\n",
       "      <td>27</td>\n",
       "    </tr>\n",
       "    <tr>\n",
       "      <th>99</th>\n",
       "      <td>99.0</td>\n",
       "      <td>315</td>\n",
       "    </tr>\n",
       "  </tbody>\n",
       "</table>\n",
       "<p>100 rows × 2 columns</p>\n",
       "</div>"
      ],
      "text/plain": [
       "    Steps  Count\n",
       "0     0.0      0\n",
       "1     1.0    621\n",
       "2     2.0   1544\n",
       "3     3.0    824\n",
       "4     4.0   1822\n",
       "..    ...    ...\n",
       "95   95.0     13\n",
       "96   96.0     25\n",
       "97   97.0     12\n",
       "98   98.0     27\n",
       "99   99.0    315\n",
       "\n",
       "[100 rows x 2 columns]"
      ]
     },
     "execution_count": 13,
     "metadata": {},
     "output_type": "execute_result"
    }
   ],
   "source": [
    "hist_df[0]"
   ]
  },
  {
   "cell_type": "code",
   "execution_count": 14,
   "id": "b21c6225",
   "metadata": {},
   "outputs": [
    {
     "data": {
      "application/vnd.microsoft.datawrangler.viewer.v0+json": {
       "columns": [
        {
         "name": "index",
         "rawType": "int64",
         "type": "integer"
        },
        {
         "name": "Steps",
         "rawType": "float64",
         "type": "float"
        },
        {
         "name": "Count",
         "rawType": "int64",
         "type": "integer"
        }
       ],
       "ref": "36886d1b-b191-433a-832a-40dd10eeb48d",
       "rows": [
        [
         "0",
         "0.0",
         "0"
        ],
        [
         "1",
         "1.0",
         "621"
        ],
        [
         "2",
         "2.0",
         "1544"
        ],
        [
         "3",
         "3.0",
         "824"
        ],
        [
         "4",
         "4.0",
         "1822"
        ],
        [
         "5",
         "5.0",
         "3127"
        ],
        [
         "6",
         "6.0",
         "2172"
        ],
        [
         "7",
         "7.0",
         "3115"
        ],
        [
         "8",
         "8.0",
         "4458"
        ],
        [
         "9",
         "9.0",
         "3095"
        ],
        [
         "10",
         "10.0",
         "3692"
        ],
        [
         "11",
         "11.0",
         "4663"
        ],
        [
         "12",
         "12.0",
         "3386"
        ],
        [
         "13",
         "13.0",
         "3560"
        ],
        [
         "14",
         "14.0",
         "4458"
        ],
        [
         "15",
         "15.0",
         "3416"
        ],
        [
         "16",
         "16.0",
         "3079"
        ],
        [
         "17",
         "17.0",
         "3759"
        ],
        [
         "18",
         "18.0",
         "2941"
        ],
        [
         "19",
         "19.0",
         "2581"
        ],
        [
         "20",
         "20.0",
         "3075"
        ],
        [
         "21",
         "21.0",
         "2454"
        ],
        [
         "22",
         "22.0",
         "2158"
        ],
        [
         "23",
         "23.0",
         "2598"
        ],
        [
         "24",
         "24.0",
         "1986"
        ],
        [
         "25",
         "25.0",
         "1686"
        ],
        [
         "26",
         "26.0",
         "2095"
        ],
        [
         "27",
         "27.0",
         "1589"
        ],
        [
         "28",
         "28.0",
         "1456"
        ],
        [
         "29",
         "29.0",
         "1651"
        ],
        [
         "30",
         "30.0",
         "1377"
        ],
        [
         "31",
         "31.0",
         "1205"
        ],
        [
         "32",
         "32.0",
         "1341"
        ],
        [
         "33",
         "33.0",
         "1186"
        ],
        [
         "34",
         "34.0",
         "1010"
        ],
        [
         "35",
         "35.0",
         "1095"
        ],
        [
         "36",
         "36.0",
         "908"
        ],
        [
         "37",
         "37.0",
         "802"
        ],
        [
         "38",
         "38.0",
         "914"
        ],
        [
         "39",
         "39.0",
         "774"
        ],
        [
         "40",
         "40.0",
         "674"
        ],
        [
         "41",
         "41.0",
         "778"
        ],
        [
         "42",
         "42.0",
         "668"
        ],
        [
         "43",
         "43.0",
         "547"
        ],
        [
         "44",
         "44.0",
         "661"
        ],
        [
         "45",
         "45.0",
         "530"
        ],
        [
         "46",
         "46.0",
         "450"
        ],
        [
         "47",
         "47.0",
         "561"
        ],
        [
         "48",
         "48.0",
         "413"
        ],
        [
         "49",
         "49.0",
         "395"
        ]
       ],
       "shape": {
        "columns": 2,
        "rows": 100
       }
      },
      "text/html": [
       "<div>\n",
       "<style scoped>\n",
       "    .dataframe tbody tr th:only-of-type {\n",
       "        vertical-align: middle;\n",
       "    }\n",
       "\n",
       "    .dataframe tbody tr th {\n",
       "        vertical-align: top;\n",
       "    }\n",
       "\n",
       "    .dataframe thead th {\n",
       "        text-align: right;\n",
       "    }\n",
       "</style>\n",
       "<table border=\"1\" class=\"dataframe\">\n",
       "  <thead>\n",
       "    <tr style=\"text-align: right;\">\n",
       "      <th></th>\n",
       "      <th>Steps</th>\n",
       "      <th>Count</th>\n",
       "    </tr>\n",
       "  </thead>\n",
       "  <tbody>\n",
       "    <tr>\n",
       "      <th>0</th>\n",
       "      <td>0.0</td>\n",
       "      <td>0</td>\n",
       "    </tr>\n",
       "    <tr>\n",
       "      <th>1</th>\n",
       "      <td>1.0</td>\n",
       "      <td>621</td>\n",
       "    </tr>\n",
       "    <tr>\n",
       "      <th>2</th>\n",
       "      <td>2.0</td>\n",
       "      <td>1544</td>\n",
       "    </tr>\n",
       "    <tr>\n",
       "      <th>3</th>\n",
       "      <td>3.0</td>\n",
       "      <td>824</td>\n",
       "    </tr>\n",
       "    <tr>\n",
       "      <th>4</th>\n",
       "      <td>4.0</td>\n",
       "      <td>1822</td>\n",
       "    </tr>\n",
       "    <tr>\n",
       "      <th>...</th>\n",
       "      <td>...</td>\n",
       "      <td>...</td>\n",
       "    </tr>\n",
       "    <tr>\n",
       "      <th>95</th>\n",
       "      <td>95.0</td>\n",
       "      <td>13</td>\n",
       "    </tr>\n",
       "    <tr>\n",
       "      <th>96</th>\n",
       "      <td>96.0</td>\n",
       "      <td>25</td>\n",
       "    </tr>\n",
       "    <tr>\n",
       "      <th>97</th>\n",
       "      <td>97.0</td>\n",
       "      <td>12</td>\n",
       "    </tr>\n",
       "    <tr>\n",
       "      <th>98</th>\n",
       "      <td>98.0</td>\n",
       "      <td>27</td>\n",
       "    </tr>\n",
       "    <tr>\n",
       "      <th>99</th>\n",
       "      <td>99.0</td>\n",
       "      <td>315</td>\n",
       "    </tr>\n",
       "  </tbody>\n",
       "</table>\n",
       "<p>100 rows × 2 columns</p>\n",
       "</div>"
      ],
      "text/plain": [
       "    Steps  Count\n",
       "0     0.0      0\n",
       "1     1.0    621\n",
       "2     2.0   1544\n",
       "3     3.0    824\n",
       "4     4.0   1822\n",
       "..    ...    ...\n",
       "95   95.0     13\n",
       "96   96.0     25\n",
       "97   97.0     12\n",
       "98   98.0     27\n",
       "99   99.0    315\n",
       "\n",
       "[100 rows x 2 columns]"
      ]
     },
     "execution_count": 14,
     "metadata": {},
     "output_type": "execute_result"
    }
   ],
   "source": [
    "df_merged = hist_df[0]\n",
    "for i in range(1, len(hist_df)):\n",
    "    df_merged = pd.merge(df_merged, hist_df[i], on=[\"Steps\"], suffixes=(i-1, i))\n",
    "df_merged"
   ]
  },
  {
   "cell_type": "code",
   "execution_count": 15,
   "id": "b9882843",
   "metadata": {},
   "outputs": [
    {
     "data": {
      "application/vnd.microsoft.datawrangler.viewer.v0+json": {
       "columns": [
        {
         "name": "Steps",
         "rawType": "float64",
         "type": "float"
        },
        {
         "name": "Count",
         "rawType": "int64",
         "type": "integer"
        }
       ],
       "ref": "6de1c927-89e6-4ead-9ae0-9a9d143eca71",
       "rows": [
        [
         "0.0",
         "0"
        ],
        [
         "1.0",
         "621"
        ],
        [
         "2.0",
         "1544"
        ],
        [
         "3.0",
         "824"
        ],
        [
         "4.0",
         "1822"
        ],
        [
         "5.0",
         "3127"
        ],
        [
         "6.0",
         "2172"
        ],
        [
         "7.0",
         "3115"
        ],
        [
         "8.0",
         "4458"
        ],
        [
         "9.0",
         "3095"
        ],
        [
         "10.0",
         "3692"
        ],
        [
         "11.0",
         "4663"
        ],
        [
         "12.0",
         "3386"
        ],
        [
         "13.0",
         "3560"
        ],
        [
         "14.0",
         "4458"
        ],
        [
         "15.0",
         "3416"
        ],
        [
         "16.0",
         "3079"
        ],
        [
         "17.0",
         "3759"
        ],
        [
         "18.0",
         "2941"
        ],
        [
         "19.0",
         "2581"
        ],
        [
         "20.0",
         "3075"
        ],
        [
         "21.0",
         "2454"
        ],
        [
         "22.0",
         "2158"
        ],
        [
         "23.0",
         "2598"
        ],
        [
         "24.0",
         "1986"
        ],
        [
         "25.0",
         "1686"
        ],
        [
         "26.0",
         "2095"
        ],
        [
         "27.0",
         "1589"
        ],
        [
         "28.0",
         "1456"
        ],
        [
         "29.0",
         "1651"
        ],
        [
         "30.0",
         "1377"
        ],
        [
         "31.0",
         "1205"
        ],
        [
         "32.0",
         "1341"
        ],
        [
         "33.0",
         "1186"
        ],
        [
         "34.0",
         "1010"
        ],
        [
         "35.0",
         "1095"
        ],
        [
         "36.0",
         "908"
        ],
        [
         "37.0",
         "802"
        ],
        [
         "38.0",
         "914"
        ],
        [
         "39.0",
         "774"
        ],
        [
         "40.0",
         "674"
        ],
        [
         "41.0",
         "778"
        ],
        [
         "42.0",
         "668"
        ],
        [
         "43.0",
         "547"
        ],
        [
         "44.0",
         "661"
        ],
        [
         "45.0",
         "530"
        ],
        [
         "46.0",
         "450"
        ],
        [
         "47.0",
         "561"
        ],
        [
         "48.0",
         "413"
        ],
        [
         "49.0",
         "395"
        ]
       ],
       "shape": {
        "columns": 1,
        "rows": 100
       }
      },
      "text/html": [
       "<div>\n",
       "<style scoped>\n",
       "    .dataframe tbody tr th:only-of-type {\n",
       "        vertical-align: middle;\n",
       "    }\n",
       "\n",
       "    .dataframe tbody tr th {\n",
       "        vertical-align: top;\n",
       "    }\n",
       "\n",
       "    .dataframe thead th {\n",
       "        text-align: right;\n",
       "    }\n",
       "</style>\n",
       "<table border=\"1\" class=\"dataframe\">\n",
       "  <thead>\n",
       "    <tr style=\"text-align: right;\">\n",
       "      <th></th>\n",
       "      <th>Count</th>\n",
       "    </tr>\n",
       "    <tr>\n",
       "      <th>Steps</th>\n",
       "      <th></th>\n",
       "    </tr>\n",
       "  </thead>\n",
       "  <tbody>\n",
       "    <tr>\n",
       "      <th>0.0</th>\n",
       "      <td>0</td>\n",
       "    </tr>\n",
       "    <tr>\n",
       "      <th>1.0</th>\n",
       "      <td>621</td>\n",
       "    </tr>\n",
       "    <tr>\n",
       "      <th>2.0</th>\n",
       "      <td>1544</td>\n",
       "    </tr>\n",
       "    <tr>\n",
       "      <th>3.0</th>\n",
       "      <td>824</td>\n",
       "    </tr>\n",
       "    <tr>\n",
       "      <th>4.0</th>\n",
       "      <td>1822</td>\n",
       "    </tr>\n",
       "    <tr>\n",
       "      <th>...</th>\n",
       "      <td>...</td>\n",
       "    </tr>\n",
       "    <tr>\n",
       "      <th>95.0</th>\n",
       "      <td>13</td>\n",
       "    </tr>\n",
       "    <tr>\n",
       "      <th>96.0</th>\n",
       "      <td>25</td>\n",
       "    </tr>\n",
       "    <tr>\n",
       "      <th>97.0</th>\n",
       "      <td>12</td>\n",
       "    </tr>\n",
       "    <tr>\n",
       "      <th>98.0</th>\n",
       "      <td>27</td>\n",
       "    </tr>\n",
       "    <tr>\n",
       "      <th>99.0</th>\n",
       "      <td>315</td>\n",
       "    </tr>\n",
       "  </tbody>\n",
       "</table>\n",
       "<p>100 rows × 1 columns</p>\n",
       "</div>"
      ],
      "text/plain": [
       "       Count\n",
       "Steps       \n",
       "0.0        0\n",
       "1.0      621\n",
       "2.0     1544\n",
       "3.0      824\n",
       "4.0     1822\n",
       "...      ...\n",
       "95.0      13\n",
       "96.0      25\n",
       "97.0      12\n",
       "98.0      27\n",
       "99.0     315\n",
       "\n",
       "[100 rows x 1 columns]"
      ]
     },
     "execution_count": 15,
     "metadata": {},
     "output_type": "execute_result"
    }
   ],
   "source": [
    "df_merged.set_index('Steps', drop=True, inplace=True)\n",
    "df_merged"
   ]
  },
  {
   "cell_type": "code",
   "execution_count": 16,
   "id": "abcc0ac5",
   "metadata": {},
   "outputs": [],
   "source": [
    "def get_title():\n",
    "    return f\"Simulation - {program} | {graph_name} | Sched: {sched} | N: {no_simulations:,} | FI: {fault_interval}\""
   ]
  },
  {
   "cell_type": "code",
   "execution_count": 17,
   "id": "9c3e367c",
   "metadata": {},
   "outputs": [],
   "source": [
    "def get_label(simulation_type, node):\n",
    "    return {\n",
    "        SimulationMixin.RANDOM_FAULT_SIMULATION_TYPE: \"Random Fault\",\n",
    "        SimulationMixin.CONTROLLED_FAULT_AT_NODE_SIMULATION_TYPE: \"Controlled (amit v1) at node %s\",\n",
    "        SimulationMixin.CONTROLLED_FAULT_AT_NODE_SIMULATION_TYPE_AMIT_V2: \"Controlled (amit v2) at node %s\",\n",
    "        SimulationMixin.CONTROLLED_FAULT_AT_NODE_SIMULATION_TYPE_DUONG: \"Controlled (duong) at node %s\",\n",
    "        SimulationMixin.RANDOM_FAULT_START_AT_NODE_SIMULATION_TYPE: \"Random started at node %s\",\n",
    "    }.get(simulation_type, simulation_type) % (node)"
   ]
  },
  {
   "cell_type": "code",
   "execution_count": 18,
   "id": "2e1cf20c",
   "metadata": {},
   "outputs": [],
   "source": [
    "def get_filename():\n",
    "    return f\"{program}__{graph_name}__{sched}__{no_simulations}__{fault_interval}__{''.join([str(i) for i in selected_nodes])}__{simulation_type}__{limits}\""
   ]
  },
  {
   "cell_type": "code",
   "execution_count": 19,
   "id": "2149990e",
   "metadata": {},
   "outputs": [
    {
     "name": "stderr",
     "output_type": "stream",
     "text": [
      "/home/agaru/anaconda3/envs/cvf/lib/python3.13/site-packages/pandas/core/indexes/base.py:952: RuntimeWarning: overflow encountered in exp\n",
      "  result = getattr(ufunc, method)(*new_inputs, **kwargs)\n"
     ]
    }
   ],
   "source": [
    "from scipy.optimize import curve_fit\n",
    "\n",
    "\n",
    "def exp_func(x, a, b, c):\n",
    "    return a * np.exp(-b * x) + c\n",
    "\n",
    "\n",
    "# Fit the curve\n",
    "popt, _ = curve_fit(exp_func, df_merged.index, df_merged[\"Count\"], p0= [10, 0.1, 0])\n",
    "y_fit = exp_func(df_merged.index, popt[0], popt[1], popt[2])\n",
    "df_merged[f\"exp_fit\"] = y_fit"
   ]
  },
  {
   "cell_type": "code",
   "execution_count": 20,
   "id": "d120d104",
   "metadata": {},
   "outputs": [
    {
     "name": "stdout",
     "output_type": "stream",
     "text": [
      "Saved plot(s) for plots/dijkstra_token_ring/dijkstra_token_ring__implicit_graph_n10__0__100000__3__0__controlled_at_node_amit_v2__100.png\n"
     ]
    }
   ],
   "source": [
    "plt.figure(figsize=(16, 8))\n",
    "ax = sns.lineplot(data=df_merged, linewidth=1)\n",
    "ax.set_title(get_title(), fontdict={\"fontsize\": fontsize})\n",
    "\n",
    "# ax.set_yscale(\"log\")\n",
    "for i, line in enumerate(ax.lines):\n",
    "    if i >= 0:\n",
    "        line_style = \"solid\"\n",
    "        line.set_color(next(color_cycle)[0])\n",
    "    else:\n",
    "        line_style = \"dashed\"\n",
    "        line.set_color(\"goldenrod\")\n",
    "    line.set_linestyle(line_style)\n",
    "\n",
    "ax.tick_params(axis=\"x\", labelsize=fontsize)\n",
    "ax.tick_params(axis=\"y\", labelsize=fontsize)\n",
    "ax.xaxis.label.set_size(fontsize)\n",
    "ax.yaxis.label.set_size(fontsize)\n",
    "\n",
    "ax.set_xlabel(\"Steps\")\n",
    "ax.set_ylabel(\"Count\")\n",
    "\n",
    "# labels = [\"Random Fault\"]\n",
    "labels = []\n",
    "labels.extend([get_label(simulation_type, n) for n in selected_nodes])\n",
    "labels.append(\n",
    "    f\"$y = {popt[0]:.2f}e^{{{-popt[1]:.2f}x}} {'+' if popt[2]>=0 else ''} {popt[2]:.2f}$\"\n",
    ")\n",
    "\n",
    "custom_lines = [\n",
    "    mlines.Line2D(\n",
    "        [],\n",
    "        [],\n",
    "        color=line.get_color(),\n",
    "        # marker=marker,\n",
    "        label=cat,\n",
    "        linestyle=line.get_linestyle(),\n",
    "    )\n",
    "    for line, cat in zip(ax.lines, labels)\n",
    "]\n",
    "plt.rc(\"font\", size=fontsize)\n",
    "plt.legend(handles=custom_lines, fontsize=fontsize * 0.9)\n",
    "file_path = os.path.join(\n",
    "    plots_dir,\n",
    "    program,\n",
    "    f\"{get_filename()}.png\",\n",
    ")\n",
    "\n",
    "\n",
    "plt.savefig(\n",
    "    file_path,\n",
    "    bbox_inches=\"tight\",\n",
    ")\n",
    "plt.close()\n",
    "\n",
    "print(f\"Saved plot(s) for {file_path}\")"
   ]
  },
  {
   "cell_type": "code",
   "execution_count": 21,
   "id": "e5177718",
   "metadata": {},
   "outputs": [
    {
     "data": {
      "application/vnd.microsoft.datawrangler.viewer.v0+json": {
       "columns": [
        {
         "name": "Steps",
         "rawType": "float64",
         "type": "float"
        },
        {
         "name": "Count",
         "rawType": "int64",
         "type": "integer"
        },
        {
         "name": "exp_fit",
         "rawType": "float64",
         "type": "float"
        }
       ],
       "ref": "7f9b1a63-ea8c-44ce-b75d-ea185aa7e2b4",
       "rows": [
        [
         "0.0",
         "0",
         "3104.8651229602574"
        ],
        [
         "1.0",
         "621",
         "3040.7257080715717"
        ],
        [
         "2.0",
         "1544",
         "2977.4879011222893"
        ],
        [
         "3.0",
         "824",
         "2915.139028207016"
        ],
        [
         "4.0",
         "1822",
         "2853.6665935774818"
        ],
        [
         "5.0",
         "3127",
         "2793.0582771381833"
        ],
        [
         "6.0",
         "2172",
         "2733.3019319772393"
        ],
        [
         "7.0",
         "3115",
         "2674.3855819319406"
        ],
        [
         "8.0",
         "4458",
         "2616.2974191885332"
        ],
        [
         "9.0",
         "3095",
         "2559.0258019157345"
        ],
        [
         "10.0",
         "3692",
         "2502.5592519315187"
        ],
        [
         "11.0",
         "4663",
         "2446.886452402694"
        ],
        [
         "12.0",
         "3386",
         "2391.99624557683"
        ],
        [
         "13.0",
         "3560",
         "2337.8776305460524"
        ],
        [
         "14.0",
         "4458",
         "2284.5197610422792"
        ],
        [
         "15.0",
         "3416",
         "2231.9119432634525"
        ],
        [
         "16.0",
         "3079",
         "2180.043633730318"
        ],
        [
         "17.0",
         "3759",
         "2128.9044371733426"
        ],
        [
         "18.0",
         "2941",
         "2078.484104449324"
        ],
        [
         "19.0",
         "2581",
         "2028.7725304872972"
        ],
        [
         "20.0",
         "3075",
         "1979.759752263307"
        ],
        [
         "21.0",
         "2454",
         "1931.435946803657"
        ],
        [
         "22.0",
         "2158",
         "1883.7914292162184"
        ],
        [
         "23.0",
         "2598",
         "1836.81665074942"
        ],
        [
         "24.0",
         "1986",
         "1790.5021968785175"
        ],
        [
         "25.0",
         "1686",
         "1744.8387854187702"
        ],
        [
         "26.0",
         "2095",
         "1699.8172646651317"
        ],
        [
         "27.0",
         "1589",
         "1655.4286115581037"
        ],
        [
         "28.0",
         "1456",
         "1611.6639298753578"
        ],
        [
         "29.0",
         "1651",
         "1568.5144484487907"
        ],
        [
         "30.0",
         "1377",
         "1525.9715194066328"
        ],
        [
         "31.0",
         "1205",
         "1484.0266164402735"
        ],
        [
         "32.0",
         "1341",
         "1442.6713330954465"
        ],
        [
         "33.0",
         "1186",
         "1401.8973810874384"
        ],
        [
         "34.0",
         "1010",
         "1361.6965886399764"
        ],
        [
         "35.0",
         "1095",
         "1322.0608988474712"
        ],
        [
         "36.0",
         "908",
         "1282.9823680602778"
        ],
        [
         "37.0",
         "802",
         "1244.453164292658"
        ],
        [
         "38.0",
         "914",
         "1206.4655656531183"
        ],
        [
         "39.0",
         "774",
         "1169.0119587968177"
        ],
        [
         "40.0",
         "674",
         "1132.084837399724"
        ],
        [
         "41.0",
         "778",
         "1095.6768006542245"
        ],
        [
         "42.0",
         "668",
         "1059.7805517858803"
        ],
        [
         "43.0",
         "547",
         "1024.3888965910312"
        ],
        [
         "44.0",
         "661",
         "989.4947419949592"
        ],
        [
         "45.0",
         "530",
         "955.0910946303177"
        ],
        [
         "46.0",
         "450",
         "921.1710594355443"
        ],
        [
         "47.0",
         "561",
         "887.727838272978"
        ],
        [
         "48.0",
         "413",
         "854.754728566397"
        ],
        [
         "49.0",
         "395",
         "822.2451219577149"
        ]
       ],
       "shape": {
        "columns": 2,
        "rows": 100
       }
      },
      "text/html": [
       "<div>\n",
       "<style scoped>\n",
       "    .dataframe tbody tr th:only-of-type {\n",
       "        vertical-align: middle;\n",
       "    }\n",
       "\n",
       "    .dataframe tbody tr th {\n",
       "        vertical-align: top;\n",
       "    }\n",
       "\n",
       "    .dataframe thead th {\n",
       "        text-align: right;\n",
       "    }\n",
       "</style>\n",
       "<table border=\"1\" class=\"dataframe\">\n",
       "  <thead>\n",
       "    <tr style=\"text-align: right;\">\n",
       "      <th></th>\n",
       "      <th>Count</th>\n",
       "      <th>exp_fit</th>\n",
       "    </tr>\n",
       "    <tr>\n",
       "      <th>Steps</th>\n",
       "      <th></th>\n",
       "      <th></th>\n",
       "    </tr>\n",
       "  </thead>\n",
       "  <tbody>\n",
       "    <tr>\n",
       "      <th>0.0</th>\n",
       "      <td>0</td>\n",
       "      <td>3104.865123</td>\n",
       "    </tr>\n",
       "    <tr>\n",
       "      <th>1.0</th>\n",
       "      <td>621</td>\n",
       "      <td>3040.725708</td>\n",
       "    </tr>\n",
       "    <tr>\n",
       "      <th>2.0</th>\n",
       "      <td>1544</td>\n",
       "      <td>2977.487901</td>\n",
       "    </tr>\n",
       "    <tr>\n",
       "      <th>3.0</th>\n",
       "      <td>824</td>\n",
       "      <td>2915.139028</td>\n",
       "    </tr>\n",
       "    <tr>\n",
       "      <th>4.0</th>\n",
       "      <td>1822</td>\n",
       "      <td>2853.666594</td>\n",
       "    </tr>\n",
       "    <tr>\n",
       "      <th>...</th>\n",
       "      <td>...</td>\n",
       "      <td>...</td>\n",
       "    </tr>\n",
       "    <tr>\n",
       "      <th>95.0</th>\n",
       "      <td>13</td>\n",
       "      <td>-269.020115</td>\n",
       "    </tr>\n",
       "    <tr>\n",
       "      <th>96.0</th>\n",
       "      <td>25</td>\n",
       "      <td>-285.732815</td>\n",
       "    </tr>\n",
       "    <tr>\n",
       "      <th>97.0</th>\n",
       "      <td>12</td>\n",
       "      <td>-302.210585</td>\n",
       "    </tr>\n",
       "    <tr>\n",
       "      <th>98.0</th>\n",
       "      <td>27</td>\n",
       "      <td>-318.456727</td>\n",
       "    </tr>\n",
       "    <tr>\n",
       "      <th>99.0</th>\n",
       "      <td>315</td>\n",
       "      <td>-334.474497</td>\n",
       "    </tr>\n",
       "  </tbody>\n",
       "</table>\n",
       "<p>100 rows × 2 columns</p>\n",
       "</div>"
      ],
      "text/plain": [
       "       Count      exp_fit\n",
       "Steps                    \n",
       "0.0        0  3104.865123\n",
       "1.0      621  3040.725708\n",
       "2.0     1544  2977.487901\n",
       "3.0      824  2915.139028\n",
       "4.0     1822  2853.666594\n",
       "...      ...          ...\n",
       "95.0      13  -269.020115\n",
       "96.0      25  -285.732815\n",
       "97.0      12  -302.210585\n",
       "98.0      27  -318.456727\n",
       "99.0     315  -334.474497\n",
       "\n",
       "[100 rows x 2 columns]"
      ]
     },
     "execution_count": 21,
     "metadata": {},
     "output_type": "execute_result"
    }
   ],
   "source": [
    "df_merged"
   ]
  },
  {
   "cell_type": "code",
   "execution_count": 22,
   "id": "27f8596d",
   "metadata": {},
   "outputs": [],
   "source": [
    "# Save to file\n",
    "cols = [\n",
    "    get_label(simulation_type, n) for n in selected_nodes\n",
    "]\n",
    "cols.append(\"exp_curve\")\n",
    "# df_merged.index = df_merged.index.astype(int)\n",
    "df_merged.to_csv(os.path.join(\"results\", program, f\"w_exp_{get_filename()}.csv\"))"
   ]
  },
  {
   "cell_type": "code",
   "execution_count": null,
   "id": "c8288839",
   "metadata": {},
   "outputs": [],
   "source": []
  }
 ],
 "metadata": {
  "kernelspec": {
   "display_name": "cvf",
   "language": "python",
   "name": "python3"
  },
  "language_info": {
   "codemirror_mode": {
    "name": "ipython",
    "version": 3
   },
   "file_extension": ".py",
   "mimetype": "text/x-python",
   "name": "python",
   "nbconvert_exporter": "python",
   "pygments_lexer": "ipython3",
   "version": "3.13.5"
  }
 },
 "nbformat": 4,
 "nbformat_minor": 5
}
