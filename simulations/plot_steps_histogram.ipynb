{
 "cells": [
  {
   "cell_type": "code",
   "execution_count": 1,
   "id": "eefce604",
   "metadata": {},
   "outputs": [],
   "source": [
    "import os\n",
    "import sys\n",
    "import numpy as np\n",
    "import pandas as pd\n",
    "import seaborn as sns\n",
    "import matplotlib.lines as mlines\n",
    "\n",
    "from itertools import cycle\n",
    "from matplotlib import pyplot as plt\n",
    "\n",
    "from simulation import SimulationMixin\n"
   ]
  },
  {
   "cell_type": "code",
   "execution_count": 2,
   "id": "d79baab0",
   "metadata": {},
   "outputs": [],
   "source": [
    "fontsize = 20\n",
    "\n",
    "plots_dir = \"plots\""
   ]
  },
  {
   "cell_type": "code",
   "execution_count": 3,
   "id": "3e559f48",
   "metadata": {},
   "outputs": [],
   "source": [
    "colors = [(\"red\", \"red\"), (\"green\", \"green\"), (\"blue\", \"blue\"), (\"orange\", \"orange\")]\n",
    "color_cycle = cycle(colors)"
   ]
  },
  {
   "cell_type": "code",
   "execution_count": 4,
   "id": "be2757ec",
   "metadata": {},
   "outputs": [],
   "source": [
    "program = \"coloring\"\n",
    "# program = \"maximal_matching\"\n",
    "# program = \"dijkstra\"\n",
    "# graph_name = \"graph_powerlaw_cluster_graph_n7\"\n",
    "# graph_name = \"implicit_graph_n8\"\n",
    "graph_name = \"graph_7\"\n",
    "sched = 0\n",
    "no_simulations = 10000\n",
    "me = False\n",
    "fault_interval = 1\n",
    "\n",
    "duong_mode = True\n",
    "\n",
    "selected_nodes = [4, 9]"
   ]
  },
  {
   "cell_type": "code",
   "execution_count": 5,
   "id": "2787883a",
   "metadata": {},
   "outputs": [],
   "source": [
    "def get_filename(graph_name, sched, simulation_type, args, no_simulations, me, fault_interval):\n",
    "    return f\"{graph_name}__{sched}__{simulation_type}_args_{args}__{no_simulations}__{me}__{fault_interval}\""
   ]
  },
  {
   "cell_type": "code",
   "execution_count": 6,
   "id": "7323b6fb",
   "metadata": {},
   "outputs": [],
   "source": [
    "filenames = [\n",
    "    get_filename(\n",
    "        graph_name,\n",
    "        sched,\n",
    "        SimulationMixin.RANDOM_FAULT_SIMULATION_TYPE,\n",
    "        \"\",\n",
    "        no_simulations,\n",
    "        me,\n",
    "        fault_interval,\n",
    "    )\n",
    "]\n",
    "if duong_mode:\n",
    "    filenames.extend(\n",
    "        [\n",
    "            get_filename(\n",
    "                graph_name,\n",
    "                sched,\n",
    "                SimulationMixin.CONTROLLED_FAULT_AT_NODE_SIMULATION_TYPE_DUONG,\n",
    "                arg,\n",
    "                no_simulations,\n",
    "                me,\n",
    "                fault_interval,\n",
    "            )\n",
    "            for arg in selected_nodes\n",
    "        ]\n",
    "    )\n",
    "else:\n",
    "    filenames.extend(\n",
    "        [\n",
    "            get_filename(\n",
    "                graph_name,\n",
    "                sched,\n",
    "                SimulationMixin.CONTROLLED_FAULT_AT_NODE_SIMULATION_TYPE,\n",
    "                arg,\n",
    "                no_simulations,\n",
    "                me,\n",
    "                fault_interval,\n",
    "            )\n",
    "            for arg in selected_nodes\n",
    "        ]\n",
    "    )\n"
   ]
  },
  {
   "cell_type": "code",
   "execution_count": 7,
   "id": "aaf5e293",
   "metadata": {},
   "outputs": [],
   "source": [
    "dfs = [pd.read_csv(os.path.join(\"results\", program, f\"{fn}.csv\")) for fn in filenames]"
   ]
  },
  {
   "cell_type": "code",
   "execution_count": 8,
   "id": "1b3e251a",
   "metadata": {},
   "outputs": [
    {
     "data": {
      "text/plain": [
       "np.int64(166)"
      ]
     },
     "execution_count": 8,
     "metadata": {},
     "output_type": "execute_result"
    }
   ],
   "source": [
    "max_steps = max(df['Steps'].max() for df in dfs)\n",
    "max_steps"
   ]
  },
  {
   "cell_type": "code",
   "execution_count": 9,
   "id": "25fce55f",
   "metadata": {},
   "outputs": [],
   "source": [
    "bins = np.linspace(0, max_steps, max_steps+1)\n",
    "# bin_centers = (bins[:-1] + bins[1:]) / 2\n",
    "bin_centers = bins"
   ]
  },
  {
   "cell_type": "code",
   "execution_count": 10,
   "id": "b036df11",
   "metadata": {},
   "outputs": [
    {
     "data": {
      "text/plain": [
       "array([  0.,   1.,   2.,   3.,   4.,   5.,   6.,   7.,   8.,   9.,  10.,\n",
       "        11.,  12.,  13.,  14.,  15.,  16.,  17.,  18.,  19.,  20.,  21.,\n",
       "        22.,  23.,  24.,  25.,  26.,  27.,  28.,  29.,  30.,  31.,  32.,\n",
       "        33.,  34.,  35.,  36.,  37.,  38.,  39.,  40.,  41.,  42.,  43.,\n",
       "        44.,  45.,  46.,  47.,  48.,  49.,  50.,  51.,  52.,  53.,  54.,\n",
       "        55.,  56.,  57.,  58.,  59.,  60.,  61.,  62.,  63.,  64.,  65.,\n",
       "        66.,  67.,  68.,  69.,  70.,  71.,  72.,  73.,  74.,  75.,  76.,\n",
       "        77.,  78.,  79.,  80.,  81.,  82.,  83.,  84.,  85.,  86.,  87.,\n",
       "        88.,  89.,  90.,  91.,  92.,  93.,  94.,  95.,  96.,  97.,  98.,\n",
       "        99., 100., 101., 102., 103., 104., 105., 106., 107., 108., 109.,\n",
       "       110., 111., 112., 113., 114., 115., 116., 117., 118., 119., 120.,\n",
       "       121., 122., 123., 124., 125., 126., 127., 128., 129., 130., 131.,\n",
       "       132., 133., 134., 135., 136., 137., 138., 139., 140., 141., 142.,\n",
       "       143., 144., 145., 146., 147., 148., 149., 150., 151., 152., 153.,\n",
       "       154., 155., 156., 157., 158., 159., 160., 161., 162., 163., 164.,\n",
       "       165., 166.])"
      ]
     },
     "execution_count": 10,
     "metadata": {},
     "output_type": "execute_result"
    }
   ],
   "source": [
    "bins"
   ]
  },
  {
   "cell_type": "code",
   "execution_count": 11,
   "id": "1e7c0e7d",
   "metadata": {},
   "outputs": [
    {
     "data": {
      "text/plain": [
       "array([  0, 785, 660, 671, 561, 514, 455, 449, 430, 357, 342, 313, 291,\n",
       "       251, 255, 244, 236, 200, 190, 183, 169, 181, 141, 138, 134, 125,\n",
       "       102, 105, 107, 104, 103,  89,  66,  65,  66,  45,  52,  65,  46,\n",
       "        45,  51,  39,  32,  31,  36,  34,  20,  32,  27,  29,  24,  19,\n",
       "        16,  18,  15,  17,  20,  10,  15,  13,   9,   5,  18,   5,   6,\n",
       "         6,   9,   7,   6,   6,   7,   2,   6,   6,   5,   2,   2,   4,\n",
       "         4,   4,   4,   2,   2,   5,   3,   3,   0,   1,   3,   1,   3,\n",
       "         1,   2,   2,   1,   2,   0,   3,   0,   0,   0,   1,   2,   0,\n",
       "         1,   0,   0,   0,   1,   0,   0,   0,   0,   0,   0,   0,   0,\n",
       "         0,   1,   0,   0,   1,   0,   0,   0,   0,   0,   0,   0,   0,\n",
       "         0,   0,   0,   0,   0,   0,   0,   0,   0,   0,   0,   0,   0,\n",
       "         0,   1,   0,   0,   0,   0,   0,   0,   0,   0,   1,   0,   0,\n",
       "         0,   0,   0,   0,   0,   0,   0,   0,   0,   1])"
      ]
     },
     "execution_count": 11,
     "metadata": {},
     "output_type": "execute_result"
    }
   ],
   "source": [
    "hist_data = [np.histogram(df['Steps'], bins=bins) for df in dfs]\n",
    "hist_data[0][0]"
   ]
  },
  {
   "cell_type": "code",
   "execution_count": 12,
   "id": "8b62d07c",
   "metadata": {},
   "outputs": [],
   "source": [
    "hist_data = [np.histogram(df['Steps'], bins=bins) for df in dfs]\n",
    "hist_df = []\n",
    "for hd in hist_data:\n",
    "    hist_df.append(\n",
    "        pd.DataFrame({\n",
    "            'Steps': bin_centers[:-1],\n",
    "            'Count': hd[0]\n",
    "        })\n",
    "    )"
   ]
  },
  {
   "cell_type": "code",
   "execution_count": 13,
   "id": "6e8f39c6",
   "metadata": {},
   "outputs": [
    {
     "data": {
      "application/vnd.microsoft.datawrangler.viewer.v0+json": {
       "columns": [
        {
         "name": "index",
         "rawType": "int64",
         "type": "integer"
        },
        {
         "name": "Steps",
         "rawType": "float64",
         "type": "float"
        },
        {
         "name": "Count",
         "rawType": "int64",
         "type": "integer"
        }
       ],
       "ref": "8d214829-b97d-4630-bcc3-4bc7a698be5a",
       "rows": [
        [
         "0",
         "0.0",
         "0"
        ],
        [
         "1",
         "1.0",
         "785"
        ],
        [
         "2",
         "2.0",
         "660"
        ],
        [
         "3",
         "3.0",
         "671"
        ],
        [
         "4",
         "4.0",
         "561"
        ],
        [
         "5",
         "5.0",
         "514"
        ],
        [
         "6",
         "6.0",
         "455"
        ],
        [
         "7",
         "7.0",
         "449"
        ],
        [
         "8",
         "8.0",
         "430"
        ],
        [
         "9",
         "9.0",
         "357"
        ],
        [
         "10",
         "10.0",
         "342"
        ],
        [
         "11",
         "11.0",
         "313"
        ],
        [
         "12",
         "12.0",
         "291"
        ],
        [
         "13",
         "13.0",
         "251"
        ],
        [
         "14",
         "14.0",
         "255"
        ],
        [
         "15",
         "15.0",
         "244"
        ],
        [
         "16",
         "16.0",
         "236"
        ],
        [
         "17",
         "17.0",
         "200"
        ],
        [
         "18",
         "18.0",
         "190"
        ],
        [
         "19",
         "19.0",
         "183"
        ],
        [
         "20",
         "20.0",
         "169"
        ],
        [
         "21",
         "21.0",
         "181"
        ],
        [
         "22",
         "22.0",
         "141"
        ],
        [
         "23",
         "23.0",
         "138"
        ],
        [
         "24",
         "24.0",
         "134"
        ],
        [
         "25",
         "25.0",
         "125"
        ],
        [
         "26",
         "26.0",
         "102"
        ],
        [
         "27",
         "27.0",
         "105"
        ],
        [
         "28",
         "28.0",
         "107"
        ],
        [
         "29",
         "29.0",
         "104"
        ],
        [
         "30",
         "30.0",
         "103"
        ],
        [
         "31",
         "31.0",
         "89"
        ],
        [
         "32",
         "32.0",
         "66"
        ],
        [
         "33",
         "33.0",
         "65"
        ],
        [
         "34",
         "34.0",
         "66"
        ],
        [
         "35",
         "35.0",
         "45"
        ],
        [
         "36",
         "36.0",
         "52"
        ],
        [
         "37",
         "37.0",
         "65"
        ],
        [
         "38",
         "38.0",
         "46"
        ],
        [
         "39",
         "39.0",
         "45"
        ],
        [
         "40",
         "40.0",
         "51"
        ],
        [
         "41",
         "41.0",
         "39"
        ],
        [
         "42",
         "42.0",
         "32"
        ],
        [
         "43",
         "43.0",
         "31"
        ],
        [
         "44",
         "44.0",
         "36"
        ],
        [
         "45",
         "45.0",
         "34"
        ],
        [
         "46",
         "46.0",
         "20"
        ],
        [
         "47",
         "47.0",
         "32"
        ],
        [
         "48",
         "48.0",
         "27"
        ],
        [
         "49",
         "49.0",
         "29"
        ]
       ],
       "shape": {
        "columns": 2,
        "rows": 166
       }
      },
      "text/html": [
       "<div>\n",
       "<style scoped>\n",
       "    .dataframe tbody tr th:only-of-type {\n",
       "        vertical-align: middle;\n",
       "    }\n",
       "\n",
       "    .dataframe tbody tr th {\n",
       "        vertical-align: top;\n",
       "    }\n",
       "\n",
       "    .dataframe thead th {\n",
       "        text-align: right;\n",
       "    }\n",
       "</style>\n",
       "<table border=\"1\" class=\"dataframe\">\n",
       "  <thead>\n",
       "    <tr style=\"text-align: right;\">\n",
       "      <th></th>\n",
       "      <th>Steps</th>\n",
       "      <th>Count</th>\n",
       "    </tr>\n",
       "  </thead>\n",
       "  <tbody>\n",
       "    <tr>\n",
       "      <th>0</th>\n",
       "      <td>0.0</td>\n",
       "      <td>0</td>\n",
       "    </tr>\n",
       "    <tr>\n",
       "      <th>1</th>\n",
       "      <td>1.0</td>\n",
       "      <td>785</td>\n",
       "    </tr>\n",
       "    <tr>\n",
       "      <th>2</th>\n",
       "      <td>2.0</td>\n",
       "      <td>660</td>\n",
       "    </tr>\n",
       "    <tr>\n",
       "      <th>3</th>\n",
       "      <td>3.0</td>\n",
       "      <td>671</td>\n",
       "    </tr>\n",
       "    <tr>\n",
       "      <th>4</th>\n",
       "      <td>4.0</td>\n",
       "      <td>561</td>\n",
       "    </tr>\n",
       "    <tr>\n",
       "      <th>...</th>\n",
       "      <td>...</td>\n",
       "      <td>...</td>\n",
       "    </tr>\n",
       "    <tr>\n",
       "      <th>161</th>\n",
       "      <td>161.0</td>\n",
       "      <td>0</td>\n",
       "    </tr>\n",
       "    <tr>\n",
       "      <th>162</th>\n",
       "      <td>162.0</td>\n",
       "      <td>0</td>\n",
       "    </tr>\n",
       "    <tr>\n",
       "      <th>163</th>\n",
       "      <td>163.0</td>\n",
       "      <td>0</td>\n",
       "    </tr>\n",
       "    <tr>\n",
       "      <th>164</th>\n",
       "      <td>164.0</td>\n",
       "      <td>0</td>\n",
       "    </tr>\n",
       "    <tr>\n",
       "      <th>165</th>\n",
       "      <td>165.0</td>\n",
       "      <td>1</td>\n",
       "    </tr>\n",
       "  </tbody>\n",
       "</table>\n",
       "<p>166 rows × 2 columns</p>\n",
       "</div>"
      ],
      "text/plain": [
       "     Steps  Count\n",
       "0      0.0      0\n",
       "1      1.0    785\n",
       "2      2.0    660\n",
       "3      3.0    671\n",
       "4      4.0    561\n",
       "..     ...    ...\n",
       "161  161.0      0\n",
       "162  162.0      0\n",
       "163  163.0      0\n",
       "164  164.0      0\n",
       "165  165.0      1\n",
       "\n",
       "[166 rows x 2 columns]"
      ]
     },
     "execution_count": 13,
     "metadata": {},
     "output_type": "execute_result"
    }
   ],
   "source": [
    "hist_df[0]"
   ]
  },
  {
   "cell_type": "code",
   "execution_count": 14,
   "id": "b21c6225",
   "metadata": {},
   "outputs": [
    {
     "data": {
      "application/vnd.microsoft.datawrangler.viewer.v0+json": {
       "columns": [
        {
         "name": "index",
         "rawType": "int64",
         "type": "integer"
        },
        {
         "name": "Steps",
         "rawType": "float64",
         "type": "float"
        },
        {
         "name": "Count0",
         "rawType": "int64",
         "type": "integer"
        },
        {
         "name": "Count1",
         "rawType": "int64",
         "type": "integer"
        },
        {
         "name": "Count",
         "rawType": "int64",
         "type": "integer"
        }
       ],
       "ref": "e30a2d22-ee2d-4d9d-9c96-7f66aac15450",
       "rows": [
        [
         "0",
         "0.0",
         "0",
         "0",
         "0"
        ],
        [
         "1",
         "1.0",
         "785",
         "734",
         "882"
        ],
        [
         "2",
         "2.0",
         "660",
         "622",
         "721"
        ],
        [
         "3",
         "3.0",
         "671",
         "624",
         "673"
        ],
        [
         "4",
         "4.0",
         "561",
         "557",
         "567"
        ],
        [
         "5",
         "5.0",
         "514",
         "496",
         "522"
        ],
        [
         "6",
         "6.0",
         "455",
         "419",
         "475"
        ],
        [
         "7",
         "7.0",
         "449",
         "394",
         "432"
        ],
        [
         "8",
         "8.0",
         "430",
         "411",
         "405"
        ],
        [
         "9",
         "9.0",
         "357",
         "377",
         "413"
        ],
        [
         "10",
         "10.0",
         "342",
         "303",
         "344"
        ],
        [
         "11",
         "11.0",
         "313",
         "303",
         "346"
        ],
        [
         "12",
         "12.0",
         "291",
         "279",
         "294"
        ],
        [
         "13",
         "13.0",
         "251",
         "280",
         "284"
        ],
        [
         "14",
         "14.0",
         "255",
         "248",
         "255"
        ],
        [
         "15",
         "15.0",
         "244",
         "223",
         "232"
        ],
        [
         "16",
         "16.0",
         "236",
         "216",
         "205"
        ],
        [
         "17",
         "17.0",
         "200",
         "207",
         "232"
        ],
        [
         "18",
         "18.0",
         "190",
         "172",
         "196"
        ],
        [
         "19",
         "19.0",
         "183",
         "195",
         "196"
        ],
        [
         "20",
         "20.0",
         "169",
         "197",
         "159"
        ],
        [
         "21",
         "21.0",
         "181",
         "193",
         "148"
        ],
        [
         "22",
         "22.0",
         "141",
         "169",
         "162"
        ],
        [
         "23",
         "23.0",
         "138",
         "138",
         "138"
        ],
        [
         "24",
         "24.0",
         "134",
         "112",
         "106"
        ],
        [
         "25",
         "25.0",
         "125",
         "104",
         "112"
        ],
        [
         "26",
         "26.0",
         "102",
         "123",
         "113"
        ],
        [
         "27",
         "27.0",
         "105",
         "123",
         "100"
        ],
        [
         "28",
         "28.0",
         "107",
         "103",
         "99"
        ],
        [
         "29",
         "29.0",
         "104",
         "101",
         "73"
        ],
        [
         "30",
         "30.0",
         "103",
         "104",
         "54"
        ],
        [
         "31",
         "31.0",
         "89",
         "83",
         "75"
        ],
        [
         "32",
         "32.0",
         "66",
         "76",
         "68"
        ],
        [
         "33",
         "33.0",
         "65",
         "84",
         "63"
        ],
        [
         "34",
         "34.0",
         "66",
         "87",
         "61"
        ],
        [
         "35",
         "35.0",
         "45",
         "55",
         "61"
        ],
        [
         "36",
         "36.0",
         "52",
         "77",
         "51"
        ],
        [
         "37",
         "37.0",
         "65",
         "57",
         "49"
        ],
        [
         "38",
         "38.0",
         "46",
         "62",
         "50"
        ],
        [
         "39",
         "39.0",
         "45",
         "46",
         "33"
        ],
        [
         "40",
         "40.0",
         "51",
         "48",
         "42"
        ],
        [
         "41",
         "41.0",
         "39",
         "56",
         "41"
        ],
        [
         "42",
         "42.0",
         "32",
         "44",
         "35"
        ],
        [
         "43",
         "43.0",
         "31",
         "34",
         "37"
        ],
        [
         "44",
         "44.0",
         "36",
         "46",
         "22"
        ],
        [
         "45",
         "45.0",
         "34",
         "35",
         "32"
        ],
        [
         "46",
         "46.0",
         "20",
         "35",
         "23"
        ],
        [
         "47",
         "47.0",
         "32",
         "22",
         "25"
        ],
        [
         "48",
         "48.0",
         "27",
         "29",
         "26"
        ],
        [
         "49",
         "49.0",
         "29",
         "25",
         "30"
        ]
       ],
       "shape": {
        "columns": 4,
        "rows": 166
       }
      },
      "text/html": [
       "<div>\n",
       "<style scoped>\n",
       "    .dataframe tbody tr th:only-of-type {\n",
       "        vertical-align: middle;\n",
       "    }\n",
       "\n",
       "    .dataframe tbody tr th {\n",
       "        vertical-align: top;\n",
       "    }\n",
       "\n",
       "    .dataframe thead th {\n",
       "        text-align: right;\n",
       "    }\n",
       "</style>\n",
       "<table border=\"1\" class=\"dataframe\">\n",
       "  <thead>\n",
       "    <tr style=\"text-align: right;\">\n",
       "      <th></th>\n",
       "      <th>Steps</th>\n",
       "      <th>Count0</th>\n",
       "      <th>Count1</th>\n",
       "      <th>Count</th>\n",
       "    </tr>\n",
       "  </thead>\n",
       "  <tbody>\n",
       "    <tr>\n",
       "      <th>0</th>\n",
       "      <td>0.0</td>\n",
       "      <td>0</td>\n",
       "      <td>0</td>\n",
       "      <td>0</td>\n",
       "    </tr>\n",
       "    <tr>\n",
       "      <th>1</th>\n",
       "      <td>1.0</td>\n",
       "      <td>785</td>\n",
       "      <td>734</td>\n",
       "      <td>882</td>\n",
       "    </tr>\n",
       "    <tr>\n",
       "      <th>2</th>\n",
       "      <td>2.0</td>\n",
       "      <td>660</td>\n",
       "      <td>622</td>\n",
       "      <td>721</td>\n",
       "    </tr>\n",
       "    <tr>\n",
       "      <th>3</th>\n",
       "      <td>3.0</td>\n",
       "      <td>671</td>\n",
       "      <td>624</td>\n",
       "      <td>673</td>\n",
       "    </tr>\n",
       "    <tr>\n",
       "      <th>4</th>\n",
       "      <td>4.0</td>\n",
       "      <td>561</td>\n",
       "      <td>557</td>\n",
       "      <td>567</td>\n",
       "    </tr>\n",
       "    <tr>\n",
       "      <th>...</th>\n",
       "      <td>...</td>\n",
       "      <td>...</td>\n",
       "      <td>...</td>\n",
       "      <td>...</td>\n",
       "    </tr>\n",
       "    <tr>\n",
       "      <th>161</th>\n",
       "      <td>161.0</td>\n",
       "      <td>0</td>\n",
       "      <td>0</td>\n",
       "      <td>0</td>\n",
       "    </tr>\n",
       "    <tr>\n",
       "      <th>162</th>\n",
       "      <td>162.0</td>\n",
       "      <td>0</td>\n",
       "      <td>0</td>\n",
       "      <td>0</td>\n",
       "    </tr>\n",
       "    <tr>\n",
       "      <th>163</th>\n",
       "      <td>163.0</td>\n",
       "      <td>0</td>\n",
       "      <td>0</td>\n",
       "      <td>0</td>\n",
       "    </tr>\n",
       "    <tr>\n",
       "      <th>164</th>\n",
       "      <td>164.0</td>\n",
       "      <td>0</td>\n",
       "      <td>0</td>\n",
       "      <td>0</td>\n",
       "    </tr>\n",
       "    <tr>\n",
       "      <th>165</th>\n",
       "      <td>165.0</td>\n",
       "      <td>1</td>\n",
       "      <td>0</td>\n",
       "      <td>0</td>\n",
       "    </tr>\n",
       "  </tbody>\n",
       "</table>\n",
       "<p>166 rows × 4 columns</p>\n",
       "</div>"
      ],
      "text/plain": [
       "     Steps  Count0  Count1  Count\n",
       "0      0.0       0       0      0\n",
       "1      1.0     785     734    882\n",
       "2      2.0     660     622    721\n",
       "3      3.0     671     624    673\n",
       "4      4.0     561     557    567\n",
       "..     ...     ...     ...    ...\n",
       "161  161.0       0       0      0\n",
       "162  162.0       0       0      0\n",
       "163  163.0       0       0      0\n",
       "164  164.0       0       0      0\n",
       "165  165.0       1       0      0\n",
       "\n",
       "[166 rows x 4 columns]"
      ]
     },
     "execution_count": 14,
     "metadata": {},
     "output_type": "execute_result"
    }
   ],
   "source": [
    "df_merged = hist_df[0]\n",
    "for i in range(1, len(hist_df)):\n",
    "    df_merged = pd.merge(df_merged, hist_df[i], on=[\"Steps\"], suffixes=(i-1, i))\n",
    "df_merged"
   ]
  },
  {
   "cell_type": "code",
   "execution_count": 15,
   "id": "b9882843",
   "metadata": {},
   "outputs": [
    {
     "data": {
      "application/vnd.microsoft.datawrangler.viewer.v0+json": {
       "columns": [
        {
         "name": "Steps",
         "rawType": "float64",
         "type": "float"
        },
        {
         "name": "Count0",
         "rawType": "int64",
         "type": "integer"
        },
        {
         "name": "Count1",
         "rawType": "int64",
         "type": "integer"
        },
        {
         "name": "Count",
         "rawType": "int64",
         "type": "integer"
        }
       ],
       "ref": "526aa80b-54b8-4ee4-9297-780730720246",
       "rows": [
        [
         "0.0",
         "0",
         "0",
         "0"
        ],
        [
         "1.0",
         "785",
         "734",
         "882"
        ],
        [
         "2.0",
         "660",
         "622",
         "721"
        ],
        [
         "3.0",
         "671",
         "624",
         "673"
        ],
        [
         "4.0",
         "561",
         "557",
         "567"
        ],
        [
         "5.0",
         "514",
         "496",
         "522"
        ],
        [
         "6.0",
         "455",
         "419",
         "475"
        ],
        [
         "7.0",
         "449",
         "394",
         "432"
        ],
        [
         "8.0",
         "430",
         "411",
         "405"
        ],
        [
         "9.0",
         "357",
         "377",
         "413"
        ],
        [
         "10.0",
         "342",
         "303",
         "344"
        ],
        [
         "11.0",
         "313",
         "303",
         "346"
        ],
        [
         "12.0",
         "291",
         "279",
         "294"
        ],
        [
         "13.0",
         "251",
         "280",
         "284"
        ],
        [
         "14.0",
         "255",
         "248",
         "255"
        ],
        [
         "15.0",
         "244",
         "223",
         "232"
        ],
        [
         "16.0",
         "236",
         "216",
         "205"
        ],
        [
         "17.0",
         "200",
         "207",
         "232"
        ],
        [
         "18.0",
         "190",
         "172",
         "196"
        ],
        [
         "19.0",
         "183",
         "195",
         "196"
        ],
        [
         "20.0",
         "169",
         "197",
         "159"
        ],
        [
         "21.0",
         "181",
         "193",
         "148"
        ],
        [
         "22.0",
         "141",
         "169",
         "162"
        ],
        [
         "23.0",
         "138",
         "138",
         "138"
        ],
        [
         "24.0",
         "134",
         "112",
         "106"
        ],
        [
         "25.0",
         "125",
         "104",
         "112"
        ],
        [
         "26.0",
         "102",
         "123",
         "113"
        ],
        [
         "27.0",
         "105",
         "123",
         "100"
        ],
        [
         "28.0",
         "107",
         "103",
         "99"
        ],
        [
         "29.0",
         "104",
         "101",
         "73"
        ],
        [
         "30.0",
         "103",
         "104",
         "54"
        ],
        [
         "31.0",
         "89",
         "83",
         "75"
        ],
        [
         "32.0",
         "66",
         "76",
         "68"
        ],
        [
         "33.0",
         "65",
         "84",
         "63"
        ],
        [
         "34.0",
         "66",
         "87",
         "61"
        ],
        [
         "35.0",
         "45",
         "55",
         "61"
        ],
        [
         "36.0",
         "52",
         "77",
         "51"
        ],
        [
         "37.0",
         "65",
         "57",
         "49"
        ],
        [
         "38.0",
         "46",
         "62",
         "50"
        ],
        [
         "39.0",
         "45",
         "46",
         "33"
        ],
        [
         "40.0",
         "51",
         "48",
         "42"
        ],
        [
         "41.0",
         "39",
         "56",
         "41"
        ],
        [
         "42.0",
         "32",
         "44",
         "35"
        ],
        [
         "43.0",
         "31",
         "34",
         "37"
        ],
        [
         "44.0",
         "36",
         "46",
         "22"
        ],
        [
         "45.0",
         "34",
         "35",
         "32"
        ],
        [
         "46.0",
         "20",
         "35",
         "23"
        ],
        [
         "47.0",
         "32",
         "22",
         "25"
        ],
        [
         "48.0",
         "27",
         "29",
         "26"
        ],
        [
         "49.0",
         "29",
         "25",
         "30"
        ]
       ],
       "shape": {
        "columns": 3,
        "rows": 166
       }
      },
      "text/html": [
       "<div>\n",
       "<style scoped>\n",
       "    .dataframe tbody tr th:only-of-type {\n",
       "        vertical-align: middle;\n",
       "    }\n",
       "\n",
       "    .dataframe tbody tr th {\n",
       "        vertical-align: top;\n",
       "    }\n",
       "\n",
       "    .dataframe thead th {\n",
       "        text-align: right;\n",
       "    }\n",
       "</style>\n",
       "<table border=\"1\" class=\"dataframe\">\n",
       "  <thead>\n",
       "    <tr style=\"text-align: right;\">\n",
       "      <th></th>\n",
       "      <th>Count0</th>\n",
       "      <th>Count1</th>\n",
       "      <th>Count</th>\n",
       "    </tr>\n",
       "    <tr>\n",
       "      <th>Steps</th>\n",
       "      <th></th>\n",
       "      <th></th>\n",
       "      <th></th>\n",
       "    </tr>\n",
       "  </thead>\n",
       "  <tbody>\n",
       "    <tr>\n",
       "      <th>0.0</th>\n",
       "      <td>0</td>\n",
       "      <td>0</td>\n",
       "      <td>0</td>\n",
       "    </tr>\n",
       "    <tr>\n",
       "      <th>1.0</th>\n",
       "      <td>785</td>\n",
       "      <td>734</td>\n",
       "      <td>882</td>\n",
       "    </tr>\n",
       "    <tr>\n",
       "      <th>2.0</th>\n",
       "      <td>660</td>\n",
       "      <td>622</td>\n",
       "      <td>721</td>\n",
       "    </tr>\n",
       "    <tr>\n",
       "      <th>3.0</th>\n",
       "      <td>671</td>\n",
       "      <td>624</td>\n",
       "      <td>673</td>\n",
       "    </tr>\n",
       "    <tr>\n",
       "      <th>4.0</th>\n",
       "      <td>561</td>\n",
       "      <td>557</td>\n",
       "      <td>567</td>\n",
       "    </tr>\n",
       "    <tr>\n",
       "      <th>...</th>\n",
       "      <td>...</td>\n",
       "      <td>...</td>\n",
       "      <td>...</td>\n",
       "    </tr>\n",
       "    <tr>\n",
       "      <th>161.0</th>\n",
       "      <td>0</td>\n",
       "      <td>0</td>\n",
       "      <td>0</td>\n",
       "    </tr>\n",
       "    <tr>\n",
       "      <th>162.0</th>\n",
       "      <td>0</td>\n",
       "      <td>0</td>\n",
       "      <td>0</td>\n",
       "    </tr>\n",
       "    <tr>\n",
       "      <th>163.0</th>\n",
       "      <td>0</td>\n",
       "      <td>0</td>\n",
       "      <td>0</td>\n",
       "    </tr>\n",
       "    <tr>\n",
       "      <th>164.0</th>\n",
       "      <td>0</td>\n",
       "      <td>0</td>\n",
       "      <td>0</td>\n",
       "    </tr>\n",
       "    <tr>\n",
       "      <th>165.0</th>\n",
       "      <td>1</td>\n",
       "      <td>0</td>\n",
       "      <td>0</td>\n",
       "    </tr>\n",
       "  </tbody>\n",
       "</table>\n",
       "<p>166 rows × 3 columns</p>\n",
       "</div>"
      ],
      "text/plain": [
       "       Count0  Count1  Count\n",
       "Steps                       \n",
       "0.0         0       0      0\n",
       "1.0       785     734    882\n",
       "2.0       660     622    721\n",
       "3.0       671     624    673\n",
       "4.0       561     557    567\n",
       "...       ...     ...    ...\n",
       "161.0       0       0      0\n",
       "162.0       0       0      0\n",
       "163.0       0       0      0\n",
       "164.0       0       0      0\n",
       "165.0       1       0      0\n",
       "\n",
       "[166 rows x 3 columns]"
      ]
     },
     "execution_count": 15,
     "metadata": {},
     "output_type": "execute_result"
    }
   ],
   "source": [
    "df_merged.set_index('Steps', drop=True, inplace=True)\n",
    "df_merged"
   ]
  },
  {
   "cell_type": "code",
   "execution_count": 16,
   "id": "abcc0ac5",
   "metadata": {},
   "outputs": [],
   "source": [
    "def get_title():\n",
    "    return f\"Simulation - {program} | {graph_name} | Sched: {sched} | N: {no_simulations:,} | FI: {fault_interval}\""
   ]
  },
  {
   "cell_type": "code",
   "execution_count": 17,
   "id": "2e1cf20c",
   "metadata": {},
   "outputs": [],
   "source": [
    "def get_filename():\n",
    "    return f\"{graph_name}__{sched}__{no_simulations:,}__{fault_interval}__{''.join([str(i) for i in selected_nodes])}{'__duong' if duong_mode else ''}\""
   ]
  },
  {
   "cell_type": "code",
   "execution_count": 18,
   "id": "d120d104",
   "metadata": {},
   "outputs": [
    {
     "name": "stdout",
     "output_type": "stream",
     "text": [
      "Saved plot(s) for plots/coloring/graph_7__0__10,000__1__49__duong.png\n"
     ]
    }
   ],
   "source": [
    "plt.figure(figsize=(16, 8))\n",
    "ax = sns.lineplot(data=df_merged, linewidth=3)\n",
    "ax.set_title(get_title(), fontdict={\"fontsize\": fontsize})\n",
    "\n",
    "# ax.set_yscale(\"log\")\n",
    "for i, line in enumerate(ax.lines):\n",
    "    if i >= 1:\n",
    "        line_style = \"solid\"\n",
    "        line.set_color(next(color_cycle)[0])\n",
    "    else:\n",
    "        line_style = \"dashed\"\n",
    "        line.set_color(\"goldenrod\")\n",
    "    line.set_linestyle(line_style)\n",
    "\n",
    "ax.tick_params(axis=\"x\", labelsize=fontsize)\n",
    "ax.tick_params(axis=\"y\", labelsize=fontsize)\n",
    "ax.xaxis.label.set_size(fontsize)\n",
    "ax.yaxis.label.set_size(fontsize)\n",
    "\n",
    "ax.set_xlabel(\"Steps\")\n",
    "ax.set_ylabel(\"Count\")\n",
    "\n",
    "labels = [\"Random Fault\"]\n",
    "labels.extend(\n",
    "    [\n",
    "        f'Controlled {\"(duong)\" if duong_mode else \"\"} at node {n}'\n",
    "        for n in selected_nodes\n",
    "    ]\n",
    ")\n",
    "custom_lines = [\n",
    "    mlines.Line2D(\n",
    "        [],\n",
    "        [],\n",
    "        color=line.get_color(),\n",
    "        # marker=marker,\n",
    "        label=cat,\n",
    "        linewidth=1,\n",
    "        linestyle=line.get_linestyle(),\n",
    "    )\n",
    "    for line, cat in zip(ax.lines, labels)\n",
    "]\n",
    "plt.rc(\"font\", size=fontsize)\n",
    "plt.legend(handles=custom_lines, fontsize=fontsize * 0.9)\n",
    "file_path = os.path.join(\n",
    "    plots_dir,\n",
    "    program,\n",
    "    f\"{get_filename()}.png\",\n",
    ")\n",
    "plt.savefig(\n",
    "    file_path,\n",
    "    bbox_inches=\"tight\",\n",
    ")\n",
    "plt.close()\n",
    "\n",
    "print(f\"Saved plot(s) for {file_path}\")"
   ]
  },
  {
   "cell_type": "code",
   "execution_count": null,
   "id": "27f8596d",
   "metadata": {},
   "outputs": [],
   "source": []
  }
 ],
 "metadata": {
  "kernelspec": {
   "display_name": "cvf",
   "language": "python",
   "name": "python3"
  },
  "language_info": {
   "codemirror_mode": {
    "name": "ipython",
    "version": 3
   },
   "file_extension": ".py",
   "mimetype": "text/x-python",
   "name": "python",
   "nbconvert_exporter": "python",
   "pygments_lexer": "ipython3",
   "version": "3.13.5"
  }
 },
 "nbformat": 4,
 "nbformat_minor": 5
}
