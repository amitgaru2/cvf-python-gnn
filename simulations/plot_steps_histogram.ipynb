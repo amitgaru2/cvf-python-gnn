{
 "cells": [
  {
   "cell_type": "code",
   "execution_count": 1,
   "id": "eefce604",
   "metadata": {},
   "outputs": [],
   "source": [
    "import os\n",
    "import sys\n",
    "import numpy as np\n",
    "import pandas as pd\n",
    "import seaborn as sns\n",
    "import matplotlib.lines as mlines\n",
    "\n",
    "from itertools import cycle\n",
    "from matplotlib import pyplot as plt\n",
    "\n",
    "from simulation import SimulationMixin\n"
   ]
  },
  {
   "cell_type": "code",
   "execution_count": 2,
   "id": "d79baab0",
   "metadata": {},
   "outputs": [],
   "source": [
    "fontsize = 20\n",
    "\n",
    "plots_dir = \"plots\""
   ]
  },
  {
   "cell_type": "code",
   "execution_count": 3,
   "id": "3e559f48",
   "metadata": {},
   "outputs": [],
   "source": [
    "colors = [(\"red\", \"red\"), (\"green\", \"green\"), (\"blue\", \"blue\"), (\"orange\", \"orange\")]\n",
    "color_cycle = cycle(colors)"
   ]
  },
  {
   "cell_type": "code",
   "execution_count": 4,
   "id": "be2757ec",
   "metadata": {},
   "outputs": [],
   "source": [
    "program = \"coloring\"\n",
    "# program = \"maximal_matching\"\n",
    "# program = \"dijkstra\"\n",
    "# graph_name = \"graph_powerlaw_cluster_graph_n7\"\n",
    "# graph_name = \"implicit_graph_n8\"\n",
    "graph_name = \"graph_10\"\n",
    "sched = 0\n",
    "no_simulations = 500000\n",
    "me = False\n",
    "fault_interval = 1\n",
    "\n",
    "duong_mode = True\n",
    "\n",
    "selected_nodes = [0, 4, 7, 9]"
   ]
  },
  {
   "cell_type": "code",
   "execution_count": 5,
   "id": "2787883a",
   "metadata": {},
   "outputs": [],
   "source": [
    "def get_filename(graph_name, sched, simulation_type, args, no_simulations, me, fault_interval):\n",
    "    return f\"{graph_name}__{sched}__{simulation_type}_args_{args}__{no_simulations}__{me}__{fault_interval}\""
   ]
  },
  {
   "cell_type": "code",
   "execution_count": 6,
   "id": "7323b6fb",
   "metadata": {},
   "outputs": [],
   "source": [
    "filenames = [\n",
    "    get_filename(\n",
    "        graph_name,\n",
    "        sched,\n",
    "        SimulationMixin.RANDOM_FAULT_SIMULATION_TYPE,\n",
    "        \"\",\n",
    "        no_simulations,\n",
    "        me,\n",
    "        fault_interval,\n",
    "    )\n",
    "]\n",
    "if duong_mode:\n",
    "    filenames.extend(\n",
    "        [\n",
    "            get_filename(\n",
    "                graph_name,\n",
    "                sched,\n",
    "                SimulationMixin.CONTROLLED_FAULT_AT_NODE_SIMULATION_TYPE_DUONG,\n",
    "                arg,\n",
    "                no_simulations,\n",
    "                me,\n",
    "                fault_interval,\n",
    "            )\n",
    "            for arg in selected_nodes\n",
    "        ]\n",
    "    )\n",
    "else:\n",
    "    filenames.extend(\n",
    "        [\n",
    "            get_filename(\n",
    "                graph_name,\n",
    "                sched,\n",
    "                SimulationMixin.CONTROLLED_FAULT_AT_NODE_SIMULATION_TYPE,\n",
    "                arg,\n",
    "                no_simulations,\n",
    "                me,\n",
    "                fault_interval,\n",
    "            )\n",
    "            for arg in selected_nodes\n",
    "        ]\n",
    "    )\n"
   ]
  },
  {
   "cell_type": "code",
   "execution_count": 7,
   "id": "aaf5e293",
   "metadata": {},
   "outputs": [],
   "source": [
    "dfs = [pd.read_csv(os.path.join(\"results\", program, f\"{fn}.csv\")) for fn in filenames]"
   ]
  },
  {
   "cell_type": "code",
   "execution_count": 8,
   "id": "1b3e251a",
   "metadata": {},
   "outputs": [
    {
     "data": {
      "text/plain": [
       "np.int64(11)"
      ]
     },
     "execution_count": 8,
     "metadata": {},
     "output_type": "execute_result"
    }
   ],
   "source": [
    "max_steps = max(df['Steps'].max() for df in dfs)\n",
    "max_steps"
   ]
  },
  {
   "cell_type": "code",
   "execution_count": 9,
   "id": "25fce55f",
   "metadata": {},
   "outputs": [],
   "source": [
    "bins = np.linspace(0, max_steps, max_steps+1)\n",
    "# bin_centers = (bins[:-1] + bins[1:]) / 2\n",
    "bin_centers = bins"
   ]
  },
  {
   "cell_type": "code",
   "execution_count": 10,
   "id": "b036df11",
   "metadata": {},
   "outputs": [
    {
     "data": {
      "text/plain": [
       "array([ 0.,  1.,  2.,  3.,  4.,  5.,  6.,  7.,  8.,  9., 10., 11.])"
      ]
     },
     "execution_count": 10,
     "metadata": {},
     "output_type": "execute_result"
    }
   ],
   "source": [
    "bins"
   ]
  },
  {
   "cell_type": "code",
   "execution_count": 11,
   "id": "1e7c0e7d",
   "metadata": {},
   "outputs": [
    {
     "data": {
      "text/plain": [
       "array([     0,  26230, 185701, 151636,  85112,  35464,  11705,   3318,\n",
       "          701,    118,     15])"
      ]
     },
     "execution_count": 11,
     "metadata": {},
     "output_type": "execute_result"
    }
   ],
   "source": [
    "hist_data = [np.histogram(df['Steps'], bins=bins) for df in dfs]\n",
    "hist_data[0][0]"
   ]
  },
  {
   "cell_type": "code",
   "execution_count": 12,
   "id": "8b62d07c",
   "metadata": {},
   "outputs": [],
   "source": [
    "hist_data = [np.histogram(df['Steps'], bins=bins) for df in dfs]\n",
    "hist_df = []\n",
    "for hd in hist_data:\n",
    "    hist_df.append(\n",
    "        pd.DataFrame({\n",
    "            'Steps': bin_centers[:-1],\n",
    "            'Count': hd[0]\n",
    "        })\n",
    "    )"
   ]
  },
  {
   "cell_type": "code",
   "execution_count": 13,
   "id": "6e8f39c6",
   "metadata": {},
   "outputs": [
    {
     "data": {
      "application/vnd.microsoft.datawrangler.viewer.v0+json": {
       "columns": [
        {
         "name": "index",
         "rawType": "int64",
         "type": "integer"
        },
        {
         "name": "Steps",
         "rawType": "float64",
         "type": "float"
        },
        {
         "name": "Count",
         "rawType": "int64",
         "type": "integer"
        }
       ],
       "ref": "fab0de14-6369-4e19-8ba6-e313700a5992",
       "rows": [
        [
         "0",
         "0.0",
         "0"
        ],
        [
         "1",
         "1.0",
         "26230"
        ],
        [
         "2",
         "2.0",
         "185701"
        ],
        [
         "3",
         "3.0",
         "151636"
        ],
        [
         "4",
         "4.0",
         "85112"
        ],
        [
         "5",
         "5.0",
         "35464"
        ],
        [
         "6",
         "6.0",
         "11705"
        ],
        [
         "7",
         "7.0",
         "3318"
        ],
        [
         "8",
         "8.0",
         "701"
        ],
        [
         "9",
         "9.0",
         "118"
        ],
        [
         "10",
         "10.0",
         "15"
        ]
       ],
       "shape": {
        "columns": 2,
        "rows": 11
       }
      },
      "text/html": [
       "<div>\n",
       "<style scoped>\n",
       "    .dataframe tbody tr th:only-of-type {\n",
       "        vertical-align: middle;\n",
       "    }\n",
       "\n",
       "    .dataframe tbody tr th {\n",
       "        vertical-align: top;\n",
       "    }\n",
       "\n",
       "    .dataframe thead th {\n",
       "        text-align: right;\n",
       "    }\n",
       "</style>\n",
       "<table border=\"1\" class=\"dataframe\">\n",
       "  <thead>\n",
       "    <tr style=\"text-align: right;\">\n",
       "      <th></th>\n",
       "      <th>Steps</th>\n",
       "      <th>Count</th>\n",
       "    </tr>\n",
       "  </thead>\n",
       "  <tbody>\n",
       "    <tr>\n",
       "      <th>0</th>\n",
       "      <td>0.0</td>\n",
       "      <td>0</td>\n",
       "    </tr>\n",
       "    <tr>\n",
       "      <th>1</th>\n",
       "      <td>1.0</td>\n",
       "      <td>26230</td>\n",
       "    </tr>\n",
       "    <tr>\n",
       "      <th>2</th>\n",
       "      <td>2.0</td>\n",
       "      <td>185701</td>\n",
       "    </tr>\n",
       "    <tr>\n",
       "      <th>3</th>\n",
       "      <td>3.0</td>\n",
       "      <td>151636</td>\n",
       "    </tr>\n",
       "    <tr>\n",
       "      <th>4</th>\n",
       "      <td>4.0</td>\n",
       "      <td>85112</td>\n",
       "    </tr>\n",
       "    <tr>\n",
       "      <th>5</th>\n",
       "      <td>5.0</td>\n",
       "      <td>35464</td>\n",
       "    </tr>\n",
       "    <tr>\n",
       "      <th>6</th>\n",
       "      <td>6.0</td>\n",
       "      <td>11705</td>\n",
       "    </tr>\n",
       "    <tr>\n",
       "      <th>7</th>\n",
       "      <td>7.0</td>\n",
       "      <td>3318</td>\n",
       "    </tr>\n",
       "    <tr>\n",
       "      <th>8</th>\n",
       "      <td>8.0</td>\n",
       "      <td>701</td>\n",
       "    </tr>\n",
       "    <tr>\n",
       "      <th>9</th>\n",
       "      <td>9.0</td>\n",
       "      <td>118</td>\n",
       "    </tr>\n",
       "    <tr>\n",
       "      <th>10</th>\n",
       "      <td>10.0</td>\n",
       "      <td>15</td>\n",
       "    </tr>\n",
       "  </tbody>\n",
       "</table>\n",
       "</div>"
      ],
      "text/plain": [
       "    Steps   Count\n",
       "0     0.0       0\n",
       "1     1.0   26230\n",
       "2     2.0  185701\n",
       "3     3.0  151636\n",
       "4     4.0   85112\n",
       "5     5.0   35464\n",
       "6     6.0   11705\n",
       "7     7.0    3318\n",
       "8     8.0     701\n",
       "9     9.0     118\n",
       "10   10.0      15"
      ]
     },
     "execution_count": 13,
     "metadata": {},
     "output_type": "execute_result"
    }
   ],
   "source": [
    "hist_df[0]"
   ]
  },
  {
   "cell_type": "code",
   "execution_count": 14,
   "id": "b21c6225",
   "metadata": {},
   "outputs": [
    {
     "data": {
      "application/vnd.microsoft.datawrangler.viewer.v0+json": {
       "columns": [
        {
         "name": "index",
         "rawType": "int64",
         "type": "integer"
        },
        {
         "name": "Steps",
         "rawType": "float64",
         "type": "float"
        },
        {
         "name": "Count0",
         "rawType": "int64",
         "type": "integer"
        },
        {
         "name": "Count1",
         "rawType": "int64",
         "type": "integer"
        },
        {
         "name": "Count2",
         "rawType": "int64",
         "type": "integer"
        },
        {
         "name": "Count3",
         "rawType": "int64",
         "type": "integer"
        },
        {
         "name": "Count",
         "rawType": "int64",
         "type": "integer"
        }
       ],
       "ref": "8f2db30d-071f-42d5-aea2-81d4fb1b76bf",
       "rows": [
        [
         "0",
         "0.0",
         "0",
         "0",
         "0",
         "0",
         "0"
        ],
        [
         "1",
         "1.0",
         "26230",
         "23110",
         "22419",
         "22900",
         "27381"
        ],
        [
         "2",
         "2.0",
         "185701",
         "187064",
         "187496",
         "187490",
         "184844"
        ],
        [
         "3",
         "3.0",
         "151636",
         "153176",
         "153430",
         "152970",
         "151651"
        ],
        [
         "4",
         "4.0",
         "85112",
         "85018",
         "84659",
         "85046",
         "84603"
        ],
        [
         "5",
         "5.0",
         "35464",
         "35860",
         "36031",
         "35880",
         "35698"
        ],
        [
         "6",
         "6.0",
         "11705",
         "11567",
         "11720",
         "11558",
         "11684"
        ],
        [
         "7",
         "7.0",
         "3318",
         "3326",
         "3320",
         "3305",
         "3251"
        ],
        [
         "8",
         "8.0",
         "701",
         "718",
         "776",
         "720",
         "756"
        ],
        [
         "9",
         "9.0",
         "118",
         "143",
         "135",
         "115",
         "123"
        ],
        [
         "10",
         "10.0",
         "15",
         "18",
         "14",
         "16",
         "9"
        ]
       ],
       "shape": {
        "columns": 6,
        "rows": 11
       }
      },
      "text/html": [
       "<div>\n",
       "<style scoped>\n",
       "    .dataframe tbody tr th:only-of-type {\n",
       "        vertical-align: middle;\n",
       "    }\n",
       "\n",
       "    .dataframe tbody tr th {\n",
       "        vertical-align: top;\n",
       "    }\n",
       "\n",
       "    .dataframe thead th {\n",
       "        text-align: right;\n",
       "    }\n",
       "</style>\n",
       "<table border=\"1\" class=\"dataframe\">\n",
       "  <thead>\n",
       "    <tr style=\"text-align: right;\">\n",
       "      <th></th>\n",
       "      <th>Steps</th>\n",
       "      <th>Count0</th>\n",
       "      <th>Count1</th>\n",
       "      <th>Count2</th>\n",
       "      <th>Count3</th>\n",
       "      <th>Count</th>\n",
       "    </tr>\n",
       "  </thead>\n",
       "  <tbody>\n",
       "    <tr>\n",
       "      <th>0</th>\n",
       "      <td>0.0</td>\n",
       "      <td>0</td>\n",
       "      <td>0</td>\n",
       "      <td>0</td>\n",
       "      <td>0</td>\n",
       "      <td>0</td>\n",
       "    </tr>\n",
       "    <tr>\n",
       "      <th>1</th>\n",
       "      <td>1.0</td>\n",
       "      <td>26230</td>\n",
       "      <td>23110</td>\n",
       "      <td>22419</td>\n",
       "      <td>22900</td>\n",
       "      <td>27381</td>\n",
       "    </tr>\n",
       "    <tr>\n",
       "      <th>2</th>\n",
       "      <td>2.0</td>\n",
       "      <td>185701</td>\n",
       "      <td>187064</td>\n",
       "      <td>187496</td>\n",
       "      <td>187490</td>\n",
       "      <td>184844</td>\n",
       "    </tr>\n",
       "    <tr>\n",
       "      <th>3</th>\n",
       "      <td>3.0</td>\n",
       "      <td>151636</td>\n",
       "      <td>153176</td>\n",
       "      <td>153430</td>\n",
       "      <td>152970</td>\n",
       "      <td>151651</td>\n",
       "    </tr>\n",
       "    <tr>\n",
       "      <th>4</th>\n",
       "      <td>4.0</td>\n",
       "      <td>85112</td>\n",
       "      <td>85018</td>\n",
       "      <td>84659</td>\n",
       "      <td>85046</td>\n",
       "      <td>84603</td>\n",
       "    </tr>\n",
       "    <tr>\n",
       "      <th>5</th>\n",
       "      <td>5.0</td>\n",
       "      <td>35464</td>\n",
       "      <td>35860</td>\n",
       "      <td>36031</td>\n",
       "      <td>35880</td>\n",
       "      <td>35698</td>\n",
       "    </tr>\n",
       "    <tr>\n",
       "      <th>6</th>\n",
       "      <td>6.0</td>\n",
       "      <td>11705</td>\n",
       "      <td>11567</td>\n",
       "      <td>11720</td>\n",
       "      <td>11558</td>\n",
       "      <td>11684</td>\n",
       "    </tr>\n",
       "    <tr>\n",
       "      <th>7</th>\n",
       "      <td>7.0</td>\n",
       "      <td>3318</td>\n",
       "      <td>3326</td>\n",
       "      <td>3320</td>\n",
       "      <td>3305</td>\n",
       "      <td>3251</td>\n",
       "    </tr>\n",
       "    <tr>\n",
       "      <th>8</th>\n",
       "      <td>8.0</td>\n",
       "      <td>701</td>\n",
       "      <td>718</td>\n",
       "      <td>776</td>\n",
       "      <td>720</td>\n",
       "      <td>756</td>\n",
       "    </tr>\n",
       "    <tr>\n",
       "      <th>9</th>\n",
       "      <td>9.0</td>\n",
       "      <td>118</td>\n",
       "      <td>143</td>\n",
       "      <td>135</td>\n",
       "      <td>115</td>\n",
       "      <td>123</td>\n",
       "    </tr>\n",
       "    <tr>\n",
       "      <th>10</th>\n",
       "      <td>10.0</td>\n",
       "      <td>15</td>\n",
       "      <td>18</td>\n",
       "      <td>14</td>\n",
       "      <td>16</td>\n",
       "      <td>9</td>\n",
       "    </tr>\n",
       "  </tbody>\n",
       "</table>\n",
       "</div>"
      ],
      "text/plain": [
       "    Steps  Count0  Count1  Count2  Count3   Count\n",
       "0     0.0       0       0       0       0       0\n",
       "1     1.0   26230   23110   22419   22900   27381\n",
       "2     2.0  185701  187064  187496  187490  184844\n",
       "3     3.0  151636  153176  153430  152970  151651\n",
       "4     4.0   85112   85018   84659   85046   84603\n",
       "5     5.0   35464   35860   36031   35880   35698\n",
       "6     6.0   11705   11567   11720   11558   11684\n",
       "7     7.0    3318    3326    3320    3305    3251\n",
       "8     8.0     701     718     776     720     756\n",
       "9     9.0     118     143     135     115     123\n",
       "10   10.0      15      18      14      16       9"
      ]
     },
     "execution_count": 14,
     "metadata": {},
     "output_type": "execute_result"
    }
   ],
   "source": [
    "df_merged = hist_df[0]\n",
    "for i in range(1, len(hist_df)):\n",
    "    df_merged = pd.merge(df_merged, hist_df[i], on=[\"Steps\"], suffixes=(i-1, i))\n",
    "df_merged"
   ]
  },
  {
   "cell_type": "code",
   "execution_count": 15,
   "id": "b9882843",
   "metadata": {},
   "outputs": [
    {
     "data": {
      "application/vnd.microsoft.datawrangler.viewer.v0+json": {
       "columns": [
        {
         "name": "Steps",
         "rawType": "float64",
         "type": "float"
        },
        {
         "name": "Count0",
         "rawType": "int64",
         "type": "integer"
        },
        {
         "name": "Count1",
         "rawType": "int64",
         "type": "integer"
        },
        {
         "name": "Count2",
         "rawType": "int64",
         "type": "integer"
        },
        {
         "name": "Count3",
         "rawType": "int64",
         "type": "integer"
        },
        {
         "name": "Count",
         "rawType": "int64",
         "type": "integer"
        }
       ],
       "ref": "01538ee0-69c6-45cc-9497-c3d472fe2847",
       "rows": [
        [
         "0.0",
         "0",
         "0",
         "0",
         "0",
         "0"
        ],
        [
         "1.0",
         "26230",
         "23110",
         "22419",
         "22900",
         "27381"
        ],
        [
         "2.0",
         "185701",
         "187064",
         "187496",
         "187490",
         "184844"
        ],
        [
         "3.0",
         "151636",
         "153176",
         "153430",
         "152970",
         "151651"
        ],
        [
         "4.0",
         "85112",
         "85018",
         "84659",
         "85046",
         "84603"
        ],
        [
         "5.0",
         "35464",
         "35860",
         "36031",
         "35880",
         "35698"
        ],
        [
         "6.0",
         "11705",
         "11567",
         "11720",
         "11558",
         "11684"
        ],
        [
         "7.0",
         "3318",
         "3326",
         "3320",
         "3305",
         "3251"
        ],
        [
         "8.0",
         "701",
         "718",
         "776",
         "720",
         "756"
        ],
        [
         "9.0",
         "118",
         "143",
         "135",
         "115",
         "123"
        ],
        [
         "10.0",
         "15",
         "18",
         "14",
         "16",
         "9"
        ]
       ],
       "shape": {
        "columns": 5,
        "rows": 11
       }
      },
      "text/html": [
       "<div>\n",
       "<style scoped>\n",
       "    .dataframe tbody tr th:only-of-type {\n",
       "        vertical-align: middle;\n",
       "    }\n",
       "\n",
       "    .dataframe tbody tr th {\n",
       "        vertical-align: top;\n",
       "    }\n",
       "\n",
       "    .dataframe thead th {\n",
       "        text-align: right;\n",
       "    }\n",
       "</style>\n",
       "<table border=\"1\" class=\"dataframe\">\n",
       "  <thead>\n",
       "    <tr style=\"text-align: right;\">\n",
       "      <th></th>\n",
       "      <th>Count0</th>\n",
       "      <th>Count1</th>\n",
       "      <th>Count2</th>\n",
       "      <th>Count3</th>\n",
       "      <th>Count</th>\n",
       "    </tr>\n",
       "    <tr>\n",
       "      <th>Steps</th>\n",
       "      <th></th>\n",
       "      <th></th>\n",
       "      <th></th>\n",
       "      <th></th>\n",
       "      <th></th>\n",
       "    </tr>\n",
       "  </thead>\n",
       "  <tbody>\n",
       "    <tr>\n",
       "      <th>0.0</th>\n",
       "      <td>0</td>\n",
       "      <td>0</td>\n",
       "      <td>0</td>\n",
       "      <td>0</td>\n",
       "      <td>0</td>\n",
       "    </tr>\n",
       "    <tr>\n",
       "      <th>1.0</th>\n",
       "      <td>26230</td>\n",
       "      <td>23110</td>\n",
       "      <td>22419</td>\n",
       "      <td>22900</td>\n",
       "      <td>27381</td>\n",
       "    </tr>\n",
       "    <tr>\n",
       "      <th>2.0</th>\n",
       "      <td>185701</td>\n",
       "      <td>187064</td>\n",
       "      <td>187496</td>\n",
       "      <td>187490</td>\n",
       "      <td>184844</td>\n",
       "    </tr>\n",
       "    <tr>\n",
       "      <th>3.0</th>\n",
       "      <td>151636</td>\n",
       "      <td>153176</td>\n",
       "      <td>153430</td>\n",
       "      <td>152970</td>\n",
       "      <td>151651</td>\n",
       "    </tr>\n",
       "    <tr>\n",
       "      <th>4.0</th>\n",
       "      <td>85112</td>\n",
       "      <td>85018</td>\n",
       "      <td>84659</td>\n",
       "      <td>85046</td>\n",
       "      <td>84603</td>\n",
       "    </tr>\n",
       "    <tr>\n",
       "      <th>5.0</th>\n",
       "      <td>35464</td>\n",
       "      <td>35860</td>\n",
       "      <td>36031</td>\n",
       "      <td>35880</td>\n",
       "      <td>35698</td>\n",
       "    </tr>\n",
       "    <tr>\n",
       "      <th>6.0</th>\n",
       "      <td>11705</td>\n",
       "      <td>11567</td>\n",
       "      <td>11720</td>\n",
       "      <td>11558</td>\n",
       "      <td>11684</td>\n",
       "    </tr>\n",
       "    <tr>\n",
       "      <th>7.0</th>\n",
       "      <td>3318</td>\n",
       "      <td>3326</td>\n",
       "      <td>3320</td>\n",
       "      <td>3305</td>\n",
       "      <td>3251</td>\n",
       "    </tr>\n",
       "    <tr>\n",
       "      <th>8.0</th>\n",
       "      <td>701</td>\n",
       "      <td>718</td>\n",
       "      <td>776</td>\n",
       "      <td>720</td>\n",
       "      <td>756</td>\n",
       "    </tr>\n",
       "    <tr>\n",
       "      <th>9.0</th>\n",
       "      <td>118</td>\n",
       "      <td>143</td>\n",
       "      <td>135</td>\n",
       "      <td>115</td>\n",
       "      <td>123</td>\n",
       "    </tr>\n",
       "    <tr>\n",
       "      <th>10.0</th>\n",
       "      <td>15</td>\n",
       "      <td>18</td>\n",
       "      <td>14</td>\n",
       "      <td>16</td>\n",
       "      <td>9</td>\n",
       "    </tr>\n",
       "  </tbody>\n",
       "</table>\n",
       "</div>"
      ],
      "text/plain": [
       "       Count0  Count1  Count2  Count3   Count\n",
       "Steps                                        \n",
       "0.0         0       0       0       0       0\n",
       "1.0     26230   23110   22419   22900   27381\n",
       "2.0    185701  187064  187496  187490  184844\n",
       "3.0    151636  153176  153430  152970  151651\n",
       "4.0     85112   85018   84659   85046   84603\n",
       "5.0     35464   35860   36031   35880   35698\n",
       "6.0     11705   11567   11720   11558   11684\n",
       "7.0      3318    3326    3320    3305    3251\n",
       "8.0       701     718     776     720     756\n",
       "9.0       118     143     135     115     123\n",
       "10.0       15      18      14      16       9"
      ]
     },
     "execution_count": 15,
     "metadata": {},
     "output_type": "execute_result"
    }
   ],
   "source": [
    "df_merged.set_index('Steps', drop=True, inplace=True)\n",
    "df_merged"
   ]
  },
  {
   "cell_type": "code",
   "execution_count": 16,
   "id": "abcc0ac5",
   "metadata": {},
   "outputs": [],
   "source": [
    "def get_title():\n",
    "    return f\"Simulation - {program} | {graph_name} | Sched: {sched} | N: {no_simulations:,} | FI: {fault_interval}\""
   ]
  },
  {
   "cell_type": "code",
   "execution_count": 17,
   "id": "2e1cf20c",
   "metadata": {},
   "outputs": [],
   "source": [
    "def get_filename():\n",
    "    return f\"{graph_name}__{sched}__{no_simulations:,}__{fault_interval}__{''.join([str(i) for i in selected_nodes])}{'__duong' if duong_mode else ''}\""
   ]
  },
  {
   "cell_type": "code",
   "execution_count": 18,
   "id": "d120d104",
   "metadata": {},
   "outputs": [
    {
     "name": "stdout",
     "output_type": "stream",
     "text": [
      "Saved plot(s) for plots/coloring/graph_10__0__500,000__1__0479__duong.png\n"
     ]
    }
   ],
   "source": [
    "plt.figure(figsize=(16, 8))\n",
    "ax = sns.lineplot(data=df_merged, marker=\"o\", linewidth=3)\n",
    "ax.set_title(get_title(), fontdict={\"fontsize\": fontsize})\n",
    "\n",
    "# ax.set_yscale(\"log\")\n",
    "for i, line in enumerate(ax.lines):\n",
    "    if i >= 1:\n",
    "        line_style = \"solid\"\n",
    "        line.set_color(next(color_cycle)[0])\n",
    "    else:\n",
    "        line_style = \"dashed\"\n",
    "        line.set_color(\"goldenrod\")\n",
    "    line.set_linestyle(line_style)\n",
    "\n",
    "ax.tick_params(axis=\"x\", labelsize=fontsize)\n",
    "ax.tick_params(axis=\"y\", labelsize=fontsize)\n",
    "ax.xaxis.label.set_size(fontsize)\n",
    "ax.yaxis.label.set_size(fontsize)\n",
    "\n",
    "ax.set_xlabel(\"Steps\")\n",
    "ax.set_ylabel(\"Count\")\n",
    "\n",
    "labels = [\"Random Fault\"]\n",
    "labels.extend(\n",
    "    [\n",
    "        f'Controlled {\"(duong)\" if duong_mode else \"\"} at node {n}'\n",
    "        for n in selected_nodes\n",
    "    ]\n",
    ")\n",
    "custom_lines = [\n",
    "    mlines.Line2D(\n",
    "        [],\n",
    "        [],\n",
    "        color=line.get_color(),\n",
    "        # marker=marker,\n",
    "        label=cat,\n",
    "        linewidth=1,\n",
    "        linestyle=line.get_linestyle(),\n",
    "    )\n",
    "    for line, cat in zip(ax.lines, labels)\n",
    "]\n",
    "plt.rc(\"font\", size=fontsize)\n",
    "plt.legend(handles=custom_lines, fontsize=fontsize * 0.9)\n",
    "file_path = os.path.join(\n",
    "    plots_dir,\n",
    "    program,\n",
    "    f\"{get_filename()}.png\",\n",
    ")\n",
    "plt.savefig(\n",
    "    file_path,\n",
    "    bbox_inches=\"tight\",\n",
    ")\n",
    "plt.close()\n",
    "\n",
    "print(f\"Saved plot(s) for {file_path}\")"
   ]
  },
  {
   "cell_type": "code",
   "execution_count": null,
   "id": "27f8596d",
   "metadata": {},
   "outputs": [],
   "source": []
  }
 ],
 "metadata": {
  "kernelspec": {
   "display_name": "Python 3",
   "language": "python",
   "name": "python3"
  },
  "language_info": {
   "codemirror_mode": {
    "name": "ipython",
    "version": 3
   },
   "file_extension": ".py",
   "mimetype": "text/x-python",
   "name": "python",
   "nbconvert_exporter": "python",
   "pygments_lexer": "ipython3",
   "version": "3.13.5"
  }
 },
 "nbformat": 4,
 "nbformat_minor": 5
}
