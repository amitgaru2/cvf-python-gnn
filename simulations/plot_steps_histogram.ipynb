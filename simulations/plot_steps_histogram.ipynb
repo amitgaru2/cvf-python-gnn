{
 "cells": [
  {
   "cell_type": "code",
   "execution_count": 1,
   "id": "eefce604",
   "metadata": {},
   "outputs": [],
   "source": [
    "import os\n",
    "import sys\n",
    "import numpy as np\n",
    "import pandas as pd\n",
    "import seaborn as sns\n",
    "import matplotlib.lines as mlines\n",
    "\n",
    "from itertools import cycle\n",
    "from matplotlib import pyplot as plt\n",
    "\n",
    "from simulation import SimulationMixin\n"
   ]
  },
  {
   "cell_type": "code",
   "execution_count": 2,
   "id": "d79baab0",
   "metadata": {},
   "outputs": [],
   "source": [
    "fontsize = 20\n",
    "\n",
    "plots_dir = \"plots\""
   ]
  },
  {
   "cell_type": "code",
   "execution_count": 3,
   "id": "3e559f48",
   "metadata": {},
   "outputs": [],
   "source": [
    "colors = [(\"red\", \"red\"), (\"green\", \"green\"), (\"blue\", \"blue\"), (\"orange\", \"orange\")]\n",
    "color_cycle = cycle(colors)"
   ]
  },
  {
   "cell_type": "code",
   "execution_count": null,
   "id": "be2757ec",
   "metadata": {},
   "outputs": [],
   "source": [
    "program = \"coloring\"\n",
    "# program = \"maximal_matching\"\n",
    "# program = \"dijkstra\"\n",
    "# graph_name = \"graph_powerlaw_cluster_graph_n7\"\n",
    "# graph_name = \"implicit_graph_n8\"\n",
    "graph_name = \"graph_10\"\n",
    "sched = 0\n",
    "no_simulations = 500000\n",
    "me = False\n",
    "fault_interval = 1\n",
    "\n",
    "duong_mode = True\n",
    "\n",
    "selected_nodes = [0, 4, 7, 9]"
   ]
  },
  {
   "cell_type": "code",
   "execution_count": 5,
   "id": "2787883a",
   "metadata": {},
   "outputs": [],
   "source": [
    "def get_filename(graph_name, sched, simulation_type, args, no_simulations, me, fault_interval):\n",
    "    return f\"{graph_name}__{sched}__{simulation_type}_args_{args}__{no_simulations}__{me}__{fault_interval}\""
   ]
  },
  {
   "cell_type": "code",
   "execution_count": 6,
   "id": "7323b6fb",
   "metadata": {},
   "outputs": [],
   "source": [
    "filenames = [\n",
    "    get_filename(\n",
    "        graph_name,\n",
    "        sched,\n",
    "        SimulationMixin.RANDOM_FAULT_SIMULATION_TYPE,\n",
    "        \"\",\n",
    "        no_simulations,\n",
    "        me,\n",
    "        fault_interval,\n",
    "    )\n",
    "]\n",
    "if duong_mode:\n",
    "    filenames.extend(\n",
    "        [\n",
    "            get_filename(\n",
    "                graph_name,\n",
    "                sched,\n",
    "                SimulationMixin.CONTROLLED_FAULT_AT_NODE_SIMULATION_TYPE_DUONG,\n",
    "                arg,\n",
    "                no_simulations,\n",
    "                me,\n",
    "                fault_interval,\n",
    "            )\n",
    "            for arg in selected_nodes\n",
    "        ]\n",
    "    )\n",
    "else:\n",
    "    filenames.extend(\n",
    "        [\n",
    "            get_filename(\n",
    "                graph_name,\n",
    "                sched,\n",
    "                SimulationMixin.CONTROLLED_FAULT_AT_NODE_SIMULATION_TYPE,\n",
    "                arg,\n",
    "                no_simulations,\n",
    "                me,\n",
    "                fault_interval,\n",
    "            )\n",
    "            for arg in selected_nodes\n",
    "        ]\n",
    "    )\n"
   ]
  },
  {
   "cell_type": "code",
   "execution_count": 7,
   "id": "aaf5e293",
   "metadata": {},
   "outputs": [],
   "source": [
    "dfs = [pd.read_csv(os.path.join(\"results\", program, f\"{fn}.csv\")) for fn in filenames]"
   ]
  },
  {
   "cell_type": "code",
   "execution_count": 8,
   "id": "1b3e251a",
   "metadata": {},
   "outputs": [
    {
     "data": {
      "text/plain": [
       "np.int64(13)"
      ]
     },
     "execution_count": 8,
     "metadata": {},
     "output_type": "execute_result"
    }
   ],
   "source": [
    "max_steps = max(df['Steps'].max() for df in dfs)\n",
    "max_steps"
   ]
  },
  {
   "cell_type": "code",
   "execution_count": 9,
   "id": "25fce55f",
   "metadata": {},
   "outputs": [],
   "source": [
    "bins = np.linspace(0, max_steps, max_steps+1)\n",
    "# bin_centers = (bins[:-1] + bins[1:]) / 2\n",
    "bin_centers = bins"
   ]
  },
  {
   "cell_type": "code",
   "execution_count": 10,
   "id": "b036df11",
   "metadata": {},
   "outputs": [
    {
     "data": {
      "text/plain": [
       "array([ 0.,  1.,  2.,  3.,  4.,  5.,  6.,  7.,  8.,  9., 10., 11., 12.,\n",
       "       13.])"
      ]
     },
     "execution_count": 10,
     "metadata": {},
     "output_type": "execute_result"
    }
   ],
   "source": [
    "bins"
   ]
  },
  {
   "cell_type": "code",
   "execution_count": 11,
   "id": "1e7c0e7d",
   "metadata": {},
   "outputs": [
    {
     "data": {
      "text/plain": [
       "array([    0, 35447, 72122, 73274, 74128, 73105, 66074, 50560, 31985,\n",
       "       15823,  5761,  1480,   241])"
      ]
     },
     "execution_count": 11,
     "metadata": {},
     "output_type": "execute_result"
    }
   ],
   "source": [
    "hist_data = [np.histogram(df['Steps'], bins=bins) for df in dfs]\n",
    "hist_data[0][0]"
   ]
  },
  {
   "cell_type": "code",
   "execution_count": 12,
   "id": "8b62d07c",
   "metadata": {},
   "outputs": [],
   "source": [
    "hist_data = [np.histogram(df['Steps'], bins=bins) for df in dfs]\n",
    "hist_df = []\n",
    "for hd in hist_data:\n",
    "    hist_df.append(\n",
    "        pd.DataFrame({\n",
    "            'Steps': bin_centers[:-1],\n",
    "            'Count': hd[0]\n",
    "        })\n",
    "    )"
   ]
  },
  {
   "cell_type": "code",
   "execution_count": 13,
   "id": "6e8f39c6",
   "metadata": {},
   "outputs": [
    {
     "data": {
      "application/vnd.microsoft.datawrangler.viewer.v0+json": {
       "columns": [
        {
         "name": "index",
         "rawType": "int64",
         "type": "integer"
        },
        {
         "name": "Steps",
         "rawType": "float64",
         "type": "float"
        },
        {
         "name": "Count",
         "rawType": "int64",
         "type": "integer"
        }
       ],
       "ref": "8fe6ad64-077f-4803-bbeb-b8d3469af041",
       "rows": [
        [
         "0",
         "0.0",
         "0"
        ],
        [
         "1",
         "1.0",
         "35447"
        ],
        [
         "2",
         "2.0",
         "72122"
        ],
        [
         "3",
         "3.0",
         "73274"
        ],
        [
         "4",
         "4.0",
         "74128"
        ],
        [
         "5",
         "5.0",
         "73105"
        ],
        [
         "6",
         "6.0",
         "66074"
        ],
        [
         "7",
         "7.0",
         "50560"
        ],
        [
         "8",
         "8.0",
         "31985"
        ],
        [
         "9",
         "9.0",
         "15823"
        ],
        [
         "10",
         "10.0",
         "5761"
        ],
        [
         "11",
         "11.0",
         "1480"
        ],
        [
         "12",
         "12.0",
         "241"
        ]
       ],
       "shape": {
        "columns": 2,
        "rows": 13
       }
      },
      "text/html": [
       "<div>\n",
       "<style scoped>\n",
       "    .dataframe tbody tr th:only-of-type {\n",
       "        vertical-align: middle;\n",
       "    }\n",
       "\n",
       "    .dataframe tbody tr th {\n",
       "        vertical-align: top;\n",
       "    }\n",
       "\n",
       "    .dataframe thead th {\n",
       "        text-align: right;\n",
       "    }\n",
       "</style>\n",
       "<table border=\"1\" class=\"dataframe\">\n",
       "  <thead>\n",
       "    <tr style=\"text-align: right;\">\n",
       "      <th></th>\n",
       "      <th>Steps</th>\n",
       "      <th>Count</th>\n",
       "    </tr>\n",
       "  </thead>\n",
       "  <tbody>\n",
       "    <tr>\n",
       "      <th>0</th>\n",
       "      <td>0.0</td>\n",
       "      <td>0</td>\n",
       "    </tr>\n",
       "    <tr>\n",
       "      <th>1</th>\n",
       "      <td>1.0</td>\n",
       "      <td>35447</td>\n",
       "    </tr>\n",
       "    <tr>\n",
       "      <th>2</th>\n",
       "      <td>2.0</td>\n",
       "      <td>72122</td>\n",
       "    </tr>\n",
       "    <tr>\n",
       "      <th>3</th>\n",
       "      <td>3.0</td>\n",
       "      <td>73274</td>\n",
       "    </tr>\n",
       "    <tr>\n",
       "      <th>4</th>\n",
       "      <td>4.0</td>\n",
       "      <td>74128</td>\n",
       "    </tr>\n",
       "    <tr>\n",
       "      <th>5</th>\n",
       "      <td>5.0</td>\n",
       "      <td>73105</td>\n",
       "    </tr>\n",
       "    <tr>\n",
       "      <th>6</th>\n",
       "      <td>6.0</td>\n",
       "      <td>66074</td>\n",
       "    </tr>\n",
       "    <tr>\n",
       "      <th>7</th>\n",
       "      <td>7.0</td>\n",
       "      <td>50560</td>\n",
       "    </tr>\n",
       "    <tr>\n",
       "      <th>8</th>\n",
       "      <td>8.0</td>\n",
       "      <td>31985</td>\n",
       "    </tr>\n",
       "    <tr>\n",
       "      <th>9</th>\n",
       "      <td>9.0</td>\n",
       "      <td>15823</td>\n",
       "    </tr>\n",
       "    <tr>\n",
       "      <th>10</th>\n",
       "      <td>10.0</td>\n",
       "      <td>5761</td>\n",
       "    </tr>\n",
       "    <tr>\n",
       "      <th>11</th>\n",
       "      <td>11.0</td>\n",
       "      <td>1480</td>\n",
       "    </tr>\n",
       "    <tr>\n",
       "      <th>12</th>\n",
       "      <td>12.0</td>\n",
       "      <td>241</td>\n",
       "    </tr>\n",
       "  </tbody>\n",
       "</table>\n",
       "</div>"
      ],
      "text/plain": [
       "    Steps  Count\n",
       "0     0.0      0\n",
       "1     1.0  35447\n",
       "2     2.0  72122\n",
       "3     3.0  73274\n",
       "4     4.0  74128\n",
       "5     5.0  73105\n",
       "6     6.0  66074\n",
       "7     7.0  50560\n",
       "8     8.0  31985\n",
       "9     9.0  15823\n",
       "10   10.0   5761\n",
       "11   11.0   1480\n",
       "12   12.0    241"
      ]
     },
     "execution_count": 13,
     "metadata": {},
     "output_type": "execute_result"
    }
   ],
   "source": [
    "hist_df[0]"
   ]
  },
  {
   "cell_type": "code",
   "execution_count": 14,
   "id": "b21c6225",
   "metadata": {},
   "outputs": [
    {
     "data": {
      "application/vnd.microsoft.datawrangler.viewer.v0+json": {
       "columns": [
        {
         "name": "index",
         "rawType": "int64",
         "type": "integer"
        },
        {
         "name": "Steps",
         "rawType": "float64",
         "type": "float"
        },
        {
         "name": "Count0",
         "rawType": "int64",
         "type": "integer"
        },
        {
         "name": "Count1",
         "rawType": "int64",
         "type": "integer"
        },
        {
         "name": "Count2",
         "rawType": "int64",
         "type": "integer"
        },
        {
         "name": "Count3",
         "rawType": "int64",
         "type": "integer"
        }
       ],
       "ref": "7be49bad-39de-4087-b104-c72781bf545b",
       "rows": [
        [
         "0",
         "0.0",
         "0",
         "0",
         "0",
         "0"
        ],
        [
         "1",
         "1.0",
         "35447",
         "4749",
         "37920",
         "37708"
        ],
        [
         "2",
         "2.0",
         "72122",
         "76766",
         "71616",
         "71751"
        ],
        [
         "3",
         "3.0",
         "73274",
         "78035",
         "72933",
         "72938"
        ],
        [
         "4",
         "4.0",
         "74128",
         "79340",
         "74136",
         "74422"
        ],
        [
         "5",
         "5.0",
         "73105",
         "77655",
         "72665",
         "72828"
        ],
        [
         "6",
         "6.0",
         "66074",
         "69862",
         "65272",
         "65125"
        ],
        [
         "7",
         "7.0",
         "50560",
         "54244",
         "50461",
         "50278"
        ],
        [
         "8",
         "8.0",
         "31985",
         "34256",
         "31937",
         "31906"
        ],
        [
         "9",
         "9.0",
         "15823",
         "17056",
         "15528",
         "15497"
        ],
        [
         "10",
         "10.0",
         "5761",
         "6172",
         "5821",
         "5741"
        ],
        [
         "11",
         "11.0",
         "1480",
         "1618",
         "1426",
         "1562"
        ],
        [
         "12",
         "12.0",
         "241",
         "247",
         "285",
         "244"
        ]
       ],
       "shape": {
        "columns": 5,
        "rows": 13
       }
      },
      "text/html": [
       "<div>\n",
       "<style scoped>\n",
       "    .dataframe tbody tr th:only-of-type {\n",
       "        vertical-align: middle;\n",
       "    }\n",
       "\n",
       "    .dataframe tbody tr th {\n",
       "        vertical-align: top;\n",
       "    }\n",
       "\n",
       "    .dataframe thead th {\n",
       "        text-align: right;\n",
       "    }\n",
       "</style>\n",
       "<table border=\"1\" class=\"dataframe\">\n",
       "  <thead>\n",
       "    <tr style=\"text-align: right;\">\n",
       "      <th></th>\n",
       "      <th>Steps</th>\n",
       "      <th>Count0</th>\n",
       "      <th>Count1</th>\n",
       "      <th>Count2</th>\n",
       "      <th>Count3</th>\n",
       "    </tr>\n",
       "  </thead>\n",
       "  <tbody>\n",
       "    <tr>\n",
       "      <th>0</th>\n",
       "      <td>0.0</td>\n",
       "      <td>0</td>\n",
       "      <td>0</td>\n",
       "      <td>0</td>\n",
       "      <td>0</td>\n",
       "    </tr>\n",
       "    <tr>\n",
       "      <th>1</th>\n",
       "      <td>1.0</td>\n",
       "      <td>35447</td>\n",
       "      <td>4749</td>\n",
       "      <td>37920</td>\n",
       "      <td>37708</td>\n",
       "    </tr>\n",
       "    <tr>\n",
       "      <th>2</th>\n",
       "      <td>2.0</td>\n",
       "      <td>72122</td>\n",
       "      <td>76766</td>\n",
       "      <td>71616</td>\n",
       "      <td>71751</td>\n",
       "    </tr>\n",
       "    <tr>\n",
       "      <th>3</th>\n",
       "      <td>3.0</td>\n",
       "      <td>73274</td>\n",
       "      <td>78035</td>\n",
       "      <td>72933</td>\n",
       "      <td>72938</td>\n",
       "    </tr>\n",
       "    <tr>\n",
       "      <th>4</th>\n",
       "      <td>4.0</td>\n",
       "      <td>74128</td>\n",
       "      <td>79340</td>\n",
       "      <td>74136</td>\n",
       "      <td>74422</td>\n",
       "    </tr>\n",
       "    <tr>\n",
       "      <th>5</th>\n",
       "      <td>5.0</td>\n",
       "      <td>73105</td>\n",
       "      <td>77655</td>\n",
       "      <td>72665</td>\n",
       "      <td>72828</td>\n",
       "    </tr>\n",
       "    <tr>\n",
       "      <th>6</th>\n",
       "      <td>6.0</td>\n",
       "      <td>66074</td>\n",
       "      <td>69862</td>\n",
       "      <td>65272</td>\n",
       "      <td>65125</td>\n",
       "    </tr>\n",
       "    <tr>\n",
       "      <th>7</th>\n",
       "      <td>7.0</td>\n",
       "      <td>50560</td>\n",
       "      <td>54244</td>\n",
       "      <td>50461</td>\n",
       "      <td>50278</td>\n",
       "    </tr>\n",
       "    <tr>\n",
       "      <th>8</th>\n",
       "      <td>8.0</td>\n",
       "      <td>31985</td>\n",
       "      <td>34256</td>\n",
       "      <td>31937</td>\n",
       "      <td>31906</td>\n",
       "    </tr>\n",
       "    <tr>\n",
       "      <th>9</th>\n",
       "      <td>9.0</td>\n",
       "      <td>15823</td>\n",
       "      <td>17056</td>\n",
       "      <td>15528</td>\n",
       "      <td>15497</td>\n",
       "    </tr>\n",
       "    <tr>\n",
       "      <th>10</th>\n",
       "      <td>10.0</td>\n",
       "      <td>5761</td>\n",
       "      <td>6172</td>\n",
       "      <td>5821</td>\n",
       "      <td>5741</td>\n",
       "    </tr>\n",
       "    <tr>\n",
       "      <th>11</th>\n",
       "      <td>11.0</td>\n",
       "      <td>1480</td>\n",
       "      <td>1618</td>\n",
       "      <td>1426</td>\n",
       "      <td>1562</td>\n",
       "    </tr>\n",
       "    <tr>\n",
       "      <th>12</th>\n",
       "      <td>12.0</td>\n",
       "      <td>241</td>\n",
       "      <td>247</td>\n",
       "      <td>285</td>\n",
       "      <td>244</td>\n",
       "    </tr>\n",
       "  </tbody>\n",
       "</table>\n",
       "</div>"
      ],
      "text/plain": [
       "    Steps  Count0  Count1  Count2  Count3\n",
       "0     0.0       0       0       0       0\n",
       "1     1.0   35447    4749   37920   37708\n",
       "2     2.0   72122   76766   71616   71751\n",
       "3     3.0   73274   78035   72933   72938\n",
       "4     4.0   74128   79340   74136   74422\n",
       "5     5.0   73105   77655   72665   72828\n",
       "6     6.0   66074   69862   65272   65125\n",
       "7     7.0   50560   54244   50461   50278\n",
       "8     8.0   31985   34256   31937   31906\n",
       "9     9.0   15823   17056   15528   15497\n",
       "10   10.0    5761    6172    5821    5741\n",
       "11   11.0    1480    1618    1426    1562\n",
       "12   12.0     241     247     285     244"
      ]
     },
     "execution_count": 14,
     "metadata": {},
     "output_type": "execute_result"
    }
   ],
   "source": [
    "df_merged = hist_df[0]\n",
    "for i in range(1, len(hist_df)):\n",
    "    df_merged = pd.merge(df_merged, hist_df[i], on=[\"Steps\"], suffixes=(i-1, i))\n",
    "df_merged"
   ]
  },
  {
   "cell_type": "code",
   "execution_count": 15,
   "id": "b9882843",
   "metadata": {},
   "outputs": [
    {
     "data": {
      "application/vnd.microsoft.datawrangler.viewer.v0+json": {
       "columns": [
        {
         "name": "Steps",
         "rawType": "float64",
         "type": "float"
        },
        {
         "name": "Count0",
         "rawType": "int64",
         "type": "integer"
        },
        {
         "name": "Count1",
         "rawType": "int64",
         "type": "integer"
        },
        {
         "name": "Count2",
         "rawType": "int64",
         "type": "integer"
        },
        {
         "name": "Count3",
         "rawType": "int64",
         "type": "integer"
        }
       ],
       "ref": "4ac78f57-e54e-4126-a9ac-1ddbde32bb73",
       "rows": [
        [
         "0.0",
         "0",
         "0",
         "0",
         "0"
        ],
        [
         "1.0",
         "35447",
         "4749",
         "37920",
         "37708"
        ],
        [
         "2.0",
         "72122",
         "76766",
         "71616",
         "71751"
        ],
        [
         "3.0",
         "73274",
         "78035",
         "72933",
         "72938"
        ],
        [
         "4.0",
         "74128",
         "79340",
         "74136",
         "74422"
        ],
        [
         "5.0",
         "73105",
         "77655",
         "72665",
         "72828"
        ],
        [
         "6.0",
         "66074",
         "69862",
         "65272",
         "65125"
        ],
        [
         "7.0",
         "50560",
         "54244",
         "50461",
         "50278"
        ],
        [
         "8.0",
         "31985",
         "34256",
         "31937",
         "31906"
        ],
        [
         "9.0",
         "15823",
         "17056",
         "15528",
         "15497"
        ],
        [
         "10.0",
         "5761",
         "6172",
         "5821",
         "5741"
        ],
        [
         "11.0",
         "1480",
         "1618",
         "1426",
         "1562"
        ],
        [
         "12.0",
         "241",
         "247",
         "285",
         "244"
        ]
       ],
       "shape": {
        "columns": 4,
        "rows": 13
       }
      },
      "text/html": [
       "<div>\n",
       "<style scoped>\n",
       "    .dataframe tbody tr th:only-of-type {\n",
       "        vertical-align: middle;\n",
       "    }\n",
       "\n",
       "    .dataframe tbody tr th {\n",
       "        vertical-align: top;\n",
       "    }\n",
       "\n",
       "    .dataframe thead th {\n",
       "        text-align: right;\n",
       "    }\n",
       "</style>\n",
       "<table border=\"1\" class=\"dataframe\">\n",
       "  <thead>\n",
       "    <tr style=\"text-align: right;\">\n",
       "      <th></th>\n",
       "      <th>Count0</th>\n",
       "      <th>Count1</th>\n",
       "      <th>Count2</th>\n",
       "      <th>Count3</th>\n",
       "    </tr>\n",
       "    <tr>\n",
       "      <th>Steps</th>\n",
       "      <th></th>\n",
       "      <th></th>\n",
       "      <th></th>\n",
       "      <th></th>\n",
       "    </tr>\n",
       "  </thead>\n",
       "  <tbody>\n",
       "    <tr>\n",
       "      <th>0.0</th>\n",
       "      <td>0</td>\n",
       "      <td>0</td>\n",
       "      <td>0</td>\n",
       "      <td>0</td>\n",
       "    </tr>\n",
       "    <tr>\n",
       "      <th>1.0</th>\n",
       "      <td>35447</td>\n",
       "      <td>4749</td>\n",
       "      <td>37920</td>\n",
       "      <td>37708</td>\n",
       "    </tr>\n",
       "    <tr>\n",
       "      <th>2.0</th>\n",
       "      <td>72122</td>\n",
       "      <td>76766</td>\n",
       "      <td>71616</td>\n",
       "      <td>71751</td>\n",
       "    </tr>\n",
       "    <tr>\n",
       "      <th>3.0</th>\n",
       "      <td>73274</td>\n",
       "      <td>78035</td>\n",
       "      <td>72933</td>\n",
       "      <td>72938</td>\n",
       "    </tr>\n",
       "    <tr>\n",
       "      <th>4.0</th>\n",
       "      <td>74128</td>\n",
       "      <td>79340</td>\n",
       "      <td>74136</td>\n",
       "      <td>74422</td>\n",
       "    </tr>\n",
       "    <tr>\n",
       "      <th>5.0</th>\n",
       "      <td>73105</td>\n",
       "      <td>77655</td>\n",
       "      <td>72665</td>\n",
       "      <td>72828</td>\n",
       "    </tr>\n",
       "    <tr>\n",
       "      <th>6.0</th>\n",
       "      <td>66074</td>\n",
       "      <td>69862</td>\n",
       "      <td>65272</td>\n",
       "      <td>65125</td>\n",
       "    </tr>\n",
       "    <tr>\n",
       "      <th>7.0</th>\n",
       "      <td>50560</td>\n",
       "      <td>54244</td>\n",
       "      <td>50461</td>\n",
       "      <td>50278</td>\n",
       "    </tr>\n",
       "    <tr>\n",
       "      <th>8.0</th>\n",
       "      <td>31985</td>\n",
       "      <td>34256</td>\n",
       "      <td>31937</td>\n",
       "      <td>31906</td>\n",
       "    </tr>\n",
       "    <tr>\n",
       "      <th>9.0</th>\n",
       "      <td>15823</td>\n",
       "      <td>17056</td>\n",
       "      <td>15528</td>\n",
       "      <td>15497</td>\n",
       "    </tr>\n",
       "    <tr>\n",
       "      <th>10.0</th>\n",
       "      <td>5761</td>\n",
       "      <td>6172</td>\n",
       "      <td>5821</td>\n",
       "      <td>5741</td>\n",
       "    </tr>\n",
       "    <tr>\n",
       "      <th>11.0</th>\n",
       "      <td>1480</td>\n",
       "      <td>1618</td>\n",
       "      <td>1426</td>\n",
       "      <td>1562</td>\n",
       "    </tr>\n",
       "    <tr>\n",
       "      <th>12.0</th>\n",
       "      <td>241</td>\n",
       "      <td>247</td>\n",
       "      <td>285</td>\n",
       "      <td>244</td>\n",
       "    </tr>\n",
       "  </tbody>\n",
       "</table>\n",
       "</div>"
      ],
      "text/plain": [
       "       Count0  Count1  Count2  Count3\n",
       "Steps                                \n",
       "0.0         0       0       0       0\n",
       "1.0     35447    4749   37920   37708\n",
       "2.0     72122   76766   71616   71751\n",
       "3.0     73274   78035   72933   72938\n",
       "4.0     74128   79340   74136   74422\n",
       "5.0     73105   77655   72665   72828\n",
       "6.0     66074   69862   65272   65125\n",
       "7.0     50560   54244   50461   50278\n",
       "8.0     31985   34256   31937   31906\n",
       "9.0     15823   17056   15528   15497\n",
       "10.0     5761    6172    5821    5741\n",
       "11.0     1480    1618    1426    1562\n",
       "12.0      241     247     285     244"
      ]
     },
     "execution_count": 15,
     "metadata": {},
     "output_type": "execute_result"
    }
   ],
   "source": [
    "df_merged.set_index('Steps', drop=True, inplace=True)\n",
    "df_merged"
   ]
  },
  {
   "cell_type": "code",
   "execution_count": 16,
   "id": "abcc0ac5",
   "metadata": {},
   "outputs": [],
   "source": [
    "def get_title():\n",
    "    return f\"Simulation - {program} | {graph_name} | Sched: {sched} | N: {no_simulations:,} | FI: {fault_interval}\""
   ]
  },
  {
   "cell_type": "code",
   "execution_count": 17,
   "id": "2e1cf20c",
   "metadata": {},
   "outputs": [],
   "source": [
    "def get_filename():\n",
    "    return f\"{graph_name}__{sched}__{no_simulations:,}__{fault_interval}__{''.join([str(i) for i in selected_nodes])}{'__duong' if duong_mode else ''}\""
   ]
  },
  {
   "cell_type": "code",
   "execution_count": 18,
   "id": "d120d104",
   "metadata": {},
   "outputs": [
    {
     "name": "stdout",
     "output_type": "stream",
     "text": [
      "Saved plot(s) for plots/coloring/star_graph_n13__0__500,000__1__059__duong.png\n"
     ]
    }
   ],
   "source": [
    "plt.figure(figsize=(16, 8))\n",
    "ax = sns.lineplot(data=df_merged, marker=\"o\", linewidth=3)\n",
    "ax.set_title(get_title(), fontdict={\"fontsize\": fontsize})\n",
    "\n",
    "# ax.set_yscale(\"log\")\n",
    "for i, line in enumerate(ax.lines):\n",
    "    if i >= 1:\n",
    "        line_style = \"solid\"\n",
    "        line.set_color(next(color_cycle)[0])\n",
    "    else:\n",
    "        line_style = \"dashed\"\n",
    "        line.set_color(\"goldenrod\")\n",
    "    line.set_linestyle(line_style)\n",
    "\n",
    "ax.tick_params(axis=\"x\", labelsize=fontsize)\n",
    "ax.tick_params(axis=\"y\", labelsize=fontsize)\n",
    "ax.xaxis.label.set_size(fontsize)\n",
    "ax.yaxis.label.set_size(fontsize)\n",
    "\n",
    "ax.set_xlabel(\"Steps\")\n",
    "ax.set_ylabel(\"Count\")\n",
    "\n",
    "labels = [\"Random Fault\"]\n",
    "labels.extend(\n",
    "    [\n",
    "        f'Controlled {\"(duong)\" if duong_mode else \"\"} at node {n}'\n",
    "        for n in selected_nodes\n",
    "    ]\n",
    ")\n",
    "custom_lines = [\n",
    "    mlines.Line2D(\n",
    "        [],\n",
    "        [],\n",
    "        color=line.get_color(),\n",
    "        # marker=marker,\n",
    "        label=cat,\n",
    "        linewidth=1,\n",
    "        linestyle=line.get_linestyle(),\n",
    "    )\n",
    "    for line, cat in zip(ax.lines, labels)\n",
    "]\n",
    "plt.rc(\"font\", size=fontsize)\n",
    "plt.legend(handles=custom_lines, fontsize=fontsize * 0.9)\n",
    "file_path = os.path.join(\n",
    "    plots_dir,\n",
    "    program,\n",
    "    f\"{get_filename()}.png\",\n",
    ")\n",
    "plt.savefig(\n",
    "    file_path,\n",
    "    bbox_inches=\"tight\",\n",
    ")\n",
    "plt.close()\n",
    "\n",
    "print(f\"Saved plot(s) for {file_path}\")"
   ]
  },
  {
   "cell_type": "code",
   "execution_count": null,
   "id": "27f8596d",
   "metadata": {},
   "outputs": [],
   "source": []
  }
 ],
 "metadata": {
  "kernelspec": {
   "display_name": "Python 3",
   "language": "python",
   "name": "python3"
  },
  "language_info": {
   "codemirror_mode": {
    "name": "ipython",
    "version": 3
   },
   "file_extension": ".py",
   "mimetype": "text/x-python",
   "name": "python",
   "nbconvert_exporter": "python",
   "pygments_lexer": "ipython3",
   "version": "3.13.5"
  }
 },
 "nbformat": 4,
 "nbformat_minor": 5
}
