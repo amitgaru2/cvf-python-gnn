{
 "cells": [
  {
   "cell_type": "code",
   "execution_count": 1,
   "id": "f0646382",
   "metadata": {},
   "outputs": [],
   "source": [
    "import pandas as pd"
   ]
  },
  {
   "cell_type": "code",
   "execution_count": null,
   "id": "6a4d8287",
   "metadata": {},
   "outputs": [],
   "source": [
    "filename = \"graph_2_node__FE_1-0__N1000000__FI_7-7__H5__L100.csv\""
   ]
  },
  {
   "cell_type": "code",
   "execution_count": 3,
   "id": "18965ddd",
   "metadata": {},
   "outputs": [],
   "source": [
    "df = pd.read_csv(filename)"
   ]
  },
  {
   "cell_type": "code",
   "execution_count": 4,
   "id": "ba97df77",
   "metadata": {},
   "outputs": [
    {
     "data": {
      "application/vnd.microsoft.datawrangler.viewer.v0+json": {
       "columns": [
        {
         "name": "index",
         "rawType": "int64",
         "type": "integer"
        },
        {
         "name": "SN",
         "rawType": "int64",
         "type": "integer"
        },
        {
         "name": "Steps",
         "rawType": "int64",
         "type": "integer"
        },
        {
         "name": "Lmt Reach",
         "rawType": "bool",
         "type": "boolean"
        },
        {
         "name": "PT 0",
         "rawType": "int64",
         "type": "integer"
        },
        {
         "name": "PT 1",
         "rawType": "int64",
         "type": "integer"
        }
       ],
       "ref": "0e9eacaf-bf46-41e0-bc11-4a7ca238c091",
       "rows": [
        [
         "0",
         "1",
         "6",
         "False",
         "2",
         "2"
        ],
        [
         "1",
         "2",
         "6",
         "False",
         "2",
         "2"
        ],
        [
         "2",
         "3",
         "3",
         "False",
         "1",
         "0"
        ],
        [
         "3",
         "4",
         "6",
         "False",
         "3",
         "2"
        ],
        [
         "4",
         "5",
         "6",
         "False",
         "2",
         "2"
        ],
        [
         "5",
         "6",
         "6",
         "False",
         "3",
         "2"
        ],
        [
         "6",
         "7",
         "6",
         "False",
         "3",
         "2"
        ],
        [
         "7",
         "8",
         "6",
         "False",
         "2",
         "3"
        ],
        [
         "8",
         "9",
         "6",
         "False",
         "2",
         "3"
        ],
        [
         "9",
         "10",
         "3",
         "False",
         "1",
         "0"
        ],
        [
         "10",
         "11",
         "8",
         "False",
         "1",
         "4"
        ],
        [
         "11",
         "12",
         "9",
         "False",
         "3",
         "3"
        ],
        [
         "12",
         "13",
         "6",
         "False",
         "2",
         "3"
        ],
        [
         "13",
         "14",
         "6",
         "False",
         "2",
         "3"
        ],
        [
         "14",
         "15",
         "6",
         "False",
         "2",
         "2"
        ],
        [
         "15",
         "16",
         "5",
         "False",
         "2",
         "1"
        ],
        [
         "16",
         "17",
         "5",
         "False",
         "2",
         "1"
        ],
        [
         "17",
         "18",
         "6",
         "False",
         "2",
         "2"
        ],
        [
         "18",
         "19",
         "5",
         "False",
         "2",
         "1"
        ],
        [
         "19",
         "20",
         "9",
         "False",
         "2",
         "4"
        ],
        [
         "20",
         "21",
         "3",
         "False",
         "0",
         "1"
        ],
        [
         "21",
         "22",
         "6",
         "False",
         "2",
         "2"
        ],
        [
         "22",
         "23",
         "6",
         "False",
         "2",
         "3"
        ],
        [
         "23",
         "24",
         "3",
         "False",
         "0",
         "1"
        ],
        [
         "24",
         "25",
         "6",
         "False",
         "2",
         "3"
        ],
        [
         "25",
         "26",
         "6",
         "False",
         "3",
         "2"
        ],
        [
         "26",
         "27",
         "3",
         "False",
         "0",
         "1"
        ],
        [
         "27",
         "28",
         "5",
         "False",
         "3",
         "0"
        ],
        [
         "28",
         "29",
         "5",
         "False",
         "2",
         "1"
        ],
        [
         "29",
         "30",
         "5",
         "False",
         "2",
         "1"
        ],
        [
         "30",
         "31",
         "4",
         "False",
         "2",
         "0"
        ],
        [
         "31",
         "32",
         "6",
         "False",
         "2",
         "3"
        ],
        [
         "32",
         "33",
         "6",
         "False",
         "2",
         "3"
        ],
        [
         "33",
         "34",
         "3",
         "False",
         "1",
         "0"
        ],
        [
         "34",
         "35",
         "6",
         "False",
         "2",
         "2"
        ],
        [
         "35",
         "36",
         "6",
         "False",
         "3",
         "1"
        ],
        [
         "36",
         "37",
         "6",
         "False",
         "2",
         "2"
        ],
        [
         "37",
         "38",
         "5",
         "False",
         "1",
         "2"
        ],
        [
         "38",
         "39",
         "6",
         "False",
         "2",
         "3"
        ],
        [
         "39",
         "40",
         "3",
         "False",
         "0",
         "1"
        ],
        [
         "40",
         "41",
         "6",
         "False",
         "3",
         "2"
        ],
        [
         "41",
         "42",
         "5",
         "False",
         "1",
         "2"
        ],
        [
         "42",
         "43",
         "6",
         "False",
         "3",
         "2"
        ],
        [
         "43",
         "44",
         "6",
         "False",
         "2",
         "3"
        ],
        [
         "44",
         "45",
         "6",
         "False",
         "2",
         "3"
        ],
        [
         "45",
         "46",
         "4",
         "False",
         "1",
         "1"
        ],
        [
         "46",
         "47",
         "6",
         "False",
         "3",
         "2"
        ],
        [
         "47",
         "48",
         "6",
         "False",
         "3",
         "2"
        ],
        [
         "48",
         "49",
         "9",
         "False",
         "2",
         "4"
        ],
        [
         "49",
         "50",
         "6",
         "False",
         "3",
         "2"
        ]
       ],
       "shape": {
        "columns": 5,
        "rows": 1000000
       }
      },
      "text/html": [
       "<div>\n",
       "<style scoped>\n",
       "    .dataframe tbody tr th:only-of-type {\n",
       "        vertical-align: middle;\n",
       "    }\n",
       "\n",
       "    .dataframe tbody tr th {\n",
       "        vertical-align: top;\n",
       "    }\n",
       "\n",
       "    .dataframe thead th {\n",
       "        text-align: right;\n",
       "    }\n",
       "</style>\n",
       "<table border=\"1\" class=\"dataframe\">\n",
       "  <thead>\n",
       "    <tr style=\"text-align: right;\">\n",
       "      <th></th>\n",
       "      <th>SN</th>\n",
       "      <th>Steps</th>\n",
       "      <th>Lmt Reach</th>\n",
       "      <th>PT 0</th>\n",
       "      <th>PT 1</th>\n",
       "    </tr>\n",
       "  </thead>\n",
       "  <tbody>\n",
       "    <tr>\n",
       "      <th>0</th>\n",
       "      <td>1</td>\n",
       "      <td>6</td>\n",
       "      <td>False</td>\n",
       "      <td>2</td>\n",
       "      <td>2</td>\n",
       "    </tr>\n",
       "    <tr>\n",
       "      <th>1</th>\n",
       "      <td>2</td>\n",
       "      <td>6</td>\n",
       "      <td>False</td>\n",
       "      <td>2</td>\n",
       "      <td>2</td>\n",
       "    </tr>\n",
       "    <tr>\n",
       "      <th>2</th>\n",
       "      <td>3</td>\n",
       "      <td>3</td>\n",
       "      <td>False</td>\n",
       "      <td>1</td>\n",
       "      <td>0</td>\n",
       "    </tr>\n",
       "    <tr>\n",
       "      <th>3</th>\n",
       "      <td>4</td>\n",
       "      <td>6</td>\n",
       "      <td>False</td>\n",
       "      <td>3</td>\n",
       "      <td>2</td>\n",
       "    </tr>\n",
       "    <tr>\n",
       "      <th>4</th>\n",
       "      <td>5</td>\n",
       "      <td>6</td>\n",
       "      <td>False</td>\n",
       "      <td>2</td>\n",
       "      <td>2</td>\n",
       "    </tr>\n",
       "    <tr>\n",
       "      <th>...</th>\n",
       "      <td>...</td>\n",
       "      <td>...</td>\n",
       "      <td>...</td>\n",
       "      <td>...</td>\n",
       "      <td>...</td>\n",
       "    </tr>\n",
       "    <tr>\n",
       "      <th>999995</th>\n",
       "      <td>999996</td>\n",
       "      <td>6</td>\n",
       "      <td>False</td>\n",
       "      <td>2</td>\n",
       "      <td>3</td>\n",
       "    </tr>\n",
       "    <tr>\n",
       "      <th>999996</th>\n",
       "      <td>999997</td>\n",
       "      <td>6</td>\n",
       "      <td>False</td>\n",
       "      <td>3</td>\n",
       "      <td>2</td>\n",
       "    </tr>\n",
       "    <tr>\n",
       "      <th>999997</th>\n",
       "      <td>999998</td>\n",
       "      <td>6</td>\n",
       "      <td>False</td>\n",
       "      <td>3</td>\n",
       "      <td>2</td>\n",
       "    </tr>\n",
       "    <tr>\n",
       "      <th>999998</th>\n",
       "      <td>999999</td>\n",
       "      <td>5</td>\n",
       "      <td>False</td>\n",
       "      <td>3</td>\n",
       "      <td>0</td>\n",
       "    </tr>\n",
       "    <tr>\n",
       "      <th>999999</th>\n",
       "      <td>1000000</td>\n",
       "      <td>5</td>\n",
       "      <td>False</td>\n",
       "      <td>3</td>\n",
       "      <td>0</td>\n",
       "    </tr>\n",
       "  </tbody>\n",
       "</table>\n",
       "<p>1000000 rows × 5 columns</p>\n",
       "</div>"
      ],
      "text/plain": [
       "             SN  Steps  Lmt Reach  PT 0  PT 1\n",
       "0             1      6      False     2     2\n",
       "1             2      6      False     2     2\n",
       "2             3      3      False     1     0\n",
       "3             4      6      False     3     2\n",
       "4             5      6      False     2     2\n",
       "...         ...    ...        ...   ...   ...\n",
       "999995   999996      6      False     2     3\n",
       "999996   999997      6      False     3     2\n",
       "999997   999998      6      False     3     2\n",
       "999998   999999      5      False     3     0\n",
       "999999  1000000      5      False     3     0\n",
       "\n",
       "[1000000 rows x 5 columns]"
      ]
     },
     "execution_count": 4,
     "metadata": {},
     "output_type": "execute_result"
    }
   ],
   "source": [
    "df"
   ]
  },
  {
   "cell_type": "code",
   "execution_count": 5,
   "id": "f6a27fa0",
   "metadata": {},
   "outputs": [
    {
     "data": {
      "application/vnd.microsoft.datawrangler.viewer.v0+json": {
       "columns": [
        {
         "name": "index",
         "rawType": "int64",
         "type": "integer"
        },
        {
         "name": "Steps",
         "rawType": "int64",
         "type": "integer"
        }
       ],
       "ref": "981e02ba-5984-499d-a4b9-d3df261f4d86",
       "rows": [
        [
         "0",
         "6"
        ],
        [
         "1",
         "6"
        ],
        [
         "2",
         "3"
        ],
        [
         "3",
         "6"
        ],
        [
         "4",
         "6"
        ],
        [
         "5",
         "6"
        ],
        [
         "6",
         "6"
        ],
        [
         "7",
         "6"
        ],
        [
         "8",
         "6"
        ],
        [
         "9",
         "3"
        ],
        [
         "10",
         "8"
        ],
        [
         "11",
         "9"
        ],
        [
         "12",
         "6"
        ],
        [
         "13",
         "6"
        ],
        [
         "14",
         "6"
        ],
        [
         "15",
         "5"
        ],
        [
         "16",
         "5"
        ],
        [
         "17",
         "6"
        ],
        [
         "18",
         "5"
        ],
        [
         "19",
         "9"
        ],
        [
         "20",
         "3"
        ],
        [
         "21",
         "6"
        ],
        [
         "22",
         "6"
        ],
        [
         "23",
         "3"
        ],
        [
         "24",
         "6"
        ],
        [
         "25",
         "6"
        ],
        [
         "26",
         "3"
        ],
        [
         "27",
         "5"
        ],
        [
         "28",
         "5"
        ],
        [
         "29",
         "5"
        ],
        [
         "30",
         "4"
        ],
        [
         "31",
         "6"
        ],
        [
         "32",
         "6"
        ],
        [
         "33",
         "3"
        ],
        [
         "34",
         "6"
        ],
        [
         "35",
         "6"
        ],
        [
         "36",
         "6"
        ],
        [
         "37",
         "5"
        ],
        [
         "38",
         "6"
        ],
        [
         "39",
         "3"
        ],
        [
         "40",
         "6"
        ],
        [
         "41",
         "5"
        ],
        [
         "42",
         "6"
        ],
        [
         "43",
         "6"
        ],
        [
         "44",
         "6"
        ],
        [
         "45",
         "4"
        ],
        [
         "46",
         "6"
        ],
        [
         "47",
         "6"
        ],
        [
         "48",
         "9"
        ],
        [
         "49",
         "6"
        ]
       ],
       "shape": {
        "columns": 1,
        "rows": 1000000
       }
      },
      "text/plain": [
       "0         6\n",
       "1         6\n",
       "2         3\n",
       "3         6\n",
       "4         6\n",
       "         ..\n",
       "999995    6\n",
       "999996    6\n",
       "999997    6\n",
       "999998    5\n",
       "999999    5\n",
       "Name: Steps, Length: 1000000, dtype: int64"
      ]
     },
     "execution_count": 5,
     "metadata": {},
     "output_type": "execute_result"
    }
   ],
   "source": [
    "steps = df['Steps']\n",
    "steps"
   ]
  },
  {
   "cell_type": "code",
   "execution_count": 6,
   "id": "6ed4c8ad",
   "metadata": {},
   "outputs": [
    {
     "data": {
      "application/vnd.microsoft.datawrangler.viewer.v0+json": {
       "columns": [
        {
         "name": "Steps",
         "rawType": "int64",
         "type": "integer"
        },
        {
         "name": "count",
         "rawType": "int64",
         "type": "integer"
        }
       ],
       "ref": "793cfeab-2561-48fa-be55-4675765ca5a6",
       "rows": [
        [
         "6",
         "466131"
        ],
        [
         "3",
         "133688"
        ],
        [
         "5",
         "117020"
        ],
        [
         "4",
         "99749"
        ],
        [
         "8",
         "72268"
        ],
        [
         "9",
         "50136"
        ],
        [
         "7",
         "33520"
        ],
        [
         "10",
         "13761"
        ],
        [
         "12",
         "10288"
        ],
        [
         "14",
         "2307"
        ],
        [
         "16",
         "548"
        ],
        [
         "18",
         "423"
        ],
        [
         "20",
         "107"
        ],
        [
         "22",
         "24"
        ],
        [
         "24",
         "21"
        ],
        [
         "26",
         "8"
        ],
        [
         "30",
         "1"
        ]
       ],
       "shape": {
        "columns": 1,
        "rows": 17
       }
      },
      "text/plain": [
       "Steps\n",
       "6     466131\n",
       "3     133688\n",
       "5     117020\n",
       "4      99749\n",
       "8      72268\n",
       "9      50136\n",
       "7      33520\n",
       "10     13761\n",
       "12     10288\n",
       "14      2307\n",
       "16       548\n",
       "18       423\n",
       "20       107\n",
       "22        24\n",
       "24        21\n",
       "26         8\n",
       "30         1\n",
       "Name: count, dtype: int64"
      ]
     },
     "execution_count": 6,
     "metadata": {},
     "output_type": "execute_result"
    }
   ],
   "source": [
    "steps.value_counts()"
   ]
  },
  {
   "cell_type": "code",
   "execution_count": 7,
   "id": "01923855",
   "metadata": {},
   "outputs": [],
   "source": [
    "steps.value_counts().sort_index().to_csv(f\"vc_{filename}\")"
   ]
  },
  {
   "cell_type": "code",
   "execution_count": 8,
   "id": "7552d345",
   "metadata": {},
   "outputs": [
    {
     "data": {
      "application/vnd.microsoft.datawrangler.viewer.v0+json": {
       "columns": [
        {
         "name": "Steps",
         "rawType": "int64",
         "type": "integer"
        },
        {
         "name": "count",
         "rawType": "int64",
         "type": "integer"
        }
       ],
       "ref": "7ac4f7df-564a-456b-a691-3eaa46a684dc",
       "rows": [
        [
         "3",
         "133688"
        ],
        [
         "4",
         "99749"
        ],
        [
         "5",
         "117020"
        ],
        [
         "6",
         "466131"
        ],
        [
         "7",
         "33520"
        ],
        [
         "8",
         "72268"
        ],
        [
         "9",
         "50136"
        ],
        [
         "10",
         "13761"
        ],
        [
         "12",
         "10288"
        ],
        [
         "14",
         "2307"
        ],
        [
         "16",
         "548"
        ],
        [
         "18",
         "423"
        ],
        [
         "20",
         "107"
        ],
        [
         "22",
         "24"
        ],
        [
         "24",
         "21"
        ],
        [
         "26",
         "8"
        ],
        [
         "30",
         "1"
        ]
       ],
       "shape": {
        "columns": 1,
        "rows": 17
       }
      },
      "text/plain": [
       "Steps\n",
       "3     133688\n",
       "4      99749\n",
       "5     117020\n",
       "6     466131\n",
       "7      33520\n",
       "8      72268\n",
       "9      50136\n",
       "10     13761\n",
       "12     10288\n",
       "14      2307\n",
       "16       548\n",
       "18       423\n",
       "20       107\n",
       "22        24\n",
       "24        21\n",
       "26         8\n",
       "30         1\n",
       "Name: count, dtype: int64"
      ]
     },
     "execution_count": 8,
     "metadata": {},
     "output_type": "execute_result"
    }
   ],
   "source": [
    "steps.value_counts().sort_index()"
   ]
  },
  {
   "cell_type": "code",
   "execution_count": null,
   "id": "24058c28",
   "metadata": {},
   "outputs": [],
   "source": []
  }
 ],
 "metadata": {
  "kernelspec": {
   "display_name": "cvf",
   "language": "python",
   "name": "python3"
  },
  "language_info": {
   "codemirror_mode": {
    "name": "ipython",
    "version": 3
   },
   "file_extension": ".py",
   "mimetype": "text/x-python",
   "name": "python",
   "nbconvert_exporter": "python",
   "pygments_lexer": "ipython3",
   "version": "3.13.5"
  }
 },
 "nbformat": 4,
 "nbformat_minor": 5
}
