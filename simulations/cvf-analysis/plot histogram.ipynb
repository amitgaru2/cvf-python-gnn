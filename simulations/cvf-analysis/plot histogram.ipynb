{
 "cells": [
  {
   "cell_type": "code",
   "execution_count": 1,
   "id": "4643426c-e100-4f30-80f5-21d63fa08e94",
   "metadata": {},
   "outputs": [],
   "source": [
    "import numpy as np\n",
    "import pandas as pd\n",
    "\n",
    "from matplotlib import pyplot as plt"
   ]
  },
  {
   "cell_type": "code",
   "execution_count": 2,
   "id": "3ba04d82-7d7d-4842-86fe-af4ff665be72",
   "metadata": {},
   "outputs": [],
   "source": [
    "results_dir = \"coloring\""
   ]
  },
  {
   "cell_type": "code",
   "execution_count": 3,
   "id": "78f62060-4f5e-4104-9ea3-97876fb69c7c",
   "metadata": {},
   "outputs": [],
   "source": [
    "data_filename = \"graph_1__0__10000__False__0.9__0.80\""
   ]
  },
  {
   "cell_type": "code",
   "execution_count": 4,
   "id": "7f500359-fa27-4b4e-a404-06df9bc7fb74",
   "metadata": {},
   "outputs": [],
   "source": [
    "# data_filename = \"graph_7__0__10000__False__0.6__0.80\""
   ]
  },
  {
   "cell_type": "code",
   "execution_count": 5,
   "id": "993f70db",
   "metadata": {},
   "outputs": [],
   "source": [
    "# data_filename = \"graph_powerlaw_cluster_graph_n30__0__100000__False__0.5__0.60\""
   ]
  },
  {
   "cell_type": "code",
   "execution_count": 6,
   "id": "dde34a52-7c13-40d3-b8fa-993316a1f456",
   "metadata": {},
   "outputs": [],
   "source": [
    "# data_filename = \"implicit_graph_n20__0__50000__False__0.5__0.60\""
   ]
  },
  {
   "cell_type": "code",
   "execution_count": 7,
   "id": "25f1d1fe-23d3-4545-bc0e-e54d49ab732f",
   "metadata": {},
   "outputs": [],
   "source": [
    "df = pd.read_csv(f\"results/{results_dir}/{data_filename}.csv\")"
   ]
  },
  {
   "cell_type": "code",
   "execution_count": 8,
   "id": "00824da7-88ad-48c7-9a1e-eb01c0dce0cd",
   "metadata": {},
   "outputs": [],
   "source": [
    "# df.iloc[[0, 10, 19]]"
   ]
  },
  {
   "cell_type": "code",
   "execution_count": 9,
   "id": "328a7b03-1480-4d30-9bf0-f9cb7089bd9b",
   "metadata": {},
   "outputs": [
    {
     "data": {
      "text/plain": [
       "array([ 1,  5, 10, 15, 20])"
      ]
     },
     "execution_count": 9,
     "metadata": {},
     "output_type": "execute_result"
    }
   ],
   "source": [
    "X = df.columns[1:].astype(int).to_numpy()\n",
    "X"
   ]
  },
  {
   "cell_type": "code",
   "execution_count": 10,
   "id": "dbbfa421-53d0-4414-931a-83c7fce1bd11",
   "metadata": {},
   "outputs": [
    {
     "data": {
      "text/plain": [
       "<Figure size 2500x700 with 0 Axes>"
      ]
     },
     "execution_count": 10,
     "metadata": {},
     "output_type": "execute_result"
    },
    {
     "data": {
      "text/plain": [
       "<Figure size 2500x700 with 0 Axes>"
      ]
     },
     "metadata": {},
     "output_type": "display_data"
    }
   ],
   "source": [
    "plt.figure(figsize=(25, 7))"
   ]
  },
  {
   "cell_type": "code",
   "execution_count": 11,
   "id": "f71211f6-8960-4a59-a2ef-990c1aa1917b",
   "metadata": {},
   "outputs": [],
   "source": [
    "markers = ('.', 'o', 'v', '^', '<', '>', '8', 's', 'p', '*', 'h', 'H', 'D', 'd', 'P', 'X')"
   ]
  },
  {
   "cell_type": "code",
   "execution_count": 12,
   "id": "ba33a2e2-8f69-40bc-b751-e1f554f3483a",
   "metadata": {},
   "outputs": [],
   "source": [
    "plt.ioff()\n",
    "for i in range(df.shape[0]):\n",
    "    # if i in {0, 4, 5, 9}:\n",
    "    j = i % len(markers)\n",
    "    node = int(df.iloc[i].Node)\n",
    "    plt.scatter(X, df.iloc[i].to_numpy()[1:], marker=markers[j], label=f'Node {node}')"
   ]
  },
  {
   "cell_type": "code",
   "execution_count": 13,
   "id": "0bc1ed73-fe48-44e7-9c4e-2c9ca93994f4",
   "metadata": {},
   "outputs": [],
   "source": [
    "plt.xticks(X)\n",
    "plt.legend(fontsize=5)\n",
    "plt.tight_layout()\n",
    "plt.savefig(f\"plots/{data_filename}.jpg\", dpi=500)"
   ]
  },
  {
   "cell_type": "code",
   "execution_count": null,
   "id": "dd74ff59-a44e-484f-8da6-079dcdee7518",
   "metadata": {},
   "outputs": [],
   "source": []
  }
 ],
 "metadata": {
  "kernelspec": {
   "display_name": "Python 3 (ipykernel)",
   "language": "python",
   "name": "python3"
  },
  "language_info": {
   "codemirror_mode": {
    "name": "ipython",
    "version": 3
   },
   "file_extension": ".py",
   "mimetype": "text/x-python",
   "name": "python",
   "nbconvert_exporter": "python",
   "pygments_lexer": "ipython3",
   "version": "3.13.1"
  }
 },
 "nbformat": 4,
 "nbformat_minor": 5
}
