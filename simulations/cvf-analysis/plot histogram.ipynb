{
 "cells": [
  {
   "cell_type": "code",
   "execution_count": 1,
   "id": "4643426c-e100-4f30-80f5-21d63fa08e94",
   "metadata": {},
   "outputs": [],
   "source": [
    "import numpy as np\n",
    "import pandas as pd\n",
    "\n",
    "from matplotlib import pyplot as plt"
   ]
  },
  {
   "cell_type": "code",
   "execution_count": 2,
   "id": "78f62060-4f5e-4104-9ea3-97876fb69c7c",
   "metadata": {},
   "outputs": [],
   "source": [
    "# data_filename = \"graph_1__0__10000__False__0.9__0.60\""
   ]
  },
  {
   "cell_type": "code",
   "execution_count": 3,
   "id": "7f500359-fa27-4b4e-a404-06df9bc7fb74",
   "metadata": {},
   "outputs": [],
   "source": [
    "data_filename = \"graph_7__0__10000__False__0.6__0.80\""
   ]
  },
  {
   "cell_type": "code",
   "execution_count": 4,
   "id": "993f70db",
   "metadata": {},
   "outputs": [],
   "source": [
    "# data_filename = \"graph_powerlaw_cluster_graph_n30__0__100000__False__0.5__0.60\""
   ]
  },
  {
   "cell_type": "code",
   "execution_count": 5,
   "id": "dde34a52-7c13-40d3-b8fa-993316a1f456",
   "metadata": {},
   "outputs": [],
   "source": [
    "# data_filename = \"implicit_graph_n20__0__50000__False__0.5__0.60\""
   ]
  },
  {
   "cell_type": "code",
   "execution_count": 6,
   "id": "25f1d1fe-23d3-4545-bc0e-e54d49ab732f",
   "metadata": {},
   "outputs": [],
   "source": [
    "df = pd.read_csv(f\"results/{data_filename}.csv\")"
   ]
  },
  {
   "cell_type": "code",
   "execution_count": 14,
   "id": "19e2aa85-f1a3-46e3-8e51-0b39491f6d3d",
   "metadata": {},
   "outputs": [
    {
     "data": {
      "text/html": [
       "<div>\n",
       "<style scoped>\n",
       "    .dataframe tbody tr th:only-of-type {\n",
       "        vertical-align: middle;\n",
       "    }\n",
       "\n",
       "    .dataframe tbody tr th {\n",
       "        vertical-align: top;\n",
       "    }\n",
       "\n",
       "    .dataframe thead th {\n",
       "        text-align: right;\n",
       "    }\n",
       "</style>\n",
       "<table border=\"1\" class=\"dataframe\">\n",
       "  <thead>\n",
       "    <tr style=\"text-align: right;\">\n",
       "      <th></th>\n",
       "      <th>Node</th>\n",
       "      <th>1</th>\n",
       "      <th>6</th>\n",
       "      <th>12</th>\n",
       "      <th>18</th>\n",
       "      <th>24</th>\n",
       "      <th>30</th>\n",
       "      <th>35</th>\n",
       "      <th>41</th>\n",
       "      <th>47</th>\n",
       "      <th>53</th>\n",
       "      <th>59</th>\n",
       "    </tr>\n",
       "  </thead>\n",
       "  <tbody>\n",
       "    <tr>\n",
       "      <th>0</th>\n",
       "      <td>0</td>\n",
       "      <td>7608</td>\n",
       "      <td>1786</td>\n",
       "      <td>474</td>\n",
       "      <td>99</td>\n",
       "      <td>28</td>\n",
       "      <td>4</td>\n",
       "      <td>1</td>\n",
       "      <td>0</td>\n",
       "      <td>0</td>\n",
       "      <td>0</td>\n",
       "      <td>NaN</td>\n",
       "    </tr>\n",
       "    <tr>\n",
       "      <th>4</th>\n",
       "      <td>4</td>\n",
       "      <td>6760</td>\n",
       "      <td>2438</td>\n",
       "      <td>625</td>\n",
       "      <td>142</td>\n",
       "      <td>25</td>\n",
       "      <td>8</td>\n",
       "      <td>2</td>\n",
       "      <td>0</td>\n",
       "      <td>0</td>\n",
       "      <td>0</td>\n",
       "      <td>NaN</td>\n",
       "    </tr>\n",
       "    <tr>\n",
       "      <th>5</th>\n",
       "      <td>5</td>\n",
       "      <td>7603</td>\n",
       "      <td>1895</td>\n",
       "      <td>409</td>\n",
       "      <td>75</td>\n",
       "      <td>15</td>\n",
       "      <td>2</td>\n",
       "      <td>1</td>\n",
       "      <td>0</td>\n",
       "      <td>0</td>\n",
       "      <td>0</td>\n",
       "      <td>NaN</td>\n",
       "    </tr>\n",
       "    <tr>\n",
       "      <th>9</th>\n",
       "      <td>9</td>\n",
       "      <td>6535</td>\n",
       "      <td>2683</td>\n",
       "      <td>601</td>\n",
       "      <td>142</td>\n",
       "      <td>29</td>\n",
       "      <td>8</td>\n",
       "      <td>1</td>\n",
       "      <td>1</td>\n",
       "      <td>0</td>\n",
       "      <td>0</td>\n",
       "      <td>NaN</td>\n",
       "    </tr>\n",
       "  </tbody>\n",
       "</table>\n",
       "</div>"
      ],
      "text/plain": [
       "   Node     1     6   12   18  24  30  35  41  47  53  59\n",
       "0     0  7608  1786  474   99  28   4   1   0   0   0 NaN\n",
       "4     4  6760  2438  625  142  25   8   2   0   0   0 NaN\n",
       "5     5  7603  1895  409   75  15   2   1   0   0   0 NaN\n",
       "9     9  6535  2683  601  142  29   8   1   1   0   0 NaN"
      ]
     },
     "execution_count": 14,
     "metadata": {},
     "output_type": "execute_result"
    }
   ],
   "source": [
    "df.iloc[[0, 4, 5, 9]]"
   ]
  },
  {
   "cell_type": "code",
   "execution_count": 8,
   "id": "00824da7-88ad-48c7-9a1e-eb01c0dce0cd",
   "metadata": {},
   "outputs": [],
   "source": [
    "# df.iloc[[0, 10, 19]]"
   ]
  },
  {
   "cell_type": "code",
   "execution_count": 9,
   "id": "328a7b03-1480-4d30-9bf0-f9cb7089bd9b",
   "metadata": {},
   "outputs": [
    {
     "data": {
      "text/plain": [
       "array([ 1,  6, 12, 18, 24, 30, 35, 41, 47, 53, 59])"
      ]
     },
     "execution_count": 9,
     "metadata": {},
     "output_type": "execute_result"
    }
   ],
   "source": [
    "X = df.columns[1:].astype(int).to_numpy()\n",
    "X"
   ]
  },
  {
   "cell_type": "code",
   "execution_count": 10,
   "id": "dbbfa421-53d0-4414-931a-83c7fce1bd11",
   "metadata": {},
   "outputs": [
    {
     "data": {
      "text/plain": [
       "<Figure size 2500x700 with 0 Axes>"
      ]
     },
     "execution_count": 10,
     "metadata": {},
     "output_type": "execute_result"
    },
    {
     "data": {
      "text/plain": [
       "<Figure size 2500x700 with 0 Axes>"
      ]
     },
     "metadata": {},
     "output_type": "display_data"
    }
   ],
   "source": [
    "plt.figure(figsize=(25, 7))"
   ]
  },
  {
   "cell_type": "code",
   "execution_count": 11,
   "id": "f71211f6-8960-4a59-a2ef-990c1aa1917b",
   "metadata": {},
   "outputs": [],
   "source": [
    "markers = ('.', 'o', 'v', '^', '<', '>', '8', 's', 'p', '*', 'h', 'H', 'D', 'd', 'P', 'X')"
   ]
  },
  {
   "cell_type": "code",
   "execution_count": 12,
   "id": "ba33a2e2-8f69-40bc-b751-e1f554f3483a",
   "metadata": {},
   "outputs": [],
   "source": [
    "plt.ioff()\n",
    "for i in range(df.shape[0]):\n",
    "    if i in {0, 4, 5, 9}:\n",
    "        j = i % len(markers)\n",
    "        node = int(df.iloc[i].Node)\n",
    "        plt.scatter(X, df.iloc[i].to_numpy()[1:], marker=markers[j], label=f'Node {node}')"
   ]
  },
  {
   "cell_type": "code",
   "execution_count": 13,
   "id": "0bc1ed73-fe48-44e7-9c4e-2c9ca93994f4",
   "metadata": {},
   "outputs": [],
   "source": [
    "plt.legend(fontsize=5)\n",
    "plt.tight_layout()\n",
    "plt.savefig(f\"plots/{data_filename}.jpg\", dpi=500)"
   ]
  },
  {
   "cell_type": "code",
   "execution_count": null,
   "id": "dd74ff59-a44e-484f-8da6-079dcdee7518",
   "metadata": {},
   "outputs": [],
   "source": []
  }
 ],
 "metadata": {
  "kernelspec": {
   "display_name": "Python 3 (ipykernel)",
   "language": "python",
   "name": "python3"
  },
  "language_info": {
   "codemirror_mode": {
    "name": "ipython",
    "version": 3
   },
   "file_extension": ".py",
   "mimetype": "text/x-python",
   "name": "python",
   "nbconvert_exporter": "python",
   "pygments_lexer": "ipython3",
   "version": "3.13.1"
  }
 },
 "nbformat": 4,
 "nbformat_minor": 5
}
