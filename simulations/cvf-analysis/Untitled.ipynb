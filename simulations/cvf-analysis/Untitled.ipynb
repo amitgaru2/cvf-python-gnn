{
 "cells": [
  {
   "cell_type": "code",
   "execution_count": 1,
   "id": "4643426c-e100-4f30-80f5-21d63fa08e94",
   "metadata": {},
   "outputs": [],
   "source": [
    "import numpy as np\n",
    "import pandas as pd\n",
    "\n",
    "from matplotlib import pyplot as plt"
   ]
  },
  {
   "cell_type": "code",
   "execution_count": 2,
   "id": "63fbc86c-4d2c-425c-a81d-f0a3b1ab3a07",
   "metadata": {},
   "outputs": [
    {
     "data": {
      "text/plain": [
       "<contextlib.ExitStack at 0x736dbad18740>"
      ]
     },
     "execution_count": 2,
     "metadata": {},
     "output_type": "execute_result"
    }
   ],
   "source": [
    "plt.ioff()"
   ]
  },
  {
   "cell_type": "code",
   "execution_count": 3,
   "id": "25f1d1fe-23d3-4545-bc0e-e54d49ab732f",
   "metadata": {},
   "outputs": [],
   "source": [
    "df = pd.read_csv(\"results/graph_1__0__10000__False__0.9__0.60.csv\")"
   ]
  },
  {
   "cell_type": "code",
   "execution_count": 4,
   "id": "00824da7-88ad-48c7-9a1e-eb01c0dce0cd",
   "metadata": {},
   "outputs": [
    {
     "data": {
      "text/html": [
       "<div>\n",
       "<style scoped>\n",
       "    .dataframe tbody tr th:only-of-type {\n",
       "        vertical-align: middle;\n",
       "    }\n",
       "\n",
       "    .dataframe tbody tr th {\n",
       "        vertical-align: top;\n",
       "    }\n",
       "\n",
       "    .dataframe thead th {\n",
       "        text-align: right;\n",
       "    }\n",
       "</style>\n",
       "<table border=\"1\" class=\"dataframe\">\n",
       "  <thead>\n",
       "    <tr style=\"text-align: right;\">\n",
       "      <th></th>\n",
       "      <th>Node</th>\n",
       "      <th>1</th>\n",
       "      <th>25</th>\n",
       "      <th>50</th>\n",
       "      <th>75</th>\n",
       "      <th>100</th>\n",
       "      <th>125</th>\n",
       "      <th>149</th>\n",
       "      <th>174</th>\n",
       "      <th>199</th>\n",
       "      <th>224</th>\n",
       "      <th>249</th>\n",
       "    </tr>\n",
       "  </thead>\n",
       "  <tbody>\n",
       "    <tr>\n",
       "      <th>0</th>\n",
       "      <td>0</td>\n",
       "      <td>10000</td>\n",
       "      <td>0</td>\n",
       "      <td>0</td>\n",
       "      <td>0</td>\n",
       "      <td>0</td>\n",
       "      <td>0</td>\n",
       "      <td>0</td>\n",
       "      <td>0</td>\n",
       "      <td>0</td>\n",
       "      <td>0</td>\n",
       "      <td>NaN</td>\n",
       "    </tr>\n",
       "    <tr>\n",
       "      <th>1</th>\n",
       "      <td>1</td>\n",
       "      <td>6227</td>\n",
       "      <td>2241</td>\n",
       "      <td>959</td>\n",
       "      <td>363</td>\n",
       "      <td>133</td>\n",
       "      <td>47</td>\n",
       "      <td>16</td>\n",
       "      <td>9</td>\n",
       "      <td>5</td>\n",
       "      <td>0</td>\n",
       "      <td>NaN</td>\n",
       "    </tr>\n",
       "    <tr>\n",
       "      <th>2</th>\n",
       "      <td>2</td>\n",
       "      <td>6228</td>\n",
       "      <td>2282</td>\n",
       "      <td>949</td>\n",
       "      <td>344</td>\n",
       "      <td>130</td>\n",
       "      <td>46</td>\n",
       "      <td>13</td>\n",
       "      <td>6</td>\n",
       "      <td>1</td>\n",
       "      <td>1</td>\n",
       "      <td>NaN</td>\n",
       "    </tr>\n",
       "    <tr>\n",
       "      <th>3</th>\n",
       "      <td>3</td>\n",
       "      <td>6269</td>\n",
       "      <td>2274</td>\n",
       "      <td>947</td>\n",
       "      <td>325</td>\n",
       "      <td>120</td>\n",
       "      <td>39</td>\n",
       "      <td>13</td>\n",
       "      <td>10</td>\n",
       "      <td>3</td>\n",
       "      <td>0</td>\n",
       "      <td>NaN</td>\n",
       "    </tr>\n",
       "    <tr>\n",
       "      <th>4</th>\n",
       "      <td>4</td>\n",
       "      <td>6257</td>\n",
       "      <td>2272</td>\n",
       "      <td>919</td>\n",
       "      <td>353</td>\n",
       "      <td>126</td>\n",
       "      <td>48</td>\n",
       "      <td>17</td>\n",
       "      <td>5</td>\n",
       "      <td>2</td>\n",
       "      <td>1</td>\n",
       "      <td>NaN</td>\n",
       "    </tr>\n",
       "    <tr>\n",
       "      <th>5</th>\n",
       "      <td>5</td>\n",
       "      <td>6235</td>\n",
       "      <td>2297</td>\n",
       "      <td>923</td>\n",
       "      <td>347</td>\n",
       "      <td>124</td>\n",
       "      <td>47</td>\n",
       "      <td>20</td>\n",
       "      <td>5</td>\n",
       "      <td>2</td>\n",
       "      <td>0</td>\n",
       "      <td>NaN</td>\n",
       "    </tr>\n",
       "    <tr>\n",
       "      <th>6</th>\n",
       "      <td>6</td>\n",
       "      <td>6293</td>\n",
       "      <td>2227</td>\n",
       "      <td>936</td>\n",
       "      <td>357</td>\n",
       "      <td>126</td>\n",
       "      <td>43</td>\n",
       "      <td>11</td>\n",
       "      <td>4</td>\n",
       "      <td>2</td>\n",
       "      <td>1</td>\n",
       "      <td>NaN</td>\n",
       "    </tr>\n",
       "    <tr>\n",
       "      <th>7</th>\n",
       "      <td>7</td>\n",
       "      <td>6266</td>\n",
       "      <td>2257</td>\n",
       "      <td>953</td>\n",
       "      <td>349</td>\n",
       "      <td>114</td>\n",
       "      <td>42</td>\n",
       "      <td>13</td>\n",
       "      <td>5</td>\n",
       "      <td>0</td>\n",
       "      <td>1</td>\n",
       "      <td>NaN</td>\n",
       "    </tr>\n",
       "    <tr>\n",
       "      <th>8</th>\n",
       "      <td>8</td>\n",
       "      <td>6299</td>\n",
       "      <td>2261</td>\n",
       "      <td>922</td>\n",
       "      <td>316</td>\n",
       "      <td>126</td>\n",
       "      <td>49</td>\n",
       "      <td>16</td>\n",
       "      <td>3</td>\n",
       "      <td>7</td>\n",
       "      <td>1</td>\n",
       "      <td>NaN</td>\n",
       "    </tr>\n",
       "    <tr>\n",
       "      <th>9</th>\n",
       "      <td>9</td>\n",
       "      <td>6129</td>\n",
       "      <td>2298</td>\n",
       "      <td>992</td>\n",
       "      <td>375</td>\n",
       "      <td>138</td>\n",
       "      <td>44</td>\n",
       "      <td>21</td>\n",
       "      <td>1</td>\n",
       "      <td>1</td>\n",
       "      <td>1</td>\n",
       "      <td>NaN</td>\n",
       "    </tr>\n",
       "  </tbody>\n",
       "</table>\n",
       "</div>"
      ],
      "text/plain": [
       "   Node      1    25   50   75  100  125  149  174  199  224  249\n",
       "0     0  10000     0    0    0    0    0    0    0    0    0  NaN\n",
       "1     1   6227  2241  959  363  133   47   16    9    5    0  NaN\n",
       "2     2   6228  2282  949  344  130   46   13    6    1    1  NaN\n",
       "3     3   6269  2274  947  325  120   39   13   10    3    0  NaN\n",
       "4     4   6257  2272  919  353  126   48   17    5    2    1  NaN\n",
       "5     5   6235  2297  923  347  124   47   20    5    2    0  NaN\n",
       "6     6   6293  2227  936  357  126   43   11    4    2    1  NaN\n",
       "7     7   6266  2257  953  349  114   42   13    5    0    1  NaN\n",
       "8     8   6299  2261  922  316  126   49   16    3    7    1  NaN\n",
       "9     9   6129  2298  992  375  138   44   21    1    1    1  NaN"
      ]
     },
     "execution_count": 4,
     "metadata": {},
     "output_type": "execute_result"
    }
   ],
   "source": [
    "df"
   ]
  },
  {
   "cell_type": "code",
   "execution_count": 5,
   "id": "328a7b03-1480-4d30-9bf0-f9cb7089bd9b",
   "metadata": {},
   "outputs": [
    {
     "data": {
      "text/plain": [
       "array([  1,  25,  50,  75, 100, 125, 149, 174, 199, 224, 249])"
      ]
     },
     "execution_count": 5,
     "metadata": {},
     "output_type": "execute_result"
    }
   ],
   "source": [
    "X = df.columns[1:].astype(int).to_numpy()\n",
    "X"
   ]
  },
  {
   "cell_type": "code",
   "execution_count": 6,
   "id": "a3f29ece-387d-4e17-bebc-c4d582e7f8e6",
   "metadata": {},
   "outputs": [
    {
     "data": {
      "text/plain": [
       "array([    0., 10000.,     0.,     0.,     0.,     0.,     0.,     0.,\n",
       "           0.,     0.,     0.,    nan])"
      ]
     },
     "execution_count": 6,
     "metadata": {},
     "output_type": "execute_result"
    }
   ],
   "source": [
    "df.iloc[0].to_numpy()"
   ]
  },
  {
   "cell_type": "code",
   "execution_count": 7,
   "id": "f71211f6-8960-4a59-a2ef-990c1aa1917b",
   "metadata": {},
   "outputs": [],
   "source": [
    "markers = ('.', 'o', 'v', '^', '<', '>', '8', 's', 'p', '*', 'h', 'H', 'D', 'd', 'P', 'X')"
   ]
  },
  {
   "cell_type": "code",
   "execution_count": 16,
   "id": "a44d516b-d279-4d35-805f-f3f92e9e175f",
   "metadata": {},
   "outputs": [
    {
     "data": {
      "text/plain": [
       "<Figure size 1500x700 with 0 Axes>"
      ]
     },
     "execution_count": 16,
     "metadata": {},
     "output_type": "execute_result"
    }
   ],
   "source": [
    "plt.figure(figsize=(15, 7))"
   ]
  },
  {
   "cell_type": "code",
   "execution_count": 17,
   "id": "ba33a2e2-8f69-40bc-b751-e1f554f3483a",
   "metadata": {},
   "outputs": [],
   "source": [
    "plt.ioff()\n",
    "for i in range(10):\n",
    "    plt.scatter(X, df.iloc[i].to_numpy()[1:], marker=markers[i], label=f'Node {i}')"
   ]
  },
  {
   "cell_type": "code",
   "execution_count": 18,
   "id": "0bc1ed73-fe48-44e7-9c4e-2c9ca93994f4",
   "metadata": {},
   "outputs": [
    {
     "data": {
      "text/plain": [
       "<matplotlib.legend.Legend at 0x736d72e0e150>"
      ]
     },
     "execution_count": 18,
     "metadata": {},
     "output_type": "execute_result"
    }
   ],
   "source": [
    "plt.legend()"
   ]
  },
  {
   "cell_type": "code",
   "execution_count": 19,
   "id": "d71cad34-20b5-4d12-aa52-c5cd4f09ddd9",
   "metadata": {},
   "outputs": [],
   "source": [
    "plt.savefig(\"test.jpg\")"
   ]
  },
  {
   "cell_type": "code",
   "execution_count": null,
   "id": "2813e9e3-0f0a-494e-97c1-54c1d325fcf0",
   "metadata": {},
   "outputs": [],
   "source": []
  },
  {
   "cell_type": "code",
   "execution_count": null,
   "id": "c80db32f-8a83-4394-992f-f0c03545f200",
   "metadata": {},
   "outputs": [],
   "source": []
  }
 ],
 "metadata": {
  "kernelspec": {
   "display_name": "Python 3 (ipykernel)",
   "language": "python",
   "name": "python3"
  },
  "language_info": {
   "codemirror_mode": {
    "name": "ipython",
    "version": 3
   },
   "file_extension": ".py",
   "mimetype": "text/x-python",
   "name": "python",
   "nbconvert_exporter": "python",
   "pygments_lexer": "ipython3",
   "version": "3.12.7"
  }
 },
 "nbformat": 4,
 "nbformat_minor": 5
}
