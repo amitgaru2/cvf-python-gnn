{
 "cells": [
  {
   "cell_type": "code",
   "execution_count": 1,
   "id": "79bebfc5",
   "metadata": {},
   "outputs": [],
   "source": [
    "import os\n",
    "import numpy as np\n",
    "import pandas as pd\n",
    "import seaborn as sns\n",
    "\n",
    "\n",
    "from matplotlib import pyplot as plt"
   ]
  },
  {
   "cell_type": "code",
   "execution_count": null,
   "id": "f89d572d",
   "metadata": {},
   "outputs": [],
   "source": [
    "program = \"graph_coloring\"\n",
    "# program = \"maximal_matching\"\n",
    "# program = \"dijkstra_token_ring\"\n",
    "# graph_name = \"graph_7\"\n",
    "graph_name = \"graph_10\"\n",
    "# graph_name = \"implicit_graph_n10\"\n",
    "\n",
    "no_simulations = 100000\n",
    "fault_interval = 2\n",
    "sched = 0\n",
    "\n",
    "selected_nodes = [0, 4, 9]\n",
    "\n",
    "simulation_type = \"controlled_at_node_amit_v2\"\n",
    "limits = 100\n",
    "\n",
    "merge_files = [\n",
    "    f\"w_exp_{program}__{graph_name}__{sched}__{no_simulations}__{fault_interval}__{n}__{simulation_type}__{limits}\"\n",
    "    for n in selected_nodes\n",
    "]"
   ]
  },
  {
   "cell_type": "code",
   "execution_count": 3,
   "id": "c2a7ceee",
   "metadata": {},
   "outputs": [
    {
     "ename": "FileNotFoundError",
     "evalue": "[Errno 2] No such file or directory: 'results/graph_coloring/w_exp_graph_coloring__graph_10__0__100000__3__0__controlled_at_node_amit_v2__100.csv'",
     "output_type": "error",
     "traceback": [
      "\u001b[31m---------------------------------------------------------------------------\u001b[39m",
      "\u001b[31mFileNotFoundError\u001b[39m                         Traceback (most recent call last)",
      "\u001b[36mCell\u001b[39m\u001b[36m \u001b[39m\u001b[32mIn[3]\u001b[39m\u001b[32m, line 1\u001b[39m\n\u001b[32m----> \u001b[39m\u001b[32m1\u001b[39m dfs = [\u001b[43mpd\u001b[49m\u001b[43m.\u001b[49m\u001b[43mread_csv\u001b[49m\u001b[43m(\u001b[49m\u001b[33;43mf\u001b[39;49m\u001b[33;43m\"\u001b[39;49m\u001b[38;5;132;43;01m{\u001b[39;49;00m\u001b[43mos\u001b[49m\u001b[43m.\u001b[49m\u001b[43mpath\u001b[49m\u001b[43m.\u001b[49m\u001b[43mjoin\u001b[49m\u001b[43m(\u001b[49m\u001b[33;43m\"\u001b[39;49m\u001b[33;43mresults\u001b[39;49m\u001b[33;43m\"\u001b[39;49m\u001b[43m,\u001b[49m\u001b[38;5;250;43m \u001b[39;49m\u001b[43mprogram\u001b[49m\u001b[43m,\u001b[49m\u001b[38;5;250;43m \u001b[39;49m\u001b[43mf\u001b[49m\u001b[43m)\u001b[49m\u001b[38;5;132;43;01m}\u001b[39;49;00m\u001b[33;43m.csv\u001b[39;49m\u001b[33;43m\"\u001b[39;49m\u001b[43m)\u001b[49m.drop(\u001b[33m'\u001b[39m\u001b[33mCount\u001b[39m\u001b[33m'\u001b[39m, axis=\u001b[32m1\u001b[39m) \u001b[38;5;28;01mfor\u001b[39;00m f \u001b[38;5;129;01min\u001b[39;00m merge_files]\n\u001b[32m      2\u001b[39m \u001b[38;5;28;01mfor\u001b[39;00m df \u001b[38;5;129;01min\u001b[39;00m dfs:\n\u001b[32m      3\u001b[39m     df[\u001b[33m'\u001b[39m\u001b[33mSteps\u001b[39m\u001b[33m'\u001b[39m] = np.ceil(df[\u001b[33m'\u001b[39m\u001b[33mSteps\u001b[39m\u001b[33m'\u001b[39m]).astype(\u001b[38;5;28mint\u001b[39m)\n",
      "\u001b[36mFile \u001b[39m\u001b[32m~/anaconda3/envs/cvf/lib/python3.13/site-packages/pandas/io/parsers/readers.py:1026\u001b[39m, in \u001b[36mread_csv\u001b[39m\u001b[34m(filepath_or_buffer, sep, delimiter, header, names, index_col, usecols, dtype, engine, converters, true_values, false_values, skipinitialspace, skiprows, skipfooter, nrows, na_values, keep_default_na, na_filter, verbose, skip_blank_lines, parse_dates, infer_datetime_format, keep_date_col, date_parser, date_format, dayfirst, cache_dates, iterator, chunksize, compression, thousands, decimal, lineterminator, quotechar, quoting, doublequote, escapechar, comment, encoding, encoding_errors, dialect, on_bad_lines, delim_whitespace, low_memory, memory_map, float_precision, storage_options, dtype_backend)\u001b[39m\n\u001b[32m   1013\u001b[39m kwds_defaults = _refine_defaults_read(\n\u001b[32m   1014\u001b[39m     dialect,\n\u001b[32m   1015\u001b[39m     delimiter,\n\u001b[32m   (...)\u001b[39m\u001b[32m   1022\u001b[39m     dtype_backend=dtype_backend,\n\u001b[32m   1023\u001b[39m )\n\u001b[32m   1024\u001b[39m kwds.update(kwds_defaults)\n\u001b[32m-> \u001b[39m\u001b[32m1026\u001b[39m \u001b[38;5;28;01mreturn\u001b[39;00m \u001b[43m_read\u001b[49m\u001b[43m(\u001b[49m\u001b[43mfilepath_or_buffer\u001b[49m\u001b[43m,\u001b[49m\u001b[43m \u001b[49m\u001b[43mkwds\u001b[49m\u001b[43m)\u001b[49m\n",
      "\u001b[36mFile \u001b[39m\u001b[32m~/anaconda3/envs/cvf/lib/python3.13/site-packages/pandas/io/parsers/readers.py:620\u001b[39m, in \u001b[36m_read\u001b[39m\u001b[34m(filepath_or_buffer, kwds)\u001b[39m\n\u001b[32m    617\u001b[39m _validate_names(kwds.get(\u001b[33m\"\u001b[39m\u001b[33mnames\u001b[39m\u001b[33m\"\u001b[39m, \u001b[38;5;28;01mNone\u001b[39;00m))\n\u001b[32m    619\u001b[39m \u001b[38;5;66;03m# Create the parser.\u001b[39;00m\n\u001b[32m--> \u001b[39m\u001b[32m620\u001b[39m parser = \u001b[43mTextFileReader\u001b[49m\u001b[43m(\u001b[49m\u001b[43mfilepath_or_buffer\u001b[49m\u001b[43m,\u001b[49m\u001b[43m \u001b[49m\u001b[43m*\u001b[49m\u001b[43m*\u001b[49m\u001b[43mkwds\u001b[49m\u001b[43m)\u001b[49m\n\u001b[32m    622\u001b[39m \u001b[38;5;28;01mif\u001b[39;00m chunksize \u001b[38;5;129;01mor\u001b[39;00m iterator:\n\u001b[32m    623\u001b[39m     \u001b[38;5;28;01mreturn\u001b[39;00m parser\n",
      "\u001b[36mFile \u001b[39m\u001b[32m~/anaconda3/envs/cvf/lib/python3.13/site-packages/pandas/io/parsers/readers.py:1620\u001b[39m, in \u001b[36mTextFileReader.__init__\u001b[39m\u001b[34m(self, f, engine, **kwds)\u001b[39m\n\u001b[32m   1617\u001b[39m     \u001b[38;5;28mself\u001b[39m.options[\u001b[33m\"\u001b[39m\u001b[33mhas_index_names\u001b[39m\u001b[33m\"\u001b[39m] = kwds[\u001b[33m\"\u001b[39m\u001b[33mhas_index_names\u001b[39m\u001b[33m\"\u001b[39m]\n\u001b[32m   1619\u001b[39m \u001b[38;5;28mself\u001b[39m.handles: IOHandles | \u001b[38;5;28;01mNone\u001b[39;00m = \u001b[38;5;28;01mNone\u001b[39;00m\n\u001b[32m-> \u001b[39m\u001b[32m1620\u001b[39m \u001b[38;5;28mself\u001b[39m._engine = \u001b[38;5;28;43mself\u001b[39;49m\u001b[43m.\u001b[49m\u001b[43m_make_engine\u001b[49m\u001b[43m(\u001b[49m\u001b[43mf\u001b[49m\u001b[43m,\u001b[49m\u001b[43m \u001b[49m\u001b[38;5;28;43mself\u001b[39;49m\u001b[43m.\u001b[49m\u001b[43mengine\u001b[49m\u001b[43m)\u001b[49m\n",
      "\u001b[36mFile \u001b[39m\u001b[32m~/anaconda3/envs/cvf/lib/python3.13/site-packages/pandas/io/parsers/readers.py:1880\u001b[39m, in \u001b[36mTextFileReader._make_engine\u001b[39m\u001b[34m(self, f, engine)\u001b[39m\n\u001b[32m   1878\u001b[39m     \u001b[38;5;28;01mif\u001b[39;00m \u001b[33m\"\u001b[39m\u001b[33mb\u001b[39m\u001b[33m\"\u001b[39m \u001b[38;5;129;01mnot\u001b[39;00m \u001b[38;5;129;01min\u001b[39;00m mode:\n\u001b[32m   1879\u001b[39m         mode += \u001b[33m\"\u001b[39m\u001b[33mb\u001b[39m\u001b[33m\"\u001b[39m\n\u001b[32m-> \u001b[39m\u001b[32m1880\u001b[39m \u001b[38;5;28mself\u001b[39m.handles = \u001b[43mget_handle\u001b[49m\u001b[43m(\u001b[49m\n\u001b[32m   1881\u001b[39m \u001b[43m    \u001b[49m\u001b[43mf\u001b[49m\u001b[43m,\u001b[49m\n\u001b[32m   1882\u001b[39m \u001b[43m    \u001b[49m\u001b[43mmode\u001b[49m\u001b[43m,\u001b[49m\n\u001b[32m   1883\u001b[39m \u001b[43m    \u001b[49m\u001b[43mencoding\u001b[49m\u001b[43m=\u001b[49m\u001b[38;5;28;43mself\u001b[39;49m\u001b[43m.\u001b[49m\u001b[43moptions\u001b[49m\u001b[43m.\u001b[49m\u001b[43mget\u001b[49m\u001b[43m(\u001b[49m\u001b[33;43m\"\u001b[39;49m\u001b[33;43mencoding\u001b[39;49m\u001b[33;43m\"\u001b[39;49m\u001b[43m,\u001b[49m\u001b[43m \u001b[49m\u001b[38;5;28;43;01mNone\u001b[39;49;00m\u001b[43m)\u001b[49m\u001b[43m,\u001b[49m\n\u001b[32m   1884\u001b[39m \u001b[43m    \u001b[49m\u001b[43mcompression\u001b[49m\u001b[43m=\u001b[49m\u001b[38;5;28;43mself\u001b[39;49m\u001b[43m.\u001b[49m\u001b[43moptions\u001b[49m\u001b[43m.\u001b[49m\u001b[43mget\u001b[49m\u001b[43m(\u001b[49m\u001b[33;43m\"\u001b[39;49m\u001b[33;43mcompression\u001b[39;49m\u001b[33;43m\"\u001b[39;49m\u001b[43m,\u001b[49m\u001b[43m \u001b[49m\u001b[38;5;28;43;01mNone\u001b[39;49;00m\u001b[43m)\u001b[49m\u001b[43m,\u001b[49m\n\u001b[32m   1885\u001b[39m \u001b[43m    \u001b[49m\u001b[43mmemory_map\u001b[49m\u001b[43m=\u001b[49m\u001b[38;5;28;43mself\u001b[39;49m\u001b[43m.\u001b[49m\u001b[43moptions\u001b[49m\u001b[43m.\u001b[49m\u001b[43mget\u001b[49m\u001b[43m(\u001b[49m\u001b[33;43m\"\u001b[39;49m\u001b[33;43mmemory_map\u001b[39;49m\u001b[33;43m\"\u001b[39;49m\u001b[43m,\u001b[49m\u001b[43m \u001b[49m\u001b[38;5;28;43;01mFalse\u001b[39;49;00m\u001b[43m)\u001b[49m\u001b[43m,\u001b[49m\n\u001b[32m   1886\u001b[39m \u001b[43m    \u001b[49m\u001b[43mis_text\u001b[49m\u001b[43m=\u001b[49m\u001b[43mis_text\u001b[49m\u001b[43m,\u001b[49m\n\u001b[32m   1887\u001b[39m \u001b[43m    \u001b[49m\u001b[43merrors\u001b[49m\u001b[43m=\u001b[49m\u001b[38;5;28;43mself\u001b[39;49m\u001b[43m.\u001b[49m\u001b[43moptions\u001b[49m\u001b[43m.\u001b[49m\u001b[43mget\u001b[49m\u001b[43m(\u001b[49m\u001b[33;43m\"\u001b[39;49m\u001b[33;43mencoding_errors\u001b[39;49m\u001b[33;43m\"\u001b[39;49m\u001b[43m,\u001b[49m\u001b[43m \u001b[49m\u001b[33;43m\"\u001b[39;49m\u001b[33;43mstrict\u001b[39;49m\u001b[33;43m\"\u001b[39;49m\u001b[43m)\u001b[49m\u001b[43m,\u001b[49m\n\u001b[32m   1888\u001b[39m \u001b[43m    \u001b[49m\u001b[43mstorage_options\u001b[49m\u001b[43m=\u001b[49m\u001b[38;5;28;43mself\u001b[39;49m\u001b[43m.\u001b[49m\u001b[43moptions\u001b[49m\u001b[43m.\u001b[49m\u001b[43mget\u001b[49m\u001b[43m(\u001b[49m\u001b[33;43m\"\u001b[39;49m\u001b[33;43mstorage_options\u001b[39;49m\u001b[33;43m\"\u001b[39;49m\u001b[43m,\u001b[49m\u001b[43m \u001b[49m\u001b[38;5;28;43;01mNone\u001b[39;49;00m\u001b[43m)\u001b[49m\u001b[43m,\u001b[49m\n\u001b[32m   1889\u001b[39m \u001b[43m\u001b[49m\u001b[43m)\u001b[49m\n\u001b[32m   1890\u001b[39m \u001b[38;5;28;01massert\u001b[39;00m \u001b[38;5;28mself\u001b[39m.handles \u001b[38;5;129;01mis\u001b[39;00m \u001b[38;5;129;01mnot\u001b[39;00m \u001b[38;5;28;01mNone\u001b[39;00m\n\u001b[32m   1891\u001b[39m f = \u001b[38;5;28mself\u001b[39m.handles.handle\n",
      "\u001b[36mFile \u001b[39m\u001b[32m~/anaconda3/envs/cvf/lib/python3.13/site-packages/pandas/io/common.py:873\u001b[39m, in \u001b[36mget_handle\u001b[39m\u001b[34m(path_or_buf, mode, encoding, compression, memory_map, is_text, errors, storage_options)\u001b[39m\n\u001b[32m    868\u001b[39m \u001b[38;5;28;01melif\u001b[39;00m \u001b[38;5;28misinstance\u001b[39m(handle, \u001b[38;5;28mstr\u001b[39m):\n\u001b[32m    869\u001b[39m     \u001b[38;5;66;03m# Check whether the filename is to be opened in binary mode.\u001b[39;00m\n\u001b[32m    870\u001b[39m     \u001b[38;5;66;03m# Binary mode does not support 'encoding' and 'newline'.\u001b[39;00m\n\u001b[32m    871\u001b[39m     \u001b[38;5;28;01mif\u001b[39;00m ioargs.encoding \u001b[38;5;129;01mand\u001b[39;00m \u001b[33m\"\u001b[39m\u001b[33mb\u001b[39m\u001b[33m\"\u001b[39m \u001b[38;5;129;01mnot\u001b[39;00m \u001b[38;5;129;01min\u001b[39;00m ioargs.mode:\n\u001b[32m    872\u001b[39m         \u001b[38;5;66;03m# Encoding\u001b[39;00m\n\u001b[32m--> \u001b[39m\u001b[32m873\u001b[39m         handle = \u001b[38;5;28;43mopen\u001b[39;49m\u001b[43m(\u001b[49m\n\u001b[32m    874\u001b[39m \u001b[43m            \u001b[49m\u001b[43mhandle\u001b[49m\u001b[43m,\u001b[49m\n\u001b[32m    875\u001b[39m \u001b[43m            \u001b[49m\u001b[43mioargs\u001b[49m\u001b[43m.\u001b[49m\u001b[43mmode\u001b[49m\u001b[43m,\u001b[49m\n\u001b[32m    876\u001b[39m \u001b[43m            \u001b[49m\u001b[43mencoding\u001b[49m\u001b[43m=\u001b[49m\u001b[43mioargs\u001b[49m\u001b[43m.\u001b[49m\u001b[43mencoding\u001b[49m\u001b[43m,\u001b[49m\n\u001b[32m    877\u001b[39m \u001b[43m            \u001b[49m\u001b[43merrors\u001b[49m\u001b[43m=\u001b[49m\u001b[43merrors\u001b[49m\u001b[43m,\u001b[49m\n\u001b[32m    878\u001b[39m \u001b[43m            \u001b[49m\u001b[43mnewline\u001b[49m\u001b[43m=\u001b[49m\u001b[33;43m\"\u001b[39;49m\u001b[33;43m\"\u001b[39;49m\u001b[43m,\u001b[49m\n\u001b[32m    879\u001b[39m \u001b[43m        \u001b[49m\u001b[43m)\u001b[49m\n\u001b[32m    880\u001b[39m     \u001b[38;5;28;01melse\u001b[39;00m:\n\u001b[32m    881\u001b[39m         \u001b[38;5;66;03m# Binary mode\u001b[39;00m\n\u001b[32m    882\u001b[39m         handle = \u001b[38;5;28mopen\u001b[39m(handle, ioargs.mode)\n",
      "\u001b[31mFileNotFoundError\u001b[39m: [Errno 2] No such file or directory: 'results/graph_coloring/w_exp_graph_coloring__graph_10__0__100000__3__0__controlled_at_node_amit_v2__100.csv'"
     ]
    }
   ],
   "source": [
    "dfs = [pd.read_csv(f\"{os.path.join(\"results\", program, f)}.csv\").drop('Count', axis=1) for f in merge_files]\n",
    "for df in dfs:\n",
    "    df['Steps'] = np.ceil(df['Steps']).astype(int)"
   ]
  },
  {
   "cell_type": "code",
   "execution_count": null,
   "id": "626dd793",
   "metadata": {},
   "outputs": [
    {
     "data": {
      "application/vnd.microsoft.datawrangler.viewer.v0+json": {
       "columns": [
        {
         "name": "index",
         "rawType": "int64",
         "type": "integer"
        },
        {
         "name": "Steps",
         "rawType": "int64",
         "type": "integer"
        },
        {
         "name": "exp_fit",
         "rawType": "float64",
         "type": "float"
        }
       ],
       "ref": "20803e3b-8173-4570-b983-f77966426068",
       "rows": [
        [
         "0",
         "0",
         "3626.647599290751"
        ],
        [
         "1",
         "1",
         "3537.818956904676"
        ],
        [
         "2",
         "2",
         "3450.6064783343954"
        ],
        [
         "3",
         "3",
         "3364.9807588135072"
        ],
        [
         "4",
         "4",
         "3280.9129285710524"
        ],
        [
         "5",
         "5",
         "3198.374643097726"
        ],
        [
         "6",
         "6",
         "3117.338073589166"
        ],
        [
         "7",
         "7",
         "3037.775897563137"
        ],
        [
         "8",
         "8",
         "2959.661289647407"
        ],
        [
         "9",
         "9",
         "2882.967912535248"
        ],
        [
         "10",
         "10",
         "2807.669908105485"
        ],
        [
         "11",
         "11",
         "2733.741888704111"
        ],
        [
         "12",
         "12",
         "2661.158928584524"
        ],
        [
         "13",
         "13",
         "2589.8965555035047"
        ],
        [
         "14",
         "14",
         "2519.930742470097"
        ],
        [
         "15",
         "15",
         "2451.237899644608"
        ],
        [
         "16",
         "16",
         "2383.794866385004"
        ],
        [
         "17",
         "17",
         "2317.578903438013"
        ],
        [
         "18",
         "18",
         "2252.5676852723045"
        ],
        [
         "19",
         "19",
         "2188.7392925511595"
        ],
        [
         "20",
         "20",
         "2126.0722047420936"
        ],
        [
         "21",
         "21",
         "2064.545292860947"
        ],
        [
         "22",
         "22",
         "2004.1378123479824"
        ],
        [
         "23",
         "23",
         "1944.829396073601"
        ],
        [
         "24",
         "24",
         "1886.6000474713128"
        ],
        [
         "25",
         "25",
         "1829.43013379565"
        ],
        [
         "26",
         "26",
         "1773.3003795027362"
        ],
        [
         "27",
         "27",
         "1718.1918597513054"
        ],
        [
         "28",
         "28",
         "1664.0859940219552"
        ],
        [
         "29",
         "29",
         "1610.9645398524935"
        ],
        [
         "30",
         "30",
         "1558.80958668727"
        ],
        [
         "31",
         "31",
         "1507.6035498384044"
        ],
        [
         "32",
         "32",
         "1457.3291645568993"
        ],
        [
         "33",
         "33",
         "1407.96948021161"
        ],
        [
         "34",
         "34",
         "1359.5078545741335"
        ],
        [
         "35",
         "35",
         "1311.9279482076722"
        ],
        [
         "36",
         "36",
         "1265.2137189579926"
        ],
        [
         "37",
         "37",
         "1219.349416544615"
        ],
        [
         "38",
         "38",
         "1174.3195772504075"
        ],
        [
         "39",
         "39",
         "1130.1090187078094"
        ],
        [
         "40",
         "40",
         "1086.7028347799005"
        ],
        [
         "41",
         "41",
         "1044.0863905346168"
        ],
        [
         "42",
         "42",
         "1002.2453173104032"
        ],
        [
         "43",
         "43",
         "961.1655078716376"
        ],
        [
         "44",
         "44",
         "920.8331116522048"
        ],
        [
         "45",
         "45",
         "881.234530085605"
        ],
        [
         "46",
         "46",
         "842.3564120200308"
        ],
        [
         "47",
         "47",
         "804.1856492168586"
        ],
        [
         "48",
         "48",
         "766.7093719310453"
        ],
        [
         "49",
         "49",
         "729.9149445719356"
        ]
       ],
       "shape": {
        "columns": 2,
        "rows": 100
       }
      },
      "text/html": [
       "<div>\n",
       "<style scoped>\n",
       "    .dataframe tbody tr th:only-of-type {\n",
       "        vertical-align: middle;\n",
       "    }\n",
       "\n",
       "    .dataframe tbody tr th {\n",
       "        vertical-align: top;\n",
       "    }\n",
       "\n",
       "    .dataframe thead th {\n",
       "        text-align: right;\n",
       "    }\n",
       "</style>\n",
       "<table border=\"1\" class=\"dataframe\">\n",
       "  <thead>\n",
       "    <tr style=\"text-align: right;\">\n",
       "      <th></th>\n",
       "      <th>Steps</th>\n",
       "      <th>exp_fit</th>\n",
       "    </tr>\n",
       "  </thead>\n",
       "  <tbody>\n",
       "    <tr>\n",
       "      <th>0</th>\n",
       "      <td>0</td>\n",
       "      <td>3626.647599</td>\n",
       "    </tr>\n",
       "    <tr>\n",
       "      <th>1</th>\n",
       "      <td>1</td>\n",
       "      <td>3537.818957</td>\n",
       "    </tr>\n",
       "    <tr>\n",
       "      <th>2</th>\n",
       "      <td>2</td>\n",
       "      <td>3450.606478</td>\n",
       "    </tr>\n",
       "    <tr>\n",
       "      <th>3</th>\n",
       "      <td>3</td>\n",
       "      <td>3364.980759</td>\n",
       "    </tr>\n",
       "    <tr>\n",
       "      <th>4</th>\n",
       "      <td>4</td>\n",
       "      <td>3280.912929</td>\n",
       "    </tr>\n",
       "    <tr>\n",
       "      <th>...</th>\n",
       "      <td>...</td>\n",
       "      <td>...</td>\n",
       "    </tr>\n",
       "    <tr>\n",
       "      <th>95</th>\n",
       "      <td>95</td>\n",
       "      <td>-402.405324</td>\n",
       "    </tr>\n",
       "    <tr>\n",
       "      <th>96</th>\n",
       "      <td>96</td>\n",
       "      <td>-417.928674</td>\n",
       "    </tr>\n",
       "    <tr>\n",
       "      <th>97</th>\n",
       "      <td>97</td>\n",
       "      <td>-433.169590</td>\n",
       "    </tr>\n",
       "    <tr>\n",
       "      <th>98</th>\n",
       "      <td>98</td>\n",
       "      <td>-448.133211</td>\n",
       "    </tr>\n",
       "    <tr>\n",
       "      <th>99</th>\n",
       "      <td>99</td>\n",
       "      <td>-462.824580</td>\n",
       "    </tr>\n",
       "  </tbody>\n",
       "</table>\n",
       "<p>100 rows × 2 columns</p>\n",
       "</div>"
      ],
      "text/plain": [
       "    Steps      exp_fit\n",
       "0       0  3626.647599\n",
       "1       1  3537.818957\n",
       "2       2  3450.606478\n",
       "3       3  3364.980759\n",
       "4       4  3280.912929\n",
       "..    ...          ...\n",
       "95     95  -402.405324\n",
       "96     96  -417.928674\n",
       "97     97  -433.169590\n",
       "98     98  -448.133211\n",
       "99     99  -462.824580\n",
       "\n",
       "[100 rows x 2 columns]"
      ]
     },
     "execution_count": 4,
     "metadata": {},
     "output_type": "execute_result"
    }
   ],
   "source": [
    "dfs[2]"
   ]
  },
  {
   "cell_type": "code",
   "execution_count": null,
   "id": "7af1ec33",
   "metadata": {},
   "outputs": [
    {
     "data": {
      "application/vnd.microsoft.datawrangler.viewer.v0+json": {
       "columns": [
        {
         "name": "index",
         "rawType": "int64",
         "type": "integer"
        },
        {
         "name": "Steps",
         "rawType": "int64",
         "type": "integer"
        },
        {
         "name": "exp_fit",
         "rawType": "float64",
         "type": "float"
        }
       ],
       "ref": "8b5f45de-5ec0-4da4-80d3-fb1522558225",
       "rows": [
        [
         "0",
         "0",
         "3104.8651229602574"
        ],
        [
         "1",
         "1",
         "3040.725708071572"
        ],
        [
         "2",
         "2",
         "2977.4879011222893"
        ],
        [
         "3",
         "3",
         "2915.139028207016"
        ],
        [
         "4",
         "4",
         "2853.6665935774818"
        ],
        [
         "5",
         "5",
         "2793.0582771381837"
        ],
        [
         "6",
         "6",
         "2733.3019319772397"
        ],
        [
         "7",
         "7",
         "2674.3855819319406"
        ],
        [
         "8",
         "8",
         "2616.297419188533"
        ],
        [
         "9",
         "9",
         "2559.0258019157345"
        ],
        [
         "10",
         "10",
         "2502.5592519315187"
        ],
        [
         "11",
         "11",
         "2446.886452402694"
        ],
        [
         "12",
         "12",
         "2391.99624557683"
        ],
        [
         "13",
         "13",
         "2337.8776305460524"
        ],
        [
         "14",
         "14",
         "2284.5197610422792"
        ],
        [
         "15",
         "15",
         "2231.9119432634525"
        ],
        [
         "16",
         "16",
         "2180.043633730318"
        ],
        [
         "17",
         "17",
         "2128.9044371733426"
        ],
        [
         "18",
         "18",
         "2078.484104449324"
        ],
        [
         "19",
         "19",
         "2028.7725304872968"
        ],
        [
         "20",
         "20",
         "1979.759752263307"
        ],
        [
         "21",
         "21",
         "1931.435946803657"
        ],
        [
         "22",
         "22",
         "1883.7914292162184"
        ],
        [
         "23",
         "23",
         "1836.81665074942"
        ],
        [
         "24",
         "24",
         "1790.5021968785177"
        ],
        [
         "25",
         "25",
         "1744.8387854187702"
        ],
        [
         "26",
         "26",
         "1699.8172646651317"
        ],
        [
         "27",
         "27",
         "1655.4286115581035"
        ],
        [
         "28",
         "28",
         "1611.6639298753578"
        ],
        [
         "29",
         "29",
         "1568.5144484487907"
        ],
        [
         "30",
         "30",
         "1525.9715194066328"
        ],
        [
         "31",
         "31",
         "1484.0266164402735"
        ],
        [
         "32",
         "32",
         "1442.6713330954465"
        ],
        [
         "33",
         "33",
         "1401.8973810874384"
        ],
        [
         "34",
         "34",
         "1361.6965886399764"
        ],
        [
         "35",
         "35",
         "1322.0608988474712"
        ],
        [
         "36",
         "36",
         "1282.9823680602778"
        ],
        [
         "37",
         "37",
         "1244.453164292658"
        ],
        [
         "38",
         "38",
         "1206.4655656531183"
        ],
        [
         "39",
         "39",
         "1169.0119587968177"
        ],
        [
         "40",
         "40",
         "1132.084837399724"
        ],
        [
         "41",
         "41",
         "1095.6768006542245"
        ],
        [
         "42",
         "42",
         "1059.7805517858803"
        ],
        [
         "43",
         "43",
         "1024.3888965910312"
        ],
        [
         "44",
         "44",
         "989.4947419949592"
        ],
        [
         "45",
         "45",
         "955.0910946303176"
        ],
        [
         "46",
         "46",
         "921.1710594355444"
        ],
        [
         "47",
         "47",
         "887.727838272978"
        ],
        [
         "48",
         "48",
         "854.754728566397"
        ],
        [
         "49",
         "49",
         "822.2451219577149"
        ]
       ],
       "shape": {
        "columns": 2,
        "rows": 100
       }
      },
      "text/html": [
       "<div>\n",
       "<style scoped>\n",
       "    .dataframe tbody tr th:only-of-type {\n",
       "        vertical-align: middle;\n",
       "    }\n",
       "\n",
       "    .dataframe tbody tr th {\n",
       "        vertical-align: top;\n",
       "    }\n",
       "\n",
       "    .dataframe thead th {\n",
       "        text-align: right;\n",
       "    }\n",
       "</style>\n",
       "<table border=\"1\" class=\"dataframe\">\n",
       "  <thead>\n",
       "    <tr style=\"text-align: right;\">\n",
       "      <th></th>\n",
       "      <th>Steps</th>\n",
       "      <th>exp_fit</th>\n",
       "    </tr>\n",
       "  </thead>\n",
       "  <tbody>\n",
       "    <tr>\n",
       "      <th>0</th>\n",
       "      <td>0</td>\n",
       "      <td>3104.865123</td>\n",
       "    </tr>\n",
       "    <tr>\n",
       "      <th>1</th>\n",
       "      <td>1</td>\n",
       "      <td>3040.725708</td>\n",
       "    </tr>\n",
       "    <tr>\n",
       "      <th>2</th>\n",
       "      <td>2</td>\n",
       "      <td>2977.487901</td>\n",
       "    </tr>\n",
       "    <tr>\n",
       "      <th>3</th>\n",
       "      <td>3</td>\n",
       "      <td>2915.139028</td>\n",
       "    </tr>\n",
       "    <tr>\n",
       "      <th>4</th>\n",
       "      <td>4</td>\n",
       "      <td>2853.666594</td>\n",
       "    </tr>\n",
       "    <tr>\n",
       "      <th>...</th>\n",
       "      <td>...</td>\n",
       "      <td>...</td>\n",
       "    </tr>\n",
       "    <tr>\n",
       "      <th>95</th>\n",
       "      <td>95</td>\n",
       "      <td>-269.020115</td>\n",
       "    </tr>\n",
       "    <tr>\n",
       "      <th>96</th>\n",
       "      <td>96</td>\n",
       "      <td>-285.732815</td>\n",
       "    </tr>\n",
       "    <tr>\n",
       "      <th>97</th>\n",
       "      <td>97</td>\n",
       "      <td>-302.210585</td>\n",
       "    </tr>\n",
       "    <tr>\n",
       "      <th>98</th>\n",
       "      <td>98</td>\n",
       "      <td>-318.456727</td>\n",
       "    </tr>\n",
       "    <tr>\n",
       "      <th>99</th>\n",
       "      <td>99</td>\n",
       "      <td>-334.474497</td>\n",
       "    </tr>\n",
       "  </tbody>\n",
       "</table>\n",
       "<p>100 rows × 2 columns</p>\n",
       "</div>"
      ],
      "text/plain": [
       "    Steps      exp_fit\n",
       "0       0  3104.865123\n",
       "1       1  3040.725708\n",
       "2       2  2977.487901\n",
       "3       3  2915.139028\n",
       "4       4  2853.666594\n",
       "..    ...          ...\n",
       "95     95  -269.020115\n",
       "96     96  -285.732815\n",
       "97     97  -302.210585\n",
       "98     98  -318.456727\n",
       "99     99  -334.474497\n",
       "\n",
       "[100 rows x 2 columns]"
      ]
     },
     "execution_count": 5,
     "metadata": {},
     "output_type": "execute_result"
    }
   ],
   "source": [
    "dfs[0]"
   ]
  },
  {
   "cell_type": "code",
   "execution_count": null,
   "id": "e71cbfff",
   "metadata": {},
   "outputs": [
    {
     "data": {
      "application/vnd.microsoft.datawrangler.viewer.v0+json": {
       "columns": [
        {
         "name": "index",
         "rawType": "int64",
         "type": "integer"
        },
        {
         "name": "Steps",
         "rawType": "int64",
         "type": "integer"
        },
        {
         "name": "exp_fit",
         "rawType": "float64",
         "type": "float"
        }
       ],
       "ref": "fbffad50-7424-480b-b4c2-fbccdee1e589",
       "rows": [
        [
         "0",
         "0",
         "2744.287749424413"
        ],
        [
         "1",
         "1",
         "2698.4263048100997"
        ],
        [
         "2",
         "2",
         "2652.9609461808413"
        ],
        [
         "3",
         "3",
         "2607.8882527087744"
        ],
        [
         "4",
         "4",
         "2563.204833110288"
        ],
        [
         "5",
         "5",
         "2518.9073253908555"
        ],
        [
         "6",
         "6",
         "2474.992396592085"
        ],
        [
         "7",
         "7",
         "2431.4567425409405"
        ],
        [
         "8",
         "8",
         "2388.2970876011377"
        ],
        [
         "9",
         "9",
         "2345.5101844266856"
        ],
        [
         "10",
         "10",
         "2303.092813717549"
        ],
        [
         "11",
         "11",
         "2261.0417839774345"
        ],
        [
         "12",
         "12",
         "2219.353931273657"
        ],
        [
         "13",
         "13",
         "2178.026118999088"
        ],
        [
         "14",
         "14",
         "2137.0552376361493"
        ],
        [
         "15",
         "15",
         "2096.438204522862"
        ],
        [
         "16",
         "16",
         "2056.1719636208954"
        ],
        [
         "17",
         "17",
         "2016.25348528564"
        ],
        [
         "18",
         "18",
         "1976.6797660382472"
        ],
        [
         "19",
         "19",
         "1937.447828339652"
        ],
        [
         "20",
         "20",
         "1898.554720366541"
        ],
        [
         "21",
         "21",
         "1859.997515789254"
        ],
        [
         "22",
         "22",
         "1821.77331355161"
        ],
        [
         "23",
         "23",
         "1783.8792376526262"
        ],
        [
         "24",
         "24",
         "1746.3124369301322"
        ],
        [
         "25",
         "25",
         "1709.070084846242"
        ],
        [
         "26",
         "26",
         "1672.1493792746887"
        ],
        [
         "27",
         "27",
         "1635.547542289989"
        ],
        [
         "28",
         "28",
         "1599.2618199584322"
        ],
        [
         "29",
         "29",
         "1563.2894821308737"
        ],
        [
         "30",
         "30",
         "1527.627822237318"
        ],
        [
         "31",
         "31",
         "1492.274157083274"
        ],
        [
         "32",
         "32",
         "1457.225826647872"
        ],
        [
         "33",
         "33",
         "1422.4801938837236"
        ],
        [
         "34",
         "34",
         "1388.034644518505"
        ],
        [
         "35",
         "35",
         "1353.8865868582652"
        ],
        [
         "36",
         "36",
         "1320.0334515924203"
        ],
        [
         "37",
         "37",
         "1286.4726916004406"
        ],
        [
         "38",
         "38",
         "1253.2017817602036"
        ],
        [
         "39",
         "39",
         "1220.2182187580038"
        ],
        [
         "40",
         "40",
         "1187.5195209002018"
        ],
        [
         "41",
         "41",
         "1155.103227926501"
        ],
        [
         "42",
         "42",
         "1122.966900824837"
        ],
        [
         "43",
         "43",
         "1091.1081216478656"
        ],
        [
         "44",
         "44",
         "1059.5244933310355"
        ],
        [
         "45",
         "45",
         "1028.2136395122325"
        ],
        [
         "46",
         "46",
         "997.1732043529814"
        ],
        [
         "47",
         "47",
         "966.4008523611928"
        ],
        [
         "48",
         "48",
         "935.894268215437"
        ],
        [
         "49",
         "49",
         "905.6511565907422"
        ]
       ],
       "shape": {
        "columns": 2,
        "rows": 100
       }
      },
      "text/html": [
       "<div>\n",
       "<style scoped>\n",
       "    .dataframe tbody tr th:only-of-type {\n",
       "        vertical-align: middle;\n",
       "    }\n",
       "\n",
       "    .dataframe tbody tr th {\n",
       "        vertical-align: top;\n",
       "    }\n",
       "\n",
       "    .dataframe thead th {\n",
       "        text-align: right;\n",
       "    }\n",
       "</style>\n",
       "<table border=\"1\" class=\"dataframe\">\n",
       "  <thead>\n",
       "    <tr style=\"text-align: right;\">\n",
       "      <th></th>\n",
       "      <th>Steps</th>\n",
       "      <th>exp_fit</th>\n",
       "    </tr>\n",
       "  </thead>\n",
       "  <tbody>\n",
       "    <tr>\n",
       "      <th>0</th>\n",
       "      <td>0</td>\n",
       "      <td>2744.287749</td>\n",
       "    </tr>\n",
       "    <tr>\n",
       "      <th>1</th>\n",
       "      <td>1</td>\n",
       "      <td>2698.426305</td>\n",
       "    </tr>\n",
       "    <tr>\n",
       "      <th>2</th>\n",
       "      <td>2</td>\n",
       "      <td>2652.960946</td>\n",
       "    </tr>\n",
       "    <tr>\n",
       "      <th>3</th>\n",
       "      <td>3</td>\n",
       "      <td>2607.888253</td>\n",
       "    </tr>\n",
       "    <tr>\n",
       "      <th>4</th>\n",
       "      <td>4</td>\n",
       "      <td>2563.204833</td>\n",
       "    </tr>\n",
       "    <tr>\n",
       "      <th>...</th>\n",
       "      <td>...</td>\n",
       "      <td>...</td>\n",
       "    </tr>\n",
       "    <tr>\n",
       "      <th>95</th>\n",
       "      <td>95</td>\n",
       "      <td>-236.524794</td>\n",
       "    </tr>\n",
       "    <tr>\n",
       "      <th>96</th>\n",
       "      <td>96</td>\n",
       "      <td>-256.642216</td>\n",
       "    </tr>\n",
       "    <tr>\n",
       "      <th>97</th>\n",
       "      <td>97</td>\n",
       "      <td>-276.585892</td>\n",
       "    </tr>\n",
       "    <tr>\n",
       "      <th>98</th>\n",
       "      <td>98</td>\n",
       "      <td>-296.357323</td>\n",
       "    </tr>\n",
       "    <tr>\n",
       "      <th>99</th>\n",
       "      <td>99</td>\n",
       "      <td>-315.957997</td>\n",
       "    </tr>\n",
       "  </tbody>\n",
       "</table>\n",
       "<p>100 rows × 2 columns</p>\n",
       "</div>"
      ],
      "text/plain": [
       "    Steps      exp_fit\n",
       "0       0  2744.287749\n",
       "1       1  2698.426305\n",
       "2       2  2652.960946\n",
       "3       3  2607.888253\n",
       "4       4  2563.204833\n",
       "..    ...          ...\n",
       "95     95  -236.524794\n",
       "96     96  -256.642216\n",
       "97     97  -276.585892\n",
       "98     98  -296.357323\n",
       "99     99  -315.957997\n",
       "\n",
       "[100 rows x 2 columns]"
      ]
     },
     "execution_count": 6,
     "metadata": {},
     "output_type": "execute_result"
    }
   ],
   "source": [
    "dfs[1]"
   ]
  },
  {
   "cell_type": "code",
   "execution_count": null,
   "id": "a086322b",
   "metadata": {},
   "outputs": [
    {
     "data": {
      "application/vnd.microsoft.datawrangler.viewer.v0+json": {
       "columns": [
        {
         "name": "Steps",
         "rawType": "int64",
         "type": "integer"
        },
        {
         "name": "exp_fit__0",
         "rawType": "float64",
         "type": "float"
        },
        {
         "name": "exp_fit__1",
         "rawType": "float64",
         "type": "float"
        },
        {
         "name": "exp_fit__9",
         "rawType": "float64",
         "type": "float"
        }
       ],
       "ref": "dfc53bbb-1dea-4586-9681-37dbdc5b560a",
       "rows": [
        [
         "0",
         "3104.8651229602574",
         "2744.287749424413",
         "3626.647599290751"
        ],
        [
         "1",
         "3040.725708071572",
         "2698.4263048100997",
         "3537.818956904676"
        ],
        [
         "2",
         "2977.4879011222893",
         "2652.9609461808413",
         "3450.6064783343954"
        ],
        [
         "3",
         "2915.139028207016",
         "2607.8882527087744",
         "3364.9807588135072"
        ],
        [
         "4",
         "2853.6665935774818",
         "2563.204833110288",
         "3280.9129285710524"
        ],
        [
         "5",
         "2793.0582771381837",
         "2518.9073253908555",
         "3198.374643097726"
        ],
        [
         "6",
         "2733.3019319772397",
         "2474.992396592085",
         "3117.338073589166"
        ],
        [
         "7",
         "2674.3855819319406",
         "2431.4567425409405",
         "3037.775897563137"
        ],
        [
         "8",
         "2616.297419188533",
         "2388.2970876011377",
         "2959.661289647407"
        ],
        [
         "9",
         "2559.0258019157345",
         "2345.5101844266856",
         "2882.967912535248"
        ],
        [
         "10",
         "2502.5592519315187",
         "2303.092813717549",
         "2807.669908105485"
        ],
        [
         "11",
         "2446.886452402694",
         "2261.0417839774345",
         "2733.741888704111"
        ],
        [
         "12",
         "2391.99624557683",
         "2219.353931273657",
         "2661.158928584524"
        ],
        [
         "13",
         "2337.8776305460524",
         "2178.026118999088",
         "2589.8965555035047"
        ],
        [
         "14",
         "2284.5197610422792",
         "2137.0552376361493",
         "2519.930742470097"
        ],
        [
         "15",
         "2231.9119432634525",
         "2096.438204522862",
         "2451.237899644608"
        ],
        [
         "16",
         "2180.043633730318",
         "2056.1719636208954",
         "2383.794866385004"
        ],
        [
         "17",
         "2128.9044371733426",
         "2016.25348528564",
         "2317.578903438013"
        ],
        [
         "18",
         "2078.484104449324",
         "1976.6797660382472",
         "2252.5676852723045"
        ],
        [
         "19",
         "2028.7725304872968",
         "1937.447828339652",
         "2188.7392925511595"
        ],
        [
         "20",
         "1979.759752263307",
         "1898.554720366541",
         "2126.0722047420936"
        ],
        [
         "21",
         "1931.435946803657",
         "1859.997515789254",
         "2064.545292860947"
        ],
        [
         "22",
         "1883.7914292162184",
         "1821.77331355161",
         "2004.1378123479824"
        ],
        [
         "23",
         "1836.81665074942",
         "1783.8792376526262",
         "1944.829396073601"
        ],
        [
         "24",
         "1790.5021968785177",
         "1746.3124369301322",
         "1886.6000474713128"
        ],
        [
         "25",
         "1744.8387854187702",
         "1709.070084846242",
         "1829.43013379565"
        ],
        [
         "26",
         "1699.8172646651317",
         "1672.1493792746887",
         "1773.3003795027362"
        ],
        [
         "27",
         "1655.4286115581035",
         "1635.547542289989",
         "1718.1918597513054"
        ],
        [
         "28",
         "1611.6639298753578",
         "1599.2618199584322",
         "1664.0859940219552"
        ],
        [
         "29",
         "1568.5144484487907",
         "1563.2894821308737",
         "1610.9645398524935"
        ],
        [
         "30",
         "1525.9715194066328",
         "1527.627822237318",
         "1558.80958668727"
        ],
        [
         "31",
         "1484.0266164402735",
         "1492.274157083274",
         "1507.6035498384044"
        ],
        [
         "32",
         "1442.6713330954465",
         "1457.225826647872",
         "1457.3291645568993"
        ],
        [
         "33",
         "1401.8973810874384",
         "1422.4801938837236",
         "1407.96948021161"
        ],
        [
         "34",
         "1361.6965886399764",
         "1388.034644518505",
         "1359.5078545741335"
        ],
        [
         "35",
         "1322.0608988474712",
         "1353.8865868582652",
         "1311.9279482076722"
        ],
        [
         "36",
         "1282.9823680602778",
         "1320.0334515924203",
         "1265.2137189579926"
        ],
        [
         "37",
         "1244.453164292658",
         "1286.4726916004406",
         "1219.349416544615"
        ],
        [
         "38",
         "1206.4655656531183",
         "1253.2017817602036",
         "1174.3195772504075"
        ],
        [
         "39",
         "1169.0119587968177",
         "1220.2182187580038",
         "1130.1090187078094"
        ],
        [
         "40",
         "1132.084837399724",
         "1187.5195209002018",
         "1086.7028347799005"
        ],
        [
         "41",
         "1095.6768006542245",
         "1155.103227926501",
         "1044.0863905346168"
        ],
        [
         "42",
         "1059.7805517858803",
         "1122.966900824837",
         "1002.2453173104032"
        ],
        [
         "43",
         "1024.3888965910312",
         "1091.1081216478656",
         "961.1655078716376"
        ],
        [
         "44",
         "989.4947419949592",
         "1059.5244933310355",
         "920.8331116522048"
        ],
        [
         "45",
         "955.0910946303176",
         "1028.2136395122325",
         "881.234530085605"
        ],
        [
         "46",
         "921.1710594355444",
         "997.1732043529814",
         "842.3564120200308"
        ],
        [
         "47",
         "887.727838272978",
         "966.4008523611928",
         "804.1856492168586"
        ],
        [
         "48",
         "854.754728566397",
         "935.894268215437",
         "766.7093719310453"
        ],
        [
         "49",
         "822.2451219577149",
         "905.6511565907422",
         "729.9149445719356"
        ]
       ],
       "shape": {
        "columns": 3,
        "rows": 100
       }
      },
      "text/html": [
       "<div>\n",
       "<style scoped>\n",
       "    .dataframe tbody tr th:only-of-type {\n",
       "        vertical-align: middle;\n",
       "    }\n",
       "\n",
       "    .dataframe tbody tr th {\n",
       "        vertical-align: top;\n",
       "    }\n",
       "\n",
       "    .dataframe thead th {\n",
       "        text-align: right;\n",
       "    }\n",
       "</style>\n",
       "<table border=\"1\" class=\"dataframe\">\n",
       "  <thead>\n",
       "    <tr style=\"text-align: right;\">\n",
       "      <th></th>\n",
       "      <th>exp_fit__0</th>\n",
       "      <th>exp_fit__1</th>\n",
       "      <th>exp_fit__9</th>\n",
       "    </tr>\n",
       "    <tr>\n",
       "      <th>Steps</th>\n",
       "      <th></th>\n",
       "      <th></th>\n",
       "      <th></th>\n",
       "    </tr>\n",
       "  </thead>\n",
       "  <tbody>\n",
       "    <tr>\n",
       "      <th>0</th>\n",
       "      <td>3104.865123</td>\n",
       "      <td>2744.287749</td>\n",
       "      <td>3626.647599</td>\n",
       "    </tr>\n",
       "    <tr>\n",
       "      <th>1</th>\n",
       "      <td>3040.725708</td>\n",
       "      <td>2698.426305</td>\n",
       "      <td>3537.818957</td>\n",
       "    </tr>\n",
       "    <tr>\n",
       "      <th>2</th>\n",
       "      <td>2977.487901</td>\n",
       "      <td>2652.960946</td>\n",
       "      <td>3450.606478</td>\n",
       "    </tr>\n",
       "    <tr>\n",
       "      <th>3</th>\n",
       "      <td>2915.139028</td>\n",
       "      <td>2607.888253</td>\n",
       "      <td>3364.980759</td>\n",
       "    </tr>\n",
       "    <tr>\n",
       "      <th>4</th>\n",
       "      <td>2853.666594</td>\n",
       "      <td>2563.204833</td>\n",
       "      <td>3280.912929</td>\n",
       "    </tr>\n",
       "    <tr>\n",
       "      <th>...</th>\n",
       "      <td>...</td>\n",
       "      <td>...</td>\n",
       "      <td>...</td>\n",
       "    </tr>\n",
       "    <tr>\n",
       "      <th>95</th>\n",
       "      <td>-269.020115</td>\n",
       "      <td>-236.524794</td>\n",
       "      <td>-402.405324</td>\n",
       "    </tr>\n",
       "    <tr>\n",
       "      <th>96</th>\n",
       "      <td>-285.732815</td>\n",
       "      <td>-256.642216</td>\n",
       "      <td>-417.928674</td>\n",
       "    </tr>\n",
       "    <tr>\n",
       "      <th>97</th>\n",
       "      <td>-302.210585</td>\n",
       "      <td>-276.585892</td>\n",
       "      <td>-433.169590</td>\n",
       "    </tr>\n",
       "    <tr>\n",
       "      <th>98</th>\n",
       "      <td>-318.456727</td>\n",
       "      <td>-296.357323</td>\n",
       "      <td>-448.133211</td>\n",
       "    </tr>\n",
       "    <tr>\n",
       "      <th>99</th>\n",
       "      <td>-334.474497</td>\n",
       "      <td>-315.957997</td>\n",
       "      <td>-462.824580</td>\n",
       "    </tr>\n",
       "  </tbody>\n",
       "</table>\n",
       "<p>100 rows × 3 columns</p>\n",
       "</div>"
      ],
      "text/plain": [
       "        exp_fit__0   exp_fit__1   exp_fit__9\n",
       "Steps                                       \n",
       "0      3104.865123  2744.287749  3626.647599\n",
       "1      3040.725708  2698.426305  3537.818957\n",
       "2      2977.487901  2652.960946  3450.606478\n",
       "3      2915.139028  2607.888253  3364.980759\n",
       "4      2853.666594  2563.204833  3280.912929\n",
       "...            ...          ...          ...\n",
       "95     -269.020115  -236.524794  -402.405324\n",
       "96     -285.732815  -256.642216  -417.928674\n",
       "97     -302.210585  -276.585892  -433.169590\n",
       "98     -318.456727  -296.357323  -448.133211\n",
       "99     -334.474497  -315.957997  -462.824580\n",
       "\n",
       "[100 rows x 3 columns]"
      ]
     },
     "execution_count": 7,
     "metadata": {},
     "output_type": "execute_result"
    }
   ],
   "source": [
    "df_merged = dfs[0].copy()\n",
    "for i in range(1, len(dfs)):\n",
    "    df_merged = pd.merge(\n",
    "        df_merged,\n",
    "        dfs[i],\n",
    "        on=[\"Steps\"],\n",
    "        suffixes=(f\"__{selected_nodes[i - 1]}\", \"\"),\n",
    "    ).fillna(0)\n",
    "\n",
    "df_merged.rename(columns={df_merged.columns[-1]: f'exp_fit__{selected_nodes[-1]}'}, inplace=True)\n",
    "df_merged = df_merged.set_index('Steps')\n",
    "df_merged"
   ]
  },
  {
   "cell_type": "code",
   "execution_count": null,
   "id": "28d2ac3d",
   "metadata": {},
   "outputs": [
    {
     "data": {
      "application/vnd.microsoft.datawrangler.viewer.v0+json": {
       "columns": [
        {
         "name": "Steps",
         "rawType": "int64",
         "type": "integer"
        },
        {
         "name": "Exponential fit of node 0",
         "rawType": "float64",
         "type": "float"
        },
        {
         "name": "Exponential fit of node 1",
         "rawType": "float64",
         "type": "float"
        },
        {
         "name": "Exponential fit of node 9",
         "rawType": "float64",
         "type": "float"
        }
       ],
       "ref": "fc25eeec-425a-47e1-8603-2c297ae04dca",
       "rows": [
        [
         "0",
         "3104.8651229602574",
         "2744.287749424413",
         "3626.647599290751"
        ],
        [
         "1",
         "3040.725708071572",
         "2698.4263048100997",
         "3537.818956904676"
        ],
        [
         "2",
         "2977.4879011222893",
         "2652.9609461808413",
         "3450.6064783343954"
        ],
        [
         "3",
         "2915.139028207016",
         "2607.8882527087744",
         "3364.9807588135072"
        ],
        [
         "4",
         "2853.6665935774818",
         "2563.204833110288",
         "3280.9129285710524"
        ],
        [
         "5",
         "2793.0582771381837",
         "2518.9073253908555",
         "3198.374643097726"
        ],
        [
         "6",
         "2733.3019319772397",
         "2474.992396592085",
         "3117.338073589166"
        ],
        [
         "7",
         "2674.3855819319406",
         "2431.4567425409405",
         "3037.775897563137"
        ],
        [
         "8",
         "2616.297419188533",
         "2388.2970876011377",
         "2959.661289647407"
        ],
        [
         "9",
         "2559.0258019157345",
         "2345.5101844266856",
         "2882.967912535248"
        ],
        [
         "10",
         "2502.5592519315187",
         "2303.092813717549",
         "2807.669908105485"
        ],
        [
         "11",
         "2446.886452402694",
         "2261.0417839774345",
         "2733.741888704111"
        ],
        [
         "12",
         "2391.99624557683",
         "2219.353931273657",
         "2661.158928584524"
        ],
        [
         "13",
         "2337.8776305460524",
         "2178.026118999088",
         "2589.8965555035047"
        ],
        [
         "14",
         "2284.5197610422792",
         "2137.0552376361493",
         "2519.930742470097"
        ],
        [
         "15",
         "2231.9119432634525",
         "2096.438204522862",
         "2451.237899644608"
        ],
        [
         "16",
         "2180.043633730318",
         "2056.1719636208954",
         "2383.794866385004"
        ],
        [
         "17",
         "2128.9044371733426",
         "2016.25348528564",
         "2317.578903438013"
        ],
        [
         "18",
         "2078.484104449324",
         "1976.6797660382472",
         "2252.5676852723045"
        ],
        [
         "19",
         "2028.7725304872968",
         "1937.447828339652",
         "2188.7392925511595"
        ],
        [
         "20",
         "1979.759752263307",
         "1898.554720366541",
         "2126.0722047420936"
        ],
        [
         "21",
         "1931.435946803657",
         "1859.997515789254",
         "2064.545292860947"
        ],
        [
         "22",
         "1883.7914292162184",
         "1821.77331355161",
         "2004.1378123479824"
        ],
        [
         "23",
         "1836.81665074942",
         "1783.8792376526262",
         "1944.829396073601"
        ],
        [
         "24",
         "1790.5021968785177",
         "1746.3124369301322",
         "1886.6000474713128"
        ],
        [
         "25",
         "1744.8387854187702",
         "1709.070084846242",
         "1829.43013379565"
        ],
        [
         "26",
         "1699.8172646651317",
         "1672.1493792746887",
         "1773.3003795027362"
        ],
        [
         "27",
         "1655.4286115581035",
         "1635.547542289989",
         "1718.1918597513054"
        ],
        [
         "28",
         "1611.6639298753578",
         "1599.2618199584322",
         "1664.0859940219552"
        ],
        [
         "29",
         "1568.5144484487907",
         "1563.2894821308737",
         "1610.9645398524935"
        ],
        [
         "30",
         "1525.9715194066328",
         "1527.627822237318",
         "1558.80958668727"
        ],
        [
         "31",
         "1484.0266164402735",
         "1492.274157083274",
         "1507.6035498384044"
        ],
        [
         "32",
         "1442.6713330954465",
         "1457.225826647872",
         "1457.3291645568993"
        ],
        [
         "33",
         "1401.8973810874384",
         "1422.4801938837236",
         "1407.96948021161"
        ],
        [
         "34",
         "1361.6965886399764",
         "1388.034644518505",
         "1359.5078545741335"
        ],
        [
         "35",
         "1322.0608988474712",
         "1353.8865868582652",
         "1311.9279482076722"
        ],
        [
         "36",
         "1282.9823680602778",
         "1320.0334515924203",
         "1265.2137189579926"
        ],
        [
         "37",
         "1244.453164292658",
         "1286.4726916004406",
         "1219.349416544615"
        ],
        [
         "38",
         "1206.4655656531183",
         "1253.2017817602036",
         "1174.3195772504075"
        ],
        [
         "39",
         "1169.0119587968177",
         "1220.2182187580038",
         "1130.1090187078094"
        ],
        [
         "40",
         "1132.084837399724",
         "1187.5195209002018",
         "1086.7028347799005"
        ],
        [
         "41",
         "1095.6768006542245",
         "1155.103227926501",
         "1044.0863905346168"
        ],
        [
         "42",
         "1059.7805517858803",
         "1122.966900824837",
         "1002.2453173104032"
        ],
        [
         "43",
         "1024.3888965910312",
         "1091.1081216478656",
         "961.1655078716376"
        ],
        [
         "44",
         "989.4947419949592",
         "1059.5244933310355",
         "920.8331116522048"
        ],
        [
         "45",
         "955.0910946303176",
         "1028.2136395122325",
         "881.234530085605"
        ],
        [
         "46",
         "921.1710594355444",
         "997.1732043529814",
         "842.3564120200308"
        ],
        [
         "47",
         "887.727838272978",
         "966.4008523611928",
         "804.1856492168586"
        ],
        [
         "48",
         "854.754728566397",
         "935.894268215437",
         "766.7093719310453"
        ],
        [
         "49",
         "822.2451219577149",
         "905.6511565907422",
         "729.9149445719356"
        ]
       ],
       "shape": {
        "columns": 3,
        "rows": 100
       }
      },
      "text/html": [
       "<div>\n",
       "<style scoped>\n",
       "    .dataframe tbody tr th:only-of-type {\n",
       "        vertical-align: middle;\n",
       "    }\n",
       "\n",
       "    .dataframe tbody tr th {\n",
       "        vertical-align: top;\n",
       "    }\n",
       "\n",
       "    .dataframe thead th {\n",
       "        text-align: right;\n",
       "    }\n",
       "</style>\n",
       "<table border=\"1\" class=\"dataframe\">\n",
       "  <thead>\n",
       "    <tr style=\"text-align: right;\">\n",
       "      <th></th>\n",
       "      <th>Exponential fit of node 0</th>\n",
       "      <th>Exponential fit of node 1</th>\n",
       "      <th>Exponential fit of node 9</th>\n",
       "    </tr>\n",
       "    <tr>\n",
       "      <th>Steps</th>\n",
       "      <th></th>\n",
       "      <th></th>\n",
       "      <th></th>\n",
       "    </tr>\n",
       "  </thead>\n",
       "  <tbody>\n",
       "    <tr>\n",
       "      <th>0</th>\n",
       "      <td>3104.865123</td>\n",
       "      <td>2744.287749</td>\n",
       "      <td>3626.647599</td>\n",
       "    </tr>\n",
       "    <tr>\n",
       "      <th>1</th>\n",
       "      <td>3040.725708</td>\n",
       "      <td>2698.426305</td>\n",
       "      <td>3537.818957</td>\n",
       "    </tr>\n",
       "    <tr>\n",
       "      <th>2</th>\n",
       "      <td>2977.487901</td>\n",
       "      <td>2652.960946</td>\n",
       "      <td>3450.606478</td>\n",
       "    </tr>\n",
       "    <tr>\n",
       "      <th>3</th>\n",
       "      <td>2915.139028</td>\n",
       "      <td>2607.888253</td>\n",
       "      <td>3364.980759</td>\n",
       "    </tr>\n",
       "    <tr>\n",
       "      <th>4</th>\n",
       "      <td>2853.666594</td>\n",
       "      <td>2563.204833</td>\n",
       "      <td>3280.912929</td>\n",
       "    </tr>\n",
       "    <tr>\n",
       "      <th>...</th>\n",
       "      <td>...</td>\n",
       "      <td>...</td>\n",
       "      <td>...</td>\n",
       "    </tr>\n",
       "    <tr>\n",
       "      <th>95</th>\n",
       "      <td>-269.020115</td>\n",
       "      <td>-236.524794</td>\n",
       "      <td>-402.405324</td>\n",
       "    </tr>\n",
       "    <tr>\n",
       "      <th>96</th>\n",
       "      <td>-285.732815</td>\n",
       "      <td>-256.642216</td>\n",
       "      <td>-417.928674</td>\n",
       "    </tr>\n",
       "    <tr>\n",
       "      <th>97</th>\n",
       "      <td>-302.210585</td>\n",
       "      <td>-276.585892</td>\n",
       "      <td>-433.169590</td>\n",
       "    </tr>\n",
       "    <tr>\n",
       "      <th>98</th>\n",
       "      <td>-318.456727</td>\n",
       "      <td>-296.357323</td>\n",
       "      <td>-448.133211</td>\n",
       "    </tr>\n",
       "    <tr>\n",
       "      <th>99</th>\n",
       "      <td>-334.474497</td>\n",
       "      <td>-315.957997</td>\n",
       "      <td>-462.824580</td>\n",
       "    </tr>\n",
       "  </tbody>\n",
       "</table>\n",
       "<p>100 rows × 3 columns</p>\n",
       "</div>"
      ],
      "text/plain": [
       "       Exponential fit of node 0  Exponential fit of node 1  \\\n",
       "Steps                                                         \n",
       "0                    3104.865123                2744.287749   \n",
       "1                    3040.725708                2698.426305   \n",
       "2                    2977.487901                2652.960946   \n",
       "3                    2915.139028                2607.888253   \n",
       "4                    2853.666594                2563.204833   \n",
       "...                          ...                        ...   \n",
       "95                   -269.020115                -236.524794   \n",
       "96                   -285.732815                -256.642216   \n",
       "97                   -302.210585                -276.585892   \n",
       "98                   -318.456727                -296.357323   \n",
       "99                   -334.474497                -315.957997   \n",
       "\n",
       "       Exponential fit of node 9  \n",
       "Steps                             \n",
       "0                    3626.647599  \n",
       "1                    3537.818957  \n",
       "2                    3450.606478  \n",
       "3                    3364.980759  \n",
       "4                    3280.912929  \n",
       "...                          ...  \n",
       "95                   -402.405324  \n",
       "96                   -417.928674  \n",
       "97                   -433.169590  \n",
       "98                   -448.133211  \n",
       "99                   -462.824580  \n",
       "\n",
       "[100 rows x 3 columns]"
      ]
     },
     "execution_count": 8,
     "metadata": {},
     "output_type": "execute_result"
    }
   ],
   "source": [
    "for col in df_merged.columns:\n",
    "    df_merged.rename(columns={col: f\"Exponential fit of node {col.split('__')[1]}\"}, inplace=True)\n",
    "\n",
    "df_merged"
   ]
  },
  {
   "cell_type": "code",
   "execution_count": null,
   "id": "d78faed2",
   "metadata": {},
   "outputs": [],
   "source": [
    "fontsize = 20\n",
    "\n",
    "def get_title():\n",
    "    return f\"Simulation curve fit - {program} | {graph_name} | Sched: {sched} | N: {no_simulations:,} | FI: {fault_interval}\"\n"
   ]
  },
  {
   "cell_type": "code",
   "execution_count": null,
   "id": "9ded98b5",
   "metadata": {},
   "outputs": [],
   "source": [
    "# sns.lineplot(df_merged, dashes={f\"Exponential fit of node {i}\":\"\" for i in selected_nodes}, linewidth=1)"
   ]
  },
  {
   "cell_type": "code",
   "execution_count": null,
   "id": "e6171eff",
   "metadata": {},
   "outputs": [],
   "source": [
    "plt.figure(figsize=(16, 8))\n",
    "ax = sns.lineplot(data=df_merged, dashes={f\"Exponential fit of node {i}\":\"\" for i in selected_nodes}, linewidth=1)\n",
    "ax.set_title(get_title(), fontdict={\"fontsize\": fontsize})\n",
    "\n",
    "ax.tick_params(axis=\"x\", labelsize=fontsize)\n",
    "ax.tick_params(axis=\"y\", labelsize=fontsize)\n",
    "ax.xaxis.label.set_size(fontsize)\n",
    "ax.yaxis.label.set_size(fontsize)\n",
    "\n",
    "\n",
    "ax.set_xlabel(\"Steps\")\n",
    "ax.set_ylabel(\"Count\")\n",
    "\n",
    "plt.rc(\"font\", size=fontsize)\n",
    "plt.legend(fontsize=fontsize * 0.9)\n",
    "\n",
    "plt.savefig(\n",
    "    f\"exp_curve_fit_{program}__{graph_name}__{''.join([str(i) for i in selected_nodes])}__{fault_interval}__{limits}.png\",\n",
    "    bbox_inches=\"tight\",\n",
    ")\n",
    "plt.close()"
   ]
  },
  {
   "cell_type": "code",
   "execution_count": null,
   "id": "e0ad9277",
   "metadata": {},
   "outputs": [],
   "source": []
  }
 ],
 "metadata": {
  "kernelspec": {
   "display_name": "cvf",
   "language": "python",
   "name": "python3"
  },
  "language_info": {
   "codemirror_mode": {
    "name": "ipython",
    "version": 3
   },
   "file_extension": ".py",
   "mimetype": "text/x-python",
   "name": "python",
   "nbconvert_exporter": "python",
   "pygments_lexer": "ipython3",
   "version": "3.13.5"
  }
 },
 "nbformat": 4,
 "nbformat_minor": 5
}
