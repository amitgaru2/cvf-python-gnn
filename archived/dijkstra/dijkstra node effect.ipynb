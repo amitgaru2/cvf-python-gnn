{
 "cells": [
  {
   "cell_type": "code",
   "execution_count": 1,
   "id": "0f835198-d227-43b9-93df-b3802a6ec3cd",
   "metadata": {},
   "outputs": [
    {
     "name": "stderr",
     "output_type": "stream",
     "text": [
      "C:\\Users\\amitg\\AppData\\Local\\Temp\\ipykernel_7448\\2115673951.py:6: DeprecationWarning: \n",
      "Pyarrow will become a required dependency of pandas in the next major release of pandas (pandas 3.0),\n",
      "(to allow more performant data types, such as the Arrow string type, and better interoperability with other libraries)\n",
      "but was not found to be installed on your system.\n",
      "If this would cause problems for you,\n",
      "please provide us feedback at https://github.com/pandas-dev/pandas/issues/54466\n",
      "        \n",
      "  import pandas as pd\n"
     ]
    }
   ],
   "source": [
    "import os\n",
    "import csv\n",
    "import copy\n",
    "import math\n",
    "\n",
    "import pandas as pd"
   ]
  },
  {
   "cell_type": "code",
   "execution_count": 2,
   "id": "f0d508b5-1fec-4627-b266-77ce9c9fb065",
   "metadata": {},
   "outputs": [],
   "source": [
    "graphs_dir = \"graphs\"\n",
    "results_dir = \"results\""
   ]
  },
  {
   "cell_type": "code",
   "execution_count": 3,
   "id": "0abdc286-adec-4144-b854-cbf93244533b",
   "metadata": {},
   "outputs": [
    {
     "data": {
      "text/plain": [
       "{'A': ['C', 'B'],\n",
       " 'B': ['A', 'C'],\n",
       " 'C': ['B', 'D'],\n",
       " 'D': ['C', 'E'],\n",
       " 'E': ['D', 'F'],\n",
       " 'F': ['E', 'G'],\n",
       " 'G': ['F', 'H'],\n",
       " 'H': ['G', 'I'],\n",
       " 'I': ['H', 'J'],\n",
       " 'J': ['I', 'K'],\n",
       " 'K': ['J', 'L'],\n",
       " 'L': ['K', 'A']}"
      ]
     },
     "execution_count": 3,
     "metadata": {},
     "output_type": "execute_result"
    }
   ],
   "source": [
    "graph_name = \"graph_12_nodes\"\n",
    "\n",
    "graph = {}\n",
    "with open(os.path.join(graphs_dir, f\"{graph_name}.txt\"), \"r\") as f:\n",
    "    line = f.readline()\n",
    "    while line:\n",
    "        node_edges = line.split()\n",
    "        node = node_edges[0]\n",
    "        edges = node_edges[1:]\n",
    "        # graph[node] = set(edges)\n",
    "        graph[node] = edges\n",
    "        line = f.readline()\n",
    "graph"
   ]
  },
  {
   "cell_type": "code",
   "execution_count": 4,
   "id": "af124b06-64da-41aa-baca-5b44f3550299",
   "metadata": {},
   "outputs": [],
   "source": [
    "nodes = list(graph.keys())\n",
    "node_positions = {v: i for i, v in enumerate(nodes)}"
   ]
  },
  {
   "cell_type": "code",
   "execution_count": 5,
   "id": "d5e33ad8-d5d2-48c3-9cfd-15598a53fa08",
   "metadata": {},
   "outputs": [
    {
     "name": "stdout",
     "output_type": "stream",
     "text": [
      "Degree of all nodes (starting from 0):\n"
     ]
    },
    {
     "data": {
      "text/plain": [
       "{'A': 2,\n",
       " 'B': 2,\n",
       " 'C': 2,\n",
       " 'D': 2,\n",
       " 'E': 2,\n",
       " 'F': 2,\n",
       " 'G': 2,\n",
       " 'H': 2,\n",
       " 'I': 2,\n",
       " 'J': 2,\n",
       " 'K': 2,\n",
       " 'L': 2}"
      ]
     },
     "execution_count": 5,
     "metadata": {},
     "output_type": "execute_result"
    }
   ],
   "source": [
    "degree_of_nodes = {n: 2 for n in nodes}\n",
    "\n",
    "print(\"Degree of all nodes (starting from 0):\")\n",
    "degree_of_nodes # start from 0"
   ]
  },
  {
   "cell_type": "code",
   "execution_count": 6,
   "id": "a899267f-9f8a-4b36-b1fe-7609281a809c",
   "metadata": {},
   "outputs": [
    {
     "name": "stdout",
     "output_type": "stream",
     "text": [
      "All possible configurations:\n"
     ]
    }
   ],
   "source": [
    "configurations = {\n",
    "    tuple([0 for i in range(len(nodes))])\n",
    "}\n",
    "# perturb each state at a time for all states in configurations and accumulate the same in the configurations for next state to perturb\n",
    "for n in nodes:\n",
    "    node_pos = node_positions[n]\n",
    "    config_copy = copy.deepcopy(configurations)\n",
    "    for i in range(1, degree_of_nodes[n]+1):\n",
    "        for cc in config_copy:\n",
    "            cc = list(cc)\n",
    "            cc[node_pos] = i\n",
    "            configurations.add(tuple(cc))\n",
    "            \n",
    "print(\"All possible configurations:\")\n",
    "# configurations, len(configurations)"
   ]
  },
  {
   "cell_type": "code",
   "execution_count": 7,
   "id": "0022d000",
   "metadata": {},
   "outputs": [],
   "source": [
    "def check_if_only_one_eligible_process(state):\n",
    "    \"\"\"check invariant\"\"\"\n",
    "    bottom = 0\n",
    "    top = len(state) - 1\n",
    "    eligible_nodes = 0\n",
    "    for i, node_state in enumerate(state):\n",
    "        if i == bottom:\n",
    "            if (node_state + 1) % 3 == state[i + 1]:\n",
    "                eligible_nodes += 1\n",
    "\n",
    "        elif i == top:\n",
    "            if state[i - 1] == state[0] and (state[i - 1] + 1) % 3 != node_state:\n",
    "                eligible_nodes += 1\n",
    "        \n",
    "        else:\n",
    "            if (node_state + 1) % 3 == state[i - 1]:\n",
    "                eligible_nodes += 1\n",
    "            \n",
    "            if (node_state + 1) % 3 == state[i + 1]:\n",
    "                eligible_nodes += 1\n",
    "\n",
    "    return eligible_nodes == 1"
   ]
  },
  {
   "cell_type": "code",
   "execution_count": 8,
   "id": "f842f8f6-5e31-4ee1-bd21-4891cc4e7718",
   "metadata": {},
   "outputs": [
    {
     "name": "stdout",
     "output_type": "stream",
     "text": [
      "Invariants and Count of Invariants:\n"
     ]
    },
    {
     "data": {
      "text/plain": [
       "({(0, 0, 0, 0, 0, 0, 0, 0, 0, 0, 0, 0),\n",
       "  (0, 0, 0, 0, 0, 0, 0, 0, 0, 0, 0, 1),\n",
       "  (0, 0, 0, 0, 0, 0, 0, 0, 0, 0, 0, 2),\n",
       "  (0, 0, 0, 0, 0, 0, 0, 0, 0, 0, 1, 0),\n",
       "  (0, 0, 0, 0, 0, 0, 0, 0, 0, 0, 1, 1),\n",
       "  (0, 0, 0, 0, 0, 0, 0, 0, 0, 0, 2, 1),\n",
       "  (0, 0, 0, 0, 0, 0, 0, 0, 0, 0, 2, 2),\n",
       "  (0, 0, 0, 0, 0, 0, 0, 0, 0, 1, 1, 0),\n",
       "  (0, 0, 0, 0, 0, 0, 0, 0, 0, 1, 1, 1),\n",
       "  (0, 0, 0, 0, 0, 0, 0, 0, 0, 2, 2, 1),\n",
       "  (0, 0, 0, 0, 0, 0, 0, 0, 0, 2, 2, 2),\n",
       "  (0, 0, 0, 0, 0, 0, 0, 0, 1, 1, 1, 0),\n",
       "  (0, 0, 0, 0, 0, 0, 0, 0, 1, 1, 1, 1),\n",
       "  (0, 0, 0, 0, 0, 0, 0, 0, 2, 2, 2, 1),\n",
       "  (0, 0, 0, 0, 0, 0, 0, 0, 2, 2, 2, 2),\n",
       "  (0, 0, 0, 0, 0, 0, 0, 1, 1, 1, 1, 0),\n",
       "  (0, 0, 0, 0, 0, 0, 0, 1, 1, 1, 1, 1),\n",
       "  (0, 0, 0, 0, 0, 0, 0, 2, 2, 2, 2, 1),\n",
       "  (0, 0, 0, 0, 0, 0, 0, 2, 2, 2, 2, 2),\n",
       "  (0, 0, 0, 0, 0, 0, 1, 1, 1, 1, 1, 0),\n",
       "  (0, 0, 0, 0, 0, 0, 1, 1, 1, 1, 1, 1),\n",
       "  (0, 0, 0, 0, 0, 0, 2, 2, 2, 2, 2, 1),\n",
       "  (0, 0, 0, 0, 0, 0, 2, 2, 2, 2, 2, 2),\n",
       "  (0, 0, 0, 0, 0, 1, 1, 1, 1, 1, 1, 0),\n",
       "  (0, 0, 0, 0, 0, 1, 1, 1, 1, 1, 1, 1),\n",
       "  (0, 0, 0, 0, 0, 2, 2, 2, 2, 2, 2, 1),\n",
       "  (0, 0, 0, 0, 0, 2, 2, 2, 2, 2, 2, 2),\n",
       "  (0, 0, 0, 0, 1, 1, 1, 1, 1, 1, 1, 0),\n",
       "  (0, 0, 0, 0, 1, 1, 1, 1, 1, 1, 1, 1),\n",
       "  (0, 0, 0, 0, 2, 2, 2, 2, 2, 2, 2, 1),\n",
       "  (0, 0, 0, 0, 2, 2, 2, 2, 2, 2, 2, 2),\n",
       "  (0, 0, 0, 1, 1, 1, 1, 1, 1, 1, 1, 0),\n",
       "  (0, 0, 0, 1, 1, 1, 1, 1, 1, 1, 1, 1),\n",
       "  (0, 0, 0, 2, 2, 2, 2, 2, 2, 2, 2, 1),\n",
       "  (0, 0, 0, 2, 2, 2, 2, 2, 2, 2, 2, 2),\n",
       "  (0, 0, 1, 1, 1, 1, 1, 1, 1, 1, 1, 0),\n",
       "  (0, 0, 1, 1, 1, 1, 1, 1, 1, 1, 1, 1),\n",
       "  (0, 0, 2, 2, 2, 2, 2, 2, 2, 2, 2, 1),\n",
       "  (0, 0, 2, 2, 2, 2, 2, 2, 2, 2, 2, 2),\n",
       "  (0, 1, 1, 1, 1, 1, 1, 1, 1, 1, 1, 0),\n",
       "  (0, 1, 1, 1, 1, 1, 1, 1, 1, 1, 1, 1),\n",
       "  (0, 2, 2, 2, 2, 2, 2, 2, 2, 2, 2, 1),\n",
       "  (0, 2, 2, 2, 2, 2, 2, 2, 2, 2, 2, 2),\n",
       "  (1, 0, 0, 0, 0, 0, 0, 0, 0, 0, 0, 0),\n",
       "  (1, 0, 0, 0, 0, 0, 0, 0, 0, 0, 0, 2),\n",
       "  (1, 1, 0, 0, 0, 0, 0, 0, 0, 0, 0, 0),\n",
       "  (1, 1, 0, 0, 0, 0, 0, 0, 0, 0, 0, 2),\n",
       "  (1, 1, 1, 0, 0, 0, 0, 0, 0, 0, 0, 0),\n",
       "  (1, 1, 1, 0, 0, 0, 0, 0, 0, 0, 0, 2),\n",
       "  (1, 1, 1, 1, 0, 0, 0, 0, 0, 0, 0, 0),\n",
       "  (1, 1, 1, 1, 0, 0, 0, 0, 0, 0, 0, 2),\n",
       "  (1, 1, 1, 1, 1, 0, 0, 0, 0, 0, 0, 0),\n",
       "  (1, 1, 1, 1, 1, 0, 0, 0, 0, 0, 0, 2),\n",
       "  (1, 1, 1, 1, 1, 1, 0, 0, 0, 0, 0, 0),\n",
       "  (1, 1, 1, 1, 1, 1, 0, 0, 0, 0, 0, 2),\n",
       "  (1, 1, 1, 1, 1, 1, 1, 0, 0, 0, 0, 0),\n",
       "  (1, 1, 1, 1, 1, 1, 1, 0, 0, 0, 0, 2),\n",
       "  (1, 1, 1, 1, 1, 1, 1, 1, 0, 0, 0, 0),\n",
       "  (1, 1, 1, 1, 1, 1, 1, 1, 0, 0, 0, 2),\n",
       "  (1, 1, 1, 1, 1, 1, 1, 1, 1, 0, 0, 0),\n",
       "  (1, 1, 1, 1, 1, 1, 1, 1, 1, 0, 0, 2),\n",
       "  (1, 1, 1, 1, 1, 1, 1, 1, 1, 1, 0, 0),\n",
       "  (1, 1, 1, 1, 1, 1, 1, 1, 1, 1, 0, 2),\n",
       "  (1, 1, 1, 1, 1, 1, 1, 1, 1, 1, 1, 0),\n",
       "  (1, 1, 1, 1, 1, 1, 1, 1, 1, 1, 1, 1),\n",
       "  (1, 1, 1, 1, 1, 1, 1, 1, 1, 1, 1, 2),\n",
       "  (1, 1, 1, 1, 1, 1, 1, 1, 1, 1, 2, 1),\n",
       "  (1, 1, 1, 1, 1, 1, 1, 1, 1, 1, 2, 2),\n",
       "  (1, 1, 1, 1, 1, 1, 1, 1, 1, 2, 2, 1),\n",
       "  (1, 1, 1, 1, 1, 1, 1, 1, 1, 2, 2, 2),\n",
       "  (1, 1, 1, 1, 1, 1, 1, 1, 2, 2, 2, 1),\n",
       "  (1, 1, 1, 1, 1, 1, 1, 1, 2, 2, 2, 2),\n",
       "  (1, 1, 1, 1, 1, 1, 1, 2, 2, 2, 2, 1),\n",
       "  (1, 1, 1, 1, 1, 1, 1, 2, 2, 2, 2, 2),\n",
       "  (1, 1, 1, 1, 1, 1, 2, 2, 2, 2, 2, 1),\n",
       "  (1, 1, 1, 1, 1, 1, 2, 2, 2, 2, 2, 2),\n",
       "  (1, 1, 1, 1, 1, 2, 2, 2, 2, 2, 2, 1),\n",
       "  (1, 1, 1, 1, 1, 2, 2, 2, 2, 2, 2, 2),\n",
       "  (1, 1, 1, 1, 2, 2, 2, 2, 2, 2, 2, 1),\n",
       "  (1, 1, 1, 1, 2, 2, 2, 2, 2, 2, 2, 2),\n",
       "  (1, 1, 1, 2, 2, 2, 2, 2, 2, 2, 2, 1),\n",
       "  (1, 1, 1, 2, 2, 2, 2, 2, 2, 2, 2, 2),\n",
       "  (1, 1, 2, 2, 2, 2, 2, 2, 2, 2, 2, 1),\n",
       "  (1, 1, 2, 2, 2, 2, 2, 2, 2, 2, 2, 2),\n",
       "  (1, 2, 2, 2, 2, 2, 2, 2, 2, 2, 2, 1),\n",
       "  (1, 2, 2, 2, 2, 2, 2, 2, 2, 2, 2, 2),\n",
       "  (2, 0, 0, 0, 0, 0, 0, 0, 0, 0, 0, 0),\n",
       "  (2, 0, 0, 0, 0, 0, 0, 0, 0, 0, 0, 2),\n",
       "  (2, 1, 1, 1, 1, 1, 1, 1, 1, 1, 1, 0),\n",
       "  (2, 1, 1, 1, 1, 1, 1, 1, 1, 1, 1, 1),\n",
       "  (2, 2, 0, 0, 0, 0, 0, 0, 0, 0, 0, 0),\n",
       "  (2, 2, 0, 0, 0, 0, 0, 0, 0, 0, 0, 2),\n",
       "  (2, 2, 1, 1, 1, 1, 1, 1, 1, 1, 1, 0),\n",
       "  (2, 2, 1, 1, 1, 1, 1, 1, 1, 1, 1, 1),\n",
       "  (2, 2, 2, 0, 0, 0, 0, 0, 0, 0, 0, 0),\n",
       "  (2, 2, 2, 0, 0, 0, 0, 0, 0, 0, 0, 2),\n",
       "  (2, 2, 2, 1, 1, 1, 1, 1, 1, 1, 1, 0),\n",
       "  (2, 2, 2, 1, 1, 1, 1, 1, 1, 1, 1, 1),\n",
       "  (2, 2, 2, 2, 0, 0, 0, 0, 0, 0, 0, 0),\n",
       "  (2, 2, 2, 2, 0, 0, 0, 0, 0, 0, 0, 2),\n",
       "  (2, 2, 2, 2, 1, 1, 1, 1, 1, 1, 1, 0),\n",
       "  (2, 2, 2, 2, 1, 1, 1, 1, 1, 1, 1, 1),\n",
       "  (2, 2, 2, 2, 2, 0, 0, 0, 0, 0, 0, 0),\n",
       "  (2, 2, 2, 2, 2, 0, 0, 0, 0, 0, 0, 2),\n",
       "  (2, 2, 2, 2, 2, 1, 1, 1, 1, 1, 1, 0),\n",
       "  (2, 2, 2, 2, 2, 1, 1, 1, 1, 1, 1, 1),\n",
       "  (2, 2, 2, 2, 2, 2, 0, 0, 0, 0, 0, 0),\n",
       "  (2, 2, 2, 2, 2, 2, 0, 0, 0, 0, 0, 2),\n",
       "  (2, 2, 2, 2, 2, 2, 1, 1, 1, 1, 1, 0),\n",
       "  (2, 2, 2, 2, 2, 2, 1, 1, 1, 1, 1, 1),\n",
       "  (2, 2, 2, 2, 2, 2, 2, 0, 0, 0, 0, 0),\n",
       "  (2, 2, 2, 2, 2, 2, 2, 0, 0, 0, 0, 2),\n",
       "  (2, 2, 2, 2, 2, 2, 2, 1, 1, 1, 1, 0),\n",
       "  (2, 2, 2, 2, 2, 2, 2, 1, 1, 1, 1, 1),\n",
       "  (2, 2, 2, 2, 2, 2, 2, 2, 0, 0, 0, 0),\n",
       "  (2, 2, 2, 2, 2, 2, 2, 2, 0, 0, 0, 2),\n",
       "  (2, 2, 2, 2, 2, 2, 2, 2, 1, 1, 1, 0),\n",
       "  (2, 2, 2, 2, 2, 2, 2, 2, 1, 1, 1, 1),\n",
       "  (2, 2, 2, 2, 2, 2, 2, 2, 2, 0, 0, 0),\n",
       "  (2, 2, 2, 2, 2, 2, 2, 2, 2, 0, 0, 2),\n",
       "  (2, 2, 2, 2, 2, 2, 2, 2, 2, 1, 1, 0),\n",
       "  (2, 2, 2, 2, 2, 2, 2, 2, 2, 1, 1, 1),\n",
       "  (2, 2, 2, 2, 2, 2, 2, 2, 2, 2, 0, 0),\n",
       "  (2, 2, 2, 2, 2, 2, 2, 2, 2, 2, 0, 2),\n",
       "  (2, 2, 2, 2, 2, 2, 2, 2, 2, 2, 1, 0),\n",
       "  (2, 2, 2, 2, 2, 2, 2, 2, 2, 2, 1, 1),\n",
       "  (2, 2, 2, 2, 2, 2, 2, 2, 2, 2, 2, 0),\n",
       "  (2, 2, 2, 2, 2, 2, 2, 2, 2, 2, 2, 1),\n",
       "  (2, 2, 2, 2, 2, 2, 2, 2, 2, 2, 2, 2)},\n",
       " 129)"
      ]
     },
     "execution_count": 8,
     "metadata": {},
     "output_type": "execute_result"
    }
   ],
   "source": [
    "invariants = set()\n",
    "for state in configurations:\n",
    "    # dijkstra specific\n",
    "    if check_if_only_one_eligible_process(state):\n",
    "        invariants.add(state)\n",
    "\n",
    "print(\"Invariants and Count of Invariants:\")\n",
    "invariants, len(invariants)"
   ]
  },
  {
   "cell_type": "code",
   "execution_count": 9,
   "id": "983f031e-5928-4a60-b23e-dc20f2217c71",
   "metadata": {},
   "outputs": [],
   "source": [
    "program_transitions_rank = {}\n",
    "for inv in invariants:\n",
    "    program_transitions_rank[inv] = {\"L\": 0, \"C\": 1, \"A\": 0, \"Ar\": 0, \"M\": 0}\n",
    "\n",
    "# print(\"Program transitions rank for invariants:\")\n",
    "# program_transitions_rank"
   ]
  },
  {
   "cell_type": "code",
   "execution_count": 10,
   "id": "3e7fde7f-f961-43c1-8185-6048e235ee0b",
   "metadata": {},
   "outputs": [],
   "source": [
    "def is_program_transition(perturb_pos, start_state, dest_state):\n",
    "    # dijkstra specific\n",
    "\n",
    "    if start_state in invariants and dest_state in invariants:\n",
    "        return False\n",
    "\n",
    "    s_prev = start_state[perturb_pos]\n",
    "    s_new = dest_state[perturb_pos]\n",
    "\n",
    "    node = nodes[perturb_pos]\n",
    "\n",
    "    neighbor_pos = [node_positions[n] for n in graph[node]]\n",
    "    neighbor_states = [start_state[i] for i in neighbor_pos]\n",
    "    left_state, right_state = neighbor_states\n",
    "\n",
    "    if node == nodes[0]:  # bottom\n",
    "        return (s_prev + 1) % 3 == right_state and s_new == (s_prev - 1) % 3\n",
    "\n",
    "    elif node == nodes[-1]:  # top\n",
    "        return (\n",
    "            left_state == right_state\n",
    "            and (left_state + 1) % 3 != s_prev\n",
    "            and s_new == (left_state + 1) % 3\n",
    "        )\n",
    "\n",
    "    else:  # others\n",
    "        if (s_prev + 1) % 3 == left_state:\n",
    "            return s_new == left_state\n",
    "        elif (s_prev + 1) % 3 == right_state:\n",
    "            return s_new == right_state\n",
    "    return False\n",
    "\n",
    "\n",
    "# is_program_transition(0, [2, 0, 1])"
   ]
  },
  {
   "cell_type": "code",
   "execution_count": 11,
   "id": "bb8e6cf5-6045-4223-9301-4bbeeb4df77a",
   "metadata": {},
   "outputs": [],
   "source": [
    "def get_program_transitions(start_state):\n",
    "    # dijkstra specific\n",
    "    program_transitions = set()\n",
    "    for position, _ in enumerate(start_state):\n",
    "        possible_node_colors = set(range(degree_of_nodes[nodes[position]]+1))\n",
    "        for perturb_val in possible_node_colors:\n",
    "            perturb_state = list(start_state)\n",
    "            perturb_state[position] = perturb_val\n",
    "            perturb_state = tuple(perturb_state)\n",
    "            if perturb_state != start_state:\n",
    "                if is_program_transition(position, start_state, perturb_state):\n",
    "                    program_transitions.add(perturb_state)\n",
    "    return {\"program_transitions\": program_transitions}"
   ]
  },
  {
   "cell_type": "code",
   "execution_count": 12,
   "id": "645857f0-3df6-4a5c-981b-0f6857af3a8e",
   "metadata": {},
   "outputs": [],
   "source": [
    "def get_cvfs(start_state):\n",
    "    cvfs_in = dict()\n",
    "    cvfs_out = dict()\n",
    "    for position, _ in enumerate(start_state):\n",
    "        possible_node_colors = set(range(degree_of_nodes[nodes[position]]+1))\n",
    "        for perturb_val in possible_node_colors:\n",
    "            perturb_state = list(start_state)\n",
    "            perturb_state[position] = perturb_val\n",
    "            perturb_state = tuple(perturb_state)\n",
    "            if perturb_state != start_state:\n",
    "                if start_state in invariants:\n",
    "                    cvfs_in[perturb_state] = position\n",
    "                else:\n",
    "                    cvfs_out[perturb_state] = position\n",
    "    return {\"cvfs_in\": cvfs_in, \"cvfs_out\": cvfs_out}\n"
   ]
  },
  {
   "cell_type": "code",
   "execution_count": 13,
   "id": "f97ddc0c-677b-4392-9192-81f91182a1a1",
   "metadata": {},
   "outputs": [],
   "source": [
    "program_transitions_n_cvf = {}\n",
    "\n",
    "for state in configurations:\n",
    "    program_transitions_n_cvf[state] = {**get_program_transitions(state), **get_cvfs(state)}"
   ]
  },
  {
   "cell_type": "code",
   "execution_count": 14,
   "id": "38f90235-8707-49df-b403-6f8f793978f8",
   "metadata": {},
   "outputs": [
    {
     "name": "stdout",
     "output_type": "stream",
     "text": [
      "Unranked states for Program transitions: 531312\n"
     ]
    }
   ],
   "source": [
    "unranked_states = set(program_transitions_n_cvf.keys()) - set(program_transitions_rank.keys())\n",
    "print(\"Unranked states for Program transitions:\", len(unranked_states))"
   ]
  },
  {
   "cell_type": "code",
   "execution_count": 15,
   "id": "1708f79f-e68e-4a29-a234-5457b6bb0d48",
   "metadata": {},
   "outputs": [],
   "source": [
    "# rank the states that has all the paths to the ranked one\n",
    "while unranked_states:\n",
    "    ranked_states = set(program_transitions_rank.keys())\n",
    "    remove_from_unranked_states = set()\n",
    "    for state in unranked_states:\n",
    "        dests = program_transitions_n_cvf[state]['program_transitions']\n",
    "        if dests - ranked_states:       # some desitnations states are yet to be ranked\n",
    "            pass\n",
    "        else:                           # all the destination has been ranked\n",
    "            total_path_length = 0\n",
    "            path_count = 0\n",
    "            _max = 0\n",
    "            for succ in dests:\n",
    "                path_count += program_transitions_rank[succ][\"C\"]\n",
    "                total_path_length += program_transitions_rank[succ][\"L\"] + program_transitions_rank[succ][\"C\"]\n",
    "                _max = max(_max, program_transitions_rank[succ][\"M\"])\n",
    "            program_transitions_rank[state] = {\n",
    "                \"L\": total_path_length,\n",
    "                \"C\": path_count,\n",
    "                \"A\": total_path_length/path_count,\n",
    "                \"Ar\": math.ceil(total_path_length/path_count),\n",
    "                \"M\": _max + 1\n",
    "            }\n",
    "            remove_from_unranked_states.add(state)\n",
    "    unranked_states -= remove_from_unranked_states"
   ]
  },
  {
   "cell_type": "code",
   "execution_count": 16,
   "id": "d74d676b",
   "metadata": {},
   "outputs": [],
   "source": [
    "pt_rank_effect = {}\n",
    "\n",
    "for state, pt_cvfs in program_transitions_n_cvf.items():\n",
    "    for pt in pt_cvfs['program_transitions']:\n",
    "        pt_rank_effect[(state, pt)] = {\n",
    "            \"Ar\": program_transitions_rank[pt][\"Ar\"] - program_transitions_rank[state][\"Ar\"],\n",
    "            \"M\": program_transitions_rank[pt][\"M\"] - program_transitions_rank[state][\"M\"]\n",
    "        }"
   ]
  },
  {
   "cell_type": "code",
   "execution_count": 17,
   "id": "59ddd413-b2ef-4901-8585-caeceeffd852",
   "metadata": {},
   "outputs": [],
   "source": [
    "cvfs_in_rank_effect = {}\n",
    "cvfs_out_rank_effect = {}\n",
    "\n",
    "for state, pt_cvfs in program_transitions_n_cvf.items():\n",
    "    for cvf, node in pt_cvfs['cvfs_in'].items():\n",
    "        cvfs_in_rank_effect[(state, cvf)] = {\n",
    "            \"node\": node,\n",
    "            \"Ar\": program_transitions_rank[cvf][\"Ar\"] - program_transitions_rank[state][\"Ar\"],\n",
    "            \"M\": program_transitions_rank[cvf][\"M\"] - program_transitions_rank[state][\"M\"]\n",
    "        }\n",
    "    for cvf, node in pt_cvfs['cvfs_out'].items():\n",
    "        cvfs_out_rank_effect[(state, cvf)] = {\n",
    "            \"node\": node,\n",
    "            \"Ar\": program_transitions_rank[cvf][\"Ar\"] - program_transitions_rank[state][\"Ar\"],\n",
    "            \"M\": program_transitions_rank[cvf][\"M\"] - program_transitions_rank[state][\"M\"]\n",
    "        }"
   ]
  },
  {
   "cell_type": "markdown",
   "id": "e23af73c-d3da-44a1-98ab-fecec0120237",
   "metadata": {},
   "source": [
    "# Rank Effect Count"
   ]
  },
  {
   "cell_type": "code",
   "execution_count": 18,
   "id": "145f2b7e-4f47-4d8f-b496-e16b9438ca65",
   "metadata": {},
   "outputs": [],
   "source": [
    "pt_rank_effect_ = []\n",
    "for state in pt_rank_effect:\n",
    "    pt_rank_effect_.append({\"state\": state, **pt_rank_effect[state]})\n",
    "\n",
    "pt_rank_effect_df = pd.DataFrame(pt_rank_effect_)"
   ]
  },
  {
   "cell_type": "code",
   "execution_count": 19,
   "id": "c634f0fc-695d-4c96-b029-0d7602ba30fe",
   "metadata": {},
   "outputs": [],
   "source": [
    "cvfs_in_rank_effect_ = []\n",
    "for state in cvfs_in_rank_effect:\n",
    "    cvfs_in_rank_effect_.append({\"state\": state, **cvfs_in_rank_effect[state]})\n",
    "    \n",
    "cvfs_in_rank_effect_df = pd.DataFrame(cvfs_in_rank_effect_)"
   ]
  },
  {
   "cell_type": "code",
   "execution_count": 20,
   "id": "0e6cf4a7-58fd-49a0-ae82-a31b1ff55207",
   "metadata": {},
   "outputs": [],
   "source": [
    "cvfs_out_rank_effect_ = []\n",
    "for state in cvfs_out_rank_effect:\n",
    "    cvfs_out_rank_effect_.append({\"state\": state, **cvfs_out_rank_effect[state]})\n",
    "\n",
    "cvfs_out_rank_effect_df = pd.DataFrame(cvfs_out_rank_effect_)"
   ]
  },
  {
   "cell_type": "code",
   "execution_count": 21,
   "id": "c750f9a4-b5b8-4fa5-904e-bec620cb05c6",
   "metadata": {},
   "outputs": [],
   "source": [
    "pt_avg_counts = pt_rank_effect_df['Ar'].value_counts()\n",
    "pt_max_counts = pt_rank_effect_df['M'].value_counts()\n",
    "cvf_in_avg_counts = cvfs_in_rank_effect_df['Ar'].value_counts()\n",
    "cvf_in_max_counts = cvfs_in_rank_effect_df['M'].value_counts()\n",
    "cvf_out_avg_counts = cvfs_out_rank_effect_df['Ar'].value_counts()\n",
    "cvf_out_max_counts = cvfs_out_rank_effect_df['M'].value_counts()"
   ]
  },
  {
   "cell_type": "code",
   "execution_count": 22,
   "id": "b31aca63-b251-47ec-9880-96dbed3bc648",
   "metadata": {},
   "outputs": [],
   "source": [
    "fieldnames = [\"Rank Effect\", \"PT (Max)\", \"PT (Avg)\", \"CVF In (Max)\", \"CVF In (Avg)\", \"CVF Out (Max)\", \"CVF Out (Avg)\"]\n",
    "with open(os.path.join(results_dir, f\"rank_effect_{graph_name}.csv\"), \"w\", newline=\"\") as f:\n",
    "    writer = csv.DictWriter(f, fieldnames=fieldnames)\n",
    "    writer.writeheader()\n",
    "\n",
    "    for re in sorted(\n",
    "        set(pt_avg_counts.index) |\n",
    "        set(pt_max_counts.index) |\n",
    "        set(cvf_in_avg_counts.index) |\n",
    "        set(cvf_in_max_counts.index) |\n",
    "        set(cvf_out_avg_counts.index) |\n",
    "        set(cvf_out_max_counts.index)\n",
    "    ):\n",
    "        writer.writerow({\n",
    "            \"Rank Effect\": re,\n",
    "            \"PT (Max)\": pt_max_counts.get(re, 0),\n",
    "            \"PT (Avg)\": pt_avg_counts.get(re, 0),\n",
    "            \"CVF In (Max)\": cvf_in_max_counts.get(re, 0),\n",
    "            \"CVF In (Avg)\": cvf_in_avg_counts.get(re, 0),\n",
    "            \"CVF Out (Max)\": cvf_out_max_counts.get(re, 0),\n",
    "            \"CVF Out (Avg)\": cvf_out_avg_counts.get(re, 0),\n",
    "        })"
   ]
  },
  {
   "cell_type": "markdown",
   "id": "8d7b1c60-6e92-4704-9d31-9fa083ffdc75",
   "metadata": {},
   "source": [
    "# Rank Count"
   ]
  },
  {
   "cell_type": "code",
   "execution_count": 23,
   "id": "3de74b95-3181-469c-9db4-600c84015979",
   "metadata": {},
   "outputs": [],
   "source": [
    "pt_rank_ = []\n",
    "for state in program_transitions_rank:\n",
    "    pt_rank_.append({\"state\": state, **program_transitions_rank[state]})\n",
    "\n",
    "pt_rank_df = pd.DataFrame(pt_rank_)"
   ]
  },
  {
   "cell_type": "code",
   "execution_count": 24,
   "id": "cbeb67b2-6071-480b-9f37-5c81ea74985a",
   "metadata": {},
   "outputs": [],
   "source": [
    "pt_avg_counts = pt_rank_df['Ar'].value_counts()\n",
    "pt_max_counts = pt_rank_df['M'].value_counts()"
   ]
  },
  {
   "cell_type": "code",
   "execution_count": 25,
   "id": "1984a535",
   "metadata": {},
   "outputs": [],
   "source": [
    "fieldnames = [\"Rank\", \"Count (Max)\", \"Count (Avg)\"]\n",
    "with open(os.path.join(results_dir, f\"rank_{graph_name}.csv\"), \"w\", newline=\"\") as f:\n",
    "    writer = csv.DictWriter(f, fieldnames=fieldnames)\n",
    "    writer.writeheader()\n",
    "\n",
    "    for rank in sorted(set(pt_avg_counts.index)|set(pt_max_counts.index)):\n",
    "        writer.writerow({\"Rank\": rank, \"Count (Max)\": pt_max_counts.get(rank, 0), \"Count (Avg)\": pt_avg_counts.get(rank, 0)})"
   ]
  },
  {
   "cell_type": "markdown",
   "id": "460921f4-e149-4af4-b151-d5d5ee4e707e",
   "metadata": {},
   "source": [
    "# Rank Effect of Individual Nodes"
   ]
  },
  {
   "cell_type": "code",
   "execution_count": 26,
   "id": "1c1c130b-7953-4199-aa16-20cf406f6e38",
   "metadata": {},
   "outputs": [],
   "source": [
    "cvf_in_avg_counts_by_node = cvfs_in_rank_effect_df.groupby(['node', 'Ar'])['Ar'].count()\n",
    "cvf_in_max_counts_by_node = cvfs_in_rank_effect_df.groupby(['node', 'M'])['M'].count()\n",
    "cvf_out_avg_counts_by_node = cvfs_out_rank_effect_df.groupby(['node', 'Ar'])['Ar'].count()\n",
    "cvf_out_max_counts_by_node = cvfs_out_rank_effect_df.groupby(['node', 'M'])['M'].count()"
   ]
  },
  {
   "cell_type": "code",
   "execution_count": 27,
   "id": "59ce22f2-8cb4-4119-b008-88424980593c",
   "metadata": {},
   "outputs": [
    {
     "data": {
      "text/plain": [
       "(116, -116, 124, -124, 124, -124)"
      ]
     },
     "execution_count": 27,
     "metadata": {},
     "output_type": "execute_result"
    }
   ],
   "source": [
    "max_Ar = max(cvfs_in_rank_effect_df['Ar'].max(), cvfs_out_rank_effect_df['Ar'].max())\n",
    "min_Ar = min(cvfs_in_rank_effect_df['Ar'].min(), cvfs_out_rank_effect_df['Ar'].min())\n",
    "\n",
    "max_M = max(cvfs_in_rank_effect_df['M'].max(), cvfs_out_rank_effect_df['M'].max())\n",
    "min_M = min(cvfs_in_rank_effect_df['M'].min(), cvfs_out_rank_effect_df['M'].min())\n",
    "\n",
    "max_Ar_M = max(max_Ar, max_M)\n",
    "min_Ar_M = min(min_Ar, min_M)\n",
    "\n",
    "max_Ar, min_Ar, max_M, min_M, max_Ar_M, min_Ar_M"
   ]
  },
  {
   "cell_type": "code",
   "execution_count": 28,
   "id": "22a40ee5-beba-4372-b2d5-361490c1155a",
   "metadata": {},
   "outputs": [],
   "source": [
    "# rank effect of individual node\n",
    "fieldnames = [\"Node\", \"Rank Effect\", \"CVF In (Max)\", \"CVF In (Avg)\", \"CVF Out (Max)\", \"CVF Out (Avg)\"]\n",
    "with open(os.path.join(results_dir, f\"rank_effect_by_node_{graph_name}.csv\"), \"w\", newline=\"\") as f:\n",
    "    writer = csv.DictWriter(f, fieldnames=fieldnames)\n",
    "    writer.writeheader()\n",
    "\n",
    "    for node in nodes:\n",
    "        for rank_effect in range(min_Ar_M, max_Ar_M+1):\n",
    "            node_re = (node_positions[node], rank_effect)\n",
    "            writer.writerow({\n",
    "                \"Node\": node,\n",
    "                \"Rank Effect\": rank_effect,\n",
    "                \"CVF In (Max)\": cvf_in_max_counts_by_node.get(node_re, 0),\n",
    "                \"CVF In (Avg)\": cvf_in_avg_counts_by_node.get(node_re, 0),\n",
    "                \"CVF Out (Max)\": cvf_out_max_counts_by_node.get(node_re, 0),\n",
    "                \"CVF Out (Avg)\": cvf_out_avg_counts_by_node.get(node_re, 0),\n",
    "            })"
   ]
  }
 ],
 "metadata": {
  "kernelspec": {
   "display_name": "Python 3 (ipykernel)",
   "language": "python",
   "name": "python3"
  },
  "language_info": {
   "codemirror_mode": {
    "name": "ipython",
    "version": 3
   },
   "file_extension": ".py",
   "mimetype": "text/x-python",
   "name": "python",
   "nbconvert_exporter": "python",
   "pygments_lexer": "ipython3",
   "version": "3.11.6"
  }
 },
 "nbformat": 4,
 "nbformat_minor": 5
}
