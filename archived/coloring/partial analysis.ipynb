{
 "cells": [
  {
   "cell_type": "code",
   "execution_count": 1,
   "id": "60dddb4c-e19b-4adb-bc43-a502cdaaedbf",
   "metadata": {},
   "outputs": [
    {
     "name": "stderr",
     "output_type": "stream",
     "text": [
      "C:\\Users\\amitg\\AppData\\Local\\Temp\\ipykernel_16284\\2917558309.py:7: DeprecationWarning: \n",
      "Pyarrow will become a required dependency of pandas in the next major release of pandas (pandas 3.0),\n",
      "(to allow more performant data types, such as the Arrow string type, and better interoperability with other libraries)\n",
      "but was not found to be installed on your system.\n",
      "If this would cause problems for you,\n",
      "please provide us feedback at https://github.com/pandas-dev/pandas/issues/54466\n",
      "        \n",
      "  import pandas as pd\n"
     ]
    }
   ],
   "source": [
    "import os\n",
    "import csv\n",
    "import copy\n",
    "import math\n",
    "import random\n",
    "\n",
    "import pandas as pd\n",
    "\n",
    "from itertools import combinations"
   ]
  },
  {
   "cell_type": "code",
   "execution_count": 2,
   "id": "4e0b67b5-4db5-41af-a8e6-9ec8a1a0bd7a",
   "metadata": {},
   "outputs": [],
   "source": [
    "graphs_dir = \"graphs\"\n",
    "results_dir = \"results\""
   ]
  },
  {
   "cell_type": "code",
   "execution_count": 3,
   "id": "e6a8f900-8252-46c0-aba1-1436b54edff7",
   "metadata": {},
   "outputs": [],
   "source": [
    "SAMPLE_SIZE = 1"
   ]
  },
  {
   "cell_type": "code",
   "execution_count": 4,
   "id": "edd4cde5-27ff-4687-9828-9ef65d314176",
   "metadata": {},
   "outputs": [
    {
     "data": {
      "text/plain": [
       "{'A': {'D'},\n",
       " 'B': {'D', 'E'},\n",
       " 'C': {'D', 'E'},\n",
       " 'D': {'A', 'B', 'C', 'E'},\n",
       " 'E': {'B', 'C', 'D'}}"
      ]
     },
     "execution_count": 4,
     "metadata": {},
     "output_type": "execute_result"
    }
   ],
   "source": [
    "graph_name = \"graph_powerlaw_cluster_graph_n5\"\n",
    "\n",
    "graph = {}\n",
    "with open(os.path.join(graphs_dir, f\"{graph_name}.txt\"), \"r\") as f:\n",
    "    line = f.readline()\n",
    "    while line:\n",
    "        node_edges = line.split()\n",
    "        node = node_edges[0]        \n",
    "        edges = node_edges[1:]\n",
    "        graph[node] = set(edges)\n",
    "        line = f.readline()\n",
    "\n",
    "graph"
   ]
  },
  {
   "cell_type": "code",
   "execution_count": 5,
   "id": "0fe1a282-5370-4941-b977-497d82625230",
   "metadata": {},
   "outputs": [],
   "source": [
    "nodes = list(graph.keys())\n",
    "node_positions = {v: i for i, v in enumerate(nodes)}"
   ]
  },
  {
   "cell_type": "code",
   "execution_count": 6,
   "id": "ba7defd8-1fe2-48eb-bc35-132c4cd49da2",
   "metadata": {},
   "outputs": [
    {
     "name": "stdout",
     "output_type": "stream",
     "text": [
      "Degree of all nodes (starting from 0):\n"
     ]
    },
    {
     "data": {
      "text/plain": [
       "{'A': 1, 'B': 2, 'C': 2, 'D': 4, 'E': 3}"
      ]
     },
     "execution_count": 6,
     "metadata": {},
     "output_type": "execute_result"
    }
   ],
   "source": [
    "degree_of_nodes = {n: len(graph[n]) for n in nodes}\n",
    "\n",
    "print(\"Degree of all nodes (starting from 0):\")\n",
    "degree_of_nodes # start from 0"
   ]
  },
  {
   "cell_type": "code",
   "execution_count": 7,
   "id": "a8564a0d-fdf1-46ff-aea4-e9298f325a95",
   "metadata": {},
   "outputs": [
    {
     "name": "stdout",
     "output_type": "stream",
     "text": [
      "No. of Configurations: 360\n"
     ]
    }
   ],
   "source": [
    "configurations = {\n",
    "    tuple([0 for i in range(len(nodes))])\n",
    "}\n",
    "# perturb each state at a time for all states in configurations and accumulate the same in the configurations for next state to perturb\n",
    "for n in nodes:\n",
    "    node_pos = node_positions[n]\n",
    "    config_copy = copy.deepcopy(configurations)\n",
    "    for i in range(1, degree_of_nodes[n]+1):\n",
    "        for cc in config_copy:\n",
    "            cc = list(cc)\n",
    "            cc[node_pos] = i\n",
    "            configurations.add(tuple(cc))\n",
    "\n",
    "print(\"No. of Configurations:\", len(configurations))"
   ]
  },
  {
   "cell_type": "code",
   "execution_count": 8,
   "id": "970d96c6-a5db-457d-8be3-8f607dd1cc2d",
   "metadata": {},
   "outputs": [
    {
     "name": "stdout",
     "output_type": "stream",
     "text": [
      "Invariants and Count of Invariants:\n"
     ]
    },
    {
     "data": {
      "text/plain": [
       "90"
      ]
     },
     "execution_count": 8,
     "metadata": {},
     "output_type": "execute_result"
    }
   ],
   "source": [
    "invariants = set()\n",
    "for state in configurations:\n",
    "    all_paths = combinations(range(len(state)), 2)\n",
    "    for src, dest in all_paths:\n",
    "        src_node, dest_node = nodes[src], nodes[dest]\n",
    "        src_color, dest_color = state[src], state[dest]\n",
    "        if dest_node in graph[src_node] and src_color == dest_color:\n",
    "            # found same color node between neighbors\n",
    "            break\n",
    "    else:\n",
    "        invariants.add(state)\n",
    "\n",
    "print(\"Invariants and Count of Invariants:\")\n",
    "len(invariants)"
   ]
  },
  {
   "cell_type": "code",
   "execution_count": 9,
   "id": "136354f5-a4bc-4716-93f3-606dfc803375",
   "metadata": {},
   "outputs": [],
   "source": [
    "program_transitions_rank = {}\n",
    "for inv in invariants:\n",
    "    program_transitions_rank[inv] = {\"L\": 0, \"C\": 1, \"A\": 0, \"Ar\": 0, \"M\": 0}"
   ]
  },
  {
   "cell_type": "code",
   "execution_count": 10,
   "id": "d00bfc85-f433-446b-bb3d-8732ceba7d7a",
   "metadata": {},
   "outputs": [],
   "source": [
    "def find_min_possible_color(colors):\n",
    "    for i in range(len(colors)+1):\n",
    "        if i not in colors:\n",
    "            return i"
   ]
  },
  {
   "cell_type": "code",
   "execution_count": 11,
   "id": "f3153bb0-847b-49b9-9a12-79407e37664c",
   "metadata": {},
   "outputs": [],
   "source": [
    "def is_different_color(color, other_colors):\n",
    "    \"\"\"\n",
    "    return True if \"color\" is different from all \"other_colors\"\n",
    "    \"\"\"\n",
    "    for c in other_colors:\n",
    "        if color == c:\n",
    "            return False\n",
    "    return True"
   ]
  },
  {
   "cell_type": "code",
   "execution_count": 12,
   "id": "94daffff-063c-486c-9471-8f75bc3561d3",
   "metadata": {},
   "outputs": [],
   "source": [
    "def is_program_transition(perturb_pos, start_state, dest_state):\n",
    "    if start_state in invariants and dest_state in invariants:\n",
    "        return False\n",
    "\n",
    "    node = nodes[perturb_pos]\n",
    "    neighbor_pos = [node_positions[n] for n in graph[node]]\n",
    "    neighbor_colors = set(dest_state[i] for i in neighbor_pos)\n",
    "    min_color = find_min_possible_color(neighbor_colors)\n",
    "    return dest_state[perturb_pos] == min_color"
   ]
  },
  {
   "cell_type": "code",
   "execution_count": 13,
   "id": "b320d198-f8be-4a9b-ba31-62eeb5d5f994",
   "metadata": {},
   "outputs": [],
   "source": [
    "def get_program_transitions(start_state):\n",
    "    program_transitions = set()\n",
    "\n",
    "    for position, val in enumerate(start_state):\n",
    "        # check if node already has different color among the neighbors => If yes => no need to perturb that node's value\n",
    "        node = nodes[position]\n",
    "        neighbor_pos = [node_positions[n] for n in graph[node]]\n",
    "        neighbor_colors = set(start_state[i] for i in neighbor_pos)\n",
    "        if is_different_color(val, neighbor_colors):\n",
    "            continue\n",
    "        \n",
    "        # if the current node's color is not different among the neighbors => search for the program transitions possible\n",
    "        possible_node_colors = set(range(degree_of_nodes[nodes[position]]+1)) - {start_state[position]}\n",
    "        for perturb_val in possible_node_colors:\n",
    "            perturb_state = list(start_state)\n",
    "            perturb_state[position] = perturb_val\n",
    "            perturb_state = tuple(perturb_state)\n",
    "            if is_program_transition(position, start_state, perturb_state):\n",
    "                program_transitions.add(perturb_state)\n",
    "\n",
    "    return program_transitions\n",
    "\n",
    "# get_program_transitions((0,0,2, 3, 3))"
   ]
  },
  {
   "cell_type": "code",
   "execution_count": 14,
   "id": "4d3dff28-56f5-4374-8ab5-a3502f6b8eb4",
   "metadata": {},
   "outputs": [],
   "source": [
    "program_transitions_n_cvf = {}"
   ]
  },
  {
   "cell_type": "code",
   "execution_count": 15,
   "id": "4d87e554-3117-4f5b-bf4b-a15f543daf3c",
   "metadata": {},
   "outputs": [],
   "source": [
    "def find_rank_of_successors(state, probe_limit, init=False):\n",
    "    if state in invariants:\n",
    "        return program_transitions_rank[state]\n",
    "    else:\n",
    "        successors = list(get_program_transitions(state))\n",
    "        random.shuffle(successors)\n",
    "        share = probe_limit // len(successors)\n",
    "        add_extra_to_nodes = probe_limit - share * len(successors)\n",
    "        total_path_length = 0\n",
    "        path_count = 0\n",
    "        _max = 0\n",
    "        for succ in successors:\n",
    "            if add_extra_to_nodes > 0:\n",
    "                result = find_rank_of_successors(succ, share+1)\n",
    "                add_extra_to_nodes -= 1\n",
    "            else:\n",
    "                if share > 0:\n",
    "                    result = find_rank_of_successors(succ, share)\n",
    "                else:\n",
    "                    break\n",
    "\n",
    "            if init:\n",
    "                program_transitions_n_cvf[state][\"program_transitions\"].add(succ)\n",
    "\n",
    "            path_count += result[\"C\"]\n",
    "            total_path_length += result[\"L\"] + result[\"C\"]\n",
    "            _max = max(_max, result[\"M\"])\n",
    "\n",
    "        return {\n",
    "                \"L\": total_path_length,\n",
    "                \"C\": path_count,\n",
    "                \"A\": total_path_length/path_count,\n",
    "                \"Ar\": math.ceil(total_path_length/path_count),\n",
    "                \"M\": _max + 1\n",
    "        }"
   ]
  },
  {
   "cell_type": "code",
   "execution_count": 16,
   "id": "f4d17777-bd2a-4ee7-a4b1-4f537a391452",
   "metadata": {},
   "outputs": [],
   "source": [
    "for state in configurations:\n",
    "    program_transitions_n_cvf[state] = {\"program_transitions\": set()}\n",
    "    program_transitions_rank[state] = find_rank_of_successors(state, SAMPLE_SIZE, True)"
   ]
  },
  {
   "cell_type": "markdown",
   "id": "dd89300a-669d-4e51-ad97-6bea02878599",
   "metadata": {},
   "source": [
    "# Rank count"
   ]
  },
  {
   "cell_type": "code",
   "execution_count": 17,
   "id": "fb8e5bc2-2bc7-42aa-af0d-a23e39084233",
   "metadata": {},
   "outputs": [],
   "source": [
    "pt_rank_ = []\n",
    "for state in program_transitions_rank:\n",
    "    pt_rank_.append({\"state\": state, **program_transitions_rank[state]})\n",
    "\n",
    "pt_rank_df = pd.DataFrame(pt_rank_)"
   ]
  },
  {
   "cell_type": "code",
   "execution_count": 18,
   "id": "896ad920-607e-48fe-a0aa-6e4eb908a4a3",
   "metadata": {},
   "outputs": [],
   "source": [
    "pt_avg_counts = pt_rank_df['Ar'].value_counts()\n",
    "pt_max_counts = pt_rank_df['M'].value_counts()"
   ]
  },
  {
   "cell_type": "code",
   "execution_count": 19,
   "id": "c875e260-93fa-41d5-8480-45b91fe4d7e7",
   "metadata": {},
   "outputs": [],
   "source": [
    "fieldnames = [\"Rank\", \"Count (Max)\", \"Count (Avg)\"]\n",
    "with open(os.path.join(results_dir, f\"rank_partial_{graph_name}.csv\"), \"w\", newline=\"\") as f:\n",
    "    writer = csv.DictWriter(f, fieldnames=fieldnames)\n",
    "    writer.writeheader()\n",
    "\n",
    "    for rank in sorted(set(pt_avg_counts.index)|set(pt_max_counts.index)):\n",
    "        writer.writerow({\"Rank\": rank, \"Count (Max)\": pt_max_counts.get(rank, 0), \"Count (Avg)\": pt_avg_counts.get(rank, 0)})"
   ]
  },
  {
   "cell_type": "markdown",
   "id": "9efbe6e5-22ac-4708-8b41-4dab55e8a8f1",
   "metadata": {},
   "source": [
    "# Rank Effect"
   ]
  },
  {
   "cell_type": "code",
   "execution_count": 20,
   "id": "8967a137-5700-451d-9412-87bdd147f438",
   "metadata": {},
   "outputs": [],
   "source": [
    "pt_rank_effect = {}\n",
    "\n",
    "for state, pt_cvfs in program_transitions_n_cvf.items():\n",
    "    for pt in pt_cvfs['program_transitions']:\n",
    "        pt_rank_effect[(state, pt)] = {\n",
    "            \"Ar\": program_transitions_rank[pt][\"Ar\"] - program_transitions_rank[state][\"Ar\"],\n",
    "            \"M\": program_transitions_rank[pt][\"M\"] - program_transitions_rank[state][\"M\"]\n",
    "        }"
   ]
  },
  {
   "cell_type": "code",
   "execution_count": 21,
   "id": "438b2f75-d9d7-4df1-8964-310f0b239879",
   "metadata": {},
   "outputs": [],
   "source": [
    "def get_cvfs(start_state):\n",
    "    cvfs = {}\n",
    "    for position, _ in enumerate(start_state):\n",
    "        possible_node_colors = set(range(degree_of_nodes[nodes[position]]+1))\n",
    "        for perturb_val in possible_node_colors:\n",
    "            perturb_state = list(start_state)\n",
    "            perturb_state[position] = perturb_val\n",
    "            perturb_state = tuple(perturb_state)\n",
    "            if perturb_state != start_state:\n",
    "                cvfs[perturb_state] = position # track the nodes to calculate its overall rank effect\n",
    "    return cvfs"
   ]
  },
  {
   "cell_type": "code",
   "execution_count": 22,
   "id": "bb72c35f-c4a3-4a89-93d6-a09a9f599574",
   "metadata": {},
   "outputs": [],
   "source": [
    "for state in configurations:\n",
    "    program_transitions_n_cvf[state].update({\"cvfs_in\": dict(), \"cvfs_out\": dict()})\n",
    "    key = \"cvfs_in\" if state in invariants else \"cvfs_out\"\n",
    "    program_transitions_n_cvf[state][key] = get_cvfs(state)"
   ]
  },
  {
   "cell_type": "code",
   "execution_count": 23,
   "id": "0bfa241b-17b5-4414-bc00-faed94d313fc",
   "metadata": {},
   "outputs": [],
   "source": [
    "cvfs_in_rank_effect = {}\n",
    "cvfs_out_rank_effect = {}\n",
    "\n",
    "for state, pt_cvfs in program_transitions_n_cvf.items():\n",
    "    for cvf, node in pt_cvfs['cvfs_in'].items():\n",
    "        cvfs_in_rank_effect[(state, cvf)] = {\n",
    "            \"node\": node,\n",
    "            \"Ar\": program_transitions_rank[cvf][\"Ar\"] - program_transitions_rank[state][\"Ar\"],\n",
    "            \"M\": program_transitions_rank[cvf][\"M\"] - program_transitions_rank[state][\"M\"]\n",
    "        }\n",
    "    for cvf, node in pt_cvfs['cvfs_out'].items():\n",
    "        cvfs_out_rank_effect[(state, cvf)] = {\n",
    "            \"node\": node,\n",
    "            \"Ar\": program_transitions_rank[cvf][\"Ar\"] - program_transitions_rank[state][\"Ar\"],\n",
    "            \"M\": program_transitions_rank[cvf][\"M\"] - program_transitions_rank[state][\"M\"]\n",
    "        }"
   ]
  },
  {
   "cell_type": "code",
   "execution_count": 24,
   "id": "5e9945d2-928b-430e-9a63-673a2d0f71a4",
   "metadata": {},
   "outputs": [],
   "source": [
    "pt_rank_effect_ = []\n",
    "for state in pt_rank_effect:\n",
    "    pt_rank_effect_.append({\"state\": state, **pt_rank_effect[state]})\n",
    "\n",
    "pt_rank_effect_df = pd.DataFrame(pt_rank_effect_)"
   ]
  },
  {
   "cell_type": "code",
   "execution_count": 25,
   "id": "d08c2595-c88d-497c-a083-9b2279d8dd0f",
   "metadata": {},
   "outputs": [],
   "source": [
    "cvfs_in_rank_effect_ = []\n",
    "for state in cvfs_in_rank_effect:\n",
    "    cvfs_in_rank_effect_.append({\"state\": state, **cvfs_in_rank_effect[state]})\n",
    "    \n",
    "cvfs_in_rank_effect_df = pd.DataFrame(cvfs_in_rank_effect_)"
   ]
  },
  {
   "cell_type": "code",
   "execution_count": 26,
   "id": "06259ecf-6343-47dd-8bb2-a41690d92d1e",
   "metadata": {},
   "outputs": [],
   "source": [
    "cvfs_out_rank_effect_ = []\n",
    "for state in cvfs_out_rank_effect:\n",
    "    cvfs_out_rank_effect_.append({\"state\": state, **cvfs_out_rank_effect[state]})\n",
    "\n",
    "cvfs_out_rank_effect_df = pd.DataFrame(cvfs_out_rank_effect_)"
   ]
  },
  {
   "cell_type": "code",
   "execution_count": 27,
   "id": "1ce53e24-3928-4252-9f9b-fbc209e08636",
   "metadata": {},
   "outputs": [],
   "source": [
    "pt_avg_counts = pt_rank_effect_df['Ar'].value_counts()\n",
    "pt_max_counts = pt_rank_effect_df['M'].value_counts()\n",
    "cvf_in_avg_counts = cvfs_in_rank_effect_df['Ar'].value_counts()\n",
    "cvf_in_max_counts = cvfs_in_rank_effect_df['M'].value_counts()\n",
    "cvf_out_avg_counts = cvfs_out_rank_effect_df['Ar'].value_counts()\n",
    "cvf_out_max_counts = cvfs_out_rank_effect_df['M'].value_counts()"
   ]
  },
  {
   "cell_type": "code",
   "execution_count": 28,
   "id": "ccb472a0-7f79-46bd-851e-dc426316e35e",
   "metadata": {},
   "outputs": [],
   "source": [
    "fieldnames = [\"Rank Effect\", \"PT (Max)\", \"PT (Avg)\", \"CVF In (Max)\", \"CVF In (Avg)\", \"CVF Out (Max)\", \"CVF Out (Avg)\"]\n",
    "with open(os.path.join(results_dir, f\"rank_partial_effect_{graph_name}.csv\"), \"w\", newline=\"\") as f:\n",
    "    writer = csv.DictWriter(f, fieldnames=fieldnames)\n",
    "    writer.writeheader()\n",
    "\n",
    "    for re in sorted(\n",
    "        set(pt_avg_counts.index) |\n",
    "        set(pt_max_counts.index) |\n",
    "        set(cvf_in_avg_counts.index) |\n",
    "        set(cvf_in_max_counts.index) |\n",
    "        set(cvf_out_avg_counts.index) |\n",
    "        set(cvf_out_max_counts.index)\n",
    "    ):\n",
    "        writer.writerow({\n",
    "            \"Rank Effect\": re,\n",
    "            \"PT (Max)\": pt_max_counts.get(re, 0),\n",
    "            \"PT (Avg)\": pt_avg_counts.get(re, 0),\n",
    "            \"CVF In (Max)\": cvf_in_max_counts.get(re, 0),\n",
    "            \"CVF In (Avg)\": cvf_in_avg_counts.get(re, 0),\n",
    "            \"CVF Out (Max)\": cvf_out_max_counts.get(re, 0),\n",
    "            \"CVF Out (Avg)\": cvf_out_avg_counts.get(re, 0),\n",
    "        })"
   ]
  },
  {
   "cell_type": "code",
   "execution_count": null,
   "id": "ed93852f-45d8-4ba8-8aa3-5e637c623833",
   "metadata": {},
   "outputs": [],
   "source": []
  }
 ],
 "metadata": {
  "kernelspec": {
   "display_name": "Python 3 (ipykernel)",
   "language": "python",
   "name": "python3"
  },
  "language_info": {
   "codemirror_mode": {
    "name": "ipython",
    "version": 3
   },
   "file_extension": ".py",
   "mimetype": "text/x-python",
   "name": "python",
   "nbconvert_exporter": "python",
   "pygments_lexer": "ipython3",
   "version": "3.12.2"
  }
 },
 "nbformat": 4,
 "nbformat_minor": 5
}
