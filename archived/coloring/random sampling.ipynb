{
 "cells": [
  {
   "cell_type": "code",
   "execution_count": 27,
   "id": "85e62d2e-7ef4-48e0-8a48-fc46d2b247ea",
   "metadata": {},
   "outputs": [],
   "source": [
    "import copy\n",
    "import random\n",
    "\n",
    "from collections import Counter"
   ]
  },
  {
   "cell_type": "code",
   "execution_count": 28,
   "id": "8a2e5a98-3348-426c-a522-084e4ac5cb87",
   "metadata": {},
   "outputs": [],
   "source": [
    "population = [[1, 2], [4, 5, 6], [7, 8, 9, 10]]"
   ]
  },
  {
   "cell_type": "code",
   "execution_count": 29,
   "id": "ee362c9d-d5b9-43d4-800f-7c0af7141345",
   "metadata": {},
   "outputs": [],
   "source": [
    "def generate_random_samples(k):\n",
    "    N = copy.deepcopy(population)\n",
    "    random.shuffle(N)\n",
    "    indx = 0\n",
    "    samples = []\n",
    "    while k > 0 and N:\n",
    "        sampled_indx = random.randint(0, len(N[indx])-1)\n",
    "        samples.append(N[indx].pop(sampled_indx))\n",
    "        if len(N[indx]) == 0: # all elements popped for this list\n",
    "            N.pop(indx)\n",
    "            if N:\n",
    "                indx = indx % len(N)\n",
    "        else:\n",
    "            indx = (indx + 1)%len(N)\n",
    "    \n",
    "        if indx == 0 and N:\n",
    "            random.shuffle(N)\n",
    "    \n",
    "        k -= 1\n",
    "\n",
    "    return samples"
   ]
  },
  {
   "cell_type": "code",
   "execution_count": 32,
   "id": "9a82969d-5901-480d-8334-12efe5dc2a5a",
   "metadata": {},
   "outputs": [],
   "source": [
    "samples = []\n",
    "for i in [generate_random_samples(6) for i in range(10)]:\n",
    "    samples.extend(i)"
   ]
  },
  {
   "cell_type": "code",
   "execution_count": 33,
   "id": "935e6fc2-23c0-4f67-955e-1ac4c30f2be4",
   "metadata": {},
   "outputs": [
    {
     "data": {
      "text/plain": [
       "Counter({1: 10, 2: 10, 4: 8, 6: 7, 10: 6, 8: 6, 5: 5, 7: 4, 9: 4})"
      ]
     },
     "execution_count": 33,
     "metadata": {},
     "output_type": "execute_result"
    }
   ],
   "source": [
    "Counter(samples)"
   ]
  },
  {
   "cell_type": "code",
   "execution_count": 12,
   "id": "4975e5ac-d029-48a0-a734-c806ed2778e9",
   "metadata": {},
   "outputs": [
    {
     "name": "stdout",
     "output_type": "stream",
     "text": [
      "5\n",
      "7\n",
      "1\n",
      "10\n",
      "4\n",
      "2\n",
      "6\n"
     ]
    }
   ],
   "source": [
    "generate_random_samples(7)"
   ]
  },
  {
   "cell_type": "code",
   "execution_count": 14,
   "id": "bba22799-27f7-4da7-bd83-f934f8b770ab",
   "metadata": {},
   "outputs": [
    {
     "name": "stdout",
     "output_type": "stream",
     "text": [
      "7\n",
      "6\n",
      "2\n"
     ]
    }
   ],
   "source": [
    "generate_random_samples(3)"
   ]
  },
  {
   "cell_type": "code",
   "execution_count": 15,
   "id": "ba171a6e-246a-40ce-bacc-d8139f7b787f",
   "metadata": {},
   "outputs": [
    {
     "name": "stdout",
     "output_type": "stream",
     "text": [
      "1\n",
      "4\n",
      "7\n",
      "5\n",
      "9\n",
      "2\n"
     ]
    }
   ],
   "source": [
    "generate_random_samples(6)"
   ]
  },
  {
   "cell_type": "code",
   "execution_count": null,
   "id": "e7cc5147-2d96-4d54-bffe-e6642b410cad",
   "metadata": {},
   "outputs": [],
   "source": []
  }
 ],
 "metadata": {
  "kernelspec": {
   "display_name": "Python 3 (ipykernel)",
   "language": "python",
   "name": "python3"
  },
  "language_info": {
   "codemirror_mode": {
    "name": "ipython",
    "version": 3
   },
   "file_extension": ".py",
   "mimetype": "text/x-python",
   "name": "python",
   "nbconvert_exporter": "python",
   "pygments_lexer": "ipython3",
   "version": "3.12.2"
  }
 },
 "nbformat": 4,
 "nbformat_minor": 5
}
