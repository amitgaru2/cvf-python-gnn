{
 "cells": [
  {
   "cell_type": "code",
   "execution_count": 1,
   "id": "9dbf0ccc-b668-4b82-aed3-d175761c4a7b",
   "metadata": {},
   "outputs": [
    {
     "name": "stderr",
     "output_type": "stream",
     "text": [
      "C:\\Users\\amitg\\AppData\\Local\\Temp\\ipykernel_8280\\2115673951.py:6: DeprecationWarning: \n",
      "Pyarrow will become a required dependency of pandas in the next major release of pandas (pandas 3.0),\n",
      "(to allow more performant data types, such as the Arrow string type, and better interoperability with other libraries)\n",
      "but was not found to be installed on your system.\n",
      "If this would cause problems for you,\n",
      "please provide us feedback at https://github.com/pandas-dev/pandas/issues/54466\n",
      "        \n",
      "  import pandas as pd\n"
     ]
    }
   ],
   "source": [
    "import os\n",
    "import csv\n",
    "import copy\n",
    "import math\n",
    "\n",
    "import pandas as pd"
   ]
  },
  {
   "cell_type": "code",
   "execution_count": 2,
   "id": "792245d4-f48f-42f7-80b2-36b6bae18e21",
   "metadata": {},
   "outputs": [],
   "source": [
    "graph = {\n",
    "    'A': ['B', 'C'],\n",
    "    'B': ['A', 'C'],\n",
    "    'C': ['B', 'A'],\n",
    "}"
   ]
  },
  {
   "cell_type": "code",
   "execution_count": 3,
   "id": "a11e26b8-6486-4a84-bce6-ab9938ac4d46",
   "metadata": {},
   "outputs": [
    {
     "data": {
      "text/plain": [
       "{'A': 0, 'B': 1, 'C': 2}"
      ]
     },
     "execution_count": 3,
     "metadata": {},
     "output_type": "execute_result"
    }
   ],
   "source": [
    "nodes = list(graph.keys())\n",
    "node_positions = {v: i for i, v in enumerate(nodes)}\n",
    "node_positions"
   ]
  },
  {
   "cell_type": "code",
   "execution_count": 4,
   "id": "112326de-67e4-4643-bc6c-b4e10fa67ada",
   "metadata": {},
   "outputs": [
    {
     "data": {
      "text/plain": [
       "{0: [1, 2], 1: [0, 2], 2: [1, 0]}"
      ]
     },
     "execution_count": 4,
     "metadata": {},
     "output_type": "execute_result"
    }
   ],
   "source": [
    "graph_based_on_indx = {}\n",
    "for k, v in graph.items():\n",
    "    graph_based_on_indx[node_positions[k]] = []\n",
    "    for iv in v:\n",
    "        graph_based_on_indx[node_positions[k]].append(node_positions[iv])\n",
    "graph_based_on_indx"
   ]
  },
  {
   "cell_type": "code",
   "execution_count": 5,
   "id": "cbd963ed-6426-42c8-acd8-50aa9342c378",
   "metadata": {},
   "outputs": [
    {
     "name": "stdout",
     "output_type": "stream",
     "text": [
      "Degree of all nodes (starting from 0):\n"
     ]
    },
    {
     "data": {
      "text/plain": [
       "{'A': 2, 'B': 2, 'C': 2}"
      ]
     },
     "execution_count": 5,
     "metadata": {},
     "output_type": "execute_result"
    }
   ],
   "source": [
    "degree_of_nodes = {n: len(graph[n]) for n in nodes}\n",
    "\n",
    "print(\"Degree of all nodes (starting from 0):\")\n",
    "degree_of_nodes # start from 0"
   ]
  },
  {
   "cell_type": "code",
   "execution_count": 6,
   "id": "01507aaa-8515-4958-9b31-003f40434261",
   "metadata": {},
   "outputs": [
    {
     "data": {
      "text/plain": [
       "{0: 2, 1: 2, 2: 2}"
      ]
     },
     "execution_count": 6,
     "metadata": {},
     "output_type": "execute_result"
    }
   ],
   "source": [
    "degree_of_nodes_based_on_indx = {node_positions[k]: v for k, v in degree_of_nodes.items()}\n",
    "degree_of_nodes_based_on_indx"
   ]
  },
  {
   "cell_type": "code",
   "execution_count": 7,
   "id": "7e5fd30b-0660-465c-93db-0fe9e1d2b388",
   "metadata": {},
   "outputs": [],
   "source": [
    "class Configuration:\n",
    "    def __init__(self, val=0):\n",
    "        self._val = val\n",
    "\n",
    "    @property\n",
    "    def val(self):\n",
    "        return self._val\n",
    "\n",
    "    @val.setter\n",
    "    def val(self, val):\n",
    "        self._val = val\n",
    "\n",
    "    def __eq__(self, other):\n",
    "        return self.val == other.val\n",
    "\n",
    "    def __hash__(self) -> int:\n",
    "        return hash(self.val)\n",
    "\n",
    "    def __repr__(self):\n",
    "        return f\"<val: {self.val}>\"\n"
   ]
  },
  {
   "cell_type": "code",
   "execution_count": 8,
   "id": "13a114bb-913a-4e66-a968-b5f855ca522b",
   "metadata": {},
   "outputs": [
    {
     "name": "stdout",
     "output_type": "stream",
     "text": [
      "All possible configurations:\n"
     ]
    },
    {
     "data": {
      "text/plain": [
       "(8,\n",
       " {(<val: 0>, <val: 0>, <val: 0>),\n",
       "  (<val: 0>, <val: 0>, <val: 1>),\n",
       "  (<val: 0>, <val: 1>, <val: 0>),\n",
       "  (<val: 0>, <val: 1>, <val: 1>),\n",
       "  (<val: 1>, <val: 0>, <val: 0>),\n",
       "  (<val: 1>, <val: 0>, <val: 1>),\n",
       "  (<val: 1>, <val: 1>, <val: 0>),\n",
       "  (<val: 1>, <val: 1>, <val: 1>)})"
      ]
     },
     "execution_count": 8,
     "metadata": {},
     "output_type": "execute_result"
    }
   ],
   "source": [
    "configurations = {\n",
    "    tuple([Configuration(val=0) for i in range(len(nodes))])\n",
    "}\n",
    "# perturb each state at a time for all states in configurations and accumulate the same in the configurations for next state to perturb\n",
    "for _, n in enumerate(nodes):\n",
    "    node_pos = node_positions[n]\n",
    "    config_copy = copy.deepcopy(configurations)\n",
    "    for val in {0, 1}:\n",
    "        for cc in config_copy:\n",
    "            cc = list(cc)\n",
    "            cc[node_pos] = Configuration(val=val)\n",
    "            configurations.add(tuple(cc))\n",
    "\n",
    "print(\"All possible configurations:\")\n",
    "len(configurations), configurations"
   ]
  },
  {
   "cell_type": "code",
   "execution_count": 9,
   "id": "c6be9a14-8c43-40dc-8692-53b88b1ab6de",
   "metadata": {},
   "outputs": [],
   "source": [
    "state = [0, 0, 0, 0]"
   ]
  },
  {
   "cell_type": "code",
   "execution_count": 10,
   "id": "17e8ee91-0163-4aca-b884-d7d6b438b055",
   "metadata": {},
   "outputs": [],
   "source": [
    "def check_I_lte_v_null(position, state):\n",
    "    for nbr in graph_based_on_indx[position]:\n",
    "        if degree_of_nodes_based_on_indx[nbr] <= degree_of_nodes_based_on_indx[position] and state[nbr] == 1:\n",
    "            return False\n",
    "    return True"
   ]
  },
  {
   "cell_type": "code",
   "execution_count": 11,
   "id": "fabf9b10-e544-4582-beef-b4348508b821",
   "metadata": {},
   "outputs": [],
   "source": [
    "def update_in_out(position):\n",
    "    if state[position] == 0:\n",
    "        if check_I_lte_v_null(position, state):\n",
    "            state[position] = 1\n",
    "    else:\n",
    "        if not check_I_lte_v_null(position, state):\n",
    "            state[position] = 0\n",
    "\n",
    "    print(state)"
   ]
  },
  {
   "cell_type": "code",
   "execution_count": 12,
   "id": "ab168909-2808-4c19-a6e6-a31d846131cc",
   "metadata": {},
   "outputs": [],
   "source": [
    "def neighbor_w_lte_degree_exists(position):\n",
    "    for nbr in graph_based_on_indx[position]:\n",
    "        if degree_of_nodes_based_on_indx[nbr] <= degree_of_nodes_based_on_indx[position]:\n",
    "            return True\n",
    "    return False"
   ]
  },
  {
   "cell_type": "code",
   "execution_count": 13,
   "id": "6d11e3fc-3b78-4205-b736-0cb0aab4b0f5",
   "metadata": {},
   "outputs": [],
   "source": [
    "def is_cvf(position, start_state, dest_state):\n",
    "    has_nbr_w_lte_degree = neighbor_w_lte_degree_exists(position)\n",
    "    if has_nbr_w_lte_degree:\n",
    "        return start_state[position].val == 1\n",
    "    else:\n",
    "        return start_state[position].val == 0"
   ]
  },
  {
   "cell_type": "code",
   "execution_count": 15,
   "id": "81765e60-424e-481a-818e-57326f6933ac",
   "metadata": {},
   "outputs": [
    {
     "name": "stdout",
     "output_type": "stream",
     "text": [
      "CVF config: (<val: 1>, <val: 0>, <val: 1>), position: 0, perturb state: (<val: 0>, <val: 0>, <val: 1>)\n",
      "CVF config: (<val: 1>, <val: 0>, <val: 1>), position: 1, perturb state: (<val: 1>, <val: 1>, <val: 1>)\n",
      "CVF config: (<val: 1>, <val: 0>, <val: 1>), position: 2, perturb state: (<val: 1>, <val: 0>, <val: 0>)\n",
      "CVF config: (<val: 1>, <val: 1>, <val: 0>), position: 0, perturb state: (<val: 0>, <val: 1>, <val: 0>)\n",
      "CVF config: (<val: 1>, <val: 1>, <val: 0>), position: 1, perturb state: (<val: 1>, <val: 0>, <val: 0>)\n",
      "CVF config: (<val: 1>, <val: 1>, <val: 0>), position: 2, perturb state: (<val: 1>, <val: 1>, <val: 1>)\n",
      "CVF config: (<val: 0>, <val: 1>, <val: 0>), position: 0, perturb state: (<val: 1>, <val: 1>, <val: 0>)\n",
      "CVF config: (<val: 0>, <val: 1>, <val: 0>), position: 1, perturb state: (<val: 0>, <val: 0>, <val: 0>)\n",
      "CVF config: (<val: 0>, <val: 1>, <val: 0>), position: 2, perturb state: (<val: 0>, <val: 1>, <val: 1>)\n",
      "CVF config: (<val: 0>, <val: 0>, <val: 0>), position: 0, perturb state: (<val: 1>, <val: 0>, <val: 0>)\n",
      "CVF config: (<val: 0>, <val: 0>, <val: 0>), position: 1, perturb state: (<val: 0>, <val: 1>, <val: 0>)\n",
      "CVF config: (<val: 0>, <val: 0>, <val: 0>), position: 2, perturb state: (<val: 0>, <val: 0>, <val: 1>)\n",
      "CVF config: (<val: 1>, <val: 0>, <val: 0>), position: 0, perturb state: (<val: 0>, <val: 0>, <val: 0>)\n",
      "CVF config: (<val: 1>, <val: 0>, <val: 0>), position: 1, perturb state: (<val: 1>, <val: 1>, <val: 0>)\n",
      "CVF config: (<val: 1>, <val: 0>, <val: 0>), position: 2, perturb state: (<val: 1>, <val: 0>, <val: 1>)\n",
      "CVF config: (<val: 0>, <val: 0>, <val: 1>), position: 0, perturb state: (<val: 1>, <val: 0>, <val: 1>)\n",
      "CVF config: (<val: 0>, <val: 0>, <val: 1>), position: 1, perturb state: (<val: 0>, <val: 1>, <val: 1>)\n",
      "CVF config: (<val: 0>, <val: 0>, <val: 1>), position: 2, perturb state: (<val: 0>, <val: 0>, <val: 0>)\n",
      "CVF config: (<val: 1>, <val: 1>, <val: 1>), position: 0, perturb state: (<val: 0>, <val: 1>, <val: 1>)\n",
      "CVF config: (<val: 1>, <val: 1>, <val: 1>), position: 1, perturb state: (<val: 1>, <val: 0>, <val: 1>)\n",
      "CVF config: (<val: 1>, <val: 1>, <val: 1>), position: 2, perturb state: (<val: 1>, <val: 1>, <val: 0>)\n",
      "CVF config: (<val: 0>, <val: 1>, <val: 1>), position: 0, perturb state: (<val: 1>, <val: 1>, <val: 1>)\n",
      "CVF config: (<val: 0>, <val: 1>, <val: 1>), position: 1, perturb state: (<val: 0>, <val: 0>, <val: 1>)\n",
      "CVF config: (<val: 0>, <val: 1>, <val: 1>), position: 2, perturb state: (<val: 0>, <val: 1>, <val: 0>)\n"
     ]
    }
   ],
   "source": [
    "for config in configurations:\n",
    "    for position, _ in enumerate(config):\n",
    "        perturb_value = {1, 0} - {config[position].val}\n",
    "        perturb_state = list(copy.deepcopy(config))\n",
    "        perturb_state[position].val = perturb_value.pop()\n",
    "        perturb_state = tuple(perturb_state)\n",
    "        print(f\"CVF config: {config}, position: {position}, perturb state: {perturb_state}\")"
   ]
  },
  {
   "cell_type": "code",
   "execution_count": null,
   "id": "d0335d1c-c25b-4631-8854-1fa206010a74",
   "metadata": {},
   "outputs": [],
   "source": []
  }
 ],
 "metadata": {
  "kernelspec": {
   "display_name": "Python 3 (ipykernel)",
   "language": "python",
   "name": "python3"
  },
  "language_info": {
   "codemirror_mode": {
    "name": "ipython",
    "version": 3
   },
   "file_extension": ".py",
   "mimetype": "text/x-python",
   "name": "python",
   "nbconvert_exporter": "python",
   "pygments_lexer": "ipython3",
   "version": "3.12.4"
  }
 },
 "nbformat": 4,
 "nbformat_minor": 5
}
