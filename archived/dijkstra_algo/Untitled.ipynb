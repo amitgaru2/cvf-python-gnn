{
 "cells": [
  {
   "cell_type": "code",
   "execution_count": 2,
   "id": "81bf4dbd-cca9-4e8d-a45e-ad370eeb9589",
   "metadata": {},
   "outputs": [],
   "source": [
    "import string"
   ]
  },
  {
   "cell_type": "code",
   "execution_count": 3,
   "id": "5efe85b8-62dc-4621-9f93-07fb162c536a",
   "metadata": {},
   "outputs": [],
   "source": [
    "def gen_implicit_graph(no_nodes: int):\n",
    "        if no_nodes < 3 or no_nodes > 26:\n",
    "            raise Exception(\"no_nodes must be >= 2.\")\n",
    "\n",
    "        all_nodes = string.ascii_uppercase\n",
    "        graph = {}\n",
    "        for i in range(no_nodes):\n",
    "            left = (i - 1) % no_nodes\n",
    "            right = (i + 1) % no_nodes\n",
    "            graph[all_nodes[i]] = [all_nodes[left], all_nodes[right]]\n",
    "        return graph\n"
   ]
  },
  {
   "cell_type": "code",
   "execution_count": 7,
   "id": "72f59fc5-add4-43de-99d7-45ceec44945b",
   "metadata": {},
   "outputs": [
    {
     "data": {
      "text/plain": [
       "{'A': ['C', 'B'], 'B': ['A', 'C'], 'C': ['B', 'A']}"
      ]
     },
     "execution_count": 7,
     "metadata": {},
     "output_type": "execute_result"
    }
   ],
   "source": [
    "gen_implicit_graph(3)"
   ]
  },
  {
   "cell_type": "code",
   "execution_count": null,
   "id": "8489420c-ed91-4955-84ca-76b1297b2c51",
   "metadata": {},
   "outputs": [],
   "source": []
  }
 ],
 "metadata": {
  "kernelspec": {
   "display_name": "Python 3 (ipykernel)",
   "language": "python",
   "name": "python3"
  },
  "language_info": {
   "codemirror_mode": {
    "name": "ipython",
    "version": 3
   },
   "file_extension": ".py",
   "mimetype": "text/x-python",
   "name": "python",
   "nbconvert_exporter": "python",
   "pygments_lexer": "ipython3",
   "version": "3.11.6"
  }
 },
 "nbformat": 4,
 "nbformat_minor": 5
}
