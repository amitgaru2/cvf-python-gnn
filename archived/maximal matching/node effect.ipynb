{
 "cells": [
  {
   "cell_type": "code",
   "execution_count": 1,
   "id": "0f835198-d227-43b9-93df-b3802a6ec3cd",
   "metadata": {},
   "outputs": [
    {
     "name": "stderr",
     "output_type": "stream",
     "text": [
      "C:\\Users\\amitg\\AppData\\Local\\Temp\\ipykernel_14424\\2115673951.py:6: DeprecationWarning: \n",
      "Pyarrow will become a required dependency of pandas in the next major release of pandas (pandas 3.0),\n",
      "(to allow more performant data types, such as the Arrow string type, and better interoperability with other libraries)\n",
      "but was not found to be installed on your system.\n",
      "If this would cause problems for you,\n",
      "please provide us feedback at https://github.com/pandas-dev/pandas/issues/54466\n",
      "        \n",
      "  import pandas as pd\n"
     ]
    }
   ],
   "source": [
    "import os\n",
    "import csv\n",
    "import copy\n",
    "import math\n",
    "\n",
    "import pandas as pd"
   ]
  },
  {
   "cell_type": "code",
   "execution_count": 2,
   "id": "f0d508b5-1fec-4627-b266-77ce9c9fb065",
   "metadata": {},
   "outputs": [],
   "source": [
    "graphs_dir = \"graphs\"\n",
    "results_dir = \"results\""
   ]
  },
  {
   "cell_type": "code",
   "execution_count": 3,
   "id": "0abdc286-adec-4144-b854-cbf93244533b",
   "metadata": {},
   "outputs": [
    {
     "data": {
      "text/plain": [
       "{'A': ['D'],\n",
       " 'B': ['D', 'E'],\n",
       " 'C': ['D', 'E'],\n",
       " 'D': ['A', 'B', 'C', 'E'],\n",
       " 'E': ['B', 'C', 'D']}"
      ]
     },
     "execution_count": 3,
     "metadata": {},
     "output_type": "execute_result"
    }
   ],
   "source": [
    "graph_name = \"graph_powerlaw_cluster_graph_n5\"\n",
    "\n",
    "graph = {}\n",
    "with open(os.path.join(graphs_dir, f\"{graph_name}.txt\"), \"r\") as f:\n",
    "    line = f.readline()\n",
    "    while line:\n",
    "        node_edges = line.split()\n",
    "        node = node_edges[0]\n",
    "        edges = node_edges[1:]\n",
    "        # graph[node] = set(edges)\n",
    "        graph[node] = edges\n",
    "        line = f.readline()\n",
    "graph"
   ]
  },
  {
   "cell_type": "code",
   "execution_count": 4,
   "id": "af124b06-64da-41aa-baca-5b44f3550299",
   "metadata": {},
   "outputs": [
    {
     "data": {
      "text/plain": [
       "{'A': 0, 'B': 1, 'C': 2, 'D': 3, 'E': 4}"
      ]
     },
     "execution_count": 4,
     "metadata": {},
     "output_type": "execute_result"
    }
   ],
   "source": [
    "nodes = list(graph.keys())\n",
    "node_positions = {v: i for i, v in enumerate(nodes)}\n",
    "node_positions"
   ]
  },
  {
   "cell_type": "code",
   "execution_count": 5,
   "id": "4d2ad5b3-6d46-4609-8101-b24bbe2d6f22",
   "metadata": {},
   "outputs": [
    {
     "data": {
      "text/plain": [
       "{0: [3], 1: [3, 4], 2: [3, 4], 3: [0, 1, 2, 4], 4: [1, 2, 3]}"
      ]
     },
     "execution_count": 5,
     "metadata": {},
     "output_type": "execute_result"
    }
   ],
   "source": [
    "graph_based_on_indx = {}\n",
    "for k, v in graph.items():\n",
    "    graph_based_on_indx[node_positions[k]] = []\n",
    "    for iv in v:\n",
    "        graph_based_on_indx[node_positions[k]].append(node_positions[iv])\n",
    "graph_based_on_indx"
   ]
  },
  {
   "cell_type": "code",
   "execution_count": 6,
   "id": "d5e33ad8-d5d2-48c3-9cfd-15598a53fa08",
   "metadata": {},
   "outputs": [
    {
     "name": "stdout",
     "output_type": "stream",
     "text": [
      "Degree of all nodes (starting from 0):\n"
     ]
    },
    {
     "data": {
      "text/plain": [
       "{'A': 1, 'B': 2, 'C': 2, 'D': 4, 'E': 3}"
      ]
     },
     "execution_count": 6,
     "metadata": {},
     "output_type": "execute_result"
    }
   ],
   "source": [
    "degree_of_nodes = {n: len(graph[n]) for n in nodes}\n",
    "\n",
    "print(\"Degree of all nodes (starting from 0):\")\n",
    "degree_of_nodes # start from 0"
   ]
  },
  {
   "cell_type": "code",
   "execution_count": 7,
   "id": "add37448-7b7f-4b2b-9894-0011ea07aa32",
   "metadata": {},
   "outputs": [],
   "source": [
    "class Configuration:\n",
    "    def __init__(self, p=None, m=False):\n",
    "        self._p = p\n",
    "        self._m = m\n",
    "\n",
    "    @property\n",
    "    def p(self):\n",
    "        return self._p\n",
    "\n",
    "    @p.setter\n",
    "    def p(self, val):\n",
    "        self._p = val\n",
    "\n",
    "    @property\n",
    "    def m(self):\n",
    "        return self._m\n",
    "\n",
    "    @m.setter\n",
    "    def m(self, val):\n",
    "        self._m = val\n",
    "\n",
    "    def __eq__(self, other):\n",
    "        return self.p == other.p and self.m == other.m\n",
    "\n",
    "    def __hash__(self):\n",
    "        return hash((self.p, self.m))\n",
    "    \n",
    "    def __repr__(self):\n",
    "        return f\"<p: {self.p}, m: {self.m}>\""
   ]
  },
  {
   "cell_type": "code",
   "execution_count": 8,
   "id": "2383ec62-bc62-4b94-8716-99f5f6a71c53",
   "metadata": {},
   "outputs": [],
   "source": [
    "def possible_values_in_node_inc_null(node_pos):\n",
    "    return set([None]+[node_positions[nb] for nb in graph[nodes[node_pos]]])"
   ]
  },
  {
   "cell_type": "code",
   "execution_count": 9,
   "id": "a899267f-9f8a-4b36-b1fe-7609281a809c",
   "metadata": {},
   "outputs": [
    {
     "name": "stdout",
     "output_type": "stream",
     "text": [
      "All possible configurations:\n"
     ]
    },
    {
     "data": {
      "text/plain": [
       "11520"
      ]
     },
     "execution_count": 9,
     "metadata": {},
     "output_type": "execute_result"
    }
   ],
   "source": [
    "configurations = {\n",
    "    tuple([Configuration(p=None, m=False) for i in range(len(nodes))])\n",
    "}\n",
    "# perturb each state at a time for all states in configurations and accumulate the same in the configurations for next state to perturb\n",
    "for i, n in enumerate(nodes):\n",
    "    node_pos = node_positions[n]\n",
    "    config_copy = copy.deepcopy(configurations)\n",
    "    for val in possible_values_in_node_inc_null(node_pos):\n",
    "        for cc in config_copy:\n",
    "            cc = list(cc)\n",
    "            cc[node_pos] = Configuration(p=val, m=False)\n",
    "            configurations.add(tuple(cc))\n",
    "            cc[node_pos] = Configuration(p=val, m=True)\n",
    "            configurations.add(tuple(cc))\n",
    "\n",
    "print(\"All possible configurations:\")\n",
    "len(configurations)"
   ]
  },
  {
   "cell_type": "code",
   "execution_count": 10,
   "id": "0022d000",
   "metadata": {},
   "outputs": [],
   "source": [
    "def check_if_invariant(state):\n",
    "    def _pr_married(j, config):\n",
    "        for i in graph_based_on_indx[j]:\n",
    "            if state[i].p == j and config.p == i:\n",
    "                return True\n",
    "        return False\n",
    "\n",
    "    for j, config in enumerate(state):\n",
    "        # update m.j\n",
    "        if config.m != _pr_married(j, config):\n",
    "            return False\n",
    "\n",
    "        # accept a proposal\n",
    "        if config.m == _pr_married(j, config):\n",
    "            if config.p is None:\n",
    "                for i in graph_based_on_indx[j]:\n",
    "                    if state[i].p == j:\n",
    "                        return False\n",
    "    \n",
    "                for k in graph_based_on_indx[j]:\n",
    "                    if state[k].p is None and k < j and not state[k].m:\n",
    "                        return False\n",
    "            else:\n",
    "                i = config.p\n",
    "                if state[i].p != j and ( state[i].m or j <= i ):\n",
    "                    return False\n",
    "\n",
    "    return True"
   ]
  },
  {
   "cell_type": "code",
   "execution_count": 11,
   "id": "f842f8f6-5e31-4ee1-bd21-4891cc4e7718",
   "metadata": {},
   "outputs": [
    {
     "name": "stdout",
     "output_type": "stream",
     "text": [
      "Invariants and Count of Invariants:\n"
     ]
    },
    {
     "data": {
      "text/plain": [
       "({(<p: 3, m: True>,\n",
       "   <p: 4, m: True>,\n",
       "   <p: None, m: False>,\n",
       "   <p: 0, m: True>,\n",
       "   <p: 1, m: True>),\n",
       "  (<p: 3, m: True>,\n",
       "   <p: None, m: False>,\n",
       "   <p: 4, m: True>,\n",
       "   <p: 0, m: True>,\n",
       "   <p: 2, m: True>),\n",
       "  (<p: None, m: False>,\n",
       "   <p: 3, m: True>,\n",
       "   <p: 4, m: True>,\n",
       "   <p: 1, m: True>,\n",
       "   <p: 2, m: True>),\n",
       "  (<p: None, m: False>,\n",
       "   <p: 4, m: True>,\n",
       "   <p: 3, m: True>,\n",
       "   <p: 2, m: True>,\n",
       "   <p: 1, m: True>),\n",
       "  (<p: None, m: False>,\n",
       "   <p: None, m: False>,\n",
       "   <p: None, m: False>,\n",
       "   <p: 4, m: True>,\n",
       "   <p: 3, m: True>)},\n",
       " 5)"
      ]
     },
     "execution_count": 11,
     "metadata": {},
     "output_type": "execute_result"
    }
   ],
   "source": [
    "invariants = set()\n",
    "for state in configurations:\n",
    "    # mm specifilc\n",
    "    if check_if_invariant(state):\n",
    "        invariants.add(state)\n",
    "\n",
    "print(\"Invariants and Count of Invariants:\")\n",
    "invariants, len(invariants)"
   ]
  },
  {
   "cell_type": "code",
   "execution_count": 12,
   "id": "983f031e-5928-4a60-b23e-dc20f2217c71",
   "metadata": {},
   "outputs": [],
   "source": [
    "program_transitions_rank = {}\n",
    "for inv in invariants:\n",
    "    program_transitions_rank[inv] = {\"L\": 0, \"C\": 1, \"A\": 0, \"Ar\": 0, \"M\": 0}\n",
    "\n",
    "# print(\"Program transitions rank for invariants:\")\n",
    "# program_transitions_rank"
   ]
  },
  {
   "cell_type": "code",
   "execution_count": 13,
   "id": "3e7fde7f-f961-43c1-8185-6048e235ee0b",
   "metadata": {},
   "outputs": [],
   "source": [
    "def is_program_transition(perturb_pos, start_state, dest_state):\n",
    "    j = perturb_pos\n",
    "    state = start_state\n",
    "    config = state[perturb_pos]\n",
    "    dest_config = dest_state[perturb_pos]\n",
    "\n",
    "    def _pr_married(j, config):\n",
    "        for i in graph_based_on_indx[j]:\n",
    "            if state[i].p == j and config.p == i:\n",
    "                return True\n",
    "        return False\n",
    "\n",
    "    # update m.j\n",
    "    if start_state[perturb_pos].m != _pr_married(j, config):\n",
    "        if dest_config.m == _pr_married(j, config):\n",
    "            return True\n",
    "\n",
    "    # accept a proposal\n",
    "    if config.m == _pr_married(j, config):\n",
    "        if config.p is None:\n",
    "            for i in graph_based_on_indx[j]:\n",
    "                if state[i].p == j and dest_config.p == i:\n",
    "                    return True\n",
    "\n",
    "            # make a proposal\n",
    "            for i in graph_based_on_indx[j]:\n",
    "                if state[i].p == j:\n",
    "                    break\n",
    "            else:\n",
    "                max_k = -1\n",
    "                for k in graph_based_on_indx[j]:\n",
    "                    if state[k].p is None and k < j and not state[k].m:\n",
    "                        if k > max_k:\n",
    "                            max_k = k\n",
    "    \n",
    "                if max_k >= 0 and dest_config.p == max_k:\n",
    "                    return True\n",
    "        else:\n",
    "            # withdraw a proposal\n",
    "            i = config.p\n",
    "            if state[i].p != j and ( state[i].m or j <= i ):\n",
    "                if dest_config.p is None:\n",
    "                    return True\n",
    "\n",
    "    return False\n",
    "\n",
    "# is_program_transition(0, [Configuration(p=None), Configuration(p=None), Configuration(p=None), Configuration(p=None)], [Configuration(p=1, m=1), Configuration(p=None), Configuration(p=None), Configuration(p=None)])"
   ]
  },
  {
   "cell_type": "code",
   "execution_count": 14,
   "id": "bb8e6cf5-6045-4223-9301-4bbeeb4df77a",
   "metadata": {},
   "outputs": [],
   "source": [
    "def get_program_transitions(start_state):\n",
    "    # dijkstra specific\n",
    "    program_transitions = set()\n",
    "    for position, _ in enumerate(start_state):\n",
    "        possible_config_p_val = possible_values_in_node_inc_null(position) - {start_state[position].p}\n",
    "        for perturb_p_val in possible_config_p_val:\n",
    "            perturb_state = list(copy.deepcopy(start_state))\n",
    "            perturb_state[position].p = perturb_p_val\n",
    "            perturb_state = tuple(perturb_state)\n",
    "            if is_program_transition(position, start_state, perturb_state):\n",
    "                program_transitions.add(perturb_state)\n",
    "\n",
    "        possible_config_m_val = {True, False} - {start_state[position].m}\n",
    "        for perturb_m_val in possible_config_m_val:\n",
    "            perturb_state = list(copy.deepcopy(start_state))\n",
    "            perturb_state[position].m = perturb_m_val\n",
    "            perturb_state = tuple(perturb_state)\n",
    "            if is_program_transition(position, start_state, perturb_state):\n",
    "                program_transitions.add(perturb_state)\n",
    "    return {\"program_transitions\": program_transitions}"
   ]
  },
  {
   "cell_type": "code",
   "execution_count": 15,
   "id": "c443e8f9-750a-4f09-854a-8ee71429f3ab",
   "metadata": {},
   "outputs": [],
   "source": [
    "def evaluate_perturbed_pr_married(position, state):\n",
    "    results = [False]\n",
    "    config = state[position]\n",
    "\n",
    "    if config.p is None:\n",
    "        pass\n",
    "    else:\n",
    "        results.append(True)\n",
    "    return results\n",
    "\n",
    "    # for nbr in graph_based_on_indx[position]:\n",
    "    #     if nbr == config.p:\n",
    "    #         results.append(True)\n",
    "    #         return results\n",
    "\n",
    "    return results"
   ]
  },
  {
   "cell_type": "code",
   "execution_count": 16,
   "id": "d3f1b1df-4e2b-4e87-b0e4-6e9a186c9c9f",
   "metadata": {},
   "outputs": [],
   "source": [
    "def get_cvfs(start_state):\n",
    "    cvfs_in = dict()\n",
    "    cvfs_out = dict()\n",
    "\n",
    "    def _add_to_cvf(perturb_state, position):\n",
    "        if start_state in invariants:\n",
    "            cvfs_in[perturb_state] = position\n",
    "        else:\n",
    "            cvfs_out[perturb_state] = position\n",
    "\n",
    "    for position, _ in enumerate(start_state):\n",
    "        config = start_state[position]\n",
    "        for a_pr_married_value in evaluate_perturbed_pr_married(position, start_state):\n",
    "            if config.m is not a_pr_married_value:\n",
    "                perturb_state = copy.deepcopy(start_state)\n",
    "                perturb_state[position].m = a_pr_married_value\n",
    "                _add_to_cvf(perturb_state, position)\n",
    "            else:\n",
    "                if config.p is None:\n",
    "                    for nbr in graph_based_on_indx[position]:\n",
    "                        perturb_state = copy.deepcopy(start_state)\n",
    "                        perturb_state[position].p = nbr\n",
    "                        perturb_state[position].m = a_pr_married_value\n",
    "                        _add_to_cvf(perturb_state, position)\n",
    "                else:\n",
    "                    perturb_state = copy.deepcopy(start_state)\n",
    "                    perturb_state[position].p = None\n",
    "                    perturb_state[position].m = a_pr_married_value\n",
    "                    _add_to_cvf(perturb_state, position)\n",
    "\n",
    "    return {\"cvfs_in\": cvfs_in, \"cvfs_out\": cvfs_out}"
   ]
  },
  {
   "cell_type": "code",
   "execution_count": 17,
   "id": "f97ddc0c-677b-4392-9192-81f91182a1a1",
   "metadata": {},
   "outputs": [],
   "source": [
    "program_transitions_n_cvf = {}\n",
    "\n",
    "for state in configurations:\n",
    "    program_transitions_n_cvf[state] = {**get_program_transitions(state), **get_cvfs(state)}"
   ]
  },
  {
   "cell_type": "code",
   "execution_count": 18,
   "id": "38f90235-8707-49df-b403-6f8f793978f8",
   "metadata": {},
   "outputs": [
    {
     "name": "stdout",
     "output_type": "stream",
     "text": [
      "Unranked states for Program transitions: 11515\n"
     ]
    }
   ],
   "source": [
    "unranked_states = set(program_transitions_n_cvf.keys()) - set(program_transitions_rank.keys())\n",
    "print(\"Unranked states for Program transitions:\", len(unranked_states))"
   ]
  },
  {
   "cell_type": "code",
   "execution_count": 19,
   "id": "1708f79f-e68e-4a29-a234-5457b6bb0d48",
   "metadata": {},
   "outputs": [],
   "source": [
    "# rank the states that has all the paths to the ranked one\n",
    "while unranked_states:\n",
    "    ranked_states = set(program_transitions_rank.keys())\n",
    "    remove_from_unranked_states = set()\n",
    "    for state in unranked_states:\n",
    "        dests = program_transitions_n_cvf[state]['program_transitions']\n",
    "        if dests - ranked_states:       # some desitnations states are yet to be ranked\n",
    "            pass\n",
    "        else:                           # all the destination has been ranked\n",
    "            total_path_length = 0\n",
    "            path_count = 0\n",
    "            _max = 0\n",
    "            for succ in dests:\n",
    "                path_count += program_transitions_rank[succ][\"C\"]\n",
    "                total_path_length += program_transitions_rank[succ][\"L\"] + program_transitions_rank[succ][\"C\"]\n",
    "                _max = max(_max, program_transitions_rank[succ][\"M\"])\n",
    "            program_transitions_rank[state] = {\n",
    "                \"L\": total_path_length,\n",
    "                \"C\": path_count,\n",
    "                \"A\": total_path_length/path_count,\n",
    "                \"Ar\": math.ceil(total_path_length/path_count),\n",
    "                \"M\": _max + 1\n",
    "            }\n",
    "            remove_from_unranked_states.add(state)\n",
    "    unranked_states -= remove_from_unranked_states"
   ]
  },
  {
   "cell_type": "code",
   "execution_count": 20,
   "id": "d74d676b",
   "metadata": {},
   "outputs": [],
   "source": [
    "pt_rank_effect = {}\n",
    "\n",
    "for state, pt_cvfs in program_transitions_n_cvf.items():\n",
    "    for pt in pt_cvfs['program_transitions']:\n",
    "        pt_rank_effect[(state, pt)] = {\n",
    "            \"Ar\": program_transitions_rank[pt][\"Ar\"] - program_transitions_rank[state][\"Ar\"],\n",
    "            \"M\": program_transitions_rank[pt][\"M\"] - program_transitions_rank[state][\"M\"]\n",
    "        }"
   ]
  },
  {
   "cell_type": "code",
   "execution_count": 21,
   "id": "59ddd413-b2ef-4901-8585-caeceeffd852",
   "metadata": {},
   "outputs": [],
   "source": [
    "cvfs_in_rank_effect = {}\n",
    "cvfs_out_rank_effect = {}\n",
    "\n",
    "for state, pt_cvfs in program_transitions_n_cvf.items():\n",
    "    for cvf, node in pt_cvfs['cvfs_in'].items():\n",
    "        cvfs_in_rank_effect[(state, cvf)] = {\n",
    "            \"node\": node,\n",
    "            \"Ar\": program_transitions_rank[cvf][\"Ar\"] - program_transitions_rank[state][\"Ar\"],\n",
    "            \"M\": program_transitions_rank[cvf][\"M\"] - program_transitions_rank[state][\"M\"]\n",
    "        }\n",
    "    for cvf, node in pt_cvfs['cvfs_out'].items():\n",
    "        cvfs_out_rank_effect[(state, cvf)] = {\n",
    "            \"node\": node,\n",
    "            \"Ar\": program_transitions_rank[cvf][\"Ar\"] - program_transitions_rank[state][\"Ar\"],\n",
    "            \"M\": program_transitions_rank[cvf][\"M\"] - program_transitions_rank[state][\"M\"]\n",
    "        }"
   ]
  },
  {
   "cell_type": "markdown",
   "id": "e23af73c-d3da-44a1-98ab-fecec0120237",
   "metadata": {},
   "source": [
    "# Rank Effect Count"
   ]
  },
  {
   "cell_type": "code",
   "execution_count": 22,
   "id": "145f2b7e-4f47-4d8f-b496-e16b9438ca65",
   "metadata": {},
   "outputs": [],
   "source": [
    "pt_rank_effect_ = []\n",
    "for state in pt_rank_effect:\n",
    "    pt_rank_effect_.append({\"state\": state, **pt_rank_effect[state]})\n",
    "\n",
    "pt_rank_effect_df = pd.DataFrame(pt_rank_effect_)"
   ]
  },
  {
   "cell_type": "code",
   "execution_count": 23,
   "id": "c634f0fc-695d-4c96-b029-0d7602ba30fe",
   "metadata": {},
   "outputs": [],
   "source": [
    "cvfs_in_rank_effect_ = []\n",
    "for state in cvfs_in_rank_effect:\n",
    "    cvfs_in_rank_effect_.append({\"state\": state, **cvfs_in_rank_effect[state]})\n",
    "    \n",
    "cvfs_in_rank_effect_df = pd.DataFrame(cvfs_in_rank_effect_)"
   ]
  },
  {
   "cell_type": "code",
   "execution_count": 24,
   "id": "0e6cf4a7-58fd-49a0-ae82-a31b1ff55207",
   "metadata": {},
   "outputs": [],
   "source": [
    "cvfs_out_rank_effect_ = []\n",
    "for state in cvfs_out_rank_effect:\n",
    "    cvfs_out_rank_effect_.append({\"state\": state, **cvfs_out_rank_effect[state]})\n",
    "\n",
    "cvfs_out_rank_effect_df = pd.DataFrame(cvfs_out_rank_effect_)"
   ]
  },
  {
   "cell_type": "code",
   "execution_count": 25,
   "id": "c750f9a4-b5b8-4fa5-904e-bec620cb05c6",
   "metadata": {},
   "outputs": [],
   "source": [
    "pt_avg_counts = pt_rank_effect_df['Ar'].value_counts()\n",
    "pt_max_counts = pt_rank_effect_df['M'].value_counts()\n",
    "cvf_in_avg_counts = cvfs_in_rank_effect_df['Ar'].value_counts()\n",
    "cvf_in_max_counts = cvfs_in_rank_effect_df['M'].value_counts()\n",
    "cvf_out_avg_counts = cvfs_out_rank_effect_df['Ar'].value_counts()\n",
    "cvf_out_max_counts = cvfs_out_rank_effect_df['M'].value_counts()"
   ]
  },
  {
   "cell_type": "code",
   "execution_count": 26,
   "id": "b31aca63-b251-47ec-9880-96dbed3bc648",
   "metadata": {},
   "outputs": [],
   "source": [
    "fieldnames = [\"Rank Effect\", \"PT (Max)\", \"PT (Avg)\", \"CVF In (Max)\", \"CVF In (Avg)\", \"CVF Out (Max)\", \"CVF Out (Avg)\"]\n",
    "with open(os.path.join(results_dir, f\"rank_effect_{graph_name}.csv\"), \"w\", newline=\"\") as f:\n",
    "    writer = csv.DictWriter(f, fieldnames=fieldnames)\n",
    "    writer.writeheader()\n",
    "\n",
    "    for re in sorted(\n",
    "        set(pt_avg_counts.index) |\n",
    "        set(pt_max_counts.index) |\n",
    "        set(cvf_in_avg_counts.index) |\n",
    "        set(cvf_in_max_counts.index) |\n",
    "        set(cvf_out_avg_counts.index) |\n",
    "        set(cvf_out_max_counts.index)\n",
    "    ):\n",
    "        writer.writerow({\n",
    "            \"Rank Effect\": re,\n",
    "            \"PT (Max)\": pt_max_counts.get(re, 0),\n",
    "            \"PT (Avg)\": pt_avg_counts.get(re, 0),\n",
    "            \"CVF In (Max)\": cvf_in_max_counts.get(re, 0),\n",
    "            \"CVF In (Avg)\": cvf_in_avg_counts.get(re, 0),\n",
    "            \"CVF Out (Max)\": cvf_out_max_counts.get(re, 0),\n",
    "            \"CVF Out (Avg)\": cvf_out_avg_counts.get(re, 0),\n",
    "        })"
   ]
  },
  {
   "cell_type": "markdown",
   "id": "8d7b1c60-6e92-4704-9d31-9fa083ffdc75",
   "metadata": {},
   "source": [
    "# Rank Count"
   ]
  },
  {
   "cell_type": "code",
   "execution_count": 27,
   "id": "3de74b95-3181-469c-9db4-600c84015979",
   "metadata": {},
   "outputs": [],
   "source": [
    "pt_rank_ = []\n",
    "for state in program_transitions_rank:\n",
    "    pt_rank_.append({\"state\": state, **program_transitions_rank[state]})\n",
    "\n",
    "pt_rank_df = pd.DataFrame(pt_rank_)"
   ]
  },
  {
   "cell_type": "code",
   "execution_count": 28,
   "id": "cbeb67b2-6071-480b-9f37-5c81ea74985a",
   "metadata": {},
   "outputs": [],
   "source": [
    "pt_avg_counts = pt_rank_df['Ar'].value_counts()\n",
    "pt_max_counts = pt_rank_df['M'].value_counts()"
   ]
  },
  {
   "cell_type": "code",
   "execution_count": 29,
   "id": "1984a535",
   "metadata": {},
   "outputs": [],
   "source": [
    "fieldnames = [\"Rank\", \"Count (Max)\", \"Count (Avg)\"]\n",
    "with open(os.path.join(results_dir, f\"rank_{graph_name}.csv\"), \"w\", newline=\"\") as f:\n",
    "    writer = csv.DictWriter(f, fieldnames=fieldnames)\n",
    "    writer.writeheader()\n",
    "\n",
    "    for rank in sorted(set(pt_avg_counts.index)|set(pt_max_counts.index)):\n",
    "        writer.writerow({\"Rank\": rank, \"Count (Max)\": pt_max_counts.get(rank, 0), \"Count (Avg)\": pt_avg_counts.get(rank, 0)})"
   ]
  },
  {
   "cell_type": "markdown",
   "id": "460921f4-e149-4af4-b151-d5d5ee4e707e",
   "metadata": {},
   "source": [
    "# Rank Effect of Individual Nodes"
   ]
  },
  {
   "cell_type": "code",
   "execution_count": 30,
   "id": "1c1c130b-7953-4199-aa16-20cf406f6e38",
   "metadata": {},
   "outputs": [],
   "source": [
    "cvf_in_avg_counts_by_node = cvfs_in_rank_effect_df.groupby(['node', 'Ar'])['Ar'].count()\n",
    "cvf_in_max_counts_by_node = cvfs_in_rank_effect_df.groupby(['node', 'M'])['M'].count()\n",
    "cvf_out_avg_counts_by_node = cvfs_out_rank_effect_df.groupby(['node', 'Ar'])['Ar'].count()\n",
    "cvf_out_max_counts_by_node = cvfs_out_rank_effect_df.groupby(['node', 'M'])['M'].count()"
   ]
  },
  {
   "cell_type": "code",
   "execution_count": 31,
   "id": "59ce22f2-8cb4-4119-b008-88424980593c",
   "metadata": {},
   "outputs": [
    {
     "data": {
      "text/plain": [
       "(12, -10, 13, -11, 13, -11)"
      ]
     },
     "execution_count": 31,
     "metadata": {},
     "output_type": "execute_result"
    }
   ],
   "source": [
    "max_Ar = max(cvfs_in_rank_effect_df['Ar'].max(), cvfs_out_rank_effect_df['Ar'].max())\n",
    "min_Ar = min(cvfs_in_rank_effect_df['Ar'].min(), cvfs_out_rank_effect_df['Ar'].min())\n",
    "\n",
    "max_M = max(cvfs_in_rank_effect_df['M'].max(), cvfs_out_rank_effect_df['M'].max())\n",
    "min_M = min(cvfs_in_rank_effect_df['M'].min(), cvfs_out_rank_effect_df['M'].min())\n",
    "\n",
    "max_Ar_M = max(max_Ar, max_M)\n",
    "min_Ar_M = min(min_Ar, min_M)\n",
    "\n",
    "max_Ar, min_Ar, max_M, min_M, max_Ar_M, min_Ar_M"
   ]
  },
  {
   "cell_type": "code",
   "execution_count": 32,
   "id": "22a40ee5-beba-4372-b2d5-361490c1155a",
   "metadata": {},
   "outputs": [],
   "source": [
    "# rank effect of individual node\n",
    "fieldnames = [\"Node\", \"Rank Effect\", \"CVF In (Max)\", \"CVF In (Avg)\", \"CVF Out (Max)\", \"CVF Out (Avg)\"]\n",
    "with open(os.path.join(results_dir, f\"rank_effect_by_node_{graph_name}.csv\"), \"w\", newline=\"\") as f:\n",
    "    writer = csv.DictWriter(f, fieldnames=fieldnames)\n",
    "    writer.writeheader()\n",
    "\n",
    "    for node in nodes:\n",
    "        for rank_effect in range(min_Ar_M, max_Ar_M+1):\n",
    "            node_re = (node_positions[node], rank_effect)\n",
    "            writer.writerow({\n",
    "                \"Node\": node,\n",
    "                \"Rank Effect\": rank_effect,\n",
    "                \"CVF In (Max)\": cvf_in_max_counts_by_node.get(node_re, 0),\n",
    "                \"CVF In (Avg)\": cvf_in_avg_counts_by_node.get(node_re, 0),\n",
    "                \"CVF Out (Max)\": cvf_out_max_counts_by_node.get(node_re, 0),\n",
    "                \"CVF Out (Avg)\": cvf_out_avg_counts_by_node.get(node_re, 0),\n",
    "            })"
   ]
  },
  {
   "cell_type": "code",
   "execution_count": null,
   "id": "e547c502-134e-4e17-ad0e-35a8d395b53a",
   "metadata": {},
   "outputs": [],
   "source": []
  }
 ],
 "metadata": {
  "kernelspec": {
   "display_name": "Python 3 (ipykernel)",
   "language": "python",
   "name": "python3"
  },
  "language_info": {
   "codemirror_mode": {
    "name": "ipython",
    "version": 3
   },
   "file_extension": ".py",
   "mimetype": "text/x-python",
   "name": "python",
   "nbconvert_exporter": "python",
   "pygments_lexer": "ipython3",
   "version": "3.11.6"
  }
 },
 "nbformat": 4,
 "nbformat_minor": 5
}
