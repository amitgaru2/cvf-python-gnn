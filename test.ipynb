{
 "cells": [
  {
   "cell_type": "code",
   "execution_count": 1,
   "metadata": {},
   "outputs": [],
   "source": [
    "import torch"
   ]
  },
  {
   "cell_type": "code",
   "execution_count": 2,
   "metadata": {},
   "outputs": [],
   "source": [
    "class GCNConvByHand(torch.nn.Module):\n",
    "    \"\"\"maps D x N to O x N\"\"\"\n",
    "\n",
    "    def __init__(self, dim_in, dim_out):\n",
    "        super().__init__()\n",
    "        self.linear = torch.nn.Linear(dim_in, dim_out, bias=True)\n",
    "\n",
    "    def forward(self, x, A):\n",
    "        num_nodes = A.shape[1]  # B x N x N\n",
    "        omega_k = self.linear.weight\n",
    "        beta_k = self.linear.bias.reshape(-1, 1)\n",
    "        h = torch.matmul(\n",
    "            beta_k, torch.reshape(torch.ones(num_nodes), (1, -1))\n",
    "        ) + torch.matmul(omega_k, torch.matmul(x, A + torch.eye(num_nodes)))\n",
    "        return h"
   ]
  },
  {
   "cell_type": "code",
   "execution_count": 3,
   "metadata": {},
   "outputs": [],
   "source": [
    "B = 2\n",
    "D = 4\n",
    "N = 3\n",
    "\n",
    "x = torch.randn((B, D, N))  # B x D x N\n",
    "A = torch.FloatTensor(\n",
    "    [[[0, 2, 1], [1, 0, 0], [1, 0, 0]], [[0, 2, 1], [1, 0, 2], [1, 0, 0]]]\n",
    ")  # adjacency matrix ( B x N x N )"
   ]
  },
  {
   "cell_type": "code",
   "execution_count": null,
   "metadata": {},
   "outputs": [],
   "source": [
    "O = 10\n",
    "conv = GCNConvByHand(D, O)  # ( (O x D) x ( (D x N) x (N x N) = D x N ) = O x N)  => B x O x N"
   ]
  },
  {
   "cell_type": "code",
   "execution_count": 6,
   "metadata": {},
   "outputs": [
    {
     "data": {
      "text/plain": [
       "tensor([[[-2.2564, -2.0061, -1.8521],\n",
       "         [ 1.1493,  1.7374,  1.2489],\n",
       "         [ 1.3229,  1.3732,  1.1650],\n",
       "         [ 1.1285,  1.0028,  1.4222],\n",
       "         [ 1.1270,  1.4183,  0.9826],\n",
       "         [-2.8941, -1.6851, -1.4126],\n",
       "         [-3.2285, -2.3829, -1.4578],\n",
       "         [ 0.6476,  0.0695,  0.5307],\n",
       "         [-1.6266, -1.3949, -0.3867],\n",
       "         [ 2.4957,  1.9101,  1.0963]],\n",
       "\n",
       "        [[-0.4018,  0.8643, -0.5551],\n",
       "         [-0.4297, -1.1870, -0.8342],\n",
       "         [-0.3052, -1.5593, -0.2877],\n",
       "         [-0.4393, -0.8246, -0.5393],\n",
       "         [-0.9022, -1.1699, -1.3383],\n",
       "         [-1.4261, -0.9230, -1.9998],\n",
       "         [-1.1011, -1.2705, -1.1923],\n",
       "         [ 1.1236,  1.3713,  1.4659],\n",
       "         [ 0.1648,  0.5788,  0.2182],\n",
       "         [ 0.6467,  0.6597,  0.6749]]], grad_fn=<AddBackward0>)"
      ]
     },
     "execution_count": 6,
     "metadata": {},
     "output_type": "execute_result"
    }
   ],
   "source": [
    "conv(x, A)"
   ]
  },
  {
   "cell_type": "code",
   "execution_count": 8,
   "metadata": {},
   "outputs": [
    {
     "name": "stdout",
     "output_type": "stream",
     "text": [
      "tensor([[[0., 1., 1.],\n",
      "         [0., 0., 1.],\n",
      "         [0., 0., 0.]]])\n"
     ]
    }
   ],
   "source": [
    "import torch\n",
    "from torch_geometric.utils import to_dense_adj\n",
    "\n",
    "# Example edge index (edge list format) as a torch tensor\n",
    "edge_index = torch.tensor([[0, 1, 0],   # Row 1: Edges from nodes 0 -> 1, 0 -> 2\n",
    "                           [1, 2, 2]],  # Row 2: Edges from nodes 1 -> 2, 2 -> 0\n",
    "                          dtype=torch.long)\n",
    "\n",
    "# Number of nodes in the graph\n",
    "num_nodes = 3\n",
    "\n",
    "# Convert edge index to adjacency matrix\n",
    "adj_matrix = to_dense_adj(edge_index)\n",
    "\n",
    "# Print the adjacency matrix\n",
    "print(adj_matrix)"
   ]
  },
  {
   "cell_type": "code",
   "execution_count": null,
   "metadata": {},
   "outputs": [],
   "source": []
  }
 ],
 "metadata": {
  "kernelspec": {
   "display_name": "cvf",
   "language": "python",
   "name": "python3"
  },
  "language_info": {
   "codemirror_mode": {
    "name": "ipython",
    "version": 3
   },
   "file_extension": ".py",
   "mimetype": "text/x-python",
   "name": "python",
   "nbconvert_exporter": "python",
   "pygments_lexer": "ipython3",
   "version": "3.12.2"
  }
 },
 "nbformat": 4,
 "nbformat_minor": 2
}
