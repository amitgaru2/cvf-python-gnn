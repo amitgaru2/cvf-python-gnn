{
 "cells": [
  {
   "cell_type": "code",
   "execution_count": 2,
   "metadata": {},
   "outputs": [],
   "source": [
    "import torch"
   ]
  },
  {
   "cell_type": "code",
   "execution_count": 2,
   "metadata": {},
   "outputs": [],
   "source": [
    "class GCNConvByHand(torch.nn.Module):\n",
    "    \"\"\"maps D x N to O x N\"\"\"\n",
    "\n",
    "    def __init__(self, dim_in, dim_out):\n",
    "        super().__init__()\n",
    "        self.linear = torch.nn.Linear(dim_in, dim_out, bias=True)\n",
    "\n",
    "    def forward(self, x, A):\n",
    "        num_nodes = A.shape[1]  # B x N x N\n",
    "        omega_k = self.linear.weight\n",
    "        beta_k = self.linear.bias.reshape(-1, 1)\n",
    "        h = torch.matmul(\n",
    "            beta_k, torch.reshape(torch.ones(num_nodes), (1, -1))\n",
    "        ) + torch.matmul(omega_k, torch.matmul(x, A + torch.eye(num_nodes)))\n",
    "        return h"
   ]
  },
  {
   "cell_type": "code",
   "execution_count": 3,
   "metadata": {},
   "outputs": [],
   "source": [
    "B = 2\n",
    "D = 4\n",
    "N = 3\n",
    "\n",
    "x = torch.randn((B, D, N))  # B x D x N\n",
    "A = torch.FloatTensor(\n",
    "    [[[0, 2, 1], [1, 0, 0], [1, 0, 0]], [[0, 2, 1], [1, 0, 2], [1, 0, 0]]]\n",
    ")  # adjacency matrix ( B x N x N )"
   ]
  },
  {
   "cell_type": "code",
   "execution_count": null,
   "metadata": {},
   "outputs": [],
   "source": [
    "O = 10\n",
    "conv = GCNConvByHand(D, O)  # ( (O x D) x ( (D x N) x (N x N) = D x N ) = O x N)  => B x O x N"
   ]
  },
  {
   "cell_type": "code",
   "execution_count": 6,
   "metadata": {},
   "outputs": [
    {
     "data": {
      "text/plain": [
       "tensor([[[-2.2564, -2.0061, -1.8521],\n",
       "         [ 1.1493,  1.7374,  1.2489],\n",
       "         [ 1.3229,  1.3732,  1.1650],\n",
       "         [ 1.1285,  1.0028,  1.4222],\n",
       "         [ 1.1270,  1.4183,  0.9826],\n",
       "         [-2.8941, -1.6851, -1.4126],\n",
       "         [-3.2285, -2.3829, -1.4578],\n",
       "         [ 0.6476,  0.0695,  0.5307],\n",
       "         [-1.6266, -1.3949, -0.3867],\n",
       "         [ 2.4957,  1.9101,  1.0963]],\n",
       "\n",
       "        [[-0.4018,  0.8643, -0.5551],\n",
       "         [-0.4297, -1.1870, -0.8342],\n",
       "         [-0.3052, -1.5593, -0.2877],\n",
       "         [-0.4393, -0.8246, -0.5393],\n",
       "         [-0.9022, -1.1699, -1.3383],\n",
       "         [-1.4261, -0.9230, -1.9998],\n",
       "         [-1.1011, -1.2705, -1.1923],\n",
       "         [ 1.1236,  1.3713,  1.4659],\n",
       "         [ 0.1648,  0.5788,  0.2182],\n",
       "         [ 0.6467,  0.6597,  0.6749]]], grad_fn=<AddBackward0>)"
      ]
     },
     "execution_count": 6,
     "metadata": {},
     "output_type": "execute_result"
    }
   ],
   "source": [
    "conv(x, A)"
   ]
  },
  {
   "cell_type": "code",
   "execution_count": 8,
   "metadata": {},
   "outputs": [
    {
     "name": "stdout",
     "output_type": "stream",
     "text": [
      "tensor([[[0., 1., 1.],\n",
      "         [0., 0., 1.],\n",
      "         [0., 0., 0.]]])\n"
     ]
    }
   ],
   "source": [
    "import torch\n",
    "from torch_geometric.utils import to_dense_adj\n",
    "\n",
    "# Example edge index (edge list format) as a torch tensor\n",
    "edge_index = torch.tensor([[0, 1, 0],   # Row 1: Edges from nodes 0 -> 1, 0 -> 2\n",
    "                           [1, 2, 2]],  # Row 2: Edges from nodes 1 -> 2, 2 -> 0\n",
    "                          dtype=torch.long)\n",
    "\n",
    "# Number of nodes in the graph\n",
    "num_nodes = 3\n",
    "\n",
    "# Convert edge index to adjacency matrix\n",
    "adj_matrix = to_dense_adj(edge_index)\n",
    "\n",
    "# Print the adjacency matrix\n",
    "print(adj_matrix)"
   ]
  },
  {
   "cell_type": "code",
   "execution_count": 4,
   "metadata": {},
   "outputs": [],
   "source": [
    "import torch.nn.functional as F"
   ]
  },
  {
   "cell_type": "code",
   "execution_count": 27,
   "metadata": {},
   "outputs": [
    {
     "data": {
      "text/plain": [
       "tensor([[0, 1, 0, 0],\n",
       "        [1, 0, 0, 0],\n",
       "        [0, 0, 1, 0]])"
      ]
     },
     "execution_count": 27,
     "metadata": {},
     "output_type": "execute_result"
    }
   ],
   "source": [
    "config = F.one_hot(torch.LongTensor([1, 0, 2]), num_classes=4)\n",
    "config"
   ]
  },
  {
   "cell_type": "code",
   "execution_count": 28,
   "metadata": {},
   "outputs": [
    {
     "data": {
      "text/plain": [
       "tensor([[0, 0, 1, 0],\n",
       "        [1, 0, 0, 0],\n",
       "        [0, 1, 0, 0]])"
      ]
     },
     "execution_count": 28,
     "metadata": {},
     "output_type": "execute_result"
    }
   ],
   "source": [
    "succ1 = F.one_hot(torch.LongTensor([2, 0, 1]), num_classes=4)\n",
    "succ1"
   ]
  },
  {
   "cell_type": "code",
   "execution_count": 29,
   "metadata": {},
   "outputs": [
    {
     "data": {
      "text/plain": [
       "tensor([[0, 1, 0, 0],\n",
       "        [1, 0, 0, 0],\n",
       "        [0, 0, 1, 0],\n",
       "        [0, 0, 1, 0],\n",
       "        [1, 0, 0, 0],\n",
       "        [0, 1, 0, 0]])"
      ]
     },
     "execution_count": 29,
     "metadata": {},
     "output_type": "execute_result"
    }
   ],
   "source": [
    "torch.cat((config, succ1))"
   ]
  },
  {
   "cell_type": "code",
   "execution_count": 34,
   "metadata": {},
   "outputs": [
    {
     "data": {
      "text/plain": [
       "tensor([[0, 1, 1, 0],\n",
       "        [2, 0, 0, 0],\n",
       "        [0, 1, 1, 0]])"
      ]
     },
     "execution_count": 34,
     "metadata": {},
     "output_type": "execute_result"
    }
   ],
   "source": [
    "torch.add(config, succ1)"
   ]
  },
  {
   "cell_type": "code",
   "execution_count": 1,
   "metadata": {},
   "outputs": [],
   "source": [
    "import torch"
   ]
  },
  {
   "cell_type": "code",
   "execution_count": 2,
   "metadata": {},
   "outputs": [
    {
     "data": {
      "text/plain": [
       "torch.nn.modules.normalization.LayerNorm"
      ]
     },
     "execution_count": 2,
     "metadata": {},
     "output_type": "execute_result"
    }
   ],
   "source": [
    "torch.nn.LayerNorm"
   ]
  },
  {
   "cell_type": "code",
   "execution_count": 3,
   "metadata": {},
   "outputs": [],
   "source": [
    "X = torch.randn(2, 3, 4)"
   ]
  },
  {
   "cell_type": "code",
   "execution_count": 4,
   "metadata": {},
   "outputs": [
    {
     "data": {
      "text/plain": [
       "tensor([[[-0.0451, -0.8838,  0.5406,  0.9517],\n",
       "         [ 0.6860, -2.3000,  0.6895,  1.2610],\n",
       "         [ 0.4997, -1.0416, -0.7342,  0.1684]],\n",
       "\n",
       "        [[ 0.5594, -0.8396,  0.3898, -0.7540],\n",
       "         [-0.8752, -1.0382, -0.1782,  0.9231],\n",
       "         [-1.0528,  1.0209, -0.0671,  0.5105]]])"
      ]
     },
     "execution_count": 4,
     "metadata": {},
     "output_type": "execute_result"
    }
   ],
   "source": [
    "X"
   ]
  },
  {
   "cell_type": "code",
   "execution_count": 6,
   "metadata": {},
   "outputs": [],
   "source": [
    "layer_norm = torch.nn.LayerNorm(4)"
   ]
  },
  {
   "cell_type": "code",
   "execution_count": 7,
   "metadata": {},
   "outputs": [
    {
     "data": {
      "text/plain": [
       "tensor([[[-0.2697, -1.4860,  0.5798,  1.1759],\n",
       "         [ 0.4311, -1.7075,  0.4336,  0.8429],\n",
       "         [ 1.2298, -1.2108, -0.7241,  0.7051]],\n",
       "\n",
       "        [[ 1.1271, -1.0614,  0.8618, -0.9275],\n",
       "         [-0.7549, -0.9659,  0.1475,  1.5733],\n",
       "         [-1.5003,  1.1918, -0.2206,  0.5292]]],\n",
       "       grad_fn=<NativeLayerNormBackward0>)"
      ]
     },
     "execution_count": 7,
     "metadata": {},
     "output_type": "execute_result"
    }
   ],
   "source": [
    "layer_norm(X)"
   ]
  },
  {
   "cell_type": "code",
   "execution_count": 14,
   "metadata": {},
   "outputs": [
    {
     "data": {
      "text/plain": [
       "tensor([[[9., 8., 7., 6.],\n",
       "         [3., 5., 4., 6.],\n",
       "         [4., 6., 1., 6.]],\n",
       "\n",
       "        [[5., 7., 3., 5.],\n",
       "         [7., 1., 7., 7.],\n",
       "         [6., 2., 0., 3.]]])"
      ]
     },
     "execution_count": 14,
     "metadata": {},
     "output_type": "execute_result"
    }
   ],
   "source": [
    "x = torch.randint(10, (2, 3, 4)).to(torch.float32)\n",
    "x"
   ]
  },
  {
   "cell_type": "code",
   "execution_count": 15,
   "metadata": {},
   "outputs": [
    {
     "data": {
      "text/plain": [
       "tensor([[[ 1.3416,  0.4472, -0.4472, -1.3416],\n",
       "         [-1.3416,  0.4472, -0.4472,  1.3416],\n",
       "         [-0.1222,  0.8552, -1.5882,  0.8552]],\n",
       "\n",
       "        [[ 0.0000,  1.4142, -1.4142,  0.0000],\n",
       "         [ 0.5773, -1.7320,  0.5773,  0.5773],\n",
       "         [ 1.5011, -0.3464, -1.2702,  0.1155]]],\n",
       "       grad_fn=<NativeLayerNormBackward0>)"
      ]
     },
     "execution_count": 15,
     "metadata": {},
     "output_type": "execute_result"
    }
   ],
   "source": [
    "layer_norm(x)"
   ]
  },
  {
   "cell_type": "code",
   "execution_count": 16,
   "metadata": {},
   "outputs": [],
   "source": [
    "y= _"
   ]
  },
  {
   "cell_type": "code",
   "execution_count": 17,
   "metadata": {},
   "outputs": [
    {
     "data": {
      "text/plain": [
       "tensor([[[ 1.3416,  0.4472, -0.4472, -1.3416],\n",
       "         [-1.3416,  0.4472, -0.4472,  1.3416],\n",
       "         [-0.1222,  0.8552, -1.5882,  0.8552]],\n",
       "\n",
       "        [[ 0.0000,  1.4142, -1.4142,  0.0000],\n",
       "         [ 0.5773, -1.7320,  0.5773,  0.5773],\n",
       "         [ 1.5011, -0.3464, -1.2702,  0.1155]]],\n",
       "       grad_fn=<NativeLayerNormBackward0>)"
      ]
     },
     "execution_count": 17,
     "metadata": {},
     "output_type": "execute_result"
    }
   ],
   "source": [
    "y"
   ]
  },
  {
   "cell_type": "code",
   "execution_count": 23,
   "metadata": {},
   "outputs": [
    {
     "data": {
      "text/plain": [
       "tensor(1.1547, grad_fn=<StdBackward0>)"
      ]
     },
     "execution_count": 23,
     "metadata": {},
     "output_type": "execute_result"
    }
   ],
   "source": [
    "torch.std(y[0][1])"
   ]
  },
  {
   "cell_type": "code",
   "execution_count": null,
   "metadata": {},
   "outputs": [],
   "source": []
  }
 ],
 "metadata": {
  "kernelspec": {
   "display_name": "cvf",
   "language": "python",
   "name": "python3"
  },
  "language_info": {
   "codemirror_mode": {
    "name": "ipython",
    "version": 3
   },
   "file_extension": ".py",
   "mimetype": "text/x-python",
   "name": "python",
   "nbconvert_exporter": "python",
   "pygments_lexer": "ipython3",
   "version": "3.12.2"
  }
 },
 "nbformat": 4,
 "nbformat_minor": 2
}
