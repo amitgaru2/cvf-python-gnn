{
 "cells": [
  {
   "cell_type": "code",
   "execution_count": 2,
   "metadata": {},
   "outputs": [],
   "source": [
    "import torch"
   ]
  },
  {
   "cell_type": "code",
   "execution_count": 2,
   "metadata": {},
   "outputs": [],
   "source": [
    "class GCNConvByHand(torch.nn.Module):\n",
    "    \"\"\"maps D x N to O x N\"\"\"\n",
    "\n",
    "    def __init__(self, dim_in, dim_out):\n",
    "        super().__init__()\n",
    "        self.linear = torch.nn.Linear(dim_in, dim_out, bias=True)\n",
    "\n",
    "    def forward(self, x, A):\n",
    "        num_nodes = A.shape[1]  # B x N x N\n",
    "        omega_k = self.linear.weight\n",
    "        beta_k = self.linear.bias.reshape(-1, 1)\n",
    "        h = torch.matmul(\n",
    "            beta_k, torch.reshape(torch.ones(num_nodes), (1, -1))\n",
    "        ) + torch.matmul(omega_k, torch.matmul(x, A + torch.eye(num_nodes)))\n",
    "        return h"
   ]
  },
  {
   "cell_type": "code",
   "execution_count": 3,
   "metadata": {},
   "outputs": [],
   "source": [
    "B = 2\n",
    "D = 4\n",
    "N = 3\n",
    "\n",
    "x = torch.randn((B, D, N))  # B x D x N\n",
    "A = torch.FloatTensor(\n",
    "    [[[0, 2, 1], [1, 0, 0], [1, 0, 0]], [[0, 2, 1], [1, 0, 2], [1, 0, 0]]]\n",
    ")  # adjacency matrix ( B x N x N )"
   ]
  },
  {
   "cell_type": "code",
   "execution_count": null,
   "metadata": {},
   "outputs": [],
   "source": [
    "O = 10\n",
    "conv = GCNConvByHand(D, O)  # ( (O x D) x ( (D x N) x (N x N) = D x N ) = O x N)  => B x O x N"
   ]
  },
  {
   "cell_type": "code",
   "execution_count": 6,
   "metadata": {},
   "outputs": [
    {
     "data": {
      "text/plain": [
       "tensor([[[-2.2564, -2.0061, -1.8521],\n",
       "         [ 1.1493,  1.7374,  1.2489],\n",
       "         [ 1.3229,  1.3732,  1.1650],\n",
       "         [ 1.1285,  1.0028,  1.4222],\n",
       "         [ 1.1270,  1.4183,  0.9826],\n",
       "         [-2.8941, -1.6851, -1.4126],\n",
       "         [-3.2285, -2.3829, -1.4578],\n",
       "         [ 0.6476,  0.0695,  0.5307],\n",
       "         [-1.6266, -1.3949, -0.3867],\n",
       "         [ 2.4957,  1.9101,  1.0963]],\n",
       "\n",
       "        [[-0.4018,  0.8643, -0.5551],\n",
       "         [-0.4297, -1.1870, -0.8342],\n",
       "         [-0.3052, -1.5593, -0.2877],\n",
       "         [-0.4393, -0.8246, -0.5393],\n",
       "         [-0.9022, -1.1699, -1.3383],\n",
       "         [-1.4261, -0.9230, -1.9998],\n",
       "         [-1.1011, -1.2705, -1.1923],\n",
       "         [ 1.1236,  1.3713,  1.4659],\n",
       "         [ 0.1648,  0.5788,  0.2182],\n",
       "         [ 0.6467,  0.6597,  0.6749]]], grad_fn=<AddBackward0>)"
      ]
     },
     "execution_count": 6,
     "metadata": {},
     "output_type": "execute_result"
    }
   ],
   "source": [
    "conv(x, A)"
   ]
  },
  {
   "cell_type": "code",
   "execution_count": 8,
   "metadata": {},
   "outputs": [
    {
     "name": "stdout",
     "output_type": "stream",
     "text": [
      "tensor([[[0., 1., 1.],\n",
      "         [0., 0., 1.],\n",
      "         [0., 0., 0.]]])\n"
     ]
    }
   ],
   "source": [
    "import torch\n",
    "from torch_geometric.utils import to_dense_adj\n",
    "\n",
    "# Example edge index (edge list format) as a torch tensor\n",
    "edge_index = torch.tensor([[0, 1, 0],   # Row 1: Edges from nodes 0 -> 1, 0 -> 2\n",
    "                           [1, 2, 2]],  # Row 2: Edges from nodes 1 -> 2, 2 -> 0\n",
    "                          dtype=torch.long)\n",
    "\n",
    "# Number of nodes in the graph\n",
    "num_nodes = 3\n",
    "\n",
    "# Convert edge index to adjacency matrix\n",
    "adj_matrix = to_dense_adj(edge_index)\n",
    "\n",
    "# Print the adjacency matrix\n",
    "print(adj_matrix)"
   ]
  },
  {
   "cell_type": "code",
   "execution_count": 4,
   "metadata": {},
   "outputs": [],
   "source": [
    "import torch.nn.functional as F"
   ]
  },
  {
   "cell_type": "code",
   "execution_count": 27,
   "metadata": {},
   "outputs": [
    {
     "data": {
      "text/plain": [
       "tensor([[0, 1, 0, 0],\n",
       "        [1, 0, 0, 0],\n",
       "        [0, 0, 1, 0]])"
      ]
     },
     "execution_count": 27,
     "metadata": {},
     "output_type": "execute_result"
    }
   ],
   "source": [
    "config = F.one_hot(torch.LongTensor([1, 0, 2]), num_classes=4)\n",
    "config"
   ]
  },
  {
   "cell_type": "code",
   "execution_count": 28,
   "metadata": {},
   "outputs": [
    {
     "data": {
      "text/plain": [
       "tensor([[0, 0, 1, 0],\n",
       "        [1, 0, 0, 0],\n",
       "        [0, 1, 0, 0]])"
      ]
     },
     "execution_count": 28,
     "metadata": {},
     "output_type": "execute_result"
    }
   ],
   "source": [
    "succ1 = F.one_hot(torch.LongTensor([2, 0, 1]), num_classes=4)\n",
    "succ1"
   ]
  },
  {
   "cell_type": "code",
   "execution_count": 29,
   "metadata": {},
   "outputs": [
    {
     "data": {
      "text/plain": [
       "tensor([[0, 1, 0, 0],\n",
       "        [1, 0, 0, 0],\n",
       "        [0, 0, 1, 0],\n",
       "        [0, 0, 1, 0],\n",
       "        [1, 0, 0, 0],\n",
       "        [0, 1, 0, 0]])"
      ]
     },
     "execution_count": 29,
     "metadata": {},
     "output_type": "execute_result"
    }
   ],
   "source": [
    "torch.cat((config, succ1))"
   ]
  },
  {
   "cell_type": "code",
   "execution_count": 34,
   "metadata": {},
   "outputs": [
    {
     "data": {
      "text/plain": [
       "tensor([[0, 1, 1, 0],\n",
       "        [2, 0, 0, 0],\n",
       "        [0, 1, 1, 0]])"
      ]
     },
     "execution_count": 34,
     "metadata": {},
     "output_type": "execute_result"
    }
   ],
   "source": [
    "torch.add(config, succ1)"
   ]
  },
  {
   "cell_type": "code",
   "execution_count": 1,
   "metadata": {},
   "outputs": [],
   "source": [
    "import torch"
   ]
  },
  {
   "cell_type": "code",
   "execution_count": 2,
   "metadata": {},
   "outputs": [
    {
     "data": {
      "text/plain": [
       "torch.nn.modules.batchnorm.BatchNorm2d"
      ]
     },
     "execution_count": 2,
     "metadata": {},
     "output_type": "execute_result"
    }
   ],
   "source": [
    "torch.nn.LayerNorm\n",
    "torch.nn.BatchNorm2d"
   ]
  },
  {
   "cell_type": "code",
   "execution_count": 3,
   "metadata": {},
   "outputs": [],
   "source": [
    "X = torch.randn(2, 3, 4)"
   ]
  },
  {
   "cell_type": "code",
   "execution_count": 4,
   "metadata": {},
   "outputs": [
    {
     "data": {
      "text/plain": [
       "tensor([[[-0.0451, -0.8838,  0.5406,  0.9517],\n",
       "         [ 0.6860, -2.3000,  0.6895,  1.2610],\n",
       "         [ 0.4997, -1.0416, -0.7342,  0.1684]],\n",
       "\n",
       "        [[ 0.5594, -0.8396,  0.3898, -0.7540],\n",
       "         [-0.8752, -1.0382, -0.1782,  0.9231],\n",
       "         [-1.0528,  1.0209, -0.0671,  0.5105]]])"
      ]
     },
     "execution_count": 4,
     "metadata": {},
     "output_type": "execute_result"
    }
   ],
   "source": [
    "X"
   ]
  },
  {
   "cell_type": "code",
   "execution_count": 6,
   "metadata": {},
   "outputs": [],
   "source": [
    "layer_norm = torch.nn.LayerNorm(4)"
   ]
  },
  {
   "cell_type": "code",
   "execution_count": 20,
   "metadata": {},
   "outputs": [],
   "source": [
    "batch_norm = torch.nn.BatchNorm1d(3)"
   ]
  },
  {
   "cell_type": "code",
   "execution_count": 21,
   "metadata": {},
   "outputs": [
    {
     "ename": "NameError",
     "evalue": "name 'layer_norm' is not defined",
     "output_type": "error",
     "traceback": [
      "\u001b[0;31m---------------------------------------------------------------------------\u001b[0m",
      "\u001b[0;31mNameError\u001b[0m                                 Traceback (most recent call last)",
      "Cell \u001b[0;32mIn[21], line 1\u001b[0m\n\u001b[0;32m----> 1\u001b[0m \u001b[43mlayer_norm\u001b[49m(X)\n",
      "\u001b[0;31mNameError\u001b[0m: name 'layer_norm' is not defined"
     ]
    }
   ],
   "source": [
    "layer_norm(X)"
   ]
  },
  {
   "cell_type": "code",
   "execution_count": 22,
   "metadata": {},
   "outputs": [
    {
     "data": {
      "text/plain": [
       "tensor([[[4., 4., 6., 0.],\n",
       "         [0., 8., 2., 5.],\n",
       "         [5., 2., 1., 7.]],\n",
       "\n",
       "        [[9., 5., 9., 3.],\n",
       "         [9., 8., 9., 9.],\n",
       "         [5., 0., 5., 9.]]])"
      ]
     },
     "execution_count": 22,
     "metadata": {},
     "output_type": "execute_result"
    }
   ],
   "source": [
    "x = torch.randint(10, (2, 3, 4)).to(torch.float32)\n",
    "x"
   ]
  },
  {
   "cell_type": "code",
   "execution_count": 23,
   "metadata": {},
   "outputs": [
    {
     "data": {
      "text/plain": [
       "tensor([[[-0.3536, -0.3536,  0.3536, -1.7678],\n",
       "         [-1.8898,  0.5292, -1.2851, -0.3780],\n",
       "         [ 0.2621, -0.7863, -1.1358,  0.9611]],\n",
       "\n",
       "        [[ 1.4142,  0.0000,  1.4142, -0.7071],\n",
       "         [ 0.8315,  0.5292,  0.8315,  0.8315],\n",
       "         [ 0.2621, -1.4853,  0.2621,  1.6600]]],\n",
       "       grad_fn=<NativeBatchNormBackward0>)"
      ]
     },
     "execution_count": 23,
     "metadata": {},
     "output_type": "execute_result"
    }
   ],
   "source": [
    "batch_norm(x)"
   ]
  },
  {
   "cell_type": "code",
   "execution_count": 35,
   "metadata": {},
   "outputs": [
    {
     "data": {
      "text/plain": [
       "tensor([[-0.3536, -1.8898,  0.2621],\n",
       "        [ 1.4142,  0.8315,  0.2621]], grad_fn=<SelectBackward0>)"
      ]
     },
     "execution_count": 35,
     "metadata": {},
     "output_type": "execute_result"
    }
   ],
   "source": [
    "batch_norm(x)[:, :, 0]"
   ]
  },
  {
   "cell_type": "code",
   "execution_count": 17,
   "metadata": {},
   "outputs": [
    {
     "data": {
      "text/plain": [
       "tensor([[[ 1.3416,  0.4472, -0.4472, -1.3416],\n",
       "         [-1.3416,  0.4472, -0.4472,  1.3416],\n",
       "         [-0.1222,  0.8552, -1.5882,  0.8552]],\n",
       "\n",
       "        [[ 0.0000,  1.4142, -1.4142,  0.0000],\n",
       "         [ 0.5773, -1.7320,  0.5773,  0.5773],\n",
       "         [ 1.5011, -0.3464, -1.2702,  0.1155]]],\n",
       "       grad_fn=<NativeLayerNormBackward0>)"
      ]
     },
     "execution_count": 17,
     "metadata": {},
     "output_type": "execute_result"
    }
   ],
   "source": [
    "y"
   ]
  },
  {
   "cell_type": "code",
   "execution_count": 23,
   "metadata": {},
   "outputs": [
    {
     "data": {
      "text/plain": [
       "tensor(1.1547, grad_fn=<StdBackward0>)"
      ]
     },
     "execution_count": 23,
     "metadata": {},
     "output_type": "execute_result"
    }
   ],
   "source": [
    "torch.std(y[0][1])"
   ]
  },
  {
   "cell_type": "code",
   "execution_count": 2,
   "metadata": {},
   "outputs": [],
   "source": [
    "import torch"
   ]
  },
  {
   "cell_type": "code",
   "execution_count": 22,
   "metadata": {},
   "outputs": [],
   "source": [
    "def generate_local_mask(seq_len, spec_emb_dim):\n",
    "    mask = torch.full((seq_len, seq_len), float(\"-inf\"))\n",
    "    for i in range(1, seq_len):\n",
    "        mask[i, i - 1] = 0  # Only allow attending to the previous token\n",
    "        for j in range(spec_emb_dim):\n",
    "            if j < i:\n",
    "                mask[i, j] = 0\n",
    "    mask[0, 0] = 0  # Optional: allow first token to attend to itself\n",
    "    return mask"
   ]
  },
  {
   "cell_type": "code",
   "execution_count": 29,
   "metadata": {},
   "outputs": [
    {
     "data": {
      "text/plain": [
       "tensor([[0., -inf, -inf],\n",
       "        [0., -inf, -inf],\n",
       "        [0., 0., -inf]])"
      ]
     },
     "execution_count": 29,
     "metadata": {},
     "output_type": "execute_result"
    }
   ],
   "source": [
    "generate_local_mask(3, 2)"
   ]
  },
  {
   "cell_type": "code",
   "execution_count": null,
   "metadata": {},
   "outputs": [],
   "source": []
  }
 ],
 "metadata": {
  "kernelspec": {
   "display_name": "cvf",
   "language": "python",
   "name": "python3"
  },
  "language_info": {
   "codemirror_mode": {
    "name": "ipython",
    "version": 3
   },
   "file_extension": ".py",
   "mimetype": "text/x-python",
   "name": "python",
   "nbconvert_exporter": "python",
   "pygments_lexer": "ipython3",
   "version": "3.12.2"
  }
 },
 "nbformat": 4,
 "nbformat_minor": 2
}
