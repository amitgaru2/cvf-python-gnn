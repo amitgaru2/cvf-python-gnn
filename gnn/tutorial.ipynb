{
 "cells": [
  {
   "cell_type": "code",
   "execution_count": 26,
   "id": "07edcb7c-e6c3-456c-9a5a-ce756ca68597",
   "metadata": {},
   "outputs": [],
   "source": [
    "import torch\n",
    "\n",
    "from torch_geometric.data import Data\n",
    "from torch_geometric.utils import to_dense_adj"
   ]
  },
  {
   "cell_type": "code",
   "execution_count": 45,
   "id": "d3a8453c-852b-4dab-a887-e83a057456ae",
   "metadata": {},
   "outputs": [],
   "source": [
    "edge_index = torch.tensor([\n",
    "    [0, 1],\n",
    "    [0, 2],\n",
    "    [0, 3],\n",
    "    [1, 0],\n",
    "    [2, 0],\n",
    "    [3, 0]\n",
    "], dtype=torch.long)\n",
    "\n",
    "x = torch.tensor([[0, 1], [0, 1], [0, 1], [0, 1]], dtype=torch.float) # configs: [0, 0, 0, 0], [1, 1, 1, 1]\n",
    "\n",
    "y = torch.tensor([3, 1]) # ranks\n",
    "\n",
    "data = Data(x=x, edge_index=edge_index.t().contiguous(), y=y)"
   ]
  },
  {
   "cell_type": "code",
   "execution_count": 46,
   "id": "046f11a8-3fcd-4d0e-9bdc-f95b33e16f15",
   "metadata": {},
   "outputs": [
    {
     "data": {
      "text/plain": [
       "(4, 6, 2, False, False, False)"
      ]
     },
     "execution_count": 46,
     "metadata": {},
     "output_type": "execute_result"
    }
   ],
   "source": [
    "data.num_nodes, data.num_edges, data.num_node_features, data.has_isolated_nodes(), data.has_self_loops(), data.is_directed()"
   ]
  },
  {
   "cell_type": "code",
   "execution_count": 47,
   "id": "c28d9580-a55f-431d-91db-982af72d5ca7",
   "metadata": {},
   "outputs": [
    {
     "data": {
      "text/plain": [
       "['edge_index', 'y', 'x']"
      ]
     },
     "execution_count": 47,
     "metadata": {},
     "output_type": "execute_result"
    }
   ],
   "source": [
    "data.keys()"
   ]
  },
  {
   "cell_type": "code",
   "execution_count": 35,
   "id": "5300d021-4bdf-49cc-913a-72c8072585e1",
   "metadata": {},
   "outputs": [],
   "source": [
    "adjacency = to_dense_adj(edge_index.t().contiguous())[0]"
   ]
  },
  {
   "cell_type": "code",
   "execution_count": 36,
   "id": "34b78390-3477-4a57-adc4-d8a89f220b83",
   "metadata": {},
   "outputs": [
    {
     "data": {
      "text/plain": [
       "tensor([[0., 1., 1., 1.],\n",
       "        [1., 0., 0., 0.],\n",
       "        [1., 0., 0., 0.],\n",
       "        [1., 0., 0., 0.]])"
      ]
     },
     "execution_count": 36,
     "metadata": {},
     "output_type": "execute_result"
    }
   ],
   "source": [
    "adjacency"
   ]
  },
  {
   "cell_type": "code",
   "execution_count": 48,
   "id": "8b570064-4ece-42a0-b252-08135943581b",
   "metadata": {},
   "outputs": [
    {
     "data": {
      "text/plain": [
       "tensor([3, 1])"
      ]
     },
     "execution_count": 48,
     "metadata": {},
     "output_type": "execute_result"
    }
   ],
   "source": [
    "data.y"
   ]
  },
  {
   "cell_type": "code",
   "execution_count": null,
   "id": "85b44b15-1091-4337-ac96-56630cd0ab9d",
   "metadata": {},
   "outputs": [],
   "source": []
  }
 ],
 "metadata": {
  "kernelspec": {
   "display_name": "Python 3 (ipykernel)",
   "language": "python",
   "name": "python3"
  },
  "language_info": {
   "codemirror_mode": {
    "name": "ipython",
    "version": 3
   },
   "file_extension": ".py",
   "mimetype": "text/x-python",
   "name": "python",
   "nbconvert_exporter": "python",
   "pygments_lexer": "ipython3",
   "version": "3.12.2"
  }
 },
 "nbformat": 4,
 "nbformat_minor": 5
}
