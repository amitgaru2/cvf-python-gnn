{
 "cells": [
  {
   "cell_type": "code",
   "execution_count": 1,
   "metadata": {},
   "outputs": [],
   "source": [
    "import pandas as pd"
   ]
  },
  {
   "cell_type": "code",
   "execution_count": 2,
   "metadata": {},
   "outputs": [],
   "source": [
    "EPS = 1e-10"
   ]
  },
  {
   "cell_type": "code",
   "execution_count": 3,
   "metadata": {},
   "outputs": [
    {
     "data": {
      "text/html": [
       "<div>\n",
       "<style scoped>\n",
       "    .dataframe tbody tr th:only-of-type {\n",
       "        vertical-align: middle;\n",
       "    }\n",
       "\n",
       "    .dataframe tbody tr th {\n",
       "        vertical-align: top;\n",
       "    }\n",
       "\n",
       "    .dataframe thead th {\n",
       "        text-align: right;\n",
       "    }\n",
       "</style>\n",
       "<table border=\"1\" class=\"dataframe\">\n",
       "  <thead>\n",
       "    <tr style=\"text-align: right;\">\n",
       "      <th></th>\n",
       "      <th>Dataset</th>\n",
       "      <th>Actual</th>\n",
       "      <th>Predicted</th>\n",
       "    </tr>\n",
       "  </thead>\n",
       "  <tbody>\n",
       "    <tr>\n",
       "      <th>0</th>\n",
       "      <td>star_graph_n7</td>\n",
       "      <td>0.0</td>\n",
       "      <td>0.0</td>\n",
       "    </tr>\n",
       "    <tr>\n",
       "      <th>1</th>\n",
       "      <td>star_graph_n7</td>\n",
       "      <td>0.0</td>\n",
       "      <td>0.0</td>\n",
       "    </tr>\n",
       "    <tr>\n",
       "      <th>2</th>\n",
       "      <td>star_graph_n7</td>\n",
       "      <td>0.0</td>\n",
       "      <td>0.0</td>\n",
       "    </tr>\n",
       "    <tr>\n",
       "      <th>3</th>\n",
       "      <td>star_graph_n7</td>\n",
       "      <td>0.0</td>\n",
       "      <td>0.0</td>\n",
       "    </tr>\n",
       "    <tr>\n",
       "      <th>4</th>\n",
       "      <td>star_graph_n7</td>\n",
       "      <td>0.0</td>\n",
       "      <td>0.0</td>\n",
       "    </tr>\n",
       "  </tbody>\n",
       "</table>\n",
       "</div>"
      ],
      "text/plain": [
       "         Dataset  Actual  Predicted\n",
       "0  star_graph_n7     0.0        0.0\n",
       "1  star_graph_n7     0.0        0.0\n",
       "2  star_graph_n7     0.0        0.0\n",
       "3  star_graph_n7     0.0        0.0\n",
       "4  star_graph_n7     0.0        0.0"
      ]
     },
     "execution_count": 3,
     "metadata": {},
     "output_type": "execute_result"
    }
   ],
   "source": [
    "result_file = \"test_result_w_succ_same_nodes.csv\"\n",
    "df = pd.read_csv(result_file)\n",
    "\n",
    "df.head()"
   ]
  },
  {
   "cell_type": "code",
   "execution_count": 4,
   "metadata": {},
   "outputs": [],
   "source": [
    "df['Difference'] = abs(df['Actual']-df['Predicted'])\n",
    "# df.head()"
   ]
  },
  {
   "cell_type": "code",
   "execution_count": 5,
   "metadata": {},
   "outputs": [],
   "source": [
    "df['EPS'] = df['Actual'].apply(lambda x: EPS if x==0.0 else 0.0)\n",
    "# df"
   ]
  },
  {
   "cell_type": "code",
   "execution_count": 6,
   "metadata": {},
   "outputs": [],
   "source": [
    "df['RE'] = df['Difference']/(df['Actual']+df['EPS'])\n",
    "# df.head()"
   ]
  },
  {
   "cell_type": "code",
   "execution_count": 7,
   "metadata": {},
   "outputs": [
    {
     "data": {
      "text/html": [
       "<div>\n",
       "<style scoped>\n",
       "    .dataframe tbody tr th:only-of-type {\n",
       "        vertical-align: middle;\n",
       "    }\n",
       "\n",
       "    .dataframe tbody tr th {\n",
       "        vertical-align: top;\n",
       "    }\n",
       "\n",
       "    .dataframe thead th {\n",
       "        text-align: right;\n",
       "    }\n",
       "</style>\n",
       "<table border=\"1\" class=\"dataframe\">\n",
       "  <thead>\n",
       "    <tr style=\"text-align: right;\">\n",
       "      <th></th>\n",
       "      <th>Dataset</th>\n",
       "      <th>Actual</th>\n",
       "      <th>Predicted</th>\n",
       "      <th>Difference</th>\n",
       "      <th>EPS</th>\n",
       "      <th>RE</th>\n",
       "    </tr>\n",
       "  </thead>\n",
       "  <tbody>\n",
       "    <tr>\n",
       "      <th>0</th>\n",
       "      <td>star_graph_n7</td>\n",
       "      <td>0.0</td>\n",
       "      <td>0.000000</td>\n",
       "      <td>0.000000</td>\n",
       "      <td>1.000000e-10</td>\n",
       "      <td>0.000000</td>\n",
       "    </tr>\n",
       "    <tr>\n",
       "      <th>1</th>\n",
       "      <td>star_graph_n7</td>\n",
       "      <td>0.0</td>\n",
       "      <td>0.000000</td>\n",
       "      <td>0.000000</td>\n",
       "      <td>1.000000e-10</td>\n",
       "      <td>0.000000</td>\n",
       "    </tr>\n",
       "    <tr>\n",
       "      <th>2</th>\n",
       "      <td>star_graph_n7</td>\n",
       "      <td>0.0</td>\n",
       "      <td>0.000000</td>\n",
       "      <td>0.000000</td>\n",
       "      <td>1.000000e-10</td>\n",
       "      <td>0.000000</td>\n",
       "    </tr>\n",
       "    <tr>\n",
       "      <th>3</th>\n",
       "      <td>star_graph_n7</td>\n",
       "      <td>0.0</td>\n",
       "      <td>0.000000</td>\n",
       "      <td>0.000000</td>\n",
       "      <td>1.000000e-10</td>\n",
       "      <td>0.000000</td>\n",
       "    </tr>\n",
       "    <tr>\n",
       "      <th>4</th>\n",
       "      <td>star_graph_n7</td>\n",
       "      <td>0.0</td>\n",
       "      <td>0.000000</td>\n",
       "      <td>0.000000</td>\n",
       "      <td>1.000000e-10</td>\n",
       "      <td>0.000000</td>\n",
       "    </tr>\n",
       "    <tr>\n",
       "      <th>...</th>\n",
       "      <td>...</td>\n",
       "      <td>...</td>\n",
       "      <td>...</td>\n",
       "      <td>...</td>\n",
       "      <td>...</td>\n",
       "      <td>...</td>\n",
       "    </tr>\n",
       "    <tr>\n",
       "      <th>5275</th>\n",
       "      <td>graph_powerlaw_cluster_graph_n7</td>\n",
       "      <td>2.0</td>\n",
       "      <td>2.190722</td>\n",
       "      <td>0.190722</td>\n",
       "      <td>0.000000e+00</td>\n",
       "      <td>0.095361</td>\n",
       "    </tr>\n",
       "    <tr>\n",
       "      <th>5276</th>\n",
       "      <td>graph_powerlaw_cluster_graph_n7</td>\n",
       "      <td>2.0</td>\n",
       "      <td>2.209187</td>\n",
       "      <td>0.209187</td>\n",
       "      <td>0.000000e+00</td>\n",
       "      <td>0.104593</td>\n",
       "    </tr>\n",
       "    <tr>\n",
       "      <th>5277</th>\n",
       "      <td>graph_powerlaw_cluster_graph_n7</td>\n",
       "      <td>1.0</td>\n",
       "      <td>1.023422</td>\n",
       "      <td>0.023422</td>\n",
       "      <td>0.000000e+00</td>\n",
       "      <td>0.023422</td>\n",
       "    </tr>\n",
       "    <tr>\n",
       "      <th>5278</th>\n",
       "      <td>graph_powerlaw_cluster_graph_n7</td>\n",
       "      <td>0.0</td>\n",
       "      <td>0.000000</td>\n",
       "      <td>0.000000</td>\n",
       "      <td>1.000000e-10</td>\n",
       "      <td>0.000000</td>\n",
       "    </tr>\n",
       "    <tr>\n",
       "      <th>5279</th>\n",
       "      <td>graph_powerlaw_cluster_graph_n7</td>\n",
       "      <td>1.0</td>\n",
       "      <td>0.968837</td>\n",
       "      <td>0.031163</td>\n",
       "      <td>0.000000e+00</td>\n",
       "      <td>0.031163</td>\n",
       "    </tr>\n",
       "  </tbody>\n",
       "</table>\n",
       "<p>5280 rows × 6 columns</p>\n",
       "</div>"
      ],
      "text/plain": [
       "                              Dataset  Actual  Predicted  Difference  \\\n",
       "0                       star_graph_n7     0.0   0.000000    0.000000   \n",
       "1                       star_graph_n7     0.0   0.000000    0.000000   \n",
       "2                       star_graph_n7     0.0   0.000000    0.000000   \n",
       "3                       star_graph_n7     0.0   0.000000    0.000000   \n",
       "4                       star_graph_n7     0.0   0.000000    0.000000   \n",
       "...                               ...     ...        ...         ...   \n",
       "5275  graph_powerlaw_cluster_graph_n7     2.0   2.190722    0.190722   \n",
       "5276  graph_powerlaw_cluster_graph_n7     2.0   2.209187    0.209187   \n",
       "5277  graph_powerlaw_cluster_graph_n7     1.0   1.023422    0.023422   \n",
       "5278  graph_powerlaw_cluster_graph_n7     0.0   0.000000    0.000000   \n",
       "5279  graph_powerlaw_cluster_graph_n7     1.0   0.968837    0.031163   \n",
       "\n",
       "               EPS        RE  \n",
       "0     1.000000e-10  0.000000  \n",
       "1     1.000000e-10  0.000000  \n",
       "2     1.000000e-10  0.000000  \n",
       "3     1.000000e-10  0.000000  \n",
       "4     1.000000e-10  0.000000  \n",
       "...            ...       ...  \n",
       "5275  0.000000e+00  0.095361  \n",
       "5276  0.000000e+00  0.104593  \n",
       "5277  0.000000e+00  0.023422  \n",
       "5278  1.000000e-10  0.000000  \n",
       "5279  0.000000e+00  0.031163  \n",
       "\n",
       "[5280 rows x 6 columns]"
      ]
     },
     "execution_count": 7,
     "metadata": {},
     "output_type": "execute_result"
    }
   ],
   "source": [
    "df"
   ]
  },
  {
   "cell_type": "code",
   "execution_count": 8,
   "metadata": {},
   "outputs": [
    {
     "data": {
      "text/plain": [
       "0.06980825266603269"
      ]
     },
     "execution_count": 8,
     "metadata": {},
     "output_type": "execute_result"
    }
   ],
   "source": [
    "df['RE'].sum()/len(df)"
   ]
  },
  {
   "cell_type": "markdown",
   "metadata": {},
   "source": [
    "# Group by Rank"
   ]
  },
  {
   "cell_type": "code",
   "execution_count": 9,
   "metadata": {},
   "outputs": [],
   "source": [
    "values_count = df['Actual'].value_counts().reset_index()\n",
    "# values_count"
   ]
  },
  {
   "cell_type": "code",
   "execution_count": 10,
   "metadata": {},
   "outputs": [],
   "source": [
    "re_sum = df.groupby('Actual')['RE'].sum().reset_index()"
   ]
  },
  {
   "cell_type": "code",
   "execution_count": 11,
   "metadata": {},
   "outputs": [],
   "source": [
    "df_result = pd.merge(values_count, re_sum).sort_values(by=['count', 'RE'], ascending=[False, False])\n",
    "df_result\n",
    "df_result.to_csv(\"test_analysis_grp_by_rank.csv\", index=False)"
   ]
  },
  {
   "cell_type": "markdown",
   "metadata": {},
   "source": [
    "# Group by Dataset and Rank"
   ]
  },
  {
   "cell_type": "code",
   "execution_count": 12,
   "metadata": {},
   "outputs": [],
   "source": [
    "values_count = df[['Dataset', 'Actual']].value_counts().reset_index()\n",
    "# values_count"
   ]
  },
  {
   "cell_type": "code",
   "execution_count": 13,
   "metadata": {},
   "outputs": [],
   "source": [
    "re_sum = df.groupby(['Dataset', 'Actual'])['RE'].sum().reset_index()\n",
    "# re_sum"
   ]
  },
  {
   "cell_type": "code",
   "execution_count": 14,
   "metadata": {},
   "outputs": [],
   "source": [
    "df_result = pd.merge(values_count, re_sum).sort_values(by=['Dataset', 'count'], ascending=[True, False])\n",
    "df_result\n",
    "df_result.to_csv(\"test_analysis_grp_by_dataset_rank.csv\", index=False)"
   ]
  },
  {
   "cell_type": "code",
   "execution_count": null,
   "metadata": {},
   "outputs": [],
   "source": []
  }
 ],
 "metadata": {
  "kernelspec": {
   "display_name": "cvf",
   "language": "python",
   "name": "python3"
  },
  "language_info": {
   "codemirror_mode": {
    "name": "ipython",
    "version": 3
   },
   "file_extension": ".py",
   "mimetype": "text/x-python",
   "name": "python",
   "nbconvert_exporter": "python",
   "pygments_lexer": "ipython3",
   "version": "3.12.2"
  }
 },
 "nbformat": 4,
 "nbformat_minor": 2
}
