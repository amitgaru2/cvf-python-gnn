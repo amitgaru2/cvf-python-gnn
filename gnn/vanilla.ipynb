{
 "cells": [
  {
   "cell_type": "code",
   "execution_count": 1,
   "metadata": {},
   "outputs": [],
   "source": [
    "import torch\n",
    "import torch.nn.functional as F\n",
    "\n",
    "from torch_geometric.data import Data\n",
    "from torch.utils.data import DataLoader\n",
    "from torch_geometric.utils import to_dense_adj"
   ]
  },
  {
   "cell_type": "code",
   "execution_count": 2,
   "metadata": {},
   "outputs": [],
   "source": [
    "from helpers import CVFConfigDataset"
   ]
  },
  {
   "cell_type": "code",
   "execution_count": 3,
   "metadata": {},
   "outputs": [],
   "source": [
    "class VanillaGNNLayer(torch.nn.Module):\n",
    "    def __init__(self, dim_in, dim_out):\n",
    "        super().__init__()\n",
    "        self.linear = torch.nn.Linear(dim_in, dim_out, bias=False)\n",
    "\n",
    "    def forward(self, x, adjacency):\n",
    "        x = self.linear(x)\n",
    "        # print(\"x after linear\", x, x.ndimension())\n",
    "        # x = torch.sparse.mm(adjacency, x)\n",
    "        x = torch.matmul(adjacency, x)\n",
    "        return x"
   ]
  },
  {
   "cell_type": "code",
   "execution_count": 4,
   "metadata": {},
   "outputs": [],
   "source": [
    "dataset = CVFConfigDataset()\n",
    "data_loader = DataLoader(dataset, batch_size=32, shuffle=False)"
   ]
  },
  {
   "cell_type": "code",
   "execution_count": 5,
   "metadata": {},
   "outputs": [],
   "source": [
    "edge_index = torch.tensor([\n",
    "    [0, 1],\n",
    "    [0, 2],\n",
    "    [0, 3],\n",
    "    [1, 0],\n",
    "    [2, 0],\n",
    "    [3, 0]\n",
    "], dtype=torch.long)\n",
    "# edge_index = torch.tensor(\n",
    "#     [\n",
    "#         [0, 1],\n",
    "#         [0, 2],\n",
    "#         [0, 3],\n",
    "#         [0, 4],\n",
    "#         [0, 5],\n",
    "#         [0, 6],\n",
    "#         [0, 7],\n",
    "#         [0, 8],\n",
    "#         [0, 9],\n",
    "#         [1, 0],\n",
    "#         [2, 0],\n",
    "#         [3, 0],\n",
    "#         [4, 0],\n",
    "#         [5, 0],\n",
    "#         [6, 0],\n",
    "#         [7, 0],\n",
    "#         [8, 0],\n",
    "#         [9, 0],\n",
    "#     ],\n",
    "#     dtype=torch.long,\n",
    "# )\n",
    "\n",
    "\n",
    "# # x = torch.tensor([[0], [0], [0], [0]], dtype=torch.float) # configs: [0, 0, 0, 0], [1, 1, 1, 1]\n",
    "# x = torch.tensor([[0, 1], [0, 1], [0, 1], [0, 1]], dtype=torch.float) # configs: [0, 0, 0, 0], [1, 1, 1, 1]\n",
    "\n",
    "# y = torch.tensor([[3.0, 1.0]]) # ranks\n",
    "\n",
    "# data = Data(x=x, edge_index=edge_index.t().contiguous(), y=y)\n",
    "# data.train_mask = torch.tensor([1 for _ in range(len(x))])"
   ]
  },
  {
   "cell_type": "code",
   "execution_count": 6,
   "metadata": {},
   "outputs": [
    {
     "data": {
      "text/plain": [
       "3"
      ]
     },
     "execution_count": 6,
     "metadata": {},
     "output_type": "execute_result"
    }
   ],
   "source": [
    "adjacency = to_dense_adj(edge_index.t().contiguous())[0]\n",
    "adjacency += torch.eye(len(adjacency))\n",
    "# adjacency = adjacency.repeat(data_loader.batch_size, 1)\n",
    "adjacency = adjacency.unsqueeze(0)\n",
    "adjacency.ndimension()"
   ]
  },
  {
   "cell_type": "code",
   "execution_count": 15,
   "metadata": {},
   "outputs": [],
   "source": [
    "class VanillaGNN(torch.nn.Module):\n",
    "    def __init__(self, dim_in, dim_h, dim_out):\n",
    "        super().__init__()\n",
    "        self.gnn1 = VanillaGNNLayer(dim_in, dim_h)\n",
    "        self.gnn2 = VanillaGNNLayer(dim_h, dim_out)\n",
    "        # self.out = torch.nn.Linear(dim_h, dim_out)\n",
    "\n",
    "    def forward(self, x, adjacency):\n",
    "        h = self.gnn1(x, adjacency)\n",
    "        h = torch.relu(h)\n",
    "        h = self.gnn2(h, adjacency)\n",
    "        h = torch.relu(h)\n",
    "        # print(\"h2 r\", h)\n",
    "        # h = self.out(h)\n",
    "        # print(torch.relu(h))\n",
    "        # result = F.softmax(h, dim=0)\n",
    "        # print(\"result\", result)\n",
    "        # print(\"h\", h)\n",
    "        h = h.squeeze(-1)\n",
    "        # print(\"h\", h)\n",
    "        # h = h.flatten().unsqueeze(1)\n",
    "        # print(\"h\", h)\n",
    "        return h\n",
    "\n",
    "    def fit(self, data_loader, epochs):\n",
    "        criterion = torch.nn.CrossEntropyLoss()\n",
    "        optimizer = torch.optim.Adam(self.parameters(), lr=0.01, weight_decay=5e-4)\n",
    "        self.train()\n",
    "        for epoch in range(epochs + 1):\n",
    "            avg_loss = 0\n",
    "            count = 0\n",
    "            for batch in data_loader:\n",
    "                # x = batch[0].squeeze(1)\n",
    "                # print(batch[0])\n",
    "                # print(x)\n",
    "                x = batch[0]\n",
    "                # print(x, x.shape)\n",
    "                # y = torch.zeros(4, 1)\n",
    "                # y[batch[1]] = 1.0\n",
    "                y = batch[1]\n",
    "                optimizer.zero_grad()\n",
    "                out = self(x, adjacency)\n",
    "                # print(out)\n",
    "                # print(out, y)\n",
    "                # print(\"output\", out, \"y\", y)\n",
    "                loss = criterion(out, y)\n",
    "                avg_loss += loss\n",
    "                count += 1\n",
    "                loss.backward()\n",
    "                optimizer.step()\n",
    "\n",
    "            loss = avg_loss / count\n",
    "            print(\"Loss:\", loss)\n",
    "\n",
    "            # if loss < 0.009:\n",
    "            #     print(\"Loss threshold met.\")\n",
    "            #     break"
   ]
  },
  {
   "cell_type": "code",
   "execution_count": 16,
   "metadata": {},
   "outputs": [
    {
     "name": "stdout",
     "output_type": "stream",
     "text": [
      "VanillaGNN(\n",
      "  (gnn1): VanillaGNNLayer(\n",
      "    (linear): Linear(in_features=1, out_features=64, bias=False)\n",
      "  )\n",
      "  (gnn2): VanillaGNNLayer(\n",
      "    (linear): Linear(in_features=64, out_features=1, bias=False)\n",
      "  )\n",
      ")\n",
      "Loss: tensor(1.1616, grad_fn=<DivBackward0>)\n",
      "Loss: tensor(1.0242, grad_fn=<DivBackward0>)\n",
      "Loss: tensor(1.0606, grad_fn=<DivBackward0>)\n",
      "Loss: tensor(1.0937, grad_fn=<DivBackward0>)\n",
      "Loss: tensor(1.0818, grad_fn=<DivBackward0>)\n",
      "Loss: tensor(1.0497, grad_fn=<DivBackward0>)\n",
      "Loss: tensor(1.0259, grad_fn=<DivBackward0>)\n",
      "Loss: tensor(1.0278, grad_fn=<DivBackward0>)\n",
      "Loss: tensor(1.0467, grad_fn=<DivBackward0>)\n",
      "Loss: tensor(1.0560, grad_fn=<DivBackward0>)\n",
      "Loss: tensor(1.0470, grad_fn=<DivBackward0>)\n",
      "Loss: tensor(1.0316, grad_fn=<DivBackward0>)\n",
      "Loss: tensor(1.0235, grad_fn=<DivBackward0>)\n",
      "Loss: tensor(1.0264, grad_fn=<DivBackward0>)\n",
      "Loss: tensor(1.0340, grad_fn=<DivBackward0>)\n",
      "Loss: tensor(1.0389, grad_fn=<DivBackward0>)\n",
      "Loss: tensor(1.0375, grad_fn=<DivBackward0>)\n",
      "Loss: tensor(1.0315, grad_fn=<DivBackward0>)\n",
      "Loss: tensor(1.0254, grad_fn=<DivBackward0>)\n",
      "Loss: tensor(1.0234, grad_fn=<DivBackward0>)\n",
      "Loss: tensor(1.0262, grad_fn=<DivBackward0>)\n",
      "Loss: tensor(1.0302, grad_fn=<DivBackward0>)\n",
      "Loss: tensor(1.0312, grad_fn=<DivBackward0>)\n",
      "Loss: tensor(1.0286, grad_fn=<DivBackward0>)\n",
      "Loss: tensor(1.0250, grad_fn=<DivBackward0>)\n",
      "Loss: tensor(1.0234, grad_fn=<DivBackward0>)\n",
      "Loss: tensor(1.0242, grad_fn=<DivBackward0>)\n",
      "Loss: tensor(1.0262, grad_fn=<DivBackward0>)\n",
      "Loss: tensor(1.0273, grad_fn=<DivBackward0>)\n",
      "Loss: tensor(1.0267, grad_fn=<DivBackward0>)\n",
      "Loss: tensor(1.0250, grad_fn=<DivBackward0>)\n",
      "Loss: tensor(1.0236, grad_fn=<DivBackward0>)\n",
      "Loss: tensor(1.0235, grad_fn=<DivBackward0>)\n",
      "Loss: tensor(1.0245, grad_fn=<DivBackward0>)\n",
      "Loss: tensor(1.0254, grad_fn=<DivBackward0>)\n",
      "Loss: tensor(1.0253, grad_fn=<DivBackward0>)\n",
      "Loss: tensor(1.0244, grad_fn=<DivBackward0>)\n",
      "Loss: tensor(1.0235, grad_fn=<DivBackward0>)\n",
      "Loss: tensor(1.0234, grad_fn=<DivBackward0>)\n",
      "Loss: tensor(1.0239, grad_fn=<DivBackward0>)\n",
      "Loss: tensor(1.0244, grad_fn=<DivBackward0>)\n",
      "Loss: tensor(1.0244, grad_fn=<DivBackward0>)\n",
      "Loss: tensor(1.0239, grad_fn=<DivBackward0>)\n",
      "Loss: tensor(1.0235, grad_fn=<DivBackward0>)\n",
      "Loss: tensor(1.0234, grad_fn=<DivBackward0>)\n",
      "Loss: tensor(1.0237, grad_fn=<DivBackward0>)\n",
      "Loss: tensor(1.0240, grad_fn=<DivBackward0>)\n",
      "Loss: tensor(1.0239, grad_fn=<DivBackward0>)\n",
      "Loss: tensor(1.0236, grad_fn=<DivBackward0>)\n",
      "Loss: tensor(1.0234, grad_fn=<DivBackward0>)\n",
      "Loss: tensor(1.0234, grad_fn=<DivBackward0>)\n"
     ]
    }
   ],
   "source": [
    "gnn = VanillaGNN(1, 64, 1)\n",
    "print(gnn)\n",
    "gnn.fit(data_loader, epochs=50)"
   ]
  },
  {
   "cell_type": "code",
   "execution_count": 17,
   "metadata": {},
   "outputs": [],
   "source": [
    "# out = gnn(torch.tensor([[3.], [2.], [2.], [2.]]), adjacency)\n",
    "# print(out)"
   ]
  },
  {
   "cell_type": "code",
   "execution_count": 18,
   "metadata": {},
   "outputs": [
    {
     "name": "stdout",
     "output_type": "stream",
     "text": [
      "y tensor([3, 2, 2, 1, 2, 1, 1, 0, 0, 1, 1, 2, 1, 2, 2, 3, 0, 0, 0, 0, 0, 0, 0, 0,\n",
      "        0, 0, 0, 0, 0, 0, 0, 0]) predicted tensor([0, 0, 0, 0, 0, 0, 0, 0, 0, 0, 0, 0, 0, 0, 0, 0, 0, 0, 0, 0, 0, 0, 0, 0,\n",
      "        0, 0, 0, 0, 0, 0, 0, 0])\n"
     ]
    }
   ],
   "source": [
    "for batch in data_loader:\n",
    "    x = batch[0]\n",
    "    y = batch[1]\n",
    "    predicted = gnn(x, adjacency).argmax(dim=1)\n",
    "    print(\"y\", y, \"predicted\", predicted)"
   ]
  },
  {
   "cell_type": "code",
   "execution_count": null,
   "metadata": {},
   "outputs": [],
   "source": []
  }
 ],
 "metadata": {
  "kernelspec": {
   "display_name": "cvf",
   "language": "python",
   "name": "python3"
  },
  "language_info": {
   "codemirror_mode": {
    "name": "ipython",
    "version": 3
   },
   "file_extension": ".py",
   "mimetype": "text/x-python",
   "name": "python",
   "nbconvert_exporter": "python",
   "pygments_lexer": "ipython3",
   "version": "3.12.2"
  }
 },
 "nbformat": 4,
 "nbformat_minor": 2
}
