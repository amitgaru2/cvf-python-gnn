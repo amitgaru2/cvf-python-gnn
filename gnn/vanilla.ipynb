{
 "cells": [
  {
   "cell_type": "code",
   "execution_count": 1,
   "metadata": {},
   "outputs": [],
   "source": [
    "import torch\n",
    "\n",
    "from torch_geometric.data import Data\n",
    "from torch.utils.data import DataLoader\n",
    "from torch_geometric.utils import to_dense_adj"
   ]
  },
  {
   "cell_type": "code",
   "execution_count": 2,
   "metadata": {},
   "outputs": [],
   "source": [
    "from helpers import CVFConfigDataset"
   ]
  },
  {
   "cell_type": "code",
   "execution_count": 3,
   "metadata": {},
   "outputs": [],
   "source": [
    "class VanillaGNNLayer(torch.nn.Module):\n",
    "    def __init__(self, dim_in, dim_out):\n",
    "        super().__init__()\n",
    "        self.linear = torch.nn.Linear(dim_in, dim_out, bias=False)\n",
    "\n",
    "    def forward(self, x, adjacency):\n",
    "        x = self.linear(x)\n",
    "        # print(adjacency.shape, x.shape)\n",
    "        # print(x)\n",
    "        x = torch.sparse.mm(adjacency, x)\n",
    "        return x"
   ]
  },
  {
   "cell_type": "code",
   "execution_count": 4,
   "metadata": {},
   "outputs": [],
   "source": [
    "dataset = CVFConfigDataset()\n",
    "data_loader = DataLoader(dataset, batch_size=1, shuffle=False)"
   ]
  },
  {
   "cell_type": "code",
   "execution_count": 5,
   "metadata": {},
   "outputs": [],
   "source": [
    "edge_index = torch.tensor([\n",
    "    [0, 1],\n",
    "    [0, 2],\n",
    "    [0, 3],\n",
    "    [1, 0],\n",
    "    [2, 0],\n",
    "    [3, 0]\n",
    "], dtype=torch.long)\n",
    "\n",
    "# # x = torch.tensor([[0], [0], [0], [0]], dtype=torch.float) # configs: [0, 0, 0, 0], [1, 1, 1, 1]\n",
    "# x = torch.tensor([[0, 1], [0, 1], [0, 1], [0, 1]], dtype=torch.float) # configs: [0, 0, 0, 0], [1, 1, 1, 1]\n",
    "\n",
    "# y = torch.tensor([[3.0, 1.0]]) # ranks\n",
    "\n",
    "# data = Data(x=x, edge_index=edge_index.t().contiguous(), y=y)\n",
    "# data.train_mask = torch.tensor([1 for _ in range(len(x))])"
   ]
  },
  {
   "cell_type": "code",
   "execution_count": 6,
   "metadata": {},
   "outputs": [
    {
     "data": {
      "text/plain": [
       "tensor([[1., 1., 1., 1.],\n",
       "        [1., 1., 0., 0.],\n",
       "        [1., 0., 1., 0.],\n",
       "        [1., 0., 0., 1.]])"
      ]
     },
     "execution_count": 6,
     "metadata": {},
     "output_type": "execute_result"
    }
   ],
   "source": [
    "adjacency = to_dense_adj(edge_index.t().contiguous())[0]\n",
    "adjacency += torch.eye(len(adjacency))\n",
    "adjacency"
   ]
  },
  {
   "cell_type": "code",
   "execution_count": 7,
   "metadata": {},
   "outputs": [],
   "source": [
    "class VanillaGNN(torch.nn.Module):\n",
    "    def __init__(self, dim_in, dim_h, dim_out):\n",
    "        super().__init__()\n",
    "        self.gnn1 = VanillaGNNLayer(dim_in, dim_h)\n",
    "        self.gnn2 = VanillaGNNLayer(dim_h, dim_h)\n",
    "        self.out = torch.nn.Linear(dim_h, dim_out)\n",
    "    \n",
    "    def forward(self, x, adjacency):\n",
    "        h = self.gnn1(x, adjacency)\n",
    "        h = torch.tanh(h)\n",
    "        h = self.gnn2(h, adjacency)\n",
    "        h = torch.tanh(h)\n",
    "        h = self.out(h)\n",
    "        return torch.sum(h, dim=0)\n",
    "    \n",
    "    def fit(self, data_loader, epochs):\n",
    "        criterion = torch.nn.MSELoss()\n",
    "        optimizer = torch.optim.Adam(self.parameters(), lr=0.01, weight_decay=5e-4)\n",
    "        self.train()\n",
    "        for epoch in range(epochs+1):\n",
    "            for batch in data_loader:\n",
    "                x = batch[0][0]\n",
    "                y = batch[1]\n",
    "                optimizer.zero_grad()\n",
    "                out = self(x, adjacency)\n",
    "                loss = criterion(out, y)\n",
    "                loss.backward()\n",
    "                optimizer.step()\n",
    "            \n",
    "            # if loss < 0.009:\n",
    "            #     print(\"Loss threshold met.\")\n",
    "            #     break\n",
    "            print(\"Loss:\", loss)\n"
   ]
  },
  {
   "cell_type": "code",
   "execution_count": 8,
   "metadata": {},
   "outputs": [
    {
     "name": "stdout",
     "output_type": "stream",
     "text": [
      "VanillaGNN(\n",
      "  (gnn1): VanillaGNNLayer(\n",
      "    (linear): Linear(in_features=1, out_features=32, bias=False)\n",
      "  )\n",
      "  (gnn2): VanillaGNNLayer(\n",
      "    (linear): Linear(in_features=32, out_features=32, bias=False)\n",
      "  )\n",
      "  (out): Linear(in_features=32, out_features=1, bias=True)\n",
      ")\n",
      "Loss: tensor(0.0189, grad_fn=<MseLossBackward0>)\n",
      "Loss: tensor(0.1502, grad_fn=<MseLossBackward0>)\n",
      "Loss: tensor(0.0372, grad_fn=<MseLossBackward0>)\n",
      "Loss: tensor(0.1043, grad_fn=<MseLossBackward0>)\n",
      "Loss: tensor(0.0659, grad_fn=<MseLossBackward0>)\n",
      "Loss: tensor(0.0636, grad_fn=<MseLossBackward0>)\n",
      "Loss: tensor(0.0326, grad_fn=<MseLossBackward0>)\n",
      "Loss: tensor(0.1249, grad_fn=<MseLossBackward0>)\n",
      "Loss: tensor(0.0574, grad_fn=<MseLossBackward0>)\n",
      "Loss: tensor(0.1177, grad_fn=<MseLossBackward0>)\n",
      "Loss: tensor(0.0644, grad_fn=<MseLossBackward0>)\n",
      "Loss: tensor(0.0800, grad_fn=<MseLossBackward0>)\n",
      "Loss: tensor(0.0112, grad_fn=<MseLossBackward0>)\n",
      "Loss: tensor(0.0312, grad_fn=<MseLossBackward0>)\n",
      "Loss: tensor(0.0461, grad_fn=<MseLossBackward0>)\n",
      "Loss: tensor(0.0764, grad_fn=<MseLossBackward0>)\n",
      "Loss: tensor(0.0577, grad_fn=<MseLossBackward0>)\n",
      "Loss: tensor(0.0655, grad_fn=<MseLossBackward0>)\n",
      "Loss: tensor(0.0278, grad_fn=<MseLossBackward0>)\n",
      "Loss: tensor(0.0395, grad_fn=<MseLossBackward0>)\n",
      "Loss: tensor(0.0640, grad_fn=<MseLossBackward0>)\n",
      "Loss: tensor(0.0150, grad_fn=<MseLossBackward0>)\n",
      "Loss: tensor(0.0391, grad_fn=<MseLossBackward0>)\n",
      "Loss: tensor(0.1576, grad_fn=<MseLossBackward0>)\n",
      "Loss: tensor(0.1354, grad_fn=<MseLossBackward0>)\n",
      "Loss: tensor(0.1294, grad_fn=<MseLossBackward0>)\n",
      "Loss: tensor(0.2945, grad_fn=<MseLossBackward0>)\n",
      "Loss: tensor(0.2002, grad_fn=<MseLossBackward0>)\n",
      "Loss: tensor(0.1274, grad_fn=<MseLossBackward0>)\n",
      "Loss: tensor(0.0539, grad_fn=<MseLossBackward0>)\n",
      "Loss: tensor(0.0122, grad_fn=<MseLossBackward0>)\n",
      "Loss: tensor(0.0987, grad_fn=<MseLossBackward0>)\n",
      "Loss: tensor(0.0712, grad_fn=<MseLossBackward0>)\n",
      "Loss: tensor(0.0211, grad_fn=<MseLossBackward0>)\n",
      "Loss: tensor(0.0012, grad_fn=<MseLossBackward0>)\n",
      "Loss: tensor(0.1315, grad_fn=<MseLossBackward0>)\n",
      "Loss: tensor(0.1653, grad_fn=<MseLossBackward0>)\n",
      "Loss: tensor(0.2483, grad_fn=<MseLossBackward0>)\n",
      "Loss: tensor(0.0995, grad_fn=<MseLossBackward0>)\n",
      "Loss: tensor(0.0146, grad_fn=<MseLossBackward0>)\n",
      "Loss: tensor(0.1449, grad_fn=<MseLossBackward0>)\n",
      "Loss: tensor(0.1546, grad_fn=<MseLossBackward0>)\n",
      "Loss: tensor(0.0391, grad_fn=<MseLossBackward0>)\n",
      "Loss: tensor(0.0286, grad_fn=<MseLossBackward0>)\n",
      "Loss: tensor(0.1394, grad_fn=<MseLossBackward0>)\n",
      "Loss: tensor(0.1470, grad_fn=<MseLossBackward0>)\n",
      "Loss: tensor(0.1188, grad_fn=<MseLossBackward0>)\n",
      "Loss: tensor(0.0066, grad_fn=<MseLossBackward0>)\n",
      "Loss: tensor(8.4878e-05, grad_fn=<MseLossBackward0>)\n",
      "Loss: tensor(0.1255, grad_fn=<MseLossBackward0>)\n",
      "Loss: tensor(0.0123, grad_fn=<MseLossBackward0>)\n"
     ]
    }
   ],
   "source": [
    "gnn = VanillaGNN(1, 32, 1)\n",
    "print(gnn)\n",
    "gnn.fit(data_loader, epochs=50)"
   ]
  },
  {
   "cell_type": "code",
   "execution_count": 16,
   "metadata": {},
   "outputs": [
    {
     "name": "stdout",
     "output_type": "stream",
     "text": [
      "tensor([0.0318], grad_fn=<SumBackward1>)\n"
     ]
    }
   ],
   "source": [
    "out = gnn(torch.tensor([[3.], [1.], [1.], [0.]]), adjacency)\n",
    "print(out)"
   ]
  },
  {
   "cell_type": "code",
   "execution_count": null,
   "metadata": {},
   "outputs": [],
   "source": []
  }
 ],
 "metadata": {
  "kernelspec": {
   "display_name": "cvf",
   "language": "python",
   "name": "python3"
  },
  "language_info": {
   "codemirror_mode": {
    "name": "ipython",
    "version": 3
   },
   "file_extension": ".py",
   "mimetype": "text/x-python",
   "name": "python",
   "nbconvert_exporter": "python",
   "pygments_lexer": "ipython3",
   "version": "3.12.2"
  }
 },
 "nbformat": 4,
 "nbformat_minor": 2
}
