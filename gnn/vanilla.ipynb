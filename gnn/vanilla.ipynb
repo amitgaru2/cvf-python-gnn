{
 "cells": [
  {
   "cell_type": "code",
   "execution_count": 1,
   "metadata": {},
   "outputs": [],
   "source": [
    "import torch\n",
    "\n",
    "from torch_geometric.utils import to_dense_adj\n",
    "from torch_geometric.nn.pool import global_mean_pool\n",
    "from torch.utils.data import DataLoader, random_split\n"
   ]
  },
  {
   "cell_type": "code",
   "execution_count": 2,
   "metadata": {},
   "outputs": [],
   "source": [
    "from helpers import CVFConfigDataset"
   ]
  },
  {
   "cell_type": "code",
   "execution_count": null,
   "metadata": {},
   "outputs": [],
   "source": [
    "class VanillaGNNLayer(torch.nn.Module):\n",
    "    def __init__(self, dim_in, dim_out):\n",
    "        super().__init__()\n",
    "        self.linear = torch.nn.Linear(dim_in, dim_out, bias=False)\n",
    "\n",
    "    def forward(self, x, adjacency):\n",
    "        x = self.linear(x)\n",
    "        # x = torch.sparse.mm(adjacency, x)\n",
    "        x = torch.matmul(adjacency, x)\n",
    "        return x"
   ]
  },
  {
   "cell_type": "code",
   "execution_count": 4,
   "metadata": {},
   "outputs": [],
   "source": [
    "# dataset = CVFConfigDataset(\n",
    "#     \"small_graph_test_config_rank_dataset.csv\", \"small_graph_edge_index.json\", 4\n",
    "# )\n",
    "# dataset = CVFConfigDataset(\n",
    "#     \"graph_1_config_rank_dataset.csv\", \"graph_1_edge_index.json\", 10\n",
    "# )\n",
    "# dataset = CVFConfigDataset(\n",
    "#     \"graph_3_config_rank_dataset.csv\", \"graph_3_edge_index.json\", 6\n",
    "# )\n",
    "# dataset = CVFConfigDataset(\n",
    "#     \"graph_4_config_rank_dataset.csv\", \"graph_4_edge_index.json\", 10\n",
    "# )\n",
    "# dataset = CVFConfigDataset(\n",
    "#     \"graph_5_config_rank_dataset.csv\", \"graph_5_edge_index.json\", 9\n",
    "# )\n",
    "# dataset = CVFConfigDataset(\n",
    "#     \"graph_6_config_rank_dataset.csv\", \"graph_6_edge_index.json\", 5\n",
    "# )\n",
    "# dataset = CVFConfigDataset(\n",
    "#     \"graph_6b_config_rank_dataset.csv\", \"graph_6b_edge_index.json\", 5\n",
    "# )\n",
    "# dataset = CVFConfigDataset(\n",
    "#     \"graph_7_config_rank_dataset.csv\", \"graph_7_edge_index.json\", 6\n",
    "# )\n",
    "# dataset = CVFConfigDataset(\n",
    "#     \"graph_8_config_rank_dataset.csv\", \"graph_8_edge_index.json\", 7\n",
    "# )\n",
    "# dataset = CVFConfigDataset(\n",
    "#     \"graph_powerlaw_cluster_graph_n5_config_rank_dataset.csv\", \"graph_powerlaw_cluster_graph_n5_edge_index.json\", 5\n",
    "# )\n",
    "# dataset = CVFConfigDataset(\n",
    "#     \"graph_powerlaw_cluster_graph_n6_config_rank_dataset.csv\", \"graph_powerlaw_cluster_graph_n6_edge_index.json\", 6\n",
    "# )\n",
    "# dataset = CVFConfigDataset(\n",
    "#     \"graph_powerlaw_cluster_graph_n7_config_rank_dataset.csv\", \"graph_powerlaw_cluster_graph_n7_edge_index.json\", 6\n",
    "# )\n",
    "# dataset = CVFConfigDataset(\n",
    "#     \"graph_powerlaw_cluster_graph_n8_config_rank_dataset.csv\",\n",
    "#     \"graph_powerlaw_cluster_graph_n8_edge_index.json\",\n",
    "#     8\n",
    "# )\n",
    "# dataset = CVFConfigDataset(\n",
    "#     \"graph_powerlaw_cluster_graph_n9_config_rank_dataset.csv\",\n",
    "#     \"graph_powerlaw_cluster_graph_n9_edge_index.json\",\n",
    "#     8\n",
    "# )\n",
    "# dataset = CVFConfigDataset(\n",
    "#     \"graph_powerlaw_cluster_graph_n12_config_rank_dataset.csv\",\n",
    "#     \"graph_powerlaw_cluster_graph_n12_edge_index.json\",\n",
    "#     10\n",
    "# )\n",
    "\n",
    "dataset = CVFConfigDataset(\n",
    "    \"implicit_graph_n10_config_rank_dataset.csv\",\n",
    "    \"implicit_graph_n10_edge_index.json\",\n",
    "    3\n",
    ")\n",
    "\n",
    "train_size = int(0.75 * len(dataset))\n",
    "test_size = len(dataset) - train_size\n",
    "train_dataset, test_dataset = random_split(dataset, [train_size, test_size])\n",
    "\n",
    "train_loader = DataLoader(train_dataset, batch_size=102400, shuffle=False)\n",
    "test_loader = DataLoader(test_dataset, batch_size=128, shuffle=False)"
   ]
  },
  {
   "cell_type": "code",
   "execution_count": 5,
   "metadata": {},
   "outputs": [
    {
     "data": {
      "text/plain": [
       "device(type='cuda')"
      ]
     },
     "execution_count": 5,
     "metadata": {},
     "output_type": "execute_result"
    }
   ],
   "source": [
    "device = torch.device('cuda' if torch.cuda.is_available() else 'cpu')\n",
    "device"
   ]
  },
  {
   "cell_type": "code",
   "execution_count": 6,
   "metadata": {},
   "outputs": [
    {
     "data": {
      "text/plain": [
       "tensor([[[1., 1., 0., 0., 0., 0., 0., 0., 0., 1.],\n",
       "         [1., 1., 1., 0., 0., 0., 0., 0., 0., 0.],\n",
       "         [0., 1., 1., 1., 0., 0., 0., 0., 0., 0.],\n",
       "         [0., 0., 1., 1., 1., 0., 0., 0., 0., 0.],\n",
       "         [0., 0., 0., 1., 1., 1., 0., 0., 0., 0.],\n",
       "         [0., 0., 0., 0., 1., 1., 1., 0., 0., 0.],\n",
       "         [0., 0., 0., 0., 0., 1., 1., 1., 0., 0.],\n",
       "         [0., 0., 0., 0., 0., 0., 1., 1., 1., 0.],\n",
       "         [0., 0., 0., 0., 0., 0., 0., 1., 1., 1.],\n",
       "         [1., 0., 0., 0., 0., 0., 0., 0., 1., 1.]]], device='cuda:0')"
      ]
     },
     "execution_count": 6,
     "metadata": {},
     "output_type": "execute_result"
    }
   ],
   "source": [
    "adjacency = to_dense_adj(dataset.edge_index.t().contiguous())[0]\n",
    "adjacency += torch.eye(len(adjacency))\n",
    "adjacency = adjacency.unsqueeze(0).to(device)\n",
    "adjacency"
   ]
  },
  {
   "cell_type": "code",
   "execution_count": 7,
   "metadata": {},
   "outputs": [],
   "source": [
    "class VanillaGNN(torch.nn.Module):\n",
    "    def __init__(self, dim_in, dim_h, dim_out):\n",
    "        super().__init__()\n",
    "        self.gnn1 = VanillaGNNLayer(dim_in, dim_h)\n",
    "        self.gnn2 = VanillaGNNLayer(dim_h, dim_h)\n",
    "        self.out = torch.nn.Linear(dim_h, dim_out)\n",
    "\n",
    "    def forward(self, x, adjacency):\n",
    "        h = self.gnn1(x, adjacency)\n",
    "        h = torch.relu(h)\n",
    "        h = self.gnn2(h, adjacency)\n",
    "        h = torch.relu(h)\n",
    "        h = self.out(h)\n",
    "        h = global_mean_pool(h, torch.zeros(h.size(1)).to(device).long())\n",
    "        # h = torch.sigmoid(h)\n",
    "        # h = h.squeeze(-1)\n",
    "        return h\n",
    "\n",
    "    def fit(self, data_loader, epochs):\n",
    "        # criterion = torch.nn.CrossEntropyLoss()\n",
    "        criterion = torch.nn.MSELoss()\n",
    "        optimizer = torch.optim.Adam(self.parameters(), lr=0.01, weight_decay=5e-4)\n",
    "        for epoch in range(1, epochs + 1):\n",
    "            self.train()\n",
    "            avg_loss = 0\n",
    "            count = 0\n",
    "            for batch in data_loader:\n",
    "                x = batch[0].to(device)\n",
    "                y = batch[1].to(device)\n",
    "                # y = y.reshape(-1, 1)\n",
    "                y = y.unsqueeze(0).reshape(-1, 1, 1).float()\n",
    "                optimizer.zero_grad()\n",
    "                out = self(x, adjacency)\n",
    "                # print(\"output\", out, \"y\", y)\n",
    "                loss = criterion(out, y)\n",
    "                avg_loss += loss\n",
    "                count += 1\n",
    "                loss.backward()\n",
    "                optimizer.step()\n",
    "\n",
    "            print(\"Loss:\", avg_loss / count)\n"
   ]
  },
  {
   "cell_type": "code",
   "execution_count": null,
   "metadata": {},
   "outputs": [
    {
     "name": "stdout",
     "output_type": "stream",
     "text": [
      "VanillaGNN(\n",
      "  (gnn1): VanillaGNNLayer(\n",
      "    (linear): Linear(in_features=3, out_features=256, bias=False)\n",
      "  )\n",
      "  (gnn2): VanillaGNNLayer(\n",
      "    (linear): Linear(in_features=256, out_features=256, bias=False)\n",
      "  )\n",
      "  (out): Linear(in_features=256, out_features=1, bias=True)\n",
      ")\n",
      "Loss: tensor(4673.3599, device='cuda:0', grad_fn=<DivBackward0>)\n",
      "Loss: tensor(3229.7095, device='cuda:0', grad_fn=<DivBackward0>)\n",
      "Loss: tensor(1771.0663, device='cuda:0', grad_fn=<DivBackward0>)\n",
      "Loss: tensor(649.8027, device='cuda:0', grad_fn=<DivBackward0>)\n",
      "Loss: tensor(852.4231, device='cuda:0', grad_fn=<DivBackward0>)\n",
      "Loss: tensor(1538.6804, device='cuda:0', grad_fn=<DivBackward0>)\n",
      "Loss: tensor(1237.9885, device='cuda:0', grad_fn=<DivBackward0>)\n",
      "Loss: tensor(718.0177, device='cuda:0', grad_fn=<DivBackward0>)\n",
      "Loss: tensor(505.8555, device='cuda:0', grad_fn=<DivBackward0>)\n",
      "Loss: tensor(607.6956, device='cuda:0', grad_fn=<DivBackward0>)\n",
      "Loss: tensor(790.2056, device='cuda:0', grad_fn=<DivBackward0>)\n",
      "Loss: tensor(886.7863, device='cuda:0', grad_fn=<DivBackward0>)\n",
      "Loss: tensor(866.5634, device='cuda:0', grad_fn=<DivBackward0>)\n",
      "Loss: tensor(762.1862, device='cuda:0', grad_fn=<DivBackward0>)\n",
      "Loss: tensor(627.1356, device='cuda:0', grad_fn=<DivBackward0>)\n",
      "Loss: tensor(519.4121, device='cuda:0', grad_fn=<DivBackward0>)\n",
      "Loss: tensor(483.4427, device='cuda:0', grad_fn=<DivBackward0>)\n",
      "Loss: tensor(525.9716, device='cuda:0', grad_fn=<DivBackward0>)\n",
      "Loss: tensor(600.5421, device='cuda:0', grad_fn=<DivBackward0>)\n",
      "Loss: tensor(636.4839, device='cuda:0', grad_fn=<DivBackward0>)\n",
      "Loss: tensor(603.4734, device='cuda:0', grad_fn=<DivBackward0>)\n",
      "Loss: tensor(533.4391, device='cuda:0', grad_fn=<DivBackward0>)\n",
      "Loss: tensor(478.2833, device='cuda:0', grad_fn=<DivBackward0>)\n",
      "Loss: tensor(464.9735, device='cuda:0', grad_fn=<DivBackward0>)\n",
      "Loss: tensor(485.8785, device='cuda:0', grad_fn=<DivBackward0>)\n",
      "Loss: tensor(515.5012, device='cuda:0', grad_fn=<DivBackward0>)\n"
     ]
    }
   ],
   "source": [
    "gnn = VanillaGNN(dataset.num_classes, 256, 1).to(device)\n",
    "print(gnn)\n",
    "\n",
    "gnn.fit(train_loader, epochs=100)"
   ]
  },
  {
   "cell_type": "code",
   "execution_count": null,
   "metadata": {},
   "outputs": [
    {
     "name": "stdout",
     "output_type": "stream",
     "text": [
      "Total matched 305 out of 14763 | Accuracy 2.066 %\n"
     ]
    }
   ],
   "source": [
    "# testing\n",
    "torch.no_grad()\n",
    "torch.set_printoptions(profile=\"full\")\n",
    "\n",
    "total_matched = 0\n",
    "edge_index = dataset.edge_index.t().to(device)\n",
    "\n",
    "for batch in test_loader:\n",
    "    x = batch[0].to(device)\n",
    "    y = batch[1].to(device)\n",
    "    y = y.unsqueeze(0).reshape(-1, 1, 1).float()\n",
    "    predicted = gnn(x, adjacency)\n",
    "    # predicted = predicted.argmax(dim=1)\n",
    "    predicted = torch.round(predicted)\n",
    "    matched = (predicted == y).sum().item()\n",
    "    total_matched += matched\n",
    "    \n",
    "\n",
    "print(\"Total matched\", total_matched, \"out of\", len(test_dataset), \"| Accuracy\", round(total_matched/len(test_dataset) * 100, 4), \"%\")"
   ]
  },
  {
   "cell_type": "code",
   "execution_count": null,
   "metadata": {},
   "outputs": [],
   "source": []
  }
 ],
 "metadata": {
  "kernelspec": {
   "display_name": "cvf",
   "language": "python",
   "name": "python3"
  },
  "language_info": {
   "codemirror_mode": {
    "name": "ipython",
    "version": 3
   },
   "file_extension": ".py",
   "mimetype": "text/x-python",
   "name": "python",
   "nbconvert_exporter": "python",
   "pygments_lexer": "ipython3",
   "version": "3.12.2"
  }
 },
 "nbformat": 4,
 "nbformat_minor": 2
}
