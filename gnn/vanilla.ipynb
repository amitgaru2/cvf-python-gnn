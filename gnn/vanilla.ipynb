{
 "cells": [
  {
   "cell_type": "code",
   "execution_count": 1,
   "metadata": {},
   "outputs": [],
   "source": [
    "import torch\n",
    "\n",
    "from torch.utils.data import DataLoader\n",
    "from torch_geometric.utils import to_dense_adj"
   ]
  },
  {
   "cell_type": "code",
   "execution_count": 2,
   "metadata": {},
   "outputs": [],
   "source": [
    "from helpers import CVFConfigDataset"
   ]
  },
  {
   "cell_type": "code",
   "execution_count": 3,
   "metadata": {},
   "outputs": [],
   "source": [
    "class VanillaGNNLayer(torch.nn.Module):\n",
    "    def __init__(self, dim_in, dim_out):\n",
    "        super().__init__()\n",
    "        self.linear = torch.nn.Linear(dim_in, dim_out, bias=False)\n",
    "\n",
    "    def forward(self, x, adjacency):\n",
    "        x = self.linear(x)\n",
    "        # x = torch.sparse.mm(adjacency, x)\n",
    "        x = torch.matmul(adjacency, x)\n",
    "        return x"
   ]
  },
  {
   "cell_type": "code",
   "execution_count": 4,
   "metadata": {},
   "outputs": [],
   "source": [
    "# dataset = CVFConfigDataset(\"small_graph_test_config_rank_dataset.csv\", \"small_graph_edge_index.json\")\n",
    "# dataset = CVFConfigDataset(\"graph_1_config_rank_dataset.csv\", \"graph_1_edge_index.json\")\n",
    "dataset = CVFConfigDataset(\"graph_4_config_rank_dataset.csv\", \"graph_4_edge_index.json\")\n",
    "data_loader = DataLoader(dataset, batch_size=2048, shuffle=False)"
   ]
  },
  {
   "cell_type": "code",
   "execution_count": 5,
   "metadata": {},
   "outputs": [
    {
     "data": {
      "text/plain": [
       "tensor([[[1., 1., 1., 1., 1., 1., 1., 1., 1., 1.],\n",
       "         [1., 1., 0., 0., 0., 1., 0., 0., 0., 0.],\n",
       "         [1., 0., 1., 0., 0., 1., 0., 0., 0., 0.],\n",
       "         [1., 0., 0., 1., 0., 1., 0., 0., 0., 0.],\n",
       "         [1., 0., 0., 0., 1., 1., 0., 0., 0., 0.],\n",
       "         [1., 1., 1., 1., 1., 1., 1., 1., 1., 1.],\n",
       "         [1., 0., 0., 0., 0., 1., 1., 0., 0., 0.],\n",
       "         [1., 0., 0., 0., 0., 1., 0., 1., 0., 0.],\n",
       "         [1., 0., 0., 0., 0., 1., 0., 0., 1., 0.],\n",
       "         [1., 0., 0., 0., 0., 1., 0., 0., 0., 1.]]])"
      ]
     },
     "execution_count": 5,
     "metadata": {},
     "output_type": "execute_result"
    }
   ],
   "source": [
    "adjacency = to_dense_adj(dataset.edge_index.t().contiguous())[0]\n",
    "adjacency += torch.eye(len(adjacency))\n",
    "adjacency = adjacency.unsqueeze(0)\n",
    "adjacency"
   ]
  },
  {
   "cell_type": "code",
   "execution_count": 6,
   "metadata": {},
   "outputs": [],
   "source": [
    "class VanillaGNN(torch.nn.Module):\n",
    "    def __init__(self, dim_in, dim_h, dim_out):\n",
    "        super().__init__()\n",
    "        self.gnn1 = VanillaGNNLayer(dim_in, dim_h)\n",
    "        self.gnn2 = VanillaGNNLayer(dim_h, dim_out)\n",
    "        # self.out = torch.nn.Linear(dim_h, dim_out)\n",
    "\n",
    "    def forward(self, x, adjacency):\n",
    "        h = self.gnn1(x, adjacency)\n",
    "        h = torch.relu(h)\n",
    "        h = self.gnn2(h, adjacency)\n",
    "        # h = torch.sigmoid(h)\n",
    "        h = h.squeeze(-1)\n",
    "        return h\n",
    "\n",
    "    def fit(self, data_loader, epochs):\n",
    "        criterion = torch.nn.CrossEntropyLoss()\n",
    "        optimizer = torch.optim.Adam(self.parameters(), lr=0.01, weight_decay=5e-4)\n",
    "        self.train()\n",
    "        for epoch in range(epochs + 1):\n",
    "            avg_loss = 0\n",
    "            count = 0\n",
    "            for batch in data_loader:\n",
    "                x = batch[0]\n",
    "                y = batch[1]\n",
    "                optimizer.zero_grad()\n",
    "                out = self(x, adjacency)\n",
    "                # print(\"output\", out, \"y\", y)\n",
    "                loss = criterion(out, y)\n",
    "                avg_loss += loss\n",
    "                count += 1\n",
    "                loss.backward()\n",
    "                optimizer.step()\n",
    "\n",
    "            print(\"Loss:\", avg_loss / count)\n"
   ]
  },
  {
   "cell_type": "code",
   "execution_count": null,
   "metadata": {},
   "outputs": [
    {
     "name": "stdout",
     "output_type": "stream",
     "text": [
      "VanillaGNN(\n",
      "  (gnn1): VanillaGNNLayer(\n",
      "    (linear): Linear(in_features=10, out_features=128, bias=False)\n",
      "  )\n",
      "  (gnn2): VanillaGNNLayer(\n",
      "    (linear): Linear(in_features=128, out_features=1, bias=False)\n",
      "  )\n",
      ")\n",
      "Loss: tensor(1.8976, grad_fn=<DivBackward0>)\n",
      "Loss: tensor(1.6971, grad_fn=<DivBackward0>)\n",
      "Loss: tensor(1.6232, grad_fn=<DivBackward0>)\n",
      "Loss: tensor(1.6105, grad_fn=<DivBackward0>)\n",
      "Loss: tensor(1.6122, grad_fn=<DivBackward0>)\n",
      "Loss: tensor(1.6140, grad_fn=<DivBackward0>)\n"
     ]
    }
   ],
   "source": [
    "gnn = VanillaGNN(dataset.num_classes, 64, 1)\n",
    "print(gnn)\n",
    "\n",
    "gnn.fit(data_loader, epochs=5)"
   ]
  },
  {
   "cell_type": "code",
   "execution_count": 8,
   "metadata": {},
   "outputs": [
    {
     "name": "stdout",
     "output_type": "stream",
     "text": [
      "Total matched 323512\n"
     ]
    }
   ],
   "source": [
    "torch.set_printoptions(profile=\"full\")\n",
    "\n",
    "total_matched = 0\n",
    "\n",
    "for batch in data_loader:\n",
    "    x = batch[0]\n",
    "    y = batch[1]\n",
    "    predicted = gnn(x, adjacency)\n",
    "    predicted = predicted.argmax(dim=1)\n",
    "    matched = (predicted == y).sum().item()\n",
    "    total_matched += matched\n",
    "    # print(\"y\", y, \"predicted\", predicted, \"Matched\", matched)\n",
    "\n",
    "print(\"Total matched\", total_matched)"
   ]
  },
  {
   "cell_type": "code",
   "execution_count": 9,
   "metadata": {},
   "outputs": [
    {
     "data": {
      "text/plain": [
       "0.4930833714372809"
      ]
     },
     "execution_count": 9,
     "metadata": {},
     "output_type": "execute_result"
    }
   ],
   "source": [
    "total_matched/len(dataset)"
   ]
  },
  {
   "cell_type": "code",
   "execution_count": null,
   "metadata": {},
   "outputs": [],
   "source": []
  }
 ],
 "metadata": {
  "kernelspec": {
   "display_name": "cvf",
   "language": "python",
   "name": "python3"
  },
  "language_info": {
   "codemirror_mode": {
    "name": "ipython",
    "version": 3
   },
   "file_extension": ".py",
   "mimetype": "text/x-python",
   "name": "python",
   "nbconvert_exporter": "python",
   "pygments_lexer": "ipython3",
   "version": "3.12.2"
  }
 },
 "nbformat": 4,
 "nbformat_minor": 2
}
