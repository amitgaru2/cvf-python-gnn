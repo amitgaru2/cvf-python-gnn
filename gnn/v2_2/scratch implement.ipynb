{
 "cells": [
  {
   "cell_type": "code",
   "execution_count": 1,
   "metadata": {},
   "outputs": [],
   "source": [
    "import itertools\n",
    "\n",
    "import torch\n",
    "import torch.nn as nn\n",
    "\n",
    "from torch_geometric.nn.pool import global_mean_pool"
   ]
  },
  {
   "cell_type": "code",
   "execution_count": 2,
   "metadata": {},
   "outputs": [],
   "source": [
    "from helpers_wo_embedding import CVFConfigDataset\n",
    "\n",
    "from torch.utils.data import DataLoader, random_split"
   ]
  },
  {
   "cell_type": "code",
   "execution_count": 3,
   "metadata": {},
   "outputs": [
    {
     "data": {
      "text/plain": [
       "device(type='cuda')"
      ]
     },
     "execution_count": 3,
     "metadata": {},
     "output_type": "execute_result"
    }
   ],
   "source": [
    "device = torch.device('cuda' if torch.cuda.is_available() else 'cpu')\n",
    "device"
   ]
  },
  {
   "cell_type": "code",
   "execution_count": 4,
   "metadata": {},
   "outputs": [],
   "source": [
    "# torch.manual_seed(20)\n",
    "# for same weight re-initialization"
   ]
  },
  {
   "cell_type": "code",
   "execution_count": 5,
   "metadata": {},
   "outputs": [],
   "source": [
    "dataset_random_regular_n4 = CVFConfigDataset(\n",
    "    \"coloring\",\n",
    "    \"graph_random_regular_graph_n4_d3_config_rank_dataset.csv\",\n",
    "    \"graph_random_regular_graph_n4_d3_A.json\",\n",
    "    4,\n",
    ")\n",
    "\n",
    "dataset_random_regular_n5 = CVFConfigDataset(\n",
    "    \"coloring\",\n",
    "    \"graph_random_regular_graph_n5_d4_config_rank_dataset.csv\",\n",
    "    \"graph_random_regular_graph_n5_d4_A.json\",\n",
    "    5,\n",
    ")\n",
    "\n",
    "dataset_random_regular_n6 = CVFConfigDataset(\n",
    "    \"coloring\",\n",
    "    \"graph_random_regular_graph_n6_d3_config_rank_dataset.csv\",\n",
    "    \"graph_random_regular_graph_n6_d3_A.json\",\n",
    "    6,\n",
    ")\n",
    "\n",
    "dataset_random_regular_n7 = CVFConfigDataset(\n",
    "    \"coloring\",\n",
    "    \"graph_random_regular_graph_n7_d4_config_rank_dataset.csv\",\n",
    "    \"graph_random_regular_graph_n7_d4_A.json\",\n",
    "    7,\n",
    ")\n",
    "\n",
    "dataset_random_regular_n8 = CVFConfigDataset(\n",
    "    \"coloring\",\n",
    "    \"graph_random_regular_graph_n8_d4_config_rank_dataset.csv\",\n",
    "    \"graph_random_regular_graph_n8_d4_A.json\",\n",
    "    8,\n",
    ")"
   ]
  },
  {
   "cell_type": "code",
   "execution_count": 6,
   "metadata": {},
   "outputs": [],
   "source": [
    "dataset_coll = [dataset_random_regular_n4, dataset_random_regular_n5, dataset_random_regular_n6, dataset_random_regular_n7, dataset_random_regular_n8]\n",
    "\n",
    "batch_size = 50"
   ]
  },
  {
   "cell_type": "code",
   "execution_count": 7,
   "metadata": {},
   "outputs": [],
   "source": [
    "train_loaders = []\n",
    "test_loaders = []\n",
    "\n",
    "for dataset in dataset_coll:\n",
    "    train_size = int(0.8 * len(dataset))\n",
    "    test_size = len(dataset) - train_size\n",
    "    train_dataset, test_dataset = random_split(dataset, [train_size, test_size])\n",
    "    train_loader = DataLoader(train_dataset, batch_size=batch_size, shuffle=True)\n",
    "    test_loader = DataLoader(test_dataset, batch_size=batch_size, shuffle=False)\n",
    "    train_loaders.append(train_loader)\n",
    "    test_loaders.append(test_loader)\n",
    "\n",
    "train_loaders_iter = [iter(i) for i in train_loaders]"
   ]
  },
  {
   "cell_type": "code",
   "execution_count": 8,
   "metadata": {},
   "outputs": [],
   "source": [
    "def generate_batch():\n",
    "    end_loop = [False for _ in range(len(train_loaders))]\n",
    "    while not any(end_loop):\n",
    "        for di, data_loader in enumerate(train_loaders_iter):\n",
    "            if end_loop[di]:\n",
    "                continue\n",
    "            try:\n",
    "                batch = next(data_loader)\n",
    "            except StopIteration:\n",
    "                end_loop[di] = True\n",
    "                continue\n",
    "            yield batch, di"
   ]
  },
  {
   "cell_type": "code",
   "execution_count": 9,
   "metadata": {},
   "outputs": [
    {
     "name": "stdout",
     "output_type": "stream",
     "text": [
      "Number of batches: [5, 50, 66, 1250, 6250]\n"
     ]
    }
   ],
   "source": [
    "print(\"Number of batches:\", [len(i) for i in train_loaders])"
   ]
  },
  {
   "cell_type": "code",
   "execution_count": 10,
   "metadata": {},
   "outputs": [
    {
     "data": {
      "text/plain": [
       "tensor([[0, 1, 1, 0, 1, 0, 1],\n",
       "        [1, 0, 0, 0, 1, 1, 1],\n",
       "        [1, 0, 0, 1, 0, 1, 1],\n",
       "        [0, 0, 1, 0, 1, 1, 1],\n",
       "        [1, 1, 0, 1, 0, 1, 0],\n",
       "        [0, 1, 1, 1, 1, 0, 0],\n",
       "        [1, 1, 1, 1, 0, 0, 0]])"
      ]
     },
     "execution_count": 10,
     "metadata": {},
     "output_type": "execute_result"
    }
   ],
   "source": [
    "train_loaders[3].dataset.dataset.A"
   ]
  },
  {
   "cell_type": "code",
   "execution_count": 11,
   "metadata": {},
   "outputs": [],
   "source": [
    "class GCNConvByHand(nn.Module):\n",
    "    \"\"\"maps D x N to D x N\"\"\"\n",
    "\n",
    "    def __init__(self, dim_in):\n",
    "        super().__init__()\n",
    "        self.linear = torch.nn.Linear(dim_in, dim_in, bias=True)\n",
    "        # torch.nn.init.ones_(self.linear.weight)\n",
    "        # torch.nn.init.ones_(self.linear.bias)\n",
    "        # torch.nn.init.xavier_uniform_(self.linear.weight) \n",
    "\n",
    "    def forward(self, x, A):\n",
    "        num_nodes = A.shape[0]\n",
    "        omega_k = self.linear.weight\n",
    "        beta_k = self.linear.bias.reshape(-1, 1)\n",
    "        # print(\"omega_k\", omega_k.shape, \"beta_k\", beta_k)\n",
    "        # H_k = x\n",
    "        x = torch.matmul(\n",
    "            beta_k, torch.reshape(torch.ones(num_nodes).to(device), (1, -1))\n",
    "        ) + torch.matmul(omega_k, torch.matmul(x, A + torch.eye(num_nodes).to(device)))\n",
    "        return x"
   ]
  },
  {
   "cell_type": "code",
   "execution_count": 12,
   "metadata": {},
   "outputs": [],
   "source": [
    "class GCNByHand(nn.Module):\n",
    "    def __init__(self, N, in_channels, out_channels):\n",
    "        super().__init__()\n",
    "        self.conv1 = GCNConvByHand(in_channels)\n",
    "        self.conv2 = GCNConvByHand(in_channels)\n",
    "        self.linear1 = torch.nn.Linear(N, 16, bias=True)\n",
    "        self.out = torch.nn.Linear(16, out_channels, bias=True)\n",
    "\n",
    "    def forward(self, x, A):\n",
    "        x = self.conv1(x, A)\n",
    "        x = torch.relu(x)\n",
    "        x = self.conv2(x, A)\n",
    "        x = torch.relu(x)\n",
    "        x = self.linear1(x)\n",
    "        x = torch.relu(x)\n",
    "        x = self.out(x)\n",
    "        # x = torch.relu(x)\n",
    "        # x = torch.sigmoid(x) * 7\n",
    "        # print(\"x after output layer\\n\", x)\n",
    "        x = global_mean_pool(\n",
    "            x, torch.zeros(x.size(1)).long().to(device)\n",
    "        )  # all are from graph 0, single graph\n",
    "        return x\n",
    "\n",
    "    def fit(self, epochs):\n",
    "        criterion = torch.nn.MSELoss()\n",
    "        optimizer = torch.optim.Adam(self.parameters(), lr=0.01, weight_decay=0.01)\n",
    "        dataloaders = itertools.tee(generate_batch(), epochs)\n",
    "        for epoch in range(1, epochs + 1):\n",
    "            self.train()\n",
    "            total_loss = 0\n",
    "            count = 0\n",
    "            for batch, _ in dataloaders[epoch - 1]:\n",
    "                x = batch[0].to(device)\n",
    "                y = batch[1].to(device)\n",
    "                y = y.unsqueeze(0).reshape(-1, 1, 1).float()\n",
    "                optimizer.zero_grad()\n",
    "                out = self(x, train_loader.dataset.dataset.A.to(device))\n",
    "                loss = criterion(out, y)\n",
    "                total_loss += loss\n",
    "                loss.backward()\n",
    "                optimizer.step()\n",
    "                count += len(batch[1])\n",
    "\n",
    "            print(\"Training set | Epoch:\", epoch, \"Loss:\", total_loss / count)\n",
    "\n",
    "    def fit_old(self, train_loader, epochs):\n",
    "        criterion = torch.nn.MSELoss()\n",
    "        optimizer = torch.optim.Adam(\n",
    "            self.parameters(), lr=0.01, weight_decay=0.01\n",
    "        )  # weight_decay is a L2 regularization parameter\n",
    "        for epoch in range(1, epochs + 1):\n",
    "            self.train()\n",
    "            total_loss = 0\n",
    "            count = 0\n",
    "            for batch in train_loader:\n",
    "                x = batch[0].to(device)\n",
    "                y = batch[1].to(device)\n",
    "                optimizer.zero_grad()\n",
    "                out = self(x, train_loader.dataset.dataset.A.to(device))\n",
    "                loss = criterion(out, y)\n",
    "                total_loss += loss\n",
    "                count += 1\n",
    "                loss.backward()\n",
    "                optimizer.step()\n",
    "\n",
    "            print(\"Training set | Epoch:\", epoch, \"Loss:\", total_loss / count)\n",
    "\n",
    "            # self.eval()\n",
    "            # with torch.no_grad():\n",
    "            #     total_loss = 0\n",
    "            #     count = 0\n",
    "            #     for batch in validation_loader:\n",
    "            #         x = batch[0].to(device)\n",
    "            #         x = add_graph_properties(x)\n",
    "            #         y = batch[1].to(device)\n",
    "            #         y = y.unsqueeze(0).reshape(-1, 1, 1).float()\n",
    "            #         optimizer.zero_grad()\n",
    "            #         out = self(x)\n",
    "            #         loss = criterion(out, y)\n",
    "            #         total_loss += loss\n",
    "            #         count += 1\n",
    "\n",
    "            # print(\"Validatn set | Epoch:\", epoch, \"Loss:\", total_loss / count)\n",
    "            # print()"
   ]
  },
  {
   "cell_type": "code",
   "execution_count": 13,
   "metadata": {},
   "outputs": [
    {
     "data": {
      "text/plain": [
       "GCNByHand(\n",
       "  (conv1): GCNConvByHand(\n",
       "    (linear): Linear(in_features=1, out_features=1, bias=True)\n",
       "  )\n",
       "  (conv2): GCNConvByHand(\n",
       "    (linear): Linear(in_features=1, out_features=1, bias=True)\n",
       "  )\n",
       "  (linear1): Linear(in_features=3, out_features=16, bias=True)\n",
       "  (out): Linear(in_features=16, out_features=1, bias=True)\n",
       ")"
      ]
     },
     "execution_count": 13,
     "metadata": {},
     "output_type": "execute_result"
    }
   ],
   "source": [
    "num_nodes = 3       # N\n",
    "num_features = 1     # D\n",
    "num_labels = 1       # O\n",
    "\n",
    "model = GCNByHand(N=num_nodes, in_channels=num_features, out_channels=num_labels)\n",
    "model.to(device)"
   ]
  },
  {
   "cell_type": "markdown",
   "metadata": {},
   "source": [
    "A = np.array(A)\n",
    "\n",
    "H_k = np.array(x)\n",
    "# H_k\n",
    "\n",
    "# H_k__A = H_k @ A\n",
    "# H_k__A, H_k__A.shape\n",
    "\n",
    "omega_0 = np.array(model.conv1.linear.weight.detach().numpy())\n",
    "beta_0 = np.array(model.conv1.linear.bias.detach().numpy()).reshape((-1, 1))\n",
    "# print(omega_0, beta_0)\n",
    "\n",
    "\n",
    "preactivation = beta_0 @ np.ones(num_nodes).reshape((1, -1)) + omega_0 @ H_k @ (\n",
    "    A + np.identity(num_nodes)\n",
    ")\n",
    "# preactivation\n",
    "\n",
    "out_wt = np.array(model.out.weight.detach().numpy())\n",
    "out_bias = np.array(model.out.bias.detach().numpy())\n",
    "preactivation @ out_wt.transpose() + out_bias"
   ]
  },
  {
   "cell_type": "code",
   "execution_count": 14,
   "metadata": {},
   "outputs": [
    {
     "ename": "TypeError",
     "evalue": "GCNByHand.fit() takes 2 positional arguments but 3 were given",
     "output_type": "error",
     "traceback": [
      "\u001b[0;31m---------------------------------------------------------------------------\u001b[0m",
      "\u001b[0;31mTypeError\u001b[0m                                 Traceback (most recent call last)",
      "Cell \u001b[0;32mIn[14], line 1\u001b[0m\n\u001b[0;32m----> 1\u001b[0m \u001b[43mmodel\u001b[49m\u001b[38;5;241;43m.\u001b[39;49m\u001b[43mfit\u001b[49m\u001b[43m(\u001b[49m\u001b[43mtrain_loader\u001b[49m\u001b[43m,\u001b[49m\u001b[43m \u001b[49m\u001b[38;5;241;43m20\u001b[39;49m\u001b[43m)\u001b[49m\n",
      "\u001b[0;31mTypeError\u001b[0m: GCNByHand.fit() takes 2 positional arguments but 3 were given"
     ]
    }
   ],
   "source": [
    "model.fit(train_loader, 20)"
   ]
  },
  {
   "cell_type": "markdown",
   "metadata": {},
   "source": []
  },
  {
   "cell_type": "code",
   "execution_count": null,
   "metadata": {},
   "outputs": [],
   "source": [
    "import csv\n",
    "\n",
    "# testing\n",
    "torch.no_grad()\n",
    "# torch.set_printoptions(profile=\"full\")\n",
    "\n",
    "f = open(\"test_result.csv\", \"w\", newline='')\n",
    "csv_writer = csv.writer(f)\n",
    "csv_writer.writerow([\"Actual\", \"Predicted\"])\n",
    "\n",
    "total_matched = 0\n",
    "criterion = torch.nn.MSELoss()\n",
    "\n",
    "total_loss = 0\n",
    "for batch in test_loader:\n",
    "    x = batch[0].to(device)\n",
    "    # x = x.repeat(1, 8, 1)\n",
    "    y = batch[1].to(device)\n",
    "    out = model(x, test_loader.dataset.dataset.A.to(device))\n",
    "    csv_writer.writerows(zip(y.detach().cpu().numpy(), out.detach().cpu().numpy()))\n",
    "    loss = criterion(out, y)\n",
    "    out = torch.round(out)\n",
    "    matched = (out == y).sum().item()\n",
    "    total_matched += matched\n",
    "    total_loss += loss\n",
    "    loss.backward()\n",
    "\n",
    "f.close()\n",
    "print(\n",
    "    \"Total matched\",\n",
    "    total_matched,\n",
    "    \"out of\",\n",
    "    len(test_set),\n",
    "    \"| \",\n",
    "    \"Loss:\",\n",
    "    total_loss / len(test_loader),\n",
    "    \"| Accuracy\",\n",
    "    round(total_matched / len(test_set) * 100, 4),\n",
    "    \"%\",\n",
    ")"
   ]
  },
  {
   "cell_type": "code",
   "execution_count": null,
   "metadata": {},
   "outputs": [],
   "source": []
  }
 ],
 "metadata": {
  "kernelspec": {
   "display_name": "cvf",
   "language": "python",
   "name": "python3"
  },
  "language_info": {
   "codemirror_mode": {
    "name": "ipython",
    "version": 3
   },
   "file_extension": ".py",
   "mimetype": "text/x-python",
   "name": "python",
   "nbconvert_exporter": "python",
   "pygments_lexer": "ipython3",
   "version": "3.12.2"
  }
 },
 "nbformat": 4,
 "nbformat_minor": 2
}
