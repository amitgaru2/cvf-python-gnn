{
 "cells": [
  {
   "cell_type": "code",
   "execution_count": 1,
   "id": "166426cc-bf3e-41e6-b4e5-b07e47b6a697",
   "metadata": {},
   "outputs": [],
   "source": [
    "import torch\n",
    "\n",
    "from torch_geometric.utils import to_dense_adj\n",
    "from torch_geometric.nn.pool import global_mean_pool\n",
    "from torch.utils.data import DataLoader, random_split"
   ]
  },
  {
   "cell_type": "code",
   "execution_count": null,
   "id": "0fc6ed4e-ebf4-4ee9-9034-e3acadd71b38",
   "metadata": {},
   "outputs": [],
   "source": [
    "class VanillaLayer(torch.nn.Module):\n",
    "    def __init__(self, dim_in, dim_out):\n",
    "        super().__init__()\n",
    "        self.linear = torch.nn.Linear(dim_in, dim_out, bias=False)\n",
    "\n",
    "    def forward(self, x, adjacency):\n",
    "        x = self.linear(x)\n",
    "        # x = torch.sparse.mm(adjacency, x)\n",
    "        x = torch.matmul(adjacency, x)\n",
    "        return x"
   ]
  },
  {
   "cell_type": "code",
   "execution_count": null,
   "id": "cdde4abd-e8bb-48e6-9142-27ff4d5ccdbd",
   "metadata": {},
   "outputs": [],
   "source": [
    "dataset = CVFConfigDataset(\n",
    "    \"implicit_graph_n10_config_rank_dataset.csv\",\n",
    "    \"implicit_graph_n10_edge_index.json\",\n",
    "    3\n",
    ")\n",
    "\n",
    "train_size = int(0.75 * len(dataset))\n",
    "test_size = len(dataset) - train_size\n",
    "train_dataset, test_dataset = random_split(dataset, [train_size, test_size])\n",
    "\n",
    "train_loader = DataLoader(train_dataset, batch_size=102400, shuffle=False)\n",
    "test_loader = DataLoader(test_dataset, batch_size=128, shuffle=False)"
   ]
  }
 ],
 "metadata": {
  "kernelspec": {
   "display_name": "Python 3 (ipykernel)",
   "language": "python",
   "name": "python3"
  },
  "language_info": {
   "codemirror_mode": {
    "name": "ipython",
    "version": 3
   },
   "file_extension": ".py",
   "mimetype": "text/x-python",
   "name": "python",
   "nbconvert_exporter": "python",
   "pygments_lexer": "ipython3",
   "version": "3.12.2"
  }
 },
 "nbformat": 4,
 "nbformat_minor": 5
}
