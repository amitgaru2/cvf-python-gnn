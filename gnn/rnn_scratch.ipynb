{
 "cells": [
  {
   "cell_type": "code",
   "execution_count": 1,
   "metadata": {},
   "outputs": [],
   "source": [
    "import torch\n",
    "import torch.nn as nn\n",
    "\n",
    "from torch_geometric.nn.pool import global_mean_pool\n",
    "from torch.utils.data import ConcatDataset, DataLoader, random_split, Sampler"
   ]
  },
  {
   "cell_type": "code",
   "execution_count": 2,
   "metadata": {},
   "outputs": [],
   "source": [
    "from models_by_hand import GCNConvByHand\n",
    "from helpers import CVFConfigForGCNWSuccWEIDataset"
   ]
  },
  {
   "cell_type": "code",
   "execution_count": 3,
   "metadata": {},
   "outputs": [],
   "source": [
    "# class SimpleRNN(nn.Module):\n",
    "#     def __init__(self, input_size, hidden_size, output_size):\n",
    "#         super(SimpleRNN, self).__init__()\n",
    "#         self.hidden_size = hidden_size\n",
    "        \n",
    "#         # Weight matrices\n",
    "#         self.W_x = nn.Linear(input_size, hidden_size, bias=False)  # Input to hidden\n",
    "#         self.W_h = nn.Linear(hidden_size, hidden_size, bias=False) # Hidden to hidden\n",
    "#         self.b_h = nn.Parameter(torch.zeros(hidden_size))  # Bias for hidden state\n",
    "        \n",
    "#         # Output layer\n",
    "#         self.W_y = nn.Linear(hidden_size, output_size)  # Hidden to output\n",
    "\n",
    "#     def forward(self, x, h_t=None):\n",
    "#         \"\"\"\n",
    "#         x: Input sequence of shape (seq_len, input_size)\n",
    "#         h_t: Initial hidden state (hidden_size,)\n",
    "#         \"\"\"\n",
    "#         seq_len, _ = x.shape\n",
    "        \n",
    "#         if h_t is None:\n",
    "#             h_t = torch.zeros(self.hidden_size)  # Initialize hidden state\n",
    "        \n",
    "#         outputs = []\n",
    "        \n",
    "#         for t in range(seq_len):\n",
    "#             x_t = x[t]  # Get the input at time t\n",
    "#             h_t = torch.tanh(self.W_x(x_t) + self.W_h(h_t) + self.b_h)  # Hidden state update\n",
    "#             y_t = self.W_y(h_t)  # Compute output at time t\n",
    "#             outputs.append(y_t)\n",
    "\n",
    "#         outputs = torch.stack(outputs)  # Convert list to tensor\n",
    "#         return outputs, h_t  # Return all outputs and final hidden state\n",
    "\n",
    "\n",
    "# # Example Usage\n",
    "# input_size = 3   # Size of input vector at each time step\n",
    "# hidden_size = 5  # Number of hidden units\n",
    "# output_size = 2  # Output vector size\n",
    "\n",
    "# rnn = SimpleRNN(input_size, hidden_size, output_size)\n",
    "\n",
    "# # Create a dummy input sequence (seq_len=4, input_size=3)\n",
    "# x = torch.randn(4, input_size)  # Sequence of length 4, each with input size 3\n",
    "\n",
    "# # Forward pass\n",
    "# outputs, final_hidden_state = rnn(x)\n",
    "\n",
    "# print(\"Outputs:\\n\", outputs)\n",
    "# print(\"Final Hidden State:\\n\", final_hidden_state)\n"
   ]
  },
  {
   "cell_type": "code",
   "execution_count": 4,
   "metadata": {},
   "outputs": [],
   "source": [
    "# rnn = nn.RNN(10, 20, 2)\n",
    "# input = torch.randn(5, 3, 10)\n",
    "# h0 = torch.randn(2, 3, 20)\n",
    "# output, hn = rnn(input)\n",
    "\n",
    "# output.shape"
   ]
  },
  {
   "cell_type": "code",
   "execution_count": 5,
   "metadata": {},
   "outputs": [
    {
     "data": {
      "text/plain": [
       "device(type='cuda')"
      ]
     },
     "execution_count": 5,
     "metadata": {},
     "output_type": "execute_result"
    }
   ],
   "source": [
    "device = torch.device('cuda' if torch.cuda.is_available() else 'cpu')\n",
    "device"
   ]
  },
  {
   "cell_type": "code",
   "execution_count": 6,
   "metadata": {},
   "outputs": [],
   "source": [
    "dataset_s_n7 = CVFConfigForGCNWSuccWEIDataset(\n",
    "    device,\n",
    "    \"star_graph_n7_config_rank_dataset.csv\",\n",
    "    \"star_graph_n7_edge_index.json\",\n",
    ")\n",
    "\n",
    "dataset_s_n13 = CVFConfigForGCNWSuccWEIDataset(\n",
    "    device,\n",
    "    \"star_graph_n13_config_rank_dataset.csv\",\n",
    "    \"star_graph_n13_edge_index.json\",\n",
    ")\n",
    "\n",
    "dataset_rr_n7 = CVFConfigForGCNWSuccWEIDataset(\n",
    "    device,\n",
    "    \"graph_random_regular_graph_n7_d4_config_rank_dataset.csv\",\n",
    "    \"graph_random_regular_graph_n7_d4_edge_index.json\",\n",
    ")\n",
    "\n",
    "dataset_plc_n7 = CVFConfigForGCNWSuccWEIDataset(\n",
    "    device,\n",
    "    \"graph_powerlaw_cluster_graph_n7_config_rank_dataset.csv\",\n",
    "    \"graph_powerlaw_cluster_graph_n7_edge_index.json\",\n",
    ")\n",
    "\n",
    "batch_size = 64\n",
    "\n",
    "dataset_coll = [\n",
    "    dataset_plc_n7,\n",
    "    dataset_rr_n7,\n",
    "    dataset_s_n7,\n",
    "]"
   ]
  },
  {
   "cell_type": "code",
   "execution_count": 7,
   "metadata": {},
   "outputs": [],
   "source": [
    "train_sizes = [int(0.95 * len(ds)) for ds in dataset_coll]\n",
    "test_sizes = [len(ds) - trs for ds, trs in zip(dataset_coll, train_sizes)]\n",
    "\n",
    "train_test_datasets = [\n",
    "    random_split(ds, [tr_s, ts])\n",
    "    for ds, tr_s, ts in zip(dataset_coll, train_sizes, test_sizes)\n",
    "]\n",
    "\n",
    "train_datasets = [ds[0] for ds in train_test_datasets]\n",
    "test_datasets = [ds[1] for ds in train_test_datasets]"
   ]
  },
  {
   "cell_type": "code",
   "execution_count": 8,
   "metadata": {},
   "outputs": [
    {
     "name": "stdout",
     "output_type": "stream",
     "text": [
      "Train Dataset size: 100,293\n"
     ]
    }
   ],
   "source": [
    "datasets = ConcatDataset(train_datasets)\n",
    "print(f\"Train Dataset size: {len(datasets):,}\")"
   ]
  },
  {
   "cell_type": "code",
   "execution_count": 9,
   "metadata": {},
   "outputs": [],
   "source": [
    "class CustomBatchSampler(Sampler):\n",
    "    def __init__(self, datasets: ConcatDataset, batch_size: int):\n",
    "        self.datasets = datasets\n",
    "        self.batch_size = batch_size\n",
    "\n",
    "    def __iter__(self):\n",
    "        last_accessed = [0] + self.datasets.cumulative_sizes[:]\n",
    "        end_loop = [False for _ in range(len(self.datasets.datasets))]\n",
    "\n",
    "        while not all(end_loop):\n",
    "            for turn in range(len(self.datasets.datasets)):\n",
    "                if end_loop[turn]:\n",
    "                    continue\n",
    "\n",
    "                batch_size = self.batch_size\n",
    "                if (\n",
    "                    last_accessed[turn] + batch_size\n",
    "                    >= self.datasets.cumulative_sizes[turn]\n",
    "                ):\n",
    "                    batch_size = (\n",
    "                        self.datasets.cumulative_sizes[turn] - last_accessed[turn]\n",
    "                    )\n",
    "                    end_loop[turn] = True\n",
    "\n",
    "                yield list(range(last_accessed[turn], last_accessed[turn] + batch_size))\n",
    "\n",
    "                last_accessed[turn] += batch_size"
   ]
  },
  {
   "cell_type": "code",
   "execution_count": 10,
   "metadata": {},
   "outputs": [],
   "source": [
    "batch_sampler = CustomBatchSampler(datasets, batch_size=batch_size)\n",
    "dataloader = DataLoader(datasets, batch_sampler=batch_sampler)"
   ]
  },
  {
   "cell_type": "code",
   "execution_count": 11,
   "metadata": {},
   "outputs": [],
   "source": [
    "class SimpleRNN(nn.Module):\n",
    "    def __init__(self, input_size, hidden_size, output_size):\n",
    "        super().__init__()\n",
    "        self.rnn = nn.RNN(input_size, hidden_size, 2, batch_first=True)\n",
    "        self.fc = nn.Linear(hidden_size, output_size)\n",
    "\n",
    "    def forward(self, x, h_0=None):\n",
    "        output, h_n = self.rnn(x, h_0)\n",
    "        output = self.fc(output)\n",
    "        output = torch.relu(output)\n",
    "        output = global_mean_pool(output, torch.zeros(output.size(1)).to(device).long())\n",
    "        return output, h_n\n",
    "\n",
    "    def fit(self, epochs):\n",
    "        criterion = torch.nn.MSELoss()\n",
    "        # criterion = torch.nn.L1Loss(reduction='sum')\n",
    "        optimizer = torch.optim.Adam(self.parameters(), lr=0.01, weight_decay=0.0001)\n",
    "        for epoch in range(1, epochs + 1):\n",
    "            self.train()\n",
    "            total_loss = 0\n",
    "            count = 0\n",
    "            for batch in dataloader:\n",
    "                x = batch[0]\n",
    "                y = batch[1]\n",
    "                y = y.unsqueeze(-1)\n",
    "                out, h_n = self(x[0])\n",
    "                # print(out.shape, y.shape)\n",
    "                loss = criterion(out, y)\n",
    "                total_loss += loss\n",
    "                count += 1\n",
    "                optimizer.zero_grad()\n",
    "                loss.backward()\n",
    "                optimizer.step()\n",
    "\n",
    "            print(\n",
    "                \"Training set | Epoch\",\n",
    "                epoch,\n",
    "                \"| MSE Loss:\",\n",
    "                round((total_loss / count).item(), 4),\n",
    "            )"
   ]
  },
  {
   "cell_type": "code",
   "execution_count": null,
   "metadata": {},
   "outputs": [
    {
     "name": "stdout",
     "output_type": "stream",
     "text": [
      "SimpleRNN(\n",
      "  (rnn): RNN(3, 32, num_layers=2, batch_first=True)\n",
      "  (fc): Linear(in_features=32, out_features=1, bias=True)\n",
      ")\n",
      "\n",
      "Total parameters: 3,329\n",
      "\n"
     ]
    }
   ],
   "source": [
    "model = SimpleRNN(3, 32, 1).to(device)\n",
    "print(model)\n",
    "print()\n",
    "print(\"Total parameters:\", f\"{sum(p.numel() for p in model.parameters()):,}\")\n",
    "print()\n",
    "model.fit(epochs=20)"
   ]
  },
  {
   "cell_type": "markdown",
   "metadata": {},
   "source": [
    "# Testing"
   ]
  },
  {
   "cell_type": "code",
   "execution_count": null,
   "metadata": {},
   "outputs": [],
   "source": [
    "import csv\n",
    "import datetime\n",
    "\n",
    "f = open(f\"test_results/test_result_w_succ_diff_nodes_rnn_{datetime.datetime.now().strftime(\"%Y_%m_%d_%H_%M\")}.csv\", \"w\", newline=\"\")\n",
    "csv_writer = csv.writer(f)\n",
    "csv_writer.writerow([\"Dataset\", \"Actual\", \"Predicted\"])\n",
    "\n",
    "criterion = torch.nn.MSELoss()\n",
    "\n",
    "model.eval()\n",
    "\n",
    "with torch.no_grad():\n",
    "    test_concat_datasets = ConcatDataset(test_datasets)\n",
    "    test_batch_sampler = CustomBatchSampler(test_concat_datasets, batch_size=10240)\n",
    "    test_dataloader = DataLoader(test_concat_datasets, batch_sampler=test_batch_sampler)\n",
    "\n",
    "    total_loss = 0\n",
    "    total_matched = 0\n",
    "    count = 0\n",
    "    for batch in test_dataloader:\n",
    "        x = batch[0]\n",
    "        y = batch[1]\n",
    "        y = y.unsqueeze(-1)\n",
    "        out, _ = model(x[0])\n",
    "        csv_writer.writerows(\n",
    "            (i, j.item(), k.item())\n",
    "            for (i, j, k) in zip(\n",
    "                x[2], y.detach().cpu().numpy(), out.detach().cpu().numpy()\n",
    "            )\n",
    "        )\n",
    "        loss = criterion(out, y)\n",
    "        total_loss += loss\n",
    "        out = torch.round(out)\n",
    "        matched = (out == y).sum().item()\n",
    "        total_matched += matched\n",
    "        count += 1\n",
    "\n",
    "    print(\n",
    "        \"Test set\",\n",
    "        \"| MSE loss:\",\n",
    "        round((total_loss / count).item(), 4),\n",
    "        \"| Total matched\",\n",
    "        total_matched,\n",
    "        \"out of\",\n",
    "        len(test_concat_datasets),\n",
    "        f\"(Accuracy: {round(total_matched/len(test_concat_datasets) * 100, 2)}%)\",\n",
    "    )\n",
    "\n",
    "f.close()"
   ]
  },
  {
   "cell_type": "code",
   "execution_count": null,
   "metadata": {},
   "outputs": [],
   "source": []
  }
 ],
 "metadata": {
  "kernelspec": {
   "display_name": "cvf",
   "language": "python",
   "name": "python3"
  },
  "language_info": {
   "codemirror_mode": {
    "name": "ipython",
    "version": 3
   },
   "file_extension": ".py",
   "mimetype": "text/x-python",
   "name": "python",
   "nbconvert_exporter": "python",
   "pygments_lexer": "ipython3",
   "version": "3.12.2"
  }
 },
 "nbformat": 4,
 "nbformat_minor": 2
}
