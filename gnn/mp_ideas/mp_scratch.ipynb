{
 "cells": [
  {
   "cell_type": "code",
   "execution_count": 1,
   "id": "b38c13ae",
   "metadata": {},
   "outputs": [],
   "source": [
    "import torch\n",
    "\n",
    "from torch.utils.data import DataLoader, random_split"
   ]
  },
  {
   "cell_type": "code",
   "execution_count": 2,
   "id": "a72eaaca",
   "metadata": {},
   "outputs": [],
   "source": [
    "from models_by_hand import GCNConvByHand\n",
    "from dataset import MessagePassingDataset"
   ]
  },
  {
   "cell_type": "code",
   "execution_count": 3,
   "id": "713dfb4f",
   "metadata": {},
   "outputs": [],
   "source": [
    "device = \"cuda\""
   ]
  },
  {
   "cell_type": "code",
   "execution_count": 4,
   "id": "0d83ff2f",
   "metadata": {},
   "outputs": [],
   "source": [
    "dataset_s_n7 = MessagePassingDataset(\n",
    "    device,\n",
    "    \"star_graph_n7\",\n",
    "    \"star_graph_n7_config_rank_dataset.csv\",\n",
    "    D=7\n",
    ")\n",
    "\n",
    "dataset = dataset_s_n7"
   ]
  },
  {
   "cell_type": "code",
   "execution_count": 5,
   "id": "8bcd2aab",
   "metadata": {},
   "outputs": [
    {
     "name": "stdout",
     "output_type": "stream",
     "text": [
      "Train size 358\n",
      "Test size 90\n"
     ]
    }
   ],
   "source": [
    "train_size = int(0.8 * len(dataset))\n",
    "test_size = len(dataset) - train_size\n",
    "\n",
    "train_dataset, test_dataset = random_split(dataset, [train_size, test_size])\n",
    "\n",
    "print(\"Train size\", len(train_dataset))\n",
    "print(\"Test size\", len(test_dataset))"
   ]
  },
  {
   "cell_type": "code",
   "execution_count": 6,
   "id": "47cb6276",
   "metadata": {},
   "outputs": [],
   "source": [
    "batch_size = 64\n",
    "dataloader = DataLoader(train_dataset, batch_size=batch_size, shuffle=True)"
   ]
  },
  {
   "cell_type": "code",
   "execution_count": 7,
   "id": "189e80b7",
   "metadata": {},
   "outputs": [],
   "source": [
    "epochs = 50"
   ]
  },
  {
   "cell_type": "code",
   "execution_count": null,
   "id": "dda3a812",
   "metadata": {},
   "outputs": [],
   "source": [
    "class SimpleMPModel(torch.nn.Module):\n",
    "    def __init__(self):\n",
    "        super().__init__()\n",
    "        embedding_dim = 3\n",
    "        self.embedding = torch.nn.Embedding(len(dataset), embedding_dim)\n",
    "        self.gcn1 = GCNConvByHand(\n",
    "            embedding_dim, dataset.D, bias=True, device=device\n",
    "        ).to(device)\n",
    "        self.gcn2 = GCNConvByHand(\n",
    "            dataset.D, dataset.D, bias=True, device=device\n",
    "        ).to(device)\n",
    "\n",
    "    def forward(self, x, A):\n",
    "        x = self.embedding(x)\n",
    "        x = x.squeeze(-2)\n",
    "        output = self.gcn1(x, A)\n",
    "        output = self.gcn2(output, A)\n",
    "        return output\n",
    "\n",
    "    def fit(self, epochs):\n",
    "        criterion = torch.nn.MSELoss()\n",
    "        optimizer = torch.optim.Adam(self.parameters(), lr=0.01, weight_decay=0.00001)\n",
    "        for epoch in range(1, epochs + 1):\n",
    "            self.train()\n",
    "            total_loss = 0\n",
    "            count = 0\n",
    "            for batch in dataloader:\n",
    "                x = batch[0]\n",
    "                y = batch[1]\n",
    "                A = dataset.A.repeat(x.shape[0], 1, 1).to(device)\n",
    "                out = self(x, A)\n",
    "                optimizer.zero_grad()\n",
    "                loss = criterion(out, y)\n",
    "                total_loss += loss\n",
    "                count += 1\n",
    "                loss.backward()\n",
    "                optimizer.step()\n",
    "\n",
    "            print(\n",
    "                \"Training set | Epoch\",\n",
    "                epoch,\n",
    "                \"| MSE Loss:\",\n",
    "                round((total_loss / count).item(), 4),\n",
    "            )"
   ]
  },
  {
   "cell_type": "code",
   "execution_count": 9,
   "id": "dc75a270",
   "metadata": {},
   "outputs": [
    {
     "name": "stdout",
     "output_type": "stream",
     "text": [
      "SimpleMPModel(\n",
      "  (embedding): Embedding(448, 3)\n",
      "  (gcn1): GCNConvByHand(\n",
      "    (linear): Linear(in_features=3, out_features=7, bias=True)\n",
      "  )\n",
      "  (gcn2): GCNConvByHand(\n",
      "    (linear): Linear(in_features=7, out_features=7, bias=True)\n",
      "  )\n",
      ")\n"
     ]
    }
   ],
   "source": [
    "model = SimpleMPModel().to(device)\n",
    "print(model)"
   ]
  },
  {
   "cell_type": "code",
   "execution_count": 10,
   "id": "bebb01c1",
   "metadata": {},
   "outputs": [
    {
     "name": "stdout",
     "output_type": "stream",
     "text": [
      "Training set | Epoch 1 | MSE Loss: 1.6038\n",
      "Training set | Epoch 2 | MSE Loss: 1.085\n",
      "Training set | Epoch 3 | MSE Loss: 0.8564\n",
      "Training set | Epoch 4 | MSE Loss: 0.7158\n",
      "Training set | Epoch 5 | MSE Loss: 0.6174\n",
      "Training set | Epoch 6 | MSE Loss: 0.5501\n",
      "Training set | Epoch 7 | MSE Loss: 0.4943\n",
      "Training set | Epoch 8 | MSE Loss: 0.4594\n",
      "Training set | Epoch 9 | MSE Loss: 0.454\n",
      "Training set | Epoch 10 | MSE Loss: 0.4459\n",
      "Training set | Epoch 11 | MSE Loss: 0.4396\n",
      "Training set | Epoch 12 | MSE Loss: 0.4379\n",
      "Training set | Epoch 13 | MSE Loss: 0.4342\n",
      "Training set | Epoch 14 | MSE Loss: 0.4297\n",
      "Training set | Epoch 15 | MSE Loss: 0.4218\n",
      "Training set | Epoch 16 | MSE Loss: 0.4239\n",
      "Training set | Epoch 17 | MSE Loss: 0.42\n",
      "Training set | Epoch 18 | MSE Loss: 0.4234\n",
      "Training set | Epoch 19 | MSE Loss: 0.409\n",
      "Training set | Epoch 20 | MSE Loss: 0.409\n",
      "Training set | Epoch 21 | MSE Loss: 0.4044\n",
      "Training set | Epoch 22 | MSE Loss: 0.4094\n",
      "Training set | Epoch 23 | MSE Loss: 0.3989\n",
      "Training set | Epoch 24 | MSE Loss: 0.3924\n",
      "Training set | Epoch 25 | MSE Loss: 0.3842\n",
      "Training set | Epoch 26 | MSE Loss: 0.3812\n",
      "Training set | Epoch 27 | MSE Loss: 0.3685\n",
      "Training set | Epoch 28 | MSE Loss: 0.364\n",
      "Training set | Epoch 29 | MSE Loss: 0.3603\n",
      "Training set | Epoch 30 | MSE Loss: 0.3436\n",
      "Training set | Epoch 31 | MSE Loss: 0.3286\n",
      "Training set | Epoch 32 | MSE Loss: 0.3148\n",
      "Training set | Epoch 33 | MSE Loss: 0.3077\n",
      "Training set | Epoch 34 | MSE Loss: 0.2976\n",
      "Training set | Epoch 35 | MSE Loss: 0.2854\n",
      "Training set | Epoch 36 | MSE Loss: 0.2693\n",
      "Training set | Epoch 37 | MSE Loss: 0.2586\n",
      "Training set | Epoch 38 | MSE Loss: 0.2598\n",
      "Training set | Epoch 39 | MSE Loss: 0.2461\n",
      "Training set | Epoch 40 | MSE Loss: 0.2485\n",
      "Training set | Epoch 41 | MSE Loss: 0.2411\n",
      "Training set | Epoch 42 | MSE Loss: 0.2351\n",
      "Training set | Epoch 43 | MSE Loss: 0.2438\n",
      "Training set | Epoch 44 | MSE Loss: 0.2303\n",
      "Training set | Epoch 45 | MSE Loss: 0.2306\n",
      "Training set | Epoch 46 | MSE Loss: 0.2328\n",
      "Training set | Epoch 47 | MSE Loss: 0.2246\n",
      "Training set | Epoch 48 | MSE Loss: 0.2283\n",
      "Training set | Epoch 49 | MSE Loss: 0.2245\n",
      "Training set | Epoch 50 | MSE Loss: 0.2301\n"
     ]
    }
   ],
   "source": [
    "model.fit(epochs)"
   ]
  },
  {
   "cell_type": "code",
   "execution_count": null,
   "id": "e0f3d4b1",
   "metadata": {},
   "outputs": [],
   "source": []
  }
 ],
 "metadata": {
  "kernelspec": {
   "display_name": "cvf",
   "language": "python",
   "name": "python3"
  },
  "language_info": {
   "codemirror_mode": {
    "name": "ipython",
    "version": 3
   },
   "file_extension": ".py",
   "mimetype": "text/x-python",
   "name": "python",
   "nbconvert_exporter": "python",
   "pygments_lexer": "ipython3",
   "version": "3.12.2"
  }
 },
 "nbformat": 4,
 "nbformat_minor": 5
}
