{
 "cells": [
  {
   "cell_type": "code",
   "execution_count": 1,
   "metadata": {},
   "outputs": [],
   "source": [
    "import random\n",
    "\n",
    "import torch\n",
    "\n",
    "\n",
    "from torch_geometric.nn import GCNConv\n",
    "from torch_geometric.nn.pool import global_mean_pool\n",
    "from torch.utils.data import ConcatDataset, Sampler, DataLoader, random_split"
   ]
  },
  {
   "cell_type": "code",
   "execution_count": 2,
   "metadata": {},
   "outputs": [],
   "source": [
    "from helpers import CVFConfigForGCNGridSearchDataset"
   ]
  },
  {
   "cell_type": "code",
   "execution_count": 3,
   "metadata": {},
   "outputs": [
    {
     "data": {
      "text/plain": [
       "device(type='cuda')"
      ]
     },
     "execution_count": 3,
     "metadata": {},
     "output_type": "execute_result"
    }
   ],
   "source": [
    "device = torch.device('cuda' if torch.cuda.is_available() else 'cpu')\n",
    "device"
   ]
  },
  {
   "cell_type": "code",
   "execution_count": 4,
   "metadata": {},
   "outputs": [],
   "source": [
    "dataset_rr_n4 = CVFConfigForGCNGridSearchDataset(\n",
    "    device,\n",
    "    \"graph_random_regular_graph_n4_d3_config_rank_dataset.csv\",\n",
    "    \"graph_random_regular_graph_n4_d3_edge_index.json\",\n",
    ")\n",
    "\n",
    "dataset_rr_n5 = CVFConfigForGCNGridSearchDataset(\n",
    "    device,\n",
    "    \"graph_random_regular_graph_n5_d4_config_rank_dataset.csv\",\n",
    "    \"graph_random_regular_graph_n5_d4_edge_index.json\",\n",
    ")\n",
    "\n",
    "dataset_rr_n6 = CVFConfigForGCNGridSearchDataset(\n",
    "    device,\n",
    "    \"graph_random_regular_graph_n6_d3_config_rank_dataset.csv\",\n",
    "    \"graph_random_regular_graph_n6_d3_edge_index.json\",\n",
    ")\n",
    "\n",
    "dataset_rr_n7 = CVFConfigForGCNGridSearchDataset(\n",
    "    device,\n",
    "    \"graph_random_regular_graph_n7_d4_config_rank_dataset.csv\",\n",
    "    \"graph_random_regular_graph_n7_d4_edge_index.json\",\n",
    ")\n",
    "\n",
    "dataset_rr_n8 = CVFConfigForGCNGridSearchDataset(\n",
    "    device,\n",
    "    \"graph_random_regular_graph_n8_d4_config_rank_dataset.csv\",\n",
    "    \"graph_random_regular_graph_n8_d4_edge_index.json\",\n",
    ")\n",
    "\n",
    "batch_size = 64\n",
    "\n",
    "dataset_coll = [\n",
    "    dataset_rr_n4,\n",
    "    dataset_rr_n5,\n",
    "    dataset_rr_n6,\n",
    "    dataset_rr_n7,\n",
    "    dataset_rr_n8,\n",
    "]"
   ]
  },
  {
   "cell_type": "code",
   "execution_count": 5,
   "metadata": {},
   "outputs": [],
   "source": [
    "class CustomBatchSampler(Sampler):\n",
    "    def __init__(self, datasets: ConcatDataset, batch_size: int):\n",
    "        self.datasets = datasets\n",
    "        self.batch_size = batch_size\n",
    "\n",
    "    @property\n",
    "    def module(self):\n",
    "        return self._module\n",
    "\n",
    "    @module.setter\n",
    "    def module(self, val):\n",
    "        self._module = val\n",
    "\n",
    "    def __iter__(self):\n",
    "        last_accessed = [0] + self.datasets.cumulative_sizes[:]\n",
    "        end_loop = [False for _ in range(len(self.datasets.datasets))]\n",
    "\n",
    "        while not all(end_loop):\n",
    "            for turn in range(len(self.datasets.datasets)):\n",
    "                if end_loop[turn]:\n",
    "                    continue\n",
    "\n",
    "                batch_size = self.batch_size\n",
    "                if (\n",
    "                    last_accessed[turn] + batch_size\n",
    "                    >= self.datasets.cumulative_sizes[turn]\n",
    "                ):\n",
    "                    batch_size = (\n",
    "                        self.datasets.cumulative_sizes[turn] - last_accessed[turn]\n",
    "                    )\n",
    "                    end_loop[turn] = True\n",
    "\n",
    "                # currently explicitly setting edge index before yielding\n",
    "                # TODO: find a better way to do it\n",
    "                self.module.edge_index = self.datasets.datasets[turn].edge_index\n",
    "\n",
    "                yield list(range(last_accessed[turn], last_accessed[turn] + batch_size))\n",
    "\n",
    "                last_accessed[turn] += batch_size"
   ]
  },
  {
   "cell_type": "code",
   "execution_count": 6,
   "metadata": {},
   "outputs": [],
   "source": [
    "\n",
    "datasets = ConcatDataset(dataset_coll)\n",
    "batch_sampler = CustomBatchSampler(datasets, batch_size=batch_size)\n",
    "dataloader = DataLoader(datasets, batch_sampler=batch_sampler)"
   ]
  },
  {
   "cell_type": "code",
   "execution_count": 7,
   "metadata": {},
   "outputs": [
    {
     "data": {
      "text/plain": [
       "476227"
      ]
     },
     "execution_count": 7,
     "metadata": {},
     "output_type": "execute_result"
    }
   ],
   "source": [
    "len(datasets)"
   ]
  },
  {
   "cell_type": "code",
   "execution_count": 8,
   "metadata": {},
   "outputs": [
    {
     "data": {
      "text/plain": [
       "[256, 3381, 7477, 85602, 476227]"
      ]
     },
     "execution_count": 8,
     "metadata": {},
     "output_type": "execute_result"
    }
   ],
   "source": [
    "batch_sampler.datasets.cumulative_sizes"
   ]
  },
  {
   "cell_type": "code",
   "execution_count": 9,
   "metadata": {},
   "outputs": [],
   "source": [
    "# for i, batch in enumerate(dataloaders):\n",
    "#     print(i, len(batch[0]))\n",
    "#     break"
   ]
  },
  {
   "cell_type": "code",
   "execution_count": null,
   "metadata": {},
   "outputs": [],
   "source": [
    "class VanillaGNN(torch.nn.Module):\n",
    "    def __init__(self, dim_in, dim_h, dim_out):\n",
    "        super().__init__()\n",
    "        self.gcn1 = GCNConv(dim_in, dim_h)\n",
    "        self.gcn2 = GCNConv(dim_h, dim_h)\n",
    "        self.out = torch.nn.Linear(dim_h, dim_out)\n",
    "\n",
    "    @property\n",
    "    def edge_index(self):\n",
    "        return self._edge_index\n",
    "\n",
    "    @edge_index.setter\n",
    "    def edge_index(self, val):\n",
    "        self._edge_index = val\n",
    "\n",
    "    def forward(self, x):\n",
    "        h = self.gcn1(x, self.edge_index)\n",
    "        h = torch.relu(h)\n",
    "        h = self.gcn2(h, self.edge_index)\n",
    "        h = torch.relu(h)\n",
    "        h = self.out(h)\n",
    "        h = torch.relu(h)\n",
    "        h = global_mean_pool(h, torch.zeros(h.size(1)).to(device).long())\n",
    "        return h\n",
    "\n",
    "    def fit(self, epochs):\n",
    "        dataloader.batch_sampler.module = self\n",
    "        criterion = torch.nn.MSELoss()\n",
    "        optimizer = torch.optim.Adam(self.parameters(), lr=0.01, weight_decay=0.001)\n",
    "        for epoch in range(1, epochs + 1):\n",
    "            self.train()\n",
    "            total_loss = 0\n",
    "            count = 0\n",
    "            for batch in dataloader:\n",
    "                x = batch[0]\n",
    "                y = batch[1]\n",
    "                optimizer.zero_grad()\n",
    "                out = self(x)\n",
    "                loss = criterion(out, y)\n",
    "                total_loss += loss\n",
    "                count += 1\n",
    "                loss.backward()\n",
    "                optimizer.step()\n",
    "\n",
    "            print(\n",
    "                \"Training set | Epoch\",\n",
    "                epoch,\n",
    "                \"| Loss:\",\n",
    "                round((total_loss / count).item(), 4),\n",
    "            )"
   ]
  },
  {
   "cell_type": "code",
   "execution_count": null,
   "metadata": {},
   "outputs": [
    {
     "name": "stdout",
     "output_type": "stream",
     "text": [
      "VanillaGNN(\n",
      "  (gcn1): GCNConv(1, 64)\n",
      "  (gcn2): GCNConv(64, 64)\n",
      "  (out): Linear(in_features=64, out_features=1, bias=True)\n",
      ")\n",
      "Training set | Epoch 1 | Loss: 1.3497\n",
      "Training set | Epoch 2 | Loss: 1.2761\n",
      "Training set | Epoch 3 | Loss: 1.2684\n",
      "Training set | Epoch 4 | Loss: 1.2581\n",
      "Training set | Epoch 5 | Loss: 1.2578\n"
     ]
    }
   ],
   "source": [
    "gnn = VanillaGNN(1, 64, 1).to(device)\n",
    "print(gnn)\n",
    "\n",
    "gnn.fit(epochs=10)"
   ]
  },
  {
   "cell_type": "code",
   "execution_count": null,
   "metadata": {},
   "outputs": [],
   "source": [
    "# # testing\n",
    "# import csv\n",
    "\n",
    "# torch.no_grad()\n",
    "# torch.set_printoptions(profile=\"full\")\n",
    "\n",
    "# f = open(\"test_result.csv\", \"w\", newline=\"\")\n",
    "# csv_writer = csv.writer(f)\n",
    "# csv_writer.writerow([\"Actual\", \"Predicted\"])\n",
    "\n",
    "# criterion = torch.nn.MSELoss()\n",
    "# total_loss = 0\n",
    "# total_matched = 0\n",
    "\n",
    "# indx = 0\n",
    "# dataset = dataset_coll[indx]\n",
    "# test_loader = test_dataloader_coll[indx]\n",
    "# test_dataset = test_loader.dataset\n",
    "\n",
    "# count = 0\n",
    "# for batch in test_loader:\n",
    "# \tx = batch[0]\n",
    "# \ty = batch[1]\n",
    "# \t# out = gnn(x, dataset.edge_index)\n",
    "# \tout = gnn(x)\n",
    "# \t# print(y.shape, out.shape)\n",
    "# \tcsv_writer.writerows(zip(y.detach().cpu().numpy(), out.detach().cpu().numpy()))\n",
    "# \tloss = criterion(out, y)\n",
    "# \ttotal_loss += loss\n",
    "# \tout = torch.round(out)\n",
    "# \tmatched = (out == y).sum().item()\n",
    "# \ttotal_matched += matched\n",
    "# \tcount += 1\n",
    "\n",
    "# print(\n",
    "# \t\"Test loss:\",\n",
    "# \ttotal_loss.detach() / count,\n",
    "# \t\"Total matched\",\n",
    "# \ttotal_matched,\n",
    "# \t\"out of\",\n",
    "# \tlen(test_dataset),\n",
    "# \tf\"({round(total_matched/len(test_dataset) * 100, 2)}%)\",\n",
    "# )"
   ]
  },
  {
   "cell_type": "code",
   "execution_count": null,
   "metadata": {},
   "outputs": [],
   "source": [
    "# from skorch import NeuralNet"
   ]
  },
  {
   "cell_type": "code",
   "execution_count": null,
   "metadata": {},
   "outputs": [],
   "source": [
    "# class CustomNeuralNet(NeuralNet):\n",
    "#     def fit_loop(self, X, y=None, epochs=None, **fit_params):\n",
    "#         \"\"\"The proper fit loop.\n",
    "\n",
    "#         Contains the logic of what actually happens during the fit\n",
    "#         loop.\n",
    "\n",
    "#         Parameters\n",
    "#         ----------\n",
    "#         X : input data, compatible with skorch.dataset.Dataset\n",
    "#           By default, you should be able to pass:\n",
    "\n",
    "#             * numpy arrays\n",
    "#             * torch tensors\n",
    "#             * pandas DataFrame or Series\n",
    "#             * scipy sparse CSR matrices\n",
    "#             * a dictionary of the former three\n",
    "#             * a list/tuple of the former three\n",
    "#             * a Dataset\n",
    "\n",
    "#           If this doesn't work with your data, you have to pass a\n",
    "#           ``Dataset`` that can deal with the data.\n",
    "\n",
    "#         y : target data, compatible with skorch.dataset.Dataset\n",
    "#           The same data types as for ``X`` are supported. If your X is\n",
    "#           a Dataset that contains the target, ``y`` may be set to\n",
    "#           None.\n",
    "\n",
    "#         epochs : int or None (default=None)\n",
    "#           If int, train for this number of epochs; if None, use\n",
    "#           ``self.max_epochs``.\n",
    "\n",
    "#         **fit_params : dict\n",
    "#           Additional parameters passed to the ``forward`` method of\n",
    "#           the module and to the ``self.train_split`` call.\n",
    "\n",
    "#         \"\"\"\n",
    "#         self.check_data(X, y)\n",
    "#         self.check_training_readiness()\n",
    "#         epochs = epochs if epochs is not None else self.max_epochs\n",
    "\n",
    "#         dataset_train, dataset_valid = self.get_split_datasets(\n",
    "#             X, y, **fit_params)\n",
    "#         on_epoch_kwargs = {\n",
    "#             'dataset_train': dataset_train,\n",
    "#             'dataset_valid': dataset_valid,\n",
    "#         }\n",
    "#         iterator_train = self.get_iterator(dataset_train, training=True)\n",
    "#         # iterator_train = generate_batch()\n",
    "#         print(iterator_train.__dict__)\n",
    "#         iterator_valid = None\n",
    "#         if dataset_valid is not None:\n",
    "#             iterator_valid = self.get_iterator(dataset_valid, training=False)\n",
    "\n",
    "#         for _ in range(epochs):\n",
    "#             self.notify('on_epoch_begin', **on_epoch_kwargs)\n",
    "\n",
    "#             self.run_single_epoch(iterator_train, training=True, prefix=\"train\",\n",
    "#                                   step_fn=self.train_step, **fit_params)\n",
    "\n",
    "#             self.run_single_epoch(iterator_valid, training=False, prefix=\"valid\",\n",
    "#                                   step_fn=self.validation_step, **fit_params)\n",
    "\n",
    "#             self.notify(\"on_epoch_end\", **on_epoch_kwargs)\n",
    "#         return self"
   ]
  },
  {
   "cell_type": "code",
   "execution_count": null,
   "metadata": {},
   "outputs": [],
   "source": [
    "# dataset = dataset_rr_n4"
   ]
  },
  {
   "cell_type": "code",
   "execution_count": null,
   "metadata": {},
   "outputs": [],
   "source": [
    "# net = CustomNeuralNet(\n",
    "# \tVanillaGNN,\n",
    "# \t# train_split=None,\n",
    "# \tdevice=device,\n",
    "# \tlr=0.01,\n",
    "# \tbatch_size=64,\n",
    "# \tmax_epochs=5,\n",
    "# \tcriterion=torch.nn.MSELoss,\n",
    "# \toptimizer=torch.optim.Adam,\n",
    "# \toptimizer__weight_decay=0.01,\n",
    "# \tmodule__dim_in=1,\n",
    "# \tmodule__dim_h=64,\n",
    "# \tmodule__dim_out=1,\n",
    "# \tmodule__edge_index=dataset.edge_index,\n",
    "# )"
   ]
  },
  {
   "cell_type": "code",
   "execution_count": null,
   "metadata": {},
   "outputs": [],
   "source": [
    "# net.fit(dataset, y=None)"
   ]
  },
  {
   "cell_type": "code",
   "execution_count": null,
   "metadata": {},
   "outputs": [],
   "source": [
    "# net.history"
   ]
  },
  {
   "cell_type": "code",
   "execution_count": null,
   "metadata": {},
   "outputs": [],
   "source": []
  }
 ],
 "metadata": {
  "kernelspec": {
   "display_name": "cvf",
   "language": "python",
   "name": "python3"
  },
  "language_info": {
   "codemirror_mode": {
    "name": "ipython",
    "version": 3
   },
   "file_extension": ".py",
   "mimetype": "text/x-python",
   "name": "python",
   "nbconvert_exporter": "python",
   "pygments_lexer": "ipython3",
   "version": "3.12.2"
  }
 },
 "nbformat": 4,
 "nbformat_minor": 2
}
