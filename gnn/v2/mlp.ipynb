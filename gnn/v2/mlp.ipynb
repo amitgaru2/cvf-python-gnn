{
 "cells": [
  {
   "cell_type": "code",
   "execution_count": 1,
   "metadata": {},
   "outputs": [],
   "source": [
    "import torch\n",
    "import torch.nn as nn"
   ]
  },
  {
   "cell_type": "code",
   "execution_count": 2,
   "metadata": {},
   "outputs": [],
   "source": [
    "from helpers_wo_embedding import CVFConfigDataset\n",
    "\n",
    "from torch.utils.data import DataLoader, random_split"
   ]
  },
  {
   "cell_type": "code",
   "execution_count": 3,
   "metadata": {},
   "outputs": [
    {
     "data": {
      "text/plain": [
       "device(type='cuda')"
      ]
     },
     "execution_count": 3,
     "metadata": {},
     "output_type": "execute_result"
    }
   ],
   "source": [
    "device = torch.device('cuda' if torch.cuda.is_available() else 'cpu')\n",
    "device"
   ]
  },
  {
   "cell_type": "code",
   "execution_count": 4,
   "metadata": {},
   "outputs": [],
   "source": [
    "class MLPByHand(nn.Module):\n",
    "    def __init__(self, N, in_channels, out_channels):\n",
    "        super().__init__()\n",
    "        self.linear1 = nn.Linear(in_channels, 32)\n",
    "        self.linear2 = nn.Linear(32, 32)\n",
    "        self.out = torch.nn.Linear(32, out_channels, bias=True)\n",
    "\n",
    "    def forward(self, x, A):\n",
    "        x = self.linear1(x)\n",
    "        x = torch.relu(x)\n",
    "        x = self.linear2(x)\n",
    "        x = torch.relu(x)\n",
    "        x = self.out(x)\n",
    "        return x\n",
    "\n",
    "    def fit(self, train_loader, epochs):\n",
    "        criterion = torch.nn.MSELoss()\n",
    "        optimizer = torch.optim.Adam(\n",
    "            self.parameters(), lr=0.01, weight_decay=0.01\n",
    "        )  # weight_decay is a L2 regularization parameter\n",
    "        for epoch in range(1, epochs + 1):\n",
    "            self.train()\n",
    "            total_loss = 0\n",
    "            count = 0\n",
    "            for batch in train_loader:\n",
    "                x = batch[0].to(device)\n",
    "                y = batch[1].to(device)\n",
    "                optimizer.zero_grad()\n",
    "                out = self(x, train_loader.dataset.dataset.A.to(device))\n",
    "                loss = criterion(out, y)\n",
    "                total_loss += loss\n",
    "                count += 1\n",
    "                loss.backward()\n",
    "                optimizer.step()\n",
    "\n",
    "            print(\"Training set | Epoch:\", epoch, \"Loss:\", total_loss / count)"
   ]
  },
  {
   "cell_type": "code",
   "execution_count": 5,
   "metadata": {},
   "outputs": [
    {
     "data": {
      "text/plain": [
       "MLPByHand(\n",
       "  (linear1): Linear(in_features=4, out_features=32, bias=True)\n",
       "  (linear2): Linear(in_features=32, out_features=32, bias=True)\n",
       "  (out): Linear(in_features=32, out_features=1, bias=True)\n",
       ")"
      ]
     },
     "execution_count": 5,
     "metadata": {},
     "output_type": "execute_result"
    }
   ],
   "source": [
    "num_nodes = 3       # N\n",
    "num_features = 4     # D\n",
    "num_labels = 1       # O\n",
    "batch_size = 10      # B\n",
    "\n",
    "# the following needs to be replaced by some node embeddings\n",
    "# x = torch.randn((batch_size, num_features, num_nodes)) # B x D x N\n",
    "\n",
    "# A = torch.tensor([[0, 1, 1], [1, 0, 0], [1, 0, 0]])  # adjacency matrix ( N x N )\n",
    "\n",
    "model = MLPByHand(N=num_nodes, in_channels=num_features, out_channels=num_labels)\n",
    "model.to(device)\n",
    "\n",
    "# out = model(x, A)   # B x D x O\n",
    "\n",
    "# print(\"output\", out.shape)"
   ]
  },
  {
   "cell_type": "code",
   "execution_count": 6,
   "metadata": {},
   "outputs": [],
   "source": [
    "dataset = CVFConfigDataset(\n",
    "    \"coloring\",\n",
    "    \"tiny_graph_test_config_rank_dataset_indx.csv\",\n",
    "    \"tiny_graph_test_A.json\",\n",
    "    num_nodes,\n",
    ")"
   ]
  },
  {
   "cell_type": "code",
   "execution_count": 7,
   "metadata": {},
   "outputs": [],
   "source": [
    "train_split = 0.9\n",
    "test_split = 0.1\n",
    "\n",
    "train_set, test_set = random_split(\n",
    "    dataset, [train_split, test_split]\n",
    ")\n",
    "\n",
    "train_loader = DataLoader(train_set, batch_size=1000, shuffle=True)\n",
    "test_loader = DataLoader(test_set, batch_size=100, shuffle=False)"
   ]
  },
  {
   "cell_type": "code",
   "execution_count": 8,
   "metadata": {},
   "outputs": [
    {
     "name": "stdout",
     "output_type": "stream",
     "text": [
      "Training set | Epoch: 1 Loss: tensor(0.9871, device='cuda:0', grad_fn=<DivBackward0>)\n",
      "Training set | Epoch: 2 Loss: tensor(0.8592, device='cuda:0', grad_fn=<DivBackward0>)\n",
      "Training set | Epoch: 3 Loss: tensor(0.7534, device='cuda:0', grad_fn=<DivBackward0>)\n",
      "Training set | Epoch: 4 Loss: tensor(0.6732, device='cuda:0', grad_fn=<DivBackward0>)\n",
      "Training set | Epoch: 5 Loss: tensor(0.6145, device='cuda:0', grad_fn=<DivBackward0>)\n",
      "Training set | Epoch: 6 Loss: tensor(0.5764, device='cuda:0', grad_fn=<DivBackward0>)\n",
      "Training set | Epoch: 7 Loss: tensor(0.5661, device='cuda:0', grad_fn=<DivBackward0>)\n",
      "Training set | Epoch: 8 Loss: tensor(0.5844, device='cuda:0', grad_fn=<DivBackward0>)\n",
      "Training set | Epoch: 9 Loss: tensor(0.6100, device='cuda:0', grad_fn=<DivBackward0>)\n",
      "Training set | Epoch: 10 Loss: tensor(0.6195, device='cuda:0', grad_fn=<DivBackward0>)\n",
      "Training set | Epoch: 11 Loss: tensor(0.6110, device='cuda:0', grad_fn=<DivBackward0>)\n",
      "Training set | Epoch: 12 Loss: tensor(0.5938, device='cuda:0', grad_fn=<DivBackward0>)\n",
      "Training set | Epoch: 13 Loss: tensor(0.5773, device='cuda:0', grad_fn=<DivBackward0>)\n",
      "Training set | Epoch: 14 Loss: tensor(0.5664, device='cuda:0', grad_fn=<DivBackward0>)\n",
      "Training set | Epoch: 15 Loss: tensor(0.5628, device='cuda:0', grad_fn=<DivBackward0>)\n",
      "Training set | Epoch: 16 Loss: tensor(0.5646, device='cuda:0', grad_fn=<DivBackward0>)\n",
      "Training set | Epoch: 17 Loss: tensor(0.5691, device='cuda:0', grad_fn=<DivBackward0>)\n",
      "Training set | Epoch: 18 Loss: tensor(0.5736, device='cuda:0', grad_fn=<DivBackward0>)\n",
      "Training set | Epoch: 19 Loss: tensor(0.5763, device='cuda:0', grad_fn=<DivBackward0>)\n",
      "Training set | Epoch: 20 Loss: tensor(0.5767, device='cuda:0', grad_fn=<DivBackward0>)\n",
      "Training set | Epoch: 21 Loss: tensor(0.5748, device='cuda:0', grad_fn=<DivBackward0>)\n",
      "Training set | Epoch: 22 Loss: tensor(0.5711, device='cuda:0', grad_fn=<DivBackward0>)\n",
      "Training set | Epoch: 23 Loss: tensor(0.5667, device='cuda:0', grad_fn=<DivBackward0>)\n",
      "Training set | Epoch: 24 Loss: tensor(0.5626, device='cuda:0', grad_fn=<DivBackward0>)\n",
      "Training set | Epoch: 25 Loss: tensor(0.5600, device='cuda:0', grad_fn=<DivBackward0>)\n",
      "Training set | Epoch: 26 Loss: tensor(0.5600, device='cuda:0', grad_fn=<DivBackward0>)\n",
      "Training set | Epoch: 27 Loss: tensor(0.5617, device='cuda:0', grad_fn=<DivBackward0>)\n",
      "Training set | Epoch: 28 Loss: tensor(0.5629, device='cuda:0', grad_fn=<DivBackward0>)\n",
      "Training set | Epoch: 29 Loss: tensor(0.5623, device='cuda:0', grad_fn=<DivBackward0>)\n",
      "Training set | Epoch: 30 Loss: tensor(0.5606, device='cuda:0', grad_fn=<DivBackward0>)\n",
      "Training set | Epoch: 31 Loss: tensor(0.5589, device='cuda:0', grad_fn=<DivBackward0>)\n",
      "Training set | Epoch: 32 Loss: tensor(0.5578, device='cuda:0', grad_fn=<DivBackward0>)\n",
      "Training set | Epoch: 33 Loss: tensor(0.5576, device='cuda:0', grad_fn=<DivBackward0>)\n",
      "Training set | Epoch: 34 Loss: tensor(0.5580, device='cuda:0', grad_fn=<DivBackward0>)\n",
      "Training set | Epoch: 35 Loss: tensor(0.5584, device='cuda:0', grad_fn=<DivBackward0>)\n",
      "Training set | Epoch: 36 Loss: tensor(0.5584, device='cuda:0', grad_fn=<DivBackward0>)\n",
      "Training set | Epoch: 37 Loss: tensor(0.5580, device='cuda:0', grad_fn=<DivBackward0>)\n",
      "Training set | Epoch: 38 Loss: tensor(0.5570, device='cuda:0', grad_fn=<DivBackward0>)\n",
      "Training set | Epoch: 39 Loss: tensor(0.5557, device='cuda:0', grad_fn=<DivBackward0>)\n",
      "Training set | Epoch: 40 Loss: tensor(0.5546, device='cuda:0', grad_fn=<DivBackward0>)\n",
      "Training set | Epoch: 41 Loss: tensor(0.5539, device='cuda:0', grad_fn=<DivBackward0>)\n",
      "Training set | Epoch: 42 Loss: tensor(0.5536, device='cuda:0', grad_fn=<DivBackward0>)\n",
      "Training set | Epoch: 43 Loss: tensor(0.5533, device='cuda:0', grad_fn=<DivBackward0>)\n",
      "Training set | Epoch: 44 Loss: tensor(0.5528, device='cuda:0', grad_fn=<DivBackward0>)\n",
      "Training set | Epoch: 45 Loss: tensor(0.5518, device='cuda:0', grad_fn=<DivBackward0>)\n",
      "Training set | Epoch: 46 Loss: tensor(0.5509, device='cuda:0', grad_fn=<DivBackward0>)\n",
      "Training set | Epoch: 47 Loss: tensor(0.5503, device='cuda:0', grad_fn=<DivBackward0>)\n",
      "Training set | Epoch: 48 Loss: tensor(0.5497, device='cuda:0', grad_fn=<DivBackward0>)\n",
      "Training set | Epoch: 49 Loss: tensor(0.5491, device='cuda:0', grad_fn=<DivBackward0>)\n",
      "Training set | Epoch: 50 Loss: tensor(0.5483, device='cuda:0', grad_fn=<DivBackward0>)\n",
      "Training set | Epoch: 51 Loss: tensor(0.5474, device='cuda:0', grad_fn=<DivBackward0>)\n",
      "Training set | Epoch: 52 Loss: tensor(0.5464, device='cuda:0', grad_fn=<DivBackward0>)\n",
      "Training set | Epoch: 53 Loss: tensor(0.5451, device='cuda:0', grad_fn=<DivBackward0>)\n",
      "Training set | Epoch: 54 Loss: tensor(0.5437, device='cuda:0', grad_fn=<DivBackward0>)\n",
      "Training set | Epoch: 55 Loss: tensor(0.5423, device='cuda:0', grad_fn=<DivBackward0>)\n",
      "Training set | Epoch: 56 Loss: tensor(0.5410, device='cuda:0', grad_fn=<DivBackward0>)\n",
      "Training set | Epoch: 57 Loss: tensor(0.5395, device='cuda:0', grad_fn=<DivBackward0>)\n",
      "Training set | Epoch: 58 Loss: tensor(0.5379, device='cuda:0', grad_fn=<DivBackward0>)\n",
      "Training set | Epoch: 59 Loss: tensor(0.5361, device='cuda:0', grad_fn=<DivBackward0>)\n",
      "Training set | Epoch: 60 Loss: tensor(0.5343, device='cuda:0', grad_fn=<DivBackward0>)\n",
      "Training set | Epoch: 61 Loss: tensor(0.5322, device='cuda:0', grad_fn=<DivBackward0>)\n",
      "Training set | Epoch: 62 Loss: tensor(0.5301, device='cuda:0', grad_fn=<DivBackward0>)\n",
      "Training set | Epoch: 63 Loss: tensor(0.5275, device='cuda:0', grad_fn=<DivBackward0>)\n",
      "Training set | Epoch: 64 Loss: tensor(0.5248, device='cuda:0', grad_fn=<DivBackward0>)\n",
      "Training set | Epoch: 65 Loss: tensor(0.5220, device='cuda:0', grad_fn=<DivBackward0>)\n",
      "Training set | Epoch: 66 Loss: tensor(0.5188, device='cuda:0', grad_fn=<DivBackward0>)\n",
      "Training set | Epoch: 67 Loss: tensor(0.5151, device='cuda:0', grad_fn=<DivBackward0>)\n",
      "Training set | Epoch: 68 Loss: tensor(0.5115, device='cuda:0', grad_fn=<DivBackward0>)\n",
      "Training set | Epoch: 69 Loss: tensor(0.5077, device='cuda:0', grad_fn=<DivBackward0>)\n",
      "Training set | Epoch: 70 Loss: tensor(0.5028, device='cuda:0', grad_fn=<DivBackward0>)\n",
      "Training set | Epoch: 71 Loss: tensor(0.4983, device='cuda:0', grad_fn=<DivBackward0>)\n",
      "Training set | Epoch: 72 Loss: tensor(0.4936, device='cuda:0', grad_fn=<DivBackward0>)\n",
      "Training set | Epoch: 73 Loss: tensor(0.4879, device='cuda:0', grad_fn=<DivBackward0>)\n",
      "Training set | Epoch: 74 Loss: tensor(0.4811, device='cuda:0', grad_fn=<DivBackward0>)\n",
      "Training set | Epoch: 75 Loss: tensor(0.4760, device='cuda:0', grad_fn=<DivBackward0>)\n",
      "Training set | Epoch: 76 Loss: tensor(0.4685, device='cuda:0', grad_fn=<DivBackward0>)\n",
      "Training set | Epoch: 77 Loss: tensor(0.4609, device='cuda:0', grad_fn=<DivBackward0>)\n",
      "Training set | Epoch: 78 Loss: tensor(0.4532, device='cuda:0', grad_fn=<DivBackward0>)\n",
      "Training set | Epoch: 79 Loss: tensor(0.4457, device='cuda:0', grad_fn=<DivBackward0>)\n",
      "Training set | Epoch: 80 Loss: tensor(0.4370, device='cuda:0', grad_fn=<DivBackward0>)\n",
      "Training set | Epoch: 81 Loss: tensor(0.4297, device='cuda:0', grad_fn=<DivBackward0>)\n",
      "Training set | Epoch: 82 Loss: tensor(0.4213, device='cuda:0', grad_fn=<DivBackward0>)\n",
      "Training set | Epoch: 83 Loss: tensor(0.4132, device='cuda:0', grad_fn=<DivBackward0>)\n",
      "Training set | Epoch: 84 Loss: tensor(0.4058, device='cuda:0', grad_fn=<DivBackward0>)\n",
      "Training set | Epoch: 85 Loss: tensor(0.3994, device='cuda:0', grad_fn=<DivBackward0>)\n",
      "Training set | Epoch: 86 Loss: tensor(0.3929, device='cuda:0', grad_fn=<DivBackward0>)\n",
      "Training set | Epoch: 87 Loss: tensor(0.3876, device='cuda:0', grad_fn=<DivBackward0>)\n",
      "Training set | Epoch: 88 Loss: tensor(0.3834, device='cuda:0', grad_fn=<DivBackward0>)\n",
      "Training set | Epoch: 89 Loss: tensor(0.3804, device='cuda:0', grad_fn=<DivBackward0>)\n",
      "Training set | Epoch: 90 Loss: tensor(0.3780, device='cuda:0', grad_fn=<DivBackward0>)\n",
      "Training set | Epoch: 91 Loss: tensor(0.3755, device='cuda:0', grad_fn=<DivBackward0>)\n",
      "Training set | Epoch: 92 Loss: tensor(0.3742, device='cuda:0', grad_fn=<DivBackward0>)\n",
      "Training set | Epoch: 93 Loss: tensor(0.3736, device='cuda:0', grad_fn=<DivBackward0>)\n",
      "Training set | Epoch: 94 Loss: tensor(0.3731, device='cuda:0', grad_fn=<DivBackward0>)\n",
      "Training set | Epoch: 95 Loss: tensor(0.3728, device='cuda:0', grad_fn=<DivBackward0>)\n",
      "Training set | Epoch: 96 Loss: tensor(0.3726, device='cuda:0', grad_fn=<DivBackward0>)\n",
      "Training set | Epoch: 97 Loss: tensor(0.3729, device='cuda:0', grad_fn=<DivBackward0>)\n",
      "Training set | Epoch: 98 Loss: tensor(0.3729, device='cuda:0', grad_fn=<DivBackward0>)\n",
      "Training set | Epoch: 99 Loss: tensor(0.3728, device='cuda:0', grad_fn=<DivBackward0>)\n",
      "Training set | Epoch: 100 Loss: tensor(0.3728, device='cuda:0', grad_fn=<DivBackward0>)\n"
     ]
    }
   ],
   "source": [
    "model.fit(train_loader, 100)"
   ]
  },
  {
   "cell_type": "code",
   "execution_count": 9,
   "metadata": {},
   "outputs": [
    {
     "name": "stdout",
     "output_type": "stream",
     "text": [
      "Total matched 1 out of 1 |  Loss: tensor(0.0014, device='cuda:0', grad_fn=<DivBackward0>) | Accuracy 100.0 %\n"
     ]
    }
   ],
   "source": [
    "import csv\n",
    "\n",
    "# testing\n",
    "torch.no_grad()\n",
    "# torch.set_printoptions(profile=\"full\")\n",
    "\n",
    "f = open(\"test_result.csv\", \"w\", newline='')\n",
    "csv_writer = csv.writer(f)\n",
    "csv_writer.writerow([\"Actual\", \"Predicted\"])\n",
    "\n",
    "total_matched = 0\n",
    "criterion = torch.nn.MSELoss()\n",
    "\n",
    "total_loss = 0\n",
    "for batch in test_loader:\n",
    "    x = batch[0].to(device)\n",
    "    # x = x.repeat(1, 8, 1)\n",
    "    y = batch[1].to(device)\n",
    "    out = model(x, test_loader.dataset.dataset.A.to(device))\n",
    "    csv_writer.writerows(zip(y.detach().cpu().numpy(), out.detach().cpu().numpy()))\n",
    "    loss = criterion(out, y)\n",
    "    out = torch.round(out)\n",
    "    matched = (out == y).sum().item()\n",
    "    total_matched += matched\n",
    "    total_loss += loss\n",
    "    loss.backward()\n",
    "\n",
    "f.close()\n",
    "print(\n",
    "    \"Total matched\",\n",
    "    total_matched,\n",
    "    \"out of\",\n",
    "    len(test_set),\n",
    "    \"| \",\n",
    "    \"Loss:\",\n",
    "    total_loss / len(test_loader),\n",
    "    \"| Accuracy\",\n",
    "    round(total_matched / len(test_set) * 100, 4),\n",
    "    \"%\",\n",
    ")"
   ]
  }
 ],
 "metadata": {
  "kernelspec": {
   "display_name": "cvf",
   "language": "python",
   "name": "python3"
  },
  "language_info": {
   "codemirror_mode": {
    "name": "ipython",
    "version": 3
   },
   "file_extension": ".py",
   "mimetype": "text/x-python",
   "name": "python",
   "nbconvert_exporter": "python",
   "pygments_lexer": "ipython3",
   "version": "3.12.2"
  }
 },
 "nbformat": 4,
 "nbformat_minor": 2
}
