{
 "cells": [
  {
   "cell_type": "code",
   "execution_count": 1,
   "metadata": {},
   "outputs": [],
   "source": [
    "import torch\n",
    "import torch.nn as nn"
   ]
  },
  {
   "cell_type": "code",
   "execution_count": 2,
   "metadata": {},
   "outputs": [],
   "source": [
    "from helpers_wo_embedding import CVFConfigDataset\n",
    "\n",
    "from torch.utils.data import DataLoader, random_split"
   ]
  },
  {
   "cell_type": "code",
   "execution_count": 3,
   "metadata": {},
   "outputs": [
    {
     "data": {
      "text/plain": [
       "device(type='cuda')"
      ]
     },
     "execution_count": 3,
     "metadata": {},
     "output_type": "execute_result"
    }
   ],
   "source": [
    "device = torch.device('cuda' if torch.cuda.is_available() else 'cpu')\n",
    "device"
   ]
  },
  {
   "cell_type": "code",
   "execution_count": 4,
   "metadata": {},
   "outputs": [],
   "source": [
    "class MLPByHand(nn.Module):\n",
    "    def __init__(self, N, in_channels, out_channels):\n",
    "        super().__init__()\n",
    "        self.linear1 = nn.Linear(in_channels, 32)\n",
    "        self.linear2 = nn.Linear(32, 32)\n",
    "        self.out = torch.nn.Linear(32, out_channels, bias=True)\n",
    "\n",
    "    def forward(self, x, A):\n",
    "        x = self.linear1(x)\n",
    "        x = torch.relu(x)\n",
    "        x = self.linear2(x)\n",
    "        x = torch.relu(x)\n",
    "        x = self.out(x)\n",
    "        return x\n",
    "\n",
    "    def fit(self, train_loader, epochs):\n",
    "        criterion = torch.nn.MSELoss()\n",
    "        optimizer = torch.optim.Adam(\n",
    "            self.parameters(), lr=0.01, weight_decay=0.01\n",
    "        )  # weight_decay is a L2 regularization parameter\n",
    "        for epoch in range(1, epochs + 1):\n",
    "            self.train()\n",
    "            total_loss = 0\n",
    "            count = 0\n",
    "            for batch in train_loader:\n",
    "                x = batch[0].to(device)\n",
    "                y = batch[1].to(device)\n",
    "                optimizer.zero_grad()\n",
    "                out = self(x, train_loader.dataset.dataset.A.to(device))\n",
    "                loss = criterion(out, y)\n",
    "                total_loss += loss\n",
    "                count += 1\n",
    "                loss.backward()\n",
    "                optimizer.step()\n",
    "\n",
    "            print(\"Training set | Epoch:\", epoch, \"Loss:\", total_loss / count)"
   ]
  },
  {
   "cell_type": "code",
   "execution_count": 5,
   "metadata": {},
   "outputs": [
    {
     "data": {
      "text/plain": [
       "MLPByHand(\n",
       "  (linear1): Linear(in_features=4, out_features=32, bias=True)\n",
       "  (linear2): Linear(in_features=32, out_features=32, bias=True)\n",
       "  (out): Linear(in_features=32, out_features=1, bias=True)\n",
       ")"
      ]
     },
     "execution_count": 5,
     "metadata": {},
     "output_type": "execute_result"
    }
   ],
   "source": [
    "num_nodes = 4       # N\n",
    "num_features = 4     # D\n",
    "num_labels = 1       # O\n",
    "batch_size = 10      # B\n",
    "\n",
    "# the following needs to be replaced by some node embeddings\n",
    "# x = torch.randn((batch_size, num_features, num_nodes)) # B x D x N\n",
    "\n",
    "# A = torch.tensor([[0, 1, 1], [1, 0, 0], [1, 0, 0]])  # adjacency matrix ( N x N )\n",
    "\n",
    "model = MLPByHand(N=num_nodes, in_channels=num_features, out_channels=num_labels)\n",
    "model.to(device)\n",
    "\n",
    "# out = model(x, A)   # B x D x O\n",
    "\n",
    "# print(\"output\", out.shape)"
   ]
  },
  {
   "cell_type": "code",
   "execution_count": 6,
   "metadata": {},
   "outputs": [],
   "source": [
    "dataset = CVFConfigDataset(\n",
    "    \"coloring\",\n",
    "    \"graph_random_regular_graph_n4_d3_config_rank_dataset.csv\",\n",
    "    \"graph_random_regular_graph_n4_d3_A.json\",\n",
    "    num_nodes,\n",
    ")"
   ]
  },
  {
   "cell_type": "code",
   "execution_count": 7,
   "metadata": {},
   "outputs": [],
   "source": [
    "train_split = 0.9\n",
    "test_split = 0.1\n",
    "\n",
    "train_set, test_set = random_split(\n",
    "    dataset, [train_split, test_split]\n",
    ")\n",
    "\n",
    "train_loader = DataLoader(train_set, batch_size=10, shuffle=True)\n",
    "test_loader = DataLoader(test_set, batch_size=100, shuffle=False)"
   ]
  },
  {
   "cell_type": "code",
   "execution_count": 8,
   "metadata": {},
   "outputs": [
    {
     "name": "stdout",
     "output_type": "stream",
     "text": [
      "Training set | Epoch: 1 Loss: tensor(0.8175, device='cuda:0', grad_fn=<DivBackward0>)\n",
      "Training set | Epoch: 2 Loss: tensor(0.4496, device='cuda:0', grad_fn=<DivBackward0>)\n",
      "Training set | Epoch: 3 Loss: tensor(0.4191, device='cuda:0', grad_fn=<DivBackward0>)\n",
      "Training set | Epoch: 4 Loss: tensor(0.4217, device='cuda:0', grad_fn=<DivBackward0>)\n",
      "Training set | Epoch: 5 Loss: tensor(0.4516, device='cuda:0', grad_fn=<DivBackward0>)\n",
      "Training set | Epoch: 6 Loss: tensor(0.4343, device='cuda:0', grad_fn=<DivBackward0>)\n",
      "Training set | Epoch: 7 Loss: tensor(0.4297, device='cuda:0', grad_fn=<DivBackward0>)\n",
      "Training set | Epoch: 8 Loss: tensor(0.4229, device='cuda:0', grad_fn=<DivBackward0>)\n",
      "Training set | Epoch: 9 Loss: tensor(0.4366, device='cuda:0', grad_fn=<DivBackward0>)\n",
      "Training set | Epoch: 10 Loss: tensor(0.4241, device='cuda:0', grad_fn=<DivBackward0>)\n",
      "Training set | Epoch: 11 Loss: tensor(0.4866, device='cuda:0', grad_fn=<DivBackward0>)\n",
      "Training set | Epoch: 12 Loss: tensor(0.4532, device='cuda:0', grad_fn=<DivBackward0>)\n",
      "Training set | Epoch: 13 Loss: tensor(0.4585, device='cuda:0', grad_fn=<DivBackward0>)\n",
      "Training set | Epoch: 14 Loss: tensor(0.4914, device='cuda:0', grad_fn=<DivBackward0>)\n",
      "Training set | Epoch: 15 Loss: tensor(0.4514, device='cuda:0', grad_fn=<DivBackward0>)\n",
      "Training set | Epoch: 16 Loss: tensor(0.4208, device='cuda:0', grad_fn=<DivBackward0>)\n",
      "Training set | Epoch: 17 Loss: tensor(0.4240, device='cuda:0', grad_fn=<DivBackward0>)\n",
      "Training set | Epoch: 18 Loss: tensor(0.4159, device='cuda:0', grad_fn=<DivBackward0>)\n",
      "Training set | Epoch: 19 Loss: tensor(0.4799, device='cuda:0', grad_fn=<DivBackward0>)\n",
      "Training set | Epoch: 20 Loss: tensor(0.4201, device='cuda:0', grad_fn=<DivBackward0>)\n",
      "Training set | Epoch: 21 Loss: tensor(0.4206, device='cuda:0', grad_fn=<DivBackward0>)\n",
      "Training set | Epoch: 22 Loss: tensor(0.4430, device='cuda:0', grad_fn=<DivBackward0>)\n",
      "Training set | Epoch: 23 Loss: tensor(0.4123, device='cuda:0', grad_fn=<DivBackward0>)\n",
      "Training set | Epoch: 24 Loss: tensor(0.4086, device='cuda:0', grad_fn=<DivBackward0>)\n",
      "Training set | Epoch: 25 Loss: tensor(0.4412, device='cuda:0', grad_fn=<DivBackward0>)\n",
      "Training set | Epoch: 26 Loss: tensor(0.4318, device='cuda:0', grad_fn=<DivBackward0>)\n",
      "Training set | Epoch: 27 Loss: tensor(0.4230, device='cuda:0', grad_fn=<DivBackward0>)\n",
      "Training set | Epoch: 28 Loss: tensor(0.4197, device='cuda:0', grad_fn=<DivBackward0>)\n",
      "Training set | Epoch: 29 Loss: tensor(0.4184, device='cuda:0', grad_fn=<DivBackward0>)\n",
      "Training set | Epoch: 30 Loss: tensor(0.4319, device='cuda:0', grad_fn=<DivBackward0>)\n",
      "Training set | Epoch: 31 Loss: tensor(0.4161, device='cuda:0', grad_fn=<DivBackward0>)\n",
      "Training set | Epoch: 32 Loss: tensor(0.4149, device='cuda:0', grad_fn=<DivBackward0>)\n",
      "Training set | Epoch: 33 Loss: tensor(0.4298, device='cuda:0', grad_fn=<DivBackward0>)\n",
      "Training set | Epoch: 34 Loss: tensor(0.4486, device='cuda:0', grad_fn=<DivBackward0>)\n",
      "Training set | Epoch: 35 Loss: tensor(0.4154, device='cuda:0', grad_fn=<DivBackward0>)\n",
      "Training set | Epoch: 36 Loss: tensor(0.4261, device='cuda:0', grad_fn=<DivBackward0>)\n",
      "Training set | Epoch: 37 Loss: tensor(0.4291, device='cuda:0', grad_fn=<DivBackward0>)\n",
      "Training set | Epoch: 38 Loss: tensor(0.4597, device='cuda:0', grad_fn=<DivBackward0>)\n",
      "Training set | Epoch: 39 Loss: tensor(0.4450, device='cuda:0', grad_fn=<DivBackward0>)\n",
      "Training set | Epoch: 40 Loss: tensor(0.4407, device='cuda:0', grad_fn=<DivBackward0>)\n",
      "Training set | Epoch: 41 Loss: tensor(0.4515, device='cuda:0', grad_fn=<DivBackward0>)\n",
      "Training set | Epoch: 42 Loss: tensor(0.4254, device='cuda:0', grad_fn=<DivBackward0>)\n",
      "Training set | Epoch: 43 Loss: tensor(0.4326, device='cuda:0', grad_fn=<DivBackward0>)\n",
      "Training set | Epoch: 44 Loss: tensor(0.4302, device='cuda:0', grad_fn=<DivBackward0>)\n",
      "Training set | Epoch: 45 Loss: tensor(0.4185, device='cuda:0', grad_fn=<DivBackward0>)\n",
      "Training set | Epoch: 46 Loss: tensor(0.4206, device='cuda:0', grad_fn=<DivBackward0>)\n",
      "Training set | Epoch: 47 Loss: tensor(0.4211, device='cuda:0', grad_fn=<DivBackward0>)\n",
      "Training set | Epoch: 48 Loss: tensor(0.4280, device='cuda:0', grad_fn=<DivBackward0>)\n",
      "Training set | Epoch: 49 Loss: tensor(0.4415, device='cuda:0', grad_fn=<DivBackward0>)\n",
      "Training set | Epoch: 50 Loss: tensor(0.4690, device='cuda:0', grad_fn=<DivBackward0>)\n",
      "Training set | Epoch: 51 Loss: tensor(0.4181, device='cuda:0', grad_fn=<DivBackward0>)\n",
      "Training set | Epoch: 52 Loss: tensor(0.4197, device='cuda:0', grad_fn=<DivBackward0>)\n",
      "Training set | Epoch: 53 Loss: tensor(0.4362, device='cuda:0', grad_fn=<DivBackward0>)\n",
      "Training set | Epoch: 54 Loss: tensor(0.4113, device='cuda:0', grad_fn=<DivBackward0>)\n",
      "Training set | Epoch: 55 Loss: tensor(0.4312, device='cuda:0', grad_fn=<DivBackward0>)\n",
      "Training set | Epoch: 56 Loss: tensor(0.4136, device='cuda:0', grad_fn=<DivBackward0>)\n",
      "Training set | Epoch: 57 Loss: tensor(0.4347, device='cuda:0', grad_fn=<DivBackward0>)\n",
      "Training set | Epoch: 58 Loss: tensor(0.4270, device='cuda:0', grad_fn=<DivBackward0>)\n",
      "Training set | Epoch: 59 Loss: tensor(0.4413, device='cuda:0', grad_fn=<DivBackward0>)\n",
      "Training set | Epoch: 60 Loss: tensor(0.4707, device='cuda:0', grad_fn=<DivBackward0>)\n",
      "Training set | Epoch: 61 Loss: tensor(0.4142, device='cuda:0', grad_fn=<DivBackward0>)\n",
      "Training set | Epoch: 62 Loss: tensor(0.4112, device='cuda:0', grad_fn=<DivBackward0>)\n",
      "Training set | Epoch: 63 Loss: tensor(0.4697, device='cuda:0', grad_fn=<DivBackward0>)\n",
      "Training set | Epoch: 64 Loss: tensor(0.4358, device='cuda:0', grad_fn=<DivBackward0>)\n",
      "Training set | Epoch: 65 Loss: tensor(0.4696, device='cuda:0', grad_fn=<DivBackward0>)\n",
      "Training set | Epoch: 66 Loss: tensor(0.5002, device='cuda:0', grad_fn=<DivBackward0>)\n",
      "Training set | Epoch: 67 Loss: tensor(0.4204, device='cuda:0', grad_fn=<DivBackward0>)\n",
      "Training set | Epoch: 68 Loss: tensor(0.4108, device='cuda:0', grad_fn=<DivBackward0>)\n",
      "Training set | Epoch: 69 Loss: tensor(0.4124, device='cuda:0', grad_fn=<DivBackward0>)\n",
      "Training set | Epoch: 70 Loss: tensor(0.4720, device='cuda:0', grad_fn=<DivBackward0>)\n",
      "Training set | Epoch: 71 Loss: tensor(0.4120, device='cuda:0', grad_fn=<DivBackward0>)\n",
      "Training set | Epoch: 72 Loss: tensor(0.4332, device='cuda:0', grad_fn=<DivBackward0>)\n",
      "Training set | Epoch: 73 Loss: tensor(0.4193, device='cuda:0', grad_fn=<DivBackward0>)\n",
      "Training set | Epoch: 74 Loss: tensor(0.4225, device='cuda:0', grad_fn=<DivBackward0>)\n",
      "Training set | Epoch: 75 Loss: tensor(0.4699, device='cuda:0', grad_fn=<DivBackward0>)\n",
      "Training set | Epoch: 76 Loss: tensor(0.4332, device='cuda:0', grad_fn=<DivBackward0>)\n",
      "Training set | Epoch: 77 Loss: tensor(0.4719, device='cuda:0', grad_fn=<DivBackward0>)\n",
      "Training set | Epoch: 78 Loss: tensor(0.4195, device='cuda:0', grad_fn=<DivBackward0>)\n",
      "Training set | Epoch: 79 Loss: tensor(0.4129, device='cuda:0', grad_fn=<DivBackward0>)\n",
      "Training set | Epoch: 80 Loss: tensor(0.4115, device='cuda:0', grad_fn=<DivBackward0>)\n",
      "Training set | Epoch: 81 Loss: tensor(0.4274, device='cuda:0', grad_fn=<DivBackward0>)\n",
      "Training set | Epoch: 82 Loss: tensor(0.4115, device='cuda:0', grad_fn=<DivBackward0>)\n",
      "Training set | Epoch: 83 Loss: tensor(0.4120, device='cuda:0', grad_fn=<DivBackward0>)\n",
      "Training set | Epoch: 84 Loss: tensor(0.4107, device='cuda:0', grad_fn=<DivBackward0>)\n",
      "Training set | Epoch: 85 Loss: tensor(0.4305, device='cuda:0', grad_fn=<DivBackward0>)\n",
      "Training set | Epoch: 86 Loss: tensor(0.4280, device='cuda:0', grad_fn=<DivBackward0>)\n",
      "Training set | Epoch: 87 Loss: tensor(0.4131, device='cuda:0', grad_fn=<DivBackward0>)\n",
      "Training set | Epoch: 88 Loss: tensor(0.4132, device='cuda:0', grad_fn=<DivBackward0>)\n",
      "Training set | Epoch: 89 Loss: tensor(0.4330, device='cuda:0', grad_fn=<DivBackward0>)\n",
      "Training set | Epoch: 90 Loss: tensor(0.4231, device='cuda:0', grad_fn=<DivBackward0>)\n",
      "Training set | Epoch: 91 Loss: tensor(0.4796, device='cuda:0', grad_fn=<DivBackward0>)\n",
      "Training set | Epoch: 92 Loss: tensor(0.4300, device='cuda:0', grad_fn=<DivBackward0>)\n",
      "Training set | Epoch: 93 Loss: tensor(0.4295, device='cuda:0', grad_fn=<DivBackward0>)\n",
      "Training set | Epoch: 94 Loss: tensor(0.4257, device='cuda:0', grad_fn=<DivBackward0>)\n",
      "Training set | Epoch: 95 Loss: tensor(0.4302, device='cuda:0', grad_fn=<DivBackward0>)\n",
      "Training set | Epoch: 96 Loss: tensor(0.4093, device='cuda:0', grad_fn=<DivBackward0>)\n",
      "Training set | Epoch: 97 Loss: tensor(0.4119, device='cuda:0', grad_fn=<DivBackward0>)\n",
      "Training set | Epoch: 98 Loss: tensor(0.4136, device='cuda:0', grad_fn=<DivBackward0>)\n",
      "Training set | Epoch: 99 Loss: tensor(0.4320, device='cuda:0', grad_fn=<DivBackward0>)\n",
      "Training set | Epoch: 100 Loss: tensor(0.4276, device='cuda:0', grad_fn=<DivBackward0>)\n"
     ]
    }
   ],
   "source": [
    "model.fit(train_loader, 100)"
   ]
  },
  {
   "cell_type": "code",
   "execution_count": 9,
   "metadata": {},
   "outputs": [
    {
     "name": "stdout",
     "output_type": "stream",
     "text": [
      "Total matched 15 out of 25 |  Loss: tensor(0.3446, device='cuda:0', grad_fn=<DivBackward0>) | Accuracy 60.0 %\n"
     ]
    }
   ],
   "source": [
    "import csv\n",
    "\n",
    "# testing\n",
    "torch.no_grad()\n",
    "# torch.set_printoptions(profile=\"full\")\n",
    "\n",
    "f = open(\"test_result.csv\", \"w\", newline='')\n",
    "csv_writer = csv.writer(f)\n",
    "csv_writer.writerow([\"Actual\", \"Predicted\"])\n",
    "\n",
    "total_matched = 0\n",
    "criterion = torch.nn.MSELoss()\n",
    "\n",
    "total_loss = 0\n",
    "for batch in test_loader:\n",
    "    x = batch[0].to(device)\n",
    "    # x = x.repeat(1, 8, 1)\n",
    "    y = batch[1].to(device)\n",
    "    out = model(x, test_loader.dataset.dataset.A.to(device))\n",
    "    csv_writer.writerows(zip(y.detach().cpu().numpy(), out.detach().cpu().numpy()))\n",
    "    loss = criterion(out, y)\n",
    "    out = torch.round(out)\n",
    "    matched = (out == y).sum().item()\n",
    "    total_matched += matched\n",
    "    total_loss += loss\n",
    "    loss.backward()\n",
    "\n",
    "f.close()\n",
    "print(\n",
    "    \"Total matched\",\n",
    "    total_matched,\n",
    "    \"out of\",\n",
    "    len(test_set),\n",
    "    \"| \",\n",
    "    \"Loss:\",\n",
    "    total_loss / len(test_loader),\n",
    "    \"| Accuracy\",\n",
    "    round(total_matched / len(test_set) * 100, 4),\n",
    "    \"%\",\n",
    ")"
   ]
  }
 ],
 "metadata": {
  "kernelspec": {
   "display_name": "cvf",
   "language": "python",
   "name": "python3"
  },
  "language_info": {
   "codemirror_mode": {
    "name": "ipython",
    "version": 3
   },
   "file_extension": ".py",
   "mimetype": "text/x-python",
   "name": "python",
   "nbconvert_exporter": "python",
   "pygments_lexer": "ipython3",
   "version": "3.12.2"
  }
 },
 "nbformat": 4,
 "nbformat_minor": 2
}
