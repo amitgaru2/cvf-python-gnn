{
 "cells": [
  {
   "cell_type": "code",
   "execution_count": 1,
   "metadata": {},
   "outputs": [
    {
     "data": {
      "text/plain": [
       "'cuda'"
      ]
     },
     "execution_count": 1,
     "metadata": {},
     "output_type": "execute_result"
    }
   ],
   "source": [
    "\n",
    "import os\n",
    "\n",
    "import torch\n",
    "\n",
    "from torch_geometric.nn import Node2Vec\n",
    "\n",
    "device = 'cuda' if torch.cuda.is_available() else 'cpu'\n",
    "device\n"
   ]
  },
  {
   "cell_type": "code",
   "execution_count": 2,
   "metadata": {},
   "outputs": [],
   "source": [
    "from scipy.spatial import distance"
   ]
  },
  {
   "cell_type": "code",
   "execution_count": 3,
   "metadata": {},
   "outputs": [],
   "source": [
    "def adjacency_to_edge_index(file):\n",
    "    edge_index = [[], []]\n",
    "    for indx, line in enumerate(file):\n",
    "        for edge in line.rstrip().split(\" \"):\n",
    "            edge_index[0].append(indx)\n",
    "            edge_index[1].append(int(edge))\n",
    "    \n",
    "    return edge_index"
   ]
  },
  {
   "cell_type": "code",
   "execution_count": 4,
   "metadata": {},
   "outputs": [],
   "source": [
    "# dataset_dir = os.path.join(\n",
    "#     os.getenv(\"CVF_PROJECT_DIR\", \"\"), \"cvf-analysis\", \"v2\", \"datasets\", \"coloring\"\n",
    "# )\n",
    "# # edge_index_file = \"tiny_graph_test_pt_adj_list.txt\"\n",
    "# # edge_index_file = \"small_graph_test_pt_adj_list.txt\"\n",
    "# edge_index_file = \"graph_1_pt_adj_list.txt\"\n",
    "\n",
    "dataset_dir = os.path.join(\n",
    "    os.getenv(\"CVF_PROJECT_DIR\", \"\"), \"cvf-analysis\", \"v2\", \"datasets\", \"coloring\"\n",
    ")\n",
    "\n",
    "edge_index_file = \"graph_1_adj_list.txt\"\n",
    "\n",
    "f = open(os.path.join(dataset_dir, edge_index_file), \"r\")\n",
    "edge_index = torch.tensor(adjacency_to_edge_index(f)).to(device)\n"
   ]
  },
  {
   "cell_type": "code",
   "execution_count": 5,
   "metadata": {},
   "outputs": [
    {
     "data": {
      "text/plain": [
       "tensor([[0, 0, 0, 0, 0, 0, 0, 0, 0, 1, 2, 3, 4, 5, 6, 7, 8, 9],\n",
       "        [1, 2, 3, 4, 5, 6, 7, 8, 9, 0, 0, 0, 0, 0, 0, 0, 0, 0]],\n",
       "       device='cuda:0')"
      ]
     },
     "execution_count": 5,
     "metadata": {},
     "output_type": "execute_result"
    }
   ],
   "source": [
    "edge_index"
   ]
  },
  {
   "cell_type": "code",
   "execution_count": 6,
   "metadata": {},
   "outputs": [],
   "source": [
    "model = Node2Vec(\n",
    "    edge_index,\n",
    "    embedding_dim=2,\n",
    "    walks_per_node=10,\n",
    "    walk_length=10,\n",
    "    context_size=5,\n",
    "    p=1.0,\n",
    "    q=1.0,\n",
    "    num_negative_samples=5,\n",
    ").to(device)\n"
   ]
  },
  {
   "cell_type": "code",
   "execution_count": 7,
   "metadata": {},
   "outputs": [],
   "source": [
    "loader = model.loader(batch_size=128, shuffle=True, num_workers=4)\n",
    "optimizer = torch.optim.Adam(model.parameters(), lr=0.01)\n",
    "\n",
    "# optimizer = torch.optim.SparseAdam(list(model.parameters()), lr=0.01)\n",
    "\n",
    "\n",
    "def train():\n",
    "    model.train()\n",
    "    total_loss = 0\n",
    "    for pos_rw, neg_rw in loader:\n",
    "        optimizer.zero_grad()\n",
    "        loss = model.loss(pos_rw.to(device), neg_rw.to(device))\n",
    "        loss.backward()\n",
    "        optimizer.step()\n",
    "        total_loss += loss.item()\n",
    "    return total_loss / len(loader)"
   ]
  },
  {
   "cell_type": "code",
   "execution_count": null,
   "metadata": {},
   "outputs": [],
   "source": [
    "# @torch.no_grad()\n",
    "# def test():\n",
    "#     model.eval()\n",
    "#     z = model()\n",
    "#     acc = model.test(\n",
    "#         train_z=z[data.train_mask],\n",
    "#         train_y=da,0.0ta.y[data.train_mask],\n",
    "#         test_z=z[data.test_mask],\n",
    "#         test_y=data.y[data.test_mask],\n",
    "#         max_iter=150,\n",
    "#     )\n",
    "#     return acc"
   ]
  },
  {
   "cell_type": "code",
   "execution_count": 9,
   "metadata": {},
   "outputs": [
    {
     "name": "stdout",
     "output_type": "stream",
     "text": [
      "Epoch: 001, Loss: 1.8301\n",
      "Epoch: 002, Loss: 1.7986\n",
      "Epoch: 003, Loss: 1.8182\n",
      "Epoch: 004, Loss: 1.8049\n",
      "Epoch: 005, Loss: 1.7554\n",
      "Epoch: 006, Loss: 1.7510\n",
      "Epoch: 007, Loss: 1.7451\n",
      "Epoch: 008, Loss: 1.7341\n",
      "Epoch: 009, Loss: 1.6605\n",
      "Epoch: 010, Loss: 1.7295\n",
      "Epoch: 011, Loss: 1.6544\n",
      "Epoch: 012, Loss: 1.6771\n",
      "Epoch: 013, Loss: 1.6356\n",
      "Epoch: 014, Loss: 1.6422\n",
      "Epoch: 015, Loss: 1.6717\n",
      "Epoch: 016, Loss: 1.5794\n",
      "Epoch: 017, Loss: 1.5810\n",
      "Epoch: 018, Loss: 1.6151\n",
      "Epoch: 019, Loss: 1.6098\n",
      "Epoch: 020, Loss: 1.6170\n",
      "Epoch: 021, Loss: 1.6153\n",
      "Epoch: 022, Loss: 1.5137\n",
      "Epoch: 023, Loss: 1.5508\n",
      "Epoch: 024, Loss: 1.5301\n",
      "Epoch: 025, Loss: 1.5061\n",
      "Epoch: 026, Loss: 1.5414\n",
      "Epoch: 027, Loss: 1.5009\n",
      "Epoch: 028, Loss: 1.5051\n",
      "Epoch: 029, Loss: 1.5000\n",
      "Epoch: 030, Loss: 1.4864\n",
      "Epoch: 031, Loss: 1.5054\n",
      "Epoch: 032, Loss: 1.4814\n",
      "Epoch: 033, Loss: 1.4717\n",
      "Epoch: 034, Loss: 1.4686\n",
      "Epoch: 035, Loss: 1.4421\n",
      "Epoch: 036, Loss: 1.4553\n",
      "Epoch: 037, Loss: 1.4444\n",
      "Epoch: 038, Loss: 1.4503\n",
      "Epoch: 039, Loss: 1.4224\n",
      "Epoch: 040, Loss: 1.4497\n",
      "Epoch: 041, Loss: 1.4042\n",
      "Epoch: 042, Loss: 1.4082\n",
      "Epoch: 043, Loss: 1.4033\n",
      "Epoch: 044, Loss: 1.4076\n",
      "Epoch: 045, Loss: 1.3950\n",
      "Epoch: 046, Loss: 1.3975\n",
      "Epoch: 047, Loss: 1.4103\n",
      "Epoch: 048, Loss: 1.3694\n",
      "Epoch: 049, Loss: 1.3790\n",
      "Epoch: 050, Loss: 1.4037\n",
      "Epoch: 051, Loss: 1.4005\n",
      "Epoch: 052, Loss: 1.3928\n",
      "Epoch: 053, Loss: 1.3562\n",
      "Epoch: 054, Loss: 1.3806\n",
      "Epoch: 055, Loss: 1.3807\n",
      "Epoch: 056, Loss: 1.3716\n",
      "Epoch: 057, Loss: 1.3338\n",
      "Epoch: 058, Loss: 1.3528\n",
      "Epoch: 059, Loss: 1.3443\n",
      "Epoch: 060, Loss: 1.3540\n",
      "Epoch: 061, Loss: 1.3512\n",
      "Epoch: 062, Loss: 1.3334\n",
      "Epoch: 063, Loss: 1.3431\n",
      "Epoch: 064, Loss: 1.3373\n",
      "Epoch: 065, Loss: 1.3419\n",
      "Epoch: 066, Loss: 1.3169\n",
      "Epoch: 067, Loss: 1.3097\n",
      "Epoch: 068, Loss: 1.3271\n",
      "Epoch: 069, Loss: 1.3463\n",
      "Epoch: 070, Loss: 1.3252\n",
      "Epoch: 071, Loss: 1.3471\n",
      "Epoch: 072, Loss: 1.3463\n",
      "Epoch: 073, Loss: 1.3153\n",
      "Epoch: 074, Loss: 1.3244\n",
      "Epoch: 075, Loss: 1.3096\n",
      "Epoch: 076, Loss: 1.3194\n",
      "Epoch: 077, Loss: 1.3046\n",
      "Epoch: 078, Loss: 1.3091\n",
      "Epoch: 079, Loss: 1.3244\n",
      "Epoch: 080, Loss: 1.3202\n",
      "Epoch: 081, Loss: 1.3084\n",
      "Epoch: 082, Loss: 1.2745\n",
      "Epoch: 083, Loss: 1.2962\n",
      "Epoch: 084, Loss: 1.3141\n",
      "Epoch: 085, Loss: 1.3017\n",
      "Epoch: 086, Loss: 1.2953\n",
      "Epoch: 087, Loss: 1.2885\n",
      "Epoch: 088, Loss: 1.3231\n",
      "Epoch: 089, Loss: 1.2822\n",
      "Epoch: 090, Loss: 1.2844\n",
      "Epoch: 091, Loss: 1.2927\n",
      "Epoch: 092, Loss: 1.2871\n",
      "Epoch: 093, Loss: 1.2795\n",
      "Epoch: 094, Loss: 1.2845\n",
      "Epoch: 095, Loss: 1.2898\n",
      "Epoch: 096, Loss: 1.2930\n",
      "Epoch: 097, Loss: 1.2878\n",
      "Epoch: 098, Loss: 1.2880\n",
      "Epoch: 099, Loss: 1.2880\n",
      "Epoch: 100, Loss: 1.2982\n"
     ]
    }
   ],
   "source": [
    "for epoch in range(1, 101):\n",
    "    loss = train()\n",
    "    # acc = test()\n",
    "    # print(f'Epoch: {epoch:03d}, Loss: {loss:.4f}, Acc: {acc:.4f}')\n",
    "    print(f'Epoch: {epoch:03d}, Loss: {loss:.4f}')\n"
   ]
  },
  {
   "cell_type": "code",
   "execution_count": 10,
   "metadata": {},
   "outputs": [
    {
     "data": {
      "text/plain": [
       "Parameter containing:\n",
       "tensor([[-1.5354,  0.2052],\n",
       "        [-1.5025,  0.5224],\n",
       "        [-0.1541,  0.2071],\n",
       "        [ 0.1569,  0.1130],\n",
       "        [-0.2320, -0.2065],\n",
       "        [-0.3274,  0.7681],\n",
       "        [ 0.1755, -0.8286],\n",
       "        [-0.0501,  0.0788],\n",
       "        [ 0.0115,  0.1823],\n",
       "        [-0.3455, -0.4390]], device='cuda:0', requires_grad=True)"
      ]
     },
     "execution_count": 10,
     "metadata": {},
     "output_type": "execute_result"
    }
   ],
   "source": [
    "model()"
   ]
  },
  {
   "cell_type": "code",
   "execution_count": 11,
   "metadata": {},
   "outputs": [
    {
     "data": {
      "text/plain": [
       "1.334983280343413"
      ]
     },
     "execution_count": 11,
     "metadata": {},
     "output_type": "execute_result"
    }
   ],
   "source": [
    "indx1 = 0\n",
    "indx2 = 6\n",
    "\n",
    "model.eval()\n",
    "params = model().cpu().detach().numpy()\n",
    "cosine_distance = distance.cosine(params[indx1], params[indx2])\n",
    "cosine_distance"
   ]
  },
  {
   "cell_type": "code",
   "execution_count": null,
   "metadata": {},
   "outputs": [],
   "source": []
  }
 ],
 "metadata": {
  "kernelspec": {
   "display_name": "cvf",
   "language": "python",
   "name": "python3"
  },
  "language_info": {
   "codemirror_mode": {
    "name": "ipython",
    "version": 3
   },
   "file_extension": ".py",
   "mimetype": "text/x-python",
   "name": "python",
   "nbconvert_exporter": "python",
   "pygments_lexer": "ipython3",
   "version": "3.12.2"
  }
 },
 "nbformat": 4,
 "nbformat_minor": 2
}
