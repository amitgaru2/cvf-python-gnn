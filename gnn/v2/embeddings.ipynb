{
 "cells": [
  {
   "cell_type": "code",
   "execution_count": 1,
   "metadata": {},
   "outputs": [
    {
     "data": {
      "text/plain": [
       "'cuda'"
      ]
     },
     "execution_count": 1,
     "metadata": {},
     "output_type": "execute_result"
    }
   ],
   "source": [
    "\n",
    "import os\n",
    "\n",
    "import torch\n",
    "\n",
    "from torch_geometric.nn import Node2Vec\n",
    "\n",
    "device = 'cuda' if torch.cuda.is_available() else 'cpu'\n",
    "device\n"
   ]
  },
  {
   "cell_type": "code",
   "execution_count": 2,
   "metadata": {},
   "outputs": [],
   "source": [
    "from scipy.spatial import distance"
   ]
  },
  {
   "cell_type": "code",
   "execution_count": 3,
   "metadata": {},
   "outputs": [],
   "source": [
    "def adjacency_to_edge_index(file):\n",
    "    edge_index = [[], []]\n",
    "    for indx, line in enumerate(file):\n",
    "        for edge in line.split(\",\"):\n",
    "            edge_index[0].append(indx)\n",
    "            edge_index[1].append(int(edge))\n",
    "    \n",
    "    return edge_index"
   ]
  },
  {
   "cell_type": "code",
   "execution_count": 4,
   "metadata": {},
   "outputs": [],
   "source": [
    "dataset_dir = os.path.join(\n",
    "    os.getenv(\"CVF_PROJECT_DIR\", \"\"), \"cvf-analysis\", \"v2\", \"datasets\", \"coloring\"\n",
    ")\n",
    "# edge_index_file = \"tiny_graph_test_pt_adj_list.txt\"\n",
    "# edge_index_file = \"small_graph_test_pt_adj_list.txt\"\n",
    "edge_index_file = \"graph_1_pt_adj_list.txt\"\n",
    "\n",
    "f = open(os.path.join(dataset_dir, edge_index_file), \"r\")\n",
    "edge_index = torch.tensor(adjacency_to_edge_index(f)).to(device)\n"
   ]
  },
  {
   "cell_type": "code",
   "execution_count": 5,
   "metadata": {},
   "outputs": [
    {
     "data": {
      "text/plain": [
       "tensor([[   0,    0,    0,  ..., 5117, 5118, 5119],\n",
       "        [ 512,  256,  128,  ..., 5117, 5118, 5119]], device='cuda:0')"
      ]
     },
     "execution_count": 5,
     "metadata": {},
     "output_type": "execute_result"
    }
   ],
   "source": [
    "edge_index"
   ]
  },
  {
   "cell_type": "code",
   "execution_count": 6,
   "metadata": {},
   "outputs": [],
   "source": [
    "model = Node2Vec(\n",
    "    edge_index,\n",
    "    embedding_dim=64,\n",
    "    walks_per_node=10,\n",
    "    walk_length=10,\n",
    "    context_size=10,\n",
    "    p=1.0,\n",
    "    q=1.0,\n",
    "    num_negative_samples=1,\n",
    ").to(device)\n"
   ]
  },
  {
   "cell_type": "code",
   "execution_count": 7,
   "metadata": {},
   "outputs": [],
   "source": [
    "loader = model.loader(batch_size=128, shuffle=True, num_workers=4)\n",
    "optimizer = torch.optim.Adam(model.parameters(), lr=0.01)\n",
    "\n",
    "# optimizer = torch.optim.SparseAdam(list(model.parameters()), lr=0.01)\n",
    "\n",
    "\n",
    "def train():\n",
    "    model.train()\n",
    "    total_loss = 0\n",
    "    for pos_rw, neg_rw in loader:\n",
    "        optimizer.zero_grad()\n",
    "        loss = model.loss(pos_rw.to(device), neg_rw.to(device))\n",
    "        loss.backward()\n",
    "        optimizer.step()\n",
    "        total_loss += loss.item()\n",
    "    return total_loss / len(loader)"
   ]
  },
  {
   "cell_type": "code",
   "execution_count": 8,
   "metadata": {},
   "outputs": [],
   "source": [
    "# @torch.no_grad()\n",
    "# def test():\n",
    "#     model.eval()\n",
    "#     z = model()\n",
    "#     acc = model.test(\n",
    "#         train_z=z[data.train_mask],\n",
    "#         train_y=data.y[data.train_mask],\n",
    "#         test_z=z[data.test_mask],\n",
    "#         test_y=data.y[data.test_mask],\n",
    "#         max_iter=150,\n",
    "#     )\n",
    "#     return acc"
   ]
  },
  {
   "cell_type": "code",
   "execution_count": 9,
   "metadata": {},
   "outputs": [
    {
     "name": "stdout",
     "output_type": "stream",
     "text": [
      "Epoch: 001, Loss: 4.0315\n",
      "Epoch: 002, Loss: 3.5715\n",
      "Epoch: 003, Loss: 3.1638\n",
      "Epoch: 004, Loss: 2.8416\n",
      "Epoch: 005, Loss: 2.5700\n",
      "Epoch: 006, Loss: 2.3328\n",
      "Epoch: 007, Loss: 2.1249\n",
      "Epoch: 008, Loss: 1.9375\n",
      "Epoch: 009, Loss: 1.7866\n",
      "Epoch: 010, Loss: 1.6458\n",
      "Epoch: 011, Loss: 1.5267\n",
      "Epoch: 012, Loss: 1.4216\n",
      "Epoch: 013, Loss: 1.3238\n",
      "Epoch: 014, Loss: 1.2437\n",
      "Epoch: 015, Loss: 1.1748\n",
      "Epoch: 016, Loss: 1.1138\n",
      "Epoch: 017, Loss: 1.0601\n",
      "Epoch: 018, Loss: 1.0195\n",
      "Epoch: 019, Loss: 0.9786\n",
      "Epoch: 020, Loss: 0.9475\n",
      "Epoch: 021, Loss: 0.9193\n",
      "Epoch: 022, Loss: 0.8965\n",
      "Epoch: 023, Loss: 0.8805\n",
      "Epoch: 024, Loss: 0.8654\n",
      "Epoch: 025, Loss: 0.8541\n",
      "Epoch: 026, Loss: 0.8415\n",
      "Epoch: 027, Loss: 0.8330\n",
      "Epoch: 028, Loss: 0.8258\n",
      "Epoch: 029, Loss: 0.8181\n",
      "Epoch: 030, Loss: 0.8115\n",
      "Epoch: 031, Loss: 0.8083\n",
      "Epoch: 032, Loss: 0.8049\n",
      "Epoch: 033, Loss: 0.8020\n",
      "Epoch: 034, Loss: 0.7988\n",
      "Epoch: 035, Loss: 0.7958\n",
      "Epoch: 036, Loss: 0.7929\n",
      "Epoch: 037, Loss: 0.7906\n",
      "Epoch: 038, Loss: 0.7891\n",
      "Epoch: 039, Loss: 0.7865\n",
      "Epoch: 040, Loss: 0.7846\n",
      "Epoch: 041, Loss: 0.7837\n",
      "Epoch: 042, Loss: 0.7814\n",
      "Epoch: 043, Loss: 0.7791\n",
      "Epoch: 044, Loss: 0.7778\n",
      "Epoch: 045, Loss: 0.7775\n",
      "Epoch: 046, Loss: 0.7758\n",
      "Epoch: 047, Loss: 0.7755\n",
      "Epoch: 048, Loss: 0.7729\n",
      "Epoch: 049, Loss: 0.7728\n",
      "Epoch: 050, Loss: 0.7706\n",
      "Epoch: 051, Loss: 0.7702\n",
      "Epoch: 052, Loss: 0.7689\n",
      "Epoch: 053, Loss: 0.7685\n",
      "Epoch: 054, Loss: 0.7671\n",
      "Epoch: 055, Loss: 0.7669\n",
      "Epoch: 056, Loss: 0.7653\n",
      "Epoch: 057, Loss: 0.7654\n",
      "Epoch: 058, Loss: 0.7653\n",
      "Epoch: 059, Loss: 0.7638\n",
      "Epoch: 060, Loss: 0.7642\n",
      "Epoch: 061, Loss: 0.7624\n",
      "Epoch: 062, Loss: 0.7624\n",
      "Epoch: 063, Loss: 0.7618\n",
      "Epoch: 064, Loss: 0.7616\n",
      "Epoch: 065, Loss: 0.7611\n",
      "Epoch: 066, Loss: 0.7612\n",
      "Epoch: 067, Loss: 0.7604\n",
      "Epoch: 068, Loss: 0.7601\n",
      "Epoch: 069, Loss: 0.7602\n",
      "Epoch: 070, Loss: 0.7593\n",
      "Epoch: 071, Loss: 0.7582\n",
      "Epoch: 072, Loss: 0.7590\n",
      "Epoch: 073, Loss: 0.7581\n",
      "Epoch: 074, Loss: 0.7581\n",
      "Epoch: 075, Loss: 0.7573\n",
      "Epoch: 076, Loss: 0.7582\n",
      "Epoch: 077, Loss: 0.7576\n",
      "Epoch: 078, Loss: 0.7579\n",
      "Epoch: 079, Loss: 0.7581\n",
      "Epoch: 080, Loss: 0.7576\n",
      "Epoch: 081, Loss: 0.7580\n",
      "Epoch: 082, Loss: 0.7567\n",
      "Epoch: 083, Loss: 0.7571\n",
      "Epoch: 084, Loss: 0.7562\n",
      "Epoch: 085, Loss: 0.7572\n",
      "Epoch: 086, Loss: 0.7561\n",
      "Epoch: 087, Loss: 0.7579\n",
      "Epoch: 088, Loss: 0.7572\n",
      "Epoch: 089, Loss: 0.7565\n",
      "Epoch: 090, Loss: 0.7576\n",
      "Epoch: 091, Loss: 0.7566\n",
      "Epoch: 092, Loss: 0.7563\n",
      "Epoch: 093, Loss: 0.7556\n",
      "Epoch: 094, Loss: 0.7571\n",
      "Epoch: 095, Loss: 0.7578\n",
      "Epoch: 096, Loss: 0.7568\n",
      "Epoch: 097, Loss: 0.7565\n",
      "Epoch: 098, Loss: 0.7563\n",
      "Epoch: 099, Loss: 0.7557\n",
      "Epoch: 100, Loss: 0.7562\n"
     ]
    }
   ],
   "source": [
    "for epoch in range(1, 101):\n",
    "    loss = train()\n",
    "    # acc = test()\n",
    "    # print(f'Epoch: {epoch:03d}, Loss: {loss:.4f}, Acc: {acc:.4f}')\n",
    "    print(f'Epoch: {epoch:03d}, Loss: {loss:.4f}')\n"
   ]
  },
  {
   "cell_type": "code",
   "execution_count": 10,
   "metadata": {},
   "outputs": [
    {
     "data": {
      "text/plain": [
       "Parameter containing:\n",
       "tensor([[-0.0207, -0.1132, -0.0707,  ...,  0.4755,  0.4100, -0.2593],\n",
       "        [ 0.1342, -0.1445,  0.0655,  ...,  0.2325,  0.4112, -0.4656],\n",
       "        [-0.1490, -0.0810, -0.1624,  ...,  0.2866,  0.3027,  0.0756],\n",
       "        ...,\n",
       "        [-0.0076,  0.0551,  0.2964,  ..., -0.0704, -0.6598,  0.0297],\n",
       "        [-0.3267, -0.1770,  0.2828,  ..., -0.2829,  0.1600, -0.1809],\n",
       "        [-0.2600, -0.4171, -0.1889,  ...,  0.3057, -0.5799,  0.0369]],\n",
       "       device='cuda:0', requires_grad=True)"
      ]
     },
     "execution_count": 10,
     "metadata": {},
     "output_type": "execute_result"
    }
   ],
   "source": [
    "model()"
   ]
  },
  {
   "cell_type": "code",
   "execution_count": 16,
   "metadata": {},
   "outputs": [
    {
     "data": {
      "text/plain": [
       "0.6629246499697329"
      ]
     },
     "execution_count": 16,
     "metadata": {},
     "output_type": "execute_result"
    }
   ],
   "source": [
    "indx1 = 0\n",
    "indx2 = 4\n",
    "\n",
    "model.eval()\n",
    "params = model().cpu().detach().numpy()\n",
    "cosine_distance = distance.cosine(params[indx1], params[indx2])\n",
    "cosine_distance"
   ]
  },
  {
   "cell_type": "code",
   "execution_count": null,
   "metadata": {},
   "outputs": [],
   "source": []
  }
 ],
 "metadata": {
  "kernelspec": {
   "display_name": "cvf",
   "language": "python",
   "name": "python3"
  },
  "language_info": {
   "codemirror_mode": {
    "name": "ipython",
    "version": 3
   },
   "file_extension": ".py",
   "mimetype": "text/x-python",
   "name": "python",
   "nbconvert_exporter": "python",
   "pygments_lexer": "ipython3",
   "version": "3.12.2"
  }
 },
 "nbformat": 4,
 "nbformat_minor": 2
}
