{
 "cells": [
  {
   "cell_type": "code",
   "execution_count": 1,
   "metadata": {},
   "outputs": [],
   "source": [
    "import numpy as np\n",
    "\n",
    "import torch\n",
    "import torch.nn as nn\n",
    "\n",
    "# from torch_geometric.nn import GCNConv"
   ]
  },
  {
   "cell_type": "code",
   "execution_count": 2,
   "metadata": {},
   "outputs": [],
   "source": [
    "class GCNConvByHand(nn.Module):\n",
    "    def __init__(self, dim_in, dim_out):\n",
    "        super().__init__()\n",
    "        self.linear = torch.nn.Linear(dim_in, dim_out, bias=True)\n",
    "\n",
    "    def forward(self, x, A):\n",
    "        num_nodes = A.shape[0]\n",
    "        omega_k = self.linear.weight\n",
    "        beta_k = self.linear.bias.reshape(-1, 1)\n",
    "        # print(\"omega_k\", omega_k, \"beta_k\", beta_k)\n",
    "        H_k = x\n",
    "        x = torch.matmul(\n",
    "            beta_k, torch.reshape(torch.ones(num_nodes), (1, -1))\n",
    "        ) + torch.matmul(omega_k, torch.matmul(H_k, A + torch.eye(num_nodes)))\n",
    "        return x"
   ]
  },
  {
   "cell_type": "code",
   "execution_count": 3,
   "metadata": {},
   "outputs": [],
   "source": [
    "class GCNByHand(nn.Module):\n",
    "    def __init__(self, num_nodes, in_channels, out_channels):\n",
    "        super().__init__()\n",
    "        self.conv1 = GCNConvByHand(in_channels, in_channels)\n",
    "        self.conv2 = GCNConvByHand(in_channels, in_channels)\n",
    "        self.out = torch.nn.Linear(num_nodes, out_channels)\n",
    "\n",
    "    def forward(self, x, edge_index):\n",
    "        x = self.conv1(x, edge_index)\n",
    "        print(\"x after first layer\\n\", x)\n",
    "        x = torch.relu(x)\n",
    "        x = self.conv2(x, edge_index)\n",
    "        print(\"x after second layer\\n\", x)\n",
    "        x = torch.relu(x)\n",
    "        x = self.out(x)\n",
    "        print(\"x after output layer\\n\", x)\n",
    "        x = torch.sigmoid(x)\n",
    "        return x"
   ]
  },
  {
   "cell_type": "code",
   "execution_count": 4,
   "metadata": {},
   "outputs": [
    {
     "name": "stdout",
     "output_type": "stream",
     "text": [
      "x after first layer\n",
      " tensor([[ 0.2669,  0.3220,  0.2914],\n",
      "        [-0.5228,  0.2084, -0.1128]], grad_fn=<AddBackward0>)\n",
      "x after second layer\n",
      " tensor([[-0.4921, -0.4260, -0.4223],\n",
      "        [ 0.7491,  0.6256,  0.6861]], grad_fn=<AddBackward0>)\n",
      "x after output layer\n",
      " tensor([[-0.0534,  0.5001,  0.5242],\n",
      "        [ 0.3470,  1.0205,  0.0261]], grad_fn=<AddmmBackward0>)\n",
      "output\n",
      "tensor([[0.4867, 0.6225, 0.6281],\n",
      "        [0.5859, 0.7351, 0.5065]], grad_fn=<SigmoidBackward0>)\n"
     ]
    }
   ],
   "source": [
    "num_nodes = 3\n",
    "num_features = 2\n",
    "\n",
    "x = torch.randn((num_features, num_nodes))\n",
    "# print(\"x\", x, x.shape)\n",
    "\n",
    "edge_index = torch.tensor([[0, 0, 1, 2], [1, 2, 0, 0]], dtype=torch.int64)\n",
    "\n",
    "A = torch.tensor([[0, 1, 1], [1, 0, 0], [1, 0, 0]])  # adjacency matrix\n",
    "\n",
    "model = GCNByHand(num_nodes=num_nodes, in_channels=num_features, out_channels=num_nodes)\n",
    "\n",
    "out = model(x, A)\n",
    "\n",
    "print(\"output\")\n",
    "print(out)"
   ]
  },
  {
   "cell_type": "code",
   "execution_count": 5,
   "metadata": {},
   "outputs": [
    {
     "data": {
      "text/plain": [
       "array([[ 0.26693794,  0.32202418,  0.29138244],\n",
       "       [-0.52278422,  0.20843466, -0.11282943]])"
      ]
     },
     "execution_count": 5,
     "metadata": {},
     "output_type": "execute_result"
    }
   ],
   "source": [
    "A = np.array(A)\n",
    "\n",
    "H_k = np.array(x)\n",
    "# H_k\n",
    "\n",
    "# H_k__A = H_k @ A\n",
    "# H_k__A, H_k__A.shape\n",
    "\n",
    "omega_0 = np.array(model.conv1.linear.weight.detach().numpy())\n",
    "beta_0 = np.array(model.conv1.linear.bias.detach().numpy()).reshape((-1, 1))\n",
    "# print(omega_0, beta_0)\n",
    "\n",
    "\n",
    "preactivation = beta_0 @ np.ones(num_nodes).reshape((1, -1)) + omega_0 @ H_k @ (\n",
    "    A + np.identity(num_nodes)\n",
    ")\n",
    "preactivation"
   ]
  },
  {
   "cell_type": "code",
   "execution_count": null,
   "metadata": {},
   "outputs": [],
   "source": []
  }
 ],
 "metadata": {
  "kernelspec": {
   "display_name": "cvf",
   "language": "python",
   "name": "python3"
  },
  "language_info": {
   "codemirror_mode": {
    "name": "ipython",
    "version": 3
   },
   "file_extension": ".py",
   "mimetype": "text/x-python",
   "name": "python",
   "nbconvert_exporter": "python",
   "pygments_lexer": "ipython3",
   "version": "3.12.2"
  }
 },
 "nbformat": 4,
 "nbformat_minor": 2
}
