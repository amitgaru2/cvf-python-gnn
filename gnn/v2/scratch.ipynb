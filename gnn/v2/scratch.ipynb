{
 "cells": [
  {
   "cell_type": "code",
   "execution_count": 1,
   "metadata": {},
   "outputs": [],
   "source": [
    "import numpy as np\n",
    "\n",
    "import torch\n",
    "import torch.nn as nn\n",
    "import torch.nn.functional as F\n",
    "\n",
    "# from torch_geometric.nn import GCNConv"
   ]
  },
  {
   "cell_type": "code",
   "execution_count": 2,
   "metadata": {},
   "outputs": [],
   "source": [
    "class GCNConvByHand(nn.Module):\n",
    "    def __init__(self, dim_in, dim_out):\n",
    "        super().__init__()\n",
    "        self.linear = torch.nn.Linear(dim_in, dim_out, bias=True)\n",
    "\n",
    "    def forward(self, x, A):\n",
    "        num_nodes = A.shape[0]\n",
    "        omega_k = self.linear.weight\n",
    "        beta_k = self.linear.bias.reshape(-1, 1)\n",
    "        # print(\"omega_k\", omega_k, \"beta_k\", beta_k)\n",
    "        H_k = x\n",
    "        x = torch.matmul(\n",
    "            beta_k, torch.reshape(torch.ones(num_nodes), (1, -1))\n",
    "        ) + torch.matmul(omega_k, torch.matmul(H_k, A + torch.eye(num_nodes)))\n",
    "        return x"
   ]
  },
  {
   "cell_type": "code",
   "execution_count": 3,
   "metadata": {},
   "outputs": [],
   "source": [
    "class GCNByHand(nn.Module):\n",
    "    def __init__(self, in_channels, out_channels):\n",
    "        super().__init__()\n",
    "        self.conv1 = GCNConvByHand(in_channels, in_channels)\n",
    "        self.conv2 = GCNConvByHand(in_channels, in_channels)\n",
    "        self.out = torch.nn.Linear(in_channels, out_channels)\n",
    "\n",
    "    def forward(self, x, edge_index):\n",
    "        x = self.conv1(x, edge_index)\n",
    "        print(\"x after first layer\\n\", x)\n",
    "        x = torch.relu(x)\n",
    "        x = self.conv2(x, edge_index)\n",
    "        print(\"x after second layer\\n\", x)\n",
    "        x = torch.relu(x)\n",
    "        x = torch.transpose(x, 0, 1)\n",
    "        x = self.out(x)\n",
    "        print(\"x after output layer\\n\", x)\n",
    "        x = F.softmax(x, dim=1)\n",
    "        # x = torch.transpose(x, 0, 1)\n",
    "        return x"
   ]
  },
  {
   "cell_type": "code",
   "execution_count": null,
   "metadata": {},
   "outputs": [
    {
     "name": "stdout",
     "output_type": "stream",
     "text": [
      "x after first layer\n",
      " tensor([[ 1.3221,  1.4846,  0.9196],\n",
      "        [-1.7021, -0.5658, -1.1658]], grad_fn=<AddBackward0>)\n",
      "x after second layer\n",
      " tensor([[ 1.7493,  1.4104,  1.2021],\n",
      "        [-2.6483, -2.0801, -1.7310]], grad_fn=<AddBackward0>)\n",
      "x after output layer\n",
      " tensor([[ 4.1769e-01,  3.1422e-01, -7.6756e-05, -1.0466e+00, -4.9544e-01],\n",
      "        [ 4.5486e-01,  2.7156e-01, -4.1740e-02, -9.3422e-01, -4.1416e-01],\n",
      "        [ 4.7770e-01,  2.4535e-01, -6.7341e-02, -8.6519e-01, -3.6421e-01]],\n",
      "       grad_fn=<AddmmBackward0>)\n",
      "output\n",
      "tensor([[0.3132, 0.2824, 0.2063, 0.0724, 0.1257],\n",
      "        [0.3216, 0.2677, 0.1957, 0.0802, 0.1349],\n",
      "        [0.3263, 0.2587, 0.1892, 0.0852, 0.1406]], grad_fn=<SoftmaxBackward0>)\n"
     ]
    }
   ],
   "source": [
    "num_nodes = 3\n",
    "num_features = 2\n",
    "num_labels = 5\n",
    "\n",
    "# the following needs to be replaced by some node embeddings\n",
    "x = torch.randn((num_features, num_nodes)) # D x N\n",
    "\n",
    "# print(\"x\", x, x.shape)\n",
    "\n",
    "A = torch.tensor([[0, 1, 1], [1, 0, 0], [1, 0, 0]])  # adjacency matrix ( N x N )\n",
    "\n",
    "model = GCNByHand(in_channels=num_features, out_channels=num_labels)\n",
    "\n",
    "out = model(x, A)\n",
    "\n",
    "print(\"output\")\n",
    "print(out)"
   ]
  },
  {
   "cell_type": "code",
   "execution_count": 5,
   "metadata": {},
   "outputs": [],
   "source": [
    "# out[2, :].sum()"
   ]
  },
  {
   "cell_type": "code",
   "execution_count": 6,
   "metadata": {},
   "outputs": [
    {
     "data": {
      "text/plain": [
       "array([[ 1.32212353,  1.48463957,  0.91958335],\n",
       "       [-1.70210862, -0.56578958, -1.16578603]])"
      ]
     },
     "execution_count": 6,
     "metadata": {},
     "output_type": "execute_result"
    }
   ],
   "source": [
    "A = np.array(A)\n",
    "\n",
    "H_k = np.array(x)\n",
    "# H_k\n",
    "\n",
    "# H_k__A = H_k @ A\n",
    "# H_k__A, H_k__A.shape\n",
    "\n",
    "omega_0 = np.array(model.conv1.linear.weight.detach().numpy())\n",
    "beta_0 = np.array(model.conv1.linear.bias.detach().numpy()).reshape((-1, 1))\n",
    "# print(omega_0, beta_0)\n",
    "\n",
    "\n",
    "preactivation = beta_0 @ np.ones(num_nodes).reshape((1, -1)) + omega_0 @ H_k @ (\n",
    "    A + np.identity(num_nodes)\n",
    ")\n",
    "preactivation"
   ]
  },
  {
   "cell_type": "code",
   "execution_count": null,
   "metadata": {},
   "outputs": [],
   "source": []
  }
 ],
 "metadata": {
  "kernelspec": {
   "display_name": "cvf",
   "language": "python",
   "name": "python3"
  },
  "language_info": {
   "codemirror_mode": {
    "name": "ipython",
    "version": 3
   },
   "file_extension": ".py",
   "mimetype": "text/x-python",
   "name": "python",
   "nbconvert_exporter": "python",
   "pygments_lexer": "ipython3",
   "version": "3.12.2"
  }
 },
 "nbformat": 4,
 "nbformat_minor": 2
}
