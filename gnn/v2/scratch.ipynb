{
 "cells": [
  {
   "cell_type": "code",
   "execution_count": 1,
   "metadata": {},
   "outputs": [],
   "source": [
    "import numpy as np\n",
    "\n",
    "import torch\n",
    "import torch.nn as nn\n",
    "\n",
    "from torch_geometric.nn import GCNConv"
   ]
  },
  {
   "cell_type": "code",
   "execution_count": 2,
   "metadata": {},
   "outputs": [],
   "source": [
    "class GCN(nn.Module):\n",
    "    def __init__(self, in_channels, out_channels):\n",
    "        super(GCN, self).__init__()\n",
    "        self.conv1 = GCNConv(in_channels, 2)\n",
    "        self.conv2 = GCNConv(2, out_channels)\n",
    "\n",
    "    def forward(self, x, edge_index):\n",
    "        x = self.conv1(x, edge_index)\n",
    "        x_copy = x.detach().numpy().transpose()\n",
    "        print(\"x after first layer\")\n",
    "        print(x_copy, x_copy.shape)\n",
    "        x = torch.relu(x)\n",
    "        x = self.conv2(x, edge_index)\n",
    "        return x"
   ]
  },
  {
   "cell_type": "code",
   "execution_count": 3,
   "metadata": {},
   "outputs": [],
   "source": [
    "class GCNConvByHand(nn.Module):\n",
    "    def __init__(self, dim_in, dim_out):\n",
    "        super().__init__()\n",
    "        self.linear = torch.nn.Linear(dim_in, dim_out, bias=True)\n",
    "\n",
    "    def forward(self, x, A):\n",
    "        num_nodes = A.shape[0]\n",
    "        omega_k = self.linear.weight\n",
    "        beta_k = self.linear.bias.reshape(-1, 1)\n",
    "        # print(\"omega_k\", omega_k, \"beta_k\", beta_k)\n",
    "        H_k = x\n",
    "        x = torch.matmul(\n",
    "            beta_k, torch.reshape(torch.ones(num_nodes), (1, -1))\n",
    "        ) + torch.matmul(omega_k, torch.matmul(H_k, A + torch.eye(num_nodes)))\n",
    "        return x"
   ]
  },
  {
   "cell_type": "code",
   "execution_count": 4,
   "metadata": {},
   "outputs": [],
   "source": [
    "class GCNByHand(nn.Module):\n",
    "    def __init__(self, in_channels, out_channels):\n",
    "        super().__init__()\n",
    "        self.conv1 = GCNConvByHand(in_channels, in_channels)\n",
    "        self.conv2 = GCNConvByHand(in_channels, out_channels)\n",
    "\n",
    "    def forward(self, x, edge_index):\n",
    "        x = self.conv1(x, edge_index)\n",
    "        print(\"x after first layer\\n\", x)\n",
    "        x = torch.relu(x)\n",
    "        x = self.conv2(x, edge_index)\n",
    "        return x"
   ]
  },
  {
   "cell_type": "code",
   "execution_count": 5,
   "metadata": {},
   "outputs": [
    {
     "name": "stdout",
     "output_type": "stream",
     "text": [
      "x after first layer\n",
      " tensor([[ 0.1753, -0.0294,  0.0372],\n",
      "        [ 0.2103, -0.2469,  0.0838]], grad_fn=<AddBackward0>)\n",
      "output\n",
      "tensor([[0.1357, 0.1501, 0.1357],\n",
      "        [0.2755, 0.3207, 0.2755]], grad_fn=<AddBackward0>)\n"
     ]
    }
   ],
   "source": [
    "num_nodes = 3\n",
    "num_features = 2\n",
    "\n",
    "x = torch.randn((num_features, num_nodes))\n",
    "# print(\"x\", x, x.shape)\n",
    "\n",
    "edge_index = torch.tensor([[0, 0, 1, 2], [1, 2, 0, 0]], dtype=torch.int64)\n",
    "\n",
    "A = torch.tensor([[0, 1, 1], [1, 0, 0], [1, 0, 0]])  # adjacency matrix\n",
    "\n",
    "model = GCNByHand(in_channels=num_features, out_channels=num_features)\n",
    "\n",
    "out = model(x, A)\n",
    "\n",
    "print(\"output\")\n",
    "print(out)"
   ]
  },
  {
   "cell_type": "code",
   "execution_count": 6,
   "metadata": {},
   "outputs": [
    {
     "data": {
      "text/plain": [
       "array([[ 0.17526821, -0.02942616,  0.03722825],\n",
       "       [ 0.210296  , -0.24688188,  0.08381679]])"
      ]
     },
     "execution_count": 6,
     "metadata": {},
     "output_type": "execute_result"
    }
   ],
   "source": [
    "A = np.array(A)\n",
    "\n",
    "H_k = np.array(x)\n",
    "# H_k\n",
    "\n",
    "# H_k__A = H_k @ A\n",
    "# H_k__A, H_k__A.shape\n",
    "\n",
    "omega_0 = np.array(model.conv1.linear.weight.detach().numpy())\n",
    "beta_0 = np.array(model.conv1.linear.bias.detach().numpy()).reshape((-1, 1))\n",
    "# print(omega_0, beta_0)\n",
    "\n",
    "\n",
    "preactivation = beta_0 @ np.ones(num_nodes).reshape((1, -1)) + omega_0 @ H_k @ (\n",
    "    A + np.identity(num_nodes)\n",
    ")\n",
    "preactivation"
   ]
  },
  {
   "cell_type": "code",
   "execution_count": null,
   "metadata": {},
   "outputs": [],
   "source": []
  }
 ],
 "metadata": {
  "kernelspec": {
   "display_name": "cvf",
   "language": "python",
   "name": "python3"
  },
  "language_info": {
   "codemirror_mode": {
    "name": "ipython",
    "version": 3
   },
   "file_extension": ".py",
   "mimetype": "text/x-python",
   "name": "python",
   "nbconvert_exporter": "python",
   "pygments_lexer": "ipython3",
   "version": "3.12.2"
  }
 },
 "nbformat": 4,
 "nbformat_minor": 2
}
