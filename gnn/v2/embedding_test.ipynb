{
 "cells": [
  {
   "cell_type": "code",
   "execution_count": 1,
   "metadata": {},
   "outputs": [],
   "source": [
    "import os\n",
    "\n",
    "import gensim"
   ]
  },
  {
   "cell_type": "code",
   "execution_count": 2,
   "metadata": {},
   "outputs": [],
   "source": [
    "def get_dataset(program, dataset_file):\n",
    "    dataset_dir = os.path.join(\n",
    "        os.getenv(\"CVF_PROJECT_DIR\", \"\"), \"cvf-analysis\", \"v2\", \"datasets\", program\n",
    "    )\n",
    "    return os.path.join(dataset_dir, dataset_file)"
   ]
  },
  {
   "cell_type": "code",
   "execution_count": 3,
   "metadata": {},
   "outputs": [
    {
     "data": {
      "text/plain": [
       "36368820"
      ]
     },
     "execution_count": 3,
     "metadata": {},
     "output_type": "execute_result"
    }
   ],
   "source": [
    "data = []\n",
    "\n",
    "emb_file = get_dataset(\"coloring\", \"graph_random_regular_graph_n8_d4_pt_adj_list.txt\")\n",
    "\n",
    "with open(emb_file, \"r\") as f:\n",
    "    line = f.readline()\n",
    "    while line:\n",
    "        data.append(line.rstrip().split(\",\"))\n",
    "        line = f.readline()\n",
    "\n",
    "len(data)"
   ]
  },
  {
   "cell_type": "code",
   "execution_count": 4,
   "metadata": {},
   "outputs": [],
   "source": [
    "# data[5]"
   ]
  },
  {
   "cell_type": "code",
   "execution_count": null,
   "metadata": {},
   "outputs": [],
   "source": [
    "model1 = gensim.models.Word2Vec(data, min_count=1, vector_size=2, window=5)\n",
    "\n",
    "print(\"Cosine similarity - CBOW : \", model1.wv.similarity('0', '15625'))"
   ]
  },
  {
   "cell_type": "code",
   "execution_count": null,
   "metadata": {},
   "outputs": [],
   "source": [
    "# data = [[0, 5, 1, 2], [1, 3, 4], [0, 3, 4, 2], [1, 2, 3, 4, 5, 6, 7], [3, 2, 4, 1, 5, 0]]\n",
    "\n",
    "# Create CBOW model\n",
    "\n",
    "\n",
    "# Create Skip Gram model\n",
    "model2 = gensim.models.Word2Vec(data, min_count=1, vector_size=4,\n",
    "\t\t\t\t\t\t\t\twindow=15, sg=1)\n",
    "\n",
    "# Print results\n",
    "print(\"Cosine similarity between 'alice' \" +\n",
    "\t\"and 'wonderland' - Skip Gram : \",\n",
    "\tmodel2.wv.similarity(0, 2))\n"
   ]
  }
 ],
 "metadata": {
  "kernelspec": {
   "display_name": "cvf",
   "language": "python",
   "name": "python3"
  },
  "language_info": {
   "codemirror_mode": {
    "name": "ipython",
    "version": 3
   },
   "file_extension": ".py",
   "mimetype": "text/x-python",
   "name": "python",
   "nbconvert_exporter": "python",
   "pygments_lexer": "ipython3",
   "version": "3.12.2"
  }
 },
 "nbformat": 4,
 "nbformat_minor": 2
}
