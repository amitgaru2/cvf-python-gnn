{
 "cells": [
  {
   "cell_type": "code",
   "execution_count": 1,
   "metadata": {},
   "outputs": [],
   "source": [
    "import numpy as np\n",
    "\n",
    "import torch\n",
    "import torch.nn as nn\n",
    "import torch.nn.functional as F\n",
    "\n",
    "from torch_geometric.nn.pool import global_mean_pool"
   ]
  },
  {
   "cell_type": "code",
   "execution_count": 2,
   "metadata": {},
   "outputs": [],
   "source": [
    "class GCNConvByHand(nn.Module):\n",
    "    \"\"\"maps D x N to D x N\"\"\"\n",
    "    def __init__(self, dim_in):\n",
    "        super().__init__()\n",
    "        self.linear = torch.nn.Linear(dim_in, dim_in, bias=True)\n",
    "\n",
    "    def forward(self, x, A):\n",
    "        num_nodes = A.shape[0]\n",
    "        omega_k = self.linear.weight\n",
    "        beta_k = self.linear.bias.reshape(-1, 1)\n",
    "        # print(\"omega_k\", omega_k, \"beta_k\", beta_k)\n",
    "        H_k = x\n",
    "        x = torch.matmul(\n",
    "            beta_k, torch.reshape(torch.ones(num_nodes), (1, -1))\n",
    "        ) + torch.matmul(omega_k, torch.matmul(H_k, A + torch.eye(num_nodes)))\n",
    "        return x"
   ]
  },
  {
   "cell_type": "code",
   "execution_count": null,
   "metadata": {},
   "outputs": [],
   "source": [
    "class GCNByHand(nn.Module):\n",
    "    def __init__(self, in_channels, out_channels):\n",
    "        super().__init__()\n",
    "        self.conv1 = GCNConvByHand(in_channels)\n",
    "        self.conv2 = GCNConvByHand(in_channels)\n",
    "        self.out = torch.nn.Linear(in_channels, out_channels)\n",
    "\n",
    "    def forward(self, x, edge_index):\n",
    "        x = self.conv1(x, edge_index)\n",
    "        # print(\"x after first layer\\n\", x)\n",
    "        x = torch.relu(x)\n",
    "        x = self.conv2(x, edge_index)\n",
    "        # print(\"x after second layer\\n\", x)\n",
    "        x = torch.relu(x)\n",
    "        x = torch.transpose(x, 0, 1)\n",
    "        x = self.out(x)\n",
    "        x = torch.sigmoid(x)\n",
    "        # print(\"x after output layer\\n\", x)\n",
    "        # x = global_mean_pool(x, torch.zeros(x.size(1)).long())  # all are from graph 0, single graph\n",
    "        return x"
   ]
  },
  {
   "cell_type": "code",
   "execution_count": null,
   "metadata": {},
   "outputs": [
    {
     "name": "stdout",
     "output_type": "stream",
     "text": [
      "output\n",
      "tensor([[0.6354],\n",
      "        [0.6309],\n",
      "        [0.6312]], grad_fn=<SigmoidBackward0>)\n"
     ]
    }
   ],
   "source": [
    "num_nodes = 3       # N\n",
    "num_features = 2    # D\n",
    "num_labels = 1      # O\n",
    "\n",
    "# the following needs to be replaced by some node embeddings\n",
    "x = torch.randn((num_features, num_nodes)) # D x N\n",
    "\n",
    "# print(\"x\", x, x.shape)\n",
    "\n",
    "A = torch.tensor([[0, 1, 1], [1, 0, 0], [1, 0, 0]])  # adjacency matrix ( N x N )\n",
    "\n",
    "model = GCNByHand(in_channels=num_features, out_channels=num_labels)\n",
    "\n",
    "out = model(x, A)   # N x O\n",
    "\n",
    "print(\"output\")\n",
    "print(out)"
   ]
  },
  {
   "cell_type": "code",
   "execution_count": null,
   "metadata": {},
   "outputs": [],
   "source": []
  },
  {
   "cell_type": "code",
   "execution_count": null,
   "metadata": {},
   "outputs": [],
   "source": []
  }
 ],
 "metadata": {
  "kernelspec": {
   "display_name": "cvf",
   "language": "python",
   "name": "python3"
  },
  "language_info": {
   "codemirror_mode": {
    "name": "ipython",
    "version": 3
   },
   "file_extension": ".py",
   "mimetype": "text/x-python",
   "name": "python",
   "nbconvert_exporter": "python",
   "pygments_lexer": "ipython3",
   "version": "3.12.2"
  }
 },
 "nbformat": 4,
 "nbformat_minor": 2
}
