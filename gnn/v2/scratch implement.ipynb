{
 "cells": [
  {
   "cell_type": "code",
   "execution_count": 1,
   "metadata": {},
   "outputs": [],
   "source": [
    "import numpy as np\n",
    "\n",
    "import torch\n",
    "import torch.nn as nn\n",
    "import torch.nn.functional as F\n",
    "\n",
    "from torch_geometric.nn.pool import global_mean_pool"
   ]
  },
  {
   "cell_type": "code",
   "execution_count": 2,
   "metadata": {},
   "outputs": [],
   "source": [
    "from helpers import CVFConfigDataset\n",
    "\n",
    "from torch.utils.data import DataLoader, random_split"
   ]
  },
  {
   "cell_type": "code",
   "execution_count": 3,
   "metadata": {},
   "outputs": [],
   "source": [
    "class GCNConvByHand(nn.Module):\n",
    "    \"\"\"maps D x N to D x N\"\"\"\n",
    "    def __init__(self, dim_in):\n",
    "        super().__init__()\n",
    "        self.linear = torch.nn.Linear(dim_in, dim_in, bias=True)\n",
    "\n",
    "    def forward(self, x, A):\n",
    "        num_nodes = A.shape[0]\n",
    "        omega_k = self.linear.weight\n",
    "        beta_k = self.linear.bias.reshape(-1, 1)\n",
    "        # print(\"omega_k\", omega_k, \"beta_k\", beta_k)\n",
    "        H_k = x\n",
    "        x = torch.matmul(\n",
    "            beta_k, torch.reshape(torch.ones(num_nodes), (1, -1))\n",
    "        ) + torch.matmul(omega_k, torch.matmul(H_k, A + torch.eye(num_nodes)))\n",
    "        return x"
   ]
  },
  {
   "cell_type": "code",
   "execution_count": 4,
   "metadata": {},
   "outputs": [],
   "source": [
    "class GCNByHand(nn.Module):\n",
    "    def __init__(self, N, in_channels, out_channels):\n",
    "        super().__init__()\n",
    "        self.conv1 = GCNConvByHand(in_channels)\n",
    "        self.conv2 = GCNConvByHand(in_channels)\n",
    "        self.out = torch.nn.Linear(N, out_channels, bias=True)\n",
    "\n",
    "    def forward(self, x, A):\n",
    "        x = self.conv1(x, A)\n",
    "        x = torch.relu(x)\n",
    "        x = self.conv2(x, A)\n",
    "        x = torch.relu(x)\n",
    "        x = self.out(x)\n",
    "        x = torch.relu(x)\n",
    "        # x = torch.sigmoid(x) * 9\n",
    "        # print(\"x after output layer\\n\", x)\n",
    "        # x = global_mean_pool(x, torch.zeros(x.size(1)).long())  # all are from graph 0, single graph\n",
    "        return x\n",
    "    \n",
    "    def fit(self, train_loader, epochs):\n",
    "        criterion = torch.nn.MSELoss()\n",
    "        optimizer = torch.optim.Adam(self.parameters(), lr=0.01, weight_decay=0.01) # weight_decay is a L2 regularization parameter\n",
    "        for epoch in range(1, epochs + 1):\n",
    "            self.train()\n",
    "            total_loss = 0\n",
    "            count = 0\n",
    "            for batch in train_loader:\n",
    "                x = batch[0]\n",
    "                y = batch[1]\n",
    "                optimizer.zero_grad()\n",
    "                out = self(x, train_loader.dataset.dataset.A)\n",
    "                loss = criterion(out, y)\n",
    "                total_loss += loss\n",
    "                count += 1\n",
    "                loss.backward()\n",
    "                optimizer.step()\n",
    "\n",
    "            print(\"Training set | Epoch:\", epoch, \"Loss:\", total_loss / count)\n",
    "            \n",
    "            # self.eval()\n",
    "            # with torch.no_grad():\n",
    "            #     total_loss = 0\n",
    "            #     count = 0\n",
    "            #     for batch in validation_loader:\n",
    "            #         x = batch[0].to(device)\n",
    "            #         x = add_graph_properties(x)\n",
    "            #         y = batch[1].to(device)\n",
    "            #         y = y.unsqueeze(0).reshape(-1, 1, 1).float()\n",
    "            #         optimizer.zero_grad()\n",
    "            #         out = self(x)\n",
    "            #         loss = criterion(out, y)\n",
    "            #         total_loss += loss\n",
    "            #         count += 1\n",
    "\n",
    "            # print(\"Validatn set | Epoch:\", epoch, \"Loss:\", total_loss / count)\n",
    "            # print()"
   ]
  },
  {
   "cell_type": "code",
   "execution_count": 5,
   "metadata": {},
   "outputs": [],
   "source": [
    "num_nodes = 10       # N\n",
    "num_features = 1     # D\n",
    "num_labels = 1       # O\n",
    "batch_size = 10      # B\n",
    "\n",
    "# the following needs to be replaced by some node embeddings\n",
    "# x = torch.randn((batch_size, num_features, num_nodes)) # B x D x N\n",
    "\n",
    "# A = torch.tensor([[0, 1, 1], [1, 0, 0], [1, 0, 0]])  # adjacency matrix ( N x N )\n",
    "\n",
    "model = GCNByHand(N=num_nodes, in_channels=num_features, out_channels=num_labels)\n",
    "\n",
    "# out = model(x, A)   # B x D x O\n",
    "\n",
    "# print(\"output\", out.shape)"
   ]
  },
  {
   "cell_type": "markdown",
   "metadata": {},
   "source": [
    "A = np.array(A)\n",
    "\n",
    "H_k = np.array(x)\n",
    "# H_k\n",
    "\n",
    "# H_k__A = H_k @ A\n",
    "# H_k__A, H_k__A.shape\n",
    "\n",
    "omega_0 = np.array(model.conv1.linear.weight.detach().numpy())\n",
    "beta_0 = np.array(model.conv1.linear.bias.detach().numpy()).reshape((-1, 1))\n",
    "# print(omega_0, beta_0)\n",
    "\n",
    "\n",
    "preactivation = beta_0 @ np.ones(num_nodes).reshape((1, -1)) + omega_0 @ H_k @ (\n",
    "    A + np.identity(num_nodes)\n",
    ")\n",
    "# preactivation\n",
    "\n",
    "out_wt = np.array(model.out.weight.detach().numpy())\n",
    "out_bias = np.array(model.out.bias.detach().numpy())\n",
    "preactivation @ out_wt.transpose() + out_bias"
   ]
  },
  {
   "cell_type": "code",
   "execution_count": 6,
   "metadata": {},
   "outputs": [],
   "source": [
    "# dataset = CVFConfigDataset(\n",
    "#     \"dijkstra\",\n",
    "#     \"implicit_graph_n10_config_rank_dataset.csv\",\n",
    "#     \"implicit_graph_n10_A.json\",\n",
    "#     3,\n",
    "#     one_hot_encode=False,\n",
    "# )\n",
    "dataset = CVFConfigDataset(\n",
    "    \"coloring\",\n",
    "    \"graph_1_config_rank_dataset.csv\",\n",
    "    \"graph_1_A.json\",\n",
    "    11,\n",
    "    one_hot_encode=False,\n",
    ")"
   ]
  },
  {
   "cell_type": "code",
   "execution_count": 7,
   "metadata": {},
   "outputs": [
    {
     "data": {
      "text/plain": [
       "5120"
      ]
     },
     "execution_count": 7,
     "metadata": {},
     "output_type": "execute_result"
    }
   ],
   "source": [
    "len(dataset)"
   ]
  },
  {
   "cell_type": "code",
   "execution_count": 8,
   "metadata": {},
   "outputs": [],
   "source": [
    "train_split = 0.95\n",
    "test_split = 0.05\n",
    "\n",
    "train_set, test_set = random_split(\n",
    "    dataset, [train_split, test_split]\n",
    ")\n",
    "\n",
    "train_loader = DataLoader(train_set, batch_size=50, shuffle=True)\n",
    "test_loader = DataLoader(test_set, batch_size=10, shuffle=False)"
   ]
  },
  {
   "cell_type": "code",
   "execution_count": 9,
   "metadata": {},
   "outputs": [
    {
     "data": {
      "text/plain": [
       "tensor([[0, 1, 1, 1, 1, 1, 1, 1, 1, 1],\n",
       "        [1, 0, 0, 0, 0, 0, 0, 0, 0, 0],\n",
       "        [1, 0, 0, 0, 0, 0, 0, 0, 0, 0],\n",
       "        [1, 0, 0, 0, 0, 0, 0, 0, 0, 0],\n",
       "        [1, 0, 0, 0, 0, 0, 0, 0, 0, 0],\n",
       "        [1, 0, 0, 0, 0, 0, 0, 0, 0, 0],\n",
       "        [1, 0, 0, 0, 0, 0, 0, 0, 0, 0],\n",
       "        [1, 0, 0, 0, 0, 0, 0, 0, 0, 0],\n",
       "        [1, 0, 0, 0, 0, 0, 0, 0, 0, 0],\n",
       "        [1, 0, 0, 0, 0, 0, 0, 0, 0, 0]])"
      ]
     },
     "execution_count": 9,
     "metadata": {},
     "output_type": "execute_result"
    }
   ],
   "source": [
    "train_loader.dataset.dataset.A"
   ]
  },
  {
   "cell_type": "code",
   "execution_count": 10,
   "metadata": {},
   "outputs": [
    {
     "name": "stdout",
     "output_type": "stream",
     "text": [
      "Training set | Epoch: 1 Loss: tensor(2.5229, grad_fn=<DivBackward0>)\n",
      "Training set | Epoch: 2 Loss: tensor(0.8864, grad_fn=<DivBackward0>)\n",
      "Training set | Epoch: 3 Loss: tensor(0.8551, grad_fn=<DivBackward0>)\n",
      "Training set | Epoch: 4 Loss: tensor(0.8613, grad_fn=<DivBackward0>)\n",
      "Training set | Epoch: 5 Loss: tensor(0.8431, grad_fn=<DivBackward0>)\n",
      "Training set | Epoch: 6 Loss: tensor(0.8387, grad_fn=<DivBackward0>)\n",
      "Training set | Epoch: 7 Loss: tensor(0.8666, grad_fn=<DivBackward0>)\n",
      "Training set | Epoch: 8 Loss: tensor(0.8561, grad_fn=<DivBackward0>)\n",
      "Training set | Epoch: 9 Loss: tensor(0.8602, grad_fn=<DivBackward0>)\n",
      "Training set | Epoch: 10 Loss: tensor(0.8494, grad_fn=<DivBackward0>)\n",
      "Training set | Epoch: 11 Loss: tensor(0.8439, grad_fn=<DivBackward0>)\n",
      "Training set | Epoch: 12 Loss: tensor(0.8572, grad_fn=<DivBackward0>)\n",
      "Training set | Epoch: 13 Loss: tensor(0.8833, grad_fn=<DivBackward0>)\n",
      "Training set | Epoch: 14 Loss: tensor(0.8402, grad_fn=<DivBackward0>)\n",
      "Training set | Epoch: 15 Loss: tensor(0.8567, grad_fn=<DivBackward0>)\n",
      "Training set | Epoch: 16 Loss: tensor(0.8464, grad_fn=<DivBackward0>)\n",
      "Training set | Epoch: 17 Loss: tensor(0.8511, grad_fn=<DivBackward0>)\n",
      "Training set | Epoch: 18 Loss: tensor(0.8446, grad_fn=<DivBackward0>)\n",
      "Training set | Epoch: 19 Loss: tensor(0.8399, grad_fn=<DivBackward0>)\n",
      "Training set | Epoch: 20 Loss: tensor(0.8653, grad_fn=<DivBackward0>)\n"
     ]
    }
   ],
   "source": [
    "model.fit(train_loader, 20)"
   ]
  },
  {
   "cell_type": "code",
   "execution_count": 11,
   "metadata": {},
   "outputs": [
    {
     "name": "stdout",
     "output_type": "stream",
     "text": [
      "tensor([[0.]]) tensor([[0.]], grad_fn=<SelectBackward0>)\n",
      "tensor([[0.]]) tensor([[0.]], grad_fn=<SelectBackward0>)\n",
      "tensor([[4.]]) tensor([[5.0708]], grad_fn=<SelectBackward0>)\n",
      "tensor([[0.]]) tensor([[0.]], grad_fn=<SelectBackward0>)\n",
      "tensor([[0.]]) tensor([[0.]], grad_fn=<SelectBackward0>)\n",
      "tensor([[0.]]) tensor([[0.]], grad_fn=<SelectBackward0>)\n",
      "tensor([[0.]]) tensor([[0.]], grad_fn=<SelectBackward0>)\n",
      "tensor([[0.]]) tensor([[0.]], grad_fn=<SelectBackward0>)\n",
      "tensor([[0.]]) tensor([[0.]], grad_fn=<SelectBackward0>)\n",
      "tensor([[4.]]) tensor([[3.1807]], grad_fn=<SelectBackward0>)\n",
      "tensor([[7.]]) tensor([[6.2495]], grad_fn=<SelectBackward0>)\n",
      "tensor([[5.]]) tensor([[5.3073]], grad_fn=<SelectBackward0>)\n",
      "tensor([[5.]]) tensor([[5.3150]], grad_fn=<SelectBackward0>)\n",
      "tensor([[6.]]) tensor([[5.5797]], grad_fn=<SelectBackward0>)\n",
      "tensor([[0.]]) tensor([[0.]], grad_fn=<SelectBackward0>)\n",
      "tensor([[0.]]) tensor([[0.]], grad_fn=<SelectBackward0>)\n",
      "tensor([[0.]]) tensor([[0.]], grad_fn=<SelectBackward0>)\n",
      "tensor([[0.]]) tensor([[0.]], grad_fn=<SelectBackward0>)\n",
      "tensor([[0.]]) tensor([[0.]], grad_fn=<SelectBackward0>)\n",
      "tensor([[0.]]) tensor([[0.]], grad_fn=<SelectBackward0>)\n",
      "tensor([[0.]]) tensor([[0.]], grad_fn=<SelectBackward0>)\n",
      "tensor([[0.]]) tensor([[0.]], grad_fn=<SelectBackward0>)\n",
      "tensor([[0.]]) tensor([[0.]], grad_fn=<SelectBackward0>)\n",
      "tensor([[5.]]) tensor([[5.3054]], grad_fn=<SelectBackward0>)\n",
      "tensor([[0.]]) tensor([[0.]], grad_fn=<SelectBackward0>)\n",
      "tensor([[0.]]) tensor([[0.]], grad_fn=<SelectBackward0>)\n",
      "Total matched 208 out of 256 | Accuracy 81.25 %\n"
     ]
    }
   ],
   "source": [
    "# testing\n",
    "torch.no_grad()\n",
    "# torch.set_printoptions(profile=\"full\")\n",
    "\n",
    "total_matched = 0\n",
    "\n",
    "for batch in test_loader:\n",
    "    x = batch[0]\n",
    "    y = batch[1]\n",
    "    predicted = model(x, test_loader.dataset.dataset.A)\n",
    "    print(y[0], predicted[0])\n",
    "    predicted = torch.round(predicted)\n",
    "    matched = (predicted == y).sum().item()\n",
    "    total_matched += matched\n",
    "\n",
    "print(\"Total matched\", total_matched, \"out of\", len(test_set), \"| Accuracy\", round(total_matched/len(test_set) * 100, 4), \"%\")"
   ]
  },
  {
   "cell_type": "code",
   "execution_count": null,
   "metadata": {},
   "outputs": [],
   "source": []
  }
 ],
 "metadata": {
  "kernelspec": {
   "display_name": "cvf",
   "language": "python",
   "name": "python3"
  },
  "language_info": {
   "codemirror_mode": {
    "name": "ipython",
    "version": 3
   },
   "file_extension": ".py",
   "mimetype": "text/x-python",
   "name": "python",
   "nbconvert_exporter": "python",
   "pygments_lexer": "ipython3",
   "version": "3.12.2"
  }
 },
 "nbformat": 4,
 "nbformat_minor": 2
}
