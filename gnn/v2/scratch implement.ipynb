{
 "cells": [
  {
   "cell_type": "code",
   "execution_count": 1,
   "metadata": {},
   "outputs": [],
   "source": [
    "import torch\n",
    "import torch.nn as nn\n",
    "\n",
    "from torch_geometric.nn.pool import global_mean_pool, global_max_pool"
   ]
  },
  {
   "cell_type": "code",
   "execution_count": 2,
   "metadata": {},
   "outputs": [],
   "source": [
    "from helpers_wo_embedding import CVFConfigDataset\n",
    "\n",
    "from torch.utils.data import DataLoader, random_split"
   ]
  },
  {
   "cell_type": "code",
   "execution_count": 3,
   "metadata": {},
   "outputs": [
    {
     "data": {
      "text/plain": [
       "device(type='cuda')"
      ]
     },
     "execution_count": 3,
     "metadata": {},
     "output_type": "execute_result"
    }
   ],
   "source": [
    "device = torch.device('cuda' if torch.cuda.is_available() else 'cpu')\n",
    "device"
   ]
  },
  {
   "cell_type": "code",
   "execution_count": 4,
   "metadata": {},
   "outputs": [
    {
     "data": {
      "text/plain": [
       "<torch._C.Generator at 0x7a89835ea0f0>"
      ]
     },
     "execution_count": 4,
     "metadata": {},
     "output_type": "execute_result"
    }
   ],
   "source": [
    "torch.manual_seed(20)\n",
    "# for same weight re-initialization"
   ]
  },
  {
   "cell_type": "code",
   "execution_count": 5,
   "metadata": {},
   "outputs": [],
   "source": [
    "class GCNConvByHand(nn.Module):\n",
    "    \"\"\"maps D x N to D x N\"\"\"\n",
    "\n",
    "    def __init__(self, dim_in):\n",
    "        super().__init__()\n",
    "        self.linear = torch.nn.Linear(dim_in, dim_in, bias=True)\n",
    "        # torch.nn.init.ones_(self.linear.weight)\n",
    "        # torch.nn.init.ones_(self.linear.bias)\n",
    "        # torch.nn.init.xavier_uniform_(self.linear.weight) \n",
    "\n",
    "    def forward(self, x, A):\n",
    "        num_nodes = A.shape[0]\n",
    "        omega_k = self.linear.weight\n",
    "        beta_k = self.linear.bias.reshape(-1, 1)\n",
    "        # print(\"omega_k\", omega_k.shape, \"beta_k\", beta_k)\n",
    "        # H_k = x\n",
    "        x = torch.matmul(\n",
    "            beta_k, torch.reshape(torch.ones(num_nodes).to(device), (1, -1))\n",
    "        ) + torch.matmul(omega_k, torch.matmul(x, A + torch.eye(num_nodes).to(device)))\n",
    "        return x"
   ]
  },
  {
   "cell_type": "code",
   "execution_count": 6,
   "metadata": {},
   "outputs": [],
   "source": [
    "class GCNByHand(nn.Module):\n",
    "    def __init__(self, N, in_channels, out_channels):\n",
    "        super().__init__()\n",
    "        self.conv1 = GCNConvByHand(in_channels)\n",
    "        self.conv2 = GCNConvByHand(in_channels)\n",
    "        self.linear1 = torch.nn.Linear(N, 16, bias=True)\n",
    "        self.out = torch.nn.Linear(16, out_channels, bias=True)\n",
    "\n",
    "    def forward(self, x, A):\n",
    "        x = self.conv1(x, A)\n",
    "        x = torch.relu(x)\n",
    "        x = self.conv2(x, A)\n",
    "        x = torch.relu(x)\n",
    "        x = self.linear1(x)\n",
    "        x = torch.relu(x)\n",
    "        x = self.out(x)\n",
    "        # x = torch.relu(x)\n",
    "        # x = torch.sigmoid(x) * 7\n",
    "        # print(\"x after output layer\\n\", x)\n",
    "        x = global_mean_pool(\n",
    "            x, torch.zeros(x.size(1)).long().to(device)\n",
    "        )  # all are from graph 0, single graph\n",
    "        return x\n",
    "\n",
    "    def fit(self, train_loader, epochs):\n",
    "        criterion = torch.nn.MSELoss()\n",
    "        optimizer = torch.optim.Adam(\n",
    "            self.parameters(), lr=0.01, weight_decay=0.01\n",
    "        )  # weight_decay is a L2 regularization parameter\n",
    "        for epoch in range(1, epochs + 1):\n",
    "            self.train()\n",
    "            total_loss = 0\n",
    "            count = 0\n",
    "            for batch in train_loader:\n",
    "                x = batch[0].to(device)\n",
    "                # x = x.repeat(1, 8, 1)\n",
    "                # print(x.shape)\n",
    "                y = batch[1].to(device)\n",
    "                optimizer.zero_grad()\n",
    "                out = self(x, train_loader.dataset.dataset.A.to(device))\n",
    "                loss = criterion(out, y)\n",
    "                total_loss += loss\n",
    "                count += 1\n",
    "                loss.backward()\n",
    "                optimizer.step()\n",
    "\n",
    "            print(\"Training set | Epoch:\", epoch, \"Loss:\", total_loss / count)\n",
    "\n",
    "            # self.eval()\n",
    "            # with torch.no_grad():\n",
    "            #     total_loss = 0\n",
    "            #     count = 0\n",
    "            #     for batch in validation_loader:\n",
    "            #         x = batch[0].to(device)\n",
    "            #         x = add_graph_properties(x)\n",
    "            #         y = batch[1].to(device)\n",
    "            #         y = y.unsqueeze(0).reshape(-1, 1, 1).float()\n",
    "            #         optimizer.zero_grad()\n",
    "            #         out = self(x)\n",
    "            #         loss = criterion(out, y)\n",
    "            #         total_loss += loss\n",
    "            #         count += 1\n",
    "\n",
    "            # print(\"Validatn set | Epoch:\", epoch, \"Loss:\", total_loss / count)\n",
    "            # print()"
   ]
  },
  {
   "cell_type": "code",
   "execution_count": 7,
   "metadata": {},
   "outputs": [
    {
     "data": {
      "text/plain": [
       "GCNByHand(\n",
       "  (conv1): GCNConvByHand(\n",
       "    (linear): Linear(in_features=1, out_features=1, bias=True)\n",
       "  )\n",
       "  (conv2): GCNConvByHand(\n",
       "    (linear): Linear(in_features=1, out_features=1, bias=True)\n",
       "  )\n",
       "  (linear1): Linear(in_features=8, out_features=16, bias=True)\n",
       "  (out): Linear(in_features=16, out_features=1, bias=True)\n",
       ")"
      ]
     },
     "execution_count": 7,
     "metadata": {},
     "output_type": "execute_result"
    }
   ],
   "source": [
    "num_nodes = 8       # N\n",
    "num_features = 1     # D\n",
    "num_labels = 1       # O\n",
    "batch_size = 10      # B\n",
    "\n",
    "# the following needs to be replaced by some node embeddings\n",
    "# x = torch.randn((batch_size, num_features, num_nodes)) # B x D x N\n",
    "\n",
    "# A = torch.tensor([[0, 1, 1], [1, 0, 0], [1, 0, 0]])  # adjacency matrix ( N x N )\n",
    "\n",
    "model = GCNByHand(N=num_nodes, in_channels=num_features, out_channels=num_labels)\n",
    "model.to(device)\n",
    "\n",
    "# out = model(x, A)   # B x D x O\n",
    "\n",
    "# print(\"output\", out.shape)"
   ]
  },
  {
   "cell_type": "markdown",
   "metadata": {},
   "source": [
    "A = np.array(A)\n",
    "\n",
    "H_k = np.array(x)\n",
    "# H_k\n",
    "\n",
    "# H_k__A = H_k @ A\n",
    "# H_k__A, H_k__A.shape\n",
    "\n",
    "omega_0 = np.array(model.conv1.linear.weight.detach().numpy())\n",
    "beta_0 = np.array(model.conv1.linear.bias.detach().numpy()).reshape((-1, 1))\n",
    "# print(omega_0, beta_0)\n",
    "\n",
    "\n",
    "preactivation = beta_0 @ np.ones(num_nodes).reshape((1, -1)) + omega_0 @ H_k @ (\n",
    "    A + np.identity(num_nodes)\n",
    ")\n",
    "# preactivation\n",
    "\n",
    "out_wt = np.array(model.out.weight.detach().numpy())\n",
    "out_bias = np.array(model.out.bias.detach().numpy())\n",
    "preactivation @ out_wt.transpose() + out_bias"
   ]
  },
  {
   "cell_type": "code",
   "execution_count": 8,
   "metadata": {},
   "outputs": [],
   "source": [
    "# dataset = CVFConfigDataset(\n",
    "#     \"dijkstra\",\n",
    "#     \"implicit_graph_n10_config_rank_dataset.csv\",\n",
    "#     \"implicit_graph_n10_A.json\",\n",
    "#     3,\n",
    "#     one_hot_encode=False,\n",
    "# )\n",
    "\n",
    "dataset = CVFConfigDataset(\n",
    "    \"coloring\",\n",
    "    \"graph_random_regular_graph_n8_d4_config_rank_dataset.csv\",\n",
    "    \"graph_random_regular_graph_n8_d4_A.json\",\n",
    "    num_nodes,\n",
    ")\n",
    "\n",
    "# dataset = CVFConfigDataset(\n",
    "#     \"coloring\",\n",
    "#     num_nodes,\n",
    "#     \"tiny_graph_test_config_rank_dataset.csv\",\n",
    "#     \"tiny_graph_test_A.json\",\n",
    "#     \"tiny_graph_test_pt_adj_list.txt\",\n",
    "#     {\"window\": 3},\n",
    "# )"
   ]
  },
  {
   "cell_type": "code",
   "execution_count": 9,
   "metadata": {},
   "outputs": [
    {
     "data": {
      "text/plain": [
       "390625"
      ]
     },
     "execution_count": 9,
     "metadata": {},
     "output_type": "execute_result"
    }
   ],
   "source": [
    "len(dataset)"
   ]
  },
  {
   "cell_type": "code",
   "execution_count": 10,
   "metadata": {},
   "outputs": [],
   "source": [
    "train_split = 0.9\n",
    "test_split = 0.1\n",
    "\n",
    "train_set, test_set = random_split(\n",
    "    dataset, [train_split, test_split]\n",
    ")\n",
    "\n",
    "train_loader = DataLoader(train_set, batch_size=1000, shuffle=True)\n",
    "test_loader = DataLoader(test_set, batch_size=100, shuffle=False)"
   ]
  },
  {
   "cell_type": "code",
   "execution_count": 11,
   "metadata": {},
   "outputs": [
    {
     "data": {
      "text/plain": [
       "tensor([[0, 1, 0, 1, 0, 1, 0, 1],\n",
       "        [1, 0, 0, 1, 1, 0, 1, 0],\n",
       "        [0, 0, 0, 1, 1, 1, 0, 1],\n",
       "        [1, 1, 1, 0, 1, 0, 0, 0],\n",
       "        [0, 1, 1, 1, 0, 0, 1, 0],\n",
       "        [1, 0, 1, 0, 0, 0, 1, 1],\n",
       "        [0, 1, 0, 0, 1, 1, 0, 1],\n",
       "        [1, 0, 1, 0, 0, 1, 1, 0]])"
      ]
     },
     "execution_count": 11,
     "metadata": {},
     "output_type": "execute_result"
    }
   ],
   "source": [
    "train_loader.dataset.dataset.A"
   ]
  },
  {
   "cell_type": "code",
   "execution_count": 12,
   "metadata": {},
   "outputs": [
    {
     "name": "stdout",
     "output_type": "stream",
     "text": [
      "Training set | Epoch: 1 Loss: tensor(1.5194, device='cuda:0', grad_fn=<DivBackward0>)\n",
      "Training set | Epoch: 2 Loss: tensor(1.2192, device='cuda:0', grad_fn=<DivBackward0>)\n",
      "Training set | Epoch: 3 Loss: tensor(1.2176, device='cuda:0', grad_fn=<DivBackward0>)\n",
      "Training set | Epoch: 4 Loss: tensor(1.2160, device='cuda:0', grad_fn=<DivBackward0>)\n",
      "Training set | Epoch: 5 Loss: tensor(1.2146, device='cuda:0', grad_fn=<DivBackward0>)\n",
      "Training set | Epoch: 6 Loss: tensor(1.2147, device='cuda:0', grad_fn=<DivBackward0>)\n",
      "Training set | Epoch: 7 Loss: tensor(1.2134, device='cuda:0', grad_fn=<DivBackward0>)\n",
      "Training set | Epoch: 8 Loss: tensor(1.2126, device='cuda:0', grad_fn=<DivBackward0>)\n",
      "Training set | Epoch: 9 Loss: tensor(1.2138, device='cuda:0', grad_fn=<DivBackward0>)\n",
      "Training set | Epoch: 10 Loss: tensor(1.2146, device='cuda:0', grad_fn=<DivBackward0>)\n"
     ]
    }
   ],
   "source": [
    "model.fit(train_loader, 10)"
   ]
  },
  {
   "cell_type": "code",
   "execution_count": 13,
   "metadata": {},
   "outputs": [
    {
     "name": "stdout",
     "output_type": "stream",
     "text": [
      "Total matched 13209 out of 39062 |  Loss: tensor(1.2085, device='cuda:0', grad_fn=<DivBackward0>) | Accuracy 33.8155 %\n"
     ]
    }
   ],
   "source": [
    "import csv\n",
    "\n",
    "# testing\n",
    "torch.no_grad()\n",
    "# torch.set_printoptions(profile=\"full\")\n",
    "\n",
    "f = open(\"test_result.csv\", \"w\", newline='')\n",
    "csv_writer = csv.writer(f)\n",
    "csv_writer.writerow([\"Actual\", \"Predicted\"])\n",
    "\n",
    "total_matched = 0\n",
    "criterion = torch.nn.MSELoss()\n",
    "\n",
    "total_loss = 0\n",
    "for batch in test_loader:\n",
    "    x = batch[0].to(device)\n",
    "    # x = x.repeat(1, 8, 1)\n",
    "    y = batch[1].to(device)\n",
    "    out = model(x, test_loader.dataset.dataset.A.to(device))\n",
    "    csv_writer.writerows(zip(y.detach().cpu().numpy(), out.detach().cpu().numpy()))\n",
    "    loss = criterion(out, y)\n",
    "    out = torch.round(out)\n",
    "    matched = (out == y).sum().item()\n",
    "    total_matched += matched\n",
    "    total_loss += loss\n",
    "    loss.backward()\n",
    "\n",
    "f.close()\n",
    "print(\n",
    "    \"Total matched\",\n",
    "    total_matched,\n",
    "    \"out of\",\n",
    "    len(test_set),\n",
    "    \"| \",\n",
    "    \"Loss:\",\n",
    "    total_loss / len(test_loader),\n",
    "    \"| Accuracy\",\n",
    "    round(total_matched / len(test_set) * 100, 4),\n",
    "    \"%\",\n",
    ")"
   ]
  },
  {
   "cell_type": "code",
   "execution_count": null,
   "metadata": {},
   "outputs": [],
   "source": []
  }
 ],
 "metadata": {
  "kernelspec": {
   "display_name": "cvf",
   "language": "python",
   "name": "python3"
  },
  "language_info": {
   "codemirror_mode": {
    "name": "ipython",
    "version": 3
   },
   "file_extension": ".py",
   "mimetype": "text/x-python",
   "name": "python",
   "nbconvert_exporter": "python",
   "pygments_lexer": "ipython3",
   "version": "3.12.2"
  }
 },
 "nbformat": 4,
 "nbformat_minor": 2
}
