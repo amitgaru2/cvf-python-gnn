{
 "cells": [
  {
   "cell_type": "code",
   "execution_count": 2,
   "metadata": {},
   "outputs": [],
   "source": [
    "import numpy as np\n",
    "\n",
    "import torch\n",
    "import torch.nn as nn\n",
    "import torch.nn.functional as F\n",
    "\n",
    "from torch_geometric.nn.pool import global_mean_pool"
   ]
  },
  {
   "cell_type": "code",
   "execution_count": 2,
   "metadata": {},
   "outputs": [],
   "source": [
    "class GCNConvByHand(nn.Module):\n",
    "    \"\"\"maps D x N to D x N\"\"\"\n",
    "    def __init__(self, dim_in):\n",
    "        super().__init__()\n",
    "        self.linear = torch.nn.Linear(dim_in, dim_in, bias=True)\n",
    "\n",
    "    def forward(self, x, A):\n",
    "        num_nodes = A.shape[0]\n",
    "        omega_k = self.linear.weight\n",
    "        beta_k = self.linear.bias.reshape(-1, 1)\n",
    "        # print(\"omega_k\", omega_k, \"beta_k\", beta_k)\n",
    "        H_k = x\n",
    "        x = torch.matmul(\n",
    "            beta_k, torch.reshape(torch.ones(num_nodes), (1, -1))\n",
    "        ) + torch.matmul(omega_k, torch.matmul(H_k, A + torch.eye(num_nodes)))\n",
    "        return x"
   ]
  },
  {
   "cell_type": "code",
   "execution_count": 33,
   "metadata": {},
   "outputs": [],
   "source": [
    "class GCNByHand(nn.Module):\n",
    "    def __init__(self, N, in_channels, out_channels):\n",
    "        super().__init__()\n",
    "        self.conv1 = GCNConvByHand(in_channels)\n",
    "        self.conv2 = GCNConvByHand(in_channels)\n",
    "        self.out = torch.nn.Linear(N, out_channels, bias=True)\n",
    "\n",
    "    def forward(self, x, edge_index):\n",
    "        x = self.conv1(x, edge_index)\n",
    "        # print(\"x after first layer\\n\", x)\n",
    "        x = torch.relu(x)\n",
    "        x = self.conv2(x, edge_index)\n",
    "        # print(\"x after second layer\\n\", x)\n",
    "        x = torch.relu(x)\n",
    "        # x = torch.transpose(x, 0, 1)\n",
    "        print(x)\n",
    "        print(self.out.bias, self.out.weight, self.out.weight.shape)\n",
    "        x = self.out(x)\n",
    "        print(x)\n",
    "        x = torch.sigmoid(x)\n",
    "\n",
    "        # print(\"x after output layer\\n\", x)\n",
    "        # x = global_mean_pool(x, torch.zeros(x.size(1)).long())  # all are from graph 0, single graph\n",
    "        return x"
   ]
  },
  {
   "cell_type": "code",
   "execution_count": 34,
   "metadata": {},
   "outputs": [
    {
     "name": "stdout",
     "output_type": "stream",
     "text": [
      "tensor([[0.4092, 0.2457, 0.4092],\n",
      "        [0.8500, 0.5871, 0.8500]], grad_fn=<ReluBackward0>)\n",
      "Parameter containing:\n",
      "tensor([-0.0747], requires_grad=True) Parameter containing:\n",
      "tensor([[-0.2958,  0.2407, -0.3674]], requires_grad=True) torch.Size([1, 3])\n",
      "tensor([[-0.2870],\n",
      "        [-0.4972]], grad_fn=<AddmmBackward0>)\n",
      "output\n",
      "tensor([[0.4287],\n",
      "        [0.3782]], grad_fn=<SigmoidBackward0>)\n"
     ]
    }
   ],
   "source": [
    "num_nodes = 3       # N\n",
    "num_features = 2    # D\n",
    "num_labels = 1      # O\n",
    "\n",
    "# the following needs to be replaced by some node embeddings\n",
    "x = torch.randn((num_features, num_nodes)) # D x N\n",
    "\n",
    "# print(\"x\", x, x.shape)\n",
    "\n",
    "A = torch.tensor([[0, 1, 1], [1, 0, 0], [1, 0, 0]])  # adjacency matrix ( N x N )\n",
    "\n",
    "model = GCNByHand(N=num_nodes, in_channels=num_features, out_channels=num_labels)\n",
    "\n",
    "out = model(x, A)   # D x O\n",
    "\n",
    "print(\"output\")\n",
    "print(out)"
   ]
  },
  {
   "cell_type": "code",
   "execution_count": 39,
   "metadata": {},
   "outputs": [],
   "source": [
    "x = np.array([[0.4092, 0.2457, 0.4092],\n",
    "        [0.8500, 0.5871, 0.8500]])\n",
    "\n",
    "w = np.array([[-0.2958,  0.2407, -0.3674]])\n",
    "\n",
    "b = np.array([-0.0747])"
   ]
  },
  {
   "cell_type": "code",
   "execution_count": 40,
   "metadata": {},
   "outputs": [
    {
     "data": {
      "text/plain": [
       "array([[-0.28694145],\n",
       "       [-0.49710503]])"
      ]
     },
     "execution_count": 40,
     "metadata": {},
     "output_type": "execute_result"
    }
   ],
   "source": [
    "b + x @ w.transpose()"
   ]
  },
  {
   "cell_type": "code",
   "execution_count": 64,
   "metadata": {},
   "outputs": [
    {
     "data": {
      "text/plain": [
       "(array([[[1, 1]],\n",
       " \n",
       "        [[1, 1]],\n",
       " \n",
       "        [[1, 1]]]),\n",
       " (3, 1, 2))"
      ]
     },
     "execution_count": 64,
     "metadata": {},
     "output_type": "execute_result"
    }
   ],
   "source": [
    "X = np.array([\n",
    "    [\n",
    "        [1, 1]\n",
    "    ],\n",
    "    [\n",
    "        [1, 1]\n",
    "    ],\n",
    "    [\n",
    "        [1, 1]\n",
    "    ]\n",
    "])\n",
    "\n",
    "X, X.shape"
   ]
  },
  {
   "cell_type": "code",
   "execution_count": 65,
   "metadata": {},
   "outputs": [
    {
     "data": {
      "text/plain": [
       "(array([[[1],\n",
       "         [1]],\n",
       " \n",
       "        [[1],\n",
       "         [2]],\n",
       " \n",
       "        [[1],\n",
       "         [2]]]),\n",
       " (3, 2, 1))"
      ]
     },
     "execution_count": 65,
     "metadata": {},
     "output_type": "execute_result"
    }
   ],
   "source": [
    "Y = np.array([\n",
    "    [\n",
    "        [1], \n",
    "        [1], \n",
    "    ],\n",
    "    [\n",
    "        [1], \n",
    "        [2], \n",
    "    ]\n",
    "    ,\n",
    "    [\n",
    "        [1], \n",
    "        [2], \n",
    "    ]\n",
    "])\n",
    "Y, Y.shape"
   ]
  },
  {
   "cell_type": "code",
   "execution_count": 66,
   "metadata": {},
   "outputs": [
    {
     "data": {
      "text/plain": [
       "(array([[[2]],\n",
       " \n",
       "        [[3]],\n",
       " \n",
       "        [[3]]]),\n",
       " (3, 1, 1))"
      ]
     },
     "execution_count": 66,
     "metadata": {},
     "output_type": "execute_result"
    }
   ],
   "source": [
    "Z = X @ Y\n",
    "Z, Z.shape"
   ]
  },
  {
   "cell_type": "code",
   "execution_count": null,
   "metadata": {},
   "outputs": [],
   "source": []
  },
  {
   "cell_type": "code",
   "execution_count": null,
   "metadata": {},
   "outputs": [],
   "source": []
  }
 ],
 "metadata": {
  "kernelspec": {
   "display_name": "cvf",
   "language": "python",
   "name": "python3"
  },
  "language_info": {
   "codemirror_mode": {
    "name": "ipython",
    "version": 3
   },
   "file_extension": ".py",
   "mimetype": "text/x-python",
   "name": "python",
   "nbconvert_exporter": "python",
   "pygments_lexer": "ipython3",
   "version": "3.12.2"
  }
 },
 "nbformat": 4,
 "nbformat_minor": 2
}
