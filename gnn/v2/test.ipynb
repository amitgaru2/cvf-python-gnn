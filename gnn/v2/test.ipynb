{
 "cells": [
  {
   "cell_type": "code",
   "execution_count": 5,
   "metadata": {},
   "outputs": [
    {
     "data": {
      "text/plain": [
       "'cuda'"
      ]
     },
     "execution_count": 5,
     "metadata": {},
     "output_type": "execute_result"
    }
   ],
   "source": [
    "\n",
    "import torch\n",
    "from torch_geometric.nn import Node2Vec\n",
    "\n",
    "device = 'cuda' if torch.cuda.is_available() else 'cpu'\n",
    "device\n"
   ]
  },
  {
   "cell_type": "code",
   "execution_count": null,
   "metadata": {},
   "outputs": [],
   "source": [
    "import os\n",
    "import json\n",
    "\n",
    "dataset_dir = os.path.join(\n",
    "    os.getenv(\"CVF_PROJECT_DIR\", \"\"), \"cvf-analysis\", \"v2\", \"datasets\", \"coloring\"\n",
    ")\n",
    "edge_index_file = \"graph_7_edge_index.json\"\n",
    "\n",
    "# edge_index = torch.tensor(\n",
    "#     json.load(open(os.path.join(dataset_dir, edge_index_file), \"r\")),\n",
    "#     dtype=torch.long,\n",
    "# )\n",
    "edge_index = (\n",
    "            torch.tensor(\n",
    "                json.load(open(os.path.join(dataset_dir, edge_index_file), \"r\")),\n",
    "                dtype=torch.long,\n",
    "            )\n",
    "            .t()\n",
    "            .to(device)\n",
    "        )"
   ]
  },
  {
   "cell_type": "code",
   "execution_count": null,
   "metadata": {},
   "outputs": [],
   "source": [
    "model = Node2Vec(\n",
    "    edge_index,\n",
    "    embedding_dim=1,\n",
    "    walks_per_node=10,\n",
    "    walk_length=5,\n",
    "    context_size=10,\n",
    "    p=1.0,\n",
    "    q=1.0,\n",
    "    num_negative_samples=1,\n",
    ").to(device)\n",
    "\n",
    "# optimizer = torch.optim.Adam(model.parameters(), lr=0.01)"
   ]
  },
  {
   "cell_type": "code",
   "execution_count": 25,
   "metadata": {},
   "outputs": [
    {
     "data": {
      "text/plain": [
       "tensor([[0, 0, 0, 0, 0, 0, 0, 0, 0, 1, 1, 2, 2, 3, 3, 4, 4, 5, 5, 5, 5, 5, 5, 5,\n",
       "         5, 5, 6, 6, 7, 7, 8, 8, 9, 9],\n",
       "        [1, 2, 3, 4, 5, 6, 7, 8, 9, 0, 5, 0, 5, 0, 5, 0, 5, 0, 1, 2, 3, 4, 6, 7,\n",
       "         8, 9, 0, 5, 0, 5, 0, 5, 0, 5]], device='cuda:0')"
      ]
     },
     "execution_count": 25,
     "metadata": {},
     "output_type": "execute_result"
    }
   ],
   "source": [
    "edge_index"
   ]
  },
  {
   "cell_type": "code",
   "execution_count": 26,
   "metadata": {},
   "outputs": [
    {
     "data": {
      "text/plain": [
       "Node2Vec(10, 2)"
      ]
     },
     "execution_count": 26,
     "metadata": {},
     "output_type": "execute_result"
    }
   ],
   "source": [
    "model"
   ]
  },
  {
   "cell_type": "code",
   "execution_count": 27,
   "metadata": {},
   "outputs": [],
   "source": [
    "optimizer = torch.optim.Adam(model.parameters(), lr=0.01)"
   ]
  },
  {
   "cell_type": "code",
   "execution_count": 28,
   "metadata": {},
   "outputs": [
    {
     "data": {
      "text/plain": [
       "Node2Vec(10, 2)"
      ]
     },
     "execution_count": 28,
     "metadata": {},
     "output_type": "execute_result"
    }
   ],
   "source": [
    "model"
   ]
  },
  {
   "cell_type": "code",
   "execution_count": 29,
   "metadata": {},
   "outputs": [],
   "source": [
    "loader = model.loader(batch_size=128, shuffle=True, num_workers=4)"
   ]
  },
  {
   "cell_type": "code",
   "execution_count": 30,
   "metadata": {},
   "outputs": [
    {
     "data": {
      "text/plain": [
       "(tensor([[1, 5, 4,  ..., 0, 4, 0],\n",
       "         [4, 0, 8,  ..., 9, 0, 2],\n",
       "         [7, 0, 6,  ..., 5, 9, 5],\n",
       "         ...,\n",
       "         [5, 2, 0,  ..., 6, 5, 0],\n",
       "         [5, 2, 5,  ..., 4, 0, 9],\n",
       "         [0, 6, 0,  ..., 1, 0, 6]]),\n",
       " tensor([[1, 9, 2,  ..., 3, 4, 7],\n",
       "         [4, 1, 6,  ..., 4, 3, 2],\n",
       "         [7, 0, 0,  ..., 1, 6, 5],\n",
       "         ...,\n",
       "         [7, 2, 9,  ..., 0, 7, 1],\n",
       "         [4, 5, 2,  ..., 8, 7, 4],\n",
       "         [6, 0, 4,  ..., 5, 0, 9]]))"
      ]
     },
     "execution_count": 30,
     "metadata": {},
     "output_type": "execute_result"
    }
   ],
   "source": [
    "pos_rw, neg_rw = next(iter(loader))\n",
    "pos_rw, neg_rw"
   ]
  },
  {
   "cell_type": "code",
   "execution_count": 31,
   "metadata": {},
   "outputs": [
    {
     "data": {
      "text/plain": [
       "(torch.Size([1100, 10]), torch.Size([1100, 10]))"
      ]
     },
     "execution_count": 31,
     "metadata": {},
     "output_type": "execute_result"
    }
   ],
   "source": [
    "pos_rw.shape, neg_rw.shape"
   ]
  },
  {
   "cell_type": "code",
   "execution_count": null,
   "metadata": {},
   "outputs": [],
   "source": []
  }
 ],
 "metadata": {
  "kernelspec": {
   "display_name": "cvf",
   "language": "python",
   "name": "python3"
  },
  "language_info": {
   "codemirror_mode": {
    "name": "ipython",
    "version": 3
   },
   "file_extension": ".py",
   "mimetype": "text/x-python",
   "name": "python",
   "nbconvert_exporter": "python",
   "pygments_lexer": "ipython3",
   "version": "3.12.2"
  }
 },
 "nbformat": 4,
 "nbformat_minor": 2
}
