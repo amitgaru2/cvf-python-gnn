{
 "cells": [
  {
   "cell_type": "code",
   "execution_count": 1,
   "metadata": {},
   "outputs": [
    {
     "data": {
      "text/plain": [
       "'cuda'"
      ]
     },
     "execution_count": 1,
     "metadata": {},
     "output_type": "execute_result"
    }
   ],
   "source": [
    "\n",
    "import os\n",
    "\n",
    "import torch\n",
    "\n",
    "from torch_geometric.nn import Node2Vec\n",
    "\n",
    "device = 'cuda' if torch.cuda.is_available() else 'cpu'\n",
    "device\n"
   ]
  },
  {
   "cell_type": "code",
   "execution_count": 2,
   "metadata": {},
   "outputs": [],
   "source": [
    "from scipy.spatial import distance"
   ]
  },
  {
   "cell_type": "code",
   "execution_count": 3,
   "metadata": {},
   "outputs": [],
   "source": [
    "def adjacency_to_edge_index(file):\n",
    "    edge_index = [[], []]\n",
    "    for indx, line in enumerate(file):\n",
    "        for edge in line.split(\",\"):\n",
    "            edge_index[0].append(indx)\n",
    "            edge_index[1].append(int(edge))\n",
    "    \n",
    "    return edge_index"
   ]
  },
  {
   "cell_type": "code",
   "execution_count": 4,
   "metadata": {},
   "outputs": [],
   "source": [
    "dataset_dir = os.path.join(\n",
    "    os.getenv(\"CVF_PROJECT_DIR\", \"\"), \"cvf-analysis\", \"v2\", \"datasets\", \"coloring\"\n",
    ")\n",
    "# edge_index_file = \"tiny_graph_test_pt_adj_list.txt\"\n",
    "# edge_index_file = \"small_graph_test_pt_adj_list.txt\"\n",
    "edge_index_file = \"graph_1_pt_adj_list.txt\"\n",
    "\n",
    "f = open(os.path.join(dataset_dir, edge_index_file), \"r\")\n",
    "edge_index = torch.tensor(adjacency_to_edge_index(f)).to(device)\n"
   ]
  },
  {
   "cell_type": "code",
   "execution_count": 5,
   "metadata": {},
   "outputs": [
    {
     "data": {
      "text/plain": [
       "tensor([[   0,    0,    0,  ..., 5117, 5118, 5119],\n",
       "        [ 512,  256,  128,  ..., 5117, 5118, 5119]], device='cuda:0')"
      ]
     },
     "execution_count": 5,
     "metadata": {},
     "output_type": "execute_result"
    }
   ],
   "source": [
    "edge_index"
   ]
  },
  {
   "cell_type": "code",
   "execution_count": null,
   "metadata": {},
   "outputs": [],
   "source": [
    "model = Node2Vec(\n",
    "    edge_index,\n",
    "    embedding_dim=4,\n",
    "    walks_per_node=5,\n",
    "    walk_length=5,\n",
    "    context_size=3,\n",
    "    p=1.0,\n",
    "    q=1.0,\n",
    "    num_negative_samples=1,\n",
    ").to(device)\n"
   ]
  },
  {
   "cell_type": "code",
   "execution_count": 7,
   "metadata": {},
   "outputs": [],
   "source": [
    "loader = model.loader(batch_size=128, shuffle=True, num_workers=4)\n",
    "optimizer = torch.optim.Adam(model.parameters(), lr=0.01)\n",
    "\n",
    "# optimizer = torch.optim.SparseAdam(list(model.parameters()), lr=0.01)\n",
    "\n",
    "\n",
    "def train():\n",
    "    model.train()\n",
    "    total_loss = 0\n",
    "    for pos_rw, neg_rw in loader:\n",
    "        optimizer.zero_grad()\n",
    "        loss = model.loss(pos_rw.to(device), neg_rw.to(device))\n",
    "        loss.backward()\n",
    "        optimizer.step()\n",
    "        total_loss += loss.item()\n",
    "    return total_loss / len(loader)"
   ]
  },
  {
   "cell_type": "code",
   "execution_count": 8,
   "metadata": {},
   "outputs": [],
   "source": [
    "# @torch.no_grad()\n",
    "# def test():\n",
    "#     model.eval()\n",
    "#     z = model()\n",
    "#     acc = model.test(\n",
    "#         train_z=z[data.train_mask],\n",
    "#         train_y=data.y[data.train_mask],\n",
    "#         test_z=z[data.test_mask],\n",
    "#         test_y=data.y[data.test_mask],\n",
    "#         max_iter=150,\n",
    "#     )\n",
    "#     return acc"
   ]
  },
  {
   "cell_type": "code",
   "execution_count": 9,
   "metadata": {},
   "outputs": [
    {
     "name": "stdout",
     "output_type": "stream",
     "text": [
      "Epoch: 001, Loss: 1.2312\n",
      "Epoch: 002, Loss: 1.1926\n",
      "Epoch: 003, Loss: 1.1629\n",
      "Epoch: 004, Loss: 1.1437\n",
      "Epoch: 005, Loss: 1.1252\n",
      "Epoch: 006, Loss: 1.1079\n",
      "Epoch: 007, Loss: 1.0962\n",
      "Epoch: 008, Loss: 1.0872\n",
      "Epoch: 009, Loss: 1.0775\n",
      "Epoch: 010, Loss: 1.0690\n",
      "Epoch: 011, Loss: 1.0637\n",
      "Epoch: 012, Loss: 1.0563\n",
      "Epoch: 013, Loss: 1.0521\n",
      "Epoch: 014, Loss: 1.0504\n",
      "Epoch: 015, Loss: 1.0456\n",
      "Epoch: 016, Loss: 1.0426\n",
      "Epoch: 017, Loss: 1.0419\n",
      "Epoch: 018, Loss: 1.0374\n",
      "Epoch: 019, Loss: 1.0351\n",
      "Epoch: 020, Loss: 1.0354\n",
      "Epoch: 021, Loss: 1.0328\n",
      "Epoch: 022, Loss: 1.0333\n",
      "Epoch: 023, Loss: 1.0355\n",
      "Epoch: 024, Loss: 1.0312\n",
      "Epoch: 025, Loss: 1.0318\n",
      "Epoch: 026, Loss: 1.0311\n",
      "Epoch: 027, Loss: 1.0300\n",
      "Epoch: 028, Loss: 1.0279\n",
      "Epoch: 029, Loss: 1.0294\n",
      "Epoch: 030, Loss: 1.0305\n",
      "Epoch: 031, Loss: 1.0282\n",
      "Epoch: 032, Loss: 1.0279\n",
      "Epoch: 033, Loss: 1.0270\n",
      "Epoch: 034, Loss: 1.0281\n",
      "Epoch: 035, Loss: 1.0285\n",
      "Epoch: 036, Loss: 1.0275\n",
      "Epoch: 037, Loss: 1.0281\n",
      "Epoch: 038, Loss: 1.0267\n",
      "Epoch: 039, Loss: 1.0293\n",
      "Epoch: 040, Loss: 1.0300\n",
      "Epoch: 041, Loss: 1.0262\n",
      "Epoch: 042, Loss: 1.0284\n",
      "Epoch: 043, Loss: 1.0249\n",
      "Epoch: 044, Loss: 1.0271\n",
      "Epoch: 045, Loss: 1.0264\n",
      "Epoch: 046, Loss: 1.0277\n",
      "Epoch: 047, Loss: 1.0281\n",
      "Epoch: 048, Loss: 1.0245\n",
      "Epoch: 049, Loss: 1.0243\n",
      "Epoch: 050, Loss: 1.0256\n",
      "Epoch: 051, Loss: 1.0245\n",
      "Epoch: 052, Loss: 1.0278\n",
      "Epoch: 053, Loss: 1.0259\n",
      "Epoch: 054, Loss: 1.0262\n",
      "Epoch: 055, Loss: 1.0266\n",
      "Epoch: 056, Loss: 1.0237\n",
      "Epoch: 057, Loss: 1.0213\n",
      "Epoch: 058, Loss: 1.0255\n",
      "Epoch: 059, Loss: 1.0249\n",
      "Epoch: 060, Loss: 1.0249\n",
      "Epoch: 061, Loss: 1.0240\n",
      "Epoch: 062, Loss: 1.0235\n",
      "Epoch: 063, Loss: 1.0241\n",
      "Epoch: 064, Loss: 1.0236\n",
      "Epoch: 065, Loss: 1.0245\n",
      "Epoch: 066, Loss: 1.0244\n",
      "Epoch: 067, Loss: 1.0244\n",
      "Epoch: 068, Loss: 1.0230\n",
      "Epoch: 069, Loss: 1.0242\n",
      "Epoch: 070, Loss: 1.0257\n",
      "Epoch: 071, Loss: 1.0238\n",
      "Epoch: 072, Loss: 1.0226\n",
      "Epoch: 073, Loss: 1.0211\n",
      "Epoch: 074, Loss: 1.0231\n",
      "Epoch: 075, Loss: 1.0221\n",
      "Epoch: 076, Loss: 1.0218\n",
      "Epoch: 077, Loss: 1.0223\n",
      "Epoch: 078, Loss: 1.0221\n",
      "Epoch: 079, Loss: 1.0211\n",
      "Epoch: 080, Loss: 1.0200\n",
      "Epoch: 081, Loss: 1.0208\n",
      "Epoch: 082, Loss: 1.0229\n",
      "Epoch: 083, Loss: 1.0228\n",
      "Epoch: 084, Loss: 1.0230\n",
      "Epoch: 085, Loss: 1.0202\n",
      "Epoch: 086, Loss: 1.0226\n",
      "Epoch: 087, Loss: 1.0228\n",
      "Epoch: 088, Loss: 1.0257\n",
      "Epoch: 089, Loss: 1.0231\n",
      "Epoch: 090, Loss: 1.0258\n",
      "Epoch: 091, Loss: 1.0223\n",
      "Epoch: 092, Loss: 1.0234\n",
      "Epoch: 093, Loss: 1.0211\n",
      "Epoch: 094, Loss: 1.0224\n",
      "Epoch: 095, Loss: 1.0212\n",
      "Epoch: 096, Loss: 1.0228\n",
      "Epoch: 097, Loss: 1.0206\n",
      "Epoch: 098, Loss: 1.0221\n",
      "Epoch: 099, Loss: 1.0218\n",
      "Epoch: 100, Loss: 1.0228\n"
     ]
    }
   ],
   "source": [
    "for epoch in range(1, 101):\n",
    "    loss = train()\n",
    "    # acc = test()\n",
    "    # print(f'Epoch: {epoch:03d}, Loss: {loss:.4f}, Acc: {acc:.4f}')\n",
    "    print(f'Epoch: {epoch:03d}, Loss: {loss:.4f}')\n"
   ]
  },
  {
   "cell_type": "code",
   "execution_count": 10,
   "metadata": {},
   "outputs": [
    {
     "data": {
      "text/plain": [
       "Parameter containing:\n",
       "tensor([[-0.1518, -0.2566],\n",
       "        [ 0.0505, -0.0944],\n",
       "        [-0.0475, -0.0400],\n",
       "        ...,\n",
       "        [-0.6885,  1.1569],\n",
       "        [ 0.4284,  1.2810],\n",
       "        [ 0.3399, -1.1968]], device='cuda:0', requires_grad=True)"
      ]
     },
     "execution_count": 10,
     "metadata": {},
     "output_type": "execute_result"
    }
   ],
   "source": [
    "model()"
   ]
  },
  {
   "cell_type": "code",
   "execution_count": 32,
   "metadata": {},
   "outputs": [
    {
     "data": {
      "text/plain": [
       "1.9824907842560924"
      ]
     },
     "execution_count": 32,
     "metadata": {},
     "output_type": "execute_result"
    }
   ],
   "source": [
    "indx1 = 1140\n",
    "indx2 = 593\n",
    "\n",
    "model.eval()\n",
    "params = model().cpu().detach().numpy()\n",
    "cosine_distance = distance.cosine(params[indx1], params[indx2])\n",
    "cosine_distance"
   ]
  },
  {
   "cell_type": "code",
   "execution_count": null,
   "metadata": {},
   "outputs": [],
   "source": []
  }
 ],
 "metadata": {
  "kernelspec": {
   "display_name": "cvf",
   "language": "python",
   "name": "python3"
  },
  "language_info": {
   "codemirror_mode": {
    "name": "ipython",
    "version": 3
   },
   "file_extension": ".py",
   "mimetype": "text/x-python",
   "name": "python",
   "nbconvert_exporter": "python",
   "pygments_lexer": "ipython3",
   "version": "3.12.2"
  }
 },
 "nbformat": 4,
 "nbformat_minor": 2
}
