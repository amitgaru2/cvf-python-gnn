{
 "cells": [
  {
   "cell_type": "code",
   "execution_count": 1,
   "metadata": {},
   "outputs": [
    {
     "data": {
      "text/plain": [
       "'cuda'"
      ]
     },
     "execution_count": 1,
     "metadata": {},
     "output_type": "execute_result"
    }
   ],
   "source": [
    "\n",
    "import os\n",
    "\n",
    "import torch\n",
    "\n",
    "from torch_geometric.nn import Node2Vec\n",
    "\n",
    "device = 'cuda' if torch.cuda.is_available() else 'cpu'\n",
    "device\n"
   ]
  },
  {
   "cell_type": "code",
   "execution_count": 2,
   "metadata": {},
   "outputs": [],
   "source": [
    "def adjacency_to_edge_index(file):\n",
    "    edge_index = [[], []]\n",
    "    for indx, line in enumerate(file):\n",
    "        for edge in line.split(\",\"):\n",
    "            edge_index[0].append(indx)\n",
    "            edge_index[1].append(int(edge))\n",
    "    \n",
    "    return edge_index"
   ]
  },
  {
   "cell_type": "code",
   "execution_count": 3,
   "metadata": {},
   "outputs": [],
   "source": [
    "dataset_dir = os.path.join(\n",
    "    os.getenv(\"CVF_PROJECT_DIR\", \"\"), \"cvf-analysis\", \"v2\", \"datasets\", \"coloring\"\n",
    ")\n",
    "edge_index_file = \"tiny_graph_test_pt_adj_list.txt\"\n",
    "\n",
    "f = open(os.path.join(dataset_dir, edge_index_file), \"r\")\n",
    "edge_index = torch.tensor(adjacency_to_edge_index(f)).to(device)\n"
   ]
  },
  {
   "cell_type": "code",
   "execution_count": 4,
   "metadata": {},
   "outputs": [
    {
     "data": {
      "text/plain": [
       "tensor([[ 0,  0,  0,  1,  1,  2,  2,  3,  4,  5,  5,  6,  6,  7,  7,  7,  8,  9,\n",
       "         10, 11],\n",
       "        [ 4,  2,  1,  9,  3, 10,  3,  3,  4,  9,  4, 10,  4,  3,  5,  6,  8,  9,\n",
       "         10, 11]], device='cuda:0')"
      ]
     },
     "execution_count": 4,
     "metadata": {},
     "output_type": "execute_result"
    }
   ],
   "source": [
    "edge_index"
   ]
  },
  {
   "cell_type": "code",
   "execution_count": 5,
   "metadata": {},
   "outputs": [],
   "source": [
    "model = Node2Vec(\n",
    "    edge_index,\n",
    "    embedding_dim=2,\n",
    "    walks_per_node=5,\n",
    "    walk_length=5,\n",
    "    context_size=3,\n",
    "    p=1.0,\n",
    "    q=1.0,\n",
    "    num_negative_samples=1,\n",
    ").to(device)\n"
   ]
  },
  {
   "cell_type": "code",
   "execution_count": 6,
   "metadata": {},
   "outputs": [],
   "source": [
    "loader = model.loader(batch_size=128, shuffle=True, num_workers=4)\n",
    "optimizer = torch.optim.Adam(model.parameters(), lr=0.01)\n",
    "\n",
    "# optimizer = torch.optim.SparseAdam(list(model.parameters()), lr=0.01)\n",
    "\n",
    "\n",
    "def train():\n",
    "    model.train()\n",
    "    total_loss = 0\n",
    "    for pos_rw, neg_rw in loader:\n",
    "        optimizer.zero_grad()\n",
    "        loss = model.loss(pos_rw.to(device), neg_rw.to(device))\n",
    "        loss.backward()\n",
    "        optimizer.step()\n",
    "        total_loss += loss.item()\n",
    "    return total_loss / len(loader)"
   ]
  },
  {
   "cell_type": "code",
   "execution_count": 7,
   "metadata": {},
   "outputs": [],
   "source": [
    "# @torch.no_grad()\n",
    "# def test():\n",
    "#     model.eval()\n",
    "#     z = model()\n",
    "#     acc = model.test(\n",
    "#         train_z=z[data.train_mask],\n",
    "#         train_y=data.y[data.train_mask],\n",
    "#         test_z=z[data.test_mask],\n",
    "#         test_y=data.y[data.test_mask],\n",
    "#         max_iter=150,\n",
    "#     )\n",
    "#     return acc"
   ]
  },
  {
   "cell_type": "code",
   "execution_count": 8,
   "metadata": {},
   "outputs": [
    {
     "name": "stdout",
     "output_type": "stream",
     "text": [
      "Epoch: 001, Loss: 1.1533\n",
      "Epoch: 002, Loss: 1.1657\n",
      "Epoch: 003, Loss: 1.1808\n",
      "Epoch: 004, Loss: 1.1843\n",
      "Epoch: 005, Loss: 1.1270\n",
      "Epoch: 006, Loss: 1.1179\n",
      "Epoch: 007, Loss: 1.2118\n",
      "Epoch: 008, Loss: 1.1792\n",
      "Epoch: 009, Loss: 1.1430\n",
      "Epoch: 010, Loss: 1.1334\n",
      "Epoch: 011, Loss: 1.1535\n",
      "Epoch: 012, Loss: 1.1341\n",
      "Epoch: 013, Loss: 1.1643\n",
      "Epoch: 014, Loss: 1.0889\n",
      "Epoch: 015, Loss: 1.1588\n",
      "Epoch: 016, Loss: 1.1630\n",
      "Epoch: 017, Loss: 1.1596\n",
      "Epoch: 018, Loss: 1.1011\n",
      "Epoch: 019, Loss: 1.1040\n",
      "Epoch: 020, Loss: 1.1716\n",
      "Epoch: 021, Loss: 1.1769\n",
      "Epoch: 022, Loss: 1.1337\n",
      "Epoch: 023, Loss: 1.1526\n",
      "Epoch: 024, Loss: 1.1343\n",
      "Epoch: 025, Loss: 1.1168\n",
      "Epoch: 026, Loss: 1.1228\n",
      "Epoch: 027, Loss: 1.0801\n",
      "Epoch: 028, Loss: 1.0478\n",
      "Epoch: 029, Loss: 1.1279\n",
      "Epoch: 030, Loss: 1.0923\n",
      "Epoch: 031, Loss: 1.1212\n",
      "Epoch: 032, Loss: 1.1185\n",
      "Epoch: 033, Loss: 1.1181\n",
      "Epoch: 034, Loss: 1.0490\n",
      "Epoch: 035, Loss: 1.0571\n",
      "Epoch: 036, Loss: 1.0753\n",
      "Epoch: 037, Loss: 1.0531\n",
      "Epoch: 038, Loss: 1.0927\n",
      "Epoch: 039, Loss: 1.0301\n",
      "Epoch: 040, Loss: 1.1085\n",
      "Epoch: 041, Loss: 1.0504\n",
      "Epoch: 042, Loss: 1.0705\n",
      "Epoch: 043, Loss: 1.0814\n",
      "Epoch: 044, Loss: 1.0897\n",
      "Epoch: 045, Loss: 1.1203\n",
      "Epoch: 046, Loss: 1.0924\n",
      "Epoch: 047, Loss: 1.0413\n",
      "Epoch: 048, Loss: 1.0723\n",
      "Epoch: 049, Loss: 1.0682\n",
      "Epoch: 050, Loss: 1.0151\n",
      "Epoch: 051, Loss: 0.9743\n",
      "Epoch: 052, Loss: 1.0198\n",
      "Epoch: 053, Loss: 1.0117\n",
      "Epoch: 054, Loss: 1.0257\n",
      "Epoch: 055, Loss: 1.0050\n",
      "Epoch: 056, Loss: 1.0075\n",
      "Epoch: 057, Loss: 1.0518\n",
      "Epoch: 058, Loss: 1.0452\n",
      "Epoch: 059, Loss: 1.0183\n",
      "Epoch: 060, Loss: 1.0032\n",
      "Epoch: 061, Loss: 1.0317\n",
      "Epoch: 062, Loss: 1.0326\n",
      "Epoch: 063, Loss: 1.0541\n",
      "Epoch: 064, Loss: 0.9898\n",
      "Epoch: 065, Loss: 1.0409\n",
      "Epoch: 066, Loss: 0.9757\n",
      "Epoch: 067, Loss: 1.0045\n",
      "Epoch: 068, Loss: 1.0932\n",
      "Epoch: 069, Loss: 1.0009\n",
      "Epoch: 070, Loss: 1.0121\n",
      "Epoch: 071, Loss: 1.1007\n",
      "Epoch: 072, Loss: 1.0052\n",
      "Epoch: 073, Loss: 1.0720\n",
      "Epoch: 074, Loss: 1.0340\n",
      "Epoch: 075, Loss: 1.0366\n",
      "Epoch: 076, Loss: 0.9748\n",
      "Epoch: 077, Loss: 0.9740\n",
      "Epoch: 078, Loss: 1.0271\n",
      "Epoch: 079, Loss: 0.9768\n",
      "Epoch: 080, Loss: 0.9884\n",
      "Epoch: 081, Loss: 1.0696\n",
      "Epoch: 082, Loss: 0.9760\n",
      "Epoch: 083, Loss: 1.0206\n",
      "Epoch: 084, Loss: 0.9931\n",
      "Epoch: 085, Loss: 1.0358\n",
      "Epoch: 086, Loss: 1.0264\n",
      "Epoch: 087, Loss: 0.9809\n",
      "Epoch: 088, Loss: 1.0236\n",
      "Epoch: 089, Loss: 0.9916\n",
      "Epoch: 090, Loss: 0.9629\n",
      "Epoch: 091, Loss: 0.9507\n",
      "Epoch: 092, Loss: 0.9900\n",
      "Epoch: 093, Loss: 1.0089\n",
      "Epoch: 094, Loss: 1.0007\n",
      "Epoch: 095, Loss: 1.0016\n",
      "Epoch: 096, Loss: 0.9801\n",
      "Epoch: 097, Loss: 1.0543\n",
      "Epoch: 098, Loss: 0.9792\n",
      "Epoch: 099, Loss: 0.9420\n",
      "Epoch: 100, Loss: 0.9828\n"
     ]
    }
   ],
   "source": [
    "for epoch in range(1, 101):\n",
    "    loss = train()\n",
    "    # acc = test()\n",
    "    # print(f'Epoch: {epoch:03d}, Loss: {loss:.4f}, Acc: {acc:.4f}')\n",
    "    print(f'Epoch: {epoch:03d}, Loss: {loss:.4f}')\n"
   ]
  },
  {
   "cell_type": "code",
   "execution_count": 9,
   "metadata": {},
   "outputs": [
    {
     "data": {
      "text/plain": [
       "Parameter containing:\n",
       "tensor([[-0.0723, -0.5599],\n",
       "        [-0.7039, -0.6210],\n",
       "        [ 0.2282,  0.1689],\n",
       "        [ 0.9819, -1.3159],\n",
       "        [-1.4171, -0.8673],\n",
       "        [-0.0280,  0.0837],\n",
       "        [-0.4404,  0.2050],\n",
       "        [ 0.9470,  0.2032],\n",
       "        [ 1.2039,  0.8226],\n",
       "        [ 0.5642, -1.4475],\n",
       "        [-0.5823,  1.5101],\n",
       "        [-0.9096,  0.9855]], device='cuda:0', requires_grad=True)"
      ]
     },
     "execution_count": 9,
     "metadata": {},
     "output_type": "execute_result"
    }
   ],
   "source": [
    "model()"
   ]
  },
  {
   "cell_type": "code",
   "execution_count": null,
   "metadata": {},
   "outputs": [],
   "source": []
  }
 ],
 "metadata": {
  "kernelspec": {
   "display_name": "cvf",
   "language": "python",
   "name": "python3"
  },
  "language_info": {
   "codemirror_mode": {
    "name": "ipython",
    "version": 3
   },
   "file_extension": ".py",
   "mimetype": "text/x-python",
   "name": "python",
   "nbconvert_exporter": "python",
   "pygments_lexer": "ipython3",
   "version": "3.12.2"
  }
 },
 "nbformat": 4,
 "nbformat_minor": 2
}
