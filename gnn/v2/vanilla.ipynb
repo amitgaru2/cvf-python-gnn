{
 "cells": [
  {
   "cell_type": "code",
   "execution_count": 1,
   "metadata": {},
   "outputs": [],
   "source": [
    "import torch\n",
    "\n",
    "from torch_geometric.utils import to_dense_adj\n",
    "from torch_geometric.nn.pool import global_mean_pool\n",
    "from torch.utils.data import DataLoader, random_split"
   ]
  },
  {
   "cell_type": "code",
   "execution_count": 2,
   "metadata": {},
   "outputs": [],
   "source": [
    "from helpers import CVFConfigDataset"
   ]
  },
  {
   "cell_type": "code",
   "execution_count": 3,
   "metadata": {},
   "outputs": [],
   "source": [
    "# dataset = CVFConfigDataset(\n",
    "#     \"small_graph_test_config_rank_dataset.csv\", \"small_graph_edge_index.json\", 4\n",
    "# )\n",
    "# dataset = CVFConfigDataset(\n",
    "#     \"graph_1_config_rank_dataset.csv\", \"graph_1_edge_index.json\", 10\n",
    "# )\n",
    "# dataset = CVFConfigDataset(\n",
    "#     \"graph_3_config_rank_dataset.csv\", \"graph_3_edge_index.json\", 6\n",
    "# )\n",
    "# dataset = CVFConfigDataset(\n",
    "#     \"graph_4_config_rank_dataset.csv\", \"graph_4_edge_index.json\", 10\n",
    "# )\n",
    "# dataset = CVFConfigDataset(\n",
    "#     \"graph_5_config_rank_dataset.csv\", \"graph_5_edge_index.json\", 9\n",
    "# )\n",
    "# dataset = CVFConfigDataset(\n",
    "#     \"graph_6_config_rank_dataset.csv\", \"graph_6_edge_index.json\", 5\n",
    "# )\n",
    "# dataset = CVFConfigDataset(\n",
    "#     \"graph_6b_config_rank_dataset.csv\", \"graph_6b_edge_index.json\", 5\n",
    "# )\n",
    "# dataset = CVFConfigDataset(\n",
    "#     \"graph_7_config_rank_dataset.csv\", \"graph_7_edge_index.json\", 6\n",
    "# )\n",
    "# dataset = CVFConfigDataset(\n",
    "#     \"graph_8_config_rank_dataset.csv\", \"graph_8_edge_index.json\", 7\n",
    "# )\n",
    "# dataset = CVFConfigDataset(\n",
    "#     \"graph_powerlaw_cluster_graph_n5_config_rank_dataset.csv\", \"graph_powerlaw_cluster_graph_n5_edge_index.json\", 5\n",
    "# )\n",
    "# dataset = CVFConfigDataset(\n",
    "#     \"graph_powerlaw_cluster_graph_n6_config_rank_dataset.csv\", \"graph_powerlaw_cluster_graph_n6_edge_index.json\", 6\n",
    "# )\n",
    "# dataset = CVFConfigDataset(\n",
    "#     \"graph_powerlaw_cluster_graph_n7_config_rank_dataset.csv\", \"graph_powerlaw_cluster_graph_n7_edge_index.json\", 6\n",
    "# )\n",
    "# dataset = CVFConfigDataset(\n",
    "#     \"graph_powerlaw_cluster_graph_n8_config_rank_dataset.csv\",\n",
    "#     \"graph_powerlaw_cluster_graph_n8_edge_index.json\",\n",
    "#     8\n",
    "# )\n",
    "# dataset = CVFConfigDataset(\n",
    "#     \"graph_powerlaw_cluster_graph_n9_config_rank_dataset.csv\",\n",
    "#     \"graph_powerlaw_cluster_graph_n9_edge_index.json\",\n",
    "#     8\n",
    "# )\n",
    "# dataset = CVFConfigDataset(\n",
    "#     \"graph_powerlaw_cluster_graph_n12_config_rank_dataset.csv\",\n",
    "#     \"graph_powerlaw_cluster_graph_n12_edge_index.json\",\n",
    "#     10\n",
    "# )\n",
    "\n",
    "dataset = CVFConfigDataset(\n",
    "    \"implicit_graph_n10_config_rank_dataset.csv\",\n",
    "    \"implicit_graph_n10_edge_index.json\",\n",
    "    3,\n",
    "    one_hot_encode=False\n",
    ")\n",
    "\n",
    "train_split = 0.8\n",
    "dev_split = 0.1\n",
    "test_split = 0.1\n",
    "\n",
    "\n",
    "train_set, dev_set, test_set = random_split(dataset, [train_split, dev_split, test_split])\n",
    "\n",
    "train_loader = DataLoader(train_set, batch_size=1024, shuffle=False)\n",
    "dev_loader = DataLoader(dev_set, batch_size=1024, shuffle=False)\n",
    "test_loader = DataLoader(test_set, batch_size=128, shuffle=False)"
   ]
  },
  {
   "cell_type": "code",
   "execution_count": 4,
   "metadata": {},
   "outputs": [
    {
     "data": {
      "text/plain": [
       "device(type='cuda')"
      ]
     },
     "execution_count": 4,
     "metadata": {},
     "output_type": "execute_result"
    }
   ],
   "source": [
    "device = torch.device('cuda' if torch.cuda.is_available() else 'cpu')\n",
    "device"
   ]
  },
  {
   "cell_type": "code",
   "execution_count": 5,
   "metadata": {},
   "outputs": [
    {
     "data": {
      "text/plain": [
       "tensor([[[1., 1., 0., 0., 0., 0., 0., 0., 0., 1.],\n",
       "         [1., 1., 1., 0., 0., 0., 0., 0., 0., 0.],\n",
       "         [0., 1., 1., 1., 0., 0., 0., 0., 0., 0.],\n",
       "         [0., 0., 1., 1., 1., 0., 0., 0., 0., 0.],\n",
       "         [0., 0., 0., 1., 1., 1., 0., 0., 0., 0.],\n",
       "         [0., 0., 0., 0., 1., 1., 1., 0., 0., 0.],\n",
       "         [0., 0., 0., 0., 0., 1., 1., 1., 0., 0.],\n",
       "         [0., 0., 0., 0., 0., 0., 1., 1., 1., 0.],\n",
       "         [0., 0., 0., 0., 0., 0., 0., 1., 1., 1.],\n",
       "         [1., 0., 0., 0., 0., 0., 0., 0., 1., 1.]]], device='cuda:0')"
      ]
     },
     "execution_count": 5,
     "metadata": {},
     "output_type": "execute_result"
    }
   ],
   "source": [
    "adjacency = to_dense_adj(dataset.edge_index.t().contiguous())[0]\n",
    "adjacency += torch.eye(len(adjacency))\n",
    "adjacency = adjacency.unsqueeze(0).to(device)\n",
    "adjacency"
   ]
  },
  {
   "cell_type": "code",
   "execution_count": 6,
   "metadata": {},
   "outputs": [],
   "source": [
    "def add_graph_properties(x):\n",
    "    \"\"\" this needs to be optimized \"\"\"\n",
    "    inp = torch.tensor([]).to(device)\n",
    "    for each in x:\n",
    "        inp = torch.cat((inp, torch.mul(each, adjacency)))\n",
    "    return inp"
   ]
  },
  {
   "cell_type": "code",
   "execution_count": 22,
   "metadata": {},
   "outputs": [],
   "source": [
    "class MLPNN(torch.nn.Module):\n",
    "    def __init__(self, dim_in, dim_h, dim_out):\n",
    "        super().__init__()\n",
    "        self.layer1 = torch.nn.Linear(dim_in, dim_h)\n",
    "        self.layer2 = torch.nn.Linear(dim_h, dim_h)\n",
    "        self.out = torch.nn.Linear(dim_h, dim_out)\n",
    "\n",
    "    def forward(self, x):\n",
    "        h = self.layer1(x)\n",
    "        h = torch.relu(h)\n",
    "        h = self.layer2(h)\n",
    "        h = torch.relu(h)\n",
    "        h = self.out(h)\n",
    "        h = global_mean_pool(h, torch.zeros(h.size(1)).to(device).long())\n",
    "        return h\n",
    "\n",
    "    def fit(self, train_loader, epochs):\n",
    "        # criterion = torch.nn.CrossEntropyLoss()\n",
    "        criterion = torch.nn.MSELoss()\n",
    "        optimizer = torch.optim.Adam(self.parameters(), lr=0.01, weight_decay=5e-4)\n",
    "        for epoch in range(1, epochs + 1):\n",
    "            self.train()\n",
    "            total_loss = 0\n",
    "            count = 0\n",
    "            for batch in train_loader:\n",
    "                x = batch[0].to(device)\n",
    "                x = add_graph_properties(x)\n",
    "                y = batch[1].to(device)\n",
    "                y = y.unsqueeze(0).reshape(-1, 1, 1).float()\n",
    "                optimizer.zero_grad()\n",
    "                out = self(x)\n",
    "                #print(\"output\", out.shape, \"y\", y.shape)\n",
    "                loss = criterion(out, y)\n",
    "                total_loss += loss\n",
    "                count += 1\n",
    "                loss.backward()\n",
    "                optimizer.step()\n",
    "\n",
    "            print(\"Epoch:\", epoch, \"Loss:\", total_loss / count)\n"
   ]
  },
  {
   "cell_type": "code",
   "execution_count": 23,
   "metadata": {},
   "outputs": [
    {
     "name": "stdout",
     "output_type": "stream",
     "text": [
      "number of nodes 10\n",
      "MLPNN(\n",
      "  (layer1): Linear(in_features=10, out_features=32, bias=True)\n",
      "  (layer2): Linear(in_features=32, out_features=32, bias=True)\n",
      "  (out): Linear(in_features=32, out_features=1, bias=True)\n",
      ")\n",
      "Epoch: 1 Loss: tensor(2329.1191, device='cuda:0', grad_fn=<DivBackward0>)\n",
      "Epoch: 2 Loss: tensor(542.7955, device='cuda:0', grad_fn=<DivBackward0>)\n",
      "Epoch: 3 Loss: tensor(492.3096, device='cuda:0', grad_fn=<DivBackward0>)\n",
      "Epoch: 4 Loss: tensor(459.9273, device='cuda:0', grad_fn=<DivBackward0>)\n",
      "Epoch: 5 Loss: tensor(430.3346, device='cuda:0', grad_fn=<DivBackward0>)\n",
      "Epoch: 6 Loss: tensor(409.0277, device='cuda:0', grad_fn=<DivBackward0>)\n",
      "Epoch: 7 Loss: tensor(398.6284, device='cuda:0', grad_fn=<DivBackward0>)\n",
      "Epoch: 8 Loss: tensor(393.0577, device='cuda:0', grad_fn=<DivBackward0>)\n",
      "Epoch: 9 Loss: tensor(387.6041, device='cuda:0', grad_fn=<DivBackward0>)\n",
      "Epoch: 10 Loss: tensor(381.1038, device='cuda:0', grad_fn=<DivBackward0>)\n",
      "Epoch: 11 Loss: tensor(373.9460, device='cuda:0', grad_fn=<DivBackward0>)\n",
      "Epoch: 12 Loss: tensor(366.4820, device='cuda:0', grad_fn=<DivBackward0>)\n",
      "Epoch: 13 Loss: tensor(359.0680, device='cuda:0', grad_fn=<DivBackward0>)\n",
      "Epoch: 14 Loss: tensor(347.4746, device='cuda:0', grad_fn=<DivBackward0>)\n",
      "Epoch: 15 Loss: tensor(330.2831, device='cuda:0', grad_fn=<DivBackward0>)\n",
      "Epoch: 16 Loss: tensor(313.4550, device='cuda:0', grad_fn=<DivBackward0>)\n",
      "Epoch: 17 Loss: tensor(297.8419, device='cuda:0', grad_fn=<DivBackward0>)\n",
      "Epoch: 18 Loss: tensor(286.5405, device='cuda:0', grad_fn=<DivBackward0>)\n",
      "Epoch: 19 Loss: tensor(279.4670, device='cuda:0', grad_fn=<DivBackward0>)\n",
      "Epoch: 20 Loss: tensor(274.4324, device='cuda:0', grad_fn=<DivBackward0>)\n"
     ]
    }
   ],
   "source": [
    "print(\"number of nodes\", dataset.nodes)\n",
    "mlp = MLPNN(dataset.nodes, 32, 1).to(device)\n",
    "print(mlp)\n",
    "\n",
    "mlp.fit(train_loader, epochs=20)"
   ]
  },
  {
   "cell_type": "code",
   "execution_count": 26,
   "metadata": {},
   "outputs": [
    {
     "name": "stdout",
     "output_type": "stream",
     "text": [
      "Total matched 156 out of 5904 | Accuracy 2.6423 %\n"
     ]
    }
   ],
   "source": [
    "# testing\n",
    "torch.no_grad()\n",
    "torch.set_printoptions(profile=\"full\")\n",
    "\n",
    "total_matched = 0\n",
    "edge_index = dataset.edge_index.t().to(device)\n",
    "\n",
    "for batch in test_loader:\n",
    "    x = batch[0].to(device)\n",
    "    x = add_graph_properties(x)\n",
    "    y = batch[1].to(device)\n",
    "    y = y.unsqueeze(0).reshape(-1, 1, 1).float()\n",
    "    predicted = mlp(x)\n",
    "    predicted = torch.round(predicted)\n",
    "    matched = (predicted == y).sum().item()\n",
    "    total_matched += matched\n",
    "\n",
    "print(\"Total matched\", total_matched, \"out of\", len(test_set), \"| Accuracy\", round(total_matched/len(test_set) * 100, 4), \"%\")"
   ]
  },
  {
   "cell_type": "code",
   "execution_count": null,
   "metadata": {},
   "outputs": [],
   "source": []
  }
 ],
 "metadata": {
  "kernelspec": {
   "display_name": "Python 3 (ipykernel)",
   "language": "python",
   "name": "python3"
  },
  "language_info": {
   "codemirror_mode": {
    "name": "ipython",
    "version": 3
   },
   "file_extension": ".py",
   "mimetype": "text/x-python",
   "name": "python",
   "nbconvert_exporter": "python",
   "pygments_lexer": "ipython3",
   "version": "3.12.2"
  }
 },
 "nbformat": 4,
 "nbformat_minor": 4
}
