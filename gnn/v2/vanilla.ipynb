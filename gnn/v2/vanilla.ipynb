{
 "cells": [
  {
   "cell_type": "code",
   "execution_count": 1,
   "metadata": {},
   "outputs": [],
   "source": [
    "import torch\n",
    "\n",
    "from torch_geometric.utils import to_dense_adj\n",
    "from torch_geometric.nn.pool import global_mean_pool\n",
    "from torch.utils.data import DataLoader, random_split"
   ]
  },
  {
   "cell_type": "code",
   "execution_count": 2,
   "metadata": {},
   "outputs": [],
   "source": [
    "from helpers import CVFConfigDataset"
   ]
  },
  {
   "cell_type": "code",
   "execution_count": 3,
   "metadata": {},
   "outputs": [],
   "source": [
    "dataset = CVFConfigDataset(\n",
    "    \"implicit_graph_n4_config_rank_dataset.csv\",\n",
    "    \"implicit_graph_n4_edge_index.json\",\n",
    "    3,\n",
    "    one_hot_encode=False\n",
    ")\n",
    "\n",
    "train_split = 0.8\n",
    "dev_split = 0.1\n",
    "test_split = 0.1\n",
    "\n",
    "\n",
    "train_set, dev_set, test_set = random_split(dataset, [train_split, dev_split, test_split])\n",
    "\n",
    "train_loader = DataLoader(train_set, batch_size=1024, shuffle=False)\n",
    "dev_loader = DataLoader(dev_set, batch_size=1024, shuffle=False)\n",
    "test_loader = DataLoader(test_set, batch_size=128, shuffle=False)"
   ]
  },
  {
   "cell_type": "code",
   "execution_count": 4,
   "metadata": {},
   "outputs": [
    {
     "data": {
      "text/plain": [
       "device(type='cuda')"
      ]
     },
     "execution_count": 4,
     "metadata": {},
     "output_type": "execute_result"
    }
   ],
   "source": [
    "device = torch.device('cuda' if torch.cuda.is_available() else 'cpu')\n",
    "device"
   ]
  },
  {
   "cell_type": "code",
   "execution_count": 5,
   "metadata": {},
   "outputs": [
    {
     "data": {
      "text/plain": [
       "tensor([[[1., 1., 0., 1.],\n",
       "         [1., 1., 1., 0.],\n",
       "         [0., 1., 1., 1.],\n",
       "         [1., 0., 1., 1.]]], device='cuda:0')"
      ]
     },
     "execution_count": 5,
     "metadata": {},
     "output_type": "execute_result"
    }
   ],
   "source": [
    "adjacency = to_dense_adj(dataset.edge_index.t().contiguous())[0]\n",
    "adjacency += torch.eye(len(adjacency))\n",
    "adjacency = adjacency.unsqueeze(0).to(device)\n",
    "adjacency"
   ]
  },
  {
   "cell_type": "code",
   "execution_count": 6,
   "metadata": {},
   "outputs": [],
   "source": [
    "def add_graph_properties(x):\n",
    "    \"\"\" this needs to be optimized \"\"\"\n",
    "    inp = torch.tensor([]).to(device)\n",
    "    for each in x:\n",
    "        inp = torch.cat((inp, torch.mul(each, adjacency)))\n",
    "    return inp"
   ]
  },
  {
   "cell_type": "code",
   "execution_count": 7,
   "metadata": {},
   "outputs": [],
   "source": [
    "class MLPNN(torch.nn.Module):\n",
    "    def __init__(self, dim_in, dim_h, dim_out):\n",
    "        super().__init__()\n",
    "        self.layer1 = torch.nn.Linear(dim_in, dim_h)\n",
    "        self.layer2 = torch.nn.Linear(dim_h, dim_h)\n",
    "        self.out = torch.nn.Linear(dim_h, dim_out)\n",
    "\n",
    "    def forward(self, x):\n",
    "        h = self.layer1(x)\n",
    "        h = torch.relu(h)\n",
    "        h = self.layer2(h)\n",
    "        h = torch.relu(h)\n",
    "        h = self.out(h)\n",
    "        h = global_mean_pool(h, torch.zeros(h.size(1)).to(device).long())\n",
    "        return h\n",
    "\n",
    "    def fit(self, train_loader, epochs):\n",
    "        # criterion = torch.nn.CrossEntropyLoss()\n",
    "        criterion = torch.nn.MSELoss()\n",
    "        optimizer = torch.optim.Adam(self.parameters(), lr=0.01, weight_decay=5e-4)\n",
    "        for epoch in range(1, epochs + 1):\n",
    "            self.train()\n",
    "            total_loss = 0\n",
    "            count = 0\n",
    "            for batch in train_loader:\n",
    "                x = batch[0].to(device)\n",
    "                x = add_graph_properties(x)\n",
    "                y = batch[1].to(device)\n",
    "                y = y.unsqueeze(0).reshape(-1, 1, 1).float()\n",
    "                optimizer.zero_grad()\n",
    "                out = self(x)\n",
    "                #print(\"output\", out.shape, \"y\", y.shape)\n",
    "                loss = criterion(out, y)\n",
    "                total_loss += loss\n",
    "                count += 1\n",
    "                loss.backward()\n",
    "                optimizer.step()\n",
    "\n",
    "            print(\"Epoch:\", epoch, \"Loss:\", total_loss / count)\n"
   ]
  },
  {
   "cell_type": "code",
   "execution_count": 8,
   "metadata": {},
   "outputs": [
    {
     "name": "stdout",
     "output_type": "stream",
     "text": [
      "number of nodes 4\n",
      "MLPNN(\n",
      "  (layer1): Linear(in_features=4, out_features=32, bias=True)\n",
      "  (layer2): Linear(in_features=32, out_features=32, bias=True)\n",
      "  (out): Linear(in_features=32, out_features=1, bias=True)\n",
      ")\n",
      "Epoch: 1 Loss: tensor(9.8641, device='cuda:0', grad_fn=<DivBackward0>)\n",
      "Epoch: 2 Loss: tensor(9.3284, device='cuda:0', grad_fn=<DivBackward0>)\n",
      "Epoch: 3 Loss: tensor(8.7829, device='cuda:0', grad_fn=<DivBackward0>)\n",
      "Epoch: 4 Loss: tensor(8.1902, device='cuda:0', grad_fn=<DivBackward0>)\n",
      "Epoch: 5 Loss: tensor(7.5509, device='cuda:0', grad_fn=<DivBackward0>)\n",
      "Epoch: 6 Loss: tensor(6.8856, device='cuda:0', grad_fn=<DivBackward0>)\n",
      "Epoch: 7 Loss: tensor(6.2296, device='cuda:0', grad_fn=<DivBackward0>)\n",
      "Epoch: 8 Loss: tensor(5.6565, device='cuda:0', grad_fn=<DivBackward0>)\n",
      "Epoch: 9 Loss: tensor(5.2821, device='cuda:0', grad_fn=<DivBackward0>)\n",
      "Epoch: 10 Loss: tensor(5.2418, device='cuda:0', grad_fn=<DivBackward0>)\n",
      "Epoch: 11 Loss: tensor(5.5145, device='cuda:0', grad_fn=<DivBackward0>)\n",
      "Epoch: 12 Loss: tensor(5.7784, device='cuda:0', grad_fn=<DivBackward0>)\n",
      "Epoch: 13 Loss: tensor(5.7957, device='cuda:0', grad_fn=<DivBackward0>)\n",
      "Epoch: 14 Loss: tensor(5.6115, device='cuda:0', grad_fn=<DivBackward0>)\n",
      "Epoch: 15 Loss: tensor(5.3611, device='cuda:0', grad_fn=<DivBackward0>)\n",
      "Epoch: 16 Loss: tensor(5.1536, device='cuda:0', grad_fn=<DivBackward0>)\n",
      "Epoch: 17 Loss: tensor(5.0357, device='cuda:0', grad_fn=<DivBackward0>)\n",
      "Epoch: 18 Loss: tensor(5.0001, device='cuda:0', grad_fn=<DivBackward0>)\n",
      "Epoch: 19 Loss: tensor(5.0172, device='cuda:0', grad_fn=<DivBackward0>)\n",
      "Epoch: 20 Loss: tensor(5.0523, device='cuda:0', grad_fn=<DivBackward0>)\n"
     ]
    }
   ],
   "source": [
    "print(\"number of nodes\", dataset.nodes)\n",
    "mlp = MLPNN(dataset.nodes, 32, 1).to(device)\n",
    "print(mlp)\n",
    "\n",
    "mlp.fit(train_loader, epochs=20)"
   ]
  },
  {
   "cell_type": "code",
   "execution_count": 9,
   "metadata": {},
   "outputs": [
    {
     "name": "stdout",
     "output_type": "stream",
     "text": [
      "Total matched 1 out of 8 | Accuracy 12.5 %\n"
     ]
    }
   ],
   "source": [
    "# testing\n",
    "torch.no_grad()\n",
    "torch.set_printoptions(profile=\"full\")\n",
    "\n",
    "total_matched = 0\n",
    "edge_index = dataset.edge_index.t().to(device)\n",
    "\n",
    "for batch in test_loader:\n",
    "    x = batch[0].to(device)\n",
    "    x = add_graph_properties(x)\n",
    "    y = batch[1].to(device)\n",
    "    y = y.unsqueeze(0).reshape(-1, 1, 1).float()\n",
    "    predicted = mlp(x)\n",
    "    predicted = torch.round(predicted)\n",
    "    matched = (predicted == y).sum().item()\n",
    "    total_matched += matched\n",
    "\n",
    "print(\"Total matched\", total_matched, \"out of\", len(test_set), \"| Accuracy\", round(total_matched/len(test_set) * 100, 4), \"%\")"
   ]
  },
  {
   "cell_type": "code",
   "execution_count": null,
   "metadata": {},
   "outputs": [],
   "source": []
  }
 ],
 "metadata": {
  "kernelspec": {
   "display_name": "cvf",
   "language": "python",
   "name": "python3"
  },
  "language_info": {
   "codemirror_mode": {
    "name": "ipython",
    "version": 3
   },
   "file_extension": ".py",
   "mimetype": "text/x-python",
   "name": "python",
   "nbconvert_exporter": "python",
   "pygments_lexer": "ipython3",
   "version": "3.12.2"
  }
 },
 "nbformat": 4,
 "nbformat_minor": 4
}
