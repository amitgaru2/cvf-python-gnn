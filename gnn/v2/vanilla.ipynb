{
 "cells": [
  {
   "cell_type": "code",
   "execution_count": 1,
   "metadata": {},
   "outputs": [],
   "source": [
    "import torch\n",
    "\n",
    "from torch_geometric.utils import to_dense_adj\n",
    "from torch.utils.data import DataLoader, random_split\n",
    "from torch_geometric.nn.pool import global_mean_pool, global_max_pool"
   ]
  },
  {
   "cell_type": "code",
   "execution_count": 2,
   "metadata": {},
   "outputs": [],
   "source": [
    "from helpers import CVFConfigDataset"
   ]
  },
  {
   "cell_type": "code",
   "execution_count": null,
   "metadata": {},
   "outputs": [
    {
     "ename": "ValueError",
     "evalue": "Sum of input lengths does not equal the length of the input dataset!",
     "output_type": "error",
     "traceback": [
      "\u001b[0;31m---------------------------------------------------------------------------\u001b[0m",
      "\u001b[0;31mValueError\u001b[0m                                Traceback (most recent call last)",
      "Cell \u001b[0;32mIn[3], line 14\u001b[0m\n\u001b[1;32m     10\u001b[0m dev_split \u001b[38;5;241m=\u001b[39m \u001b[38;5;241m0.1\u001b[39m\n\u001b[1;32m     11\u001b[0m test_split \u001b[38;5;241m=\u001b[39m \u001b[38;5;241m0.1\u001b[39m\n\u001b[0;32m---> 14\u001b[0m train_set, dev_set, test_set \u001b[38;5;241m=\u001b[39m \u001b[43mrandom_split\u001b[49m\u001b[43m(\u001b[49m\n\u001b[1;32m     15\u001b[0m \u001b[43m    \u001b[49m\u001b[43mdataset\u001b[49m\u001b[43m,\u001b[49m\u001b[43m \u001b[49m\u001b[43m[\u001b[49m\u001b[43mtrain_split\u001b[49m\u001b[43m,\u001b[49m\u001b[43m \u001b[49m\u001b[43mdev_split\u001b[49m\u001b[43m,\u001b[49m\u001b[43m \u001b[49m\u001b[43mtest_split\u001b[49m\u001b[43m]\u001b[49m\n\u001b[1;32m     16\u001b[0m \u001b[43m)\u001b[49m\n\u001b[1;32m     18\u001b[0m train_loader \u001b[38;5;241m=\u001b[39m DataLoader(train_set, batch_size\u001b[38;5;241m=\u001b[39m\u001b[38;5;241m1024\u001b[39m, shuffle\u001b[38;5;241m=\u001b[39m\u001b[38;5;28;01mFalse\u001b[39;00m)\n\u001b[1;32m     19\u001b[0m dev_loader \u001b[38;5;241m=\u001b[39m DataLoader(dev_set, batch_size\u001b[38;5;241m=\u001b[39m\u001b[38;5;241m1024\u001b[39m, shuffle\u001b[38;5;241m=\u001b[39m\u001b[38;5;28;01mFalse\u001b[39;00m)\n",
      "File \u001b[0;32m~/anaconda3/envs/cvf/lib/python3.12/site-packages/torch/utils/data/dataset.py:480\u001b[0m, in \u001b[0;36mrandom_split\u001b[0;34m(dataset, lengths, generator)\u001b[0m\n\u001b[1;32m    478\u001b[0m \u001b[38;5;66;03m# Cannot verify that dataset is Sized\u001b[39;00m\n\u001b[1;32m    479\u001b[0m \u001b[38;5;28;01mif\u001b[39;00m \u001b[38;5;28msum\u001b[39m(lengths) \u001b[38;5;241m!=\u001b[39m \u001b[38;5;28mlen\u001b[39m(dataset):  \u001b[38;5;66;03m# type: ignore[arg-type]\u001b[39;00m\n\u001b[0;32m--> 480\u001b[0m     \u001b[38;5;28;01mraise\u001b[39;00m \u001b[38;5;167;01mValueError\u001b[39;00m(\n\u001b[1;32m    481\u001b[0m         \u001b[38;5;124m\"\u001b[39m\u001b[38;5;124mSum of input lengths does not equal the length of the input dataset!\u001b[39m\u001b[38;5;124m\"\u001b[39m\n\u001b[1;32m    482\u001b[0m     )\n\u001b[1;32m    484\u001b[0m indices \u001b[38;5;241m=\u001b[39m randperm(\u001b[38;5;28msum\u001b[39m(lengths), generator\u001b[38;5;241m=\u001b[39mgenerator)\u001b[38;5;241m.\u001b[39mtolist()  \u001b[38;5;66;03m# type: ignore[arg-type, call-overload]\u001b[39;00m\n\u001b[1;32m    485\u001b[0m lengths \u001b[38;5;241m=\u001b[39m cast(Sequence[\u001b[38;5;28mint\u001b[39m], lengths)\n",
      "\u001b[0;31mValueError\u001b[0m: Sum of input lengths does not equal the length of the input dataset!"
     ]
    }
   ],
   "source": [
    "dataset = CVFConfigDataset(\n",
    "    \"dijkstra\",\n",
    "    \"implicit_graph_n15_config_rank_dataset.csv\",\n",
    "    \"implicit_graph_n15_edge_index.json\",\n",
    "    3,\n",
    "    one_hot_encode=False,\n",
    ")\n",
    "\n",
    "train_split = 0.5\n",
    "dev_split = 0.1\n",
    "test_split = 0.4\n",
    "\n",
    "\n",
    "train_set, dev_set, test_set = random_split(\n",
    "    dataset, [train_split, dev_split, test_split]\n",
    ")\n",
    "\n",
    "train_loader = DataLoader(train_set, batch_size=1024, shuffle=False)\n",
    "dev_loader = DataLoader(dev_set, batch_size=1024, shuffle=False)\n",
    "test_loader = DataLoader(test_set, batch_size=128, shuffle=False)"
   ]
  },
  {
   "cell_type": "code",
   "execution_count": null,
   "metadata": {},
   "outputs": [
    {
     "data": {
      "text/plain": [
       "device(type='cuda')"
      ]
     },
     "execution_count": 4,
     "metadata": {},
     "output_type": "execute_result"
    }
   ],
   "source": [
    "device = torch.device('cuda' if torch.cuda.is_available() else 'cpu')\n",
    "device"
   ]
  },
  {
   "cell_type": "code",
   "execution_count": null,
   "metadata": {},
   "outputs": [
    {
     "data": {
      "text/plain": [
       "tensor([[[1., 1., 0., 0., 0., 0., 0., 0., 0., 0., 0., 0., 0., 0., 1.],\n",
       "         [1., 1., 1., 0., 0., 0., 0., 0., 0., 0., 0., 0., 0., 0., 0.],\n",
       "         [0., 1., 1., 1., 0., 0., 0., 0., 0., 0., 0., 0., 0., 0., 0.],\n",
       "         [0., 0., 1., 1., 1., 0., 0., 0., 0., 0., 0., 0., 0., 0., 0.],\n",
       "         [0., 0., 0., 1., 1., 1., 0., 0., 0., 0., 0., 0., 0., 0., 0.],\n",
       "         [0., 0., 0., 0., 1., 1., 1., 0., 0., 0., 0., 0., 0., 0., 0.],\n",
       "         [0., 0., 0., 0., 0., 1., 1., 1., 0., 0., 0., 0., 0., 0., 0.],\n",
       "         [0., 0., 0., 0., 0., 0., 1., 1., 1., 0., 0., 0., 0., 0., 0.],\n",
       "         [0., 0., 0., 0., 0., 0., 0., 1., 1., 1., 0., 0., 0., 0., 0.],\n",
       "         [0., 0., 0., 0., 0., 0., 0., 0., 1., 1., 1., 0., 0., 0., 0.],\n",
       "         [0., 0., 0., 0., 0., 0., 0., 0., 0., 1., 1., 1., 0., 0., 0.],\n",
       "         [0., 0., 0., 0., 0., 0., 0., 0., 0., 0., 1., 1., 1., 0., 0.],\n",
       "         [0., 0., 0., 0., 0., 0., 0., 0., 0., 0., 0., 1., 1., 1., 0.],\n",
       "         [0., 0., 0., 0., 0., 0., 0., 0., 0., 0., 0., 0., 1., 1., 1.],\n",
       "         [1., 0., 0., 0., 0., 0., 0., 0., 0., 0., 0., 0., 0., 1., 1.]]],\n",
       "       device='cuda:0')"
      ]
     },
     "execution_count": 5,
     "metadata": {},
     "output_type": "execute_result"
    }
   ],
   "source": [
    "adjacency = to_dense_adj(dataset.edge_index.t().contiguous())[0]\n",
    "adjacency += torch.eye(len(adjacency))\n",
    "adjacency = adjacency.unsqueeze(0).to(device)\n",
    "adjacency"
   ]
  },
  {
   "cell_type": "code",
   "execution_count": null,
   "metadata": {},
   "outputs": [],
   "source": [
    "def add_graph_properties(x):\n",
    "    \"\"\" this needs to be optimized \"\"\"\n",
    "    inp = torch.tensor([]).to(device)\n",
    "    for each in x:\n",
    "        inp = torch.cat((inp, torch.mul(each, adjacency)))\n",
    "    return inp"
   ]
  },
  {
   "cell_type": "code",
   "execution_count": null,
   "metadata": {},
   "outputs": [],
   "source": [
    "class MLPNN(torch.nn.Module):\n",
    "    def __init__(self, dim_in, dim_h, dim_out):\n",
    "        super().__init__()\n",
    "        self.layer1 = torch.nn.Linear(dim_in, dim_h)\n",
    "        self.layer2 = torch.nn.Linear(dim_h, dim_h)\n",
    "        self.out = torch.nn.Linear(dim_h, dim_out)\n",
    "\n",
    "    def forward(self, x):\n",
    "        h = self.layer1(x)\n",
    "        h = torch.relu(h)\n",
    "        h = self.layer2(h)\n",
    "        h = torch.relu(h)\n",
    "        h = self.out(h)\n",
    "        h = global_mean_pool(h, torch.zeros(h.size(1)).to(device).long())\n",
    "        return h\n",
    "\n",
    "    def fit(self, train_loader, validation_loader, epochs):\n",
    "        # criterion = torch.nn.CrossEntropyLoss()\n",
    "        criterion = torch.nn.MSELoss()\n",
    "        optimizer = torch.optim.Adam(self.parameters(), lr=0.01, weight_decay=0.01) # weight_decay is a L2 regularization parameter\n",
    "        for epoch in range(1, epochs + 1):\n",
    "            self.train()\n",
    "            total_loss = 0\n",
    "            count = 0\n",
    "            for batch in train_loader:\n",
    "                x = batch[0].to(device)\n",
    "                x = add_graph_properties(x)\n",
    "                y = batch[1].to(device)\n",
    "                y = y.unsqueeze(0).reshape(-1, 1, 1).float()\n",
    "                optimizer.zero_grad()\n",
    "                out = self(x)\n",
    "                #print(\"output\", out.shape, \"y\", y.shape)\n",
    "                loss = criterion(out, y)\n",
    "                total_loss += loss\n",
    "                count += 1\n",
    "                loss.backward()\n",
    "                optimizer.step()\n",
    "\n",
    "            print(\"Training set | Epoch:\", epoch, \"Loss:\", total_loss / count)\n",
    "            \n",
    "            self.eval()\n",
    "            with torch.no_grad():\n",
    "                total_loss = 0\n",
    "                count = 0\n",
    "                for batch in validation_loader:\n",
    "                    x = batch[0].to(device)\n",
    "                    x = add_graph_properties(x)\n",
    "                    y = batch[1].to(device)\n",
    "                    y = y.unsqueeze(0).reshape(-1, 1, 1).float()\n",
    "                    optimizer.zero_grad()\n",
    "                    out = self(x)\n",
    "                    loss = criterion(out, y)\n",
    "                    total_loss += loss\n",
    "                    count += 1\n",
    "\n",
    "            print(\"Validatn set | Epoch:\", epoch, \"Loss:\", total_loss / count)\n",
    "            print()\n"
   ]
  },
  {
   "cell_type": "code",
   "execution_count": null,
   "metadata": {},
   "outputs": [
    {
     "name": "stdout",
     "output_type": "stream",
     "text": [
      "MLPNN(\n",
      "  (layer1): Linear(in_features=15, out_features=32, bias=True)\n",
      "  (layer2): Linear(in_features=32, out_features=32, bias=True)\n",
      "  (out): Linear(in_features=32, out_features=1, bias=True)\n",
      ")\n",
      "\n",
      "Training set | Epoch: 1 Loss: tensor(1129.4298, device='cuda:0', grad_fn=<DivBackward0>)\n",
      "Validatn set | Epoch: 1 Loss: tensor(643.0706, device='cuda:0')\n",
      "\n",
      "Training set | Epoch: 2 Loss: tensor(584.5927, device='cuda:0', grad_fn=<DivBackward0>)\n",
      "Validatn set | Epoch: 2 Loss: tensor(638.3293, device='cuda:0')\n",
      "\n",
      "Training set | Epoch: 3 Loss: tensor(560.1066, device='cuda:0', grad_fn=<DivBackward0>)\n",
      "Validatn set | Epoch: 3 Loss: tensor(628.9730, device='cuda:0')\n",
      "\n",
      "Training set | Epoch: 4 Loss: tensor(554.4481, device='cuda:0', grad_fn=<DivBackward0>)\n",
      "Validatn set | Epoch: 4 Loss: tensor(627.7703, device='cuda:0')\n",
      "\n",
      "Training set | Epoch: 5 Loss: tensor(551.9089, device='cuda:0', grad_fn=<DivBackward0>)\n",
      "Validatn set | Epoch: 5 Loss: tensor(623.7113, device='cuda:0')\n",
      "\n",
      "Training set | Epoch: 6 Loss: tensor(550.5930, device='cuda:0', grad_fn=<DivBackward0>)\n",
      "Validatn set | Epoch: 6 Loss: tensor(628.8331, device='cuda:0')\n",
      "\n",
      "Training set | Epoch: 7 Loss: tensor(549.8558, device='cuda:0', grad_fn=<DivBackward0>)\n",
      "Validatn set | Epoch: 7 Loss: tensor(624.5504, device='cuda:0')\n",
      "\n",
      "Training set | Epoch: 8 Loss: tensor(549.3347, device='cuda:0', grad_fn=<DivBackward0>)\n",
      "Validatn set | Epoch: 8 Loss: tensor(625.2092, device='cuda:0')\n",
      "\n",
      "Training set | Epoch: 9 Loss: tensor(548.8427, device='cuda:0', grad_fn=<DivBackward0>)\n",
      "Validatn set | Epoch: 9 Loss: tensor(628.1769, device='cuda:0')\n",
      "\n",
      "Training set | Epoch: 10 Loss: tensor(548.3599, device='cuda:0', grad_fn=<DivBackward0>)\n",
      "Validatn set | Epoch: 10 Loss: tensor(621.8836, device='cuda:0')\n",
      "\n",
      "Training set | Epoch: 11 Loss: tensor(547.9540, device='cuda:0', grad_fn=<DivBackward0>)\n",
      "Validatn set | Epoch: 11 Loss: tensor(618.7556, device='cuda:0')\n",
      "\n",
      "Training set | Epoch: 12 Loss: tensor(547.7458, device='cuda:0', grad_fn=<DivBackward0>)\n",
      "Validatn set | Epoch: 12 Loss: tensor(620.1376, device='cuda:0')\n",
      "\n",
      "Training set | Epoch: 13 Loss: tensor(547.5510, device='cuda:0', grad_fn=<DivBackward0>)\n",
      "Validatn set | Epoch: 13 Loss: tensor(609.2310, device='cuda:0')\n",
      "\n",
      "Training set | Epoch: 14 Loss: tensor(547.3751, device='cuda:0', grad_fn=<DivBackward0>)\n",
      "Validatn set | Epoch: 14 Loss: tensor(611.8092, device='cuda:0')\n",
      "\n",
      "Training set | Epoch: 15 Loss: tensor(547.2624, device='cuda:0', grad_fn=<DivBackward0>)\n",
      "Validatn set | Epoch: 15 Loss: tensor(607.1899, device='cuda:0')\n",
      "\n",
      "Training set | Epoch: 16 Loss: tensor(547.1370, device='cuda:0', grad_fn=<DivBackward0>)\n",
      "Validatn set | Epoch: 16 Loss: tensor(602.6915, device='cuda:0')\n",
      "\n",
      "Training set | Epoch: 17 Loss: tensor(547.0438, device='cuda:0', grad_fn=<DivBackward0>)\n",
      "Validatn set | Epoch: 17 Loss: tensor(609.2640, device='cuda:0')\n",
      "\n",
      "Training set | Epoch: 18 Loss: tensor(546.8511, device='cuda:0', grad_fn=<DivBackward0>)\n",
      "Validatn set | Epoch: 18 Loss: tensor(599.4812, device='cuda:0')\n",
      "\n",
      "Training set | Epoch: 19 Loss: tensor(546.6907, device='cuda:0', grad_fn=<DivBackward0>)\n",
      "Validatn set | Epoch: 19 Loss: tensor(592.5176, device='cuda:0')\n",
      "\n",
      "Training set | Epoch: 20 Loss: tensor(546.5131, device='cuda:0', grad_fn=<DivBackward0>)\n",
      "Validatn set | Epoch: 20 Loss: tensor(579.4186, device='cuda:0')\n",
      "\n"
     ]
    }
   ],
   "source": [
    "mlp = MLPNN(dataset.nodes, 32, 1).to(device)\n",
    "print(mlp)\n",
    "print()\n",
    "\n",
    "mlp.fit(train_loader, dev_loader, epochs=20)"
   ]
  },
  {
   "cell_type": "code",
   "execution_count": null,
   "metadata": {},
   "outputs": [
    {
     "name": "stdout",
     "output_type": "stream",
     "text": [
      "Total matched 26065 out of 1434890 | Accuracy 1.8165 %\n"
     ]
    }
   ],
   "source": [
    "# testing\n",
    "torch.no_grad()\n",
    "torch.set_printoptions(profile=\"full\")\n",
    "\n",
    "total_matched = 0\n",
    "edge_index = dataset.edge_index.t().to(device)\n",
    "\n",
    "for batch in test_loader:\n",
    "    x = batch[0].to(device)\n",
    "    x = add_graph_properties(x)\n",
    "    y = batch[1].to(device)\n",
    "    y = y.unsqueeze(0).reshape(-1, 1, 1).float()\n",
    "    predicted = mlp(x)\n",
    "    predicted = torch.round(predicted)\n",
    "    matched = (predicted == y).sum().item()\n",
    "    total_matched += matched\n",
    "\n",
    "print(\"Total matched\", total_matched, \"out of\", len(test_set), \"| Accuracy\", round(total_matched/len(test_set) * 100, 4), \"%\")"
   ]
  },
  {
   "cell_type": "code",
   "execution_count": null,
   "metadata": {},
   "outputs": [],
   "source": []
  }
 ],
 "metadata": {
  "kernelspec": {
   "display_name": "cvf",
   "language": "python",
   "name": "python3"
  },
  "language_info": {
   "codemirror_mode": {
    "name": "ipython",
    "version": 3
   },
   "file_extension": ".py",
   "mimetype": "text/x-python",
   "name": "python",
   "nbconvert_exporter": "python",
   "pygments_lexer": "ipython3",
   "version": "3.12.2"
  }
 },
 "nbformat": 4,
 "nbformat_minor": 4
}
