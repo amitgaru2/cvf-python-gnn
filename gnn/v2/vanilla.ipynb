{
 "cells": [
  {
   "cell_type": "code",
   "execution_count": 1,
   "metadata": {},
   "outputs": [],
   "source": [
    "import torch\n",
    "\n",
    "from torch_geometric.utils import to_dense_adj\n",
    "from torch.utils.data import DataLoader, random_split\n",
    "from torch_geometric.nn.pool import global_mean_pool, global_max_pool"
   ]
  },
  {
   "cell_type": "code",
   "execution_count": 2,
   "metadata": {},
   "outputs": [],
   "source": [
    "from helpers import CVFConfigDataset"
   ]
  },
  {
   "cell_type": "code",
   "execution_count": 3,
   "metadata": {},
   "outputs": [],
   "source": [
    "dataset = CVFConfigDataset(\n",
    "    \"dijkstra\",\n",
    "    \"implicit_graph_n10_config_rank_dataset.csv\",\n",
    "    \"implicit_graph_n10_edge_index.json\",\n",
    "    3,\n",
    "    one_hot_encode=False,\n",
    ")\n",
    "\n",
    "train_split = 0.9\n",
    "dev_split = 0.05\n",
    "test_split = 0.05\n",
    "\n",
    "\n",
    "train_set, dev_set, test_set = random_split(\n",
    "    dataset, [train_split, dev_split, test_split]\n",
    ")\n",
    "\n",
    "train_loader = DataLoader(train_set, batch_size=1024, shuffle=False)\n",
    "dev_loader = DataLoader(dev_set, batch_size=1024, shuffle=False)\n",
    "test_loader = DataLoader(test_set, batch_size=128, shuffle=False)"
   ]
  },
  {
   "cell_type": "code",
   "execution_count": 4,
   "metadata": {},
   "outputs": [
    {
     "data": {
      "text/plain": [
       "device(type='cuda')"
      ]
     },
     "execution_count": 4,
     "metadata": {},
     "output_type": "execute_result"
    }
   ],
   "source": [
    "device = torch.device('cuda' if torch.cuda.is_available() else 'cpu')\n",
    "device"
   ]
  },
  {
   "cell_type": "code",
   "execution_count": 5,
   "metadata": {},
   "outputs": [
    {
     "data": {
      "text/plain": [
       "tensor([[[1., 1., 0., 0., 0., 0., 0., 0., 0., 1.],\n",
       "         [1., 1., 1., 0., 0., 0., 0., 0., 0., 0.],\n",
       "         [0., 1., 1., 1., 0., 0., 0., 0., 0., 0.],\n",
       "         [0., 0., 1., 1., 1., 0., 0., 0., 0., 0.],\n",
       "         [0., 0., 0., 1., 1., 1., 0., 0., 0., 0.],\n",
       "         [0., 0., 0., 0., 1., 1., 1., 0., 0., 0.],\n",
       "         [0., 0., 0., 0., 0., 1., 1., 1., 0., 0.],\n",
       "         [0., 0., 0., 0., 0., 0., 1., 1., 1., 0.],\n",
       "         [0., 0., 0., 0., 0., 0., 0., 1., 1., 1.],\n",
       "         [1., 0., 0., 0., 0., 0., 0., 0., 1., 1.]]], device='cuda:0')"
      ]
     },
     "execution_count": 5,
     "metadata": {},
     "output_type": "execute_result"
    }
   ],
   "source": [
    "adjacency = to_dense_adj(dataset.edge_index.t().contiguous())[0]\n",
    "adjacency += torch.eye(len(adjacency))\n",
    "adjacency = adjacency.unsqueeze(0).to(device)\n",
    "adjacency"
   ]
  },
  {
   "cell_type": "code",
   "execution_count": 6,
   "metadata": {},
   "outputs": [],
   "source": [
    "def add_graph_properties(x):\n",
    "    \"\"\" this needs to be optimized \"\"\"\n",
    "    inp = torch.tensor([]).to(device)\n",
    "    for each in x:\n",
    "        inp = torch.cat((inp, torch.mul(each, adjacency)))\n",
    "    return inp"
   ]
  },
  {
   "cell_type": "code",
   "execution_count": 7,
   "metadata": {},
   "outputs": [],
   "source": [
    "class MLPNN(torch.nn.Module):\n",
    "    def __init__(self, dim_in, dim_h, dim_out):\n",
    "        super().__init__()\n",
    "        self.layer1 = torch.nn.Linear(dim_in, dim_h)\n",
    "        self.layer2 = torch.nn.Linear(dim_h, dim_h)\n",
    "        self.out = torch.nn.Linear(dim_h, dim_out)\n",
    "\n",
    "    def forward(self, x):\n",
    "        h = self.layer1(x)\n",
    "        h = torch.relu(h)\n",
    "        h = self.layer2(h)\n",
    "        h = torch.relu(h)\n",
    "        h = self.out(h)\n",
    "        h = global_mean_pool(h, torch.zeros(h.size(1)).to(device).long())\n",
    "        return h\n",
    "\n",
    "    def fit(self, train_loader, validation_loader, epochs):\n",
    "        # criterion = torch.nn.CrossEntropyLoss()\n",
    "        criterion = torch.nn.MSELoss()\n",
    "        optimizer = torch.optim.Adam(self.parameters(), lr=0.01, weight_decay=0.01) # weight_decay is a L2 regularization parameter\n",
    "        for epoch in range(1, epochs + 1):\n",
    "            self.train()\n",
    "            total_loss = 0\n",
    "            count = 0\n",
    "            for batch in train_loader:\n",
    "                x = batch[0].to(device)\n",
    "                x = add_graph_properties(x)\n",
    "                y = batch[1].to(device)\n",
    "                y = y.unsqueeze(0).reshape(-1, 1, 1).float()\n",
    "                optimizer.zero_grad()\n",
    "                out = self(x)\n",
    "                #print(\"output\", out.shape, \"y\", y.shape)\n",
    "                loss = criterion(out, y)\n",
    "                total_loss += loss\n",
    "                count += 1\n",
    "                loss.backward()\n",
    "                optimizer.step()\n",
    "\n",
    "            print(\"Training set | Epoch:\", epoch, \"Loss:\", total_loss / count)\n",
    "            \n",
    "            self.eval()\n",
    "            with torch.no_grad():\n",
    "                total_loss = 0\n",
    "                count = 0\n",
    "                for batch in validation_loader:\n",
    "                    x = batch[0].to(device)\n",
    "                    x = add_graph_properties(x)\n",
    "                    y = batch[1].to(device)\n",
    "                    y = y.unsqueeze(0).reshape(-1, 1, 1).float()\n",
    "                    optimizer.zero_grad()\n",
    "                    out = self(x)\n",
    "                    loss = criterion(out, y)\n",
    "                    total_loss += loss\n",
    "                    count += 1\n",
    "\n",
    "            print(\"Validatn set | Epoch:\", epoch, \"Loss:\", total_loss / count)\n",
    "            print()\n"
   ]
  },
  {
   "cell_type": "code",
   "execution_count": 8,
   "metadata": {},
   "outputs": [
    {
     "name": "stdout",
     "output_type": "stream",
     "text": [
      "MLPNN(\n",
      "  (layer1): Linear(in_features=10, out_features=5, bias=True)\n",
      "  (layer2): Linear(in_features=5, out_features=5, bias=True)\n",
      "  (out): Linear(in_features=5, out_features=1, bias=True)\n",
      ")\n",
      "\n",
      "Training set | Epoch: 1 Loss: tensor(6833.7300, device='cuda:0', grad_fn=<DivBackward0>)\n",
      "Validatn set | Epoch: 1 Loss: tensor(5847.0840, device='cuda:0')\n",
      "\n",
      "Training set | Epoch: 2 Loss: tensor(3266.5850, device='cuda:0', grad_fn=<DivBackward0>)\n",
      "Validatn set | Epoch: 2 Loss: tensor(890.1799, device='cuda:0')\n",
      "\n",
      "Training set | Epoch: 3 Loss: tensor(860.8078, device='cuda:0', grad_fn=<DivBackward0>)\n",
      "Validatn set | Epoch: 3 Loss: tensor(850.4520, device='cuda:0')\n",
      "\n",
      "Training set | Epoch: 4 Loss: tensor(838.4120, device='cuda:0', grad_fn=<DivBackward0>)\n",
      "Validatn set | Epoch: 4 Loss: tensor(838.5938, device='cuda:0')\n",
      "\n",
      "Training set | Epoch: 5 Loss: tensor(825.4377, device='cuda:0', grad_fn=<DivBackward0>)\n",
      "Validatn set | Epoch: 5 Loss: tensor(824.8354, device='cuda:0')\n",
      "\n",
      "Training set | Epoch: 6 Loss: tensor(811.6465, device='cuda:0', grad_fn=<DivBackward0>)\n",
      "Validatn set | Epoch: 6 Loss: tensor(810.1601, device='cuda:0')\n",
      "\n",
      "Training set | Epoch: 7 Loss: tensor(797.1639, device='cuda:0', grad_fn=<DivBackward0>)\n",
      "Validatn set | Epoch: 7 Loss: tensor(794.7878, device='cuda:0')\n",
      "\n",
      "Training set | Epoch: 8 Loss: tensor(782.1407, device='cuda:0', grad_fn=<DivBackward0>)\n",
      "Validatn set | Epoch: 8 Loss: tensor(778.8260, device='cuda:0')\n",
      "\n",
      "Training set | Epoch: 9 Loss: tensor(766.6857, device='cuda:0', grad_fn=<DivBackward0>)\n",
      "Validatn set | Epoch: 9 Loss: tensor(762.3681, device='cuda:0')\n",
      "\n",
      "Training set | Epoch: 10 Loss: tensor(750.9067, device='cuda:0', grad_fn=<DivBackward0>)\n",
      "Validatn set | Epoch: 10 Loss: tensor(745.5282, device='cuda:0')\n",
      "\n",
      "Training set | Epoch: 11 Loss: tensor(734.9477, device='cuda:0', grad_fn=<DivBackward0>)\n",
      "Validatn set | Epoch: 11 Loss: tensor(728.4791, device='cuda:0')\n",
      "\n",
      "Training set | Epoch: 12 Loss: tensor(719.0276, device='cuda:0', grad_fn=<DivBackward0>)\n",
      "Validatn set | Epoch: 12 Loss: tensor(711.4965, device='cuda:0')\n",
      "\n",
      "Training set | Epoch: 13 Loss: tensor(703.4834, device='cuda:0', grad_fn=<DivBackward0>)\n",
      "Validatn set | Epoch: 13 Loss: tensor(694.9997, device='cuda:0')\n",
      "\n",
      "Training set | Epoch: 14 Loss: tensor(688.7946, device='cuda:0', grad_fn=<DivBackward0>)\n",
      "Validatn set | Epoch: 14 Loss: tensor(679.5664, device='cuda:0')\n",
      "\n",
      "Training set | Epoch: 15 Loss: tensor(675.5610, device='cuda:0', grad_fn=<DivBackward0>)\n",
      "Validatn set | Epoch: 15 Loss: tensor(665.8786, device='cuda:0')\n",
      "\n",
      "Training set | Epoch: 16 Loss: tensor(664.3989, device='cuda:0', grad_fn=<DivBackward0>)\n",
      "Validatn set | Epoch: 16 Loss: tensor(654.5686, device='cuda:0')\n",
      "\n",
      "Training set | Epoch: 17 Loss: tensor(655.7528, device='cuda:0', grad_fn=<DivBackward0>)\n",
      "Validatn set | Epoch: 17 Loss: tensor(646.0009, device='cuda:0')\n",
      "\n",
      "Training set | Epoch: 18 Loss: tensor(649.7092, device='cuda:0', grad_fn=<DivBackward0>)\n",
      "Validatn set | Epoch: 18 Loss: tensor(640.1115, device='cuda:0')\n",
      "\n",
      "Training set | Epoch: 19 Loss: tensor(645.9644, device='cuda:0', grad_fn=<DivBackward0>)\n",
      "Validatn set | Epoch: 19 Loss: tensor(636.5947, device='cuda:0')\n",
      "\n",
      "Training set | Epoch: 20 Loss: tensor(643.9764, device='cuda:0', grad_fn=<DivBackward0>)\n",
      "Validatn set | Epoch: 20 Loss: tensor(634.6682, device='cuda:0')\n",
      "\n"
     ]
    }
   ],
   "source": [
    "mlp = MLPNN(dataset.nodes, 5, 1).to(device)\n",
    "print(mlp)\n",
    "print()\n",
    "\n",
    "mlp.fit(train_loader, dev_loader, epochs=20)"
   ]
  },
  {
   "cell_type": "code",
   "execution_count": 10,
   "metadata": {},
   "outputs": [
    {
     "name": "stdout",
     "output_type": "stream",
     "text": [
      "Total matched 52 out of 2952 | Accuracy 1.7615 %\n"
     ]
    }
   ],
   "source": [
    "# testing\n",
    "torch.no_grad()\n",
    "torch.set_printoptions(profile=\"full\")\n",
    "\n",
    "total_matched = 0\n",
    "edge_index = dataset.edge_index.t().to(device)\n",
    "\n",
    "for batch in test_loader:\n",
    "    x = batch[0].to(device)\n",
    "    x = add_graph_properties(x)\n",
    "    y = batch[1].to(device)\n",
    "    y = y.unsqueeze(0).reshape(-1, 1, 1).float()\n",
    "    predicted = mlp(x)\n",
    "    predicted = torch.round(predicted)\n",
    "    matched = (predicted == y).sum().item()\n",
    "    total_matched += matched\n",
    "\n",
    "print(\"Total matched\", total_matched, \"out of\", len(test_set), \"| Accuracy\", round(total_matched/len(test_set) * 100, 4), \"%\")"
   ]
  },
  {
   "cell_type": "code",
   "execution_count": null,
   "metadata": {},
   "outputs": [],
   "source": []
  }
 ],
 "metadata": {
  "kernelspec": {
   "display_name": "cvf",
   "language": "python",
   "name": "python3"
  },
  "language_info": {
   "codemirror_mode": {
    "name": "ipython",
    "version": 3
   },
   "file_extension": ".py",
   "mimetype": "text/x-python",
   "name": "python",
   "nbconvert_exporter": "python",
   "pygments_lexer": "ipython3",
   "version": "3.12.2"
  }
 },
 "nbformat": 4,
 "nbformat_minor": 4
}
