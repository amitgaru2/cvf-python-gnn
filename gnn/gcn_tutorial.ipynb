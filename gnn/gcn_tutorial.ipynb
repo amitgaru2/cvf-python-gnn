{
 "cells": [
  {
   "cell_type": "code",
   "execution_count": 24,
   "metadata": {},
   "outputs": [
    {
     "name": "stdout",
     "output_type": "stream",
     "text": [
      "x tensor([[-0.1465, -0.9780, -2.8116],\n",
      "        [ 0.1228,  0.1939, -0.0956],\n",
      "        [ 0.3617, -0.5095,  0.3217],\n",
      "        [ 1.3254, -1.3671, -1.1790],\n",
      "        [ 0.9168,  0.5780,  1.2766],\n",
      "        [-1.5287,  0.0472,  1.5858],\n",
      "        [ 3.1925,  0.7993,  1.4695],\n",
      "        [ 0.8042,  0.6177,  0.2976],\n",
      "        [-1.9292, -1.1040, -0.8293],\n",
      "        [-0.7804,  0.8986, -0.1994]])\n",
      "edge_index tensor([[9, 4, 6, 1, 8, 2, 4, 6, 2, 6, 9, 1, 4, 1, 3, 2, 6, 2, 8, 0],\n",
      "        [5, 7, 7, 8, 8, 7, 5, 1, 5, 0, 1, 7, 9, 0, 5, 5, 0, 1, 9, 8]])\n",
      "tensor([[ 1.4177, -2.6116],\n",
      "        [ 0.8017, -1.1688],\n",
      "        [ 0.3005,  0.0170],\n",
      "        [-0.4229, -0.3491],\n",
      "        [ 0.8034, -0.5861],\n",
      "        [ 0.4621, -0.3873],\n",
      "        [ 1.0978, -1.9015],\n",
      "        [ 1.3052, -1.5648],\n",
      "        [ 0.1160, -0.7606],\n",
      "        [ 0.1617, -0.2658]], grad_fn=<AddBackward0>)\n"
     ]
    }
   ],
   "source": [
    "import torch\n",
    "import torch.nn as nn\n",
    "import torch_geometric\n",
    "from torch_geometric.nn import GCNConv\n",
    "\n",
    "# Define the GCN layer and the network model\n",
    "class GCN(nn.Module):\n",
    "    def __init__(self, in_channels, out_channels):\n",
    "        super(GCN, self).__init__()\n",
    "        \n",
    "        # Define two GCN layers\n",
    "        self.conv1 = GCNConv(in_channels, 16)  # 16 is the number of hidden features\n",
    "        self.conv2 = GCNConv(16, out_channels) # Output layer\n",
    "\n",
    "    def forward(self, x, edge_index):\n",
    "        # x is the node feature matrix of shape [num_nodes, num_features]\n",
    "        # edge_index is the graph connectivity in COO format (2 x num_edges)\n",
    "\n",
    "        # Apply first graph convolution layer + ReLU activation\n",
    "        x = self.conv1(x, edge_index)\n",
    "        x = torch.relu(x)\n",
    "        \n",
    "        # Apply second graph convolution layer\n",
    "        x = self.conv2(x, edge_index)\n",
    "        \n",
    "        return x\n",
    "\n",
    "# Example usage\n",
    "num_nodes = 10\n",
    "num_features = 3  # Example feature size (e.g., node features are 3-dimensional)\n",
    "num_classes = 2   # Number of classes for classification task\n",
    "\n",
    "# Create random node features and a random graph structure\n",
    "x = torch.randn((num_nodes, num_features))  # Random features for 10 nodes\n",
    "print(\"x\", x)\n",
    "edge_index = torch.randint(0, num_nodes, (2, 20))  # Random edges for the graph (20 edges)\n",
    "\n",
    "print(\"edge_index\", edge_index)\n",
    "\n",
    "# Create the GCN model\n",
    "model = GCN(in_channels=num_features, out_channels=num_classes)\n",
    "\n",
    "# Forward pass through the model\n",
    "out = model(x, edge_index)\n",
    "\n",
    "# Print the output (logits for node classification)\n",
    "print(out)\n"
   ]
  },
  {
   "cell_type": "code",
   "execution_count": 4,
   "metadata": {},
   "outputs": [
    {
     "name": "stdout",
     "output_type": "stream",
     "text": [
      "tensor([1, 0, 1, 1, 0, 1, 0, 0, 0, 0])\n"
     ]
    }
   ],
   "source": [
    "import torch.optim as optim\n",
    "\n",
    "# Assume we have labels for the nodes for classification (e.g., binary classification)\n",
    "labels = torch.randint(0, num_classes, (num_nodes,))  # Random labels for example\n",
    "print(labels)\n",
    "\n",
    "# Create an optimizer\n",
    "optimizer = optim.Adam(model.parameters(), lr=0.01)"
   ]
  },
  {
   "cell_type": "code",
   "execution_count": 22,
   "metadata": {},
   "outputs": [
    {
     "name": "stdout",
     "output_type": "stream",
     "text": [
      "Training loss: 0.23366816341876984\n",
      "Training loss: 0.23132281005382538\n",
      "Training loss: 0.2289263755083084\n",
      "Training loss: 0.22651085257530212\n",
      "Training loss: 0.22406795620918274\n",
      "Training loss: 0.22155213356018066\n",
      "Training loss: 0.21897420287132263\n",
      "Training loss: 0.2167687863111496\n",
      "Training loss: 0.21493549644947052\n",
      "Training loss: 0.2131083458662033\n"
     ]
    }
   ],
   "source": [
    "model.train()\n",
    "for i in range(10):\n",
    "    # Training loop (just one step for simplicity)\n",
    "    optimizer.zero_grad()\n",
    "    out = model(x, edge_index)\n",
    "    loss = torch.nn.functional.cross_entropy(out, labels)\n",
    "    loss.backward()\n",
    "    optimizer.step()\n",
    "\n",
    "    print(f\"Training loss: {loss.item()}\")"
   ]
  },
  {
   "cell_type": "code",
   "execution_count": null,
   "metadata": {},
   "outputs": [],
   "source": []
  }
 ],
 "metadata": {
  "kernelspec": {
   "display_name": "cvf",
   "language": "python",
   "name": "python3"
  },
  "language_info": {
   "codemirror_mode": {
    "name": "ipython",
    "version": 3
   },
   "file_extension": ".py",
   "mimetype": "text/x-python",
   "name": "python",
   "nbconvert_exporter": "python",
   "pygments_lexer": "ipython3",
   "version": "3.12.2"
  }
 },
 "nbformat": 4,
 "nbformat_minor": 2
}
