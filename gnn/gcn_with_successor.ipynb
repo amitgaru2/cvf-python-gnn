{
 "cells": [
  {
   "cell_type": "code",
   "execution_count": 1,
   "metadata": {},
   "outputs": [],
   "source": [
    "import torch\n",
    "\n",
    "from torch_geometric.nn import GCNConv\n",
    "from torch_geometric.nn.pool import global_mean_pool\n",
    "from torch.utils.data import ConcatDataset, Sampler, DataLoader, random_split"
   ]
  },
  {
   "cell_type": "code",
   "execution_count": 2,
   "metadata": {},
   "outputs": [],
   "source": [
    "from helpers import CVFConfigForGCNWSuccDataset, CVFConfigForGCNWSuccP1Dataset, CVFConfigForGCNWSuccConvDataset, CVFConfigForGCNWSuccODataset, CVFConfigForGCNWSuccFDataset"
   ]
  },
  {
   "cell_type": "code",
   "execution_count": 3,
   "metadata": {},
   "outputs": [
    {
     "data": {
      "text/plain": [
       "device(type='cuda')"
      ]
     },
     "execution_count": 3,
     "metadata": {},
     "output_type": "execute_result"
    }
   ],
   "source": [
    "device = torch.device('cuda' if torch.cuda.is_available() else 'cpu')\n",
    "device"
   ]
  },
  {
   "cell_type": "code",
   "execution_count": 4,
   "metadata": {},
   "outputs": [],
   "source": [
    "dataset_s_n7 = CVFConfigForGCNWSuccDataset(\n",
    "    device,\n",
    "    \"star_graph_n7_config_rank_dataset.csv\",\n",
    "    \"star_graph_n7_edge_index.json\",\n",
    ")\n",
    "\n",
    "dataset_rr_n7 = CVFConfigForGCNWSuccDataset(\n",
    "    device,\n",
    "    \"graph_random_regular_graph_n7_d4_config_rank_dataset.csv\",\n",
    "    \"graph_random_regular_graph_n7_d4_edge_index.json\",\n",
    ")\n",
    "\n",
    "dataset_plc_n7 = CVFConfigForGCNWSuccDataset(\n",
    "    device,\n",
    "    \"graph_powerlaw_cluster_graph_n7_config_rank_dataset.csv\",\n",
    "    \"graph_powerlaw_cluster_graph_n7_edge_index.json\",\n",
    ")\n",
    "\n",
    "batch_size = 64\n",
    "\n",
    "dataset_coll = [dataset_s_n7, dataset_rr_n7, dataset_plc_n7]"
   ]
  },
  {
   "cell_type": "code",
   "execution_count": 5,
   "metadata": {},
   "outputs": [],
   "source": [
    "train_sizes = [int(0.95 * len(ds)) for ds in dataset_coll]\n",
    "test_sizes = [len(ds) - trs for ds, trs in zip(dataset_coll, train_sizes)]\n",
    "\n",
    "train_test_datasets = [\n",
    "    random_split(ds, [tr_s, ts])\n",
    "    for ds, tr_s, ts in zip(dataset_coll, train_sizes, test_sizes)\n",
    "]\n",
    "\n",
    "train_datasets = [ds[0] for ds in train_test_datasets]\n",
    "test_datasets = [ds[1] for ds in train_test_datasets]"
   ]
  },
  {
   "cell_type": "code",
   "execution_count": 6,
   "metadata": {},
   "outputs": [
    {
     "name": "stdout",
     "output_type": "stream",
     "text": [
      "100293\n"
     ]
    }
   ],
   "source": [
    "datasets = ConcatDataset(train_datasets)\n",
    "print(len(datasets))"
   ]
  },
  {
   "cell_type": "code",
   "execution_count": 7,
   "metadata": {},
   "outputs": [],
   "source": [
    "class CustomBatchSampler(Sampler):\n",
    "    def __init__(self, datasets: ConcatDataset, batch_size: int):\n",
    "        self.datasets = datasets\n",
    "        self.batch_size = batch_size\n",
    "\n",
    "    @property\n",
    "    def module(self):\n",
    "        return self._module\n",
    "\n",
    "    @module.setter\n",
    "    def module(self, val):\n",
    "        self._module = val\n",
    "\n",
    "    def __iter__(self):\n",
    "        last_accessed = [0] + self.datasets.cumulative_sizes[:]\n",
    "        end_loop = [False for _ in range(len(self.datasets.datasets))]\n",
    "\n",
    "        while not all(end_loop):\n",
    "            for turn in range(len(self.datasets.datasets)):\n",
    "                if end_loop[turn]:\n",
    "                    continue\n",
    "\n",
    "                batch_size = self.batch_size\n",
    "                if (\n",
    "                    last_accessed[turn] + batch_size\n",
    "                    >= self.datasets.cumulative_sizes[turn]\n",
    "                ):\n",
    "                    batch_size = (\n",
    "                        self.datasets.cumulative_sizes[turn] - last_accessed[turn]\n",
    "                    )\n",
    "                    end_loop[turn] = True\n",
    "\n",
    "                # currently explicitly setting edge index before yielding\n",
    "                # TODO: find a better way to do it\n",
    "                self.module.edge_index = self.datasets.datasets[turn].dataset.edge_index\n",
    "\n",
    "                yield list(range(last_accessed[turn], last_accessed[turn] + batch_size))\n",
    "\n",
    "                last_accessed[turn] += batch_size"
   ]
  },
  {
   "cell_type": "code",
   "execution_count": 8,
   "metadata": {},
   "outputs": [],
   "source": [
    "batch_sampler = CustomBatchSampler(datasets, batch_size=batch_size)\n",
    "dataloader = DataLoader(datasets, batch_sampler=batch_sampler)"
   ]
  },
  {
   "cell_type": "code",
   "execution_count": 9,
   "metadata": {},
   "outputs": [],
   "source": [
    "class VanillaGNN(torch.nn.Module):\n",
    "    def __init__(self, dim_in, dim_h, dim_out):\n",
    "        super().__init__()\n",
    "        self.gcn1 = GCNConv(dim_in, dim_h)\n",
    "        self.gcn2 = GCNConv(dim_h, dim_h)\n",
    "        self.linear1 = torch.nn.Linear(dim_h, dim_h)\n",
    "        self.linear2 = torch.nn.Linear(dim_h, dim_h)\n",
    "        self.out = torch.nn.Linear(dim_h, dim_out)\n",
    "\n",
    "    @property\n",
    "    def edge_index(self):\n",
    "        return self._edge_index\n",
    "\n",
    "    @edge_index.setter\n",
    "    def edge_index(self, val):\n",
    "        self._edge_index = val\n",
    "\n",
    "    def forward(self, x):\n",
    "        h = self.gcn1(x, self.edge_index)\n",
    "        h = torch.relu(h)\n",
    "        h = self.gcn2(h, self.edge_index)\n",
    "        h = torch.relu(h)\n",
    "        # h = self.linear1(h)\n",
    "        # h = torch.relu(h)\n",
    "        # h = self.linear2(h)\n",
    "        # h = torch.relu(h)\n",
    "        h = self.out(h)\n",
    "        h = torch.relu(h)\n",
    "        h = global_mean_pool(h, torch.zeros(h.size(1)).to(device).long())\n",
    "        return h\n",
    "\n",
    "    def fit(self, epochs):\n",
    "        dataloader.batch_sampler.module = self\n",
    "        criterion = torch.nn.MSELoss()\n",
    "        optimizer = torch.optim.Adam(self.parameters(), lr=0.01, weight_decay=0.0001)\n",
    "        for epoch in range(1, epochs + 1):\n",
    "            self.train()\n",
    "            total_loss = 0\n",
    "            count = 0\n",
    "            relative_loss = 0\n",
    "            for batch in dataloader:\n",
    "                x = batch[0]\n",
    "                y = batch[1]\n",
    "                y = y.unsqueeze(-1)\n",
    "                optimizer.zero_grad()\n",
    "                out = self(x)\n",
    "                # print(out, y)\n",
    "                loss = criterion(out, y)\n",
    "                denom = torch.sum(y)\n",
    "                if denom == 0:\n",
    "                    denom = 0.00001\n",
    "                relative_loss += torch.sum(abs(out - y)) / denom\n",
    "                total_loss += loss\n",
    "                count += 1\n",
    "                loss.backward()\n",
    "                optimizer.step()\n",
    "\n",
    "            print(\n",
    "                \"Training set | Epoch\",\n",
    "                epoch,\n",
    "                \"| MSE Loss:\",\n",
    "                round((total_loss / count).item(), 4),\n",
    "                \"| Relative Loss:\",\n",
    "                round((relative_loss / count).item(), 4),\n",
    "            )"
   ]
  },
  {
   "cell_type": "code",
   "execution_count": 10,
   "metadata": {},
   "outputs": [
    {
     "name": "stdout",
     "output_type": "stream",
     "text": [
      "VanillaGNN(\n",
      "  (gcn1): GCNConv(3, 64)\n",
      "  (gcn2): GCNConv(64, 64)\n",
      "  (linear1): Linear(in_features=64, out_features=64, bias=True)\n",
      "  (linear2): Linear(in_features=64, out_features=64, bias=True)\n",
      "  (out): Linear(in_features=64, out_features=1, bias=True)\n",
      ")\n",
      "\n",
      "Total parameters: 12801\n",
      "\n",
      "Training set | Epoch 1 | MSE Loss: 0.1425 | Relative Loss: 0.1146\n",
      "Training set | Epoch 2 | MSE Loss: 0.0951 | Relative Loss: 0.0932\n",
      "Training set | Epoch 3 | MSE Loss: 0.089 | Relative Loss: 0.0865\n",
      "Training set | Epoch 4 | MSE Loss: 0.0885 | Relative Loss: 0.0853\n",
      "Training set | Epoch 5 | MSE Loss: 0.0861 | Relative Loss: 0.0832\n",
      "Training set | Epoch 6 | MSE Loss: 0.0854 | Relative Loss: 0.0828\n",
      "Training set | Epoch 7 | MSE Loss: 0.0842 | Relative Loss: 0.082\n",
      "Training set | Epoch 8 | MSE Loss: 0.084 | Relative Loss: 0.0818\n",
      "Training set | Epoch 9 | MSE Loss: 0.0828 | Relative Loss: 0.081\n",
      "Training set | Epoch 10 | MSE Loss: 0.0832 | Relative Loss: 0.0814\n"
     ]
    }
   ],
   "source": [
    "gnn = VanillaGNN(3, 64, 1).to(device)\n",
    "print(gnn)\n",
    "print()\n",
    "print(\"Total parameters:\", sum(p.numel() for p in gnn.parameters()))\n",
    "print()\n",
    "gnn.fit(epochs=10)"
   ]
  },
  {
   "cell_type": "code",
   "execution_count": 11,
   "metadata": {},
   "outputs": [
    {
     "name": "stdout",
     "output_type": "stream",
     "text": [
      "Test set | MSE loss: 0.0803 | Relative Loss: 0.0802 | Total matched 4701 out of 5280 (Accuracy: 89.03%)\n"
     ]
    }
   ],
   "source": [
    "# testing\n",
    "import csv\n",
    "\n",
    "# torch.set_printoptions(profile=\"full\")\n",
    "\n",
    "f = open(\"test_result_w_succ.csv\", \"w\", newline=\"\")\n",
    "csv_writer = csv.writer(f)\n",
    "csv_writer.writerow([\"Actual\", \"Predicted\"])\n",
    "\n",
    "criterion = torch.nn.MSELoss()\n",
    "\n",
    "gnn.eval()\n",
    "\n",
    "with torch.no_grad():\n",
    "    total_loss = 0\n",
    "    relative_loss = 0\n",
    "    total_matched = 0\n",
    "    test_concat_datasets = ConcatDataset(test_datasets)\n",
    "    batch_sampler = CustomBatchSampler(test_concat_datasets, batch_size=batch_size)\n",
    "    test_dataloader = DataLoader(test_concat_datasets, batch_sampler=batch_sampler)\n",
    "    test_dataloader.batch_sampler.module = gnn\n",
    "\n",
    "    # for i, dataset in enumerate(test_datasets):\n",
    "    # test_dataloader = DataLoader(dataset, batch_size=len(dataset.dataset))\n",
    "    total_loss = 0\n",
    "    relative_loss = 0\n",
    "    total_matched = 0\n",
    "    count = 0\n",
    "    for batch in test_dataloader:\n",
    "        x = batch[0]\n",
    "        y = batch[1]\n",
    "        y = y.unsqueeze(-1)\n",
    "        # print(\"x\", x)\n",
    "        out = gnn(x)\n",
    "        csv_writer.writerows(\n",
    "            zip(y.detach().cpu().numpy(), out.detach().cpu().numpy())\n",
    "        )\n",
    "        loss = criterion(out, y)\n",
    "        # print(\"Loss: \", loss)\n",
    "        total_loss += loss\n",
    "        denom = torch.sum(y)\n",
    "        if denom == 0:\n",
    "            denom = 0.00001\n",
    "        relative_loss += torch.sum(abs(out - y)) / denom\n",
    "        out = torch.round(out)\n",
    "        matched = (out == y).sum().item()\n",
    "        total_matched += matched\n",
    "        count += 1\n",
    "\n",
    "    print(\n",
    "        \"Test set | MSE loss:\",\n",
    "        round((total_loss / count).item(), 4),\n",
    "        \"| Relative Loss:\",\n",
    "        round((relative_loss / count).item(), 4),\n",
    "        \"| Total matched\",\n",
    "        total_matched,\n",
    "        \"out of\",\n",
    "        len(test_concat_datasets),\n",
    "        f\"(Accuracy: {round(total_matched/len(test_concat_datasets) * 100, 2)}%)\",\n",
    "    )\n",
    "\n",
    "f.close()"
   ]
  },
  {
   "cell_type": "code",
   "execution_count": null,
   "metadata": {},
   "outputs": [],
   "source": []
  }
 ],
 "metadata": {
  "kernelspec": {
   "display_name": "cvf",
   "language": "python",
   "name": "python3"
  },
  "language_info": {
   "codemirror_mode": {
    "name": "ipython",
    "version": 3
   },
   "file_extension": ".py",
   "mimetype": "text/x-python",
   "name": "python",
   "nbconvert_exporter": "python",
   "pygments_lexer": "ipython3",
   "version": "3.12.2"
  }
 },
 "nbformat": 4,
 "nbformat_minor": 2
}
