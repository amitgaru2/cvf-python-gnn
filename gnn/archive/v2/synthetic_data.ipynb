{
 "cells": [
  {
   "cell_type": "code",
   "execution_count": 1,
   "metadata": {},
   "outputs": [],
   "source": [
    "import torch"
   ]
  },
  {
   "cell_type": "code",
   "execution_count": 2,
   "metadata": {},
   "outputs": [
    {
     "data": {
      "text/plain": [
       "device(type='cuda')"
      ]
     },
     "execution_count": 2,
     "metadata": {},
     "output_type": "execute_result"
    }
   ],
   "source": [
    "device = torch.device('cuda' if torch.cuda.is_available() else 'cpu')\n",
    "device"
   ]
  },
  {
   "cell_type": "code",
   "execution_count": 3,
   "metadata": {},
   "outputs": [],
   "source": [
    "# torch.manual_seed(20)"
   ]
  },
  {
   "cell_type": "code",
   "execution_count": 4,
   "metadata": {},
   "outputs": [],
   "source": [
    "total_datasize = 100\n",
    "no_features = 5  # D\n",
    "no_nodes = 5  # N"
   ]
  },
  {
   "cell_type": "code",
   "execution_count": 5,
   "metadata": {},
   "outputs": [
    {
     "data": {
      "text/plain": [
       "(tensor([[0.0214, 0.5472, 0.3140, 0.4226, 0.3031],\n",
       "         [0.3333, 0.5526, 0.6201, 0.1839, 0.1869],\n",
       "         [0.4734, 0.1056, 0.6813, 0.4370, 0.5189],\n",
       "         [0.4500, 0.1110, 0.5775, 0.5011, 0.0313],\n",
       "         [0.7290, 0.2318, 0.6294, 0.7022, 0.2748]], device='cuda:0'),\n",
       " tensor([[0.4534, 0.2896, 0.9719, 0.3237, 0.2555],\n",
       "         [0.0829, 0.5529, 0.3727, 0.5538, 0.7635],\n",
       "         [0.4027, 0.4069, 0.0454, 0.1118, 0.2520],\n",
       "         [0.2942, 0.5164, 0.7522, 0.1027, 0.3320],\n",
       "         [0.8208, 0.5662, 0.0524, 0.9933, 0.0943]], device='cuda:0'))"
      ]
     },
     "execution_count": 5,
     "metadata": {},
     "output_type": "execute_result"
    }
   ],
   "source": [
    "syn_data = torch.rand(total_datasize, no_features, no_nodes).to(device)\n",
    "syn_data[0], syn_data[1]"
   ]
  },
  {
   "cell_type": "code",
   "execution_count": 6,
   "metadata": {},
   "outputs": [
    {
     "data": {
      "text/plain": [
       "(tensor([[0.0000, 0.5472, 0.3140, 0.4226, 0.0000, 0.0000, 0.5526, 0.6201, 0.0000,\n",
       "          0.0000, 0.4734, 0.0000, 0.0000, 0.4370, 0.5189, 0.4500, 0.0000, 0.0000,\n",
       "          0.5011, 0.0000, 0.0000, 0.0000, 0.0000, 0.7022, 0.0000]],\n",
       "        device='cuda:0'),\n",
       " tensor([[0.0000, 0.2896, 0.0000, 0.3237, 0.2555, 0.0829, 0.5529, 0.0000, 0.0000,\n",
       "          0.0000, 0.0000, 0.0000, 0.0000, 0.0000, 0.0000, 0.0000, 0.5164, 0.7522,\n",
       "          0.1027, 0.3320, 0.8208, 0.0000, 0.0524, 0.0000, 0.0000]],\n",
       "        device='cuda:0'))"
      ]
     },
     "execution_count": 6,
     "metadata": {},
     "output_type": "execute_result"
    }
   ],
   "source": [
    "syn_data = syn_data.reshape(total_datasize, 1, no_features*no_nodes) * torch.randint(0, 2, (total_datasize, 1, no_features*no_nodes)).to(device)\n",
    "syn_data[0], syn_data[1]"
   ]
  },
  {
   "cell_type": "code",
   "execution_count": 7,
   "metadata": {},
   "outputs": [],
   "source": [
    "import csv\n",
    "\n",
    "f = open(\"synthetic_rank_data.csv\", \"w\", newline='')\n",
    "csv_writer = csv.writer(f)"
   ]
  },
  {
   "cell_type": "code",
   "execution_count": 8,
   "metadata": {},
   "outputs": [],
   "source": [
    "for i, each_data in enumerate(syn_data):\n",
    "    distance = torch.round(torch.cdist(syn_data, each_data))\n",
    "    distance_1d = distance.squeeze(-1).squeeze(-1).detach().cpu().numpy()\n",
    "    csv_writer.writerow(distance_1d)\n",
    "\n",
    "f.close()"
   ]
  },
  {
   "cell_type": "code",
   "execution_count": 9,
   "metadata": {},
   "outputs": [
    {
     "data": {
      "text/plain": [
       "tensor([1, 4, 9])"
      ]
     },
     "execution_count": 9,
     "metadata": {},
     "output_type": "execute_result"
    }
   ],
   "source": [
    "torch.tensor([1, 2, 3]) * torch.tensor([1, 2, 3])"
   ]
  },
  {
   "cell_type": "code",
   "execution_count": 16,
   "metadata": {},
   "outputs": [
    {
     "data": {
      "text/plain": [
       "tensor([[0.6156, 0.2713, 0.4532]])"
      ]
     },
     "execution_count": 16,
     "metadata": {},
     "output_type": "execute_result"
    }
   ],
   "source": [
    "syn_data = torch.rand(1, 3)\n",
    "syn_data"
   ]
  },
  {
   "cell_type": "code",
   "execution_count": 80,
   "metadata": {},
   "outputs": [],
   "source": [
    "def distance(x, y):\n",
    "    return torch.sum(y - x)"
   ]
  },
  {
   "cell_type": "code",
   "execution_count": 81,
   "metadata": {},
   "outputs": [],
   "source": [
    "def get_embedding_at_distance_1(tensor1):\n",
    "    tensor2 = torch.rand(tensor1.shape)\n",
    "    desired_distance = 1\n",
    "    initial_distance = distance(tensor1, tensor2)\n",
    "    scale_factor = desired_distance / initial_distance\n",
    "    tensor2 = tensor1 + (tensor2 - tensor1) * scale_factor\n",
    "    return tensor2"
   ]
  },
  {
   "cell_type": "code",
   "execution_count": 96,
   "metadata": {},
   "outputs": [
    {
     "data": {
      "text/plain": [
       "tensor([[0.7334, 0.7971, 0.5669, 0.8613, 0.9027]])"
      ]
     },
     "execution_count": 96,
     "metadata": {},
     "output_type": "execute_result"
    }
   ],
   "source": [
    "syn_data = torch.rand((1, 5))\n",
    "syn_data"
   ]
  },
  {
   "cell_type": "code",
   "execution_count": 97,
   "metadata": {},
   "outputs": [
    {
     "data": {
      "text/plain": [
       "tensor([[0.7752, 0.9485, 0.6441, 1.4947, 0.9987]])"
      ]
     },
     "execution_count": 97,
     "metadata": {},
     "output_type": "execute_result"
    }
   ],
   "source": [
    "syn_data2 = get_embedding_at_distance_1(syn_data)\n",
    "syn_data2"
   ]
  },
  {
   "cell_type": "code",
   "execution_count": 98,
   "metadata": {},
   "outputs": [
    {
     "data": {
      "text/plain": [
       "tensor(1.)"
      ]
     },
     "execution_count": 98,
     "metadata": {},
     "output_type": "execute_result"
    }
   ],
   "source": [
    "distance(syn_data, syn_data2)"
   ]
  },
  {
   "cell_type": "code",
   "execution_count": 99,
   "metadata": {},
   "outputs": [
    {
     "data": {
      "text/plain": [
       "tensor([[1.0613, 1.2425, 0.5389, 1.8651, 1.1536]])"
      ]
     },
     "execution_count": 99,
     "metadata": {},
     "output_type": "execute_result"
    }
   ],
   "source": [
    "syn_data3 = get_embedding_at_distance_1(syn_data2)\n",
    "syn_data3"
   ]
  },
  {
   "cell_type": "code",
   "execution_count": 100,
   "metadata": {},
   "outputs": [
    {
     "data": {
      "text/plain": [
       "tensor(1.)"
      ]
     },
     "execution_count": 100,
     "metadata": {},
     "output_type": "execute_result"
    }
   ],
   "source": [
    "distance(syn_data2, syn_data3)"
   ]
  },
  {
   "cell_type": "code",
   "execution_count": 101,
   "metadata": {},
   "outputs": [
    {
     "data": {
      "text/plain": [
       "tensor(2.)"
      ]
     },
     "execution_count": 101,
     "metadata": {},
     "output_type": "execute_result"
    }
   ],
   "source": [
    "distance(syn_data, syn_data3)"
   ]
  },
  {
   "cell_type": "code",
   "execution_count": 102,
   "metadata": {},
   "outputs": [
    {
     "data": {
      "text/plain": [
       "tensor([[1.0041, 0.6622, 0.8786, 0.8008, 1.5158]])"
      ]
     },
     "execution_count": 102,
     "metadata": {},
     "output_type": "execute_result"
    }
   ],
   "source": [
    "syn_data12 = get_embedding_at_distance_1(syn_data)\n",
    "syn_data12"
   ]
  },
  {
   "cell_type": "code",
   "execution_count": 103,
   "metadata": {},
   "outputs": [
    {
     "data": {
      "text/plain": [
       "tensor(1.0000)"
      ]
     },
     "execution_count": 103,
     "metadata": {},
     "output_type": "execute_result"
    }
   ],
   "source": [
    "distance(syn_data12, syn_data3)"
   ]
  },
  {
   "cell_type": "code",
   "execution_count": null,
   "metadata": {},
   "outputs": [],
   "source": []
  }
 ],
 "metadata": {
  "kernelspec": {
   "display_name": "cvf",
   "language": "python",
   "name": "python3"
  },
  "language_info": {
   "codemirror_mode": {
    "name": "ipython",
    "version": 3
   },
   "file_extension": ".py",
   "mimetype": "text/x-python",
   "name": "python",
   "nbconvert_exporter": "python",
   "pygments_lexer": "ipython3",
   "version": "3.12.2"
  }
 },
 "nbformat": 4,
 "nbformat_minor": 2
}
