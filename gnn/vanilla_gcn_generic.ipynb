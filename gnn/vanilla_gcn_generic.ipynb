{
 "cells": [
  {
   "cell_type": "code",
   "execution_count": 1,
   "metadata": {},
   "outputs": [],
   "source": [
    "import torch\n",
    "\n",
    "\n",
    "from torch_geometric.nn import GCNConv\n",
    "from torch_geometric.nn.pool import global_mean_pool\n",
    "from torch.utils.data import DataLoader, random_split"
   ]
  },
  {
   "cell_type": "code",
   "execution_count": 2,
   "metadata": {},
   "outputs": [],
   "source": [
    "import itertools"
   ]
  },
  {
   "cell_type": "code",
   "execution_count": 3,
   "metadata": {},
   "outputs": [],
   "source": [
    "from helpers import CVFConfigForGCNDataset"
   ]
  },
  {
   "cell_type": "code",
   "execution_count": 4,
   "metadata": {},
   "outputs": [
    {
     "data": {
      "text/plain": [
       "device(type='cuda')"
      ]
     },
     "execution_count": 4,
     "metadata": {},
     "output_type": "execute_result"
    }
   ],
   "source": [
    "device = torch.device('cuda' if torch.cuda.is_available() else 'cpu')\n",
    "device"
   ]
  },
  {
   "cell_type": "code",
   "execution_count": 5,
   "metadata": {},
   "outputs": [],
   "source": [
    "class VanillaGNNLayer(torch.nn.Module):\n",
    "    def __init__(self, dim_in, dim_out):\n",
    "        super().__init__()\n",
    "        self.linear = torch.nn.Linear(dim_in, dim_out, bias=False)\n",
    "\n",
    "    def forward(self, x, adjacency):\n",
    "        x = self.linear(x)\n",
    "        # x = torch.sparse.mm(adjacency, x)\n",
    "        x = torch.matmul(adjacency, x)\n",
    "        return x"
   ]
  },
  {
   "cell_type": "code",
   "execution_count": 6,
   "metadata": {},
   "outputs": [],
   "source": [
    "# dataset = CVFConfigDataset(\n",
    "#     \"small_graph_test_config_rank_dataset.csv\", \"small_graph_edge_index.json\", 4\n",
    "# )\n",
    "# dataset = CVFConfigDataset(\n",
    "#     \"graph_1_config_rank_dataset.csv\", \"graph_1_edge_index.json\", 10\n",
    "# )\n",
    "# dataset = CVFConfigDataset(\n",
    "#     \"graph_4_config_rank_dataset.csv\", \"graph_4_edge_index.json\", 10\n",
    "# )\n",
    "dataset_6b = CVFConfigForGCNDataset(\n",
    "    device,\n",
    "    \"graph_6b_config_rank_dataset.csv\",\n",
    "    \"graph_6b_edge_index.json\",\n",
    "    20,\n",
    ")\n",
    "\n",
    "dataset_n5 = CVFConfigForGCNDataset(\n",
    "    device,\n",
    "    \"graph_5_config_rank_dataset.csv\",\n",
    "    \"graph_5_edge_index.json\",\n",
    "    20\n",
    ")\n",
    "\n",
    "dataset_pl_n5 = CVFConfigForGCNDataset(\n",
    "    device,\n",
    "    \"graph_powerlaw_cluster_graph_n5_config_rank_dataset.csv\",\n",
    "    \"graph_powerlaw_cluster_graph_n5_edge_index.json\",\n",
    "    20\n",
    ")\n",
    "\n",
    "dataset_pl_n6 = CVFConfigForGCNDataset(\n",
    "    device,\n",
    "    \"graph_powerlaw_cluster_graph_n6_config_rank_dataset.csv\",\n",
    "    \"graph_powerlaw_cluster_graph_n6_edge_index.json\",\n",
    "    20\n",
    ")\n",
    "\n",
    "dataset_pl_n7 = CVFConfigForGCNDataset(\n",
    "    device,\n",
    "    \"graph_powerlaw_cluster_graph_n7_config_rank_dataset.csv\",\n",
    "    \"graph_powerlaw_cluster_graph_n7_edge_index.json\",\n",
    "    20\n",
    ")\n",
    "\n",
    "dataset_pl_n8 = CVFConfigForGCNDataset(\n",
    "    device,\n",
    "    \"graph_powerlaw_cluster_graph_n8_config_rank_dataset.csv\",\n",
    "    \"graph_powerlaw_cluster_graph_n8_edge_index.json\",\n",
    "    20\n",
    ")\n",
    "\n",
    "dataset_pl_n9 = CVFConfigForGCNDataset(\n",
    "    device,\n",
    "    \"graph_powerlaw_cluster_graph_n9_config_rank_dataset.csv\",\n",
    "    \"graph_powerlaw_cluster_graph_n9_edge_index.json\",\n",
    "    20,\n",
    ")\n",
    "# dataset = CVFConfigDataset(\n",
    "#     \"graph_powerlaw_cluster_graph_n12_config_rank_dataset.csv\",\n",
    "#     \"graph_powerlaw_cluster_graph_n12_edge_index.json\",\n",
    "#     10\n",
    "# )\n",
    "\n",
    "batch_size = 128\n",
    "\n",
    "dataset_coll = [dataset_pl_n5, dataset_pl_n6, dataset_pl_n7, dataset_pl_n8, dataset_pl_n9]\n",
    "train_dataloader_coll = []\n",
    "test_dataloader_coll = []\n",
    "\n",
    "for dataset in dataset_coll:\n",
    "    train_size = int(0.75 * len(dataset))\n",
    "    test_size = len(dataset) - train_size\n",
    "    train_dataset, test_dataset = random_split(dataset, [train_size, test_size])\n",
    "    train_loader = DataLoader(train_dataset, batch_size=batch_size, shuffle=True)\n",
    "    test_loader = DataLoader(test_dataset, batch_size=batch_size, shuffle=False)\n",
    "    train_dataloader_coll.append(train_loader)\n",
    "    test_dataloader_coll.append(test_loader)\n",
    "\n",
    "train_dataloader_coll_iter = [iter(i) for i in train_dataloader_coll]\n",
    "\n",
    "# train_size = int(0.75 * len(dataset_6b))\n",
    "# test_size = len(dataset_6b) - train_size\n",
    "# train_dataset_6b, test_dataset_6b = random_split(dataset_6b, [train_size, test_size])\n",
    "\n",
    "# train_size = int(0.75 * len(dataset_pl_n5))\n",
    "# test_size = len(dataset_pl_n5) - train_size\n",
    "# train_dataset_pl_n5, test_dataset_pl_n5 = random_split(dataset_pl_n5, [train_size, test_size])\n",
    "\n",
    "# train_loader_pl_n9 = DataLoader(train_dataset_pl_n9, batch_size=batch_size, shuffle=True)\n",
    "# test_loader_pl_n9 = DataLoader(test_dataset_pl_n9, batch_size=batch_size, shuffle=False)\n",
    "\n",
    "# train_loader_6b = DataLoader(train_dataset_6b, batch_size=batch_size, shuffle=True)\n",
    "# test_loader_6b = DataLoader(test_dataset_6b, batch_size=batch_size, shuffle=False)\n",
    "\n",
    "# train_loader_pl_n5 = DataLoader(train_dataset_pl_n5, batch_size=batch_size, shuffle=True)\n",
    "# test_loader_pl_n5 = DataLoader(test_dataset_pl_n5, batch_size=batch_size, shuffle=False)\n",
    "\n",
    "\n",
    "# dataloader_coll = [train_loader_6b, train_loader_pl_n9, train_loader_pl_n5]\n",
    "# dataloader_coll_iter = [iter(i) for i in dataloader_coll]\n",
    "# data_loader = DataLoader(dataset, batch_size=128, shuffle=False)"
   ]
  },
  {
   "cell_type": "code",
   "execution_count": 7,
   "metadata": {},
   "outputs": [],
   "source": [
    "def generate_batch():\n",
    "    end_loop = [False for _ in range(len(train_dataloader_coll))]\n",
    "    while not all(end_loop):\n",
    "        for di, data_loader in enumerate(train_dataloader_coll_iter):\n",
    "            try:\n",
    "                batch = next(data_loader)\n",
    "            except StopIteration:\n",
    "                end_loop[di] = True\n",
    "                continue\n",
    "            yield batch, di"
   ]
  },
  {
   "cell_type": "code",
   "execution_count": 8,
   "metadata": {},
   "outputs": [
    {
     "name": "stdout",
     "output_type": "stream",
     "text": [
      "[3, 18, 159, 840, 8100]\n"
     ]
    }
   ],
   "source": [
    "# cnt = 0\n",
    "# for i in generate_batch():\n",
    "#     cnt += 1\n",
    "\n",
    "# print(cnt)\n",
    "print([len(i) for i in train_dataloader_coll])"
   ]
  },
  {
   "cell_type": "code",
   "execution_count": null,
   "metadata": {},
   "outputs": [],
   "source": [
    "class VanillaGNN(torch.nn.Module):\n",
    "    def __init__(self, dim_in, dim_h, dim_out):\n",
    "        super().__init__()\n",
    "        self.gcn1 = GCNConv(dim_in, dim_h)\n",
    "        self.gcn2 = GCNConv(dim_h, dim_h)\n",
    "        self.out = torch.nn.Linear(dim_h, dim_out)\n",
    "\n",
    "    def forward(self, x, edge_index):\n",
    "        h = self.gcn1(x, edge_index)\n",
    "        h = torch.relu(h)\n",
    "        h = self.gcn2(h, edge_index)\n",
    "        h = torch.relu(h)\n",
    "        h = self.out(h)\n",
    "        h = global_mean_pool(h, torch.zeros(h.size(1)).to(device).long())\n",
    "        return h\n",
    "\n",
    "    def fit(self, epochs):\n",
    "        # criterion = torch.nn.CrossEntrop yLoss()\n",
    "        criterion = torch.nn.MSELoss()\n",
    "        optimizer = torch.optim.Adam(self.parameters(), lr=0.01, weight_decay=5e-4)\n",
    "        self.train()\n",
    "        # edge_index = dataset.edge_index.t().to(device)\n",
    "        dataloaders = itertools.tee(generate_batch(), epochs)\n",
    "        for epoch in range(1, epochs + 1):\n",
    "            avg_loss = 0\n",
    "            count = 0\n",
    "            for batch, di in dataloaders[epoch-1]:\n",
    "                x = batch[0].to(device)\n",
    "                y = batch[1].to(device)\n",
    "                y = y.unsqueeze(0).reshape(-1, 1, 1).float()\n",
    "                optimizer.zero_grad()\n",
    "                out = self(x, dataset_coll[di].edge_index)\n",
    "                # print(\"output\", out, \"y\", y)\n",
    "                loss = criterion(out, y)\n",
    "                avg_loss += loss\n",
    "                count += 1\n",
    "                loss.backward()\n",
    "                optimizer.step()\n",
    "                # if i % 10 == 0:\n",
    "                #     print(\"Iter\", i, \"| Loss:\", avg_loss / count)\n",
    "\n",
    "            if count > 0:\n",
    "                print(\"Epoch\", epoch, \"| Loss:\", avg_loss / count)\n"
   ]
  },
  {
   "cell_type": "code",
   "execution_count": 10,
   "metadata": {},
   "outputs": [
    {
     "name": "stdout",
     "output_type": "stream",
     "text": [
      "VanillaGNN(\n",
      "  (gcn1): GCNConv(20, 128)\n",
      "  (gcn2): GCNConv(128, 128)\n",
      "  (out): Linear(in_features=128, out_features=1, bias=True)\n",
      ")\n",
      "Epoch 1 | Loss: tensor(0.4248, device='cuda:0', grad_fn=<DivBackward0>)\n",
      "Epoch 2 | Loss: tensor(0.3541, device='cuda:0', grad_fn=<DivBackward0>)\n",
      "Epoch 3 | Loss: tensor(0.3531, device='cuda:0', grad_fn=<DivBackward0>)\n",
      "Epoch 4 | Loss: tensor(0.3443, device='cuda:0', grad_fn=<DivBackward0>)\n",
      "Epoch 5 | Loss: tensor(0.3420, device='cuda:0', grad_fn=<DivBackward0>)\n",
      "Epoch 6 | Loss: tensor(0.3418, device='cuda:0', grad_fn=<DivBackward0>)\n",
      "Epoch 7 | Loss: tensor(0.3427, device='cuda:0', grad_fn=<DivBackward0>)\n",
      "Epoch 8 | Loss: tensor(0.3495, device='cuda:0', grad_fn=<DivBackward0>)\n",
      "Epoch 9 | Loss: tensor(0.3487, device='cuda:0', grad_fn=<DivBackward0>)\n",
      "Epoch 10 | Loss: tensor(0.3472, device='cuda:0', grad_fn=<DivBackward0>)\n",
      "Epoch 11 | Loss: tensor(0.3463, device='cuda:0', grad_fn=<DivBackward0>)\n",
      "Epoch 12 | Loss: tensor(0.3455, device='cuda:0', grad_fn=<DivBackward0>)\n",
      "Epoch 13 | Loss: tensor(0.3478, device='cuda:0', grad_fn=<DivBackward0>)\n",
      "Epoch 14 | Loss: tensor(0.3396, device='cuda:0', grad_fn=<DivBackward0>)\n",
      "Epoch 15 | Loss: tensor(0.3423, device='cuda:0', grad_fn=<DivBackward0>)\n",
      "Epoch 16 | Loss: tensor(0.3415, device='cuda:0', grad_fn=<DivBackward0>)\n",
      "Epoch 17 | Loss: tensor(0.3386, device='cuda:0', grad_fn=<DivBackward0>)\n",
      "Epoch 18 | Loss: tensor(0.3367, device='cuda:0', grad_fn=<DivBackward0>)\n",
      "Epoch 19 | Loss: tensor(0.3351, device='cuda:0', grad_fn=<DivBackward0>)\n",
      "Epoch 20 | Loss: tensor(0.3383, device='cuda:0', grad_fn=<DivBackward0>)\n",
      "Epoch 21 | Loss: tensor(0.3339, device='cuda:0', grad_fn=<DivBackward0>)\n",
      "Epoch 22 | Loss: tensor(0.3373, device='cuda:0', grad_fn=<DivBackward0>)\n",
      "Epoch 23 | Loss: tensor(0.3371, device='cuda:0', grad_fn=<DivBackward0>)\n",
      "Epoch 24 | Loss: tensor(0.3370, device='cuda:0', grad_fn=<DivBackward0>)\n",
      "Epoch 25 | Loss: tensor(0.3379, device='cuda:0', grad_fn=<DivBackward0>)\n"
     ]
    }
   ],
   "source": [
    "gnn = VanillaGNN(20, 128, 1).to(device)\n",
    "print(gnn)\n",
    "\n",
    "gnn.fit(epochs=25)"
   ]
  },
  {
   "cell_type": "code",
   "execution_count": null,
   "metadata": {},
   "outputs": [],
   "source": [
    "# testing\n",
    "torch.no_grad()\n",
    "torch.set_printoptions(profile=\"full\")\n",
    "\n",
    "total_matched = 0\n",
    "\n",
    "indx = 4\n",
    "\n",
    "dataset = dataset_coll[indx]\n",
    "test_loader = test_dataloader_coll[indx]\n",
    "test_dataset = test_loader.dataset\n",
    "\n",
    "for batch in test_loader:\n",
    "    x = batch[0].to(device)\n",
    "    y = batch[1].to(device)\n",
    "    y = y.unsqueeze(0).reshape(-1, 1, 1).float()\n",
    "    predicted = gnn(x, dataset.edge_index)\n",
    "    predicted = torch.round(predicted)\n",
    "    matched = (predicted == y).sum().item()\n",
    "    total_matched += matched\n",
    "\n",
    "print(\"Total matched\", total_matched, \"out of\", len(test_dataset), \"| Accuracy\", round(total_matched/len(test_dataset) * 100, 4), \"%\")"
   ]
  },
  {
   "cell_type": "code",
   "execution_count": null,
   "metadata": {},
   "outputs": [],
   "source": []
  }
 ],
 "metadata": {
  "kernelspec": {
   "display_name": "cvf",
   "language": "python",
   "name": "python3"
  },
  "language_info": {
   "codemirror_mode": {
    "name": "ipython",
    "version": 3
   },
   "file_extension": ".py",
   "mimetype": "text/x-python",
   "name": "python",
   "nbconvert_exporter": "python",
   "pygments_lexer": "ipython3",
   "version": "3.12.2"
  }
 },
 "nbformat": 4,
 "nbformat_minor": 2
}
