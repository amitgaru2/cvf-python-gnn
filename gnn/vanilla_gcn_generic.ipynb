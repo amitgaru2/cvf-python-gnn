{
 "cells": [
  {
   "cell_type": "code",
   "execution_count": 1,
   "metadata": {},
   "outputs": [],
   "source": [
    "import torch\n",
    "\n",
    "\n",
    "from torch_geometric.nn import GCNConv\n",
    "from torch_geometric.nn.pool import global_mean_pool\n",
    "from torch.utils.data import DataLoader, random_split"
   ]
  },
  {
   "cell_type": "code",
   "execution_count": 2,
   "metadata": {},
   "outputs": [],
   "source": [
    "from helpers import CVFConfigForGCNDataset"
   ]
  },
  {
   "cell_type": "code",
   "execution_count": 3,
   "metadata": {},
   "outputs": [
    {
     "data": {
      "text/plain": [
       "device(type='cuda')"
      ]
     },
     "execution_count": 3,
     "metadata": {},
     "output_type": "execute_result"
    }
   ],
   "source": [
    "device = torch.device('cuda' if torch.cuda.is_available() else 'cpu')\n",
    "device"
   ]
  },
  {
   "cell_type": "code",
   "execution_count": 4,
   "metadata": {},
   "outputs": [],
   "source": [
    "class VanillaGNNLayer(torch.nn.Module):\n",
    "    def __init__(self, dim_in, dim_out):\n",
    "        super().__init__()\n",
    "        self.linear = torch.nn.Linear(dim_in, dim_out, bias=False)\n",
    "\n",
    "    def forward(self, x, adjacency):\n",
    "        x = self.linear(x)\n",
    "        # x = torch.sparse.mm(adjacency, x)\n",
    "        x = torch.matmul(adjacency, x)\n",
    "        return x"
   ]
  },
  {
   "cell_type": "code",
   "execution_count": 5,
   "metadata": {},
   "outputs": [],
   "source": [
    "# dataset = CVFConfigDataset(\n",
    "#     \"small_graph_test_config_rank_dataset.csv\", \"small_graph_edge_index.json\", 4\n",
    "# )\n",
    "# dataset = CVFConfigDataset(\n",
    "#     \"graph_1_config_rank_dataset.csv\", \"graph_1_edge_index.json\", 10\n",
    "# )\n",
    "# dataset = CVFConfigDataset(\n",
    "#     \"graph_4_config_rank_dataset.csv\", \"graph_4_edge_index.json\", 10\n",
    "# )\n",
    "# dataset = CVFConfigDataset(\n",
    "#     \"graph_5_config_rank_dataset.csv\", \"graph_5_edge_index.json\", 9\n",
    "# )\n",
    "dataset_pl_n8 = CVFConfigForGCNDataset(\n",
    "    device,\n",
    "    \"graph_6b_config_rank_dataset.csv\",\n",
    "    \"graph_6b_edge_index.json\",\n",
    "    20,\n",
    ")\n",
    "dataset_pl_n9 = CVFConfigForGCNDataset(\n",
    "    device,\n",
    "    \"graph_powerlaw_cluster_graph_n9_config_rank_dataset.csv\",\n",
    "    \"graph_powerlaw_cluster_graph_n9_edge_index.json\",\n",
    "    20,\n",
    ")\n",
    "# dataset = CVFConfigDataset(\n",
    "#     \"graph_powerlaw_cluster_graph_n12_config_rank_dataset.csv\",\n",
    "#     \"graph_powerlaw_cluster_graph_n12_edge_index.json\",\n",
    "#     10\n",
    "# )\n",
    "\n",
    "batch_size = 128\n",
    "\n",
    "train_size = int(0.75 * len(dataset_pl_n9))\n",
    "test_size = len(dataset_pl_n9) - train_size\n",
    "train_dataset_pl_n9, test_dataset_pl_n9 = random_split(dataset_pl_n9, [train_size, test_size])\n",
    "\n",
    "train_size = int(0.75 * len(dataset_pl_n8))\n",
    "test_size = len(dataset_pl_n8) - train_size\n",
    "train_dataset_pl_n8, test_dataset_pl_n8 = random_split(dataset_pl_n8, [train_size, test_size])\n",
    "\n",
    "train_loader_pl_n9 = DataLoader(train_dataset_pl_n9, batch_size=batch_size, shuffle=True)\n",
    "test_loader_pl_n9 = DataLoader(test_dataset_pl_n9, batch_size=batch_size, shuffle=False)\n",
    "\n",
    "train_loader_pl_n8 = DataLoader(train_dataset_pl_n8, batch_size=batch_size, shuffle=True)\n",
    "test_loader_pl_n8 = DataLoader(test_dataset_pl_n8, batch_size=batch_size, shuffle=False)\n",
    "\n",
    "dataset_coll = [dataset_pl_n8, dataset_pl_n9]\n",
    "dataloader_coll = [train_loader_pl_n8, train_loader_pl_n9]\n",
    "dataloader_coll_iter = [iter(i) for i in dataloader_coll]\n",
    "# data_loader = DataLoader(dataset, batch_size=128, shuffle=False)"
   ]
  },
  {
   "cell_type": "code",
   "execution_count": 6,
   "metadata": {},
   "outputs": [],
   "source": [
    "def generate_batch():\n",
    "    end_loop = [False for _ in range(len(dataloader_coll))]\n",
    "    while not all(end_loop):\n",
    "        for di, data_loader in enumerate(dataloader_coll_iter):\n",
    "            try:\n",
    "                batch = next(data_loader)\n",
    "            except StopIteration:\n",
    "                end_loop[di] = True\n",
    "                continue\n",
    "            yield batch, di"
   ]
  },
  {
   "cell_type": "code",
   "execution_count": 7,
   "metadata": {},
   "outputs": [
    {
     "name": "stdout",
     "output_type": "stream",
     "text": [
      "[64, 8100]\n"
     ]
    }
   ],
   "source": [
    "# cnt = 0\n",
    "# for i in generate_batch():\n",
    "#     cnt += 1\n",
    "\n",
    "# print(cnt)\n",
    "print([len(i) for i in dataloader_coll])"
   ]
  },
  {
   "cell_type": "code",
   "execution_count": null,
   "metadata": {},
   "outputs": [],
   "source": [
    "class VanillaGNN(torch.nn.Module):\n",
    "    def __init__(self, dim_in, dim_h, dim_out):\n",
    "        super().__init__()\n",
    "        self.gcn1 = GCNConv(dim_in, dim_h)\n",
    "        self.gcn2 = GCNConv(dim_h, dim_h)\n",
    "        self.out = torch.nn.Linear(dim_h, dim_out)\n",
    "\n",
    "    def forward(self, x, edge_index):\n",
    "        h = self.gcn1(x, edge_index)\n",
    "        h = torch.relu(h)\n",
    "        h = self.gcn2(h, edge_index)\n",
    "        h = torch.relu(h)\n",
    "        h = self.out(h)\n",
    "        h = global_mean_pool(h, torch.zeros(h.size(1)).to(device).long())\n",
    "        return h\n",
    "\n",
    "    def fit(self, epochs):\n",
    "        # criterion = torch.nn.CrossEntrop yLoss()\n",
    "        criterion = torch.nn.MSELoss()\n",
    "        optimizer = torch.optim.Adam(self.parameters(), lr=0.01, weight_decay=5e-4)\n",
    "        self.train()\n",
    "        # edge_index = dataset.edge_index.t().to(device)\n",
    "        for epoch in range(1, epochs + 1):\n",
    "            avg_loss = 0\n",
    "            count = 0\n",
    "            for batch, di in generate_batch():\n",
    "                x = batch[0].to(device)\n",
    "                y = batch[1].to(device)\n",
    "                y = y.unsqueeze(0).reshape(-1, 1, 1).float()\n",
    "                optimizer.zero_grad()\n",
    "                out = self(x, dataset_coll[di].edge_index)\n",
    "                # print(\"output\", out, \"y\", y)\n",
    "                loss = criterion(out, y)\n",
    "                avg_loss += loss\n",
    "                count += 1\n",
    "                loss.backward()\n",
    "                optimizer.step()\n",
    "                # if i % 10 == 0:\n",
    "                #     print(\"Iter\", i, \"| Loss:\", avg_loss / count)\n",
    "\n",
    "            if count > 0:\n",
    "                print(\"Epoch\", epoch, \"| Loss:\", avg_loss / count)\n"
   ]
  },
  {
   "cell_type": "code",
   "execution_count": 9,
   "metadata": {},
   "outputs": [
    {
     "name": "stdout",
     "output_type": "stream",
     "text": [
      "VanillaGNN(\n",
      "  (gcn1): GCNConv(20, 128)\n",
      "  (gcn2): GCNConv(128, 128)\n",
      "  (out): Linear(in_features=128, out_features=1, bias=True)\n",
      ")\n",
      "Epoch 1 | Loss: tensor(0.4299, device='cuda:0', grad_fn=<DivBackward0>)\n"
     ]
    },
    {
     "ename": "ZeroDivisionError",
     "evalue": "division by zero",
     "output_type": "error",
     "traceback": [
      "\u001b[0;31m---------------------------------------------------------------------------\u001b[0m",
      "\u001b[0;31mZeroDivisionError\u001b[0m                         Traceback (most recent call last)",
      "Cell \u001b[0;32mIn[9], line 4\u001b[0m\n\u001b[1;32m      1\u001b[0m gnn \u001b[38;5;241m=\u001b[39m VanillaGNN(\u001b[38;5;241m20\u001b[39m, \u001b[38;5;241m128\u001b[39m, \u001b[38;5;241m1\u001b[39m)\u001b[38;5;241m.\u001b[39mto(device)\n\u001b[1;32m      2\u001b[0m \u001b[38;5;28mprint\u001b[39m(gnn)\n\u001b[0;32m----> 4\u001b[0m \u001b[43mgnn\u001b[49m\u001b[38;5;241;43m.\u001b[39;49m\u001b[43mfit\u001b[49m\u001b[43m(\u001b[49m\u001b[43mepochs\u001b[49m\u001b[38;5;241;43m=\u001b[39;49m\u001b[38;5;241;43m10\u001b[39;49m\u001b[43m)\u001b[49m\n",
      "Cell \u001b[0;32mIn[8], line 41\u001b[0m, in \u001b[0;36mVanillaGNN.fit\u001b[0;34m(self, epochs)\u001b[0m\n\u001b[1;32m     37\u001b[0m     optimizer\u001b[38;5;241m.\u001b[39mstep()\n\u001b[1;32m     38\u001b[0m     \u001b[38;5;66;03m# if i % 10 == 0:\u001b[39;00m\n\u001b[1;32m     39\u001b[0m     \u001b[38;5;66;03m#     print(\"Iter\", i, \"| Loss:\", avg_loss / count)\u001b[39;00m\n\u001b[0;32m---> 41\u001b[0m \u001b[38;5;28mprint\u001b[39m(\u001b[38;5;124m\"\u001b[39m\u001b[38;5;124mEpoch\u001b[39m\u001b[38;5;124m\"\u001b[39m, epoch, \u001b[38;5;124m\"\u001b[39m\u001b[38;5;124m| Loss:\u001b[39m\u001b[38;5;124m\"\u001b[39m, \u001b[43mavg_loss\u001b[49m\u001b[43m \u001b[49m\u001b[38;5;241;43m/\u001b[39;49m\u001b[43m \u001b[49m\u001b[43mcount\u001b[49m)\n",
      "\u001b[0;31mZeroDivisionError\u001b[0m: division by zero"
     ]
    }
   ],
   "source": [
    "gnn = VanillaGNN(20, 128, 1).to(device)\n",
    "print(gnn)\n",
    "\n",
    "gnn.fit(epochs=10)"
   ]
  },
  {
   "cell_type": "code",
   "execution_count": null,
   "metadata": {},
   "outputs": [],
   "source": [
    "# testing\n",
    "torch.no_grad()\n",
    "torch.set_printoptions(profile=\"full\")\n",
    "\n",
    "total_matched = 0\n",
    "edge_index = dataset.edge_index.t().to(device)\n",
    "\n",
    "for batch in test_loader:\n",
    "    x = batch[0].to(device)\n",
    "    y = batch[1].to(device)\n",
    "    y = y.unsqueeze(0).reshape(-1, 1, 1).float()\n",
    "    predicted = gnn(x, edge_index)\n",
    "    # predicted = predicted.argmax(dim=1)\n",
    "    predicted = torch.round(predicted)\n",
    "    matched = (predicted == y).sum().item()\n",
    "    total_matched += matched\n",
    "    \n",
    "\n",
    "print(\"Total matched\", total_matched, \"out of\", len(test_dataset), \"| Accuracy\", round(total_matched/len(test_dataset) * 100, 4), \"%\")"
   ]
  },
  {
   "cell_type": "code",
   "execution_count": null,
   "metadata": {},
   "outputs": [],
   "source": []
  }
 ],
 "metadata": {
  "kernelspec": {
   "display_name": "cvf",
   "language": "python",
   "name": "python3"
  },
  "language_info": {
   "codemirror_mode": {
    "name": "ipython",
    "version": 3
   },
   "file_extension": ".py",
   "mimetype": "text/x-python",
   "name": "python",
   "nbconvert_exporter": "python",
   "pygments_lexer": "ipython3",
   "version": "3.12.2"
  }
 },
 "nbformat": 4,
 "nbformat_minor": 2
}
