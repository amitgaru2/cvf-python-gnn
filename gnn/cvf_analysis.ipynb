{
 "cells": [
  {
   "cell_type": "code",
   "execution_count": 1,
   "metadata": {},
   "outputs": [],
   "source": [
    "import torch\n",
    "\n",
    "from torch.utils.data import DataLoader"
   ]
  },
  {
   "cell_type": "code",
   "execution_count": 2,
   "metadata": {},
   "outputs": [],
   "source": [
    "from lstm_scratch import SimpleLSTM\n",
    "from helpers import CVFConfigForAnalysisDataset"
   ]
  },
  {
   "cell_type": "code",
   "execution_count": 3,
   "metadata": {},
   "outputs": [],
   "source": [
    "model_name = \"lstm_trained_at_2025_04_07_18_35\"\n",
    "\n",
    "graph_name = \"star_graph_n15\""
   ]
  },
  {
   "cell_type": "code",
   "execution_count": 4,
   "metadata": {},
   "outputs": [],
   "source": [
    "device = \"cuda\" "
   ]
  },
  {
   "cell_type": "code",
   "execution_count": 5,
   "metadata": {},
   "outputs": [
    {
     "data": {
      "text/plain": [
       "SimpleLSTM(\n",
       "  (lstm): LSTM(3, 32, batch_first=True)\n",
       "  (h2o): Linear(in_features=32, out_features=1, bias=True)\n",
       ")"
      ]
     },
     "execution_count": 5,
     "metadata": {},
     "output_type": "execute_result"
    }
   ],
   "source": [
    "# Model class must be defined somewhere\n",
    "model = torch.load(f\"trained_models/{model_name}.pt\", weights_only=False)\n",
    "model.eval()"
   ]
  },
  {
   "cell_type": "code",
   "execution_count": 6,
   "metadata": {},
   "outputs": [
    {
     "name": "stderr",
     "output_type": "stream",
     "text": [
      "Total configs: 245,760.\n"
     ]
    }
   ],
   "source": [
    "dataset = CVFConfigForAnalysisDataset(device, graph_name)"
   ]
  },
  {
   "cell_type": "code",
   "execution_count": 7,
   "metadata": {},
   "outputs": [],
   "source": [
    "with open(f\"ml_predictions/{model_name}__rank_effect_ml_pred__{graph_name}.txt\", \"w\") as f:\n",
    "    with torch.no_grad():\n",
    "        test_dataloader = DataLoader(dataset, batch_size=1)\n",
    "\n",
    "        count = 0\n",
    "        for batch in test_dataloader:\n",
    "            for i in range(len(batch[0])):\n",
    "                frm_idx = batch[1][i].item()\n",
    "                frm_rank = model(batch[0][i].unsqueeze(0))\n",
    "                for (\n",
    "                    position,\n",
    "                    to_indx,\n",
    "                ) in dataset.cvf_analysis.possible_perturbed_state_frm(frm_idx):\n",
    "                    to = dataset[to_indx]\n",
    "                    to_rank = model(to[0].unsqueeze(0))\n",
    "                    f.write(\"%s\" % (frm_rank - to_rank).item())\n",
    "                    f.write(\",\")"
   ]
  },
  {
   "cell_type": "code",
   "execution_count": null,
   "metadata": {},
   "outputs": [],
   "source": []
  }
 ],
 "metadata": {
  "kernelspec": {
   "display_name": "cvf",
   "language": "python",
   "name": "python3"
  },
  "language_info": {
   "codemirror_mode": {
    "name": "ipython",
    "version": 3
   },
   "file_extension": ".py",
   "mimetype": "text/x-python",
   "name": "python",
   "nbconvert_exporter": "python",
   "pygments_lexer": "ipython3",
   "version": "3.12.2"
  }
 },
 "nbformat": 4,
 "nbformat_minor": 2
}
