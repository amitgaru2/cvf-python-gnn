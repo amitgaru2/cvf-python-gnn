{
 "cells": [
  {
   "cell_type": "code",
   "execution_count": 1,
   "metadata": {},
   "outputs": [],
   "source": [
    "import pandas as pd\n",
    "import torch\n",
    "\n",
    "from torch.utils.data import DataLoader"
   ]
  },
  {
   "cell_type": "code",
   "execution_count": 2,
   "metadata": {},
   "outputs": [],
   "source": [
    "from lstm_scratch import SimpleLSTM\n",
    "from helpers import CVFConfigForAnalysisDataset"
   ]
  },
  {
   "cell_type": "code",
   "execution_count": null,
   "metadata": {},
   "outputs": [],
   "source": [
    "model_name = \"lstm_trained_at_2025_04_10_00_11\"\n",
    "\n",
    "graph_name = \"star_graph_n15\"\n",
    "# graph_name = \"star_graph_n7\""
   ]
  },
  {
   "cell_type": "code",
   "execution_count": 4,
   "metadata": {},
   "outputs": [],
   "source": [
    "device = \"cuda\" "
   ]
  },
  {
   "cell_type": "code",
   "execution_count": 5,
   "metadata": {},
   "outputs": [
    {
     "data": {
      "text/plain": [
       "SimpleLSTM(\n",
       "  (lstm): GRU(3, 32, batch_first=True)\n",
       "  (norm): LayerNorm((32,), eps=1e-05, elementwise_affine=True)\n",
       "  (h2o): Linear(in_features=32, out_features=1, bias=True)\n",
       ")"
      ]
     },
     "execution_count": 5,
     "metadata": {},
     "output_type": "execute_result"
    }
   ],
   "source": [
    "# Model class must be defined somewhere\n",
    "model = torch.load(f\"trained_models/{model_name}.pt\", weights_only=False)\n",
    "model.eval()"
   ]
  },
  {
   "cell_type": "code",
   "execution_count": 6,
   "metadata": {},
   "outputs": [
    {
     "name": "stderr",
     "output_type": "stream",
     "text": [
      "Total configs: 448.\n"
     ]
    }
   ],
   "source": [
    "dataset = CVFConfigForAnalysisDataset(device, graph_name)"
   ]
  },
  {
   "cell_type": "code",
   "execution_count": 7,
   "metadata": {},
   "outputs": [],
   "source": [
    "data = []\n",
    "# result_df = pd.DataFrame([], columns=['node', 'rank_effect'])\n",
    "\n",
    "result_df = pd.DataFrame({\n",
    "    'node': pd.Series(dtype='int'),\n",
    "    'rank_effect': pd.Series(dtype='float')\n",
    "})\n",
    "\n",
    "with torch.no_grad():\n",
    "    test_dataloader = DataLoader(dataset, batch_size=1)\n",
    "\n",
    "    count = 0\n",
    "    for batch in test_dataloader:\n",
    "        for i in range(len(batch[0])):\n",
    "            frm_idx = batch[1][i].item()\n",
    "            frm_rank = model(batch[0][i].unsqueeze(0))\n",
    "            for (\n",
    "                position,\n",
    "                to_indx,\n",
    "            ) in dataset.cvf_analysis.possible_perturbed_state_frm(frm_idx):\n",
    "                to = dataset[to_indx]\n",
    "                to_rank = model(to[0].unsqueeze(0))\n",
    "                rank_effect = torch.floor(frm_rank - to_rank + 0.5).item()  # to round off at 0.5\n",
    "                data.append({'node': position, 'rank_effect': rank_effect})\n",
    "\n",
    "        temp_df = pd.DataFrame(data, columns=['node', 'rank_effect'])\n",
    "        data = []\n",
    "        result_df = pd.concat([result_df, temp_df], ignore_index=True)\n",
    "\n",
    "\n",
    "result_df.to_csv(f\"ml_predictions/{model_name}__{graph_name}__cvf.csv\")\n"
   ]
  },
  {
   "cell_type": "code",
   "execution_count": null,
   "metadata": {},
   "outputs": [],
   "source": []
  }
 ],
 "metadata": {
  "kernelspec": {
   "display_name": "cvf",
   "language": "python",
   "name": "python3"
  },
  "language_info": {
   "codemirror_mode": {
    "name": "ipython",
    "version": 3
   },
   "file_extension": ".py",
   "mimetype": "text/x-python",
   "name": "python",
   "nbconvert_exporter": "python",
   "pygments_lexer": "ipython3",
   "version": "3.12.2"
  }
 },
 "nbformat": 4,
 "nbformat_minor": 2
}
