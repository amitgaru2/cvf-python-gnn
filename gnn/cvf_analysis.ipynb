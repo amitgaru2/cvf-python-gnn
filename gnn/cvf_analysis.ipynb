{
 "cells": [
  {
   "cell_type": "code",
   "execution_count": 1,
   "metadata": {},
   "outputs": [],
   "source": [
    "import pandas as pd\n",
    "import numpy as np\n",
    "import torch\n",
    "\n",
    "from torch.utils.data import DataLoader"
   ]
  },
  {
   "cell_type": "code",
   "execution_count": 2,
   "metadata": {},
   "outputs": [],
   "source": [
    "from lstm_scratch import SimpleLSTM\n",
    "from helpers import CVFConfigForAnalysisDataset"
   ]
  },
  {
   "cell_type": "code",
   "execution_count": null,
   "metadata": {},
   "outputs": [],
   "source": [
    "model_name = \"lstm_trained_at_2025_04_10_00_11\"\n",
    "\n",
    "graph_name = \"star_graph_n15\"\n",
    "# graph_name = \"star_graph_n7\""
   ]
  },
  {
   "cell_type": "code",
   "execution_count": 4,
   "metadata": {},
   "outputs": [],
   "source": [
    "device = \"cuda\" "
   ]
  },
  {
   "cell_type": "code",
   "execution_count": 5,
   "metadata": {},
   "outputs": [
    {
     "data": {
      "text/plain": [
       "SimpleLSTM(\n",
       "  (lstm): GRU(3, 32, batch_first=True)\n",
       "  (norm): LayerNorm((32,), eps=1e-05, elementwise_affine=True)\n",
       "  (h2o): Linear(in_features=32, out_features=1, bias=True)\n",
       ")"
      ]
     },
     "execution_count": 5,
     "metadata": {},
     "output_type": "execute_result"
    }
   ],
   "source": [
    "# Model class must be defined somewhere\n",
    "model = torch.load(f\"trained_models/{model_name}.pt\", weights_only=False)\n",
    "model.eval()"
   ]
  },
  {
   "cell_type": "code",
   "execution_count": 6,
   "metadata": {},
   "outputs": [
    {
     "name": "stderr",
     "output_type": "stream",
     "text": [
      "Total configs: 448.\n"
     ]
    }
   ],
   "source": [
    "dataset = CVFConfigForAnalysisDataset(device, graph_name)"
   ]
  },
  {
   "cell_type": "code",
   "execution_count": 7,
   "metadata": {},
   "outputs": [
    {
     "name": "stdout",
     "output_type": "stream",
     "text": [
      "Done!\n"
     ]
    }
   ],
   "source": [
    "data = []\n",
    "# result_df = pd.DataFrame([], columns=['node', 'rank_effect'])\n",
    "\n",
    "result_df = pd.DataFrame({\n",
    "    'node': pd.Series(dtype='int'),\n",
    "    'rank_effect': pd.Series(dtype='float')\n",
    "})\n",
    "\n",
    "with torch.no_grad():\n",
    "    test_dataloader = DataLoader(dataset, batch_size=1)\n",
    "\n",
    "    count = 0\n",
    "    for batch in test_dataloader:\n",
    "        for i in range(len(batch[0])):\n",
    "            frm_idx = batch[1][i].item()\n",
    "            frm_rank = model(batch[0][i].unsqueeze(0))\n",
    "            for (\n",
    "                position,\n",
    "                to_indx,\n",
    "            ) in dataset.cvf_analysis.possible_perturbed_state_frm(frm_idx):\n",
    "                to = dataset[to_indx]\n",
    "                to_rank = model(to[0].unsqueeze(0))\n",
    "                rank_effect = (frm_rank - to_rank).item()  # to round off at 0.5\n",
    "                data.append({'node': position, 'rank_effect': rank_effect})\n",
    "\n",
    "        temp_df = pd.DataFrame(data, columns=['node', 'rank_effect'])\n",
    "        data = []\n",
    "        result_df = pd.concat([result_df, temp_df], ignore_index=True)\n",
    "\n",
    "\n",
    "result_df['rank_effect'] = np.floor(result_df['rank_effect']+0.5)\n",
    "result_df.to_csv(f\"ml_predictions/{model_name}__{graph_name}__cvf.csv\")\n",
    "\n",
    "print(\"Done!\")\n"
   ]
  },
  {
   "cell_type": "code",
   "execution_count": 8,
   "metadata": {},
   "outputs": [
    {
     "data": {
      "text/html": [
       "<div>\n",
       "<style scoped>\n",
       "    .dataframe tbody tr th:only-of-type {\n",
       "        vertical-align: middle;\n",
       "    }\n",
       "\n",
       "    .dataframe tbody tr th {\n",
       "        vertical-align: top;\n",
       "    }\n",
       "\n",
       "    .dataframe thead th {\n",
       "        text-align: right;\n",
       "    }\n",
       "</style>\n",
       "<table border=\"1\" class=\"dataframe\">\n",
       "  <thead>\n",
       "    <tr style=\"text-align: right;\">\n",
       "      <th></th>\n",
       "      <th>node</th>\n",
       "      <th>rank_effect</th>\n",
       "    </tr>\n",
       "  </thead>\n",
       "  <tbody>\n",
       "    <tr>\n",
       "      <th>0</th>\n",
       "      <td>0</td>\n",
       "      <td>2.0</td>\n",
       "    </tr>\n",
       "    <tr>\n",
       "      <th>1</th>\n",
       "      <td>0</td>\n",
       "      <td>2.0</td>\n",
       "    </tr>\n",
       "    <tr>\n",
       "      <th>2</th>\n",
       "      <td>0</td>\n",
       "      <td>2.0</td>\n",
       "    </tr>\n",
       "    <tr>\n",
       "      <th>3</th>\n",
       "      <td>0</td>\n",
       "      <td>3.0</td>\n",
       "    </tr>\n",
       "    <tr>\n",
       "      <th>4</th>\n",
       "      <td>0</td>\n",
       "      <td>3.0</td>\n",
       "    </tr>\n",
       "    <tr>\n",
       "      <th>...</th>\n",
       "      <td>...</td>\n",
       "      <td>...</td>\n",
       "    </tr>\n",
       "    <tr>\n",
       "      <th>5371</th>\n",
       "      <td>2</td>\n",
       "      <td>0.0</td>\n",
       "    </tr>\n",
       "    <tr>\n",
       "      <th>5372</th>\n",
       "      <td>3</td>\n",
       "      <td>0.0</td>\n",
       "    </tr>\n",
       "    <tr>\n",
       "      <th>5373</th>\n",
       "      <td>4</td>\n",
       "      <td>0.0</td>\n",
       "    </tr>\n",
       "    <tr>\n",
       "      <th>5374</th>\n",
       "      <td>5</td>\n",
       "      <td>0.0</td>\n",
       "    </tr>\n",
       "    <tr>\n",
       "      <th>5375</th>\n",
       "      <td>6</td>\n",
       "      <td>0.0</td>\n",
       "    </tr>\n",
       "  </tbody>\n",
       "</table>\n",
       "<p>5376 rows × 2 columns</p>\n",
       "</div>"
      ],
      "text/plain": [
       "      node  rank_effect\n",
       "0        0          2.0\n",
       "1        0          2.0\n",
       "2        0          2.0\n",
       "3        0          3.0\n",
       "4        0          3.0\n",
       "...    ...          ...\n",
       "5371     2          0.0\n",
       "5372     3          0.0\n",
       "5373     4          0.0\n",
       "5374     5          0.0\n",
       "5375     6          0.0\n",
       "\n",
       "[5376 rows x 2 columns]"
      ]
     },
     "execution_count": 8,
     "metadata": {},
     "output_type": "execute_result"
    }
   ],
   "source": [
    "result_df"
   ]
  },
  {
   "cell_type": "code",
   "execution_count": null,
   "metadata": {},
   "outputs": [],
   "source": []
  }
 ],
 "metadata": {
  "kernelspec": {
   "display_name": "cvf",
   "language": "python",
   "name": "python3"
  },
  "language_info": {
   "codemirror_mode": {
    "name": "ipython",
    "version": 3
   },
   "file_extension": ".py",
   "mimetype": "text/x-python",
   "name": "python",
   "nbconvert_exporter": "python",
   "pygments_lexer": "ipython3",
   "version": "3.12.2"
  }
 },
 "nbformat": 4,
 "nbformat_minor": 2
}
