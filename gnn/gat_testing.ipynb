{
 "cells": [
  {
   "cell_type": "code",
   "execution_count": 2,
   "metadata": {},
   "outputs": [
    {
     "name": "stdout",
     "output_type": "stream",
     "text": [
      "tensor([[0.8772, 4.8757],\n",
      "        [0.6484, 1.6767],\n",
      "        [0.6600, 1.7931],\n",
      "        [0.8126, 3.6130]], grad_fn=<ReluBackward0>)\n"
     ]
    }
   ],
   "source": [
    "import torch\n",
    "import torch.nn.functional as F\n",
    "from torch_geometric.data import Data\n",
    "from torch_geometric.nn import GATv2Conv\n",
    "\n",
    "# Create a simple graph data\n",
    "# Let's assume a graph with 4 nodes, and the following edge connections:\n",
    "# 0 - 1, 1 - 2, 2 - 3, 3 - 0\n",
    "# Node features: 4 nodes, each with 3 features\n",
    "# Edge indices: 4 edges (each connects two nodes)\n",
    "\n",
    "# Edge index: shape [2, num_edges], representing edge connections\n",
    "edge_index = torch.tensor([[0, 1, 2, 3],\n",
    "                           [1, 2, 3, 0]], dtype=torch.long)\n",
    "\n",
    "# Node features: 4 nodes, each with 3 features\n",
    "x = torch.tensor([[1, 2, 3],  # Node 0\n",
    "                  [4, 5, 6],  # Node 1\n",
    "                  [7, 8, 9],  # Node 2\n",
    "                  [10, 11, 12]], dtype=torch.float)\n",
    "\n",
    "# Create a graph data object\n",
    "data = Data(x=x, edge_index=edge_index)\n",
    "\n",
    "# Define a GATv2 model with two layers and 8 attention heads\n",
    "class GATv2(torch.nn.Module):\n",
    "    def __init__(self, in_channels, hidden_channels, out_channels, heads):\n",
    "        super(GATv2, self).__init__()\n",
    "        # First GATv2 layer with 8 attention heads\n",
    "        self.gatv2_1 = GATv2Conv(in_channels, hidden_channels, heads=heads)  # 8 attention heads\n",
    "        # Second GATv2 layer with 8 attention heads\n",
    "        self.gatv2_2 = GATv2Conv(hidden_channels * heads, out_channels, heads=1)  # 1 attention head\n",
    "    \n",
    "    def forward(self, data):\n",
    "        x, edge_index = data.x, data.edge_index\n",
    "        # First layer of GATv2\n",
    "        x = self.gatv2_1(x, edge_index)  # Apply first GATv2Conv layer\n",
    "        x = F.relu(x)  # Apply ReLU activation\n",
    "        # Second layer of GATv2\n",
    "        x = self.gatv2_2(x, edge_index)  # Apply second GATv2Conv layer\n",
    "        return F.relu(x)  # Apply ReLU activation after second layer\n",
    "\n",
    "# Instantiate the GATv2 model with 3 input features, 4 hidden features, and 2 output features\n",
    "model = GATv2(in_channels=3, hidden_channels=4, out_channels=2, heads=8)\n",
    "\n",
    "# Forward pass\n",
    "out = model(data)\n",
    "print(out)\n"
   ]
  },
  {
   "cell_type": "code",
   "execution_count": null,
   "metadata": {},
   "outputs": [],
   "source": []
  }
 ],
 "metadata": {
  "kernelspec": {
   "display_name": "cvf",
   "language": "python",
   "name": "python3"
  },
  "language_info": {
   "codemirror_mode": {
    "name": "ipython",
    "version": 3
   },
   "file_extension": ".py",
   "mimetype": "text/x-python",
   "name": "python",
   "nbconvert_exporter": "python",
   "pygments_lexer": "ipython3",
   "version": "3.12.2"
  }
 },
 "nbformat": 4,
 "nbformat_minor": 2
}
