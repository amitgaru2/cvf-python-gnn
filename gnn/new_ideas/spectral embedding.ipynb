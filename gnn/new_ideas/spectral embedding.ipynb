{
 "cells": [
  {
   "cell_type": "code",
   "execution_count": 29,
   "id": "85f6898d",
   "metadata": {},
   "outputs": [
    {
     "name": "stdout",
     "output_type": "stream",
     "text": [
      "[[7 7 2 1 4 4 2 0]\n",
      " [4 7 5 4 1 0 3 5]\n",
      " [7 5 2 0 5 0 4 5]\n",
      " [4 7 0 2 0 0 1 5]\n",
      " [1 6 5 1 7 2 4 6]\n",
      " [4 2 5 2 4 5 5 7]\n",
      " [0 2 2 2 7 6 1 2]\n",
      " [5 7 6 3 6 5 3 3]]\n",
      "Eigenvalues: [-3.79062481 16.18405886 18.86440067 24.75271941 31.68221722 32.71165587\n",
      " 34.29115918 40.3044136 ]\n",
      "Spectral Embedding (2D):\n",
      "[[-0.28580238]\n",
      " [-0.18965641]\n",
      " [ 0.12291452]\n",
      " [-0.64756382]\n",
      " [ 0.36838383]\n",
      " [ 0.202934  ]\n",
      " [ 0.51876299]\n",
      " [ 0.04355088]]\n"
     ]
    }
   ],
   "source": [
    "import numpy as np\n",
    "\n",
    "# Adjacency matrix\n",
    "A = np.array([\n",
    "    [0, 1, 1, 0],\n",
    "    [1, 0, 0, 1],\n",
    "    [1, 0, 0, 0],\n",
    "    [0, 1, 0, 0]\n",
    "])\n",
    "\n",
    "N = 8\n",
    "A = np.random.randint(0, N, (N, N))\n",
    "print(A)\n",
    "\n",
    "# Degree matrix\n",
    "D = np.diag(np.sum(A, axis=1))\n",
    "\n",
    "# Laplacian matrix\n",
    "L = D - A\n",
    "\n",
    "# Eigen decomposition\n",
    "eigenvalues, eigenvectors = np.linalg.eigh(L)  # eigh is for symmetric matrices like Laplacian\n",
    "\n",
    "# Print the sorted eigenvalues\n",
    "print(\"Eigenvalues:\", eigenvalues)\n",
    "\n",
    "# Choose k=2 (skip the first eigenvector)\n",
    "k = 1\n",
    "embedding = eigenvectors[:, 1:1+k]  # Take eigenvectors corresponding to the 2 smallest non-zero eigenvalues\n",
    "\n",
    "print(\"Spectral Embedding (2D):\")\n",
    "print(embedding)\n"
   ]
  },
  {
   "cell_type": "code",
   "execution_count": 34,
   "id": "46371c77",
   "metadata": {},
   "outputs": [
    {
     "name": "stdout",
     "output_type": "stream",
     "text": [
      "Spectral Embedding:\n",
      "[[ 0.28867513 -0.28867513  0.57735027 -0.57735027]]\n"
     ]
    }
   ],
   "source": [
    "import numpy as np\n",
    "from sklearn.manifold import SpectralEmbedding\n",
    "\n",
    "# Adjacency matrix (4-node example)\n",
    "A = np.array([\n",
    "    [0, 1, 1, 0],\n",
    "    [1, 0, 0, 1],\n",
    "    [1, 0, 0, 0],\n",
    "    [0, 1, 0, 0]\n",
    "])\n",
    "\n",
    "# Create Spectral Embedding model\n",
    "embedding_model = SpectralEmbedding(n_components=1, affinity='precomputed')\n",
    "\n",
    "# Fit and transform\n",
    "embedding = embedding_model.fit_transform(A)\n",
    "\n",
    "print(\"Spectral Embedding:\")\n",
    "print(embedding.T)"
   ]
  },
  {
   "cell_type": "code",
   "execution_count": null,
   "id": "912861af",
   "metadata": {},
   "outputs": [],
   "source": []
  }
 ],
 "metadata": {
  "kernelspec": {
   "display_name": "cvf",
   "language": "python",
   "name": "python3"
  },
  "language_info": {
   "codemirror_mode": {
    "name": "ipython",
    "version": 3
   },
   "file_extension": ".py",
   "mimetype": "text/x-python",
   "name": "python",
   "nbconvert_exporter": "python",
   "pygments_lexer": "ipython3",
   "version": "3.12.2"
  }
 },
 "nbformat": 4,
 "nbformat_minor": 5
}
