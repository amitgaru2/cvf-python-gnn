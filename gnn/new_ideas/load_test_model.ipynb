{
 "cells": [
  {
   "cell_type": "code",
   "execution_count": 1,
   "id": "54b0fd5b",
   "metadata": {},
   "outputs": [],
   "source": [
    "import torch\n",
    "\n",
    "from torch.utils.data import DataLoader"
   ]
  },
  {
   "cell_type": "code",
   "execution_count": 2,
   "id": "63471ac3",
   "metadata": {},
   "outputs": [
    {
     "name": "stderr",
     "output_type": "stream",
     "text": [
      "Total configs: 32.\n",
      "Dataset: implicit_graph_n5 | Size: 25,935\n"
     ]
    }
   ],
   "source": [
    "from bert_scratch import TokenVectorBERT, mask_input_tokens, masked_mse_loss\n",
    "\n",
    "from dataset import CVFConfigForBertDataset"
   ]
  },
  {
   "cell_type": "code",
   "execution_count": 3,
   "id": "9a5ddbb8",
   "metadata": {},
   "outputs": [],
   "source": [
    "device = \"cuda\""
   ]
  },
  {
   "cell_type": "code",
   "execution_count": 4,
   "id": "57704e32",
   "metadata": {},
   "outputs": [],
   "source": [
    "model_name = \"bert_trained_at_2025_04_15_21_45\""
   ]
  },
  {
   "cell_type": "code",
   "execution_count": 5,
   "id": "96f8b74b",
   "metadata": {},
   "outputs": [
    {
     "data": {
      "text/plain": [
       "TokenVectorBERT(\n",
       "  (token_proj): Linear(in_features=5, out_features=64, bias=True)\n",
       "  (bert): BertModel(\n",
       "    (embeddings): BertEmbeddings(\n",
       "      (word_embeddings): Embedding(1, 64, padding_idx=0)\n",
       "      (position_embeddings): Embedding(128, 64)\n",
       "      (token_type_embeddings): Embedding(2, 64)\n",
       "      (LayerNorm): LayerNorm((64,), eps=1e-12, elementwise_affine=True)\n",
       "      (dropout): Dropout(p=0.1, inplace=False)\n",
       "    )\n",
       "    (encoder): BertEncoder(\n",
       "      (layer): ModuleList(\n",
       "        (0-1): 2 x BertLayer(\n",
       "          (attention): BertAttention(\n",
       "            (self): BertSdpaSelfAttention(\n",
       "              (query): Linear(in_features=64, out_features=64, bias=True)\n",
       "              (key): Linear(in_features=64, out_features=64, bias=True)\n",
       "              (value): Linear(in_features=64, out_features=64, bias=True)\n",
       "              (dropout): Dropout(p=0.1, inplace=False)\n",
       "            )\n",
       "            (output): BertSelfOutput(\n",
       "              (dense): Linear(in_features=64, out_features=64, bias=True)\n",
       "              (LayerNorm): LayerNorm((64,), eps=1e-12, elementwise_affine=True)\n",
       "              (dropout): Dropout(p=0.1, inplace=False)\n",
       "            )\n",
       "          )\n",
       "          (intermediate): BertIntermediate(\n",
       "            (dense): Linear(in_features=64, out_features=128, bias=True)\n",
       "            (intermediate_act_fn): GELUActivation()\n",
       "          )\n",
       "          (output): BertOutput(\n",
       "            (dense): Linear(in_features=128, out_features=64, bias=True)\n",
       "            (LayerNorm): LayerNorm((64,), eps=1e-12, elementwise_affine=True)\n",
       "            (dropout): Dropout(p=0.1, inplace=False)\n",
       "          )\n",
       "        )\n",
       "      )\n",
       "    )\n",
       "    (pooler): BertPooler(\n",
       "      (dense): Linear(in_features=64, out_features=64, bias=True)\n",
       "      (activation): Tanh()\n",
       "    )\n",
       "  )\n",
       "  (mlm_head): Linear(in_features=64, out_features=64, bias=True)\n",
       "  (decoder_proj): Linear(in_features=64, out_features=5, bias=True)\n",
       ")"
      ]
     },
     "execution_count": 5,
     "metadata": {},
     "output_type": "execute_result"
    }
   ],
   "source": [
    "# Model class must be defined somewhere\n",
    "model = torch.load(f\"trained_models/{model_name}.pt\", weights_only=False)\n",
    "model.eval()"
   ]
  },
  {
   "cell_type": "code",
   "execution_count": 11,
   "id": "d4165b04",
   "metadata": {},
   "outputs": [
    {
     "name": "stderr",
     "output_type": "stream",
     "text": [
      "Total configs: 32.\n"
     ]
    },
    {
     "name": "stdout",
     "output_type": "stream",
     "text": [
      "tensor([[ 9.7703,  0.1206,  0.2069,  0.0792,  0.9415],\n",
      "        [ 9.6442,  0.2406,  0.8976,  0.2811,  1.1030],\n",
      "        [13.4797, -0.0974,  0.9789,  0.7988,  0.4160],\n",
      "        [-1.0992, -1.0370, -1.0545, -1.0473, -1.0454]],\n",
      "       grad_fn=<IndexBackward0>) tensor([[ 9.,  0.,  0.,  0.,  1.],\n",
      "        [ 9.,  0.,  1.,  0.,  1.],\n",
      "        [12.,  0.,  1.,  1.,  0.],\n",
      "        [-1., -1., -1., -1., -1.]])\n",
      "Test dataset | Loss: 0.0000\n"
     ]
    }
   ],
   "source": [
    "model.eval()\n",
    "\n",
    "dataset = CVFConfigForBertDataset(\n",
    "    device,\n",
    "    \"implicit_graph_n5\",\n",
    "    \"implicit_graph_n5_pt_adj_list.txt\",\n",
    "    D=5,\n",
    "    program=\"dijkstra\",\n",
    ")\n",
    "loader = DataLoader(dataset, batch_size=1, shuffle=True)\n",
    "\n",
    "total_loss = 0.0\n",
    "for batch in loader:\n",
    "    x = batch[0]\n",
    "    attention_mask = batch[1]\n",
    "\n",
    "    masked_inputs, target_labels, loss_mask = mask_input_tokens(\n",
    "        x, model.mask_vector, mask_prob=0.15\n",
    "    )\n",
    "    logits = model(masked_inputs, attention_mask)\n",
    "    print(logits[loss_mask], target_labels[loss_mask])\n",
    "    loss = masked_mse_loss(logits, target_labels, loss_mask)\n",
    "    total_loss += loss\n",
    "    break\n",
    "\n",
    "print(f\"Test dataset | Loss: {total_loss.item()/ len(loader):.4f}\")"
   ]
  },
  {
   "cell_type": "code",
   "execution_count": null,
   "id": "7e9c20c4",
   "metadata": {},
   "outputs": [],
   "source": []
  }
 ],
 "metadata": {
  "kernelspec": {
   "display_name": "cvf",
   "language": "python",
   "name": "python3"
  },
  "language_info": {
   "codemirror_mode": {
    "name": "ipython",
    "version": 3
   },
   "file_extension": ".py",
   "mimetype": "text/x-python",
   "name": "python",
   "nbconvert_exporter": "python",
   "pygments_lexer": "ipython3",
   "version": "3.12.2"
  }
 },
 "nbformat": 4,
 "nbformat_minor": 5
}
