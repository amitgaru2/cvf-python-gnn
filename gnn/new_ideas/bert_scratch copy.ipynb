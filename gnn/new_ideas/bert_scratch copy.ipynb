{
 "cells": [
  {
   "cell_type": "code",
   "execution_count": 1,
   "id": "a2a6c1cd",
   "metadata": {},
   "outputs": [],
   "source": [
    "import torch\n",
    "import torch.nn as nn\n",
    "import torch.nn.functional as F\n",
    "\n",
    "from torch.utils.data import DataLoader\n",
    "from transformers import BertConfig, BertForMaskedLM, BertModel"
   ]
  },
  {
   "cell_type": "code",
   "execution_count": 2,
   "id": "c8b81241",
   "metadata": {},
   "outputs": [],
   "source": [
    "from dataset import CVFConfigForBertDataset"
   ]
  },
  {
   "cell_type": "code",
   "execution_count": 3,
   "id": "0a8f4f52",
   "metadata": {},
   "outputs": [],
   "source": [
    "class TokenVectorBERT(nn.Module):\n",
    "    def __init__(self, input_dim=3, vocab_dim=64, bert_hidden=64, max_seq_len=128):\n",
    "        super().__init__()\n",
    "\n",
    "        self.token_proj = nn.Linear(\n",
    "            input_dim, vocab_dim\n",
    "        )  # turn [0, 0, 2] into an embedding\n",
    "        self.config = BertConfig(\n",
    "            vocab_size=1,  # dummy, unused\n",
    "            hidden_size=bert_hidden,\n",
    "            num_hidden_layers=2,\n",
    "            num_attention_heads=2,\n",
    "            intermediate_size=bert_hidden * 2,\n",
    "            max_position_embeddings=max_seq_len,\n",
    "            pad_token_id=0,\n",
    "        )\n",
    "        self.bert = BertModel(self.config)\n",
    "        self.mlm_head = nn.Linear(bert_hidden, vocab_dim)\n",
    "        self.decoder_proj = nn.Linear(\n",
    "            vocab_dim, input_dim\n",
    "        )  # to project back to [0, 0, 2] space\n",
    "\n",
    "    def forward(self, input_vecs, attention_mask=None):\n",
    "        # input_vecs: (batch_size, seq_len, input_dim) like (2, 4, 3)\n",
    "        x = self.token_proj(input_vecs)  # (batch_size, seq_len, vocab_dim)\n",
    "        outputs = self.bert(inputs_embeds=x, attention_mask=attention_mask)\n",
    "        sequence_output = outputs.last_hidden_state\n",
    "        logits = self.mlm_head(sequence_output)\n",
    "        pred_token = self.decoder_proj(logits)\n",
    "        return pred_token"
   ]
  },
  {
   "cell_type": "code",
   "execution_count": 4,
   "id": "6ed17583",
   "metadata": {},
   "outputs": [],
   "source": [
    "device = \"cuda\""
   ]
  },
  {
   "cell_type": "code",
   "execution_count": 5,
   "id": "b99a1dd9",
   "metadata": {},
   "outputs": [],
   "source": [
    "# ----- Dummy Data -----\n",
    "batch_size = 2\n",
    "seq_len = 4\n",
    "token_dim = 4\n",
    "\n",
    "# Learnable MASK token (for masking positions)\n",
    "mask_vector = nn.Parameter(torch.zeros(token_dim))\n",
    "\n",
    "\n",
    "# ----- Masking Function -----\n",
    "def mask_input_tokens(inputs, mask_token, mask_prob=0.3):\n",
    "    inputs = inputs.clone()\n",
    "    labels = inputs.clone()\n",
    "    mask = torch.rand(inputs[:, :, 0].shape) < mask_prob  # shape: (B, T)\n",
    "\n",
    "    for i in range(inputs.size(0)):\n",
    "        for j in range(inputs.size(1)):\n",
    "            if mask[i, j]:\n",
    "                inputs[i, j] = mask_token\n",
    "\n",
    "    return inputs, labels, mask  # No NaNs here!\n",
    "\n",
    "\n",
    "def masked_mse_loss(pred, target, mask):\n",
    "    valid_tokens = mask.sum()\n",
    "    if valid_tokens == 0:\n",
    "        valid_tokens = 1e-8\n",
    "    loss = (pred - target) ** 2\n",
    "    loss = loss.mean(dim=-1)  # (B, T)\n",
    "    loss = loss * mask.float()\n",
    "\n",
    "    return loss.sum() / valid_tokens"
   ]
  },
  {
   "cell_type": "code",
   "execution_count": 6,
   "id": "8337e261",
   "metadata": {},
   "outputs": [
    {
     "name": "stderr",
     "output_type": "stream",
     "text": [
      "Total configs: 256.\n"
     ]
    }
   ],
   "source": [
    "dataset = CVFConfigForBertDataset(\n",
    "    device,\n",
    "    \"graph_random_regular_graph_n4_d3\",\n",
    "    \"graph_random_regular_graph_n4_d3_pt_adj_list.txt\",\n",
    ")\n",
    "\n",
    "loader = DataLoader(dataset, batch_size=2, shuffle=False)"
   ]
  },
  {
   "cell_type": "code",
   "execution_count": 7,
   "id": "af038898",
   "metadata": {},
   "outputs": [
    {
     "data": {
      "text/plain": [
       "336"
      ]
     },
     "execution_count": 7,
     "metadata": {},
     "output_type": "execute_result"
    }
   ],
   "source": [
    "len(loader)"
   ]
  },
  {
   "cell_type": "code",
   "execution_count": 8,
   "id": "0d42a840",
   "metadata": {},
   "outputs": [
    {
     "name": "stdout",
     "output_type": "stream",
     "text": [
      "\n",
      "Total parameters:84,356\n",
      "\n",
      "Epoch 1/100 | Loss: 0.0055\n",
      "Epoch 2/100 | Loss: 0.0026\n",
      "Epoch 3/100 | Loss: 0.0016\n",
      "Epoch 4/100 | Loss: 0.0007\n",
      "Epoch 5/100 | Loss: 0.0004\n",
      "Epoch 6/100 | Loss: 0.0000\n",
      "Epoch 7/100 | Loss: 0.0066\n",
      "Epoch 8/100 | Loss: 0.0029\n",
      "Epoch 9/100 | Loss: 0.0015\n",
      "Epoch 10/100 | Loss: 0.0014\n",
      "Epoch 11/100 | Loss: 0.0077\n",
      "Epoch 12/100 | Loss: 0.0000\n",
      "Epoch 13/100 | Loss: 0.0021\n",
      "Epoch 14/100 | Loss: 0.0039\n",
      "Epoch 15/100 | Loss: 0.0012\n",
      "Epoch 16/100 | Loss: 0.0013\n",
      "Epoch 17/100 | Loss: 0.0035\n",
      "Epoch 18/100 | Loss: 0.0029\n",
      "Epoch 19/100 | Loss: 0.0015\n",
      "Epoch 20/100 | Loss: 0.0032\n",
      "Epoch 21/100 | Loss: 0.0035\n",
      "Epoch 22/100 | Loss: 0.0022\n",
      "Epoch 23/100 | Loss: 0.0023\n",
      "Epoch 24/100 | Loss: 0.0029\n",
      "Epoch 25/100 | Loss: 0.0041\n",
      "Epoch 26/100 | Loss: 0.0024\n",
      "Epoch 27/100 | Loss: 0.0024\n",
      "Epoch 28/100 | Loss: 0.0032\n",
      "Epoch 29/100 | Loss: 0.0016\n",
      "Epoch 30/100 | Loss: 0.0022\n",
      "Epoch 31/100 | Loss: 0.0021\n",
      "Epoch 32/100 | Loss: 0.0024\n",
      "Epoch 33/100 | Loss: 0.0030\n",
      "Epoch 34/100 | Loss: 0.0023\n",
      "Epoch 35/100 | Loss: 0.0024\n",
      "Epoch 36/100 | Loss: 0.0005\n",
      "Epoch 37/100 | Loss: 0.0011\n",
      "Epoch 38/100 | Loss: 0.0033\n",
      "Epoch 39/100 | Loss: 0.0008\n",
      "Epoch 40/100 | Loss: 0.0032\n",
      "Epoch 41/100 | Loss: 0.0011\n",
      "Epoch 42/100 | Loss: 0.0036\n",
      "Epoch 43/100 | Loss: 0.0017\n",
      "Epoch 44/100 | Loss: 0.0041\n",
      "Epoch 45/100 | Loss: 0.0000\n",
      "Epoch 46/100 | Loss: 0.0038\n",
      "Epoch 47/100 | Loss: 0.0021\n",
      "Epoch 48/100 | Loss: 0.0028\n",
      "Epoch 49/100 | Loss: 0.0000\n",
      "Epoch 50/100 | Loss: 0.0008\n",
      "Epoch 51/100 | Loss: 0.0008\n",
      "Epoch 52/100 | Loss: 0.0038\n",
      "Epoch 53/100 | Loss: 0.0010\n",
      "Epoch 54/100 | Loss: 0.0039\n",
      "Epoch 55/100 | Loss: 0.0019\n",
      "Epoch 56/100 | Loss: 0.0005\n",
      "Epoch 57/100 | Loss: 0.0000\n",
      "Epoch 58/100 | Loss: 0.0022\n",
      "Epoch 59/100 | Loss: 0.0004\n",
      "Epoch 60/100 | Loss: 0.0016\n",
      "Epoch 61/100 | Loss: 0.0016\n",
      "Epoch 62/100 | Loss: 0.0023\n",
      "Epoch 63/100 | Loss: 0.0019\n",
      "Epoch 64/100 | Loss: 0.0005\n",
      "Epoch 65/100 | Loss: 0.0028\n",
      "Epoch 66/100 | Loss: 0.0036\n",
      "Epoch 67/100 | Loss: 0.0012\n",
      "Epoch 68/100 | Loss: 0.0017\n",
      "Epoch 69/100 | Loss: 0.0006\n",
      "Epoch 70/100 | Loss: 0.0022\n",
      "Epoch 71/100 | Loss: 0.0021\n",
      "Epoch 72/100 | Loss: 0.0003\n",
      "Epoch 73/100 | Loss: 0.0018\n",
      "Epoch 74/100 | Loss: 0.0031\n",
      "Epoch 75/100 | Loss: 0.0008\n",
      "Epoch 76/100 | Loss: 0.0023\n",
      "Epoch 77/100 | Loss: 0.0039\n",
      "Epoch 78/100 | Loss: 0.0016\n",
      "Epoch 79/100 | Loss: 0.0044\n",
      "Epoch 80/100 | Loss: 0.0000\n",
      "Epoch 81/100 | Loss: 0.0027\n",
      "Epoch 82/100 | Loss: 0.0006\n",
      "Epoch 83/100 | Loss: 0.0000\n",
      "Epoch 84/100 | Loss: 0.0020\n",
      "Epoch 85/100 | Loss: 0.0028\n",
      "Epoch 86/100 | Loss: 0.0000\n",
      "Epoch 87/100 | Loss: 0.0030\n",
      "Epoch 88/100 | Loss: 0.0024\n",
      "Epoch 89/100 | Loss: 0.0012\n",
      "Epoch 90/100 | Loss: 0.0011\n",
      "Epoch 91/100 | Loss: 0.0022\n",
      "Epoch 92/100 | Loss: 0.0027\n",
      "Epoch 93/100 | Loss: 0.0021\n",
      "Epoch 94/100 | Loss: 0.0008\n",
      "Epoch 95/100 | Loss: 0.0024\n",
      "Epoch 96/100 | Loss: 0.0029\n",
      "Epoch 97/100 | Loss: 0.0014\n",
      "Epoch 98/100 | Loss: 0.0010\n",
      "Epoch 99/100 | Loss: 0.0000\n",
      "Epoch 100/100 | Loss: 0.0010\n"
     ]
    }
   ],
   "source": [
    "model = TokenVectorBERT(input_dim=token_dim, vocab_dim=64, bert_hidden=64)\n",
    "print()\n",
    "print(\"Total parameters:{:,}\".format(sum(p.numel() for p in model.parameters())))\n",
    "print()\n",
    "optimizer = torch.optim.AdamW(model.parameters(), lr=5e-4)\n",
    "# optimizer = torch.optim.Adam(model.parameters(), lr=1e-3, weight_decay=1e-4)\n",
    "\n",
    "epochs = 100\n",
    "\n",
    "# print(\"inputs\", inputs)\n",
    "# print(\"mask_vector\", mask_vector)\n",
    "# print()\n",
    "\n",
    "for epoch in range(epochs):\n",
    "    model.train()\n",
    "\n",
    "    total_loss = 0.0\n",
    "\n",
    "    for batch in loader:\n",
    "        x = batch[0]\n",
    "        attention_mask = batch[1]\n",
    "\n",
    "        masked_inputs, target_labels, loss_mask = mask_input_tokens(\n",
    "            x, mask_vector, mask_prob=0.3\n",
    "        )\n",
    "\n",
    "        logits = model(masked_inputs, attention_mask)\n",
    "\n",
    "        # Compute loss only on masked positions\n",
    "        loss = masked_mse_loss(logits, target_labels, loss_mask)\n",
    "        loss.backward()\n",
    "        optimizer.step()\n",
    "        optimizer.zero_grad()\n",
    "        total_loss += loss\n",
    "        break\n",
    "\n",
    "    print(f\"Epoch {epoch+1}/{epochs} | Loss: {total_loss.item()/ len(loader):.4f}\")"
   ]
  },
  {
   "cell_type": "code",
   "execution_count": 18,
   "id": "9c885f3a",
   "metadata": {},
   "outputs": [
    {
     "name": "stdout",
     "output_type": "stream",
     "text": [
      "target tensor([[ 1.,  3.,  3.,  1.],\n",
      "        [-1., -1., -1., -1.]])\n",
      "predicted tensor([[0.5192, 0.4644, 0.4470, 0.3425],\n",
      "        [0.6723, 1.1507, 0.8315, 0.4656]], grad_fn=<IndexBackward0>)\n"
     ]
    }
   ],
   "source": [
    "model.eval()\n",
    "\n",
    "loader = DataLoader(dataset, batch_size=1, shuffle=True)\n",
    "\n",
    "for batch in loader:\n",
    "    x = batch[0]\n",
    "    attention_mask = batch[1]\n",
    "    masked_inputs, target_labels, loss_mask = mask_input_tokens(\n",
    "        x, mask_vector, mask_prob=0.4\n",
    "    )\n",
    "    logits = model(masked_inputs, attention_mask)\n",
    "    if loss_mask.any():\n",
    "        print(\"target\", target_labels[loss_mask])\n",
    "        print(\"predicted\", logits[loss_mask])\n",
    "        break"
   ]
  },
  {
   "cell_type": "code",
   "execution_count": null,
   "id": "e5bddc63",
   "metadata": {},
   "outputs": [],
   "source": []
  }
 ],
 "metadata": {
  "kernelspec": {
   "display_name": "cvf",
   "language": "python",
   "name": "python3"
  },
  "language_info": {
   "codemirror_mode": {
    "name": "ipython",
    "version": 3
   },
   "file_extension": ".py",
   "mimetype": "text/x-python",
   "name": "python",
   "nbconvert_exporter": "python",
   "pygments_lexer": "ipython3",
   "version": "3.12.2"
  }
 },
 "nbformat": 4,
 "nbformat_minor": 5
}
