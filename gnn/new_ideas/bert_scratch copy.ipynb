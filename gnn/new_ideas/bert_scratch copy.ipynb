{
 "cells": [
  {
   "cell_type": "code",
   "execution_count": 1,
   "id": "a2a6c1cd",
   "metadata": {},
   "outputs": [],
   "source": [
    "import torch\n",
    "import torch.nn as nn\n",
    "\n",
    "from torch.utils.data import DataLoader, random_split\n",
    "from transformers import BertConfig, BertForMaskedLM, BertModel"
   ]
  },
  {
   "cell_type": "code",
   "execution_count": 2,
   "id": "c8b81241",
   "metadata": {},
   "outputs": [],
   "source": [
    "from dataset import CVFConfigForBertDataset"
   ]
  },
  {
   "cell_type": "code",
   "execution_count": 3,
   "id": "3db37170",
   "metadata": {},
   "outputs": [],
   "source": [
    "device = \"cuda\""
   ]
  },
  {
   "cell_type": "code",
   "execution_count": 4,
   "id": "0a8f4f52",
   "metadata": {},
   "outputs": [],
   "source": [
    "class TokenVectorBERT(nn.Module):\n",
    "\n",
    "    def __init__(self, input_dim, vocab_dim=64, bert_hidden=64, max_seq_len=128):\n",
    "        super().__init__()\n",
    "        # Learnable MASK token (for masking positions)\n",
    "        self.mask_vector = nn.Parameter(torch.zeros(input_dim), requires_grad=True)\n",
    "        self.token_proj = nn.Linear(\n",
    "            input_dim, vocab_dim\n",
    "        )  # turn [0, 0, 2] into an embedding\n",
    "        self.config = BertConfig(\n",
    "            vocab_size=1,  # dummy, unused\n",
    "            hidden_size=bert_hidden,\n",
    "            num_hidden_layers=2,\n",
    "            num_attention_heads=2,\n",
    "            intermediate_size=bert_hidden * 2,\n",
    "            max_position_embeddings=max_seq_len,\n",
    "            pad_token_id=0,\n",
    "        )\n",
    "        self.bert = BertModel(self.config)\n",
    "        self.mlm_head = nn.Linear(bert_hidden, vocab_dim)\n",
    "        self.decoder_proj = nn.Linear(vocab_dim, input_dim)\n",
    "\n",
    "    def forward(self, input_vecs, attention_mask=None):\n",
    "        # input_vecs: (batch_size, seq_len, input_dim) like (2, 4, 3)\n",
    "        x = self.token_proj(input_vecs)  # (batch_size, seq_len, vocab_dim)\n",
    "        outputs = self.bert(inputs_embeds=x, attention_mask=attention_mask)\n",
    "        sequence_output = outputs.last_hidden_state\n",
    "        logits = self.mlm_head(sequence_output)\n",
    "        pred_token = self.decoder_proj(logits)\n",
    "        return pred_token"
   ]
  },
  {
   "cell_type": "code",
   "execution_count": 5,
   "id": "e4f25ddc",
   "metadata": {},
   "outputs": [],
   "source": [
    "# Learnable MASK token (for masking positions)\n",
    "# mask_vector = nn.Parameter(torch.zeros(token_dim), requires_grad=True)"
   ]
  },
  {
   "cell_type": "code",
   "execution_count": 6,
   "id": "b99a1dd9",
   "metadata": {},
   "outputs": [],
   "source": [
    "# ----- Masking Function -----\n",
    "def mask_input_tokens(inputs, mask_vector, mask_prob=0.3):\n",
    "    labels = inputs.clone()\n",
    "    masked_inputs = inputs.clone()\n",
    "    b_mask = torch.rand(masked_inputs[:, :, 0].shape) < mask_prob  # shape: (B, T)\n",
    "\n",
    "    # for i, mb in enumerate(mask_before):\n",
    "    #     b_mask[i, mb:] = False  # do not mask the padded vectors\n",
    "\n",
    "    for i in range(masked_inputs.size(0)):\n",
    "        for j in range(masked_inputs.size(1)):\n",
    "            if b_mask[i, j]:\n",
    "                masked_inputs[i, j] = mask_vector\n",
    "\n",
    "    return masked_inputs, labels, b_mask\n",
    "\n",
    "\n",
    "def masked_mse_loss(pred, target, mask):\n",
    "    valid_tokens = mask.sum()\n",
    "    if valid_tokens == 0:\n",
    "        valid_tokens = 1e-8\n",
    "    loss = (pred - target) ** 2\n",
    "    loss = loss.mean(dim=-1)  # (B, T)\n",
    "    loss = loss * mask.float()\n",
    "\n",
    "    return loss.sum() / valid_tokens"
   ]
  },
  {
   "cell_type": "code",
   "execution_count": 7,
   "id": "1ec9790c",
   "metadata": {},
   "outputs": [],
   "source": [
    "batch_size = 64"
   ]
  },
  {
   "cell_type": "code",
   "execution_count": 8,
   "id": "8337e261",
   "metadata": {},
   "outputs": [
    {
     "name": "stderr",
     "output_type": "stream",
     "text": [
      "Total configs: 4,096.\n"
     ]
    }
   ],
   "source": [
    "# dataset = CVFConfigForBertDataset(\n",
    "#     device,\n",
    "#     \"graph_random_regular_graph_n4_d3\",\n",
    "#     \"graph_random_regular_graph_n4_d3_pt_adj_list.txt\",\n",
    "#     D=4,\n",
    "# )\n",
    "\n",
    "dataset = CVFConfigForBertDataset(\n",
    "    device,\n",
    "    \"graph_random_regular_graph_n6_d3\",\n",
    "    \"graph_random_regular_graph_n6_d3_pt_adj_list.txt\",\n",
    "    D=6,\n",
    ")\n"
   ]
  },
  {
   "cell_type": "code",
   "execution_count": 9,
   "id": "207607b5",
   "metadata": {},
   "outputs": [
    {
     "name": "stdout",
     "output_type": "stream",
     "text": [
      "52,619\n"
     ]
    }
   ],
   "source": [
    "print(f\"{len(dataset):,}\")"
   ]
  },
  {
   "cell_type": "code",
   "execution_count": 10,
   "id": "2ebdc18e",
   "metadata": {},
   "outputs": [],
   "source": [
    "train_size = int(0.80 * len(dataset))\n",
    "test_size = len(dataset) - train_size\n",
    "train_dataset, test_dataset = random_split(dataset, [train_size, test_size])"
   ]
  },
  {
   "cell_type": "code",
   "execution_count": 11,
   "id": "2f61f101",
   "metadata": {},
   "outputs": [],
   "source": [
    "loader = DataLoader(train_dataset, batch_size=batch_size, shuffle=True)"
   ]
  },
  {
   "cell_type": "code",
   "execution_count": null,
   "id": "0d42a840",
   "metadata": {},
   "outputs": [
    {
     "name": "stdout",
     "output_type": "stream",
     "text": [
      "Total parameters: 7,340\n",
      "Epoch 1/20 | Loss: 1.1914\n",
      "Epoch 2/20 | Loss: 0.7443\n"
     ]
    }
   ],
   "source": [
    "model = TokenVectorBERT(input_dim=dataset.D, vocab_dim=16, bert_hidden=16)\n",
    "\n",
    "print(\"Total parameters: {:,}\".format(sum(p.numel() for p in model.parameters())))\n",
    "\n",
    "optimizer = torch.optim.AdamW(model.parameters(), lr=5e-4)\n",
    "\n",
    "epochs = 20\n",
    "\n",
    "model.train()\n",
    "for epoch in range(epochs):\n",
    "    total_loss = 0.0\n",
    "    for batch in loader:\n",
    "        x = batch[0]\n",
    "        attention_mask = batch[1]\n",
    "        masked_inputs, target_labels, loss_mask = mask_input_tokens(\n",
    "            x, model.mask_vector, mask_prob=0.15\n",
    "        )\n",
    "\n",
    "        logits = model(masked_inputs, attention_mask)\n",
    "\n",
    "        # Compute loss only on masked positions\n",
    "        optimizer.zero_grad()\n",
    "        loss = masked_mse_loss(logits, target_labels, loss_mask)\n",
    "        loss.backward()\n",
    "        optimizer.step()\n",
    "        total_loss += loss\n",
    "\n",
    "    print(f\"Epoch {epoch+1}/{epochs} | Loss: {total_loss.item()/ len(loader):.4f}\")"
   ]
  },
  {
   "cell_type": "code",
   "execution_count": null,
   "id": "9c885f3a",
   "metadata": {},
   "outputs": [
    {
     "name": "stdout",
     "output_type": "stream",
     "text": [
      "Test dataset | Loss: 0.6651\n"
     ]
    }
   ],
   "source": [
    "model.eval()\n",
    "\n",
    "loader = DataLoader(test_dataset, batch_size=1024, shuffle=False)\n",
    "\n",
    "total_loss = 0.0\n",
    "for batch in loader:\n",
    "    x = batch[0]\n",
    "    attention_mask = batch[1]\n",
    "\n",
    "    masked_inputs, target_labels, loss_mask = mask_input_tokens(\n",
    "        x, model.mask_vector, mask_prob=0.15\n",
    "    )\n",
    "    logits = model(masked_inputs, attention_mask)\n",
    "    loss = masked_mse_loss(logits, target_labels, loss_mask)\n",
    "    total_loss += loss\n",
    "\n",
    "print(f\"Test dataset | Loss: {total_loss.item()/ len(loader):.4f}\")"
   ]
  },
  {
   "cell_type": "code",
   "execution_count": null,
   "id": "bceb57c3",
   "metadata": {},
   "outputs": [],
   "source": []
  }
 ],
 "metadata": {
  "kernelspec": {
   "display_name": "cvf",
   "language": "python",
   "name": "python3"
  },
  "language_info": {
   "codemirror_mode": {
    "name": "ipython",
    "version": 3
   },
   "file_extension": ".py",
   "mimetype": "text/x-python",
   "name": "python",
   "nbconvert_exporter": "python",
   "pygments_lexer": "ipython3",
   "version": "3.12.2"
  }
 },
 "nbformat": 4,
 "nbformat_minor": 5
}
