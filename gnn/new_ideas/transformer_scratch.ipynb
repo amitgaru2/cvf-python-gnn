{
 "cells": [
  {
   "cell_type": "code",
   "execution_count": 1,
   "id": "1b5bd7b4",
   "metadata": {},
   "outputs": [],
   "source": [
    "import math\n",
    "\n",
    "import torch\n",
    "import torch.nn as nn\n",
    "import torch.optim as optim"
   ]
  },
  {
   "cell_type": "code",
   "execution_count": 2,
   "id": "93faa8d4",
   "metadata": {},
   "outputs": [],
   "source": [
    "class PositionalEncoding(nn.Module):\n",
    "    def __init__(self, d_model, max_len=5000):\n",
    "        super(PositionalEncoding, self).__init__()\n",
    "\n",
    "        pe = torch.zeros(max_len, d_model)\n",
    "        position = torch.arange(0, max_len).float().unsqueeze(1)\n",
    "        div_term = torch.exp(\n",
    "            torch.arange(0, d_model, 2).float() * -(math.log(10000.0) / d_model)\n",
    "        )\n",
    "\n",
    "        pe[:, 0::2] = torch.sin(position * div_term)\n",
    "        pe[:, 1::2] = torch.cos(position * div_term)\n",
    "\n",
    "        pe = pe.unsqueeze(0)\n",
    "        self.register_buffer(\"pe\", pe)\n",
    "\n",
    "    def forward(self, x):\n",
    "        seq_len = x.size(1)\n",
    "        return x + self.pe[:, :seq_len]"
   ]
  },
  {
   "cell_type": "code",
   "execution_count": 3,
   "id": "abc07cc2",
   "metadata": {},
   "outputs": [
    {
     "data": {
      "text/plain": [
       "torch.Size([2, 2, 10])"
      ]
     },
     "execution_count": 3,
     "metadata": {},
     "output_type": "execute_result"
    }
   ],
   "source": [
    "pe = PositionalEncoding(10)\n",
    "src = torch.randint(0, 5, (2, 2, 10))  # Random token IDs as input\n",
    "pe(src).shape"
   ]
  },
  {
   "cell_type": "code",
   "execution_count": 4,
   "id": "bd5f7aa0",
   "metadata": {},
   "outputs": [],
   "source": [
    "class EmbeddingProjectionModel(nn.Module):\n",
    "    def __init__(self, input_dim, output_dim):\n",
    "        super(EmbeddingProjectionModel, self).__init__()\n",
    "        self.projection = nn.Linear(input_dim, output_dim)  # Project Z to D\n",
    "    \n",
    "    def forward(self, x):\n",
    "        # Apply the linear transformation to the input tensor\n",
    "        return self.projection(x)  # Output shape: (B, S, D)"
   ]
  },
  {
   "cell_type": "code",
   "execution_count": 5,
   "id": "29a0f22b",
   "metadata": {},
   "outputs": [],
   "source": [
    "class SimpleTransformer(nn.Module):\n",
    "    def __init__(\n",
    "        self,\n",
    "        vocab_size,\n",
    "        d_model,\n",
    "        nhead,\n",
    "        num_encoder_layers,\n",
    "        dim_feedforward,\n",
    "        max_len=5000,\n",
    "    ):\n",
    "        super(SimpleTransformer, self).__init__()\n",
    "\n",
    "        # Word Embeddings Layer\n",
    "        self.embedding = EmbeddingProjectionModel(3, d_model)\n",
    "\n",
    "        # Positional Encoding\n",
    "        self.positional_encoding = PositionalEncoding(d_model, max_len)\n",
    "\n",
    "        # Transformer Encoder Layer\n",
    "        self.transformer_encoder_layer = nn.TransformerEncoderLayer(\n",
    "            d_model=d_model,\n",
    "            nhead=nhead,\n",
    "            dim_feedforward=dim_feedforward,\n",
    "            batch_first=True,\n",
    "        )\n",
    "\n",
    "        self.transformer_encoder = nn.TransformerEncoder(\n",
    "            self.transformer_encoder_layer, num_layers=num_encoder_layers\n",
    "        )\n",
    "\n",
    "        # Output Layer: For Language Modeling (next token prediction)\n",
    "        self.output_layer = nn.Linear(d_model, 1)\n",
    "\n",
    "    def forward(self, src, attention_mask):\n",
    "        # src shape: (batch_size, seq_len)\n",
    "\n",
    "        # Embed the input\n",
    "        src = self.embedding(src)  # (batch_size, seq_len, d_model)\n",
    "\n",
    "        # Add positional encoding\n",
    "        src = self.positional_encoding(src)  # (batch_size, seq_len, d_model)\n",
    "\n",
    "        # Transform the input using Transformer Encoder\n",
    "        memory = self.transformer_encoder(\n",
    "            src.transpose(0, 1), src_key_padding_mask=attention_mask.transpose(0, 1)\n",
    "        )  # (seq_len, batch_size, d_model)\n",
    "\n",
    "        # Final output layer\n",
    "        output = self.output_layer(\n",
    "            memory.transpose(0, 1)\n",
    "        )  # (batch_size, seq_len, vocab_size)\n",
    "\n",
    "        return output"
   ]
  },
  {
   "cell_type": "code",
   "execution_count": null,
   "id": "1c35d9ac",
   "metadata": {},
   "outputs": [
    {
     "name": "stdout",
     "output_type": "stream",
     "text": [
      "src torch.Size([2, 2, 3])\n",
      "attention_mask torch.Size([2, 2])\n",
      "tensor([[[0.8675],\n",
      "         [0.9520]],\n",
      "\n",
      "        [[0.9310],\n",
      "         [0.8122]]], grad_fn=<AddBackward0>)\n"
     ]
    }
   ],
   "source": [
    "# Example usage\n",
    "vocab_size = 1_000  # Size of vocabulary\n",
    "d_model = 4  # Embedding dimension (also used in Transformer)\n",
    "nhead = 2  # Number of attention heads\n",
    "num_encoder_layers = 6  # Number of layers in the Transformer Encoder\n",
    "dim_feedforward = 2048  # Feedforward layer dimension\n",
    "max_len = 100  # Max sequence length\n",
    "N = 3\n",
    "\n",
    "# Initialize the model\n",
    "model = SimpleTransformer(\n",
    "    vocab_size, d_model, nhead, num_encoder_layers, dim_feedforward, max_len\n",
    ")\n",
    "\n",
    "# Example input: a batch of tokenized sequences of shape (batch_size, seq_len)\n",
    "batch_size = 2\n",
    "seq_len = 2  # Length of each input sequence\n",
    "src = torch.randint(0, vocab_size, (batch_size, seq_len, N)).to(\n",
    "    torch.float32\n",
    ")  # Random token IDs as input\n",
    "\n",
    "print(\"src\", src.shape)\n",
    "attention_mask = torch.full((batch_size, seq_len), True)\n",
    "# Forward pass through the model\n",
    "output = model(src, attention_mask)\n",
    "print(output)  # Expected shape: (batch_size, seq_len, vocab_size)"
   ]
  },
  {
   "cell_type": "code",
   "execution_count": null,
   "id": "9d759d5b",
   "metadata": {},
   "outputs": [],
   "source": []
  }
 ],
 "metadata": {
  "kernelspec": {
   "display_name": "cvf",
   "language": "python",
   "name": "python3"
  },
  "language_info": {
   "codemirror_mode": {
    "name": "ipython",
    "version": 3
   },
   "file_extension": ".py",
   "mimetype": "text/x-python",
   "name": "python",
   "nbconvert_exporter": "python",
   "pygments_lexer": "ipython3",
   "version": "3.12.2"
  }
 },
 "nbformat": 4,
 "nbformat_minor": 5
}
