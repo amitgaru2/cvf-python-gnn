{
 "cells": [
  {
   "cell_type": "code",
   "execution_count": 1,
   "metadata": {},
   "outputs": [],
   "source": [
    "import torch\n",
    "\n",
    "\n",
    "from torch_geometric.nn import GCNConv\n",
    "from torch_geometric.utils import to_dense_adj\n",
    "from torch.utils.data import DataLoader, random_split\n",
    "\n",
    "from torch_geometric.nn.pool import global_mean_pool, global_max_pool, global_add_pool"
   ]
  },
  {
   "cell_type": "code",
   "execution_count": 2,
   "metadata": {},
   "outputs": [],
   "source": [
    "from helpers import CVFConfigDataset"
   ]
  },
  {
   "cell_type": "code",
   "execution_count": 3,
   "metadata": {},
   "outputs": [],
   "source": [
    "class VanillaGNNLayer(torch.nn.Module):\n",
    "    def __init__(self, dim_in, dim_out):\n",
    "        super().__init__()\n",
    "        self.linear = torch.nn.Linear(dim_in, dim_out, bias=False)\n",
    "\n",
    "    def forward(self, x, adjacency):\n",
    "        x = self.linear(x)\n",
    "        # x = torch.sparse.mm(adjacency, x)\n",
    "        x = torch.matmul(adjacency, x)\n",
    "        return x"
   ]
  },
  {
   "cell_type": "code",
   "execution_count": 4,
   "metadata": {},
   "outputs": [],
   "source": [
    "# dataset = CVFConfigDataset(\n",
    "#     \"small_graph_test_config_rank_dataset.csv\", \"small_graph_edge_index.json\", 4\n",
    "# )\n",
    "# dataset = CVFConfigDataset(\n",
    "#     \"graph_1_config_rank_dataset.csv\", \"graph_1_edge_index.json\", 10\n",
    "# )\n",
    "# dataset = CVFConfigDataset(\n",
    "#     \"graph_4_config_rank_dataset.csv\", \"graph_4_edge_index.json\", 10\n",
    "# )\n",
    "# dataset = CVFConfigDataset(\n",
    "#     \"graph_5_config_rank_dataset.csv\", \"graph_5_edge_index.json\", 9\n",
    "# )\n",
    "dataset = CVFConfigDataset(\n",
    "    \"graph_6b_config_rank_dataset.csv\", \"graph_6b_edge_index.json\", 5\n",
    ")\n",
    "# dataset = CVFConfigDataset(\n",
    "#     \"graph_powerlaw_cluster_graph_n9_config_rank_dataset.csv\",\n",
    "#     \"graph_powerlaw_cluster_graph_n9_edge_index.json\",\n",
    "#     8\n",
    "# )\n",
    "# dataset = CVFConfigDataset(\n",
    "#     \"graph_powerlaw_cluster_graph_n12_config_rank_dataset.csv\",\n",
    "#     \"graph_powerlaw_cluster_graph_n12_edge_index.json\",\n",
    "#     10\n",
    "# )\n",
    "train_size = int(0.75 * len(dataset))\n",
    "test_size = len(dataset) - train_size\n",
    "train_dataset, test_dataset = random_split(dataset, [train_size, test_size])\n",
    "\n",
    "train_loader = DataLoader(train_dataset, batch_size=64, shuffle=True)\n",
    "test_loader = DataLoader(test_dataset, batch_size=1024, shuffle=False)\n",
    "# data_loader = DataLoader(dataset, batch_size=128, shuffle=False)"
   ]
  },
  {
   "cell_type": "code",
   "execution_count": 5,
   "metadata": {},
   "outputs": [
    {
     "data": {
      "text/plain": [
       "device(type='cuda')"
      ]
     },
     "execution_count": 5,
     "metadata": {},
     "output_type": "execute_result"
    }
   ],
   "source": [
    "device = torch.device('cuda' if torch.cuda.is_available() else 'cpu')\n",
    "device"
   ]
  },
  {
   "cell_type": "code",
   "execution_count": 6,
   "metadata": {},
   "outputs": [],
   "source": [
    "class VanillaGNN(torch.nn.Module):\n",
    "    def __init__(self, dim_in, dim_h, dim_out):\n",
    "        super().__init__()\n",
    "        self.gcn1 = GCNConv(dim_in, dim_h)\n",
    "        self.gcn2 = GCNConv(dim_h, dim_h)\n",
    "        self.out = torch.nn.Linear(dim_h, dim_out)\n",
    "\n",
    "    def forward(self, x, edge_index):\n",
    "        h = self.gcn1(x, edge_index)\n",
    "        h = torch.relu(h)\n",
    "        h = self.gcn2(h, edge_index)\n",
    "        h = torch.relu(h)\n",
    "        h = self.out(h)\n",
    "        h = global_mean_pool(h, torch.zeros(h.size(1)).to(device).long())\n",
    "        return h\n",
    "\n",
    "    def fit(self, data_loader, epochs):\n",
    "        # criterion = torch.nn.CrossEntrop yLoss()\n",
    "        # criterion = torch.nn.MSELoss()\n",
    "        criterion_sum = torch.nn.MSELoss(reduction='sum')\n",
    "        optimizer = torch.optim.Adam(self.parameters(), lr=0.01, weight_decay=5e-4)\n",
    "        self.train()\n",
    "        edge_index = dataset.edge_index.t().to(device)\n",
    "        for epoch in range(1, epochs + 1):\n",
    "            total_loss = 0\n",
    "            count = 0\n",
    "            max_loss = -1\n",
    "            for _, batch in enumerate(data_loader, 1):\n",
    "                x = batch[0].to(device)\n",
    "                y = batch[1].to(device)\n",
    "                y = y.unsqueeze(0).reshape(-1, 1, 1).float()\n",
    "                optimizer.zero_grad()\n",
    "                out = self(x, edge_index)\n",
    "                # print(\"output\", out, \"y\", y)\n",
    "                # loss = criterion(out, y)\n",
    "                loss = criterion_sum(out, y)\n",
    "                total_loss += loss\n",
    "                avg_loss = loss/len(batch)\n",
    "                if avg_loss > max_loss:\n",
    "                    max_loss = avg_loss\n",
    "                count += len(batch)\n",
    "                loss.backward()\n",
    "                optimizer.step()\n",
    "                # if i % 10 == 0:\n",
    "                #     print(\"Iter\", i, \"| Loss:\", avg_loss / count)\n",
    "\n",
    "            print(\"Epoch\", epoch, \"| Loss:\", total_loss / count, \"| Max Loss:\", max_loss)\n"
   ]
  },
  {
   "cell_type": "code",
   "execution_count": 7,
   "metadata": {},
   "outputs": [
    {
     "name": "stdout",
     "output_type": "stream",
     "text": [
      "VanillaGNN(\n",
      "  (gcn1): GCNConv(5, 128)\n",
      "  (gcn2): GCNConv(128, 128)\n",
      "  (out): Linear(in_features=128, out_features=1, bias=True)\n",
      ")\n",
      "Epoch 1 | Loss: tensor(29.0039, device='cuda:0', grad_fn=<DivBackward0>) | Max Loss: tensor(168.3417, device='cuda:0', grad_fn=<DivBackward0>)\n",
      "Epoch 2 | Loss: tensor(10.5192, device='cuda:0', grad_fn=<DivBackward0>) | Max Loss: tensor(20.6254, device='cuda:0', grad_fn=<DivBackward0>)\n",
      "Epoch 3 | Loss: tensor(9.4408, device='cuda:0', grad_fn=<DivBackward0>) | Max Loss: tensor(18.5399, device='cuda:0', grad_fn=<DivBackward0>)\n",
      "Epoch 4 | Loss: tensor(7.9881, device='cuda:0', grad_fn=<DivBackward0>) | Max Loss: tensor(14.3746, device='cuda:0', grad_fn=<DivBackward0>)\n",
      "Epoch 5 | Loss: tensor(6.4805, device='cuda:0', grad_fn=<DivBackward0>) | Max Loss: tensor(11.2032, device='cuda:0', grad_fn=<DivBackward0>)\n",
      "Epoch 6 | Loss: tensor(5.1575, device='cuda:0', grad_fn=<DivBackward0>) | Max Loss: tensor(11.7226, device='cuda:0', grad_fn=<DivBackward0>)\n",
      "Epoch 7 | Loss: tensor(4.3599, device='cuda:0', grad_fn=<DivBackward0>) | Max Loss: tensor(8.8129, device='cuda:0', grad_fn=<DivBackward0>)\n",
      "Epoch 8 | Loss: tensor(3.5295, device='cuda:0', grad_fn=<DivBackward0>) | Max Loss: tensor(9.5097, device='cuda:0', grad_fn=<DivBackward0>)\n",
      "Epoch 9 | Loss: tensor(3.0890, device='cuda:0', grad_fn=<DivBackward0>) | Max Loss: tensor(6.0971, device='cuda:0', grad_fn=<DivBackward0>)\n",
      "Epoch 10 | Loss: tensor(2.5444, device='cuda:0', grad_fn=<DivBackward0>) | Max Loss: tensor(5.0878, device='cuda:0', grad_fn=<DivBackward0>)\n",
      "Epoch 11 | Loss: tensor(2.6387, device='cuda:0', grad_fn=<DivBackward0>) | Max Loss: tensor(5.6314, device='cuda:0', grad_fn=<DivBackward0>)\n",
      "Epoch 12 | Loss: tensor(2.2292, device='cuda:0', grad_fn=<DivBackward0>) | Max Loss: tensor(6.1012, device='cuda:0', grad_fn=<DivBackward0>)\n",
      "Epoch 13 | Loss: tensor(2.2791, device='cuda:0', grad_fn=<DivBackward0>) | Max Loss: tensor(5.2580, device='cuda:0', grad_fn=<DivBackward0>)\n",
      "Epoch 14 | Loss: tensor(1.8949, device='cuda:0', grad_fn=<DivBackward0>) | Max Loss: tensor(4.1711, device='cuda:0', grad_fn=<DivBackward0>)\n",
      "Epoch 15 | Loss: tensor(1.8213, device='cuda:0', grad_fn=<DivBackward0>) | Max Loss: tensor(4.7941, device='cuda:0', grad_fn=<DivBackward0>)\n",
      "Epoch 16 | Loss: tensor(1.7562, device='cuda:0', grad_fn=<DivBackward0>) | Max Loss: tensor(4.6892, device='cuda:0', grad_fn=<DivBackward0>)\n",
      "Epoch 17 | Loss: tensor(1.6351, device='cuda:0', grad_fn=<DivBackward0>) | Max Loss: tensor(4.0084, device='cuda:0', grad_fn=<DivBackward0>)\n",
      "Epoch 18 | Loss: tensor(1.7886, device='cuda:0', grad_fn=<DivBackward0>) | Max Loss: tensor(5.3726, device='cuda:0', grad_fn=<DivBackward0>)\n",
      "Epoch 19 | Loss: tensor(1.8418, device='cuda:0', grad_fn=<DivBackward0>) | Max Loss: tensor(4.4681, device='cuda:0', grad_fn=<DivBackward0>)\n",
      "Epoch 20 | Loss: tensor(1.5246, device='cuda:0', grad_fn=<DivBackward0>) | Max Loss: tensor(3.4397, device='cuda:0', grad_fn=<DivBackward0>)\n",
      "Epoch 21 | Loss: tensor(1.4587, device='cuda:0', grad_fn=<DivBackward0>) | Max Loss: tensor(3.9308, device='cuda:0', grad_fn=<DivBackward0>)\n",
      "Epoch 22 | Loss: tensor(1.7149, device='cuda:0', grad_fn=<DivBackward0>) | Max Loss: tensor(4.7052, device='cuda:0', grad_fn=<DivBackward0>)\n",
      "Epoch 23 | Loss: tensor(1.5619, device='cuda:0', grad_fn=<DivBackward0>) | Max Loss: tensor(3.5853, device='cuda:0', grad_fn=<DivBackward0>)\n",
      "Epoch 24 | Loss: tensor(1.6802, device='cuda:0', grad_fn=<DivBackward0>) | Max Loss: tensor(4.4849, device='cuda:0', grad_fn=<DivBackward0>)\n",
      "Epoch 25 | Loss: tensor(1.3071, device='cuda:0', grad_fn=<DivBackward0>) | Max Loss: tensor(3.8498, device='cuda:0', grad_fn=<DivBackward0>)\n"
     ]
    }
   ],
   "source": [
    "gnn = VanillaGNN(dataset.num_classes, 128, 1).to(device)\n",
    "print(gnn)\n",
    "\n",
    "gnn.fit(train_loader, epochs=25)"
   ]
  },
  {
   "cell_type": "code",
   "execution_count": 8,
   "metadata": {},
   "outputs": [
    {
     "name": "stdout",
     "output_type": "stream",
     "text": [
      "Total matched 2546 out of 2700 | Accuracy 94.2963 %\n"
     ]
    }
   ],
   "source": [
    "# testing\n",
    "torch.no_grad()\n",
    "torch.set_printoptions(profile=\"full\")\n",
    "\n",
    "total_matched = 0\n",
    "edge_index = dataset.edge_index.t().to(device)\n",
    "\n",
    "for batch in test_loader:\n",
    "    x = batch[0].to(device)\n",
    "    y = batch[1].to(device)\n",
    "    y = y.unsqueeze(0).reshape(-1, 1, 1).float()\n",
    "    predicted = gnn(x, edge_index)\n",
    "    # predicted = predicted.argmax(dim=1)\n",
    "    predicted = torch.round(predicted)\n",
    "    matched = (predicted == y).sum().item()\n",
    "    total_matched += matched\n",
    "    \n",
    "\n",
    "print(\"Total matched\", total_matched, \"out of\", len(test_dataset), \"| Accuracy\", round(total_matched/len(test_dataset) * 100, 4), \"%\")"
   ]
  },
  {
   "cell_type": "code",
   "execution_count": null,
   "metadata": {},
   "outputs": [],
   "source": []
  }
 ],
 "metadata": {
  "kernelspec": {
   "display_name": "cvf",
   "language": "python",
   "name": "python3"
  },
  "language_info": {
   "codemirror_mode": {
    "name": "ipython",
    "version": 3
   },
   "file_extension": ".py",
   "mimetype": "text/x-python",
   "name": "python",
   "nbconvert_exporter": "python",
   "pygments_lexer": "ipython3",
   "version": "3.12.2"
  }
 },
 "nbformat": 4,
 "nbformat_minor": 2
}
