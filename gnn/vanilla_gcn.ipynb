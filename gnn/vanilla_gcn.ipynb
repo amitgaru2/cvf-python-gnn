{
 "cells": [
  {
   "cell_type": "code",
   "execution_count": 1,
   "metadata": {},
   "outputs": [],
   "source": [
    "import torch\n",
    "\n",
    "\n",
    "from torch_geometric.nn import GCNConv\n",
    "from torch_geometric.utils import to_dense_adj\n",
    "from torch.utils.data import DataLoader, random_split"
   ]
  },
  {
   "cell_type": "code",
   "execution_count": 2,
   "metadata": {},
   "outputs": [],
   "source": [
    "from helpers import CVFConfigDataset"
   ]
  },
  {
   "cell_type": "code",
   "execution_count": 3,
   "metadata": {},
   "outputs": [],
   "source": [
    "class VanillaGNNLayer(torch.nn.Module):\n",
    "    def __init__(self, dim_in, dim_out):\n",
    "        super().__init__()\n",
    "        self.linear = torch.nn.Linear(dim_in, dim_out, bias=False)\n",
    "\n",
    "    def forward(self, x, adjacency):\n",
    "        x = self.linear(x)\n",
    "        # x = torch.sparse.mm(adjacency, x)\n",
    "        x = torch.matmul(adjacency, x)\n",
    "        return x"
   ]
  },
  {
   "cell_type": "code",
   "execution_count": 4,
   "metadata": {},
   "outputs": [],
   "source": [
    "# dataset = CVFConfigDataset(\n",
    "#     \"small_graph_test_config_rank_dataset.csv\", \"small_graph_edge_index.json\", 4\n",
    "# )\n",
    "# dataset = CVFConfigDataset(\n",
    "#     \"graph_1_config_rank_dataset.csv\", \"graph_1_edge_index.json\", 10\n",
    "# )\n",
    "# dataset = CVFConfigDataset(\n",
    "#     \"graph_4_config_rank_dataset.csv\", \"graph_4_edge_index.json\", 10\n",
    "# )\n",
    "dataset = CVFConfigDataset(\n",
    "    \"graph_5_config_rank_dataset.csv\", \"graph_5_edge_index.json\", 9\n",
    ")\n",
    "# train_size = int(0.75 * len(dataset))\n",
    "# test_size = len(dataset) - train_size\n",
    "# train_dataset, test_dataset = random_split(dataset, [train_size, test_size])\n",
    "\n",
    "# train_loader = DataLoader(train_dataset, batch_size=1, shuffle=True)\n",
    "# test_loader = DataLoader(test_dataset, batch_size=1, shuffle=False)\n",
    "data_loader = DataLoader(dataset, batch_size=531441, shuffle=False)"
   ]
  },
  {
   "cell_type": "code",
   "execution_count": 5,
   "metadata": {},
   "outputs": [],
   "source": [
    "# adjacency = to_dense_adj(dataset.edge_index.t().contiguous())[0]\n",
    "# adjacency += torch.eye(len(adjacency))\n",
    "# adjacency = adjacency.unsqueeze(0)\n",
    "# adjacency\n",
    "\n",
    "# dataset.edge_index"
   ]
  },
  {
   "cell_type": "code",
   "execution_count": 6,
   "metadata": {},
   "outputs": [],
   "source": [
    "class VanillaGNN(torch.nn.Module):\n",
    "    def __init__(self, dim_in, dim_h, dim_out):\n",
    "        super().__init__()\n",
    "        self.gcn1 = GCNConv(dim_in, dim_h)\n",
    "        self.gcn2 = GCNConv(dim_h, dim_h)\n",
    "        # self.gnn1 = VanillaGNN(dim_in, dim_h)\n",
    "        # self.gnn2 = VanillaGNN(dim_h, dim_h)\n",
    "        self.out = torch.nn.Linear(dim_h, dim_out)\n",
    "\n",
    "    # def forward_gnn(self, x, adjacency):\n",
    "    #     h = self.gnn1(x, adjacency)\n",
    "    #     h = torch.relu(h)\n",
    "    #     h = self.gnn2(h, adjacency)\n",
    "    #     h = torch.relu(h)\n",
    "    #     h = self.out(h)\n",
    "    #     # h = torch.sigmoid(h)\n",
    "    #     h = h.squeeze(-1)\n",
    "    #     return h\n",
    "\n",
    "    def forward(self, x, edge_index):\n",
    "        h = self.gcn1(x, edge_index)\n",
    "        h = torch.relu(h)\n",
    "        h = self.gcn2(h, edge_index)\n",
    "        h = torch.relu(h)\n",
    "        h = self.out(h)\n",
    "        # h = torch.sigmoid(h)\n",
    "        h = h.squeeze(-1)\n",
    "        return h\n",
    "\n",
    "    def fit(self, data_loader, epochs):\n",
    "        criterion = torch.nn.CrossEntropyLoss()\n",
    "        optimizer = torch.optim.Adam(self.parameters(), lr=0.01, weight_decay=5e-4)\n",
    "        self.train()\n",
    "        for epoch in range(1, epochs + 1):\n",
    "            avg_loss = 0\n",
    "            count = 0\n",
    "            for batch in data_loader:\n",
    "                x = batch[0]\n",
    "                y = batch[1]\n",
    "                # print(x)\n",
    "                # print(y)\n",
    "                optimizer.zero_grad()\n",
    "                out = self(x, dataset.edge_index.t())\n",
    "                # out = self(x, adjacency)\n",
    "                # print(\"output\", out, \"y\", y)\n",
    "                loss = criterion(out, y)\n",
    "                avg_loss += loss\n",
    "                count += 1\n",
    "                loss.backward()\n",
    "                optimizer.step()\n",
    "\n",
    "            print(\"Loss:\", avg_loss / count)\n"
   ]
  },
  {
   "cell_type": "code",
   "execution_count": 7,
   "metadata": {},
   "outputs": [
    {
     "name": "stdout",
     "output_type": "stream",
     "text": [
      "VanillaGNN(\n",
      "  (gcn1): GCNConv(9, 64)\n",
      "  (gcn2): GCNConv(64, 64)\n",
      "  (out): Linear(in_features=64, out_features=1, bias=True)\n",
      ")\n",
      "Loss: tensor(2.3010, grad_fn=<DivBackward0>)\n",
      "Loss: tensor(2.2808, grad_fn=<DivBackward0>)\n",
      "Loss: tensor(2.2580, grad_fn=<DivBackward0>)\n",
      "Loss: tensor(2.2272, grad_fn=<DivBackward0>)\n",
      "Loss: tensor(2.1861, grad_fn=<DivBackward0>)\n",
      "Loss: tensor(2.1344, grad_fn=<DivBackward0>)\n",
      "Loss: tensor(2.0738, grad_fn=<DivBackward0>)\n",
      "Loss: tensor(2.0121, grad_fn=<DivBackward0>)\n",
      "Loss: tensor(1.9636, grad_fn=<DivBackward0>)\n",
      "Loss: tensor(1.9451, grad_fn=<DivBackward0>)\n",
      "Loss: tensor(1.9469, grad_fn=<DivBackward0>)\n",
      "Loss: tensor(1.9298, grad_fn=<DivBackward0>)\n",
      "Loss: tensor(1.8910, grad_fn=<DivBackward0>)\n",
      "Loss: tensor(1.8514, grad_fn=<DivBackward0>)\n",
      "Loss: tensor(1.8268, grad_fn=<DivBackward0>)\n",
      "Loss: tensor(1.8135, grad_fn=<DivBackward0>)\n",
      "Loss: tensor(1.7990, grad_fn=<DivBackward0>)\n",
      "Loss: tensor(1.7684, grad_fn=<DivBackward0>)\n",
      "Loss: tensor(1.7223, grad_fn=<DivBackward0>)\n",
      "Loss: tensor(1.6798, grad_fn=<DivBackward0>)\n",
      "Loss: tensor(1.6564, grad_fn=<DivBackward0>)\n",
      "Loss: tensor(1.6425, grad_fn=<DivBackward0>)\n",
      "Loss: tensor(1.6249, grad_fn=<DivBackward0>)\n",
      "Loss: tensor(1.6113, grad_fn=<DivBackward0>)\n",
      "Loss: tensor(1.6073, grad_fn=<DivBackward0>)\n"
     ]
    }
   ],
   "source": [
    "gnn = VanillaGNN(dataset.num_classes, 64, 1)\n",
    "print(gnn)\n",
    "\n",
    "gnn.fit(data_loader, epochs=25)"
   ]
  },
  {
   "cell_type": "code",
   "execution_count": 8,
   "metadata": {},
   "outputs": [
    {
     "name": "stdout",
     "output_type": "stream",
     "text": [
      "Total matched 184785 | Accuracy 34.77 %\n"
     ]
    }
   ],
   "source": [
    "torch.set_printoptions(profile=\"full\")\n",
    "\n",
    "total_matched = 0\n",
    "\n",
    "for batch in data_loader:\n",
    "    x = batch[0]\n",
    "    y = batch[1]\n",
    "    predicted = gnn(x, dataset.edge_index.t())\n",
    "    predicted = predicted.argmax(dim=1)\n",
    "    matched = (predicted == y).sum().item()\n",
    "    total_matched += matched\n",
    "    # print(\"y\", y, \"predicted\", predicted, \"Matched\", matched)\n",
    "\n",
    "print(\"Total matched\", total_matched, \"| Accuracy\", round(total_matched/len(dataset), 4) * 100, \"%\")"
   ]
  },
  {
   "cell_type": "code",
   "execution_count": null,
   "metadata": {},
   "outputs": [],
   "source": [
    "gnn.fit(data_loader, epochs=25)"
   ]
  }
 ],
 "metadata": {
  "kernelspec": {
   "display_name": "cvf",
   "language": "python",
   "name": "python3"
  },
  "language_info": {
   "codemirror_mode": {
    "name": "ipython",
    "version": 3
   },
   "file_extension": ".py",
   "mimetype": "text/x-python",
   "name": "python",
   "nbconvert_exporter": "python",
   "pygments_lexer": "ipython3",
   "version": "3.12.2"
  }
 },
 "nbformat": 4,
 "nbformat_minor": 2
}
