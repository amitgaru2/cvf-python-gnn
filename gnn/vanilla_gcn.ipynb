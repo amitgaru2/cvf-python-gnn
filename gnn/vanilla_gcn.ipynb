{
 "cells": [
  {
   "cell_type": "code",
   "execution_count": 1,
   "metadata": {},
   "outputs": [],
   "source": [
    "import torch\n",
    "\n",
    "\n",
    "from torch_geometric.nn import GCNConv\n",
    "from torch_geometric.utils import to_dense_adj\n",
    "from torch.utils.data import DataLoader, random_split\n",
    "\n",
    "from torch_geometric.nn.pool import global_mean_pool, global_max_pool, global_add_pool"
   ]
  },
  {
   "cell_type": "code",
   "execution_count": 2,
   "metadata": {},
   "outputs": [],
   "source": [
    "from helpers import CVFConfigDataset"
   ]
  },
  {
   "cell_type": "code",
   "execution_count": 3,
   "metadata": {},
   "outputs": [],
   "source": [
    "class VanillaGNNLayer(torch.nn.Module):\n",
    "    def __init__(self, dim_in, dim_out):\n",
    "        super().__init__()\n",
    "        self.linear = torch.nn.Linear(dim_in, dim_out, bias=False)\n",
    "\n",
    "    def forward(self, x, adjacency):\n",
    "        x = self.linear(x)\n",
    "        # x = torch.sparse.mm(adjacency, x)\n",
    "        x = torch.matmul(adjacency, x)\n",
    "        return x"
   ]
  },
  {
   "cell_type": "code",
   "execution_count": 4,
   "metadata": {},
   "outputs": [],
   "source": [
    "# dataset = CVFConfigDataset(\n",
    "#     \"small_graph_test_config_rank_dataset.csv\", \"small_graph_edge_index.json\", 4\n",
    "# )\n",
    "dataset = CVFConfigDataset(\n",
    "    \"graph_1_config_rank_dataset.csv\", \"graph_1_edge_index.json\", 10\n",
    ")\n",
    "# dataset = CVFConfigDataset(\n",
    "#     \"graph_4_config_rank_dataset.csv\", \"graph_4_edge_index.json\", 10\n",
    "# )\n",
    "# dataset = CVFConfigDataset(\n",
    "#     \"graph_5_config_rank_dataset.csv\", \"graph_5_edge_index.json\", 9\n",
    "# )\n",
    "train_size = int(0.75 * len(dataset))\n",
    "test_size = len(dataset) - train_size\n",
    "train_dataset, test_dataset = random_split(dataset, [train_size, test_size])\n",
    "\n",
    "train_loader = DataLoader(train_dataset, batch_size=32, shuffle=True)\n",
    "test_loader = DataLoader(test_dataset, batch_size=32, shuffle=False)\n",
    "# data_loader = DataLoader(dataset, batch_size=128, shuffle=False)"
   ]
  },
  {
   "cell_type": "code",
   "execution_count": 5,
   "metadata": {},
   "outputs": [
    {
     "data": {
      "text/plain": [
       "device(type='cuda')"
      ]
     },
     "execution_count": 5,
     "metadata": {},
     "output_type": "execute_result"
    }
   ],
   "source": [
    "device = torch.device('cuda' if torch.cuda.is_available() else 'cpu')\n",
    "device"
   ]
  },
  {
   "cell_type": "code",
   "execution_count": 6,
   "metadata": {},
   "outputs": [],
   "source": [
    "# adjacency = to_dense_adj(dataset.edge_index.t().contiguous())[0]\n",
    "# adjacency += torch.eye(len(adjacency))\n",
    "# adjacency = adjacency.unsqueeze(0)\n",
    "# adjacency\n",
    "\n",
    "# dataset.edge_index"
   ]
  },
  {
   "cell_type": "code",
   "execution_count": 7,
   "metadata": {},
   "outputs": [],
   "source": [
    "class VanillaGNN(torch.nn.Module):\n",
    "    def __init__(self, dim_in, dim_h, dim_out):\n",
    "        super().__init__()\n",
    "        self.gcn1 = GCNConv(dim_in, dim_h)\n",
    "        self.gcn2 = GCNConv(dim_h, dim_h)\n",
    "        # self.gnn1 = VanillaGNN(dim_in, dim_h)\n",
    "        # self.gnn2 = VanillaGNN(dim_h, dim_h)\n",
    "        self.out = torch.nn.Linear(dim_h, dim_out)\n",
    "\n",
    "    # def forward_gnn(self, x, adjacency):\n",
    "    #     h = self.gnn1(x, adjacency)\n",
    "    #     h = torch.relu(h)\n",
    "    #     h = self.gnn2(h, adjacency)\n",
    "    #     h = torch.relu(h)\n",
    "    #     h = self.out(h)\n",
    "    #     # h = torch.sigmoid(h)\n",
    "    #     h = h.squeeze(-1)\n",
    "    #     return h\n",
    "\n",
    "    def forward(self, x, edge_index):\n",
    "        h = self.gcn1(x, edge_index)\n",
    "        h = torch.relu(h)\n",
    "        h = self.gcn2(h, edge_index)\n",
    "        h = torch.relu(h)\n",
    "        h = self.out(h)\n",
    "        # h = h.squeeze(-1)\n",
    "        # h = torch.relu(h)\n",
    "        # h  = torch.sigmoid(h)\n",
    "        h = global_mean_pool(h, torch.zeros(h.size(1)).to(device).long())\n",
    "        return h\n",
    "\n",
    "    def fit(self, data_loader, epochs):\n",
    "        # criterion = torch.nn.CrossEntrop yLoss()\n",
    "        criterion = torch.nn.MSELoss()\n",
    "        optimizer = torch.optim.Adam(self.parameters(), lr=0.01, weight_decay=5e-4)\n",
    "        self.train()\n",
    "        edge_index = dataset.edge_index.t().to(device)\n",
    "        for epoch in range(1, epochs + 1):\n",
    "            avg_loss = 0\n",
    "            count = 0\n",
    "            for batch in data_loader:\n",
    "                x = batch[0].to(device)\n",
    "                y = batch[1].to(device)\n",
    "                y = y.unsqueeze(0).reshape(-1, 1, 1).float()\n",
    "                # print(x)\n",
    "                # print(y)\n",
    "                optimizer.zero_grad()\n",
    "                out = self(x, edge_index)\n",
    "                # out = self(x, adjacency)\n",
    "                # print(\"output\", out, \"y\", y)\n",
    "                loss = criterion(out, y)\n",
    "                avg_loss += loss\n",
    "                count += 1\n",
    "                loss.backward()\n",
    "                optimizer.step()\n",
    "\n",
    "            print(\"Epoch\", epoch, \"| Loss:\", avg_loss / count)\n"
   ]
  },
  {
   "cell_type": "code",
   "execution_count": 8,
   "metadata": {},
   "outputs": [
    {
     "name": "stdout",
     "output_type": "stream",
     "text": [
      "VanillaGNN(\n",
      "  (gcn1): GCNConv(10, 64)\n",
      "  (gcn2): GCNConv(64, 64)\n",
      "  (out): Linear(in_features=64, out_features=1, bias=True)\n",
      ")\n",
      "Epoch 1 | Loss: tensor(1.2727, device='cuda:0', grad_fn=<DivBackward0>)\n",
      "Epoch 2 | Loss: tensor(0.4431, device='cuda:0', grad_fn=<DivBackward0>)\n",
      "Epoch 3 | Loss: tensor(0.2955, device='cuda:0', grad_fn=<DivBackward0>)\n",
      "Epoch 4 | Loss: tensor(0.2307, device='cuda:0', grad_fn=<DivBackward0>)\n",
      "Epoch 5 | Loss: tensor(0.1290, device='cuda:0', grad_fn=<DivBackward0>)\n",
      "Epoch 6 | Loss: tensor(0.1262, device='cuda:0', grad_fn=<DivBackward0>)\n",
      "Epoch 7 | Loss: tensor(0.0848, device='cuda:0', grad_fn=<DivBackward0>)\n",
      "Epoch 8 | Loss: tensor(0.0378, device='cuda:0', grad_fn=<DivBackward0>)\n",
      "Epoch 9 | Loss: tensor(0.0212, device='cuda:0', grad_fn=<DivBackward0>)\n",
      "Epoch 10 | Loss: tensor(0.0332, device='cuda:0', grad_fn=<DivBackward0>)\n",
      "Epoch 11 | Loss: tensor(0.0212, device='cuda:0', grad_fn=<DivBackward0>)\n",
      "Epoch 12 | Loss: tensor(0.0103, device='cuda:0', grad_fn=<DivBackward0>)\n",
      "Epoch 13 | Loss: tensor(0.0068, device='cuda:0', grad_fn=<DivBackward0>)\n",
      "Epoch 14 | Loss: tensor(0.0093, device='cuda:0', grad_fn=<DivBackward0>)\n",
      "Epoch 15 | Loss: tensor(0.0136, device='cuda:0', grad_fn=<DivBackward0>)\n",
      "Epoch 16 | Loss: tensor(0.0360, device='cuda:0', grad_fn=<DivBackward0>)\n",
      "Epoch 17 | Loss: tensor(0.0107, device='cuda:0', grad_fn=<DivBackward0>)\n",
      "Epoch 18 | Loss: tensor(0.0084, device='cuda:0', grad_fn=<DivBackward0>)\n",
      "Epoch 19 | Loss: tensor(0.0090, device='cuda:0', grad_fn=<DivBackward0>)\n",
      "Epoch 20 | Loss: tensor(0.0106, device='cuda:0', grad_fn=<DivBackward0>)\n",
      "Epoch 21 | Loss: tensor(0.0138, device='cuda:0', grad_fn=<DivBackward0>)\n",
      "Epoch 22 | Loss: tensor(0.0085, device='cuda:0', grad_fn=<DivBackward0>)\n",
      "Epoch 23 | Loss: tensor(0.0199, device='cuda:0', grad_fn=<DivBackward0>)\n",
      "Epoch 24 | Loss: tensor(0.0096, device='cuda:0', grad_fn=<DivBackward0>)\n",
      "Epoch 25 | Loss: tensor(0.0096, device='cuda:0', grad_fn=<DivBackward0>)\n",
      "Epoch 26 | Loss: tensor(0.0058, device='cuda:0', grad_fn=<DivBackward0>)\n",
      "Epoch 27 | Loss: tensor(0.0072, device='cuda:0', grad_fn=<DivBackward0>)\n",
      "Epoch 28 | Loss: tensor(0.0294, device='cuda:0', grad_fn=<DivBackward0>)\n",
      "Epoch 29 | Loss: tensor(0.0147, device='cuda:0', grad_fn=<DivBackward0>)\n",
      "Epoch 30 | Loss: tensor(0.0067, device='cuda:0', grad_fn=<DivBackward0>)\n",
      "Epoch 31 | Loss: tensor(0.0055, device='cuda:0', grad_fn=<DivBackward0>)\n",
      "Epoch 32 | Loss: tensor(0.0073, device='cuda:0', grad_fn=<DivBackward0>)\n",
      "Epoch 33 | Loss: tensor(0.0103, device='cuda:0', grad_fn=<DivBackward0>)\n",
      "Epoch 34 | Loss: tensor(0.0122, device='cuda:0', grad_fn=<DivBackward0>)\n",
      "Epoch 35 | Loss: tensor(0.0050, device='cuda:0', grad_fn=<DivBackward0>)\n",
      "Epoch 36 | Loss: tensor(0.0058, device='cuda:0', grad_fn=<DivBackward0>)\n",
      "Epoch 37 | Loss: tensor(0.0176, device='cuda:0', grad_fn=<DivBackward0>)\n",
      "Epoch 38 | Loss: tensor(0.0153, device='cuda:0', grad_fn=<DivBackward0>)\n",
      "Epoch 39 | Loss: tensor(0.0151, device='cuda:0', grad_fn=<DivBackward0>)\n",
      "Epoch 40 | Loss: tensor(0.0120, device='cuda:0', grad_fn=<DivBackward0>)\n",
      "Epoch 41 | Loss: tensor(0.0053, device='cuda:0', grad_fn=<DivBackward0>)\n",
      "Epoch 42 | Loss: tensor(0.0033, device='cuda:0', grad_fn=<DivBackward0>)\n",
      "Epoch 43 | Loss: tensor(0.0047, device='cuda:0', grad_fn=<DivBackward0>)\n",
      "Epoch 44 | Loss: tensor(0.0068, device='cuda:0', grad_fn=<DivBackward0>)\n",
      "Epoch 45 | Loss: tensor(0.0154, device='cuda:0', grad_fn=<DivBackward0>)\n",
      "Epoch 46 | Loss: tensor(0.0052, device='cuda:0', grad_fn=<DivBackward0>)\n",
      "Epoch 47 | Loss: tensor(0.0098, device='cuda:0', grad_fn=<DivBackward0>)\n",
      "Epoch 48 | Loss: tensor(0.0045, device='cuda:0', grad_fn=<DivBackward0>)\n",
      "Epoch 49 | Loss: tensor(0.0066, device='cuda:0', grad_fn=<DivBackward0>)\n",
      "Epoch 50 | Loss: tensor(0.0036, device='cuda:0', grad_fn=<DivBackward0>)\n",
      "Epoch 51 | Loss: tensor(0.0045, device='cuda:0', grad_fn=<DivBackward0>)\n",
      "Epoch 52 | Loss: tensor(0.0101, device='cuda:0', grad_fn=<DivBackward0>)\n",
      "Epoch 53 | Loss: tensor(0.0051, device='cuda:0', grad_fn=<DivBackward0>)\n",
      "Epoch 54 | Loss: tensor(0.0079, device='cuda:0', grad_fn=<DivBackward0>)\n",
      "Epoch 55 | Loss: tensor(0.0107, device='cuda:0', grad_fn=<DivBackward0>)\n",
      "Epoch 56 | Loss: tensor(0.0085, device='cuda:0', grad_fn=<DivBackward0>)\n",
      "Epoch 57 | Loss: tensor(0.0036, device='cuda:0', grad_fn=<DivBackward0>)\n",
      "Epoch 58 | Loss: tensor(0.0083, device='cuda:0', grad_fn=<DivBackward0>)\n",
      "Epoch 59 | Loss: tensor(0.0135, device='cuda:0', grad_fn=<DivBackward0>)\n",
      "Epoch 60 | Loss: tensor(0.0083, device='cuda:0', grad_fn=<DivBackward0>)\n",
      "Epoch 61 | Loss: tensor(0.0070, device='cuda:0', grad_fn=<DivBackward0>)\n",
      "Epoch 62 | Loss: tensor(0.0055, device='cuda:0', grad_fn=<DivBackward0>)\n",
      "Epoch 63 | Loss: tensor(0.0072, device='cuda:0', grad_fn=<DivBackward0>)\n",
      "Epoch 64 | Loss: tensor(0.0044, device='cuda:0', grad_fn=<DivBackward0>)\n",
      "Epoch 65 | Loss: tensor(0.0037, device='cuda:0', grad_fn=<DivBackward0>)\n",
      "Epoch 66 | Loss: tensor(0.0074, device='cuda:0', grad_fn=<DivBackward0>)\n",
      "Epoch 67 | Loss: tensor(0.0266, device='cuda:0', grad_fn=<DivBackward0>)\n",
      "Epoch 68 | Loss: tensor(0.0064, device='cuda:0', grad_fn=<DivBackward0>)\n",
      "Epoch 69 | Loss: tensor(0.0097, device='cuda:0', grad_fn=<DivBackward0>)\n",
      "Epoch 70 | Loss: tensor(0.0072, device='cuda:0', grad_fn=<DivBackward0>)\n",
      "Epoch 71 | Loss: tensor(0.0078, device='cuda:0', grad_fn=<DivBackward0>)\n",
      "Epoch 72 | Loss: tensor(0.0034, device='cuda:0', grad_fn=<DivBackward0>)\n",
      "Epoch 73 | Loss: tensor(0.0043, device='cuda:0', grad_fn=<DivBackward0>)\n",
      "Epoch 74 | Loss: tensor(0.0077, device='cuda:0', grad_fn=<DivBackward0>)\n",
      "Epoch 75 | Loss: tensor(0.0085, device='cuda:0', grad_fn=<DivBackward0>)\n",
      "Epoch 76 | Loss: tensor(0.0049, device='cuda:0', grad_fn=<DivBackward0>)\n",
      "Epoch 77 | Loss: tensor(0.0038, device='cuda:0', grad_fn=<DivBackward0>)\n",
      "Epoch 78 | Loss: tensor(0.0035, device='cuda:0', grad_fn=<DivBackward0>)\n",
      "Epoch 79 | Loss: tensor(0.0174, device='cuda:0', grad_fn=<DivBackward0>)\n",
      "Epoch 80 | Loss: tensor(0.0082, device='cuda:0', grad_fn=<DivBackward0>)\n",
      "Epoch 81 | Loss: tensor(0.0170, device='cuda:0', grad_fn=<DivBackward0>)\n",
      "Epoch 82 | Loss: tensor(0.0033, device='cuda:0', grad_fn=<DivBackward0>)\n",
      "Epoch 83 | Loss: tensor(0.0025, device='cuda:0', grad_fn=<DivBackward0>)\n",
      "Epoch 84 | Loss: tensor(0.0037, device='cuda:0', grad_fn=<DivBackward0>)\n",
      "Epoch 85 | Loss: tensor(0.0053, device='cuda:0', grad_fn=<DivBackward0>)\n",
      "Epoch 86 | Loss: tensor(0.0035, device='cuda:0', grad_fn=<DivBackward0>)\n",
      "Epoch 87 | Loss: tensor(0.0241, device='cuda:0', grad_fn=<DivBackward0>)\n",
      "Epoch 88 | Loss: tensor(0.0032, device='cuda:0', grad_fn=<DivBackward0>)\n",
      "Epoch 89 | Loss: tensor(0.0024, device='cuda:0', grad_fn=<DivBackward0>)\n",
      "Epoch 90 | Loss: tensor(0.0083, device='cuda:0', grad_fn=<DivBackward0>)\n",
      "Epoch 91 | Loss: tensor(0.0075, device='cuda:0', grad_fn=<DivBackward0>)\n",
      "Epoch 92 | Loss: tensor(0.0042, device='cuda:0', grad_fn=<DivBackward0>)\n",
      "Epoch 93 | Loss: tensor(0.0028, device='cuda:0', grad_fn=<DivBackward0>)\n",
      "Epoch 94 | Loss: tensor(0.0044, device='cuda:0', grad_fn=<DivBackward0>)\n",
      "Epoch 95 | Loss: tensor(0.0224, device='cuda:0', grad_fn=<DivBackward0>)\n",
      "Epoch 96 | Loss: tensor(0.0021, device='cuda:0', grad_fn=<DivBackward0>)\n",
      "Epoch 97 | Loss: tensor(0.0036, device='cuda:0', grad_fn=<DivBackward0>)\n",
      "Epoch 98 | Loss: tensor(0.0067, device='cuda:0', grad_fn=<DivBackward0>)\n",
      "Epoch 99 | Loss: tensor(0.0039, device='cuda:0', grad_fn=<DivBackward0>)\n",
      "Epoch 100 | Loss: tensor(0.0024, device='cuda:0', grad_fn=<DivBackward0>)\n"
     ]
    }
   ],
   "source": [
    "gnn = VanillaGNN(dataset.num_classes, 64, 1).to(device)\n",
    "print(gnn)\n",
    "\n",
    "gnn.fit(train_loader, epochs=100)"
   ]
  },
  {
   "cell_type": "code",
   "execution_count": 9,
   "metadata": {},
   "outputs": [
    {
     "name": "stdout",
     "output_type": "stream",
     "text": [
      "Total matched 1279 | Accuracy 99.9219 %\n"
     ]
    }
   ],
   "source": [
    "# testing\n",
    "torch.no_grad()\n",
    "torch.set_printoptions(profile=\"full\")\n",
    "\n",
    "total_matched = 0\n",
    "edge_index = dataset.edge_index.t().to(device)\n",
    "\n",
    "for batch in test_loader:\n",
    "    x = batch[0].to(device)\n",
    "    y = batch[1].to(device)\n",
    "    y = y.unsqueeze(0).reshape(-1, 1, 1).float()\n",
    "    predicted = gnn(x, edge_index)\n",
    "    # predicted = predicted.argmax(dim=1)\n",
    "    predicted = torch.round(predicted)\n",
    "    matched = (predicted == y).sum().item()\n",
    "    total_matched += matched\n",
    "    \n",
    "\n",
    "print(\"Total matched\", total_matched, \"| Accuracy\", round(total_matched/len(test_dataset) * 100, 4), \"%\")"
   ]
  },
  {
   "cell_type": "code",
   "execution_count": 10,
   "metadata": {},
   "outputs": [],
   "source": [
    "# gnn.fit(data_loader, epochs=25)"
   ]
  },
  {
   "cell_type": "code",
   "execution_count": null,
   "metadata": {},
   "outputs": [],
   "source": []
  }
 ],
 "metadata": {
  "kernelspec": {
   "display_name": "cvf",
   "language": "python",
   "name": "python3"
  },
  "language_info": {
   "codemirror_mode": {
    "name": "ipython",
    "version": 3
   },
   "file_extension": ".py",
   "mimetype": "text/x-python",
   "name": "python",
   "nbconvert_exporter": "python",
   "pygments_lexer": "ipython3",
   "version": "3.12.2"
  }
 },
 "nbformat": 4,
 "nbformat_minor": 2
}
