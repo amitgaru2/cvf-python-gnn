{
 "cells": [
  {
   "cell_type": "code",
   "execution_count": 1,
   "metadata": {},
   "outputs": [],
   "source": [
    "import torch\n",
    "\n",
    "\n",
    "from torch_geometric.nn import GCNConv\n",
    "from torch_geometric.utils import to_dense_adj\n",
    "from torch.utils.data import DataLoader, random_split\n",
    "\n",
    "from torch_geometric.nn.pool import global_mean_pool, global_max_pool, global_add_pool"
   ]
  },
  {
   "cell_type": "code",
   "execution_count": 2,
   "metadata": {},
   "outputs": [],
   "source": [
    "from helpers import CVFConfigDataset"
   ]
  },
  {
   "cell_type": "code",
   "execution_count": 3,
   "metadata": {},
   "outputs": [],
   "source": [
    "class VanillaGNNLayer(torch.nn.Module):\n",
    "    def __init__(self, dim_in, dim_out):\n",
    "        super().__init__()\n",
    "        self.linear = torch.nn.Linear(dim_in, dim_out, bias=False)\n",
    "\n",
    "    def forward(self, x, adjacency):\n",
    "        x = self.linear(x)\n",
    "        # x = torch.sparse.mm(adjacency, x)\n",
    "        x = torch.matmul(adjacency, x)\n",
    "        return x"
   ]
  },
  {
   "cell_type": "code",
   "execution_count": 4,
   "metadata": {},
   "outputs": [],
   "source": [
    "dataset = CVFConfigDataset(\n",
    "    \"small_graph_test_config_rank_dataset.csv\", \"small_graph_edge_index.json\", 4\n",
    ")\n",
    "# dataset = CVFConfigDataset(\n",
    "#     \"graph_1_config_rank_dataset.csv\", \"graph_1_edge_index.json\", 10\n",
    "# )\n",
    "# dataset = CVFConfigDataset(\n",
    "#     \"graph_4_config_rank_dataset.csv\", \"graph_4_edge_index.json\", 10\n",
    "# )\n",
    "dataset = CVFConfigDataset(\n",
    "    \"graph_5_config_rank_dataset.csv\", \"graph_5_edge_index.json\", 9\n",
    ")\n",
    "train_size = int(0.75 * len(dataset))\n",
    "test_size = len(dataset) - train_size\n",
    "train_dataset, test_dataset = random_split(dataset, [train_size, test_size])\n",
    "\n",
    "train_loader = DataLoader(train_dataset, batch_size=64, shuffle=True)\n",
    "test_loader = DataLoader(test_dataset, batch_size=64, shuffle=False)\n",
    "# data_loader = DataLoader(dataset, batch_size=128, shuffle=False)"
   ]
  },
  {
   "cell_type": "code",
   "execution_count": 5,
   "metadata": {},
   "outputs": [
    {
     "data": {
      "text/plain": [
       "device(type='cuda')"
      ]
     },
     "execution_count": 5,
     "metadata": {},
     "output_type": "execute_result"
    }
   ],
   "source": [
    "device = torch.device('cuda' if torch.cuda.is_available() else 'cpu')\n",
    "device"
   ]
  },
  {
   "cell_type": "code",
   "execution_count": 6,
   "metadata": {},
   "outputs": [],
   "source": [
    "class VanillaGNN(torch.nn.Module):\n",
    "    def __init__(self, dim_in, dim_h, dim_out):\n",
    "        super().__init__()\n",
    "        self.gcn1 = GCNConv(dim_in, dim_h)\n",
    "        self.gcn2 = GCNConv(dim_h, dim_h)\n",
    "        self.out = torch.nn.Linear(dim_h, dim_out)\n",
    "\n",
    "    def forward(self, x, edge_index):\n",
    "        h = self.gcn1(x, edge_index)\n",
    "        h = torch.relu(h)\n",
    "        h = self.gcn2(h, edge_index)\n",
    "        h = torch.relu(h)\n",
    "        h = self.out(h)\n",
    "        h = global_mean_pool(h, torch.zeros(h.size(1)).to(device).long())\n",
    "        return h\n",
    "\n",
    "    def fit(self, data_loader, epochs):\n",
    "        # criterion = torch.nn.CrossEntrop yLoss()\n",
    "        criterion = torch.nn.MSELoss()\n",
    "        optimizer = torch.optim.Adam(self.parameters(), lr=0.01, weight_decay=5e-4)\n",
    "        self.train()\n",
    "        edge_index = dataset.edge_index.t().to(device)\n",
    "        for epoch in range(1, epochs + 1):\n",
    "            avg_loss = 0\n",
    "            count = 0\n",
    "            for batch in data_loader:\n",
    "                x = batch[0].to(device)\n",
    "                y = batch[1].to(device)\n",
    "                y = y.unsqueeze(0).reshape(-1, 1, 1).float()\n",
    "                optimizer.zero_grad()\n",
    "                out = self(x, edge_index)\n",
    "                # print(\"output\", out, \"y\", y)\n",
    "                loss = criterion(out, y)\n",
    "                avg_loss += loss\n",
    "                count += 1\n",
    "                loss.backward()\n",
    "                optimizer.step()\n",
    "\n",
    "            print(\"Epoch\", epoch, \"| Loss:\", avg_loss / count)\n"
   ]
  },
  {
   "cell_type": "code",
   "execution_count": 7,
   "metadata": {},
   "outputs": [
    {
     "name": "stdout",
     "output_type": "stream",
     "text": [
      "VanillaGNN(\n",
      "  (gcn1): GCNConv(9, 64)\n",
      "  (gcn2): GCNConv(64, 64)\n",
      "  (out): Linear(in_features=64, out_features=1, bias=True)\n",
      ")\n",
      "Epoch 1 | Loss: tensor(0.1851, device='cuda:0', grad_fn=<DivBackward0>)\n",
      "Epoch 2 | Loss: tensor(0.0151, device='cuda:0', grad_fn=<DivBackward0>)\n",
      "Epoch 3 | Loss: tensor(0.0123, device='cuda:0', grad_fn=<DivBackward0>)\n",
      "Epoch 4 | Loss: tensor(0.0099, device='cuda:0', grad_fn=<DivBackward0>)\n",
      "Epoch 5 | Loss: tensor(0.0096, device='cuda:0', grad_fn=<DivBackward0>)\n",
      "Epoch 6 | Loss: tensor(0.0087, device='cuda:0', grad_fn=<DivBackward0>)\n",
      "Epoch 7 | Loss: tensor(0.0079, device='cuda:0', grad_fn=<DivBackward0>)\n",
      "Epoch 8 | Loss: tensor(0.0090, device='cuda:0', grad_fn=<DivBackward0>)\n",
      "Epoch 9 | Loss: tensor(0.0079, device='cuda:0', grad_fn=<DivBackward0>)\n",
      "Epoch 10 | Loss: tensor(0.0076, device='cuda:0', grad_fn=<DivBackward0>)\n",
      "Epoch 11 | Loss: tensor(0.0081, device='cuda:0', grad_fn=<DivBackward0>)\n",
      "Epoch 12 | Loss: tensor(0.0073, device='cuda:0', grad_fn=<DivBackward0>)\n",
      "Epoch 13 | Loss: tensor(0.0070, device='cuda:0', grad_fn=<DivBackward0>)\n",
      "Epoch 14 | Loss: tensor(0.0070, device='cuda:0', grad_fn=<DivBackward0>)\n",
      "Epoch 15 | Loss: tensor(0.0066, device='cuda:0', grad_fn=<DivBackward0>)\n",
      "Epoch 16 | Loss: tensor(0.0060, device='cuda:0', grad_fn=<DivBackward0>)\n",
      "Epoch 17 | Loss: tensor(0.0062, device='cuda:0', grad_fn=<DivBackward0>)\n",
      "Epoch 18 | Loss: tensor(0.0061, device='cuda:0', grad_fn=<DivBackward0>)\n",
      "Epoch 19 | Loss: tensor(0.0058, device='cuda:0', grad_fn=<DivBackward0>)\n",
      "Epoch 20 | Loss: tensor(0.0058, device='cuda:0', grad_fn=<DivBackward0>)\n",
      "Epoch 21 | Loss: tensor(0.0057, device='cuda:0', grad_fn=<DivBackward0>)\n",
      "Epoch 22 | Loss: tensor(0.0057, device='cuda:0', grad_fn=<DivBackward0>)\n",
      "Epoch 23 | Loss: tensor(0.0056, device='cuda:0', grad_fn=<DivBackward0>)\n",
      "Epoch 24 | Loss: tensor(0.0055, device='cuda:0', grad_fn=<DivBackward0>)\n",
      "Epoch 25 | Loss: tensor(0.0055, device='cuda:0', grad_fn=<DivBackward0>)\n"
     ]
    }
   ],
   "source": [
    "gnn = VanillaGNN(dataset.num_classes, 64, 1).to(device)\n",
    "print(gnn)\n",
    "\n",
    "gnn.fit(train_loader, epochs=25)"
   ]
  },
  {
   "cell_type": "code",
   "execution_count": 8,
   "metadata": {},
   "outputs": [
    {
     "name": "stdout",
     "output_type": "stream",
     "text": [
      "Total matched 132652 out of 132861 | Accuracy 99.8427 %\n"
     ]
    }
   ],
   "source": [
    "# testing\n",
    "torch.no_grad()\n",
    "torch.set_printoptions(profile=\"full\")\n",
    "\n",
    "total_matched = 0\n",
    "edge_index = dataset.edge_index.t().to(device)\n",
    "\n",
    "for batch in test_loader:\n",
    "    x = batch[0].to(device)\n",
    "    y = batch[1].to(device)\n",
    "    y = y.unsqueeze(0).reshape(-1, 1, 1).float()\n",
    "    predicted = gnn(x, edge_index)\n",
    "    # predicted = predicted.argmax(dim=1)\n",
    "    predicted = torch.round(predicted)\n",
    "    matched = (predicted == y).sum().item()\n",
    "    total_matched += matched\n",
    "    \n",
    "\n",
    "print(\"Total matched\", total_matched, \"out of\", len(test_dataset), \"| Accuracy\", round(total_matched/len(test_dataset) * 100, 4), \"%\")"
   ]
  },
  {
   "cell_type": "code",
   "execution_count": null,
   "metadata": {},
   "outputs": [],
   "source": []
  }
 ],
 "metadata": {
  "kernelspec": {
   "display_name": "cvf",
   "language": "python",
   "name": "python3"
  },
  "language_info": {
   "codemirror_mode": {
    "name": "ipython",
    "version": 3
   },
   "file_extension": ".py",
   "mimetype": "text/x-python",
   "name": "python",
   "nbconvert_exporter": "python",
   "pygments_lexer": "ipython3",
   "version": "3.12.2"
  }
 },
 "nbformat": 4,
 "nbformat_minor": 2
}
