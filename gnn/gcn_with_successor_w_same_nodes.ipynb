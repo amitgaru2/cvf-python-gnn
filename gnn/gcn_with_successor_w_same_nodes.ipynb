{
 "cells": [
  {
   "cell_type": "code",
   "execution_count": 1,
   "metadata": {},
   "outputs": [],
   "source": [
    "import torch\n",
    "\n",
    "from torch_geometric.nn.pool import global_mean_pool\n",
    "from torch.utils.data import ConcatDataset, DataLoader, random_split"
   ]
  },
  {
   "cell_type": "code",
   "execution_count": 2,
   "metadata": {},
   "outputs": [],
   "source": [
    "from models_by_hand import GCNConvByHand\n",
    "from helpers import CVFConfigForGCNWSuccWEIDataset"
   ]
  },
  {
   "cell_type": "code",
   "execution_count": 3,
   "metadata": {},
   "outputs": [
    {
     "data": {
      "text/plain": [
       "device(type='cuda')"
      ]
     },
     "execution_count": 3,
     "metadata": {},
     "output_type": "execute_result"
    }
   ],
   "source": [
    "device = torch.device('cuda' if torch.cuda.is_available() else 'cpu')\n",
    "device"
   ]
  },
  {
   "cell_type": "code",
   "execution_count": 4,
   "metadata": {},
   "outputs": [],
   "source": [
    "EPS = 1e-10"
   ]
  },
  {
   "cell_type": "code",
   "execution_count": 5,
   "metadata": {},
   "outputs": [],
   "source": [
    "dataset_s_n7 = CVFConfigForGCNWSuccWEIDataset(\n",
    "    device,\n",
    "    \"star_graph_n7_config_rank_dataset.csv\",\n",
    "    \"star_graph_n7_edge_index.json\",\n",
    ")\n",
    "\n",
    "dataset_rr_n7 = CVFConfigForGCNWSuccWEIDataset(\n",
    "    device,\n",
    "    \"graph_random_regular_graph_n7_d4_config_rank_dataset.csv\",\n",
    "    \"graph_random_regular_graph_n7_d4_edge_index.json\",\n",
    ")\n",
    "\n",
    "dataset_plc_n7 = CVFConfigForGCNWSuccWEIDataset(\n",
    "    device,\n",
    "    \"graph_powerlaw_cluster_graph_n7_config_rank_dataset.csv\",\n",
    "    \"graph_powerlaw_cluster_graph_n7_edge_index.json\",\n",
    ")\n",
    "\n",
    "\n",
    "batch_size = 64\n",
    "\n",
    "dataset_coll = [\n",
    "    dataset_s_n7,\n",
    "    dataset_rr_n7,\n",
    "    dataset_plc_n7,\n",
    "]"
   ]
  },
  {
   "cell_type": "code",
   "execution_count": 6,
   "metadata": {},
   "outputs": [],
   "source": [
    "train_sizes = [int(0.95 * len(ds)) for ds in dataset_coll]\n",
    "test_sizes = [len(ds) - trs for ds, trs in zip(dataset_coll, train_sizes)]\n",
    "\n",
    "train_test_datasets = [\n",
    "    random_split(ds, [tr_s, ts])\n",
    "    for ds, tr_s, ts in zip(dataset_coll, train_sizes, test_sizes)\n",
    "]\n",
    "\n",
    "train_datasets = [ds[0] for ds in train_test_datasets]\n",
    "test_datasets = [ds[1] for ds in train_test_datasets]"
   ]
  },
  {
   "cell_type": "code",
   "execution_count": 7,
   "metadata": {},
   "outputs": [
    {
     "name": "stdout",
     "output_type": "stream",
     "text": [
      "Train Dataset size: 100,293\n"
     ]
    }
   ],
   "source": [
    "datasets = ConcatDataset(train_datasets)\n",
    "print(f\"Train Dataset size: {len(datasets):,}\")"
   ]
  },
  {
   "cell_type": "code",
   "execution_count": 8,
   "metadata": {},
   "outputs": [],
   "source": [
    "dataloader = DataLoader(datasets, batch_size=batch_size, shuffle=True)"
   ]
  },
  {
   "cell_type": "code",
   "execution_count": 9,
   "metadata": {},
   "outputs": [],
   "source": [
    "class VanillaGNN(torch.nn.Module):\n",
    "    def __init__(self, dim_in, dim_h, dim_out):\n",
    "        super().__init__()\n",
    "        self.gcn1 = GCNConvByHand(dim_in, dim_h, bias=False, device=device)\n",
    "        self.gcn2 = GCNConvByHand(dim_h, dim_h, bias=True, device=device)\n",
    "        # self.linear1 = torch.nn.Linear(dim_h, dim_h)\n",
    "        self.out = torch.nn.Linear(dim_h, dim_out)\n",
    "\n",
    "    @property\n",
    "    def edge_index(self):\n",
    "        return self._edge_index\n",
    "\n",
    "    @edge_index.setter\n",
    "    def edge_index(self, val):\n",
    "        self._edge_index = val\n",
    "\n",
    "    def forward(self, x, A):\n",
    "        h = self.gcn1(x, A)\n",
    "        h = torch.relu(h)\n",
    "        h = self.gcn2(h, A)\n",
    "        h = torch.relu(h)\n",
    "        # h = self.linear1(h)\n",
    "        # h = torch.relu(h)\n",
    "        h = self.out(h)\n",
    "        h = torch.relu(h)\n",
    "        h = global_mean_pool(h, torch.zeros(h.size(1)).to(device).long())\n",
    "        return h\n",
    "\n",
    "    def fit(self, epochs):\n",
    "        criterion = torch.nn.MSELoss()\n",
    "        optimizer = torch.optim.Adam(self.parameters(), lr=0.01, weight_decay=0.0001)\n",
    "        for epoch in range(1, epochs + 1):\n",
    "            self.train()\n",
    "            total_loss = 0\n",
    "            count = 0\n",
    "            relative_loss = 0\n",
    "            for batch in dataloader:\n",
    "                x = batch[0]\n",
    "                y = batch[1]\n",
    "                y = y.unsqueeze(-1)\n",
    "                optimizer.zero_grad()\n",
    "                out = self(x[0], x[1])\n",
    "                loss = criterion(out, y)\n",
    "                relative_loss += torch.sum(abs(y - out) / (y + EPS))\n",
    "                total_loss += loss\n",
    "                count += 1\n",
    "                loss.backward()\n",
    "                optimizer.step()\n",
    "\n",
    "            print(\n",
    "                \"Training set | Epoch\",\n",
    "                epoch,\n",
    "                \"| MSE Loss:\",\n",
    "                round((total_loss / count).item(), 4),\n",
    "                \"| Relative Loss:\",\n",
    "                round((relative_loss / count).item(), 4),\n",
    "            )"
   ]
  },
  {
   "cell_type": "code",
   "execution_count": 10,
   "metadata": {},
   "outputs": [
    {
     "name": "stdout",
     "output_type": "stream",
     "text": [
      "VanillaGNN(\n",
      "  (gcn1): GCNConvByHand(\n",
      "    (linear): Linear(in_features=3, out_features=32, bias=False)\n",
      "  )\n",
      "  (gcn2): GCNConvByHand(\n",
      "    (linear): Linear(in_features=32, out_features=32, bias=True)\n",
      "  )\n",
      "  (out): Linear(in_features=32, out_features=1, bias=True)\n",
      ")\n",
      "\n",
      "Total parameters: 1,185\n",
      "\n",
      "Training set | Epoch 1 | MSE Loss: 0.1661 | Relative Loss: 179637136.0\n",
      "Training set | Epoch 2 | MSE Loss: 0.0932 | Relative Loss: 58969104.0\n",
      "Training set | Epoch 3 | MSE Loss: 0.0898 | Relative Loss: 68663664.0\n",
      "Training set | Epoch 4 | MSE Loss: 0.0876 | Relative Loss: 62897060.0\n",
      "Training set | Epoch 5 | MSE Loss: 0.0879 | Relative Loss: 53749940.0\n",
      "Training set | Epoch 6 | MSE Loss: 0.0867 | Relative Loss: 58459272.0\n",
      "Training set | Epoch 7 | MSE Loss: 0.087 | Relative Loss: 74993880.0\n",
      "Training set | Epoch 8 | MSE Loss: 0.0857 | Relative Loss: 73188680.0\n",
      "Training set | Epoch 9 | MSE Loss: 0.0856 | Relative Loss: 59491428.0\n",
      "Training set | Epoch 10 | MSE Loss: 0.0854 | Relative Loss: 67203768.0\n",
      "Training set | Epoch 11 | MSE Loss: 0.085 | Relative Loss: 76768936.0\n",
      "Training set | Epoch 12 | MSE Loss: 0.0856 | Relative Loss: 75637584.0\n",
      "Training set | Epoch 13 | MSE Loss: 0.085 | Relative Loss: 76811104.0\n",
      "Training set | Epoch 14 | MSE Loss: 0.0845 | Relative Loss: 70036952.0\n",
      "Training set | Epoch 15 | MSE Loss: 0.0842 | Relative Loss: 83357440.0\n",
      "Training set | Epoch 16 | MSE Loss: 0.0847 | Relative Loss: 66023036.0\n",
      "Training set | Epoch 17 | MSE Loss: 0.0841 | Relative Loss: 67352552.0\n",
      "Training set | Epoch 18 | MSE Loss: 0.0847 | Relative Loss: 69416632.0\n",
      "Training set | Epoch 19 | MSE Loss: 0.0845 | Relative Loss: 72414368.0\n",
      "Training set | Epoch 20 | MSE Loss: 0.0848 | Relative Loss: 66213396.0\n"
     ]
    }
   ],
   "source": [
    "gnn = VanillaGNN(3, 32, 1).to(device)\n",
    "print(gnn)\n",
    "print()\n",
    "print(\"Total parameters:\", f\"{sum(p.numel() for p in gnn.parameters()):,}\")\n",
    "print()\n",
    "gnn.fit(epochs=20)"
   ]
  },
  {
   "cell_type": "markdown",
   "metadata": {},
   "source": [
    "# Testing"
   ]
  },
  {
   "cell_type": "code",
   "execution_count": 11,
   "metadata": {},
   "outputs": [
    {
     "name": "stdout",
     "output_type": "stream",
     "text": [
      "Test set | MSE loss: 0.0819 | Relative Loss: 4305738240.0 | Total matched 4725 out of 5280 (Accuracy: 89.49%)\n"
     ]
    }
   ],
   "source": [
    "import csv\n",
    "\n",
    "f = open(\"test_result_w_succ_same_nodes.csv\", \"w\", newline=\"\")\n",
    "csv_writer = csv.writer(f)\n",
    "csv_writer.writerow([\"Dataset\", \"Actual\", \"Predicted\"])\n",
    "\n",
    "criterion = torch.nn.MSELoss()\n",
    "\n",
    "gnn.eval()\n",
    "\n",
    "with torch.no_grad():\n",
    "    test_concat_datasets = ConcatDataset(test_datasets)\n",
    "    test_dataloader = DataLoader(\n",
    "        test_concat_datasets, batch_size=len(test_concat_datasets)\n",
    "    )\n",
    "    total_loss = 0\n",
    "    relative_loss = 0\n",
    "    total_matched = 0\n",
    "    count = 0\n",
    "    for batch in test_dataloader:\n",
    "        x = batch[0]\n",
    "        y = batch[1]\n",
    "        y = y.unsqueeze(-1)\n",
    "        out = gnn(x[0], x[1])\n",
    "        csv_writer.writerows(\n",
    "            (i, j.item(), k.item())\n",
    "            for (i, j, k) in zip(\n",
    "                x[2], y.detach().cpu().numpy(), out.detach().cpu().numpy()\n",
    "            )\n",
    "        )\n",
    "        loss = criterion(out, y)\n",
    "        # print(\"Loss: \", loss)\n",
    "        total_loss += loss\n",
    "        relative_loss += torch.sum(abs(y - out) / (y + EPS))\n",
    "        out = torch.round(out)\n",
    "        matched = (out == y).sum().item()\n",
    "        total_matched += matched\n",
    "        count += 1\n",
    "\n",
    "    print(\n",
    "        \"Test set\",\n",
    "        \"| MSE loss:\",\n",
    "        round((total_loss / count).item(), 4),\n",
    "        \"| Relative Loss:\",\n",
    "        round((relative_loss / count).item(), 4),\n",
    "        \"| Total matched\",\n",
    "        total_matched,\n",
    "        \"out of\",\n",
    "        len(test_concat_datasets),\n",
    "        f\"(Accuracy: {round(total_matched/len(test_concat_datasets) * 100, 2)}%)\",\n",
    "    )\n",
    "\n",
    "f.close()"
   ]
  },
  {
   "cell_type": "markdown",
   "metadata": {},
   "source": [
    "# Testing with Untrained Datasets"
   ]
  },
  {
   "cell_type": "code",
   "execution_count": 14,
   "metadata": {},
   "outputs": [
    {
     "name": "stdout",
     "output_type": "stream",
     "text": [
      "Test set | graph_random_regular_graph_n8_d4 | MSE loss: 0.1581 | Relative Loss: 898.6819 | Total matched 307,853 out of 390,625 (Accuracy: 78.81%)\n"
     ]
    }
   ],
   "source": [
    "dataset_plc_n8 = CVFConfigForGCNWSuccWEIDataset(\n",
    "    device,\n",
    "    \"graph_powerlaw_cluster_graph_n8_config_rank_dataset.csv\",\n",
    "    \"graph_powerlaw_cluster_graph_n8_edge_index.json\",\n",
    ")\n",
    "\n",
    "dataset_rr_n8 = CVFConfigForGCNWSuccWEIDataset(\n",
    "    device,\n",
    "    \"graph_random_regular_graph_n8_d4_config_rank_dataset.csv\",\n",
    "    \"graph_random_regular_graph_n8_d4_edge_index.json\",\n",
    ")\n",
    "\n",
    "dataset_plc_n9 = CVFConfigForGCNWSuccWEIDataset(\n",
    "    device,\n",
    "    \"graph_powerlaw_cluster_graph_n9_config_rank_dataset.csv\",\n",
    "    \"graph_powerlaw_cluster_graph_n9_edge_index.json\",\n",
    ")\n",
    "\n",
    "dataset_s_n15 = CVFConfigForGCNWSuccWEIDataset(\n",
    "    device,\n",
    "    \"star_graph_n15_config_rank_dataset.csv\",\n",
    "    \"star_graph_n15_edge_index.json\",\n",
    ")\n",
    "\n",
    "dataset = dataset_rr_n8\n",
    "\n",
    "with torch.no_grad():\n",
    "    test_dataloader = DataLoader(dataset, batch_size=10240)\n",
    "    total_loss = 0\n",
    "    relative_loss = 0\n",
    "    total_matched = 0\n",
    "    count = 0\n",
    "    for batch in test_dataloader:\n",
    "        x = batch[0]\n",
    "        y = batch[1]\n",
    "        y = y.unsqueeze(-1)\n",
    "        out = gnn(x[0], x[1])\n",
    "        loss = criterion(out, y)\n",
    "        total_loss += loss\n",
    "        relative_loss += torch.sum(abs(y - out) / (y + EPS))\n",
    "        out = torch.round(out)\n",
    "        matched = (out == y).sum().item()\n",
    "        total_matched += matched\n",
    "        count += 1\n",
    "\n",
    "    print(\n",
    "        \"Test set\",\n",
    "        f\"| {dataset.dataset_name}\",\n",
    "        \"| MSE loss:\",\n",
    "        round((total_loss / count).item(), 4),\n",
    "        \"| Relative Loss:\",\n",
    "        round((relative_loss / count).item(), 4),\n",
    "        \"| Total matched\",\n",
    "        f\"{total_matched:,}\",\n",
    "        \"out of\",\n",
    "        f\"{len(dataset):,}\",\n",
    "        f\"(Accuracy: {round(total_matched/len(dataset) * 100, 2)}%)\",\n",
    "    )"
   ]
  },
  {
   "cell_type": "code",
   "execution_count": null,
   "metadata": {},
   "outputs": [],
   "source": []
  }
 ],
 "metadata": {
  "kernelspec": {
   "display_name": "cvf",
   "language": "python",
   "name": "python3"
  },
  "language_info": {
   "codemirror_mode": {
    "name": "ipython",
    "version": 3
   },
   "file_extension": ".py",
   "mimetype": "text/x-python",
   "name": "python",
   "nbconvert_exporter": "python",
   "pygments_lexer": "ipython3",
   "version": "3.12.2"
  }
 },
 "nbformat": 4,
 "nbformat_minor": 2
}
